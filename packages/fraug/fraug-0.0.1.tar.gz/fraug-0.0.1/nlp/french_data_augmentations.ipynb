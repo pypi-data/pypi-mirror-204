{
 "cells": [
  {
   "cell_type": "markdown",
   "metadata": {},
   "source": [
    "# Data augmentation in NLP"
   ]
  },
  {
   "cell_type": "code",
   "execution_count": 1,
   "metadata": {},
   "outputs": [],
   "source": [
    "text = \"\"\"Le pongiste français Alexis Lebrun, 19 ans, a réalisé un exploit ce vendredi 21 avril en battant le Chinois Fan Zhendong, numéro 1 mondial, en quarts de finale du tournoi WTT Champions de Macao, en Chine.\"\"\""
   ]
  },
  {
   "cell_type": "code",
   "execution_count": null,
   "metadata": {},
   "outputs": [],
   "source": []
  },
  {
   "cell_type": "markdown",
   "metadata": {},
   "source": [
    "# 1 Lexical substitution\n",
    "## 1.1 Thesaurus-based\n",
    "### 1.1.1 Dictionary of synonyms"
   ]
  },
  {
   "cell_type": "code",
   "execution_count": 2,
   "metadata": {},
   "outputs": [],
   "source": [
    "import pandas as pd\n",
    "import numpy as np\n",
    "import random"
   ]
  },
  {
   "cell_type": "code",
   "execution_count": 3,
   "metadata": {},
   "outputs": [],
   "source": [
    "thesaurus = pd.read_csv(\"thesaurus_synonymes.csv\")"
   ]
  },
  {
   "cell_type": "code",
   "execution_count": 4,
   "metadata": {},
   "outputs": [],
   "source": [
    "# to reduce noise (e.g. without this, \"ampere\" replacing \"a\" appears in all words containing an \"a\")\n",
    "thesaurus = thesaurus[thesaurus['Noms'].apply(lambda x: len(x) >= 3)] "
   ]
  },
  {
   "cell_type": "code",
   "execution_count": 5,
   "metadata": {},
   "outputs": [
    {
     "name": "stdout",
     "output_type": "stream",
     "text": [
      "Le pongiste français Alexis Lebrun, 19 ans, a réalisé un exploit ce vendredi 21 avril en battant le Chinois Fan Zhendong, numéro 1 mondial, en quarts de finale du tournoi WTT Champions de Macao, en Chine.\n",
      " Le pongiste français Alexis Lebrun, 19 ans, a réalisé un exploit ce vendredi 21 avril en battant le Chinois Fan Zhendong, numéro 1 mondial, en quarts de finale du tournoi WTT Champions de Macao, en Chine.\n",
      "Wall time: 5.98 ms\n"
     ]
    }
   ],
   "source": [
    "%%time\n",
    "\n",
    "word_to_change = random.randint(0, len(text.replace(\",\",\"\").split())-1)\n",
    "while text.replace(\",\",\"\").split()[word_to_change] not in list(thesaurus.Noms):\n",
    "    word_to_change = random.randint(0, len(text.replace(\",\",\"\").split())-1)\n",
    "\n",
    "# original text\n",
    "print(text)\n",
    "\n",
    "# new text\n",
    "print(\" \"+text.replace(text.replace(\",\",\"\").split()[word_to_change]+\" \" , \" \"+random.choice(thesaurus[thesaurus.Noms == text.replace(\",\",\"\").split()[word_to_change]].Synonymes.iloc[0].split('|')[1:])+\" \"))"
   ]
  },
  {
   "cell_type": "code",
   "execution_count": 6,
   "metadata": {},
   "outputs": [],
   "source": [
    "def thesaurus_replacement(text, num):    \n",
    "    list_word_to_change = []\n",
    "    for word in range(num):\n",
    "        word_to_change = random.randint(0, len(text.replace(\",\",\"\").split())-1)\n",
    "        while text.replace(\",\",\"\").split()[word_to_change] not in list(thesaurus.Noms):\n",
    "            word_to_change = random.randint(0, len(text.replace(\",\",\"\").split())-1)\n",
    "        list_word_to_change.append(word_to_change)\n",
    "            \n",
    "    for word_to_change in list_word_to_change:\n",
    "        text = text.replace(\" \"+text.replace(\",\",\"\").split()[word_to_change]+\" \" , \" \"+random.choice(thesaurus[thesaurus.Noms == text.replace(\",\",\"\").split()[word_to_change]].Synonymes.iloc[0].split('|')[1:])+\" \")\n",
    "\n",
    "    return text"
   ]
  },
  {
   "cell_type": "code",
   "execution_count": 7,
   "metadata": {},
   "outputs": [
    {
     "name": "stdout",
     "output_type": "stream",
     "text": [
      "Le pongiste français Alexis Lebrun, 19 ans, a réalisé un exploit ce vendredi 21 avril en battant le Chinois Fan Zhendong, numéro 1 mondial, en quarts de finale du tournoi WTT Champions de Macao, en Chine.\n",
      "Le pongiste français Alexis Lebrun, 19 ans, a réalisé un concours ce vendredi 21 avril en battant le Chinois Fan Zhendong, numéro 1 mondial, en quarts de finale du tournoi WTT Champions de Macao, en Chine.\n",
      "Wall time: 12.1 ms\n"
     ]
    }
   ],
   "source": [
    "%%time\n",
    "# original text\n",
    "print(text)\n",
    "\n",
    "# new text\n",
    "print(thesaurus_replacement(text,3))"
   ]
  },
  {
   "cell_type": "code",
   "execution_count": null,
   "metadata": {},
   "outputs": [],
   "source": []
  },
  {
   "cell_type": "markdown",
   "metadata": {},
   "source": [
    "### 1.1.2 WordNet Thesaurus but in French (reuse in part 4.6)"
   ]
  },
  {
   "cell_type": "code",
   "execution_count": 8,
   "metadata": {},
   "outputs": [],
   "source": [
    "import nltk\n",
    "# nltk.download('omw-1.4')\n",
    "from nltk.corpus import wordnet\n",
    "from nltk.corpus import stopwords"
   ]
  },
  {
   "cell_type": "code",
   "execution_count": 9,
   "metadata": {},
   "outputs": [],
   "source": [
    "def get_synonyms(word):\n",
    "    synonyms = set()\n",
    "    \n",
    "    for syn in wordnet.synsets(word, lang='fra'): \n",
    "        for lem in syn.lemmas('fra'): \n",
    "            synonym = lem.name().replace(\"_\", \" \").replace(\"-\", \" \").lower()\n",
    "            synonym = \"\".join([char for char in synonym if char in ' azertyuiopqsdfghjklmwxcvbn'])\n",
    "            synonyms.add(synonym) \n",
    "    \n",
    "    if word in synonyms:\n",
    "        synonyms.remove(word)\n",
    "    \n",
    "    return list(synonyms)\n",
    "\n",
    "\n",
    "def wordnet_replacement(words, num):\n",
    "    words = words.split()\n",
    "    stop_words = set(stopwords.words('french'))\n",
    "    new_words = words.copy()\n",
    "    random_word_list = list(set([word for word in words if word not in stop_words]))\n",
    "    random.shuffle(random_word_list)\n",
    "    num_replaced = 0\n",
    "    \n",
    "    for random_word in random_word_list:\n",
    "        synonyms = get_synonyms(random_word)\n",
    "        \n",
    "        if len(synonyms) >= 1:\n",
    "            synonym = random.choice(list(synonyms))\n",
    "            new_words = [synonym if word == random_word else word for word in new_words]\n",
    "            num_replaced += 1\n",
    "        \n",
    "        if num_replaced >= num: # only replace up to n words\n",
    "            break\n",
    "\n",
    "    sentence = ' '.join(new_words)\n",
    "\n",
    "    return sentence"
   ]
  },
  {
   "cell_type": "code",
   "execution_count": 10,
   "metadata": {},
   "outputs": [
    {
     "name": "stdout",
     "output_type": "stream",
     "text": [
      "Le pongiste français Alexis Lebrun, 19 ans, a réalisé un exploit ce vendredi 21 avril en battant le Chinois Fan Zhendong, numéro 1 mondial, en quarts de finale du tournoi WTT Champions de Macao, en Chine.\n",
      "Le pongiste français Alexis Lebrun, 19 ans, a réalisé un effort ce vendredi vingt et un avril en battant le Chinois Fan Zhendong, proportion 1 mondial, en quarts de finale du tournoi WTT Champions de Macao, en Chine.\n",
      "Wall time: 1.5 s\n"
     ]
    }
   ],
   "source": [
    "%%time\n",
    "# original text\n",
    "print(text)\n",
    "\n",
    "# new text\n",
    "print(wordnet_replacement(text,3))"
   ]
  },
  {
   "cell_type": "code",
   "execution_count": null,
   "metadata": {},
   "outputs": [],
   "source": []
  },
  {
   "cell_type": "markdown",
   "metadata": {},
   "source": [
    "### 1.1.3 WoNef Thesaurus"
   ]
  },
  {
   "cell_type": "code",
   "execution_count": 11,
   "metadata": {},
   "outputs": [],
   "source": [
    "wonef = pd.read_csv(\"Wonef.csv\")"
   ]
  },
  {
   "cell_type": "code",
   "execution_count": 12,
   "metadata": {},
   "outputs": [],
   "source": [
    "# to reduce noise\n",
    "wonef = wonef[wonef['word'].apply(lambda x: len(str(x)) >= 3)] "
   ]
  },
  {
   "cell_type": "code",
   "execution_count": 13,
   "metadata": {},
   "outputs": [
    {
     "name": "stdout",
     "output_type": "stream",
     "text": [
      "Le pongiste français Alexis Lebrun, 19 ans, a réalisé un exploit ce vendredi 21 avril en battant le Chinois Fan Zhendong, numéro 1 mondial, en quarts de finale du tournoi WTT Champions de Macao, en Chine.\n",
      "Le pongiste français Alexis Lebrun, 19 ans, a réalisé un exploit ce vendredi 21 avril en battant le Chinois Fan Zhendong, nombre 1 mondial, en quarts de finale du tournoi WTT Champions de Macao, en Chine.\n",
      "Wall time: 9.98 ms\n"
     ]
    }
   ],
   "source": [
    "%%time\n",
    "word_to_change = random.randint(0, len(text.replace(\",\",\"\").split())-1)\n",
    "while text.replace(\",\",\"\").split()[word_to_change] not in list(wonef.word):\n",
    "    word_to_change = random.randint(0, len(text.replace(\",\",\"\").split())-1)\n",
    "\n",
    "# original text\n",
    "print(text)\n",
    "\n",
    "# new text\n",
    "print(text.replace(text.replace(\",\",\"\").split()[word_to_change], random.choice(wonef[wonef.word == text.replace(\",\",\"\").split()[word_to_change]].synonyms.iloc[0].split('|'))))"
   ]
  },
  {
   "cell_type": "code",
   "execution_count": 14,
   "metadata": {},
   "outputs": [],
   "source": [
    "def wonef_replacement(text, num):    \n",
    "    list_word_to_change = []\n",
    "    for word in range(num):\n",
    "        word_to_change = random.randint(0, len(text.replace(\",\",\"\").split())-1)\n",
    "        while text.replace(\",\",\"\").split()[word_to_change] not in list(wonef.word):\n",
    "            word_to_change = random.randint(0, len(text.replace(\",\",\"\").split())-1)\n",
    "        list_word_to_change.append(word_to_change)\n",
    "            \n",
    "    for word_to_change in list_word_to_change:\n",
    "        text = text.replace(\" \"+text.replace(\",\",\"\").split()[word_to_change] , \" \"+random.choice(wonef[wonef.word == text.replace(\",\",\"\").split()[word_to_change]].synonyms.iloc[0].split('|')))\n",
    "    return text"
   ]
  },
  {
   "cell_type": "code",
   "execution_count": 15,
   "metadata": {},
   "outputs": [
    {
     "name": "stdout",
     "output_type": "stream",
     "text": [
      "Le pongiste français Alexis Lebrun, 19 ans, a réalisé un exploit ce vendredi 21 avril en battant le Chinois Fan Zhendong, numéro 1 mondial, en quarts de finale du tournoi WTT Champions de Macao, en Chine.\n",
      "Le pongiste français Alexis Lebrun, 19 ans, a réalisé un réussite ce vendredi 21 avril en battant le Chinois Fan Zhendong, finalité 1 mondial, en quarts de finale du tournoi WTT Champions de Macao, en Chine.\n",
      "Wall time: 54.7 ms\n"
     ]
    }
   ],
   "source": [
    "%%time\n",
    "# original text\n",
    "print(text)\n",
    "\n",
    "# new text\n",
    "print(wonef_replacement(text,3))"
   ]
  },
  {
   "cell_type": "code",
   "execution_count": null,
   "metadata": {},
   "outputs": [],
   "source": []
  },
  {
   "cell_type": "code",
   "execution_count": null,
   "metadata": {},
   "outputs": [],
   "source": []
  },
  {
   "cell_type": "markdown",
   "metadata": {},
   "source": [
    "## 1.2 Based on word embedding"
   ]
  },
  {
   "cell_type": "markdown",
   "metadata": {},
   "source": [
    "### 1.2.1 Fauconnier"
   ]
  },
  {
   "cell_type": "code",
   "execution_count": 16,
   "metadata": {},
   "outputs": [],
   "source": [
    "from gensim.models import KeyedVectors"
   ]
  },
  {
   "cell_type": "markdown",
   "metadata": {},
   "source": [
    "The 20 models of https://fauconnier.github.io/#data :  \n",
    "12 trained on frWaC (https://wacky.sslmit.unibo.it/doku.php?id=corpora): a 1.6 billion word corpus built from the Web by limiting the exploration to the .fr domain and using medium frequency words from the Le Monde Diplomatique corpus and core French vocabulary lists as seeds. The dataset dates from 2008.\n",
    "- \"https://embeddings.net/embeddings/frWac_non_lem_no_postag_no_phrase_200_cbow_cut0.bin\" # (2.7Gb)  \n",
    "- \"https://embeddings.net/embeddings/frWac_non_lem_no_postag_no_phrase_200_cbow_cut100.bin\" # (120Mb)  \n",
    "- \"https://embeddings.net/embeddings/frWac_non_lem_no_postag_no_phrase_200_skip_cut100.bin\" # (120Mb)  \n",
    "- \"https://embeddings.net/embeddings/frWac_non_lem_no_postag_no_phrase_500_skip_cut100.bin\" # (298Mb)  \n",
    "- \"https://embeddings.net/embeddings/frWac_non_lem_no_postag_no_phrase_500_skip_cut200.bin\" # (202Mb)  \n",
    "- \"https://embeddings.net/embeddings/frWac_no_postag_no_phrase_500_cbow_cut100.bin\" # (229Mb)  \n",
    "- \"https://embeddings.net/embeddings/frWac_no_postag_no_phrase_500_skip_cut100.bin\" # (229Mb)  \n",
    "- \"https://embeddings.net/embeddings/frWac_no_postag_no_phrase_700_skip_cut50.bin\" # (494Mb)  \n",
    "- \"https://embeddings.net/embeddings/frWac_postag_no_phrase_700_skip_cut50.bin\" # (577Mb)  \n",
    "- \"https://embeddings.net/embeddings/frWac_postag_no_phrase_1000_skip_cut100.bin\" # (520Mb)  \n",
    "- \"https://embeddings.net/embeddings/frWac_no_postag_phrase_500_cbow_cut10.bin\" # (2Gb)  \n",
    "- \"https://embeddings.net/embeddings/frWac_no_postag_phrase_500_cbow_cut100.bin\" # (289Mb)  \n",
    "\n",
    "8 trained on FrWiki dump (https://dumps.wikimedia.org/frwiki/frwiki/), 600 million words. The dataset is from 2010.\n",
    "- \"https://embeddings.net/embeddings/frWiki_no_lem_no_postag_no_phrase_1000_cbow_cut100.bin\" # (253Mb)  \n",
    "- \"https://embeddings.net/embeddings/frWiki_no_lem_no_postag_no_phrase_1000_cbow_cut200.bin\" # (195Mb)  \n",
    "- \"https://embeddings.net/embeddings/frWiki_no_lem_no_postag_no_phrase_1000_skip_cut100.bin\" # (253Mb)  \n",
    "- \"https://embeddings.net/embeddings/frWiki_no_lem_no_postag_no_phrase_1000_skip_cut200.bin\" # (195Mb)  \n",
    "- \"https://embeddings.net/embeddings/frWiki_no_phrase_no_postag_500_cbow_cut10.bin\" # (128Mb)  \n",
    "- \"https://embeddings.net/embeddings/frWiki_no_phrase_no_postag_700_cbow_cut100.bin\" # (106Mb)  \n",
    "- \"https://embeddings.net/embeddings/frWiki_no_phrase_no_postag_1000_skip_cut100.bin\" # (151Mb)  \n",
    "- \"https://embeddings.net/embeddings/frWiki_no_phrase_no_postag_1000_skip_cut200.bin\" # (121Mb)  \n",
    "\n",
    "\n",
    "We can also mention:\n",
    "- The 2 (a general, a politician) proposed by a team of Polytechnique: http://nlp.polytechnique.fr/word2vec#french trained on 33Go of texts. Seems to date from 2021 (= the most recent). The resources are available for academic/non profit use by sending a request by email to mvazirg~lix.polytechnique.fr.\n",
    "- A trained model on Wikipedia 2018 lemmatized : https://zenodo.org/record/3241447#.ZD_iTs7P1PY"
   ]
  },
  {
   "cell_type": "code",
   "execution_count": 17,
   "metadata": {},
   "outputs": [],
   "source": [
    "model = KeyedVectors.load_word2vec_format(\"frWac_non_lem_no_postag_no_phrase_500_skip_cut200.bin\", binary=True, unicode_errors=\"ignore\")\n",
    "words = model.vocab.keys()"
   ]
  },
  {
   "cell_type": "code",
   "execution_count": 18,
   "metadata": {},
   "outputs": [
    {
     "name": "stdout",
     "output_type": "stream",
     "text": [
      "Le pongiste français Alexis Lebrun, 19 ans, a réalisé un exploit ce vendredi 21 avril en battant le Chinois Fan Zhendong, numéro 1 mondial, en quarts de finale du tournoi WTT Champions de Macao, en Chine.\n",
      "Le pongiste français Alexis Lebrun, 19 ans, a réalisé un exploit ce vdedredi 21 avril de battant le Chinois Fan Zhdedong, numéro 1 mondial, de quarts de finale du tournoi WTT Champions de Macao, de Chine.\n",
      "Wall time: 290 ms\n"
     ]
    }
   ],
   "source": [
    "%%time\n",
    "\n",
    "word_to_change = random.randint(0, len(text.replace(\",\",\"\").split())-1)\n",
    "\n",
    "while text.replace(\",\",\"\").split()[word_to_change] not in words:\n",
    "    word_to_change = random.randint(0, len(text.replace(\",\",\"\").split())-1)\n",
    "\n",
    "# original text\n",
    "print(text)\n",
    "\n",
    "# new text\n",
    "print(text.replace(text.replace(\",\",\"\").split()[word_to_change],model.most_similar(text.replace(\",\",\"\").split()[word_to_change])[0][0]))"
   ]
  },
  {
   "cell_type": "code",
   "execution_count": 19,
   "metadata": {},
   "outputs": [],
   "source": [
    "def word2vec_replacement(text, num, model_name):\n",
    "    model = KeyedVectors.load_word2vec_format(model_name, binary=True, unicode_errors=\"ignore\")\n",
    "    words = model.vocab.keys()\n",
    "    \n",
    "    list_word_to_change = []\n",
    "    for word in range(num):\n",
    "        index_to_change = random.randint(0, len(text.replace(\",\",\"\").split())-1)\n",
    "        # maybe add an additional condition verifying that the n randomly chosen numbers are all different\n",
    "        while text.replace(\",\",\"\").split()[index_to_change] not in words:\n",
    "            index_to_change = random.randint(0, len(text.replace(\",\",\"\").split())-1)\n",
    "        list_word_to_change.append(index_to_change)\n",
    "            \n",
    "    for word_to_change in list_word_to_change:\n",
    "        text = text.replace(text.replace(\",\",\"\").split()[word_to_change],model.most_similar(text.replace(\",\",\"\").split()[word_to_change])[0][0])\n",
    "\n",
    "    return text"
   ]
  },
  {
   "cell_type": "code",
   "execution_count": 20,
   "metadata": {},
   "outputs": [
    {
     "name": "stdout",
     "output_type": "stream",
     "text": [
      "Le pongiste français Alexis Lebrun, 19 ans, a réalisé un exploit ce vendredi 21 avril en battant le Chinois Fan Zhendong, numéro 1 mondial, en quarts de finale du tournoi WTT Champions de Macao, en Chine.\n",
      "Le pongiste français Alexis Lebrun, 19 ans, a réalisé un vainqueur ce vdedredi 21 avril de battant le Chinois Fan Zhdedong, numéro 1 mondiaux, de quarts de finale du tournoi WTT Champions de Macao, de Chine.\n",
      "Wall time: 925 ms\n"
     ]
    }
   ],
   "source": [
    "%%time\n",
    "# original text\n",
    "print(text)\n",
    "\n",
    "# new text\n",
    "print(word2vec_replacement(text, 3, \"frWac_non_lem_no_postag_no_phrase_500_skip_cut200.bin\"))"
   ]
  },
  {
   "cell_type": "code",
   "execution_count": null,
   "metadata": {},
   "outputs": [],
   "source": []
  },
  {
   "cell_type": "markdown",
   "metadata": {},
   "source": [
    "### 1.2.2 FastText"
   ]
  },
  {
   "cell_type": "code",
   "execution_count": 21,
   "metadata": {},
   "outputs": [],
   "source": [
    "# version with fasttext lib"
   ]
  },
  {
   "cell_type": "code",
   "execution_count": 22,
   "metadata": {},
   "outputs": [],
   "source": [
    "import fasttext"
   ]
  },
  {
   "cell_type": "code",
   "execution_count": 23,
   "metadata": {},
   "outputs": [
    {
     "name": "stderr",
     "output_type": "stream",
     "text": [
      "Warning : `load_model` does not return WordVectorModel or SupervisedModel any more, but a `FastText` object which is very similar.\n"
     ]
    }
   ],
   "source": [
    "# Models can be downloaded manually from https://fasttext.cc/docs/en/crawl-vectors.html\n",
    "model = fasttext.load_model('cc.fr.300.bin') # 7Go (much heavier than a transformer or another word2vec)\n",
    "\n",
    "# # We can also do\n",
    "# from huggingface_hub import hf_hub_download\n",
    "# model = hf_hub_download(repo_id=\"facebook/fasttext-fr-nearest-neighbors\", filename=\"model.bin\")"
   ]
  },
  {
   "cell_type": "code",
   "execution_count": 24,
   "metadata": {},
   "outputs": [
    {
     "name": "stdout",
     "output_type": "stream",
     "text": [
      "Le pongiste français Alexis Lebrun, 19 ans, a réalisé un exploit ce vendredi 21 avril en battant le Chinois Fan Zhendong, numéro 1 mondial, en quarts de finale du tournoi WTT Champions de Macao, en Chine.\n",
      "Le pongiste français Alexis Lebrun, 19 ans, a réalisé un exploit ce vendredi 21 avril en battant le Chinois Fan Zhendong, numéro 1 mondial, en quarts de finale le tournoi WTT Champions de Macao, en Chine.\n",
      "Wall time: 15.2 s\n"
     ]
    }
   ],
   "source": [
    "%%time\n",
    "word_to_change = random.randint(0, len(text.replace(\",\",\"\").split())-1)\n",
    "\n",
    "# original text\n",
    "print(text)\n",
    "\n",
    "# new text\n",
    "print(text.replace(text.split()[word_to_change],model.get_nearest_neighbors(text.split()[word_to_change])[0][1]))"
   ]
  },
  {
   "cell_type": "code",
   "execution_count": 25,
   "metadata": {},
   "outputs": [],
   "source": [
    "def fastext_replacement(text, num):\n",
    "    \n",
    "    list_word_to_change = []\n",
    "    for word in range(num):\n",
    "        list_word_to_change.append(random.randint(0, len(text.replace(\",\",\"\").split())-1)) \n",
    "        # maybe add an additional condition verifying that the n randomly chosen numbers are all different\n",
    "        \n",
    "    for word_to_change in list_word_to_change:\n",
    "        text = text.replace(text.split()[word_to_change],model.get_nearest_neighbors(text.split()[word_to_change])[0][1])\n",
    "\n",
    "    return text"
   ]
  },
  {
   "cell_type": "code",
   "execution_count": 26,
   "metadata": {},
   "outputs": [
    {
     "name": "stdout",
     "output_type": "stream",
     "text": [
      "Le pongiste français Alexis Lebrun, 19 ans, a réalisé un exploit ce vendredi 21 avril en battant le Chinois Fan Zhendong, numéro 1 mondial, en quarts de finale du tournoi WTT Champions de Macao, en Chine.\n",
      "Le pongiste français Alexis Lebrun, 22 ans, a réalisé un exploit ce vEndredi 21 avril En battant le Chinois Fan ZhEndong numéro 1 mondial, En quarts de finale du tournoi WTT Champions de Macao, En Chine.\n",
      "Wall time: 1.84 s\n"
     ]
    }
   ],
   "source": [
    "%%time\n",
    "# original text\n",
    "print(text)\n",
    "\n",
    "# new text\n",
    "print(fastext_replacement(text,3))"
   ]
  },
  {
   "cell_type": "code",
   "execution_count": null,
   "metadata": {},
   "outputs": [],
   "source": []
  },
  {
   "cell_type": "code",
   "execution_count": null,
   "metadata": {},
   "outputs": [],
   "source": []
  },
  {
   "cell_type": "markdown",
   "metadata": {},
   "source": [
    "## 1.3 Based on a masked language model (BERT)"
   ]
  },
  {
   "cell_type": "code",
   "execution_count": 27,
   "metadata": {},
   "outputs": [],
   "source": [
    "from transformers import pipeline"
   ]
  },
  {
   "cell_type": "code",
   "execution_count": 29,
   "metadata": {},
   "outputs": [],
   "source": [
    "camembert_fill_mask = pipeline(\"fill-mask\", model=\"camembert-base\", tokenizer=\"camembert-base\", top_k=7)"
   ]
  },
  {
   "cell_type": "code",
   "execution_count": 30,
   "metadata": {},
   "outputs": [],
   "source": [
    "# By modifying a random word"
   ]
  },
  {
   "cell_type": "code",
   "execution_count": 31,
   "metadata": {},
   "outputs": [
    {
     "name": "stdout",
     "output_type": "stream",
     "text": [
      "Le pongiste français Alexis Lebrun, 19 ans, a réalisé un exploit ce vendredi 21 avril en battant le Chinois Fan Zhendong, numéro 1 mondial, en quarts de finale du tournoi WTT Champions de Macao, en Chine.\n",
      "Le pongiste français Alexis Lebrun, 19 ans, a réalisé un exploit ce dimanche 21 avril en battant le Chinois Fan Zhendong, numéro 1 mondial, en quarts de finale du tournoi WTT Champions de Macao, en Chine.\n",
      "Wall time: 170 ms\n"
     ]
    }
   ],
   "source": [
    "%%time\n",
    "\n",
    "word_to_change = random.randint(0, len(text.replace(\",\",\"\").split())-1)\n",
    "new_text = []\n",
    "for word in range(len(text.split())):\n",
    "    if word == word_to_change :\n",
    "        new_text.append(text.split()[word].replace(text.split()[word_to_change],'<mask>'))\n",
    "    else :\n",
    "        new_text.append(text.split()[word])\n",
    "results = camembert_fill_mask(' '.join(new_text))\n",
    "\n",
    "# original text\n",
    "print(text)\n",
    "\n",
    "# new text\n",
    "if all(isinstance(elem, list) for elem in results):\n",
    "    # Sometimes the output from the pipeline is a single list containing the requested top_k and sometimes the pipeline returns a list of lists.\n",
    "    # So we must handle the two different cases.\n",
    "    if text.replace(\"\\n\",\"\") == results[0][0]['sequence']: # make sure that the new word chosen by CamemBERT is different from the one in the original text\n",
    "        print(results[0][random.randint(1,len(results)-1)]['sequence'])\n",
    "    else:\n",
    "        print(results[0][0]['sequence'])\n",
    "else :\n",
    "    if text.replace(\"\\n\",\"\") == results[0]['sequence']: # idem\n",
    "        print(results[random.randint(1,len(results)-1)]['sequence'])\n",
    "    else:\n",
    "        print(results[0]['sequence'])"
   ]
  },
  {
   "cell_type": "markdown",
   "metadata": {},
   "source": [
    "### TODO\n",
    "- Version where only specific words are modified via POS\n",
    "- Version where we can change several words and not only one  \n",
    "Indeed, the `fill-mask` pipeline only works for inputs with exactly one token masked. HF added an experimental option to support multiple masks.  \n",
    "The returned values are raw model output, and correspond to disjoint probabilities where one might expect joint probabilities.  \n",
    "See https://github.com/huggingface/transformers/pull/10222"
   ]
  },
  {
   "cell_type": "code",
   "execution_count": null,
   "metadata": {},
   "outputs": [],
   "source": []
  },
  {
   "cell_type": "code",
   "execution_count": null,
   "metadata": {},
   "outputs": [],
   "source": []
  },
  {
   "cell_type": "markdown",
   "metadata": {},
   "source": [
    "## 1.4 Based on a TF-IDF\n",
    "TODO"
   ]
  },
  {
   "cell_type": "code",
   "execution_count": null,
   "metadata": {},
   "outputs": [],
   "source": []
  },
  {
   "cell_type": "code",
   "execution_count": null,
   "metadata": {},
   "outputs": [],
   "source": []
  },
  {
   "cell_type": "code",
   "execution_count": null,
   "metadata": {},
   "outputs": [],
   "source": []
  },
  {
   "cell_type": "markdown",
   "metadata": {},
   "source": [
    "## 2. Back-translation"
   ]
  },
  {
   "cell_type": "markdown",
   "metadata": {},
   "source": [
    "### 2.1. Marian (Helsinki-NLP models)\n",
    "Full doc : https://huggingface.co/transformers/model_doc/marian.html "
   ]
  },
  {
   "cell_type": "code",
   "execution_count": 32,
   "metadata": {},
   "outputs": [],
   "source": [
    "from transformers import pipeline"
   ]
  },
  {
   "cell_type": "code",
   "execution_count": 33,
   "metadata": {},
   "outputs": [
    {
     "name": "stdout",
     "output_type": "stream",
     "text": [
      "Le pongiste français Alexis Lebrun, 19 ans, a réalisé un exploit ce vendredi 21 avril en battant le Chinois Fan Zhendong, numéro 1 mondial, en quarts de finale du tournoi WTT Champions de Macao, en Chine.\n",
      "Le pongiste français Alexis Lebrun, 19 ans, a fait un exploit ce vendredi 21 avril en battant le Chinois Fan Zhendong, leader mondial, en quart de finale du tournoi WTT Champions à Macao, en Chine.\n",
      "Wall time: 7.98 s\n"
     ]
    }
   ],
   "source": [
    "%%time\n",
    "fwd_scr = 'fr'  # source language\n",
    "fwd_trg = 'en'  # target language\n",
    "rev_scr = 'en'  # source language\n",
    "rev_trg = 'fr'  # target language\n",
    "\n",
    "forward_translator = pipeline(\"translation\", f'Helsinki-NLP/opus-mt-{fwd_scr}-{fwd_trg}', f'Helsinki-NLP/opus-mt-{fwd_scr}-{fwd_trg}')\n",
    "reverse_translator = pipeline(\"translation\", f'Helsinki-NLP/opus-mt-{rev_scr}-{rev_trg}', f'Helsinki-NLP/opus-mt-{rev_scr}-{rev_trg}')\n",
    "new_text = reverse_translator(forward_translator(text)[0]['translation_text'])\n",
    "\n",
    "# original text\n",
    "print(text)\n",
    "\n",
    "# new text\n",
    "print(new_text[0]['translation_text'])"
   ]
  },
  {
   "cell_type": "code",
   "execution_count": 34,
   "metadata": {},
   "outputs": [],
   "source": [
    "def backtranslation(text, scr_lang, trg_lang):\n",
    "    forward_translator = pipeline(\"translation\", f'Helsinki-NLP/opus-mt-{scr_lang}-{trg_lang}', f'Helsinki-NLP/opus-mt-{scr_lang}-{trg_lang}')\n",
    "    reverse_translator = pipeline(\"translation\", f'Helsinki-NLP/opus-mt-{trg_lang}-{scr_lang}', f'Helsinki-NLP/opus-mt-{trg_lang}-{scr_lang}')\n",
    "    new_text = reverse_translator(forward_translator(text)[0]['translation_text'])\n",
    "    return new_text[0]['translation_text']"
   ]
  },
  {
   "cell_type": "code",
   "execution_count": 35,
   "metadata": {},
   "outputs": [
    {
     "name": "stdout",
     "output_type": "stream",
     "text": [
      "Le pongiste français Alexis Lebrun, 19 ans, a réalisé un exploit ce vendredi 21 avril en battant le Chinois Fan Zhendong, numéro 1 mondial, en quarts de finale du tournoi WTT Champions de Macao, en Chine.\n",
      "Le pongiste français Alexis Lebrun, 19 ans, a fait un exploit ce vendredi 21 avril en battant le Chinois Fan Zhendong, leader mondial, en quart de finale du tournoi WTT Champions à Macao, en Chine.\n",
      "Wall time: 8.15 s\n"
     ]
    }
   ],
   "source": [
    "%%time\n",
    "\n",
    "# original text\n",
    "print(text)\n",
    "\n",
    "# new text\n",
    "print(backtranslation(text, \"fr\",\"en\"))"
   ]
  },
  {
   "cell_type": "code",
   "execution_count": null,
   "metadata": {},
   "outputs": [],
   "source": []
  },
  {
   "cell_type": "markdown",
   "metadata": {},
   "source": [
    "### 2.2.2 M2M100\n",
    "Full doc : https://huggingface.co/transformers/model_doc/m2m_100.html  \n",
    "Sumamry : a single model with about 400M parameters (proposed by Facebook) that manages about 100 languages  \n",
    "\n",
    "Two implementations are available: one based on the HF pipeline function, the other using the m2m100 model card code.  \n",
    "The pipeline seems to take much longer to run. So it may not be the best approach to take."
   ]
  },
  {
   "cell_type": "code",
   "execution_count": 36,
   "metadata": {},
   "outputs": [
    {
     "name": "stdout",
     "output_type": "stream",
     "text": [
      "Le pongiste français Alexis Lebrun, 19 ans, a réalisé un exploit ce vendredi 21 avril en battant le Chinois Fan Zhendong, numéro 1 mondial, en quarts de finale du tournoi WTT Champions de Macao, en Chine.\n",
      "Le pongiste français Alexis Lebrun, âgé de 19 ans, a fait un résultat vendredi 21 avril en défaisant le chinois Fan Zhendong, numéro un mondial, dans les quarts de finale du Tournoi des champions du WTT à Macao, en Chine.\n",
      "Wall time: 48.2 s\n"
     ]
    }
   ],
   "source": [
    "%%time\n",
    "\n",
    "forward_translator = pipeline('translation', 'facebook/m2m100_418M', src_lang=fwd_scr, tgt_lang=fwd_trg)\n",
    "reverse_translator = pipeline('translation', 'facebook/m2m100_418M', src_lang=rev_scr, tgt_lang=rev_trg)\n",
    "new_text = reverse_translator(forward_translator(text)[0]['translation_text'])\n",
    "\n",
    "# original text\n",
    "print(text)\n",
    "\n",
    "# new text\n",
    "print(new_text[0]['translation_text'])"
   ]
  },
  {
   "cell_type": "code",
   "execution_count": 37,
   "metadata": {},
   "outputs": [],
   "source": [
    "from transformers import M2M100ForConditionalGeneration, M2M100Tokenizer\n",
    "\n",
    "model = M2M100ForConditionalGeneration.from_pretrained(\"facebook/m2m100_418M\")\n",
    "tokenizer = M2M100Tokenizer.from_pretrained(\"facebook/m2m100_418M\")"
   ]
  },
  {
   "cell_type": "code",
   "execution_count": 38,
   "metadata": {},
   "outputs": [
    {
     "name": "stderr",
     "output_type": "stream",
     "text": [
      "C:\\Users\\lbourdois\\Anaconda3\\lib\\site-packages\\transformers\\generation_utils.py:1359: UserWarning: Neither `max_length` nor `max_new_tokens` has been set, `max_length` will default to 200 (`self.config.max_length`). Controlling `max_length` via the config is deprecated and `max_length` will be removed from the config in v5 of Transformers -- we recommend using `max_new_tokens` to control the maximum length of the generation.\n",
      "  warnings.warn(\n"
     ]
    },
    {
     "name": "stdout",
     "output_type": "stream",
     "text": [
      "Le pongiste français Alexis Lebrun, 19 ans, a réalisé un exploit ce vendredi 21 avril en battant le Chinois Fan Zhendong, numéro 1 mondial, en quarts de finale du tournoi WTT Champions de Macao, en Chine.\n",
      "Le pongiste français Alexis Lebrun, âgé de 19 ans, a fait un résultat vendredi 21 avril en défaisant le chinois Fan Zhendong, numéro un mondial, dans les quarts de finale du Tournoi des champions du WTT à Macao, en Chine.\n",
      "Wall time: 24.4 s\n"
     ]
    }
   ],
   "source": [
    "%%time\n",
    "# forward_translator\n",
    "tokenizer.src_lang = \"fr\"\n",
    "encoded = tokenizer(text, return_tensors=\"pt\")\n",
    "generated_tokens = model.generate(**encoded, forced_bos_token_id=tokenizer.get_lang_id(\"en\"))\n",
    "# tokenizer.batch_decode(generated_tokens, skip_special_tokens=True\n",
    "                       \n",
    "# forward_translator\n",
    "src_text = tokenizer.batch_decode(generated_tokens, skip_special_tokens=True)\n",
    "tokenizer.src_lang = \"en\"\n",
    "encoded = tokenizer(src_text, return_tensors=\"pt\")\n",
    "generated_tokens = model.generate(**encoded, forced_bos_token_id=tokenizer.get_lang_id(\"fr\"))\n",
    "\n",
    "# original text\n",
    "print(text)\n",
    "\n",
    "# new text\n",
    "print(tokenizer.batch_decode(generated_tokens, skip_special_tokens=True)[0])"
   ]
  },
  {
   "cell_type": "code",
   "execution_count": null,
   "metadata": {},
   "outputs": [],
   "source": []
  },
  {
   "cell_type": "code",
   "execution_count": null,
   "metadata": {},
   "outputs": [],
   "source": []
  },
  {
   "cell_type": "markdown",
   "metadata": {},
   "source": [
    "# 3. Transformation of the text surface\n",
    "=> is not used in French!"
   ]
  },
  {
   "cell_type": "code",
   "execution_count": null,
   "metadata": {},
   "outputs": [],
   "source": []
  },
  {
   "cell_type": "code",
   "execution_count": null,
   "metadata": {},
   "outputs": [],
   "source": []
  },
  {
   "cell_type": "markdown",
   "metadata": {},
   "source": [
    "# 4. Random noise injection"
   ]
  },
  {
   "cell_type": "markdown",
   "metadata": {},
   "source": [
    "## 4.1 Spelling mistakes injection\n",
    "TODO :\n",
    "- check if there is a difference between https://raw.githubusercontent.com/ybisk/charNMT-noise/master/noise/fr.natural and WiCopaCO\n",
    "- add the errors listed by Wikipedia fr"
   ]
  },
  {
   "cell_type": "code",
   "execution_count": 39,
   "metadata": {},
   "outputs": [
    {
     "data": {
      "text/plain": [
       "29979"
      ]
     },
     "execution_count": 39,
     "metadata": {},
     "output_type": "execute_result"
    }
   ],
   "source": [
    "import re\n",
    "import pandas as pd\n",
    "df_wicopaco = pd.read_csv(\"df_wicopaco.csv\")\n",
    "len(df_wicopaco)"
   ]
  },
  {
   "cell_type": "code",
   "execution_count": 40,
   "metadata": {},
   "outputs": [
    {
     "name": "stdout",
     "output_type": "stream",
     "text": [
      "Wall time: 1.84 s\n"
     ]
    },
    {
     "data": {
      "text/plain": [
       "'Le pongiste français Alexis Lebrun, 19 ans, a réalisé un exploit ce vendredi 21 avril en battant le Chinois Fan Zhendong, numéro 1 mondial, en quarts de finale du tournoi WTT Champions de Macao, en Chine. Il sera décroré pour ce succès.'"
      ]
     },
     "execution_count": 40,
     "metadata": {},
     "output_type": "execute_result"
    }
   ],
   "source": [
    "%%time\n",
    "\n",
    "# spelling mistakes injection\n",
    "text_test = text + \" Il sera décoré pour ce succès.\"\n",
    "for i in range(len(df_wicopaco)):\n",
    "    new_text =  re.sub(\" \"+df_wicopaco.correction[i]+\" \",\" \"+df_wicopaco.error[i]+\" \", text_test) \n",
    "    # add a regex to take into account the word containing an error + the punctuation\n",
    "new_text"
   ]
  },
  {
   "cell_type": "code",
   "execution_count": 41,
   "metadata": {},
   "outputs": [
    {
     "name": "stdout",
     "output_type": "stream",
     "text": [
      "Wall time: 1.8 s\n"
     ]
    },
    {
     "data": {
      "text/plain": [
       "'Le pongiste français Alexis Lebrun, 19 ans, a réalisé un exploit ce vendredi 21 avril en battant le Chinois Fan Zhendong, numéro 1 mondial, en quarts de finale du tournoi WTT Champions de Macao, en Chine. Il sera décoré pour ce succès.'"
      ]
     },
     "execution_count": 41,
     "metadata": {},
     "output_type": "execute_result"
    }
   ],
   "source": [
    "%%time\n",
    "\n",
    "# spelling mistakes correction\n",
    "text_test = text + \" Il sera décroré pour ce succès.\"\n",
    "for i in range(len(df_wicopaco)):\n",
    "    new_text =  re.sub(\" \"+df_wicopaco.error[i]+\" \",\" \"+df_wicopaco.correction[i]+\" \", text_test) \n",
    "    # add a regex to take into account the word containing an error + the punctuation\n",
    "new_text"
   ]
  },
  {
   "cell_type": "code",
   "execution_count": null,
   "metadata": {},
   "outputs": [],
   "source": []
  },
  {
   "cell_type": "markdown",
   "metadata": {},
   "source": [
    "## 4.2 Typing errors injection\n",
    "https://github.com/makcedward/nlpaug/blob/7c748d98b25cb008165e40b5955d193cbd3a26d6/nlpaug/res/char/keyboard/fr.json (serves as a basis but should be completed to take into account keyboards with numeric keypads + cell phone keyboards) "
   ]
  },
  {
   "cell_type": "code",
   "execution_count": 42,
   "metadata": {},
   "outputs": [],
   "source": [
    "import json\n",
    "\n",
    "with open('keyboard_fr.txt') as file:\n",
    "    data = file.read()\n",
    "keyboard_fr = json.loads(data)"
   ]
  },
  {
   "cell_type": "code",
   "execution_count": 43,
   "metadata": {},
   "outputs": [],
   "source": [
    "def keyboard_replacement(text, n):\n",
    "    \n",
    "    list_word_to_change = []\n",
    "    for word in range(n):\n",
    "        list_word_to_change.append(random.randint(0, len(text.replace(\",\",\"\").split())-1)) \n",
    "        # maybe add an additional condition verifying that the n randomly chosen numbers are all different\n",
    "        \n",
    "    for word_to_change in list_word_to_change:\n",
    "        letter_to_change = random.choice(text.split()[word_to_change]).lower()\n",
    "        while letter_to_change not in keyboard_fr.keys():\n",
    "            letter_to_change = random.choice(text.split()[word_to_change]).lower()\n",
    "        text = text.replace(text.split()[word_to_change],text.split()[word_to_change].lower().replace(letter_to_change,random.choice(keyboard_fr[letter_to_change])))\n",
    "    return text"
   ]
  },
  {
   "cell_type": "code",
   "execution_count": 44,
   "metadata": {},
   "outputs": [
    {
     "name": "stdout",
     "output_type": "stream",
     "text": [
      "Le pongiste français Alexis Lebrun, 19 ans, a réalisé un exploit ce vendredi 21 avril en battant le Chinois Fan Zhendong, numéro 1 mondial, en quarts de finale du tournoi WTT Champions de Macao, en Chine.\n",
      "Le pongiste français Alexis Lebrun, 19 ans, a réalisé un exploit ce vendredi 21 avrip en battant le Chinois can Zhendong, numéro 1 mondial, en quarts de finale du tournoi WTT Champions de m&c&o, en Chine.\n"
     ]
    }
   ],
   "source": [
    "# original text\n",
    "print(text)\n",
    "\n",
    "# new text\n",
    "print(keyboard_replacement(text,3))"
   ]
  },
  {
   "cell_type": "code",
   "execution_count": null,
   "metadata": {},
   "outputs": [],
   "source": []
  },
  {
   "cell_type": "markdown",
   "metadata": {},
   "source": [
    "## 4.3 Unigram noise injection\n",
    "TODO"
   ]
  },
  {
   "cell_type": "code",
   "execution_count": null,
   "metadata": {},
   "outputs": [],
   "source": []
  },
  {
   "cell_type": "markdown",
   "metadata": {},
   "source": [
    "## 4.4 Noise injection\n",
    "TODO"
   ]
  },
  {
   "cell_type": "code",
   "execution_count": null,
   "metadata": {},
   "outputs": [],
   "source": []
  },
  {
   "cell_type": "markdown",
   "metadata": {},
   "source": [
    "## 4.5 Mixed sentences\n",
    "TODO"
   ]
  },
  {
   "cell_type": "code",
   "execution_count": null,
   "metadata": {},
   "outputs": [],
   "source": []
  },
  {
   "cell_type": "markdown",
   "metadata": {},
   "source": [
    "## 4.6 Random insertion"
   ]
  },
  {
   "cell_type": "code",
   "execution_count": 45,
   "metadata": {},
   "outputs": [],
   "source": [
    "def random_insertion(words, n):\n",
    "    words = words.split()\n",
    "    new_words = words.copy()\n",
    "    for _ in range(n):\n",
    "        add_word(new_words)\n",
    "    sentence = ' '.join(new_words)\n",
    "    return sentence\n",
    "\n",
    "def add_word(new_words):\n",
    "    synonyms = []\n",
    "    counter = 0\n",
    "    while len(synonyms) < 1:\n",
    "        random_word = new_words[random.randint(0, len(new_words)-1)]\n",
    "        synonyms = get_synonyms(random_word)\n",
    "        counter += 1\n",
    "        if counter >= 10:\n",
    "            return\n",
    "    random_synonym = synonyms[0]\n",
    "    random_idx = random.randint(0, len(new_words)-1)\n",
    "    new_words.insert(random_idx, random_synonym)"
   ]
  },
  {
   "cell_type": "code",
   "execution_count": 46,
   "metadata": {},
   "outputs": [
    {
     "name": "stdout",
     "output_type": "stream",
     "text": [
      "Le pongiste français Alexis Lebrun, 19 ans, a réalisé un exploit ce vendredi 21 avril en battant le Chinois Fan Zhendong, numéro 1 mondial, en quarts de finale du tournoi WTT Champions de Macao, en Chine.\n",
      "Le pongiste français Alexis Lebrun, 19 ans, liste des codes aita des aroportsa a réalisé un exploit ce vendredi 21 avril en battant le Chinois Fan Zhendong, numéro seigneur 1 mondial, en quarts  de finale du tournoi WTT Champions de Macao, en Chine.\n"
     ]
    }
   ],
   "source": [
    "# original text\n",
    "print(text)\n",
    "\n",
    "# new text\n",
    "print(random_insertion(text,3))"
   ]
  },
  {
   "cell_type": "markdown",
   "metadata": {},
   "source": [
    "## 4.7 Random swap"
   ]
  },
  {
   "cell_type": "code",
   "execution_count": 47,
   "metadata": {},
   "outputs": [],
   "source": [
    "def swap_word(new_words):\n",
    "    random_idx_1 = random.randint(0, len(new_words)-1)\n",
    "    random_idx_2 = random_idx_1\n",
    "    counter = 0\n",
    "    while random_idx_2 == random_idx_1:\n",
    "        random_idx_2 = random.randint(0, len(new_words)-1)\n",
    "        counter += 1\n",
    "        if counter > 3:\n",
    "            return new_words\n",
    "    new_words[random_idx_1], new_words[random_idx_2] = new_words[random_idx_2], new_words[random_idx_1] \n",
    "    return new_words\n",
    "\n",
    "def random_swap(words, n):\n",
    "    words = words.split()\n",
    "    new_words = words.copy()\n",
    "    for _ in range(n):\n",
    "        new_words = swap_word(new_words)\n",
    "    sentence = ' '.join(new_words)\n",
    "    return sentence"
   ]
  },
  {
   "cell_type": "code",
   "execution_count": 48,
   "metadata": {},
   "outputs": [
    {
     "name": "stdout",
     "output_type": "stream",
     "text": [
      "Le pongiste français Alexis Lebrun, 19 ans, a réalisé un exploit ce vendredi 21 avril en battant le Chinois Fan Zhendong, numéro 1 mondial, en quarts de finale du tournoi WTT Champions de Macao, en Chine.\n",
      "Le Fan français Chine. Lebrun, 19 ans, a réalisé Macao, exploit un vendredi 21 avril en battant le Chinois pongiste Zhendong, numéro 1 mondial, en quarts de finale du tournoi WTT Champions de ce en Alexis\n"
     ]
    }
   ],
   "source": [
    "# original text\n",
    "print(text)\n",
    "\n",
    "# new text\n",
    "print(random_swap(text,len(text)//50))"
   ]
  },
  {
   "cell_type": "markdown",
   "metadata": {},
   "source": [
    "## 4.8 Random deletion"
   ]
  },
  {
   "cell_type": "code",
   "execution_count": 49,
   "metadata": {},
   "outputs": [],
   "source": [
    "def random_deletion(words, p):\n",
    "    words = words.split()\n",
    "    # if there's only one word, don't delete it\n",
    "    if len(words) == 1:\n",
    "        return words\n",
    "\n",
    "    # randomly delete words with probability p\n",
    "    new_words = []\n",
    "    for word in words:\n",
    "        r = random.uniform(0, 1)\n",
    "        if r > p:\n",
    "            new_words.append(word)\n",
    "\n",
    "    # if you end up deleting all words, just return a random word\n",
    "    if len(new_words) == 0:\n",
    "        rand_int = random.randint(0, len(words)-1)\n",
    "        return [words[rand_int]]\n",
    "    sentence = ' '.join(new_words)\n",
    "    return sentence"
   ]
  },
  {
   "cell_type": "code",
   "execution_count": 50,
   "metadata": {},
   "outputs": [
    {
     "name": "stdout",
     "output_type": "stream",
     "text": [
      "Le pongiste français Alexis Lebrun, 19 ans, a réalisé un exploit ce vendredi 21 avril en battant le Chinois Fan Zhendong, numéro 1 mondial, en quarts de finale du tournoi WTT Champions de Macao, en Chine.\n",
      "Le pongiste français Alexis Lebrun, 19 ans, a réalisé un exploit ce vendredi 21 avril en battant Chinois Fan Zhendong, 1 mondial, quarts de finale du tournoi WTT Champions Macao, Chine.\n"
     ]
    }
   ],
   "source": [
    "# original text\n",
    "print(text)\n",
    "\n",
    "# new text\n",
    "print(random_deletion(text,0.05))"
   ]
  },
  {
   "cell_type": "code",
   "execution_count": null,
   "metadata": {},
   "outputs": [],
   "source": []
  },
  {
   "cell_type": "code",
   "execution_count": null,
   "metadata": {},
   "outputs": [],
   "source": []
  },
  {
   "cell_type": "markdown",
   "metadata": {},
   "source": [
    "# 5. Cross-over augmentation"
   ]
  },
  {
   "cell_type": "code",
   "execution_count": null,
   "metadata": {},
   "outputs": [],
   "source": []
  },
  {
   "cell_type": "code",
   "execution_count": null,
   "metadata": {},
   "outputs": [],
   "source": []
  },
  {
   "cell_type": "markdown",
   "metadata": {},
   "source": [
    "# 6. Manipulating the syntax tree"
   ]
  },
  {
   "cell_type": "code",
   "execution_count": 51,
   "metadata": {},
   "outputs": [
    {
     "name": "stdout",
     "output_type": "stream",
     "text": [
      "Loading\t dela-fr-public...\n",
      "Done.\n"
     ]
    }
   ],
   "source": [
    "from inflecteur import inflecteur # nice lib that should be completed and optimized\n",
    "inflecteur = inflecteur()\n",
    "inflecteur.load_dict()"
   ]
  },
  {
   "cell_type": "markdown",
   "metadata": {},
   "source": [
    "## 6.1 Time manipulation"
   ]
  },
  {
   "cell_type": "code",
   "execution_count": 52,
   "metadata": {},
   "outputs": [
    {
     "name": "stdout",
     "output_type": "stream",
     "text": [
      "Le pongiste français Alexis Lebrun, 19 ans, a réalisé un exploit ce vendredi 21 avril en battant le Chinois Fan Zhendong, numéro 1 mondial, en quarts de finale du tournoi WTT Champions de Macao, en Chine.\n"
     ]
    },
    {
     "name": "stderr",
     "output_type": "stream",
     "text": [
      "C:\\Users\\lbourdois\\Anaconda3\\lib\\site-packages\\transformers\\pipelines\\token_classification.py:135: UserWarning: `grouped_entities` is deprecated and will be removed in version v5.0.0, defaulted to `aggregation_strategy=\"simple\"` instead.\n",
      "  warnings.warn(\n",
      "Asking to truncate to max_length but no maximum length is provided and the model has no predefined maximum length. Default to no truncation.\n"
     ]
    },
    {
     "name": "stdout",
     "output_type": "stream",
     "text": [
      "Le pongiste français Alexis Lebrun, 19 ans, aura réalisé un exploit ce vendredi 21 avril en battant le Chinois Fan Zhendong, numéro 1 mondial, en quarts de finale du tournoi WTT Champions de Macao, en Chine .\n"
     ]
    }
   ],
   "source": [
    "# original text\n",
    "print(text)\n",
    "\n",
    "# new text\n",
    "print(inflecteur.inflect_sentence(text, tense='Futur').replace(\" \\\\' \",\"'\"))"
   ]
  },
  {
   "cell_type": "markdown",
   "metadata": {},
   "source": [
    "## 6.2 Gender manipulation"
   ]
  },
  {
   "cell_type": "code",
   "execution_count": 53,
   "metadata": {},
   "outputs": [
    {
     "name": "stdout",
     "output_type": "stream",
     "text": [
      "Le pongiste français Alexis Lebrun, 19 ans, a réalisé un exploit ce vendredi 21 avril en battant le Chinois Fan Zhendong, numéro 1 mondial, en quarts de finale du tournoi WTT Champions de Macao, en Chine.\n",
      "L pongiste française Alexis Lebrun, 19 ans, a réalisé une exploit cette vendredi 21 avril en battant l Chinois Fan Zhendong, numéro 1 mondial, en quarts de finale du tournoi WTT Champions de Macao, en Chine .\n"
     ]
    }
   ],
   "source": [
    "# original text\n",
    "print(text)\n",
    "\n",
    "# new text\n",
    "print(inflecteur.inflect_sentence(text, gender='f').replace(\" \\\\' \",\"'\"))"
   ]
  },
  {
   "cell_type": "markdown",
   "metadata": {},
   "source": [
    "## 6.3 Number manipulation"
   ]
  },
  {
   "cell_type": "code",
   "execution_count": 54,
   "metadata": {},
   "outputs": [
    {
     "name": "stdout",
     "output_type": "stream",
     "text": [
      "Le pongiste français Alexis Lebrun, 19 ans, a réalisé un exploit ce vendredi 21 avril en battant le Chinois Fan Zhendong, numéro 1 mondial, en quarts de finale du tournoi WTT Champions de Macao, en Chine.\n",
      "Les pongistes français Alexis Lebrun, 19 ans, ont réalisé des exploits ces vendredis 21 avrils en battant les Chinois Fan Zhendong, numéros 1 mondial, en quarts de finales du tournois WTT Champions de Macao, en Chines .\n"
     ]
    }
   ],
   "source": [
    "# original text\n",
    "print(text)\n",
    "\n",
    "# new text\n",
    "print(inflecteur.inflect_sentence(text, number='p').replace(\" \\\\' \",\"'\"))"
   ]
  },
  {
   "cell_type": "code",
   "execution_count": null,
   "metadata": {},
   "outputs": [],
   "source": []
  },
  {
   "cell_type": "code",
   "execution_count": null,
   "metadata": {},
   "outputs": [],
   "source": []
  },
  {
   "cell_type": "code",
   "execution_count": null,
   "metadata": {},
   "outputs": [],
   "source": []
  },
  {
   "cell_type": "markdown",
   "metadata": {},
   "source": [
    "# 7. MixUp\n",
    "## 7.1 Word Mix Up"
   ]
  },
  {
   "cell_type": "code",
   "execution_count": null,
   "metadata": {},
   "outputs": [],
   "source": []
  },
  {
   "cell_type": "markdown",
   "metadata": {},
   "source": [
    "## 7.2 Sentence Mix Up"
   ]
  },
  {
   "cell_type": "code",
   "execution_count": null,
   "metadata": {},
   "outputs": [],
   "source": []
  },
  {
   "cell_type": "code",
   "execution_count": null,
   "metadata": {},
   "outputs": [],
   "source": []
  },
  {
   "cell_type": "code",
   "execution_count": null,
   "metadata": {},
   "outputs": [],
   "source": []
  },
  {
   "cell_type": "markdown",
   "metadata": {},
   "source": [
    "# 8. Generative methods\n",
    "## 8.1 Generate paraphrases \n",
    "\n",
    "The version of FrenchT0 available on HF is bad in this task. See if it is possible to get a version of the model at a more advanced time or else train a model to generate paraphrases."
   ]
  },
  {
   "cell_type": "code",
   "execution_count": null,
   "metadata": {},
   "outputs": [],
   "source": []
  },
  {
   "cell_type": "code",
   "execution_count": null,
   "metadata": {},
   "outputs": [],
   "source": []
  },
  {
   "cell_type": "markdown",
   "metadata": {},
   "source": [
    "# 9. Text simplification\n",
    "## 9.1 Text summary"
   ]
  },
  {
   "cell_type": "code",
   "execution_count": 55,
   "metadata": {},
   "outputs": [],
   "source": [
    "from transformers import pipeline\n",
    "summarizer = pipeline(\"summarization\",\"moussaKam/barthez-orangesum-abstract\",\"moussaKam/barthez-orangesum-abstract\")\n",
    "# https://huggingface.co/csebuetnlp/mT5_multilingual_XLSum can be interesting for multilingual"
   ]
  },
  {
   "cell_type": "code",
   "execution_count": 56,
   "metadata": {},
   "outputs": [
    {
     "name": "stderr",
     "output_type": "stream",
     "text": [
      "Your max_length is set to 102, but you input_length is only 51. You might consider decreasing max_length manually, e.g. summarizer('...', max_length=25)\n"
     ]
    },
    {
     "name": "stdout",
     "output_type": "stream",
     "text": [
      "Le pongiste français Alexis Lebrun, 19 ans, a réalisé un exploit ce vendredi 21 avril en battant le Chinois Fan Zhendong, numéro 1 mondial, en quarts de finale du tournoi WTT Champions de Macao, en Chine.\n",
      "Le pongiste français Alexis Lebrun, 19 ans, a réalisé un exploit en battant le Chinois Fan Zhendong, numéro 1 mondial.\n"
     ]
    }
   ],
   "source": [
    "# original text\n",
    "print(text)\n",
    "\n",
    "# new text\n",
    "print(summarizer(text, min_length=len(text)//10, max_length=len(text)//2)[0]['summary_text'])"
   ]
  },
  {
   "cell_type": "markdown",
   "metadata": {},
   "source": [
    "## 9.2 Simplification\n",
    "The version of FrenchT0 available on HF is bad in this task. See if it is possible to get a version of the model at a more advanced time or else train a model to generate paraphrases."
   ]
  },
  {
   "cell_type": "code",
   "execution_count": null,
   "metadata": {},
   "outputs": [],
   "source": []
  },
  {
   "cell_type": "code",
   "execution_count": null,
   "metadata": {},
   "outputs": [],
   "source": []
  }
 ],
 "metadata": {
  "kernelspec": {
   "display_name": "Python 3",
   "language": "python",
   "name": "python3"
  },
  "language_info": {
   "codemirror_mode": {
    "name": "ipython",
    "version": 3
   },
   "file_extension": ".py",
   "mimetype": "text/x-python",
   "name": "python",
   "nbconvert_exporter": "python",
   "pygments_lexer": "ipython3",
   "version": "3.8.5"
  }
 },
 "nbformat": 4,
 "nbformat_minor": 2
}
