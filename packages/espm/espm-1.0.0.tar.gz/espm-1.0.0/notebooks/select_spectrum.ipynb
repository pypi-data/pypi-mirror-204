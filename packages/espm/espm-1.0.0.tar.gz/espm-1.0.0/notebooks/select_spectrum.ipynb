{
 "cells": [
  {
   "cell_type": "code",
   "execution_count": null,
   "metadata": {},
   "outputs": [],
   "source": [
    "%matplotlib inline\n",
    "import hyperspy.api as hs\n",
    "from espm.conf import DATASETS_PATH\n",
    "from pathlib import Path"
   ]
  },
  {
   "cell_type": "markdown",
   "metadata": {},
   "source": [
    "# Load a spectrum image"
   ]
  },
  {
   "cell_type": "code",
   "execution_count": null,
   "metadata": {},
   "outputs": [],
   "source": [
    "input_filename = \"1613 SI HAADF 610 kx.emd\"\n",
    "spim = hs.load(input_filename)[-1]\n",
    "spim.crop(2,0.3,19.0)\n",
    "spim.crop(1,100,400)\n",
    "(spim.data.sum(axis = 2) == 0).sum()"
   ]
  },
  {
   "cell_type": "code",
   "execution_count": null,
   "metadata": {},
   "outputs": [],
   "source": [
    "spim.metadata.Sample.elements = ['O', 'Al', 'Ni', 'La', 'Nd']"
   ]
  },
  {
   "cell_type": "code",
   "execution_count": null,
   "metadata": {},
   "outputs": [],
   "source": [
    "spim.sum(axis=(0,1)).isig[0.3:2.0].plot(True)"
   ]
  },
  {
   "cell_type": "code",
   "execution_count": null,
   "metadata": {},
   "outputs": [],
   "source": [
    "from espm.utils import bin_spim\n",
    "\n",
    "a = bin_spim(spim.data, 150, 200)\n",
    "\n",
    "spim = hs.signals.Signal1D(a)\n",
    "spim.set_signal_type(\"EDS_espm\")\n",
    "spim.set_analysis_parameters(beam_energy = 200, azimuth_angle = 0.0, elevation_angle = 35.0, tilt_stage = 15.0, elements = [\"O\",\"Al\",\"Si\",\"Mo\",\"Ni\",\"Nd\",\"La\",\"Cu\"], thickness = 50e-7, density = 7.0, detector_type = \"SDD_efficiency.txt\", width_slope = 0.01, width_intercept = 0.065, xray_db = \"default_xrays.json\")\n",
    "spim.axes_manager[2].scale = 0.005\n",
    "spim.axes_manager[2].offset = 0.2975\n",
    "spim.save(\"1613_NLNO_binned_2.hspy\")"
   ]
  },
  {
   "cell_type": "code",
   "execution_count": null,
   "metadata": {},
   "outputs": [],
   "source": [
    "s = hs.load(\"1613_NLNO_binned_2.hspy\")\n",
    "\n",
    "s.sum(axis = 2).mean().data"
   ]
  },
  {
   "cell_type": "markdown",
   "metadata": {},
   "source": [
    "# Browse the signal\n",
    "\n",
    "⚠️ 3 windows will pop up.\n",
    "\n",
    "- One window correspond to a 2D representation of the spim (sum along the energy direction) a green rectangle will be displayed on top of it, it corresponds to the selected area.\n",
    "- One window correspond to the first pixel (top left) of the spectrum image (you can ignore it).\n",
    "- The last window correspond to the average of the selected spectra\n",
    "\n"
   ]
  },
  {
   "cell_type": "code",
   "execution_count": null,
   "metadata": {},
   "outputs": [],
   "source": [
    "scale_h, scale_v= spim.axes_manager[0].scale,spim.axes_manager[1].scale\n",
    "offset_h, offset_v = spim.axes_manager[0].offset, spim.axes_manager[1].offset\n",
    "\n",
    "haadf_ROI=hs.roi.RectangularROI((10*scale_h)+ offset_h,\n",
    "                            (10*scale_v)+offset_v,\n",
    "                            (40*scale_h)+offset_h,\n",
    "                            (40*scale_v)+offset_v)\n",
    "# arguments = left, top, right, bottom in pixels*scale\n",
    "spim.plot()\n",
    "spim_ROI=haadf_ROI.interactive(spim)\n",
    "# The HAADF and SPIM windows with their respective ROIs. The two ROIs are connected so that the selected area in the HAADF is the same as the one on the SPIM.\n",
    "\n",
    "spectrum=hs.interactive(spim_ROI.mean,\n",
    "           event=spim_ROI.axes_manager.events.any_axis_changed,\n",
    "           recompute_out_event=None)\n",
    "spectrum.plot(True)"
   ]
  },
  {
   "cell_type": "markdown",
   "metadata": {},
   "source": [
    "# Save the selected average spectrum"
   ]
  },
  {
   "cell_type": "code",
   "execution_count": null,
   "metadata": {},
   "outputs": [],
   "source": [
    "output_filename = str(DATASETS_PATH / Path('selected_spectrum.hspy'))\n",
    "spectrum.save(output_filename)"
   ]
  }
 ],
 "metadata": {
  "interpreter": {
   "hash": "ae2bec25d04a58403981d6892379486339cbb2cd6f315f3a399785dd0e4b6656"
  },
  "kernelspec": {
   "display_name": "Python 3 (ipykernel)",
   "language": "python",
   "name": "python3"
  },
  "language_info": {
   "codemirror_mode": {
    "name": "ipython",
    "version": 3
   },
   "file_extension": ".py",
   "mimetype": "text/x-python",
   "name": "python",
   "nbconvert_exporter": "python",
   "pygments_lexer": "ipython3",
   "version": "3.10.4"
  }
 },
 "nbformat": 4,
 "nbformat_minor": 4
}
