{
 "cells": [
  {
   "cell_type": "code",
   "execution_count": null,
   "metadata": {},
   "outputs": [],
   "source": [
    "%load_ext autoreload\n",
    "%autoreload 2\n",
    "%matplotlib inline"
   ]
  },
  {
   "cell_type": "code",
   "execution_count": null,
   "metadata": {},
   "outputs": [],
   "source": [
    "import logging\n",
    "logging.basicConfig(level=logging.INFO)"
   ]
  },
  {
   "cell_type": "markdown",
   "metadata": {},
   "source": [
    "# Data preprocessing for the neural network\n",
    "\n",
    "This notebook illustrate the data preprocessing steps to create the dataset"
   ]
  },
  {
   "cell_type": "code",
   "execution_count": null,
   "metadata": {},
   "outputs": [],
   "source": [
    "# Input resolution of the panel\n",
    "res = 512"
   ]
  },
  {
   "cell_type": "markdown",
   "metadata": {},
   "source": [
    "### 1. Projection of the mesh distance onto a plane\n",
    "\n",
    "Alternatively, run the script `panel_obj_to_mat.py`, which can execute this code in parallel."
   ]
  },
  {
   "cell_type": "code",
   "execution_count": null,
   "metadata": {},
   "outputs": [],
   "source": [
    "import os\n",
    "from ddad.ml.preprocess import get_panel_names, build_surface_from_name\n",
    "from ddad.ml.path import data_path\n",
    "import numpy as np\n",
    "import matplotlib.pyplot as plt"
   ]
  },
  {
   "cell_type": "code",
   "execution_count": null,
   "metadata": {},
   "outputs": [],
   "source": [
    "# Force the recomputation of the panel\n",
    "rebuild = False"
   ]
  },
  {
   "cell_type": "code",
   "execution_count": null,
   "metadata": {
    "tags": []
   },
   "outputs": [],
   "source": [
    "names = get_panel_names()\n",
    "path_data = os.path.join(data_path(\"processed\"), \"../panel_mat_{}\".format(res))\n",
    "os.makedirs(path_data, exist_ok=True)\n",
    "for name in names:\n",
    "    print(\"Converting panel: {}\".format(name))\n",
    "    try:\n",
    "        outpath = os.path.join(path_data, name+\"_mat.npz\")\n",
    "        if rebuild or not(os.path.exists(outpath)):\n",
    "            if not rebuild:\n",
    "                print(\"   Not availlable -> build\")\n",
    "            surface = build_surface_from_name(name, res=res)\n",
    "            if surface is not None:\n",
    "                np.savez_compressed(outpath, surface=surface)\n",
    "            else:\n",
    "                print(\"Something went wrong...\")\n",
    "        else:\n",
    "            print(\"   Already availlable -> skip\")\n",
    "    except Exception as _:\n",
    "        import traceback\n",
    "\n",
    "        traceback.print_exc()\n",
    "        print(\"Fail for panel {}\".format(name))"
   ]
  },
  {
   "cell_type": "code",
   "execution_count": null,
   "metadata": {},
   "outputs": [],
   "source": [
    "names = get_panel_names()\n",
    "print(\"Found {} walls\".format(len(names)))"
   ]
  },
  {
   "cell_type": "code",
   "execution_count": null,
   "metadata": {},
   "outputs": [],
   "source": [
    "path_data = os.path.join(data_path(\"processed\"), \"../panel_mat_{}\".format(res))\n",
    "all_mat = []\n",
    "names.sort()\n",
    "for name in names:\n",
    "    panel_path = os.path.join(path_data, name+\"_mat.npz\")\n",
    "    all_mat.append(np.load(panel_path)[\"surface\"])\n",
    "all_mat = np.array(all_mat)"
   ]
  },
  {
   "cell_type": "code",
   "execution_count": null,
   "metadata": {},
   "outputs": [],
   "source": [
    "plt.hist(all_mat.flatten(),100);\n",
    "plt.yscale(\"log\")"
   ]
  },
  {
   "cell_type": "code",
   "execution_count": null,
   "metadata": {},
   "outputs": [],
   "source": [
    "from ddad.ml.plot import draw_images\n",
    "vmax = np.max(all_mat)\n",
    "vmin = - vmax\n",
    "plt.figure(figsize=(30,30))\n",
    "im = draw_images(all_mat, 15,15, cmap=plt.cm.seismic, vmin=vmin, vmax=vmax )\n"
   ]
  },
  {
   "cell_type": "code",
   "execution_count": null,
   "metadata": {},
   "outputs": [],
   "source": [
    "np.min(all_mat), np.max(all_mat)"
   ]
  },
  {
   "cell_type": "code",
   "execution_count": null,
   "metadata": {},
   "outputs": [],
   "source": [
    "col = 13\n",
    "line = 8\n",
    "ind = (col-1)*15+line-1\n",
    "vmax = np.max(all_mat)\n",
    "vmin = - vmax\n",
    "plt.figure(figsize=(8,8))\n",
    "plt.imshow(all_mat[ind], cmap=plt.cm.seismic, vmin=vmin, vmax=vmax )\n",
    "plt.title(names[ind])\n",
    "plt.colorbar()"
   ]
  },
  {
   "cell_type": "markdown",
   "metadata": {},
   "source": [
    "### 2. Creating a dataset from (geometry, impulse) pairs"
   ]
  },
  {
   "cell_type": "code",
   "execution_count": null,
   "metadata": {},
   "outputs": [],
   "source": [
    "import os\n",
    "import numpy as np\n",
    "from ddad.ml.preprocess import build_dataset\n"
   ]
  },
  {
   "cell_type": "code",
   "execution_count": null,
   "metadata": {},
   "outputs": [],
   "source": [
    "use_time = False\n",
    "use_chanels = True\n",
    "plane = 0 # Select the closest plane 6x6\n",
    "data_type=\"cummulative_energy\"\n",
    "\n",
    "# Name for our dataset\n",
    "name_file = \"../data/data_{}_{}_{}_{}_{}.npz\".format(res, data_type, use_time, use_chanels, plane)"
   ]
  },
  {
   "cell_type": "markdown",
   "metadata": {},
   "source": [
    "#### Preprocess"
   ]
  },
  {
   "cell_type": "code",
   "execution_count": null,
   "metadata": {},
   "outputs": [],
   "source": [
    "mats, samples, sel_names, sel_sources = build_dataset(res, data_type, use_time, use_chanels, plane)\n",
    "np.savez_compressed(name_file, mats=mats, samples=samples, sel_names=sel_names, sel_sources=sel_sources)\n",
    "\n",
    "del mats\n",
    "del samples\n",
    "del sel_names\n",
    "del sel_sources"
   ]
  },
  {
   "cell_type": "code",
   "execution_count": null,
   "metadata": {},
   "outputs": [],
   "source": [
    "# Test data loading\n",
    "dat = np.load(name_file, allow_pickle=True)\n",
    "samples = dat[\"samples\"]\n",
    "mats = dat[\"mats\"]\n",
    "sel_names = dat[\"sel_names\"]\n",
    "sel_sources = dat[\"sel_sources\"]\n",
    "sel_sources = [tuple(e) for e in sel_sources.tolist()]\n",
    "\n",
    "del dat"
   ]
  },
  {
   "cell_type": "markdown",
   "metadata": {},
   "source": [
    "#### Preprocess for a different configuration"
   ]
  },
  {
   "cell_type": "code",
   "execution_count": null,
   "metadata": {},
   "outputs": [],
   "source": [
    "use_time = False\n",
    "use_chanels = False\n",
    "plane = 0 # Select the closest plane 6x6\n",
    "data_type=\"cummulative_energy\"\n",
    "\n",
    "# Name for our dataset\n",
    "name_file = \"../data/data_{}_{}_{}_{}_{}.npz\".format(res, data_type, use_time, use_chanels, plane)"
   ]
  },
  {
   "cell_type": "code",
   "execution_count": null,
   "metadata": {},
   "outputs": [],
   "source": [
    "mats, samples, sel_names, sel_sources = build_dataset(res, data_type, use_time, use_chanels, plane)\n",
    "np.savez_compressed(name_file, mats=mats, samples=samples, sel_names=sel_names, sel_sources=sel_sources)\n",
    "\n",
    "del mats\n",
    "del samples\n",
    "del sel_names\n",
    "del sel_sources"
   ]
  },
  {
   "cell_type": "code",
   "execution_count": null,
   "metadata": {},
   "outputs": [],
   "source": [
    "# Test data loading\n",
    "dat = np.load(name_file, allow_pickle=True)\n",
    "samples = dat[\"samples\"]\n",
    "sel_names = dat[\"sel_names\"]\n",
    "sel_sources = dat[\"sel_sources\"]\n",
    "sel_sources = [tuple(e) for e in sel_sources.tolist()]\n",
    "mats = dat[\"mats\"]\n",
    "\n",
    "del dat"
   ]
  },
  {
   "cell_type": "markdown",
   "metadata": {},
   "source": [
    "### 3. Look at a sample"
   ]
  },
  {
   "cell_type": "code",
   "execution_count": null,
   "metadata": {},
   "outputs": [],
   "source": [
    "import matplotlib.pyplot as plt"
   ]
  },
  {
   "cell_type": "code",
   "execution_count": null,
   "metadata": {},
   "outputs": [],
   "source": [
    "sample = samples[0]"
   ]
  },
  {
   "cell_type": "code",
   "execution_count": null,
   "metadata": {},
   "outputs": [],
   "source": [
    "# First part is the geometry input\n",
    "plt.imshow(mats[sample[0]]);"
   ]
  },
  {
   "cell_type": "code",
   "execution_count": null,
   "metadata": {},
   "outputs": [],
   "source": [
    "# Outputs, in this case the reflected energy\n",
    "if use_chanels:\n",
    "    plt.figure(figsize=(10, 6))\n",
    "    for i in range(5):\n",
    "        plt.subplot(2,3,i+1)\n",
    "        plt.imshow(sample[1][:,i].reshape(6-plane, 6-plane))\n",
    "        plt.colorbar()\n",
    "else:\n",
    "    plt.imshow(sample[1].reshape(6-plane, 6-plane))\n",
    "    plt.colorbar()"
   ]
  },
  {
   "cell_type": "code",
   "execution_count": null,
   "metadata": {},
   "outputs": [],
   "source": [
    "# The mask used to tell which of the outputs should be used for the loss\n",
    "plt.imshow(sample[2].reshape(6-plane, 6-plane))"
   ]
  },
  {
   "cell_type": "code",
   "execution_count": null,
   "metadata": {},
   "outputs": [],
   "source": [
    "# The mask indicating the position of the source (just the reverse of the previous element)\n",
    "plt.imshow(sample[3].reshape(6-plane, 6-plane))"
   ]
  },
  {
   "cell_type": "code",
   "execution_count": null,
   "metadata": {},
   "outputs": [],
   "source": [
    "sample[1].shape"
   ]
  },
  {
   "cell_type": "markdown",
   "metadata": {},
   "source": [
    "## 4. Creating dataset for alternative problems"
   ]
  },
  {
   "cell_type": "markdown",
   "metadata": {},
   "source": [
    "Object classification and interpolation from IR"
   ]
  },
  {
   "cell_type": "code",
   "execution_count": null,
   "metadata": {},
   "outputs": [],
   "source": [
    "from ddad.ml.preprocess import get_panel_names\n",
    "from ddad.dataset import PanelData\n",
    "import matplotlib.pyplot as plt\n",
    "import numpy as np\n",
    "from ddad.ml.path import \n",
    "\n"
   ]
  },
  {
   "cell_type": "code",
   "execution_count": null,
   "metadata": {},
   "outputs": [],
   "source": [
    "from ddad.grid import Grid\n",
    "from ddad.config import GRID_FILE\n",
    "grid = Grid.from_json(GRID_FILE)"
   ]
  },
  {
   "cell_type": "code",
   "execution_count": null,
   "metadata": {},
   "outputs": [],
   "source": [
    "cells_source_reciever = [grid.cells_from_index(i) for i in range(2951)]\n",
    "cells = np.array(cells_source_reciever).reshape(-1, 3).tolist()\n",
    "cells = set([tuple(c) for c in cells])\n",
    "positions = np.array([np.array(grid.position(c)) for c in cells])\n",
    "mp = np.median(positions, axis=0)\n",
    "sp = 125\n",
    "positions = (positions - mp) / sp\n",
    "cells2positions = {c:p for c,p in zip(cells, positions)}\n",
    "positions_source_reciever = np.array([ np.array([cells2positions[c1], cells2positions[c2] ]) for c1, c2 in cells_source_reciever])\n",
    "# positions_source_reciever"
   ]
  },
  {
   "cell_type": "code",
   "execution_count": null,
   "metadata": {},
   "outputs": [],
   "source": [
    "# for name in get_panel_names():\n",
    "\n",
    "lt = 256\n",
    "\n",
    "name_file = os.path.join(data_path(), \"../data_classification_{}.npz\".format(lt))\n",
    "\n",
    "names = get_panel_names()\n",
    "\n",
    "samples = []\n",
    "labels = []\n",
    "# srs = []\n",
    "\n",
    "for i, name in enumerate(names):\n",
    "\n",
    "    p = PanelData(name)\n",
    "    samples.append(p.matrix_after_direct_sound_removal[:,:256])\n",
    "    labels.append(i * np.ones(2951).astype(int))\n",
    "    srs.append(positions_source_reciever)\n",
    "labels = np.concatenate(labels)\n",
    "samples = np.concatenate(samples)\n",
    "srs = np.concatenate(srs)\n",
    "\n",
    "np.savez(name_file, labels=labels, samples=samples, names=names)\n",
    "\n"
   ]
  },
  {
   "cell_type": "code",
   "execution_count": null,
   "metadata": {},
   "outputs": [],
   "source": [
    "samples.shape, labels.shape, len(names)"
   ]
  },
  {
   "cell_type": "code",
   "execution_count": null,
   "metadata": {},
   "outputs": [],
   "source": [
    "name_file = os.path.join(data_path(), \"../data_interpolation_{}.npz\".format(lt))\n",
    "\n",
    "np.savez(name_file, srs=srs, cells2positions=cells2positions, \n",
    "         cells_source_reciever=cells_source_reciever, samples=samples, names=names,\n",
    "         mp=mp, sp=sp, positions_source_reciever=positions_source_reciever)\n"
   ]
  },
  {
   "cell_type": "markdown",
   "metadata": {},
   "source": [
    "## 5. Check reprinted panels"
   ]
  },
  {
   "cell_type": "code",
   "execution_count": null,
   "metadata": {},
   "outputs": [],
   "source": [
    "names = get_panel_names()\n",
    "print(\"Found {} walls\".format(len(names)))"
   ]
  },
  {
   "cell_type": "code",
   "execution_count": null,
   "metadata": {},
   "outputs": [],
   "source": [
    "for name in names:\n",
    "    if \"reprint\" in name:\n",
    "        try:\n",
    "            parts = name.split(\"reprint\")\n",
    "            name1 = parts[0] + parts[1]        \n",
    "            name2 = name\n",
    "            out1 = np.array([s[1] for s  in samples[sel_names==name1]])\n",
    "            print(name1, out1.shape)\n",
    "            out2 = np.array([s[1] for s  in samples[sel_names==name2]])\n",
    "            print(name2, out2.shape)\n",
    "            print(np.linalg.norm((out1-out2).flatten())/np.linalg.norm(out1))\n",
    "        except:\n",
    "            pass"
   ]
  },
  {
   "cell_type": "code",
   "execution_count": null,
   "metadata": {},
   "outputs": [],
   "source": [
    "for name in names:\n",
    "    if \"reprint\" in name:\n",
    "        try:\n",
    "            parts = name.split(\"reprint\")\n",
    "            name1 = parts[0] + parts[1]        \n",
    "            name2 = name\n",
    "            out1 = PanelData(name1).total_energy_bands_normalized.flatten()\n",
    "            out2 = PanelData(name2).total_energy_bands_normalized.flatten()\n",
    "            print(\"Rel error between {} and {} : {}\".format(name1, name2, np.linalg.norm((out1-out2).flatten())/np.linalg.norm(out1)))\n",
    "        except:\n",
    "            pass"
   ]
  },
  {
   "cell_type": "code",
   "execution_count": null,
   "metadata": {},
   "outputs": [],
   "source": [
    "for name in names:\n",
    "    if \"reprint\" in name:\n",
    "        try:\n",
    "            parts = name.split(\"reprint\")\n",
    "            name1 = parts[0] + parts[1]        \n",
    "            name2 = name\n",
    "            out1 = PanelData(name1).flat.total_energy_bands_normalized.flatten()\n",
    "            out2 = PanelData(name2).flat.total_energy_bands_normalized.flatten()\n",
    "            print(\"Rel error between flat for {} and flat for {} : {}\".format(name1, name2, np.linalg.norm((out1-out2).flatten())/np.linalg.norm(out1)))\n",
    "        except:\n",
    "            pass"
   ]
  },
  {
   "cell_type": "code",
   "execution_count": null,
   "metadata": {},
   "outputs": [],
   "source": [
    "from ddad.dataset import PanelData"
   ]
  },
  {
   "cell_type": "code",
   "execution_count": null,
   "metadata": {},
   "outputs": [],
   "source": [
    "name1 = \"panel_0003_1\"\n",
    "name2 = \"panel_0003reprint_1\"\n",
    "# name1 = \"panel_0002_1\"\n",
    "# name2 = \"panel_0002reprint_1\"\n",
    "p1 = PanelData(name1)\n",
    "p2 = PanelData(name2)"
   ]
  },
  {
   "cell_type": "code",
   "execution_count": null,
   "metadata": {},
   "outputs": [],
   "source": [
    "p1.print_panel_info() \n",
    "p2.print_panel_info() "
   ]
  },
  {
   "cell_type": "code",
   "execution_count": null,
   "metadata": {},
   "outputs": [],
   "source": [
    "index = 200"
   ]
  },
  {
   "cell_type": "code",
   "execution_count": null,
   "metadata": {},
   "outputs": [],
   "source": [
    "plt.plot(p1.matrix_after_direct_sound_removal[index], label =name1)\n",
    "plt.plot(p2.matrix_after_direct_sound_removal[index], label =name2)\n",
    "plt.legend()\n",
    "# plt.xlim([20, 150])"
   ]
  },
  {
   "cell_type": "code",
   "execution_count": null,
   "metadata": {},
   "outputs": [],
   "source": [
    "plt.plot(np.mean(p1.matrix_after_direct_sound_removal, axis=0), label =name1)\n",
    "plt.plot(np.mean(p2.matrix_after_direct_sound_removal, axis=0), label =name2)\n",
    "plt.legend()\n"
   ]
  },
  {
   "cell_type": "code",
   "execution_count": null,
   "metadata": {},
   "outputs": [],
   "source": []
  }
 ],
 "metadata": {
  "kernelspec": {
   "display_name": "Python 3",
   "language": "python",
   "name": "python3"
  },
  "language_info": {
   "codemirror_mode": {
    "name": "ipython",
    "version": 3
   },
   "file_extension": ".py",
   "mimetype": "text/x-python",
   "name": "python",
   "nbconvert_exporter": "python",
   "pygments_lexer": "ipython3",
   "version": "3.8.0"
  }
 },
 "nbformat": 4,
 "nbformat_minor": 4
}
