{
 "cells": [
  {
   "cell_type": "code",
   "execution_count": null,
   "metadata": {},
   "outputs": [],
   "source": [
    "# %matplotlib inline\n",
    "%matplotlib qt\n",
    "import hyperspy.api as hs\n",
    "import numpy as np\n",
    "import lmfit as lm\n",
    "import matplotlib.pyplot as plt\n",
    "import matplotlib\n",
    "from espm.models import edxs\n",
    "from espm.models.EDXS_function import print_concentrations_from_W\n",
    "import espm.spectrum_fitting as sf\n",
    "from espm.conf import DATASETS_PATH\n",
    "from pathlib import Path\n",
    "from espm.datasets import spim\n",
    "from espm.estimators import SmoothNMF"
   ]
  },
  {
   "cell_type": "markdown",
   "metadata": {},
   "source": [
    "# Guide to this notebook\n",
    "\n",
    "Every time the symbol ⚠️ appears, a user input is required in the cell below.\n",
    "\n",
    "If a cell made a few windows pop up, please kill the windows once you're done. Otherwise every new plot will be displayed in top of the other (which may slow your computer down). \n",
    "\n",
    "Overview of the different steps :\n",
    "- I. Load the data either a spectrum (go to step III.) or a spectrum image\n",
    "- II. Select an area of interest in your spectrum image.\n",
    "- III. Creates an energy scale (x) from your data for the fitting procedure.\n",
    "- IV. Selects the regions of the spectrum were there are no peaks for background fitting.\n",
    "- V. Creates the required objects (partial x and y) for the background fitting procedure.\n",
    "- VI. Fitting the background. If this is not satisfactory go back to IV."
   ]
  },
  {
   "cell_type": "markdown",
   "metadata": {},
   "source": [
    "## I. Load spectrum & energy scale\n",
    "\n",
    "The spectrum is expected to be an average spectrum, its energy range is expected to start above 0.0\n",
    "\n",
    "⚠️"
   ]
  },
  {
   "cell_type": "code",
   "execution_count": null,
   "metadata": {},
   "outputs": [],
   "source": [
    "input_filename = str(\"phyllo_spectre_moyen.hspy\")\n",
    "spectrum = hs.load(input_filename)\n",
    "\n",
    "offset = spectrum.axes_manager[0].offset\n",
    "scale = spectrum.axes_manager[0].scale\n",
    "size = spectrum.axes_manager[0].size\n",
    "\n",
    "x = np.linspace(offset,size*scale+offset,num = size)"
   ]
  },
  {
   "cell_type": "markdown",
   "metadata": {},
   "source": [
    "# II. Select areas for bckgd fitting\n",
    "\n",
    "⚠️ Input in the ``span_number`` the number of selection areas you wish to use. Once you execute the cell, a window will pop with a few green areas and a red spectrum. The green areas correspond to the regions were the background will be fitted. You can, drag, enlarge and reduce these green areas."
   ]
  },
  {
   "cell_type": "code",
   "execution_count": null,
   "metadata": {},
   "outputs": [],
   "source": [
    "span_number = 4\n",
    "\n",
    "def selection_areas(number,spectrum,scale) :\n",
    "    spectrum.plot()\n",
    "    size = spectrum.axes_manager[0].size //(2*number)\n",
    "    roi_list = []\n",
    "    for i in range(number) :\n",
    "        roi_list.append(hs.roi.SpanROI(offset+ size*scale + 2*i*size*scale, 2*size*scale + offset+ 2*i*size*scale))\n",
    "        roi_list[-1].interactive(spectrum)\n",
    "    return roi_list\n",
    "\n",
    "spans = selection_areas(span_number,spectrum,scale)"
   ]
  },
  {
   "cell_type": "markdown",
   "metadata": {},
   "source": [
    "Once you are satisfied with the selected areas, save their positions using the cell below"
   ]
  },
  {
   "cell_type": "code",
   "execution_count": null,
   "metadata": {},
   "outputs": [],
   "source": [
    "list_energies = [[roi.left,roi.right] for roi in spans]"
   ]
  },
  {
   "cell_type": "markdown",
   "metadata": {},
   "source": [
    "# III. Fitting the continuum\n",
    "\n",
    "⚠️ Input the sample parameters below and execute the cell to fit"
   ]
  },
  {
   "cell_type": "code",
   "execution_count": null,
   "metadata": {},
   "outputs": [],
   "source": [
    "thickness = 50e-7\n",
    "density = 5.11\n",
    "take_off_angle = 24\n",
    "elements_dict = {\"Sr\" : 0.25, \"Ti\" : 0.25, \"O\" : 0.5}\n",
    "detector = \"SDD_efficiency.txt\"\n",
    "\n",
    "#################################################################################################\n",
    "# For a custom detector, uncomment below and replace \"SDD_efficiency.txt\" with the dictionnary. #\n",
    "#################################################################################################\n",
    "\n",
    "# {\"detection\" : {\n",
    "#     \"thickness\" : 450e-4,\n",
    "#     \"elements_dict\" : {\n",
    "#         \"Si\" : 1.0\n",
    "#     }\n",
    "# },\"layer\" : {\n",
    "#     \"thickness\" : 10e-7,\n",
    "#     \"elements_dict\" : {\n",
    "#         \"Si\" : 0.33,\n",
    "#         \"O\" : 0.66,\n",
    "#         \"Al\" : 1.0\n",
    "#     }\n",
    "# }}\n",
    "\n",
    "part_x, part_y, sum_boola = sf.make_partial_xy(list_energies,spectrum,x)\n",
    "\n",
    "example = {\n",
    "    \"b0\" : 1.0,\n",
    "    \"b1\" : 1.0,\n",
    "    \"params_dict\" : {\n",
    "    \"Det\" : detector,\n",
    "    'Abs' : {\n",
    "        \"thickness\" : thickness,\n",
    "        \"toa\" : take_off_angle,\n",
    "        \"density\" : density,\n",
    "        \"atomic_fraction\" : True},\n",
    "        \"elements_dict\" : elements_dict\n",
    "    }\n",
    "}\n",
    "\n",
    "pars = sf.ndict_to_params(example)\n",
    "\n",
    "#################################################################################################\n",
    "# You can uncomment the lines below if you want to add constraints to the absorption parameters #\n",
    "#################################################################################################\n",
    "\n",
    "# pars[\"params_dict__Abs__thickness\"].vary = False\n",
    "# pars[\"params_dict__Abs__thickness\"].max = 5000e-7\n",
    "# pars[\"params_dict__Det__layer__thickness\"].vary = False\n",
    "pars[\"params_dict__Abs__toa\"].vary = False\n",
    "pars[\"params_dict__Abs__density\"].vary = False\n",
    "\n",
    "out = lm.minimize(sf.residual, pars, args=(part_x,), kws={'data': part_y})\n",
    "print(lm.fit_report(out))"
   ]
  },
  {
   "cell_type": "markdown",
   "metadata": {},
   "source": [
    "### Plotting the results\n",
    "\n",
    "The red curves corresponds to the background model, the black one to the data, and the grey area correspond to the selected green areas"
   ]
  },
  {
   "cell_type": "code",
   "execution_count": null,
   "metadata": {},
   "outputs": [],
   "source": [
    "y = spectrum.data\n",
    "bkgd = sf.residual(out.params,x)\n",
    "plt.plot(x,y,\"ko-\",markersize=1.5,label=\"exp\",markevery=10)\n",
    "plt.fill_between(x,0,y,where=sum_boola,label=\"fit windows\",color=\"0.8\")\n",
    "plt.xlabel(\"Energy (keV)\",fontsize=22)\n",
    "plt.xticks(fontsize=20)\n",
    "# plt.ylim(0,1)\n",
    "plt.yticks(fontsize=20)\n",
    "plt.ylabel(\"Intensity\",fontsize=22)\n",
    "plt.plot(x,bkgd,\"r-\",linewidth=1,label=\"fit\")\n",
    "plt.legend(fontsize=22)"
   ]
  },
  {
   "cell_type": "markdown",
   "metadata": {},
   "source": [
    "# VI. Select the interesting part of the spectrum\n",
    "\n",
    "⚠️ A window will pop up with a red spectrum and a green area. With the green areas, you can select the energy range you want to quantify. Usually the low energy region (below 1keV) is not very well fitted by the background model. Hence you probably want to avoid the quantification of low energy characteristic X rays. "
   ]
  },
  {
   "cell_type": "code",
   "execution_count": null,
   "metadata": {},
   "outputs": [],
   "source": [
    "s_bkgd = hs.signals.Signal1D(bkgd)\n",
    "s_bkgd.axes_manager[0].offset = offset\n",
    "s_bkgd.axes_manager[0].scale = scale\n",
    "\n",
    "spectrum.plot()\n",
    "ax = spectrum._plot.signal_plot.ax\n",
    "ax.add_line(matplotlib.lines.Line2D(spectrum._plot.axis.axis,bkgd.data))\n",
    "roi = hs.roi.SpanROI(200*scale,400*scale)\n",
    "roi.interactive(spectrum)"
   ]
  },
  {
   "cell_type": "markdown",
   "metadata": {},
   "source": [
    "### Accepting the choice of quantification energy range"
   ]
  },
  {
   "cell_type": "code",
   "execution_count": null,
   "metadata": {},
   "outputs": [],
   "source": [
    "charac_xrays = (spectrum.isig[roi.left:roi.right].data - s_bkgd.isig[roi.left:roi.right].data).clip(min=0)\n",
    "new_offset = spectrum.isig[roi.left:roi.right].axes_manager[0].offset\n",
    "new_size = spectrum.isig[roi.left:roi.right].axes_manager[0].size"
   ]
  },
  {
   "cell_type": "markdown",
   "metadata": {},
   "source": [
    "# VIII. Fitting the characteristic Xrays"
   ]
  },
  {
   "cell_type": "markdown",
   "metadata": {},
   "source": [
    "### Initialisation of the characteristic Xray model\n",
    "⚠️ Put the list of elements (by atomic numbers) you want to quantify in ``elt_list``. \n",
    "\n",
    "``G_calib`` is a small offset you may want to add so that the peaks are at the right energy. \n",
    "\n",
    "Note that depending on the energy range you chose, not all the elements you put are fitted (e.g. Oxygen will not be taken into account if your energy range starts at 1 keV)"
   ]
  },
  {
   "cell_type": "code",
   "execution_count": null,
   "metadata": {},
   "outputs": [],
   "source": [
    "elt_list = [\"Sr\", \"Ti\"]\n",
    "G_calib = -0.005\n",
    "db =  \"default_xrays.json\" # \"300kv_xrays.json\" \n",
    "\n",
    "params_dict = {\n",
    "    \"Abs\" : {\n",
    "        \"thickness\" : thickness,\n",
    "        \"density\" : density,\n",
    "        \"toa\" : take_off_angle\n",
    "    },\n",
    "    \"Det\" : detector\n",
    "}\n",
    "\n",
    "true_elt_list = []\n",
    "for elt in elt_list : \n",
    "    mod_t = edxs.EDXS(new_offset,new_size,scale,{},db_name = db)\n",
    "    mod_t.generate_g_matr(elements = [elt],norm=False, g_type = \"no_brstlg\")\n",
    "    G_t = mod_t.G\n",
    "    if G_t.shape[1] == 1 : \n",
    "        true_elt_list.append(elt)\n",
    "    \n",
    "mod = edxs.EDXS(new_offset + G_calib,new_size,scale,params_dict,db_name = db)\n",
    "mod.generate_g_matr(elements = true_elt_list,norm=False, g_type = \"no_brstlg\")\n",
    "G = mod.G\n",
    "new_x = np.linspace(new_offset,new_size*scale+new_offset,num = new_size)\n",
    "print(\"List of elements with Xray lines in the energy range :\")\n",
    "print(true_elt_list)"
   ]
  },
  {
   "cell_type": "markdown",
   "metadata": {},
   "source": [
    "### Fitting the characteristic Xrays"
   ]
  },
  {
   "cell_type": "code",
   "execution_count": null,
   "metadata": {},
   "outputs": [],
   "source": [
    "estimator = SmoothNMF(G=G,n_components= 1,max_iter=2000,force_simplex = True,tol = 1e-8,hspy_comp = False)\n",
    "estimator.fit_transform(charac_xrays[:,np.newaxis], H=np.array([1])[:,np.newaxis])\n",
    "W = estimator.W_"
   ]
  },
  {
   "cell_type": "markdown",
   "metadata": {},
   "source": [
    "# IX. Plot the results\n",
    "\n",
    "⚠️ The popping window will display the bkgd substracted experimental spectrum, the fitted characteristic Xrays model in black and red. Every element composing the model will be displayed with an offset : ``components_offset``. You can change its value below. \n",
    "\n",
    "If you want to display the names of the lines of an element that was used for quantification execute the next cells below before kill the window."
   ]
  },
  {
   "cell_type": "code",
   "execution_count": null,
   "metadata": {},
   "outputs": [],
   "source": [
    "components_offset = -0.1"
   ]
  },
  {
   "cell_type": "code",
   "execution_count": null,
   "metadata": {},
   "outputs": [],
   "source": [
    "linestyles = [\":\",\"--\",\"-.\"]\n",
    "\n",
    "plt.plot(new_x,charac_xrays,\"ko-\",label=\"exp\",markevery = 10)\n",
    "plt.plot(new_x,G@W,\"r\",linewidth = 3,label=\"theo\")\n",
    "plt.xticks(fontsize = 16)\n",
    "plt.yticks(fontsize = 16)\n",
    "plt.xlabel(\"energy (keV)\",fontsize = 18)\n",
    "plt.ylabel(\"Intensity\", fontsize = 18)\n",
    "\n",
    "for i in range(G.shape[1]) :\n",
    "    ls_string = linestyles[i%len(linestyles)] + \"C{}\".format(i%9)\n",
    "    plt.plot(new_x,G[:,i]*W[i]+components_offset,ls_string,label=str(true_elt_list[i]),linewidth=3)\n",
    "\n",
    "\n",
    "plt.legend(fontsize=18)\n",
    "plt.tight_layout()"
   ]
  },
  {
   "cell_type": "markdown",
   "metadata": {},
   "source": [
    "# X. Printing the concentrations"
   ]
  },
  {
   "cell_type": "markdown",
   "metadata": {},
   "source": [
    "Full summary of normalized concentrations."
   ]
  },
  {
   "cell_type": "code",
   "execution_count": null,
   "metadata": {},
   "outputs": [],
   "source": [
    "print_concentrations_from_W(W,elements = true_elt_list)"
   ]
  },
  {
   "cell_type": "markdown",
   "metadata": {},
   "source": [
    "⚠️ You can remove some elements of the results, normalizing on the remaining elements."
   ]
  },
  {
   "cell_type": "code",
   "execution_count": null,
   "metadata": {},
   "outputs": [],
   "source": [
    "ignored_elts = [\"Mg\"]\n",
    "\n",
    "inds = [true_elt_list.index(elt) for elt in ignored_elts]\n",
    "remain_elt_list = [v for i,v in enumerate(true_elt_list) if i not in frozenset(inds)] \n",
    "remain_W = np.delete(W, inds, axis=0)\n",
    "r = remain_W / remain_W.sum(axis=0)\n",
    "\n",
    "print_concentrations_from_W(r,remain_elt_list)"
   ]
  },
  {
   "cell_type": "markdown",
   "metadata": {},
   "source": [
    "# VI. Select the interesting part of the spectrum\n",
    "\n",
    "⚠️ A window will pop up with a red spectrum and a green area. With the green areas, you can select the energy range you want to quantify. Usually the low energy region (below 1keV) is not very well fitted by the background model. Hence you probably want to avoid the quantification of low energy characteristic X rays. "
   ]
  },
  {
   "cell_type": "code",
   "execution_count": null,
   "metadata": {},
   "outputs": [],
   "source": [
    "s_bkgd = hs.signals.Signal1D(bkgd)\n",
    "s_bkgd.axes_manager[0].offset = offset\n",
    "s_bkgd.axes_manager[0].scale = scale\n",
    "\n",
    "spectrum.plot()\n",
    "ax = spectrum._plot.signal_plot.ax\n",
    "ax.add_line(matplotlib.lines.Line2D(spectrum._plot.axis.axis,bkgd.data))\n",
    "roi = hs.roi.SpanROI(200*scale,400*scale)\n",
    "roi.interactive(spectrum)"
   ]
  },
  {
   "cell_type": "code",
   "execution_count": null,
   "metadata": {},
   "outputs": [],
   "source": [
    "charac_xrays = (spectrum.isig[roi.left:roi.right].data - s_bkgd.isig[roi.left:roi.right].data).clip(min=0)\n",
    "new_offset = spectrum.isig[roi.left:roi.right].axes_manager[0].offset\n",
    "new_size = spectrum.isig[roi.left:roi.right].axes_manager[0].size"
   ]
  },
  {
   "cell_type": "markdown",
   "metadata": {},
   "source": [
    "⚠️ If you want to fix the values of P you obtained in a previous fit put them in ``fixed_elts`` and execute the two following cells. \n",
    "\n",
    "For a two steps quantification : Chose a first energy range. Perform a first fit, which initialise P with all the elements. Then go back to the energy range selection, ignore the cell above, chose the fixed elements and perform the fit with fixed elements below. "
   ]
  },
  {
   "cell_type": "code",
   "execution_count": null,
   "metadata": {},
   "outputs": [],
   "source": [
    "print(\"Previous Values for W\")\n",
    "for i,elt in enumerate(true_elt_list) : \n",
    "    print(elt, \" : \", W[i])"
   ]
  },
  {
   "cell_type": "code",
   "execution_count": null,
   "metadata": {},
   "outputs": [],
   "source": [
    "fixed_elts = {\"p1\" : {\"Cl\" : 4.26588157e+18}}\n",
    "\n",
    "dummy_spim = spim.EDS_espm(np.array([1]))\n",
    "dummy_spim.add_elements(elements = true_elt_list)\n",
    "dummy_spim.problem_type = \"no_brstlg\"\n",
    "\n",
    "fixed_W = dummy_spim.set_fixed_W(fixed_elts)"
   ]
  },
  {
   "cell_type": "code",
   "execution_count": null,
   "metadata": {},
   "outputs": [],
   "source": [
    "estimator = NMF(G=G,n_components= 1,max_iter=2000,force_simplex = True,tol = 1e-8,hspy_comp = False,fixed_W = fixed_W)\n",
    "estimator.fit_transform(charac_xrays[:,np.newaxis], H=np.array([1])[:,np.newaxis])\n",
    "new_W = estimator.W_"
   ]
  },
  {
   "cell_type": "code",
   "execution_count": null,
   "metadata": {},
   "outputs": [],
   "source": [
    "print_concentrations_from_W(new_W,elements = true_elt_list)"
   ]
  },
  {
   "cell_type": "code",
   "execution_count": null,
   "metadata": {},
   "outputs": [],
   "source": [
    "ignored_elts = [\"Mg\"]\n",
    "\n",
    "inds = [true_elt_list.index(elt) for elt in ignored_elts]\n",
    "remain_elt_list = [v for i,v in enumerate(true_elt_list) if i not in frozenset(inds)] \n",
    "remain_W = np.delete(new_W, inds, axis=0)\n",
    "r = remain_W / remain_W.sum(axis=0)\n",
    "print_concentrations_from_W(r,elements = true_elt_list)"
   ]
  }
 ],
 "metadata": {
  "kernelspec": {
   "display_name": "Python 3.10.6 ('espm')",
   "language": "python",
   "name": "python3"
  },
  "language_info": {
   "codemirror_mode": {
    "name": "ipython",
    "version": 3
   },
   "file_extension": ".py",
   "mimetype": "text/x-python",
   "name": "python",
   "nbconvert_exporter": "python",
   "pygments_lexer": "ipython3",
   "version": "3.10.6"
  },
  "vscode": {
   "interpreter": {
    "hash": "8d2c37261bd18724b44288178b5d93ac658e7a29aba4ea6c1b1b0710c1696ef2"
   }
  }
 },
 "nbformat": 4,
 "nbformat_minor": 4
}
