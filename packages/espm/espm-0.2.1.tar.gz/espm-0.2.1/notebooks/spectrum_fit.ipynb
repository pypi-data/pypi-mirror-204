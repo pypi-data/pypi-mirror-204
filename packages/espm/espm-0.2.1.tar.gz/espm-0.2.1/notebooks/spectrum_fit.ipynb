{
 "cells": [
  {
   "cell_type": "code",
   "execution_count": null,
   "metadata": {},
   "outputs": [],
   "source": [
    "# %matplotlib inline\n",
    "%matplotlib qt\n",
    "import hyperspy.api as hs\n",
    "import numpy as np\n",
    "import matplotlib.pyplot as plt\n",
    "import matplotlib\n",
    "from espm.models import edxs\n",
    "from espm.models.EDXS_function import print_concentrations_from_W\n",
    "from espm.conf import DATASETS_PATH\n",
    "from pathlib import Path\n",
    "from espm.datasets import spim\n",
    "import espm.tables_utils as tu\n",
    "from espm.estimators import SmoothNMF"
   ]
  },
  {
   "cell_type": "code",
   "execution_count": null,
   "metadata": {},
   "outputs": [],
   "source": [
    "s = hs.load(\"/home/adrien/travail/espm/generated_datasets/FpBrgCaPv_N293_paper/sample_0.hspy\")\n",
    "s.change_dtype(\"float64\")"
   ]
  },
  {
   "cell_type": "code",
   "execution_count": null,
   "metadata": {},
   "outputs": [],
   "source": [
    "s.metadata.Sample.thickness = 0.0"
   ]
  },
  {
   "cell_type": "code",
   "execution_count": null,
   "metadata": {},
   "outputs": [],
   "source": [
    "G = s.build_G(norm = True)\n",
    "est = SmoothNMF( n_components = 3,tol=0.00001, max_iter = 100, G = G,hspy_comp = True)\n",
    "\n",
    "s.decomposition(algorithm=est)"
   ]
  },
  {
   "cell_type": "code",
   "execution_count": null,
   "metadata": {},
   "outputs": [],
   "source": [
    "x = np.linspace(s.axes_manager[2].offset,s.axes_manager[2].offset + s.axes_manager[2].scale*s.axes_manager[2].size, num = s.axes_manager[2].size)\n",
    "plt.plot(x,G()[:,10])"
   ]
  },
  {
   "cell_type": "code",
   "execution_count": null,
   "metadata": {},
   "outputs": [],
   "source": [
    "s.metadata.Sample.elements"
   ]
  },
  {
   "cell_type": "code",
   "execution_count": null,
   "metadata": {},
   "outputs": [],
   "source": [
    "W = est.W_\n",
    "H = est.H_\n",
    "fe1 = (W[10]@H).reshape((128,128))\n",
    "fe2 = (W[11]@H).reshape((128,128))\n",
    "\n"
   ]
  },
  {
   "cell_type": "code",
   "execution_count": null,
   "metadata": {},
   "outputs": [],
   "source": [
    "from espm.models.absorption_edxs import absorption_correction, absorption_coefficient\n",
    "A = absorption_correction(0.7,thickness=0.1, density=3.0, toa=90,elements_dict = {\"26\" : 1.0})"
   ]
  },
  {
   "cell_type": "code",
   "execution_count": null,
   "metadata": {},
   "outputs": [],
   "source": [
    "energy = 0.7\n",
    "toa = s.metadata.Acquisition_instrument.TEM.Detector.EDS.take_off_angle\n",
    "\n",
    "def abs_map(l_map, energy, toa, mass_thickness, elements_dict = {\"26\" :1.0}) : \n",
    "    mu = absorption_coefficient(energy,atomic_fraction=False,elements_dict= elements_dict)\n",
    "    rad_toa = np.deg2rad(toa)\n",
    "    chi = mu*mass_thickness/np.sin(rad_toa)\n",
    "    return l_map*((1 - np.exp(-chi))/chi)\n",
    "\n",
    "\n",
    "m = abs_map(fe1,energy,toa,np.random.rand(128,128))\n",
    "\n",
    "plt.imshow(m)"
   ]
  },
  {
   "cell_type": "code",
   "execution_count": null,
   "metadata": {},
   "outputs": [],
   "source": [
    "# <examples/doc_parameters_basic.py>\n",
    "import numpy as np\n",
    "\n",
    "from lmfit import Minimizer, Parameters, report_fit\n",
    "from tqdm import tqdm\n",
    "\n",
    "# define objective function: returns the array to be minimized\n",
    "def absorption_fit(params,data,energy1, energy2, toa, elements_dict = {}):\n",
    "    \"\"\"Model a decaying sine wave and subtract data.\"\"\"\n",
    "    mt = params['mass_thickness']\n",
    "    mu1 = absorption_coefficient(energy1,atomic_fraction=False,elements_dict= elements_dict)\n",
    "    mu2 = absorption_coefficient(energy2,atomic_fraction=False,elements_dict= elements_dict)\n",
    "    rad_toa = np.deg2rad(toa)\n",
    "    chi1 = mu1*mt/np.sin(rad_toa)\n",
    "    chi2 = mu2*mt/np.sin(rad_toa)\n",
    "    model = (1 - np.exp(-chi2))/(1 - np.exp(-chi1))*(mu1/mu2)\n",
    "    return model - data\n",
    "\n",
    "\n",
    "# create a set of Parameters\n",
    "params = Parameters()\n",
    "params.add('mass_thickness', value=0.0085, min=1e-10)\n",
    "\n",
    "# do fit, here with the default leastsq algorithm\n",
    "mt_map = np.zeros_like(s.data[:,:,0])\n",
    "data = fe1/fe2\n",
    "for i in tqdm(range(mt_map.shape[0])) : \n",
    "    for j in range(mt_map.shape[1]) :\n",
    "        curr_data = data[i,j]\n",
    "        minner = Minimizer(absorption_fit, params, fcn_args=(curr_data,0.7,6.4,s.metadata.Acquisition_instrument.TEM.Detector.EDS.take_off_angle, {'26' : 1.0} ))\n",
    "        result = minner.minimize()\n",
    "        mt_map[i,j] = result.params['mass_thickness'].value\n",
    "        params['mass_thickness'].value = result.params['mass_thickness'].value"
   ]
  },
  {
   "cell_type": "code",
   "execution_count": null,
   "metadata": {},
   "outputs": [],
   "source": [
    "def absorption_mass_thickness(x,mass_thickness, toa = 90, atomic_fraction = True, *, elements_dict = {\"Si\" : 1.0}) : \n",
    "    mu = absorption_coefficient(x,atomic_fraction,elements_dict = elements_dict)\n",
    "    rad_toa = np.deg2rad(toa)\n",
    "    if type(mu) == float : \n",
    "        chi = mu*mass_thickness/np.sin(rad_toa)\n",
    "    else : \n",
    "        chi = mu[:,np.newaxis]@((mass_thickness.reshape(-1)[:,np.newaxis]).T)/np.sin(rad_toa)\n",
    "    return (1-np.exp(-chi))/chi"
   ]
  },
  {
   "cell_type": "code",
   "execution_count": null,
   "metadata": {},
   "outputs": [],
   "source": [
    "ed"
   ]
  },
  {
   "cell_type": "code",
   "execution_count": null,
   "metadata": {},
   "outputs": [],
   "source": [
    "plt.plot(s.data.sum(axis=(0,1)))"
   ]
  },
  {
   "cell_type": "code",
   "execution_count": null,
   "metadata": {},
   "outputs": [],
   "source": [
    "ed = {}\n",
    "i = 0\n",
    "for elt in s.metadata.Sample.elements : \n",
    "    if elt == \"Fe\" : \n",
    "        i += 1\n",
    "    ed[elt] = np.mean(est.W_[i])\n",
    "    i+=1"
   ]
  },
  {
   "cell_type": "code",
   "execution_count": null,
   "metadata": {},
   "outputs": [],
   "source": [
    "absc = absorption_mass_thickness(x,mt_map,toa = s.metadata.Acquisition_instrument.TEM.Detector.EDS.take_off_angle, elements_dict = ed)"
   ]
  },
  {
   "cell_type": "code",
   "execution_count": null,
   "metadata": {},
   "outputs": [],
   "source": [
    "abscr = absc.T.reshape((128,128,1980))"
   ]
  },
  {
   "cell_type": "code",
   "execution_count": null,
   "metadata": {},
   "outputs": [],
   "source": [
    "sabscr = hs.signals.Signal1D(abscr)"
   ]
  },
  {
   "cell_type": "code",
   "execution_count": null,
   "metadata": {},
   "outputs": [],
   "source": [
    "sabscr.plot()"
   ]
  },
  {
   "cell_type": "code",
   "execution_count": null,
   "metadata": {},
   "outputs": [],
   "source": [
    "s.data = s.data/sabscr.data"
   ]
  },
  {
   "cell_type": "code",
   "execution_count": null,
   "metadata": {},
   "outputs": [],
   "source": [
    "sabscr.plot()"
   ]
  },
  {
   "cell_type": "code",
   "execution_count": null,
   "metadata": {},
   "outputs": [],
   "source": [
    "G = s.build_G(norm = True)\n",
    "est = SmoothNMF( n_components = 3,tol=0.00001, max_iter = 100, G = G,hspy_comp = True)\n",
    "\n",
    "s.decomposition(algorithm=est)"
   ]
  },
  {
   "cell_type": "code",
   "execution_count": null,
   "metadata": {},
   "outputs": [],
   "source": [
    "s.plot_decomposition_results()"
   ]
  },
  {
   "cell_type": "code",
   "execution_count": null,
   "metadata": {
    "tags": []
   },
   "outputs": [],
   "source": [
    "spim = hs.load(\"eds_rebin.hspy\")\n",
    "\n",
    "spim.set_signal_type(\"EDS_espm\")\n",
    "spim.set_additional_parameters(thickness = 0.0,density = 2.1,detector_type = \"Det_eff.txt\",width_slope = 0.01,width_intercept = 0.065,xray_db = \"300keV_corentin_xrays.json\")\n",
    "spim.metadata.Sample.elements = ['Al','C','Cr','Cu','F','Fe','Mg','N','Na','Ni','O','S','Si']\n",
    "\n",
    "# spim.set_analysis_parameters(beam_energy = 300,\n",
    "# azimuth_angle = 0.0,\n",
    "# elevation_angle = 35.0,\n",
    "# elements = ['Al', 'C', 'Ca', 'Cl', 'Cr', 'Cu', 'F', 'Fe', 'Ga', 'K', 'Mg', 'Mn', 'N', 'Na', 'Ni', 'O', 'P', 'Pt', 'S', 'Si', 'Ti', 'Zr'],\n",
    "# tilt_stage = -6.071,\n",
    "# thickness = 80e-7,\n",
    "# density = 2.1,\n",
    "# detector_type = \"Det_eff.txt\",\n",
    "# width_slope = 0.01,\n",
    "# width_intercept = 0.065,\n",
    "# xray_db = \"300keV_corentin_xrays.json\")\n",
    "\n",
    "cropped_spim = spim.inav[1:195,:].isig[:7.8]"
   ]
  },
  {
   "cell_type": "code",
   "execution_count": null,
   "metadata": {},
   "outputs": [],
   "source": [
    "spectrum = hs.load(\"phyllo_spectre_moyen.hspy\")\n",
    "spectrum.set_signal_type(\"EDS_espm\")\n",
    "spectrum.axes_manager[0].offset += +0.000\n",
    "spectrum.set_additional_parameters(thickness = 0.0,density = 2.1,detector_type = \"Det_eff.txt\",width_slope = 0.01,width_intercept = 0.065,xray_db = \"300keV_corentin_xrays.json\")\n",
    "spectrum.metadata.Sample.elements = ['K','Pt','Al','C','Cr','Cu','F','Fe','Ga','Mg','N','Na','Ni','O','S','Si']\n",
    "\n",
    "cropped_spim = spectrum.isig[:7.8]\n",
    "\n",
    "G_ref = cropped_spim.build_G(\"bremsstrahlung\", norm = True, reference_elt={'26' : 3.0,\"24\" : 3.0})\n",
    "\n",
    "est_ref = SmoothNMF(n_components = 1, tol = 0.000001, max_iter = 10000000, G = G_ref)\n",
    " \n",
    "est_ref.fit(cropped_spim.data[:,np.newaxis])\n",
    "\n",
    "fW = est_ref.W_\n",
    "fG = est_ref.G_\n",
    "\n",
    "x = np.linspace(cropped_spim.axes_manager[0].offset, cropped_spim.axes_manager[0].offset + cropped_spim.axes_manager[0].scale*cropped_spim.axes_manager[0].size, num = cropped_spim.axes_manager[0].size)\n",
    "\n",
    "# <examples/doc_parameters_basic.py>\n",
    "import numpy as np\n",
    "\n",
    "from lmfit import Minimizer, Parameters, report_fit\n",
    "from tqdm import tqdm\n",
    "from espm.models.absorption_edxs import absorption_correction, absorption_coefficient\n",
    "\n",
    "# define objective function: returns the array to be minimized\n",
    "def absorption_fit(params,data,energy1, energy2, toa, elements_dict = {}):\n",
    "    \"\"\"Model a decaying sine wave and subtract data.\"\"\"\n",
    "    mt = params['mass_thickness']\n",
    "    mu1 = absorption_coefficient(energy1,atomic_fraction=False,elements_dict= elements_dict)\n",
    "    mu2 = absorption_coefficient(energy2,atomic_fraction=False,elements_dict= elements_dict)\n",
    "    rad_toa = np.deg2rad(toa)\n",
    "    chi1 = mu1*mt/np.sin(rad_toa)\n",
    "    chi2 = mu2*mt/np.sin(rad_toa)\n",
    "    model = (1 - np.exp(-chi1))/(1 - np.exp(-chi2))*(mu2/mu1)\n",
    "    return model - data\n",
    "\n",
    "\n",
    "# create a set of Parameters\n",
    "params = Parameters()\n",
    "params.add('mass_thickness', value=0.0005, min=1e-10)\n",
    "\n",
    "\n",
    "cr_ratio = fW[2]/fW[3]\n",
    "fe_ratio = fW[6]/fW[7]\n",
    "# do fit, here with the default leastsq algorithm\n",
    "\n",
    "\n",
    "curr_data = fe_ratio\n",
    "minner = Minimizer(absorption_fit, params, fcn_args=(curr_data,0.7,6.4,cropped_spim.metadata.Acquisition_instrument.TEM.Detector.EDS.take_off_angle, {\"26\" : 1.0} ))\n",
    "result = minner.minimize()\n",
    "print(result.params['mass_thickness'].value)\n",
    "        # params['mass_thickness'].value = result.params['mass_thickness'].value\n",
    "\n",
    "plt.plot(x,cropped_spim.data,'ko',markersize = 3.5,label = \"Experimental\")\n",
    "plt.plot(x,fG@fW,'r',linewidth = 2, label = \"Simulated\")\n",
    "plt.legend()\n",
    "plt.xlabel(\"Energy (keV)\")\n",
    "plt.ylabel(\"Intensity (cts)\")\n",
    "plt.ylim(0,4)\n",
    "plt.tight_layout()"
   ]
  },
  {
   "cell_type": "code",
   "execution_count": null,
   "metadata": {},
   "outputs": [],
   "source": [
    "spectrum = hs.load(\"phyllo_spectre_moyen.hspy\")\n",
    "spectrum.set_signal_type(\"EDS_espm\")\n",
    "spectrum.axes_manager[0].offset += +0.000\n",
    "spectrum.set_additional_parameters(thickness = 0.0004934,density = 1.0,detector_type = \"Det_eff.txt\",width_slope = 0.01,width_intercept = 0.065,xray_db = \"300keV_corentin_xrays.json\")\n",
    "spectrum.metadata.Sample.elements = ['Al','C','Cr','Cu','F','Fe','Ga','Mg','N','Na','Ni','O','S','Si']\n",
    "\n",
    "cropped_spim = spectrum.isig[:7.8]\n",
    "\n",
    "G_nref = cropped_spim.build_G(\"bremsstrahlung\", norm = True, reference_elt={})\n",
    "\n",
    "est_nref = SmoothNMF(n_components = 1, tol = 0.000001, max_iter = 10000000, G = G_nref)\n",
    " \n",
    "est_nref.fit(cropped_spim.data[:,np.newaxis])\n",
    "\n",
    "fWn = est_nref.W_\n",
    "fGn = est_nref.G_"
   ]
  },
  {
   "cell_type": "code",
   "execution_count": null,
   "metadata": {},
   "outputs": [],
   "source": [
    "W = np.vstack((fW[:2], fW[3:6],fW[7:]))\n",
    "nW = W/W.sum(axis = 0,keepdims = True)\n",
    "siW = nW/nW[-3]\n",
    "\n",
    "\n",
    "i = 0\n",
    "for j in cropped_spim.metadata.Sample.elements : \n",
    "    if j == 'Cu' : \n",
    "        pass\n",
    "    else : \n",
    "        print(\"{} : {}\".format(j,siW[i]))\n",
    "        i +=1"
   ]
  },
  {
   "cell_type": "code",
   "execution_count": null,
   "metadata": {},
   "outputs": [],
   "source": [
    "fW/fW[-3]"
   ]
  },
  {
   "cell_type": "code",
   "execution_count": null,
   "metadata": {},
   "outputs": [],
   "source": [
    "fWn/fWn[-3]"
   ]
  },
  {
   "cell_type": "code",
   "execution_count": null,
   "metadata": {},
   "outputs": [],
   "source": []
  },
  {
   "cell_type": "code",
   "execution_count": null,
   "metadata": {},
   "outputs": [],
   "source": [
    "G_no_ref = cropped_spim.build_G(\"bremsstrahlung\",norm = True, reference_elt = {})\n",
    "est_no_ref = SmoothNMF( n_components = 7,tol=0.000001, max_iter = 1000000, G = G_no_ref,hspy_comp = True)\n",
    "\n",
    "cropped_spim.decomposition(algorithm=est_no_ref)"
   ]
  },
  {
   "cell_type": "code",
   "execution_count": null,
   "metadata": {},
   "outputs": [],
   "source": [
    "cropped_spim.save(\"eds_rebin_results_no_thickness_noCu.hspy\")"
   ]
  },
  {
   "cell_type": "code",
   "execution_count": null,
   "metadata": {},
   "outputs": [],
   "source": [
    "G_ref = cropped_spim.build_G(\"bremsstrahlung\",norm = True, reference_elt = {\"26\":3.0})\n",
    "est_ref = SmoothNMF( n_components = 7,tol=0.000001, max_iter = 1000000, G = G_ref,hspy_comp = True)\n",
    "\n",
    "cropped_spim.decomposition(algorithm=est_ref)"
   ]
  },
  {
   "cell_type": "code",
   "execution_count": null,
   "metadata": {},
   "outputs": [],
   "source": [
    "W = est_ref.W_\n",
    "H = est_ref.H_\n",
    "\n",
    "iron_ratio = ((W[5]@H).reshape((68,194)))/((W[6]@H).reshape((68,194)))\n",
    "\n",
    "# iron_ratio = (W[6]@H).reshape((68,195))/(W[7]@H).reshape((68,195)) "
   ]
  },
  {
   "cell_type": "code",
   "execution_count": null,
   "metadata": {},
   "outputs": [],
   "source": [
    "ed = {}\n",
    "i = 0\n",
    "W = est_ref.W_\n",
    "for elt in cropped_spim.metadata.Sample.elements : \n",
    "    if elt == \"Fe\" : \n",
    "        i += 1\n",
    "    ed[elt] = np.mean(W[i])\n",
    "    i+=1\n",
    "\n",
    "ed"
   ]
  },
  {
   "cell_type": "code",
   "execution_count": null,
   "metadata": {},
   "outputs": [],
   "source": [
    "# <examples/doc_parameters_basic.py>\n",
    "import numpy as np\n",
    "\n",
    "from lmfit import Minimizer, Parameters, report_fit\n",
    "from tqdm import tqdm\n",
    "from espm.models.absorption_edxs import absorption_correction, absorption_coefficient\n",
    "\n",
    "# define objective function: returns the array to be minimized\n",
    "def absorption_fit(params,data,energy1, energy2, toa, elements_dict = {}):\n",
    "    \"\"\"Model a decaying sine wave and subtract data.\"\"\"\n",
    "    mt = params['mass_thickness']\n",
    "    mu1 = absorption_coefficient(energy1,atomic_fraction=False,elements_dict= elements_dict)\n",
    "    mu2 = absorption_coefficient(energy2,atomic_fraction=False,elements_dict= elements_dict)\n",
    "    rad_toa = np.deg2rad(toa)\n",
    "    chi1 = mu1*mt/np.sin(rad_toa)\n",
    "    chi2 = mu2*mt/np.sin(rad_toa)\n",
    "    model = (1 - np.exp(-chi1))/(1 - np.exp(-chi2))*(mu2/mu1)\n",
    "    return model - data\n",
    "\n",
    "\n",
    "# create a set of Parameters\n",
    "params = Parameters()\n",
    "params.add('mass_thickness', value=0.00085, min=1e-10)\n",
    "\n",
    "# do fit, here with the default leastsq algorithm\n",
    "mt_map = np.zeros_like(cropped_spim.data[:,:,0])\n",
    "for i in tqdm(range(mt_map.shape[0])) : \n",
    "    for j in range(mt_map.shape[1]) :\n",
    "        curr_data = iron_ratio[i,j]\n",
    "        minner = Minimizer(absorption_fit, params, fcn_args=(curr_data,0.7,6.4,cropped_spim.metadata.Acquisition_instrument.TEM.Detector.EDS.take_off_angle, {\"26\" : 1.0} ))\n",
    "        result = minner.minimize()\n",
    "        mt_map[i,j] = result.params['mass_thickness'].value\n",
    "        # params['mass_thickness'].value = result.params['mass_thickness'].value"
   ]
  },
  {
   "cell_type": "code",
   "execution_count": null,
   "metadata": {},
   "outputs": [],
   "source": [
    "plt.imshow(mt_map)"
   ]
  },
  {
   "cell_type": "code",
   "execution_count": null,
   "metadata": {},
   "outputs": [],
   "source": [
    "offset = cropped_spim.axes_manager[2].offset\n",
    "size = cropped_spim.axes_manager[2].size\n",
    "scale = cropped_spim.axes_manager[2].scale\n",
    "x = np.linspace(offset, scale*size + offset, num = size)\n",
    "absc = absorption_mass_thickness(x,mt_map,toa = cropped_spim.metadata.Acquisition_instrument.TEM.Detector.EDS.take_off_angle, elements_dict = {\"F\" : 0.47,\"Fe\" : 0.25, \"Si\" : 1.0, \"O\" : 2.6, \"Mg\" : 0.9, \"C\" : 0.6})\n",
    "abscr = absc.T.reshape((cropped_spim.axes_manager[1].size,cropped_spim.axes_manager[0].size,size))"
   ]
  },
  {
   "cell_type": "code",
   "execution_count": null,
   "metadata": {},
   "outputs": [],
   "source": [
    "hs.signals.Signal1D(abscr).plot()"
   ]
  },
  {
   "cell_type": "code",
   "execution_count": null,
   "metadata": {},
   "outputs": [],
   "source": [
    "plt.plot(x,abs_corr.get_decomposition_model().mean().data, label = 'abs corr')\n",
    "plt.plot(x,cropped_spim.mean().data,'ko', markersize = 1.3,  label = \"exp\")\n",
    "plt.plot(x, no_abs.get_decomposition_model().mean().data, label = 'no thickness')\n",
    "plt.plot(x,abs.get_decomposition_model().mean().data,label = \"abs\")\n",
    "plt.legend()"
   ]
  },
  {
   "cell_type": "code",
   "execution_count": null,
   "metadata": {},
   "outputs": [],
   "source": [
    "ns = cropped_spim.copy()\n",
    "ns.data = cropped_spim.data/abscr"
   ]
  },
  {
   "cell_type": "code",
   "execution_count": null,
   "metadata": {},
   "outputs": [],
   "source": [
    "cropped_spim.plot()"
   ]
  },
  {
   "cell_type": "code",
   "execution_count": null,
   "metadata": {},
   "outputs": [],
   "source": [
    "G_aft = ns.build_G(\"bremsstrahlung\",norm = True, reference_elt={})\n",
    "est_aft = SmoothNMF( n_components = 7,tol=0.000001, max_iter = 1000000, G = G_aft,hspy_comp = True)\n",
    "\n",
    "ns.decomposition(algorithm=est_aft)"
   ]
  },
  {
   "cell_type": "code",
   "execution_count": null,
   "metadata": {},
   "outputs": [],
   "source": [
    "ns.save(\"eds_rebin_results_after_correction_noCu.hspy\")"
   ]
  },
  {
   "cell_type": "code",
   "execution_count": null,
   "metadata": {},
   "outputs": [],
   "source": [
    "W = np.vstack((est_aft.W_[:3], est_aft.W_[4:]))\n",
    "nW = W/W.sum(axis = 0,keepdims = True)\n",
    "sW = np.sum(nW,axis = 1)\n",
    "siW = sW/sW[-3]\n",
    "\n",
    "W1 = np.vstack((est_no_ref.W_[:5], est_no_ref.W_[6:]))\n",
    "nW1 = W1/W1.sum(axis = 0,keepdims = True)\n",
    "sW1 = np.sum(nW1,axis = 1)\n",
    "siW1 = sW1/sW1[-5]\n",
    "\n",
    "i = 0\n",
    "for j in cropped_spim.metadata.Sample.elements : \n",
    "    if j == 'Cu' : \n",
    "        pass\n",
    "    else : \n",
    "        print(\"{} : {}\".format(j,siW[i]))\n",
    "        i +=1\n",
    "\n",
    "i = 0\n",
    "for j in cropped_spim.metadata.Sample.elements : \n",
    "    if j == 'Cu' : \n",
    "        pass\n",
    "    else : \n",
    "        print(\"{} : {}\".format(j,siW1[i]))\n",
    "        i +=1"
   ]
  },
  {
   "cell_type": "code",
   "execution_count": null,
   "metadata": {},
   "outputs": [],
   "source": [
    "ns.plot_decomposition_results()"
   ]
  },
  {
   "cell_type": "code",
   "execution_count": null,
   "metadata": {},
   "outputs": [],
   "source": [
    "cropped_spim.plot_decomposition_results()"
   ]
  },
  {
   "cell_type": "code",
   "execution_count": null,
   "metadata": {},
   "outputs": [],
   "source": [
    "factors = ns.get_decomposition_factors().data\n",
    "plt.plot(factors[4])"
   ]
  },
  {
   "cell_type": "code",
   "execution_count": null,
   "metadata": {},
   "outputs": [],
   "source": [
    "H = est_aft.H_.reshape((7,68,194))\n",
    "factors = est_ref.G_@est_ref.W_\n",
    "for i,j in enumerate(H) : \n",
    "    new_mt = (mt_map*j).clip(min = 1e-10)\n",
    "    abs_map = absorption_mass_thickness(x,new_mt,toa = cropped_spim.metadata.Acquisition_instrument.TEM.Detector.EDS.take_off_angle, elements_dict = ed)\n",
    "    print(np.isnan(factors[i]).sum())\n",
    "    factors[i] /= np.mean(abs_map)"
   ]
  },
  {
   "cell_type": "code",
   "execution_count": null,
   "metadata": {},
   "outputs": [],
   "source": [
    "resu = (factors@est_ref.H_).sum(axis = 1 )/(194*68)"
   ]
  },
  {
   "cell_type": "code",
   "execution_count": null,
   "metadata": {},
   "outputs": [],
   "source": [
    "no_abs = hs.load(\"eds_rebin_results_no_thickness_noCu.hspy\")"
   ]
  },
  {
   "cell_type": "code",
   "execution_count": null,
   "metadata": {},
   "outputs": [],
   "source": [
    "# plt.plot(x,abs.mean().data)\n",
    "plt.plot(x+0.005,resu, label = 'abs_corr')\n",
    "plt.plot(x,no_abs.get_decomposition_model().mean().data, label = \"no\")\n",
    "plt.plot(x,cropped_spim.mean().data, 'ko', markersize = 1.5, label = \"exp\")\n",
    "plt.legend()"
   ]
  },
  {
   "cell_type": "code",
   "execution_count": null,
   "metadata": {},
   "outputs": [],
   "source": [
    "np.isnan(factors).sum()"
   ]
  },
  {
   "cell_type": "code",
   "execution_count": null,
   "metadata": {},
   "outputs": [],
   "source": [
    "sp =  hs.load(filenames=[\"sp_C.hspy\",\"sp_FeNiS.hspy\",\"sp_FeO.hspy\",\"sp_FeS.hspy\",\"sp_Si_1.hspy\",\"sp_Si_2.hspy\",\"sp_ZnS.hspy\"])\n",
    "maps = hs.load(\"Map_mixing_model_7comp.hspy\")"
   ]
  },
  {
   "cell_type": "code",
   "execution_count": null,
   "metadata": {},
   "outputs": [],
   "source": [
    "maps.plot(title = \"truth\")\n",
    "ns.get_decomposition_loadings().plot()"
   ]
  },
  {
   "cell_type": "code",
   "execution_count": null,
   "metadata": {},
   "outputs": [],
   "source": [
    "fig, ax = plt.subplots()\n",
    "ax.plot(sp[4]*10)\n",
    "ax.plot(factors[:,0])"
   ]
  },
  {
   "cell_type": "code",
   "execution_count": null,
   "metadata": {},
   "outputs": [],
   "source": [
    "fig1,ax1 = plt.subplots()\n",
    "ax1.plot(x,sp[1])\n",
    "ax1.plot(x,factors[2])"
   ]
  },
  {
   "cell_type": "code",
   "execution_count": null,
   "metadata": {},
   "outputs": [],
   "source": [
    "fig2, ax2 = plt.subplots()\n",
    "ax2.imshow(mt_map)"
   ]
  },
  {
   "cell_type": "code",
   "execution_count": null,
   "metadata": {},
   "outputs": [],
   "source": [
    "abs_corr.get_decomposition_loadings().plot(title = \"Corrected\")\n",
    "abs.get_decomposition_loadings().plot(title = \"absorption\")\n",
    "no_abs.get_decomposition_loadings().plot(title = \"no thickness\")"
   ]
  },
  {
   "cell_type": "code",
   "execution_count": null,
   "metadata": {},
   "outputs": [],
   "source": [
    "for i,j in enumerate(cropped_spim.metadata.Sample.elements) :\n",
    "    print(\"element {}: {}\".format(j,est_ref.W_[i])) "
   ]
  },
  {
   "cell_type": "code",
   "execution_count": null,
   "metadata": {},
   "outputs": [],
   "source": [
    "no_abs = hs.load('eds_rebin_results_no_thickness.hspy')\n",
    "abs = hs.load('eds_rebin_results_abs.hspy')\n",
    "abs_corr = hs.load('eds_rebin_results_after_correction.hspy')"
   ]
  },
  {
   "cell_type": "code",
   "execution_count": null,
   "metadata": {
    "jupyter": {
     "outputs_hidden": true
    },
    "tags": []
   },
   "outputs": [],
   "source": [
    "cropped_spim.plot_decomposition_results()\n",
    "\n",
    "fW = est_aft.W_\n",
    "print_concentrations_from_W(fW[:-2,:],elements = cropped_spim.metadata.Sample.elements)"
   ]
  },
  {
   "cell_type": "code",
   "execution_count": null,
   "metadata": {},
   "outputs": [],
   "source": [
    "cfW = np.vstack((fW[:5],fW[6:]))\n",
    "sfw = cfW.sum(axis = 1)\n",
    "ssfw = sfw/sfw.sum()\n",
    "nssfw = ssfw\n",
    "for i,j in enumerate(ns.metadata.Sample.elements) : \n",
    "    print('{} : {}'.format(j,nssfw[i]))\n"
   ]
  },
  {
   "cell_type": "code",
   "execution_count": null,
   "metadata": {},
   "outputs": [],
   "source": [
    "abscr.shape"
   ]
  },
  {
   "cell_type": "code",
   "execution_count": null,
   "metadata": {},
   "outputs": [],
   "source": [
    "plt.plot(np.mean(G()@est.W_@est.H_, axis = 1))\n",
    "plt.plot(ns.mean())"
   ]
  },
  {
   "cell_type": "code",
   "execution_count": null,
   "metadata": {},
   "outputs": [],
   "source": [
    "ed = {}\n",
    "i = 0\n",
    "for elt in cropped_spim.metadata.Sample.elements : \n",
    "    if elt == \"Fe\" : \n",
    "        i += 1\n",
    "    ed[elt] = np.mean(est.W_[i])\n",
    "    \n",
    "    i+=1\n",
    "\n",
    "summ = 0\n",
    "for i in ed : \n",
    "    summ += ed[i]\n",
    "    \n",
    "for i in ed : \n",
    "    ed[i] = ed[i]/summ\n",
    "    \n",
    "ed"
   ]
  },
  {
   "cell_type": "code",
   "execution_count": null,
   "metadata": {},
   "outputs": [],
   "source": [
    "input_filename = str(\"phyllo_spectre_moyen.hspy\")\n",
    "spectrum = hs.load(input_filename)\n",
    "\n",
    "spectrum.axes_manager[0].offset += +0.000\n",
    "\n",
    "spectrum.set_signal_type(\"EDS_espm\")\n",
    "spectrum.set_analysis_parameters(beam_energy = 300,\n",
    "azimuth_angle = 0.0,\n",
    "elevation_angle = 18.0,\n",
    "elements = ['Al', 'C', 'Ca', 'Cl', 'Cr', 'Cu', 'F', 'Fe', 'Ga', 'K', 'Mg', 'Mn', 'N', 'Na', 'Ni', 'O', 'P', 'Pt', 'S', 'Si', 'Ti', 'Zr'],\n",
    "tilt_stage = 0.001,\n",
    "thickness = 80e-7,\n",
    "density = 2.1,\n",
    "\n",
    "detector_type = \"Det_eff.txt\",\n",
    "width_slope = 0.01,\n",
    "width_intercept = 0.065,\n",
    "xray_db = \"300keV_corentin_xrays.json\")\n",
    "# fW = spim.set_fixed_W({\"p0\" : {\"Si\" : 0.0},\"p1\" : {\"Fe\" : 0.0}, \"p2\" : {\"Mg\" : 0.0}})\n",
    "\n",
    "G = spectrum.build_G(\"bremsstrahlung\",norm = True)\n",
    "est = SmoothNMF( n_components = 1,tol=0.000001, max_iter = 1000, G = G)\n",
    "\n",
    "est.fit_transform(spectrum.data[:,np.newaxis])\n",
    "fW = est.W_\n",
    "fG = est.G_"
   ]
  },
  {
   "cell_type": "code",
   "execution_count": null,
   "metadata": {},
   "outputs": [],
   "source": [
    "x = np.linspace(spectrum.axes_manager[0].offset, spectrum.axes_manager[0].offset + spectrum.axes_manager[0].size*spectrum.axes_manager[0].scale,num = spectrum.axes_manager[0].size)\n",
    "plt.plot(x,spectrum.data,label=\"exp\")\n",
    "plt.plot(x,fG@fW,label=\"fit\")\n",
    "plt.legend()"
   ]
  },
  {
   "cell_type": "code",
   "execution_count": null,
   "metadata": {},
   "outputs": [],
   "source": [
    "print_concentrations_from_W(fW[:-2,:],elements = spectrum.metadata.Sample.elements)"
   ]
  },
  {
   "cell_type": "code",
   "execution_count": null,
   "metadata": {},
   "outputs": [],
   "source": [
    "k_names = [\"Ag_La\",\"Al_Ka\", \"Ar_Ka\",\"B_Ka\",\"Bi_Ma\",\"C_Ka\",\"Ca_Ka\",\"Ca_La\",\"Cl_Ka\",\"Cr_Ka\",\n",
    "        \"Cr_La\",\"Cu_Ka\",\"Cu_La\",\"F_Ka\",\"Fe_Ka\",\"Fe_La\",\"Fe_Lb3\",\"Fe_Ll\",\"Fe_Ln\",\"Ga_Ka\",\n",
    "        \"Ga_La\",\"Ho_La\",\"La_La\",\"K_Ka\",\"Mg_Ka\",\"Mn_Ka\",\"Mn_La\",\"Mg_La\",\"N_Ka\",\"Na_Ka\",\n",
    "        \"Ni_Ka\",\"Ni_La\",\"O_Ka\",\"P_Ka\",\"Pb_La\",\"Pt_La\",\"Pt_Ma\",\"S_Ka\",\"Si_Ka\",\"Sn_La\",\n",
    "        \"Ti_Ka\",\"Tl_Ma\",\"Zr_Ka\",\"Zr_La\",\"Zn_Ka\"]\n",
    "kfactors = [1,\n",
    " 1.05,\n",
    " 1.188,\n",
    " 5,\n",
    " 1,\n",
    " 1.42,\n",
    " 1.16,\n",
    " 8.8,\n",
    " 1.093,\n",
    " 1.314,\n",
    " 5.23,\n",
    " 1.773,\n",
    " 1.523,\n",
    " 1,\n",
    " 1.5,\n",
    " 2.55,\n",
    " 0,\n",
    " 0,\n",
    " 0,\n",
    " 1,\n",
    " 1,\n",
    " 1,\n",
    " 1,\n",
    " 1.119,\n",
    " 0.94,\n",
    " 1.5,\n",
    " 3.36,\n",
    " 3.36,\n",
    " 1.18,\n",
    " 0.98,\n",
    " 1.587,\n",
    " 1.582,\n",
    " 0.95,\n",
    " 1.096,\n",
    " 2.85,\n",
    " 1,\n",
    " 1,\n",
    " 1.18,\n",
    " 1,\n",
    " 1,\n",
    " 1.25,\n",
    " 1,\n",
    " 3.65,\n",
    " 1.49,\n",
    " 1.96]\n"
   ]
  },
  {
   "cell_type": "code",
   "execution_count": null,
   "metadata": {},
   "outputs": [],
   "source": [
    "table, mdata = tu.load_table(\"300keV_xrays.json\")\n",
    "n_table, n_mdata = tu.import_k_factors(table,mdata, k_names, kfactors,  ref_name = \"Si_Ka\")\n",
    "tu.save_table(\"300keV_corentin_xrays.json\",n_table,n_mdata)"
   ]
  },
  {
   "cell_type": "code",
   "execution_count": null,
   "metadata": {},
   "outputs": [],
   "source": [
    "didi = {}\n",
    "for i,j in enumerate(k_names) : \n",
    "    didi[j] = kfactors[i]\n",
    "\n",
    "didi"
   ]
  },
  {
   "cell_type": "code",
   "execution_count": null,
   "metadata": {},
   "outputs": [],
   "source": [
    "a,b = tu.load_table(\"300keV_corentin_xrays.json\")\n",
    "a['26'][\"L3M4\"]['cs']/a['26'][\"KL3\"]['cs']\n",
    "a[\"26\"]"
   ]
  },
  {
   "cell_type": "code",
   "execution_count": null,
   "metadata": {},
   "outputs": [],
   "source": [
    "cs_sum1 = 0\n",
    "cs_sum2 = 0\n",
    "for i in a[\"26\"] : \n",
    "    if i[0] == \"K\" : \n",
    "        cs_sum1 += a[\"26\"][i]['cs']\n",
    "    if i[0] == \"L\" : \n",
    "        cs_sum2 += a[\"26\"][i]['cs']"
   ]
  },
  {
   "cell_type": "code",
   "execution_count": null,
   "metadata": {},
   "outputs": [],
   "source": [
    "cs_sum2/cs_sum1"
   ]
  },
  {
   "cell_type": "code",
   "execution_count": null,
   "metadata": {},
   "outputs": [],
   "source": [
    "cs_sum1"
   ]
  },
  {
   "cell_type": "code",
   "execution_count": null,
   "metadata": {},
   "outputs": [],
   "source": []
  }
 ],
 "metadata": {
  "kernelspec": {
   "display_name": "Python 3 (ipykernel)",
   "language": "python",
   "name": "python3"
  },
  "language_info": {
   "codemirror_mode": {
    "name": "ipython",
    "version": 3
   },
   "file_extension": ".py",
   "mimetype": "text/x-python",
   "name": "python",
   "nbconvert_exporter": "python",
   "pygments_lexer": "ipython3",
   "version": "3.10.6"
  },
  "vscode": {
   "interpreter": {
    "hash": "8d2c37261bd18724b44288178b5d93ac658e7a29aba4ea6c1b1b0710c1696ef2"
   }
  }
 },
 "nbformat": 4,
 "nbformat_minor": 4
}
