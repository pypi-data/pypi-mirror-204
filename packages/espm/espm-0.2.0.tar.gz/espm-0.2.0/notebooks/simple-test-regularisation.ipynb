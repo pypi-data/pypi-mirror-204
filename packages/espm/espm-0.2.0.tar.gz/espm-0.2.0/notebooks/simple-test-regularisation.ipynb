{
 "cells": [
  {
   "cell_type": "code",
   "execution_count": null,
   "metadata": {},
   "outputs": [],
   "source": [
    "%load_ext autoreload\n",
    "%autoreload 2\n",
    "%matplotlib inline"
   ]
  },
  {
   "cell_type": "code",
   "execution_count": null,
   "metadata": {},
   "outputs": [],
   "source": [
    "import numpy as np\n",
    "import matplotlib.pyplot as plt\n",
    "from espm.datasets.base import generate_spim\n",
    "from espm.estimators import SmoothNMF\n",
    "from espm.measures import find_min_angle, find_min_MSE, ordered_mse, ordered_mae, ordered_r2, KLdiv\n"
   ]
  },
  {
   "cell_type": "code",
   "execution_count": null,
   "metadata": {},
   "outputs": [],
   "source": [
    "C = 15\n",
    "L = 200\n",
    "P = 100**2\n",
    "nx = 50\n",
    "seed = 1\n",
    "\n",
    "n_poisson = 2 # Average poisson number per pixel (this number will be splitted on the L dimension)\n"
   ]
  },
  {
   "cell_type": "code",
   "execution_count": null,
   "metadata": {},
   "outputs": [],
   "source": [
    "def syntheticG(L=200, C=15, seed=None):\n",
    "\n",
    "    np.random.seed(seed=seed)\n",
    "    n_el = 45\n",
    "    n_gauss = np.random.randint(2, 5,[C])\n",
    "    l = np.arange(0, 1, 1/L)\n",
    "    mu_gauss = np.random.rand(n_el)\n",
    "    sigma_gauss = 1/n_el + np.abs(np.random.randn(n_el))/n_el/5\n",
    "\n",
    "    G = np.zeros([L,C])\n",
    "\n",
    "    def gauss(x, mu, sigma):\n",
    "        # return np.exp(-(x-mu)**2/(2*sigma**2)) / (sigma * np.sqrt(2*np.pi))\n",
    "        return np.exp(-(x-mu)**2/(2*sigma**2))\n",
    "\n",
    "    for i, c in enumerate(n_gauss):\n",
    "        inds = np.random.choice(n_el, size=[c] , replace=False)\n",
    "        for ind in inds:\n",
    "            w = 0.1+0.9*np.random.rand()\n",
    "            G[:,i] += w * gauss(l, mu_gauss[ind], sigma_gauss[ind])\n",
    "    return G\n",
    "\n",
    "def build_simple_images(nx = 40):\n",
    "    \n",
    "\n",
    "    im1 = np.zeros(shape=[nx,nx])\n",
    "    # 1st quarter\n",
    "    im1[:nx//2,:nx//2] = 1\n",
    "    # 2st quarter\n",
    "    im1[nx//6:nx//3,-nx//3:-nx//6] = 0.5\n",
    "    # 3rd quarter\n",
    "    im1[-nx//3:,:nx//2] = np.expand_dims(np.arange(0,1, 3/nx), axis=1) * np.ones(shape=[1, nx//2])\n",
    "    # im1[-nx//3:,:nx//2] = np.expand_dims(np.arange(3/nx,1+3/nx, 3/nx), axis=1) * np.ones(shape=[1, nx//2])\n",
    "    # 4th quarter\n",
    "    x,y = np.meshgrid(np.arange(nx), np.arange(nx))\n",
    "    mask = (x-nx+nx//4)**2 + (y-nx+nx//4)**2<(nx//6)**2\n",
    "    im1[mask] = 1\n",
    "\n",
    "    im0 = 1 - im1\n",
    "\n",
    "    Hdot = np.array([im0, im1])\n",
    "\n",
    "    return Hdot\n",
    "\n",
    "\n",
    "def create_simple_problem(L, n_poisson,  C, nx=40, seed=None):\n",
    "    np.random.seed(seed)\n",
    "    G = syntheticG(L,C, seed=seed)\n",
    "\n",
    "    Hdot = build_simple_images(nx)\n",
    "    K = len(Hdot)\n",
    "    Hdotflat = Hdot.reshape(K, -1)\n",
    "    Wdot = np.abs(np.random.laplace(size=[C, K]))\n",
    "    mask = Wdot>np.mean(Wdot)\n",
    "    Wdot[np.logical_not(mask)] = 0\n",
    "    m = np.mean(Wdot[mask])\n",
    "    Wdot = Wdot / m *K/np.sum(mask)\n",
    "    Ddot = G @ Wdot\n",
    "    Ydot = Ddot @ Hdotflat\n",
    "\n",
    "    Y = 1/n_poisson * np.random.poisson(n_poisson * Ydot)\n",
    "    shape_2d = Hdot.shape[1:]\n",
    "    return G, Wdot, Ddot, Hdot, Hdotflat, Ydot, Y, shape_2d, K\n",
    "\n",
    "def plot_results(Ddot, D, Hdotflat, Hflat):\n",
    "    fontsize = 30\n",
    "    scale = 15\n",
    "    aspect_ratio = 1.4\n",
    "    marker_list = [\"-o\",\"-s\",\"->\",\"-<\",\"-^\",\"-v\",\"-d\"]\n",
    "    mark_space = 20\n",
    "    # cmap = plt.cm.hot_r    \n",
    "    cmap = plt.cm.gray_r\n",
    "    vmax = 1\n",
    "    vmin = 0\n",
    "    K = len(H)\n",
    "    L = len(D)\n",
    "    \n",
    "    angles, true_inds = find_min_angle(Ddot.T, D.T, unique=True, get_ind=True)\n",
    "    mse = ordered_mse(Hdotflat, Hflat, true_inds)\n",
    "    mae = ordered_mae(Hdotflat, Hflat, true_inds)\n",
    "    r2 = ordered_r2(Hdotflat, Hflat, true_inds)\n",
    "\n",
    "\n",
    "    fig, axes = plt.subplots(K, 3,figsize = (scale/K * 3 * aspect_ratio, scale))\n",
    "    x = np.linspace(0,1, num = L)\n",
    "    for i in range(K): \n",
    "        axes[i, 0].plot(x,Ddot.T[i,:],'bo',label='truth',linewidth=4)\n",
    "        axes[i, 0].plot(x,D[:,true_inds[i]],'r-',label='reconstructed',markersize=3.5)\n",
    "        axes[i, 0].set_title(\"{:.2f} deg\".format(angles[i]),fontsize = fontsize-2)\n",
    "        axes[i, 0].set_xlim(0,1)\n",
    "        axes[i, 0].legend()\n",
    "\n",
    "        axes[i, 1].imshow((Hflat[true_inds[i],:]).reshape(shape_2d),vmin = vmin, vmax = vmax , cmap=cmap)\n",
    "        axes[i, 1].set_title(\"Reconstruction - R2: {:.2f}\".format(r2[true_inds[i]]),fontsize = fontsize-2)\n",
    "        # axes[i,1].set_ylim(0.0,1.0)\n",
    "        axes[i, 1].tick_params(axis = \"both\",labelleft = False, labelbottom = False,left = False, bottom = False)\n",
    "\n",
    "        im = axes[i, 2].imshow(Hdotflat[i].reshape(shape_2d),vmin = vmin, vmax = vmax, cmap=cmap)\n",
    "        axes[i,2].set_title(\"GT - Phase {}\".format(i),fontsize = fontsize)\n",
    "        axes[i,2].tick_params(axis = \"both\",labelleft = False, labelbottom = False,left = False, bottom = False)\n",
    "        \n",
    "\n",
    "    rows = [f\"Phase {i}\" for i in range(K)]\n",
    "\n",
    "    for ax, row in zip(axes[:,0], rows):\n",
    "        ax.set_ylabel(row, rotation=90, fontsize=fontsize)\n",
    "\n",
    "\n",
    "    fig.subplots_adjust(right=0.84)\n",
    "    # put colorbar at desire position\n",
    "    cbar_ax = fig.add_axes([0.85, 0.5, 0.01, 0.3])\n",
    "    fig.colorbar(im,cax=cbar_ax)\n",
    "\n",
    "    # fig.tight_layout()\n",
    "\n",
    "    plt.show()\n",
    "    print(\"angles : \", angles)\n",
    "    print(\"mse : \", mse)\n",
    "    print(\"mae : \", mae)\n",
    "    print(\"r2 : \", r2)\n",
    "\n",
    "    \n",
    "        "
   ]
  },
  {
   "cell_type": "markdown",
   "metadata": {},
   "source": [
    "# Create a synthetic problem"
   ]
  },
  {
   "cell_type": "code",
   "execution_count": null,
   "metadata": {},
   "outputs": [],
   "source": [
    "G = syntheticG(L,C, seed)\n",
    "l = np.arange(0, 1, 1/L)\n",
    "plt.plot(l, G[:,:2])\n",
    "plt.title(\"Spectral response of each elements\")\n"
   ]
  },
  {
   "cell_type": "code",
   "execution_count": null,
   "metadata": {},
   "outputs": [],
   "source": [
    "\n",
    "Hdot = build_simple_images(nx=nx)\n",
    "vmin, vmax = 0,1\n",
    "cmap = plt.cm.gray_r\n",
    "plt.figure(figsize=(10, 3))\n",
    "for i, hdot in enumerate(Hdot):\n",
    "    plt.subplot(1,3,i+1)\n",
    "    plt.imshow(hdot, cmap=cmap, vmin=vmin, vmax=vmax)\n",
    "    plt.axis(\"off\")\n",
    "    plt.title(f\"Map {i+1}\")\n"
   ]
  },
  {
   "cell_type": "code",
   "execution_count": null,
   "metadata": {},
   "outputs": [],
   "source": [
    "G, Wdot, Ddot, Hdot, Hdotflat, Ydot, Y, shape_2d, K = create_simple_problem(L=L, n_poisson=n_poisson,  C=C, nx=nx)\n",
    "plt.plot(Ddot)\n",
    "\n",
    "Wdot.shape, G.shape, L, C, nx"
   ]
  },
  {
   "cell_type": "markdown",
   "metadata": {},
   "source": [
    "# Solve the problem"
   ]
  },
  {
   "cell_type": "code",
   "execution_count": null,
   "metadata": {},
   "outputs": [],
   "source": [
    "\n",
    "mu = 0\n",
    "lambda_L = 0\n",
    "force_simplex = True\n",
    "Gused = None\n",
    "\n",
    "params = {}\n",
    "params[\"tol\"]=1e-6\n",
    "params[\"max_iter\"] = 500\n",
    "params[\"hspy_comp\"] = False\n",
    "params[\"verbose\"] = 0\n",
    "params[\"epsilon_reg\"] = 1\n",
    "params[\"linesearch\"] = False\n",
    "params[\"shape_2d\"] = shape_2d\n",
    "params[\"n_components\"] = K\n",
    "\n",
    "estimator = SmoothNMF(mu=mu, lambda_L=lambda_L, G = Gused, force_simplex=force_simplex, **params)\n",
    "D = estimator.fit_transform(Y)\n",
    "Hflat = estimator.H_\n",
    "H = Hflat.reshape([Hflat.shape[0], *shape_2d])\n",
    "W = estimator.W_\n",
    "plt.plot(estimator.losses_)"
   ]
  },
  {
   "cell_type": "code",
   "execution_count": null,
   "metadata": {},
   "outputs": [],
   "source": [
    "        \n",
    "angles, true_inds = find_min_angle(Ddot.T, D.T, unique=True, get_ind=True)\n",
    "mse = ordered_mse(Hdotflat, Hflat, true_inds)\n",
    "KL = KLdiv(Y, D, Hflat)\n",
    "r2 = ordered_r2(Hdotflat, Hflat, true_inds)\n",
    "\n",
    "print(\"angles: \", angles)\n",
    "print(\"mse: \", mse)\n",
    "print(\"KL divergence: \", KL)\n",
    "print(\"R2: \", r2)"
   ]
  },
  {
   "cell_type": "code",
   "execution_count": null,
   "metadata": {},
   "outputs": [],
   "source": [
    "plot_results(Ddot, D, Hdotflat, Hflat)"
   ]
  },
  {
   "cell_type": "code",
   "execution_count": null,
   "metadata": {},
   "outputs": [],
   "source": [
    "# plt.figure(figsize=(10, 4))\n",
    "# plt.subplot(1,2,1)\n",
    "# plt.hist(Ydot.flatten()*n_poisson, 100);\n",
    "# plt.subplot(1,2,1)\n",
    "# plt.hist(Y.flatten()*n_poisson, 100, alpha=0.5);"
   ]
  },
  {
   "cell_type": "code",
   "execution_count": null,
   "metadata": {},
   "outputs": [],
   "source": [
    "def one_experiment(mu, lambda_L, force_simplex, Gused, params, Y):\n",
    "    estimator = SmoothNMF(mu=mu, lambda_L=lambda_L, G = Gused, force_simplex=force_simplex, **params)\n",
    "    D = estimator.fit_transform(Y)\n",
    "    Hflat = estimator.H_\n",
    "    H = Hflat.reshape([Hflat.shape[0], *shape_2d])\n",
    "    W = estimator.W_\n",
    "    angles, true_inds = find_min_angle(Ddot.T, D.T, unique=True, get_ind=True)\n",
    "    mse = ordered_mse(Hdotflat, Hflat, true_inds)\n",
    "    KL = KLdiv(Y, D, Hflat, average=True)\n",
    "    r2 = ordered_r2(Hdotflat, Hflat, true_inds)\n",
    "\n",
    "    print(\"angles: \", angles)\n",
    "    print(\"mse: \", mse)\n",
    "    print(\"KL divergence: \", KL)\n",
    "    print(\"R2: \", r2)\n",
    "    return angles, mse, KL, r2"
   ]
  },
  {
   "cell_type": "code",
   "execution_count": null,
   "metadata": {},
   "outputs": [],
   "source": [
    "\n",
    "lambda_L = 1\n",
    "force_simplex = True\n",
    "Gused = None\n",
    "\n",
    "mus = np.array([0, 0.5, 1, 2, 3, 5, 10])\n",
    "\n",
    "metrics_mus = []\n",
    "for i, mu in enumerate(mus):\n",
    "    print(f\"Experiment -- {i+1}/{len(mus)} --\")\n",
    "    print(f\"  lambda={lambda_L}, mu={mu}, Gused: {Gused is not None}, simplex: {force_simplex}\")\n",
    "    metrics_mus.append(one_experiment(mu, lambda_L, force_simplex, Gused, params, Y))\n"
   ]
  },
  {
   "cell_type": "code",
   "execution_count": null,
   "metadata": {},
   "outputs": [],
   "source": [
    "\n",
    "r2_mus = np.mean(np.array([e[3] for e in metrics_mus]), axis=1)\n",
    "angles_mus = np.mean(np.array([e[0] for e in metrics_mus]), axis=1)\n",
    "\n",
    "KL_mus = np.array([e[2] for e in metrics_mus])\n",
    "plt.figure(figsize=(10, 4))\n",
    "plt.subplot(121)\n",
    "plt.plot(mus+1, KL_mus, \"-x\")\n",
    "plt.xscale(\"log\")\n",
    "plt.subplot(122)\n",
    "plt.scatter(r2_mus, angles_mus)\n",
    "plt.plot(r2_mus, angles_mus, linestyle = 'dashed')\n",
    "for lam, r2, angle in zip(mus, r2_mus, angles_mus):\n",
    "    plt.annotate(str(lam), xy=(r2+0.0003, angle+0.1), size=10, va='center',ha='left')\n",
    "plt.xlim([0.885, 0.905])\n",
    "plt.ylim([4, 6.5])\n",
    "plt.title(\"Avg. R2 and angle error for different mu\")\n",
    "plt.xlabel(r'$R^2(H, \\tilde{H})$ [-]')\n",
    "plt.ylabel(r'$\\theta(W, \\tilde{W})$ [deg]')\n",
    "plt.grid()\n",
    "plt.show()"
   ]
  },
  {
   "cell_type": "code",
   "execution_count": null,
   "metadata": {},
   "outputs": [],
   "source": [
    "force_simplex = True\n",
    "Gused = None\n",
    "mu = 0\n",
    "\n",
    "\n",
    "# lambdas = np.array([0, 10, 20, 50, 100, 200, 500, 1000])\n",
    "lambdas = np.array([0, 0.1, 0.2, 0.5, 1, 2, 5,])\n",
    "metrics_lambda = []\n",
    "for i, lambda_L in enumerate(lambdas):\n",
    "    print(f\"Experiment -- {i+1}/{len(lambdas)} --\")\n",
    "    print(f\"  lambda={lambda_L}, mu={mu}, Gused={Gused is not None}, simplex={force_simplex}\")\n",
    "    metrics_lambda.append(one_experiment(mu, lambda_L, force_simplex, Gused, params, Y))\n"
   ]
  },
  {
   "cell_type": "code",
   "execution_count": null,
   "metadata": {},
   "outputs": [],
   "source": [
    "\n",
    "r2_lambdas = np.mean(np.array([e[3] for e in metrics_lambda]), axis=1)\n",
    "angles_lambdas = np.mean(np.array([e[0] for e in metrics_lambda]), axis=1)\n",
    "\n",
    "KL_lambdas = np.array([e[2] for e in metrics_lambda])\n",
    "plt.figure(figsize=(10, 4))\n",
    "plt.subplot(121)\n",
    "plt.plot(lambdas+1, KL_lambdas, \"-x\")\n",
    "plt.xscale(\"log\")\n",
    "plt.subplot(122)\n",
    "# plt.scatter(r2_lambdas, angles_lambdas)\n",
    "\n",
    "\n",
    "# plt.annotate(str(1), xy=(angles-0.01, angles_lambdas-0.5), size=20, va='center',ha='left')\n",
    "plt.scatter(r2_lambdas, angles_lambdas)\n",
    "plt.plot(r2_lambdas, angles_lambdas, linestyle = 'dashed')\n",
    "for lam, r2, angle in zip(lambdas, r2_lambdas, angles_lambdas):\n",
    "    # plt.annotate(str(lam), xy=(r2+0.0003, angle+0.1), size=10, va='center',ha='left')\n",
    "    plt.annotate(str(lam), xy=(r2+0.000, angle+0.), size=10, va='center',ha='left')\n",
    "# plt.xlim([0.885, 0.905])\n",
    "# plt.ylim([4, 6.5])\n",
    "plt.title(\"Avg. R2 and angle error for different lambda\")\n",
    "plt.xlabel(r'$R^2(H, \\tilde{H})$ [-]')\n",
    "plt.ylabel(r'$\\theta(W, \\tilde{W})$ [deg]')\n",
    "plt.grid()\n",
    "plt.show()\n",
    "\n",
    "\n"
   ]
  },
  {
   "cell_type": "markdown",
   "metadata": {},
   "source": []
  },
  {
   "cell_type": "code",
   "execution_count": null,
   "metadata": {},
   "outputs": [],
   "source": [
    "KL_lambdas"
   ]
  },
  {
   "cell_type": "code",
   "execution_count": null,
   "metadata": {},
   "outputs": [],
   "source": []
  }
 ],
 "metadata": {
  "kernelspec": {
   "display_name": "Python 3.9.13 ('SNMF_EDXS-FwWDtlwS')",
   "language": "python",
   "name": "python3"
  },
  "language_info": {
   "codemirror_mode": {
    "name": "ipython",
    "version": 3
   },
   "file_extension": ".py",
   "mimetype": "text/x-python",
   "name": "python",
   "nbconvert_exporter": "python",
   "pygments_lexer": "ipython3",
   "version": "3.9.13"
  },
  "vscode": {
   "interpreter": {
    "hash": "1a1b43244e11bc51a1d0b046d5a6cc91cb73bf5187e443fb7c1433042d0ea61d"
   }
  }
 },
 "nbformat": 4,
 "nbformat_minor": 2
}
