{
 "cells": [
  {
   "cell_type": "code",
   "execution_count": null,
   "metadata": {},
   "outputs": [],
   "source": [
    "%load_ext autoreload\n",
    "%autoreload 2\n",
    "%matplotlib inline"
   ]
  },
  {
   "cell_type": "code",
   "execution_count": null,
   "metadata": {},
   "outputs": [],
   "source": [
    "import numpy as np\n",
    "import matplotlib.pyplot as plt\n",
    "from matplotlib.ticker import LinearLocator\n",
    "\n"
   ]
  },
  {
   "cell_type": "code",
   "execution_count": null,
   "metadata": {},
   "outputs": [],
   "source": [
    "nx = 20\n",
    "ny = nx\n",
    "lx = 2\n",
    "ly = 2\n",
    "\n",
    "xt = np.array([0.5, 0.5])\n",
    "a = np.array([0.2, 0.8])\n",
    "\n",
    "\n",
    "xt = np.expand_dims(xt, axis=[0,1])\n",
    "a = np.expand_dims(a, axis=[0,1])\n",
    "\n",
    "x1 = np.arange(lx/nx, lx+lx/nx, lx/nx)\n",
    "x2 = np.arange(ly/ny, ly+ly/ny, ly/ny)\n",
    "X1, X2 = np.meshgrid(x1, x2)\n",
    "X = np.array([X1, X2]).T\n",
    "\n"
   ]
  },
  {
   "cell_type": "code",
   "execution_count": null,
   "metadata": {},
   "outputs": [],
   "source": [
    "X.shape, a.shape, xt.shape"
   ]
  },
  {
   "cell_type": "code",
   "execution_count": null,
   "metadata": {},
   "outputs": [],
   "source": [
    "def f(x, a):\n",
    "    T = np.sum(a*x, axis=-1)\n",
    "    return - np.log(T) + T\n",
    "\n",
    "def MU_surrogate(x, a, xt):\n",
    "    ut = a*xt\n",
    "    ut = ut / np.sum(ut, axis=-1, keepdims=True)\n",
    "    return np.sum( - ut * ( np.log(a*x) - np.log(ut) ) + a*x, axis=-1)\n",
    "\n",
    "def EM_surrogate(x, a, xt):\n",
    "    pass\n",
    "\n",
    "def Bregman_surrogate(x, a, xt):\n",
    "    L = 1\n",
    "    ax = np.sum(a*x, axis=-1)\n",
    "    axt = np.sum(a*xt, axis=-1)\n",
    "    return ax - ax / axt + np.sum(- np.log(x) + x / xt, axis=-1)\n",
    "\n",
    "def Weighted_Bregman_surrogate(x, a, xt):\n",
    "    L = 1\n",
    "    ax = np.sum(a*x, axis=-1)\n",
    "    axt = np.sum(a*xt, axis=-1)\n",
    "    ut = a*xt\n",
    "    ut = ut / np.sum(ut, axis=-1, keepdims=True)\n",
    "    return ax - ax / axt + np.sum(- ut*np.log(x) + ut*x / xt, axis=-1)\n"
   ]
  },
  {
   "cell_type": "code",
   "execution_count": null,
   "metadata": {},
   "outputs": [],
   "source": [
    "Z = f(X,a)\n",
    "Z_MU = MU_surrogate(X, a, xt)\n",
    "Z_Bregman = Bregman_surrogate(X, a, xt)\n",
    "Z_Weighted_Bregman = Weighted_Bregman_surrogate(X, a, xt)\n",
    "\n",
    "fxk = f(xt, a)\n",
    "Z_Bregman = Z_Bregman-Bregman_surrogate(xt, a, xt) + fxk\n",
    "Z_Weighted_Bregman = Z_Weighted_Bregman-Weighted_Bregman_surrogate(xt, a, xt) + fxk"
   ]
  },
  {
   "cell_type": "code",
   "execution_count": null,
   "metadata": {},
   "outputs": [],
   "source": [
    "Z.shape, X1.shape"
   ]
  },
  {
   "cell_type": "code",
   "execution_count": null,
   "metadata": {},
   "outputs": [],
   "source": [
    "def subplot3d(ax, X1, X2, Z):\n",
    "    # Plot the surface.\n",
    "    surf = ax.plot_surface(X1, X2, Z, cmap=plt.cm.coolwarm,\n",
    "                        linewidth=0, antialiased=False)\n",
    "    # Customize the z axis.\n",
    "    # ax.set_zlim(-1.01, 1.01)\n",
    "    ax.zaxis.set_major_locator(LinearLocator(10))\n",
    "    # A StrMethodFormatter is used automatically\n",
    "    ax.zaxis.set_major_formatter('{x:.02f}')\n",
    "\n",
    "    # Add a color bar which maps values to colors.\n",
    "    plt.colorbar(surf, shrink=0.5, aspect=5)\n",
    "\n",
    "plt.figure(figsize=(18, 5),)\n",
    "\n",
    "ax = plt.subplot(1,3,1,  projection='3d')\n",
    "subplot3d(ax, X1, X2, Z)\n",
    "\n",
    "ax = plt.subplot(1,3,2,  projection='3d')\n",
    "subplot3d(ax, X1, X2, Z_MU)\n",
    "\n",
    "ax = plt.subplot(1,3,3,  projection='3d')\n",
    "subplot3d(ax, X1, X2, Z_Bregman)\n",
    "\n",
    "plt.show()"
   ]
  },
  {
   "cell_type": "code",
   "execution_count": null,
   "metadata": {},
   "outputs": [],
   "source": [
    "\n",
    "\n",
    "plt.figure(figsize=(8,8))\n",
    "rstride = 2\n",
    "cstride = 2\n",
    "ax = plt.subplot( projection='3d')\n",
    "\n",
    "ax.plot_wireframe(X1, X2, Z, rstride=rstride, cstride=cstride, color=\"black\", label=\"$f(x)$\")\n",
    "ax.plot_wireframe(X1, X2, Z_MU, rstride=rstride, cstride=cstride, color=\"green\", label=\"MU surrogate\")\n",
    "ax.plot_wireframe(X1, X2, Z_Bregman, rstride=rstride, cstride=cstride, color=\"blue\", label=\"Bregman surrogate\")\n",
    "ax.scatter3D(xt[:,:,0], xt[:,:,1], fxk[0], \"o\",color=\"red\", label=\"$x^t$\", linewidth=6)\n",
    "ax.legend()"
   ]
  },
  {
   "cell_type": "code",
   "execution_count": null,
   "metadata": {},
   "outputs": [],
   "source": [
    "nx = 500\n",
    "lx = 2\n",
    "y = 0.5\n",
    "\n",
    "xt = np.array([0.5, y])\n",
    "a = np.array([0.2, 0.8])\n",
    "\n",
    "\n",
    "xt = np.expand_dims(xt, axis=[0,1])\n",
    "a = np.expand_dims(a, axis=[0,1])\n",
    "\n",
    "x1 = np.arange(lx/nx, lx+lx/nx, lx/nx)\n",
    "x2 = np.arange(y, y+ly/ny, ly/ny)\n",
    "X1, X2 = np.meshgrid(x1, x2)\n",
    "X = np.array([X1, X2]).T"
   ]
  },
  {
   "cell_type": "code",
   "execution_count": null,
   "metadata": {},
   "outputs": [],
   "source": [
    "z = f(X,a)\n",
    "z_MU = MU_surrogate(X, a, xt)\n",
    "z_Bregman = Bregman_surrogate(X, a, xt)\n",
    "z_Weighted_Bregman = Weighted_Bregman_surrogate(X, a, xt)\n",
    "\n",
    "fxk = f(xt, a)\n",
    "z_Bregman = z_Bregman-Bregman_surrogate(xt, a, xt) + fxk\n",
    "z_Weighted_Bregman = z_Weighted_Bregman-Weighted_Bregman_surrogate(xt, a, xt) + fxk"
   ]
  },
  {
   "cell_type": "code",
   "execution_count": null,
   "metadata": {},
   "outputs": [],
   "source": [
    "def argmin(x, z):\n",
    "    i = np.argmin(z)\n",
    "    return x[i], z[i]"
   ]
  },
  {
   "cell_type": "code",
   "execution_count": null,
   "metadata": {},
   "outputs": [],
   "source": [
    "plt.figure(figsize=(6,4))\n",
    "\n",
    "plt.plot(x1, z, color=\"black\", label=\"$f(x)$\")\n",
    "plt.plot(x1, z_MU, color=\"green\", label=\"MU surrogate\")\n",
    "plt.plot(*argmin(x1,z_MU), \"x\", color=\"green\", label=\"MU minimum\")\n",
    "plt.plot(x1, z_Bregman,  color=\"blue\", label=\"Bregman surrogate\")\n",
    "plt.plot(*argmin(x1,z_Bregman), \"x\", color=\"blue\", label=\"Bregman minimum\")\n",
    "\n",
    "# plt.plot(x1, z_Weighted_Bregman,  color=\"orange\", label=\"Weigthed Bregman surrogate\")\n",
    "# plt.plot(*argmin(x1,z_Weighted_Bregman), \"x\", color=\"orange\", label=\"Weighted Bregman minimum\")\n",
    "\n",
    "\n",
    "plt.plot(xt[0, 0, :1], fxk, \"o\", color=\"red\", label=\"$x^t$\" )\n",
    "plt.ylim([1,2])\n",
    "plt.xlim([0,2])\n",
    "plt.legend(loc=1)"
   ]
  },
  {
   "cell_type": "code",
   "execution_count": null,
   "metadata": {},
   "outputs": [],
   "source": []
  },
  {
   "cell_type": "code",
   "execution_count": null,
   "metadata": {},
   "outputs": [],
   "source": []
  }
 ],
 "metadata": {
  "kernelspec": {
   "display_name": "espm",
   "language": "python",
   "name": "python3"
  },
  "language_info": {
   "codemirror_mode": {
    "name": "ipython",
    "version": 3
   },
   "file_extension": ".py",
   "mimetype": "text/x-python",
   "name": "python",
   "nbconvert_exporter": "python",
   "pygments_lexer": "ipython3",
   "version": "3.10.6"
  },
  "vscode": {
   "interpreter": {
    "hash": "a7ceffc662db6c9d514927743d8d35570797b920e33613212d4f424c0416cf91"
   }
  }
 },
 "nbformat": 4,
 "nbformat_minor": 2
}
