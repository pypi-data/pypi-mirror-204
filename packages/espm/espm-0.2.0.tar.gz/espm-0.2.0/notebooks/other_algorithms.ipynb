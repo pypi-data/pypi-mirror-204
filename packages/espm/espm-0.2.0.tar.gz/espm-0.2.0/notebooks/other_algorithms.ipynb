{
 "cells": [
  {
   "cell_type": "code",
   "execution_count": null,
   "metadata": {},
   "outputs": [],
   "source": [
    "%load_ext autoreload\n",
    "%autoreload 2\n",
    "%matplotlib inline\n",
    "import hyperspy.api as hs\n",
    "import matplotlib.pyplot as plt\n",
    "import numpy as np\n",
    "from espm.conf import DATASETS_PATH\n",
    "from pathlib import Path\n",
    "from espm.measures import find_min_angle, find_min_MSE, ordered_mse\n",
    "from espm.utils import rescaled_DH"
   ]
  },
  {
   "cell_type": "code",
   "execution_count": null,
   "metadata": {},
   "outputs": [],
   "source": [
    "dataset_path = DATASETS_PATH / Path(\"FpBrgCaPv_N293_paper/sample_1.hspy\")\n",
    "true_spim = hs.load(str(dataset_path))\n",
    "true_spectra = true_spim.phases\n",
    "true_maps = true_spim.maps\n",
    "k = len(true_spim.metadata.Truth.phases)\n",
    "shape_2d = true_spim.shape_2d\n",
    "\n",
    "fontsize = 30\n",
    "scale = 15\n",
    "aspect_ratio = 1.4\n",
    "marker_list = [\"-o\",\"-s\",\"->\",\"-<\",\"-^\",\"-v\",\"-d\"]\n",
    "mark_space = 20"
   ]
  },
  {
   "cell_type": "markdown",
   "metadata": {},
   "source": [
    "# NMF"
   ]
  },
  {
   "cell_type": "code",
   "execution_count": null,
   "metadata": {},
   "outputs": [],
   "source": [
    "true_spim.decomposition(False,algorithm = \"NMF\", max_iter = 200000, tol = 1e-9, solver = \"mu\", beta_loss = \"kullback-leibler\", verbose = True, output_dimension = 3, init = \"random\", random_state = 52)"
   ]
  },
  {
   "cell_type": "code",
   "execution_count": null,
   "metadata": {},
   "outputs": [],
   "source": [
    "factors = true_spim.get_decomposition_factors().data.T\n",
    "loadings = true_spim.get_decomposition_loadings().data.reshape((3,16384))\n",
    "\n",
    "r_factors, r_loadings = rescaled_DH(factors,loadings)"
   ]
  },
  {
   "cell_type": "markdown",
   "metadata": {},
   "source": [
    "# ICA"
   ]
  },
  {
   "cell_type": "code",
   "execution_count": null,
   "metadata": {},
   "outputs": [],
   "source": [
    "true_spim.decomposition(True,output_dimension = 3,random_state = 42)\n",
    "true_spim.blind_source_separation(number_of_components=3,tol = 1e-9)"
   ]
  },
  {
   "cell_type": "code",
   "execution_count": null,
   "metadata": {},
   "outputs": [],
   "source": [
    "factors = true_spim.get_bss_factors().data.T\n",
    "loadings = true_spim.get_bss_loadings().data.reshape((3,16384))\n",
    "\n",
    "r_factors, r_loadings = rescaled_DH(factors,loadings)"
   ]
  },
  {
   "cell_type": "markdown",
   "metadata": {},
   "source": [
    "# VCA"
   ]
  },
  {
   "cell_type": "code",
   "execution_count": null,
   "metadata": {},
   "outputs": [],
   "source": [
    "from VCA import vca\n",
    "from sunsal import sunsal\n",
    "\n",
    "r_factors, a, b = vca(true_spim.X, 3)\n",
    "r_loadings, c, d, e = sunsal(r_factors,true_spim.X,positivity=True, addone = True, tol = 1e-9) "
   ]
  },
  {
   "cell_type": "markdown",
   "metadata": {},
   "source": [
    "# MCRLLM"
   ]
  },
  {
   "cell_type": "code",
   "execution_count": null,
   "metadata": {},
   "outputs": [],
   "source": [
    "from snmfem.estimators.mcrllm_wrapper import MCRLLM\n",
    "\n",
    "estimator = MCRLLM(n_components=3, init=\"Kmeans\", tol = 1e-4, max_iter=20000,hspy_comp=True)\n",
    "\n",
    "true_spim.decomposition(algorithm=estimator,verbose=True)"
   ]
  },
  {
   "cell_type": "code",
   "execution_count": null,
   "metadata": {},
   "outputs": [],
   "source": [
    "factors = true_spim.get_decomposition_factors().data.T\n",
    "loadings = true_spim.get_decomposition_loadings().data.reshape((3,16384))\n",
    "\n",
    "r_factors, r_loadings = rescaled_DA(factors,loadings)"
   ]
  },
  {
   "cell_type": "markdown",
   "metadata": {},
   "source": [
    "# Results"
   ]
  },
  {
   "cell_type": "code",
   "execution_count": null,
   "metadata": {},
   "outputs": [],
   "source": [
    "angles, true_inds = find_min_angle(true_spectra.T, r_factors.T, unique=True, get_ind=True)\n",
    "mse = ordered_mse(true_maps, r_loadings, true_inds)\n",
    "\n",
    "print(\"angles : \", angles)\n",
    "print(\"mse : \", mse)"
   ]
  },
  {
   "cell_type": "code",
   "execution_count": null,
   "metadata": {},
   "outputs": [],
   "source": [
    "fig, axes = plt.subplots(k,3,figsize = (scale/k * 3 * aspect_ratio,scale))\n",
    "x = np.linspace(true_spim.axes_manager[2].offset,\n",
    "                true_spim.axes_manager[2].offset + true_spim.axes_manager[2].scale * true_spim.axes_manager[2].size,\n",
    "                num = true_spim.axes_manager[2].size)\n",
    "for i in range(k): \n",
    "    axes[2,i].plot(x,true_spectra.T[i,:],'bo',label='truth',linewidth=4)\n",
    "    axes[2,i].plot(x,r_factors[:,true_inds[i]],'r-',label='reconstructed',markersize=3.5)\n",
    "    axes[2,i].set_title(\"{:.2f} deg\".format(angles[i]),fontsize = fontsize-2)\n",
    "    axes[2,i].set_xlim(0,10.0)\n",
    "\n",
    "    axes[1,i].imshow((r_loadings[true_inds[i],:]).reshape(shape_2d),vmin = 0.0, vmax = 1.0 )\n",
    "    axes[1,i].set_title(\"{:.2f} MSE\".format(mse[true_inds[i]]),fontsize = fontsize-2)\n",
    "    # axes[i,1].set_ylim(0.0,1.0)\n",
    "    axes[1,i].tick_params(axis = \"both\",labelleft = False, labelbottom = False,left = False, bottom = False)\n",
    "\n",
    "    im = axes[0,i].imshow(true_maps[i].reshape(shape_2d),vmin = 0.0, vmax = 1.0)\n",
    "    axes[0,i].set_title(\"Phase {}\".format(i),fontsize = fontsize)\n",
    "    axes[0,i].tick_params(axis = \"both\",labelleft = False, labelbottom = False,left = False, bottom = False)\n",
    "    axes[2,0].legend()\n",
    "\n",
    "rows = [\"True maps\",\"Reconstructed maps\",\"Spectra\"]\n",
    "\n",
    "for ax, row in zip(axes[:,0], rows):\n",
    "    ax.set_ylabel(row, rotation=90, fontsize=fontsize)\n",
    "\n",
    "\n",
    "fig.subplots_adjust(right=0.84)\n",
    "# put colorbar at desire position\n",
    "cbar_ax = fig.add_axes([0.85, 0.5, 0.01, 0.3])\n",
    "fig.colorbar(im,cax=cbar_ax)\n",
    "\n",
    "# fig.tight_layout()\n",
    "\n",
    "plt.show()"
   ]
  },
  {
   "cell_type": "code",
   "execution_count": null,
   "metadata": {},
   "outputs": [],
   "source": []
  }
 ],
 "metadata": {
  "interpreter": {
   "hash": "af6160b2371d66f432113418f198c66756233694b27723985e6f75953dadfe90"
  },
  "kernelspec": {
   "display_name": "Python 3.8.5 64-bit ('SNMF_EDXS--pNpjmq1': pipenv)",
   "name": "python3"
  },
  "language_info": {
   "codemirror_mode": {
    "name": "ipython",
    "version": 3
   },
   "file_extension": ".py",
   "mimetype": "text/x-python",
   "name": "python",
   "nbconvert_exporter": "python",
   "pygments_lexer": "ipython3",
   "version": "3.8.5"
  }
 },
 "nbformat": 4,
 "nbformat_minor": 4
}
