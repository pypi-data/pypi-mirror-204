{
 "cells": [
  {
   "cell_type": "markdown",
   "id": "42367197",
   "metadata": {},
   "source": [
    "(tutorial-atomstracker)=\n",
    "# Using AtomsTracker\n",
    "\n",
    "Here we show how to use `AtomsTracker` to automatically record operations performed on `ase.Atoms`"
   ]
  },
  {
   "cell_type": "markdown",
   "id": "feaf0f8c",
   "metadata": {},
   "source": [
    "Installing AiiDA takes a few extra steps and require setting up an database normally (see [here](https://aiida.readthedocs.io/projects/aiida-core/en/latest/intro/get_started.html)).   \n",
    "Here, for demostration only, we use a temporay profile with `SqliteTempBackend`."
   ]
  },
  {
   "cell_type": "code",
   "execution_count": 1,
   "id": "dc682c69",
   "metadata": {
    "execution": {
     "iopub.execute_input": "2023-04-20T20:58:32.451091Z",
     "iopub.status.busy": "2023-04-20T20:58:32.450492Z",
     "iopub.status.idle": "2023-04-20T20:58:34.198434Z",
     "shell.execute_reply": "2023-04-20T20:58:34.197613Z"
    },
    "tags": [
     "hide-cell"
    ]
   },
   "outputs": [
    {
     "data": {
      "text/plain": [
       "Profile<uuid='66a7e17bb1e3482b80e193ea2f09c42f' name='myprofile'>"
      ]
     },
     "execution_count": 1,
     "metadata": {},
     "output_type": "execute_result"
    }
   ],
   "source": [
    "from aiida import load_profile, engine, orm, plugins\n",
    "from aiida.manage.configuration import get_config\n",
    "from aiida.storage.sqlite_temp import SqliteTempBackend\n",
    "\n",
    "%load_ext aiida\n",
    "\n",
    "profile = load_profile(\n",
    "    SqliteTempBackend.create_profile(\n",
    "        'myprofile',\n",
    "        options={\n",
    "            'warnings.development_version': False,\n",
    "            'runner.poll.interval': 1\n",
    "        },\n",
    "        debug=False\n",
    "    ),\n",
    "    allow_switch=True\n",
    ")\n",
    "config = get_config()\n",
    "config.add_profile(profile)\n",
    "config.set_default_profile(profile.name)\n",
    "profile"
   ]
  },
  {
   "cell_type": "code",
   "execution_count": 2,
   "id": "0876fd29",
   "metadata": {
    "execution": {
     "iopub.execute_input": "2023-04-20T20:58:34.200812Z",
     "iopub.status.busy": "2023-04-20T20:58:34.200579Z",
     "iopub.status.idle": "2023-04-20T20:58:34.216265Z",
     "shell.execute_reply": "2023-04-20T20:58:34.215509Z"
    }
   },
   "outputs": [],
   "source": [
    "from aiida_atoms import AtomsTracker\n",
    "from ase.build import bulk"
   ]
  },
  {
   "cell_type": "markdown",
   "id": "4498dfc7",
   "metadata": {},
   "source": [
    "The `ase.Atoms` object models a atomic structure can be used in various ways. It is the centre piece to the `ase` ecosystem and used for constructing structure, data analysis and also calculations themselves.\n",
    "Here, we focus the first use case - using `ase.Atoms` for constructing input structures used in various materials modelling workflows.\n",
    "A common pattern is to start from a bulk structure, constructed manually or loaded from a online database (such as ICSD), and perform certain operations before it is used as inputs for first-principles calculations.\n",
    "\n",
    "In this example, we start with a bulk diamond structure and create defect supercell.\n",
    "To load the diamond structure:"
   ]
  },
  {
   "cell_type": "code",
   "execution_count": 3,
   "id": "44027ad0",
   "metadata": {
    "execution": {
     "iopub.execute_input": "2023-04-20T20:58:34.218804Z",
     "iopub.status.busy": "2023-04-20T20:58:34.218581Z",
     "iopub.status.idle": "2023-04-20T20:58:34.221941Z",
     "shell.execute_reply": "2023-04-20T20:58:34.221377Z"
    }
   },
   "outputs": [],
   "source": [
    "c2 = bulk(\"C\")"
   ]
  },
  {
   "cell_type": "markdown",
   "id": "cdd2a910",
   "metadata": {},
   "source": [
    "Creating a supercell can be done with the `.repeat` method of a `ase.Atoms` object:"
   ]
  },
  {
   "cell_type": "code",
   "execution_count": 4,
   "id": "6e50d473",
   "metadata": {
    "execution": {
     "iopub.execute_input": "2023-04-20T20:58:34.224086Z",
     "iopub.status.busy": "2023-04-20T20:58:34.223873Z",
     "iopub.status.idle": "2023-04-20T20:58:34.226954Z",
     "shell.execute_reply": "2023-04-20T20:58:34.226398Z"
    }
   },
   "outputs": [],
   "source": [
    "supercell = c2.repeat((3,3,3))"
   ]
  },
  {
   "cell_type": "markdown",
   "id": "e811ed48",
   "metadata": {},
   "source": [
    "Note that `.repeat` is an out-of0place operation, e.g. a new `ase.Atoms` object is created"
   ]
  },
  {
   "cell_type": "code",
   "execution_count": 5,
   "id": "bd058598",
   "metadata": {
    "execution": {
     "iopub.execute_input": "2023-04-20T20:58:34.229212Z",
     "iopub.status.busy": "2023-04-20T20:58:34.229005Z",
     "iopub.status.idle": "2023-04-20T20:58:34.232353Z",
     "shell.execute_reply": "2023-04-20T20:58:34.231587Z"
    }
   },
   "outputs": [
    {
     "name": "stdout",
     "output_type": "stream",
     "text": [
      "Atoms(symbols='C54', pbc=True, cell=[[0.0, 5.3549999999999995, 5.3549999999999995], [5.3549999999999995, 0.0, 5.3549999999999995], [5.3549999999999995, 5.3549999999999995, 0.0]])\n"
     ]
    }
   ],
   "source": [
    "print(supercell)"
   ]
  },
  {
   "cell_type": "markdown",
   "id": "f75c4359",
   "metadata": {},
   "source": [
    "A vacancy can be created by removing a single atom"
   ]
  },
  {
   "cell_type": "code",
   "execution_count": 6,
   "id": "e45eb2ec",
   "metadata": {
    "execution": {
     "iopub.execute_input": "2023-04-20T20:58:34.234438Z",
     "iopub.status.busy": "2023-04-20T20:58:34.234244Z",
     "iopub.status.idle": "2023-04-20T20:58:34.237460Z",
     "shell.execute_reply": "2023-04-20T20:58:34.236756Z"
    }
   },
   "outputs": [
    {
     "name": "stdout",
     "output_type": "stream",
     "text": [
      "Atoms(symbols='C53', pbc=True, cell=[[0.0, 5.3549999999999995, 5.3549999999999995], [5.3549999999999995, 0.0, 5.3549999999999995], [5.3549999999999995, 5.3549999999999995, 0.0]])\n"
     ]
    }
   ],
   "source": [
    "supercell.pop(0)\n",
    "print(supercell)"
   ]
  },
  {
   "cell_type": "markdown",
   "id": "e6ad1c56",
   "metadata": {},
   "source": [
    "Now our supercell has only 53 atoms, we write it to the disk in the [POSCAR](https://www.vasp.at/wiki/index.php/POSCAR) format."
   ]
  },
  {
   "cell_type": "code",
   "execution_count": 7,
   "id": "f942d7b6",
   "metadata": {
    "execution": {
     "iopub.execute_input": "2023-04-20T20:58:34.239461Z",
     "iopub.status.busy": "2023-04-20T20:58:34.239251Z",
     "iopub.status.idle": "2023-04-20T20:58:34.245297Z",
     "shell.execute_reply": "2023-04-20T20:58:34.244597Z"
    }
   },
   "outputs": [],
   "source": [
    "supercell.write(\"C_Vac_c.vasp\")"
   ]
  },
  {
   "cell_type": "markdown",
   "id": "83d5cced",
   "metadata": {},
   "source": [
    "The structure can be read into a different python session for further operation or used for calculation."
   ]
  },
  {
   "cell_type": "code",
   "execution_count": 8,
   "id": "f5b590bc",
   "metadata": {
    "execution": {
     "iopub.execute_input": "2023-04-20T20:58:34.247338Z",
     "iopub.status.busy": "2023-04-20T20:58:34.247112Z",
     "iopub.status.idle": "2023-04-20T20:58:34.252853Z",
     "shell.execute_reply": "2023-04-20T20:58:34.252278Z"
    }
   },
   "outputs": [],
   "source": [
    "import ase.io\n",
    "supercell_loaded = ase.io.read(\"C_Vac_c.vasp\")"
   ]
  },
  {
   "cell_type": "markdown",
   "id": "18354650",
   "metadata": {},
   "source": [
    "## Tracking operations performed on `ase.Atoms`\n",
    "\n",
    "The file `C_Vac_c.vasp` itself does not contain any history about how it was made, e.g  which structure was used as the bulk and which atom was removed, especially with more complex structures.\n",
    "\n",
    "Here comes the `AtomsTracker` to rescue! As the name suggests, it tracks the underlying `ase.Atoms` object as long as the methods called as those of the tracked object.\n",
    "\n",
    ":::{seealso} Implementation\n",
    ":class: dropdown\n",
    "\n",
    "The tracker is implemented using the [@calcfunction](https://aiida.readthedocs.io/projects/aiida-core/en/latest/topics/calculations/concepts.html?#calculation-functions) api in AiiDA core.\n",
    "The actual method calls `ase.Atoms` are done within a function wrapped by the `@calcfunction` decorator.\n",
    ":::"
   ]
  },
  {
   "cell_type": "code",
   "execution_count": 9,
   "id": "c6e9a2f7",
   "metadata": {
    "execution": {
     "iopub.execute_input": "2023-04-20T20:58:34.254849Z",
     "iopub.status.busy": "2023-04-20T20:58:34.254661Z",
     "iopub.status.idle": "2023-04-20T20:58:34.702634Z",
     "shell.execute_reply": "2023-04-20T20:58:34.701825Z"
    }
   },
   "outputs": [],
   "source": [
    "tracker = AtomsTracker(c2)\n",
    "tracker.label = \"C2 Primitive\"\n",
    "defect_cell = tracker.repeat((3,3,3))\n",
    "defect_cell.pop(0)\n",
    "defect_cell.rattle(stdev=0.05, seed=11)\n",
    "defect_cell.label = \"C2 Rattled supercell\""
   ]
  },
  {
   "cell_type": "markdown",
   "id": "f172ad2f",
   "metadata": {},
   "source": [
    "now both `tracker` and `supercell` are `AtomsTracker` objects:"
   ]
  },
  {
   "cell_type": "code",
   "execution_count": 10,
   "id": "1d91d073",
   "metadata": {
    "execution": {
     "iopub.execute_input": "2023-04-20T20:58:34.705162Z",
     "iopub.status.busy": "2023-04-20T20:58:34.704941Z",
     "iopub.status.idle": "2023-04-20T20:58:34.709679Z",
     "shell.execute_reply": "2023-04-20T20:58:34.708910Z"
    }
   },
   "outputs": [
    {
     "name": "stdout",
     "output_type": "stream",
     "text": [
      "AtomsTracker(Atoms(symbols='C2', pbc=True, cell=[[0.0, 1.785, 1.785], [1.785, 0.0, 1.785], [1.785, 1.785, 0.0]]), <StructureData: uuid: 6b244479-a24c-4ae6-a8a3-647e757b322f (pk: 2)>)\n",
      "AtomsTracker(Atoms(symbols='C53', pbc=True, cell=[[0.0, 5.3549999999999995, 5.3549999999999995], [5.3549999999999995, 0.0, 5.3549999999999995], [5.3549999999999995, 5.3549999999999995, 0.0]], masses=...), <StructureData: uuid: 1c516cdf-95ca-4c4b-ae1e-a684c0206572 (pk: 11)>)\n"
     ]
    }
   ],
   "source": [
    "print(tracker)\n",
    "print(defect_cell)"
   ]
  },
  {
   "cell_type": "markdown",
   "id": "37bf99e0",
   "metadata": {},
   "source": [
    "An `AtomsTracker` is just an `ase.Atoms` object plus an `aiida.orm.StructureData` with methods of `ase.Atoms` attached."
   ]
  },
  {
   "cell_type": "code",
   "execution_count": 11,
   "id": "d9c12a21",
   "metadata": {
    "execution": {
     "iopub.execute_input": "2023-04-20T20:58:34.711695Z",
     "iopub.status.busy": "2023-04-20T20:58:34.711486Z",
     "iopub.status.idle": "2023-04-20T20:58:34.714702Z",
     "shell.execute_reply": "2023-04-20T20:58:34.714144Z"
    }
   },
   "outputs": [
    {
     "name": "stdout",
     "output_type": "stream",
     "text": [
      "Atoms(symbols='C2', pbc=True, cell=[[0.0, 1.785, 1.785], [1.785, 0.0, 1.785], [1.785, 1.785, 0.0]])\n",
      "<StructureData: uuid: 6b244479-a24c-4ae6-a8a3-647e757b322f (pk: 2)>\n"
     ]
    }
   ],
   "source": [
    "print(tracker.atoms)\n",
    "\n",
    "print(tracker.node.__repr__())"
   ]
  },
  {
   "cell_type": "code",
   "execution_count": 12,
   "id": "914c7290",
   "metadata": {
    "execution": {
     "iopub.execute_input": "2023-04-20T20:58:34.716772Z",
     "iopub.status.busy": "2023-04-20T20:58:34.716583Z",
     "iopub.status.idle": "2023-04-20T20:58:34.719849Z",
     "shell.execute_reply": "2023-04-20T20:58:34.719091Z"
    }
   },
   "outputs": [
    {
     "name": "stdout",
     "output_type": "stream",
     "text": [
      "Atoms(symbols='C53', pbc=True, cell=[[0.0, 5.3549999999999995, 5.3549999999999995], [5.3549999999999995, 0.0, 5.3549999999999995], [5.3549999999999995, 5.3549999999999995, 0.0]], masses=...)\n",
      "<StructureData: uuid: 1c516cdf-95ca-4c4b-ae1e-a684c0206572 (pk: 11)>\n"
     ]
    }
   ],
   "source": [
    "print(defect_cell.atoms)\n",
    "\n",
    "print(defect_cell.node.__repr__())"
   ]
  },
  {
   "cell_type": "markdown",
   "id": "215edd28",
   "metadata": {},
   "source": [
    "Now the `supercell` includes the history show how it was made\n",
    "\n",
    ":::{danger}\n",
    "Do not call the method of the underlying `ase.Atoms` object directly - this will cause the tracker to lose track of the atom, resulting in incorrect provenance.\n",
    ":::"
   ]
  },
  {
   "cell_type": "code",
   "execution_count": 13,
   "id": "27cb32ce",
   "metadata": {
    "execution": {
     "iopub.execute_input": "2023-04-20T20:58:34.721814Z",
     "iopub.status.busy": "2023-04-20T20:58:34.721618Z",
     "iopub.status.idle": "2023-04-20T20:58:34.731939Z",
     "shell.execute_reply": "2023-04-20T20:58:34.731171Z"
    }
   },
   "outputs": [
    {
     "name": "stdout",
     "output_type": "stream",
     "text": [
      "LinkTriple(node=<CalcFunctionNode: uuid: 4e5b3684-4fd7-4d29-be89-2ce14c2e2b64 (pk: 10) (ase.atoms.rattle)>, link_type=<LinkType.CREATE: 'create'>, link_label='result')\n"
     ]
    }
   ],
   "source": [
    "calc_pop = defect_cell.node.base.links.get_incoming().one()\n",
    "print(calc_pop)"
   ]
  },
  {
   "cell_type": "markdown",
   "id": "63a1e681",
   "metadata": {},
   "source": [
    "The [`LinkTriple`](https://aiida.readthedocs.io/projects/aiida-core/en/latest/howto/query.html?incoming-and-outgoing-links) object is an object to represent a link between two nodes. Here, one is the output strucutre `supercell.node` and the other is a `Calculation` that create the output.\n",
    "\n",
    "We can also check what are the inputs used in this calculation:"
   ]
  },
  {
   "cell_type": "code",
   "execution_count": 14,
   "id": "2525b319",
   "metadata": {
    "execution": {
     "iopub.execute_input": "2023-04-20T20:58:34.733927Z",
     "iopub.status.busy": "2023-04-20T20:58:34.733726Z",
     "iopub.status.idle": "2023-04-20T20:58:34.746175Z",
     "shell.execute_reply": "2023-04-20T20:58:34.745578Z"
    }
   },
   "outputs": [
    {
     "data": {
      "text/plain": [
       "[LinkTriple(node=<Float: uuid: 33bb8017-871e-4e8a-9b01-41ac4b3c8170 (pk: 8) value: 0.05>, link_type=<LinkType.INPUT_CALC: 'input_calc'>, link_label='stdev'),\n",
       " LinkTriple(node=<Int: uuid: 704aa0c5-85cb-4ffa-b052-5f8296575c36 (pk: 9) value: 11>, link_type=<LinkType.INPUT_CALC: 'input_calc'>, link_label='seed'),\n",
       " LinkTriple(node=<StructureData: uuid: 002e83da-0bd1-4057-b127-7cbfc87a909e (pk: 7)>, link_type=<LinkType.INPUT_CALC: 'input_calc'>, link_label='node')]"
      ]
     },
     "execution_count": 14,
     "metadata": {},
     "output_type": "execute_result"
    }
   ],
   "source": [
    "calc_func = calc_pop.node\n",
    "calc_func.base.links.get_incoming().all()"
   ]
  },
  {
   "cell_type": "markdown",
   "id": "22253921",
   "metadata": {},
   "source": [
    "## Visualising provenance\n",
    "\n",
    "AiiDA provides some tools to visualise the provenance."
   ]
  },
  {
   "cell_type": "code",
   "execution_count": 15,
   "id": "63b4380e",
   "metadata": {
    "execution": {
     "iopub.execute_input": "2023-04-20T20:58:34.748256Z",
     "iopub.status.busy": "2023-04-20T20:58:34.748048Z",
     "iopub.status.idle": "2023-04-20T20:58:34.883398Z",
     "shell.execute_reply": "2023-04-20T20:58:34.882519Z"
    }
   },
   "outputs": [
    {
     "data": {
      "image/svg+xml": [
       "<?xml version=\"1.0\" encoding=\"UTF-8\" standalone=\"no\"?>\n",
       "<!DOCTYPE svg PUBLIC \"-//W3C//DTD SVG 1.1//EN\"\n",
       " \"http://www.w3.org/Graphics/SVG/1.1/DTD/svg11.dtd\">\n",
       "<!-- Generated by graphviz version 2.47.2 (20210527.1257)\n",
       " -->\n",
       "<!-- Pages: 1 -->\n",
       "<svg width=\"386pt\" height=\"504pt\"\n",
       " viewBox=\"0.00 0.00 385.63 504.00\" xmlns=\"http://www.w3.org/2000/svg\" xmlns:xlink=\"http://www.w3.org/1999/xlink\">\n",
       "<g id=\"graph0\" class=\"graph\" transform=\"scale(0.65 0.65) rotate(0) translate(4 773.96)\">\n",
       "<polygon fill=\"white\" stroke=\"transparent\" points=\"-4,4 -4,-773.96 591.25,-773.96 591.25,4 -4,4\"/>\n",
       "<!-- N11 -->\n",
       "<g id=\"node1\" class=\"node\">\n",
       "<title>N11</title>\n",
       "<ellipse fill=\"#8cd499\" stroke=\"red\" stroke-width=\"6\" cx=\"385.25\" cy=\"-26.87\" rx=\"103.48\" ry=\"26.74\"/>\n",
       "<text text-anchor=\"middle\" x=\"385.25\" y=\"-30.67\" font-family=\"Times-Roman\" font-size=\"14.00\">StructureData (11)</text>\n",
       "<text text-anchor=\"middle\" x=\"385.25\" y=\"-15.67\" font-family=\"Times-Roman\" font-size=\"14.00\">C53</text>\n",
       "</g>\n",
       "<!-- N1 -->\n",
       "<g id=\"node2\" class=\"node\">\n",
       "<title>N1</title>\n",
       "<ellipse fill=\"#8cd499\" stroke=\"black\" stroke-width=\"0\" cx=\"42.25\" cy=\"-743.09\" rx=\"42.49\" ry=\"18\"/>\n",
       "<text text-anchor=\"middle\" x=\"42.25\" y=\"-739.39\" font-family=\"Times-Roman\" font-size=\"14.00\">List (1)</text>\n",
       "</g>\n",
       "<!-- N3 -->\n",
       "<g id=\"node4\" class=\"node\">\n",
       "<title>N3</title>\n",
       "<polygon fill=\"#de707f\" fill-opacity=\"0.466667\" stroke=\"black\" stroke-width=\"0\" points=\"178.75,-650.22 61.75,-650.22 61.75,-597.22 178.75,-597.22 178.75,-650.22\"/>\n",
       "<text text-anchor=\"middle\" x=\"120.25\" y=\"-635.02\" font-family=\"Times-Roman\" font-size=\"14.00\">repeat (3)</text>\n",
       "<text text-anchor=\"middle\" x=\"120.25\" y=\"-620.02\" font-family=\"Times-Roman\" font-size=\"14.00\">State: finished</text>\n",
       "<text text-anchor=\"middle\" x=\"120.25\" y=\"-605.02\" font-family=\"Times-Roman\" font-size=\"14.00\">Exit Code: 0</text>\n",
       "</g>\n",
       "<!-- N1&#45;&gt;N3 -->\n",
       "<g id=\"edge1\" class=\"edge\">\n",
       "<title>N1&#45;&gt;N3</title>\n",
       "<path fill=\"none\" stroke=\"#000000\" d=\"M53.13,-725.65C63.06,-710.68 78.12,-687.96 91.25,-668.22 93.28,-665.17 95.39,-662 97.5,-658.82\"/>\n",
       "<polygon fill=\"#000000\" stroke=\"#000000\" points=\"100.43,-660.74 103.06,-650.48 94.6,-656.86 100.43,-660.74\"/>\n",
       "<text text-anchor=\"middle\" x=\"134.25\" y=\"-687.02\" font-family=\"Times-Roman\" font-size=\"14.00\">INPUT_CALC</text>\n",
       "<text text-anchor=\"middle\" x=\"134.25\" y=\"-672.02\" font-family=\"Times-Roman\" font-size=\"14.00\">arg_00</text>\n",
       "</g>\n",
       "<!-- N2 -->\n",
       "<g id=\"node3\" class=\"node\">\n",
       "<title>N2</title>\n",
       "<ellipse fill=\"#8cd499\" stroke=\"black\" stroke-width=\"0\" cx=\"199.25\" cy=\"-743.09\" rx=\"96.75\" ry=\"26.74\"/>\n",
       "<text text-anchor=\"middle\" x=\"199.25\" y=\"-746.89\" font-family=\"Times-Roman\" font-size=\"14.00\">StructureData (2)</text>\n",
       "<text text-anchor=\"middle\" x=\"199.25\" y=\"-731.89\" font-family=\"Times-Roman\" font-size=\"14.00\">C2</text>\n",
       "</g>\n",
       "<!-- N2&#45;&gt;N3 -->\n",
       "<g id=\"edge10\" class=\"edge\">\n",
       "<title>N2&#45;&gt;N3</title>\n",
       "<path fill=\"none\" stroke=\"#000000\" d=\"M195.62,-716.08C192.56,-701.07 187.05,-682.43 177.25,-668.22 174.63,-664.43 171.58,-660.83 168.27,-657.44\"/>\n",
       "<polygon fill=\"#000000\" stroke=\"#000000\" points=\"170.4,-654.63 160.7,-650.36 165.62,-659.74 170.4,-654.63\"/>\n",
       "<text text-anchor=\"middle\" x=\"234.25\" y=\"-687.02\" font-family=\"Times-Roman\" font-size=\"14.00\">INPUT_CALC</text>\n",
       "<text text-anchor=\"middle\" x=\"234.25\" y=\"-672.02\" font-family=\"Times-Roman\" font-size=\"14.00\">node</text>\n",
       "</g>\n",
       "<!-- N4 -->\n",
       "<g id=\"node5\" class=\"node\">\n",
       "<title>N4</title>\n",
       "<ellipse fill=\"#8cd499\" stroke=\"black\" stroke-width=\"0\" cx=\"120.25\" cy=\"-504.35\" rx=\"96.75\" ry=\"26.74\"/>\n",
       "<text text-anchor=\"middle\" x=\"120.25\" y=\"-508.15\" font-family=\"Times-Roman\" font-size=\"14.00\">StructureData (4)</text>\n",
       "<text text-anchor=\"middle\" x=\"120.25\" y=\"-493.15\" font-family=\"Times-Roman\" font-size=\"14.00\">C54</text>\n",
       "</g>\n",
       "<!-- N3&#45;&gt;N4 -->\n",
       "<g id=\"edge6\" class=\"edge\">\n",
       "<title>N3&#45;&gt;N4</title>\n",
       "<path fill=\"none\" stroke=\"#000000\" d=\"M120.25,-596.96C120.25,-580.72 120.25,-559.49 120.25,-541.57\"/>\n",
       "<polygon fill=\"#000000\" stroke=\"#000000\" points=\"123.75,-541.45 120.25,-531.45 116.75,-541.45 123.75,-541.45\"/>\n",
       "<text text-anchor=\"middle\" x=\"147.75\" y=\"-568.02\" font-family=\"Times-Roman\" font-size=\"14.00\">CREATE</text>\n",
       "<text text-anchor=\"middle\" x=\"147.75\" y=\"-553.02\" font-family=\"Times-Roman\" font-size=\"14.00\">result</text>\n",
       "</g>\n",
       "<!-- N6 -->\n",
       "<g id=\"node7\" class=\"node\">\n",
       "<title>N6</title>\n",
       "<polygon fill=\"#de707f\" fill-opacity=\"0.466667\" stroke=\"black\" stroke-width=\"0\" points=\"261.75,-411.48 144.75,-411.48 144.75,-358.48 261.75,-358.48 261.75,-411.48\"/>\n",
       "<text text-anchor=\"middle\" x=\"203.25\" y=\"-396.28\" font-family=\"Times-Roman\" font-size=\"14.00\">pop (6)</text>\n",
       "<text text-anchor=\"middle\" x=\"203.25\" y=\"-381.28\" font-family=\"Times-Roman\" font-size=\"14.00\">State: finished</text>\n",
       "<text text-anchor=\"middle\" x=\"203.25\" y=\"-366.28\" font-family=\"Times-Roman\" font-size=\"14.00\">Exit Code: 0</text>\n",
       "</g>\n",
       "<!-- N4&#45;&gt;N6 -->\n",
       "<g id=\"edge7\" class=\"edge\">\n",
       "<title>N4&#45;&gt;N6</title>\n",
       "<path fill=\"none\" stroke=\"#000000\" d=\"M126.81,-477.43C131.45,-462.45 138.73,-443.81 149.25,-429.48 151.96,-425.78 155.07,-422.21 158.39,-418.83\"/>\n",
       "<polygon fill=\"#000000\" stroke=\"#000000\" points=\"161.06,-421.12 165.93,-411.71 156.26,-416.03 161.06,-421.12\"/>\n",
       "<text text-anchor=\"middle\" x=\"192.25\" y=\"-448.28\" font-family=\"Times-Roman\" font-size=\"14.00\">INPUT_CALC</text>\n",
       "<text text-anchor=\"middle\" x=\"192.25\" y=\"-433.28\" font-family=\"Times-Roman\" font-size=\"14.00\">node</text>\n",
       "</g>\n",
       "<!-- N5 -->\n",
       "<g id=\"node6\" class=\"node\">\n",
       "<title>N5</title>\n",
       "<ellipse fill=\"#8cd499\" stroke=\"black\" stroke-width=\"0\" cx=\"286.25\" cy=\"-504.35\" rx=\"50.82\" ry=\"26.74\"/>\n",
       "<text text-anchor=\"middle\" x=\"286.25\" y=\"-508.15\" font-family=\"Times-Roman\" font-size=\"14.00\">Int (5)</text>\n",
       "<text text-anchor=\"middle\" x=\"286.25\" y=\"-493.15\" font-family=\"Times-Roman\" font-size=\"14.00\">value: 0</text>\n",
       "</g>\n",
       "<!-- N5&#45;&gt;N6 -->\n",
       "<g id=\"edge5\" class=\"edge\">\n",
       "<title>N5&#45;&gt;N6</title>\n",
       "<path fill=\"none\" stroke=\"#000000\" d=\"M271.54,-478.55C262.63,-463.97 250.78,-445.34 239.25,-429.48 236.91,-426.27 234.42,-422.99 231.87,-419.74\"/>\n",
       "<polygon fill=\"#000000\" stroke=\"#000000\" points=\"234.48,-417.4 225.49,-411.78 229.01,-421.77 234.48,-417.4\"/>\n",
       "<text text-anchor=\"middle\" x=\"303.25\" y=\"-448.28\" font-family=\"Times-Roman\" font-size=\"14.00\">INPUT_CALC</text>\n",
       "<text text-anchor=\"middle\" x=\"303.25\" y=\"-433.28\" font-family=\"Times-Roman\" font-size=\"14.00\">arg_00</text>\n",
       "</g>\n",
       "<!-- N7 -->\n",
       "<g id=\"node8\" class=\"node\">\n",
       "<title>N7</title>\n",
       "<ellipse fill=\"#8cd499\" stroke=\"black\" stroke-width=\"0\" cx=\"203.25\" cy=\"-265.61\" rx=\"96.75\" ry=\"26.74\"/>\n",
       "<text text-anchor=\"middle\" x=\"203.25\" y=\"-269.41\" font-family=\"Times-Roman\" font-size=\"14.00\">StructureData (7)</text>\n",
       "<text text-anchor=\"middle\" x=\"203.25\" y=\"-254.41\" font-family=\"Times-Roman\" font-size=\"14.00\">C53</text>\n",
       "</g>\n",
       "<!-- N6&#45;&gt;N7 -->\n",
       "<g id=\"edge9\" class=\"edge\">\n",
       "<title>N6&#45;&gt;N7</title>\n",
       "<path fill=\"none\" stroke=\"#000000\" d=\"M203.25,-358.22C203.25,-341.98 203.25,-320.75 203.25,-302.83\"/>\n",
       "<polygon fill=\"#000000\" stroke=\"#000000\" points=\"206.75,-302.71 203.25,-292.71 199.75,-302.71 206.75,-302.71\"/>\n",
       "<text text-anchor=\"middle\" x=\"230.75\" y=\"-329.28\" font-family=\"Times-Roman\" font-size=\"14.00\">CREATE</text>\n",
       "<text text-anchor=\"middle\" x=\"230.75\" y=\"-314.28\" font-family=\"Times-Roman\" font-size=\"14.00\">result</text>\n",
       "</g>\n",
       "<!-- N10 -->\n",
       "<g id=\"node11\" class=\"node\">\n",
       "<title>N10</title>\n",
       "<polygon fill=\"#de707f\" fill-opacity=\"0.466667\" stroke=\"black\" stroke-width=\"0\" points=\"443.75,-172.74 326.75,-172.74 326.75,-119.74 443.75,-119.74 443.75,-172.74\"/>\n",
       "<text text-anchor=\"middle\" x=\"385.25\" y=\"-157.54\" font-family=\"Times-Roman\" font-size=\"14.00\">rattle (10)</text>\n",
       "<text text-anchor=\"middle\" x=\"385.25\" y=\"-142.54\" font-family=\"Times-Roman\" font-size=\"14.00\">State: finished</text>\n",
       "<text text-anchor=\"middle\" x=\"385.25\" y=\"-127.54\" font-family=\"Times-Roman\" font-size=\"14.00\">Exit Code: 0</text>\n",
       "</g>\n",
       "<!-- N7&#45;&gt;N10 -->\n",
       "<g id=\"edge3\" class=\"edge\">\n",
       "<title>N7&#45;&gt;N10</title>\n",
       "<path fill=\"none\" stroke=\"#000000\" d=\"M231,-239.57C248.64,-224.37 272.39,-205.18 295.25,-190.74 302.5,-186.16 310.3,-181.73 318.17,-177.56\"/>\n",
       "<polygon fill=\"#000000\" stroke=\"#000000\" points=\"319.79,-180.66 327.07,-172.97 316.57,-174.44 319.79,-180.66\"/>\n",
       "<text text-anchor=\"middle\" x=\"338.25\" y=\"-209.54\" font-family=\"Times-Roman\" font-size=\"14.00\">INPUT_CALC</text>\n",
       "<text text-anchor=\"middle\" x=\"338.25\" y=\"-194.54\" font-family=\"Times-Roman\" font-size=\"14.00\">node</text>\n",
       "</g>\n",
       "<!-- N8 -->\n",
       "<g id=\"node9\" class=\"node\">\n",
       "<title>N8</title>\n",
       "<ellipse fill=\"#8cd499\" stroke=\"black\" stroke-width=\"0\" cx=\"385.25\" cy=\"-265.61\" rx=\"67.35\" ry=\"26.74\"/>\n",
       "<text text-anchor=\"middle\" x=\"385.25\" y=\"-269.41\" font-family=\"Times-Roman\" font-size=\"14.00\">Float (8)</text>\n",
       "<text text-anchor=\"middle\" x=\"385.25\" y=\"-254.41\" font-family=\"Times-Roman\" font-size=\"14.00\">value: 0.05</text>\n",
       "</g>\n",
       "<!-- N8&#45;&gt;N10 -->\n",
       "<g id=\"edge4\" class=\"edge\">\n",
       "<title>N8&#45;&gt;N10</title>\n",
       "<path fill=\"none\" stroke=\"#000000\" d=\"M385.25,-238.56C385.25,-222.19 385.25,-200.85 385.25,-182.91\"/>\n",
       "<polygon fill=\"#000000\" stroke=\"#000000\" points=\"388.75,-182.81 385.25,-172.81 381.75,-182.81 388.75,-182.81\"/>\n",
       "<text text-anchor=\"middle\" x=\"428.25\" y=\"-209.54\" font-family=\"Times-Roman\" font-size=\"14.00\">INPUT_CALC</text>\n",
       "<text text-anchor=\"middle\" x=\"428.25\" y=\"-194.54\" font-family=\"Times-Roman\" font-size=\"14.00\">stdev</text>\n",
       "</g>\n",
       "<!-- N9 -->\n",
       "<g id=\"node10\" class=\"node\">\n",
       "<title>N9</title>\n",
       "<ellipse fill=\"#8cd499\" stroke=\"black\" stroke-width=\"0\" cx=\"527.25\" cy=\"-265.61\" rx=\"57.05\" ry=\"26.74\"/>\n",
       "<text text-anchor=\"middle\" x=\"527.25\" y=\"-269.41\" font-family=\"Times-Roman\" font-size=\"14.00\">Int (9)</text>\n",
       "<text text-anchor=\"middle\" x=\"527.25\" y=\"-254.41\" font-family=\"Times-Roman\" font-size=\"14.00\">value: 11</text>\n",
       "</g>\n",
       "<!-- N9&#45;&gt;N10 -->\n",
       "<g id=\"edge8\" class=\"edge\">\n",
       "<title>N9&#45;&gt;N10</title>\n",
       "<path fill=\"none\" stroke=\"#000000\" d=\"M513.78,-239.19C504.56,-223.65 491.15,-204.24 475.25,-190.74 468.52,-185.03 460.91,-179.87 453.04,-175.27\"/>\n",
       "<polygon fill=\"#000000\" stroke=\"#000000\" points=\"454.52,-172.09 444.07,-170.31 451.13,-178.21 454.52,-172.09\"/>\n",
       "<text text-anchor=\"middle\" x=\"544.25\" y=\"-209.54\" font-family=\"Times-Roman\" font-size=\"14.00\">INPUT_CALC</text>\n",
       "<text text-anchor=\"middle\" x=\"544.25\" y=\"-194.54\" font-family=\"Times-Roman\" font-size=\"14.00\">seed</text>\n",
       "</g>\n",
       "<!-- N10&#45;&gt;N11 -->\n",
       "<g id=\"edge2\" class=\"edge\">\n",
       "<title>N10&#45;&gt;N11</title>\n",
       "<path fill=\"none\" stroke=\"#000000\" d=\"M385.25,-119.48C385.25,-103.24 385.25,-82.01 385.25,-64.09\"/>\n",
       "<polygon fill=\"#000000\" stroke=\"#000000\" points=\"388.75,-63.97 385.25,-53.97 381.75,-63.97 388.75,-63.97\"/>\n",
       "<text text-anchor=\"middle\" x=\"412.75\" y=\"-90.54\" font-family=\"Times-Roman\" font-size=\"14.00\">CREATE</text>\n",
       "<text text-anchor=\"middle\" x=\"412.75\" y=\"-75.54\" font-family=\"Times-Roman\" font-size=\"14.00\">result</text>\n",
       "</g>\n",
       "</g>\n",
       "</svg>\n"
      ],
      "text/plain": [
       "<graphviz.graphs.Digraph at 0x7f72c6153b50>"
      ]
     },
     "execution_count": 15,
     "metadata": {},
     "output_type": "execute_result"
    }
   ],
   "source": [
    "from aiida.tools.visualization import Graph\n",
    "def view_provenance(node, **kwargs):\n",
    "    graph = Graph(graph_attr={\"size\":\"7.0\"})\n",
    "    graph.recurse_ancestors(node, annotate_links=\"both\")\n",
    "    return graph.graphviz\n",
    "def view_descendants(node, **kwargs):\n",
    "    graph = Graph(graph_attr={\"size\":\"7.0\"})\n",
    "    graph.recurse_descendants(node, annotate_links=\"both\", include_process_inputs=True)\n",
    "    return graph.graphviz\n",
    "view_provenance(defect_cell.node)"
   ]
  },
  {
   "cell_type": "markdown",
   "id": "a2f54de3",
   "metadata": {},
   "source": [
    ":::{note}\n",
    "You may will need to install `graphviz` to be able to render the graph in the notebook.\n",
    "\n",
    "This can be down using `conda install -c conda-forge graphviz`.\n",
    ":::\n",
    "\n",
    "Great, we now have a full history of how our defect supercell is created.  \n",
    "`note`{The links are labeled with the names of the keyword arguments, but the positional arguments are labeld with *arg_00*.}\n",
    "\n",
    "Now let'ts create a few more defect structures, note the `pop` operation does an in-place mutation of the `supercell`, hence we have lost access to our pristine supercell.\n",
    "With the tracker, all intermediate results are stored in the database.\n",
    "This allow us to load the pristine supercell back without problem."
   ]
  },
  {
   "cell_type": "code",
   "execution_count": 16,
   "id": "3656808b",
   "metadata": {
    "execution": {
     "iopub.execute_input": "2023-04-20T20:58:34.886139Z",
     "iopub.status.busy": "2023-04-20T20:58:34.885915Z",
     "iopub.status.idle": "2023-04-20T20:58:34.983496Z",
     "shell.execute_reply": "2023-04-20T20:58:34.982604Z"
    }
   },
   "outputs": [
    {
     "data": {
      "text/plain": [
       "Atom('C', [0.8925, 0.8925, 0.8925], mass=12.011)"
      ]
     },
     "execution_count": 16,
     "metadata": {},
     "output_type": "execute_result"
    }
   ],
   "source": [
    "perfect_supercell = AtomsTracker(orm.load_node(4))\n",
    "defect2 = AtomsTracker(perfect_supercell)\n",
    "defect2.pop(1)"
   ]
  },
  {
   "cell_type": "markdown",
   "id": "36921032",
   "metadata": {},
   "source": [
    "Note that `.pop` returns an `ase.Atom` object, and the tracker retains this behaviour.\n",
    "\n",
    "For out-of-place operations, such as `repeat` or `sort`, returns a tracker tracking the new `ase.Atoms` object created."
   ]
  },
  {
   "cell_type": "code",
   "execution_count": 17,
   "id": "e2fc5dbe",
   "metadata": {
    "execution": {
     "iopub.execute_input": "2023-04-20T20:58:34.985856Z",
     "iopub.status.busy": "2023-04-20T20:58:34.985621Z",
     "iopub.status.idle": "2023-04-20T20:58:35.105640Z",
     "shell.execute_reply": "2023-04-20T20:58:35.104875Z"
    }
   },
   "outputs": [
    {
     "data": {
      "text/plain": [
       "False"
      ]
     },
     "execution_count": 17,
     "metadata": {},
     "output_type": "execute_result"
    }
   ],
   "source": [
    "sorted_defect2 = defect2.sort()\n",
    "sorted_defect2 is defect2"
   ]
  },
  {
   "cell_type": "markdown",
   "id": "2860ddc5",
   "metadata": {},
   "source": [
    "We can also check what the descendants of a given node are, as we used an bulk diamond structure as the starting point, all structures created are descendants of it."
   ]
  },
  {
   "cell_type": "code",
   "execution_count": 18,
   "id": "4a9a2858",
   "metadata": {
    "execution": {
     "iopub.execute_input": "2023-04-20T20:58:35.107873Z",
     "iopub.status.busy": "2023-04-20T20:58:35.107650Z",
     "iopub.status.idle": "2023-04-20T20:58:35.205020Z",
     "shell.execute_reply": "2023-04-20T20:58:35.204132Z"
    }
   },
   "outputs": [
    {
     "data": {
      "image/svg+xml": [
       "<?xml version=\"1.0\" encoding=\"UTF-8\" standalone=\"no\"?>\n",
       "<!DOCTYPE svg PUBLIC \"-//W3C//DTD SVG 1.1//EN\"\n",
       " \"http://www.w3.org/Graphics/SVG/1.1/DTD/svg11.dtd\">\n",
       "<!-- Generated by graphviz version 2.47.2 (20210527.1257)\n",
       " -->\n",
       "<!-- Pages: 1 -->\n",
       "<svg width=\"460pt\" height=\"504pt\"\n",
       " viewBox=\"0.00 0.00 460.04 504.00\" xmlns=\"http://www.w3.org/2000/svg\" xmlns:xlink=\"http://www.w3.org/1999/xlink\">\n",
       "<g id=\"graph0\" class=\"graph\" transform=\"scale(0.65 0.65) rotate(0) translate(4 773.96)\">\n",
       "<polygon fill=\"white\" stroke=\"transparent\" points=\"-4,4 -4,-773.96 706.11,-773.96 706.11,4 -4,4\"/>\n",
       "<!-- N2 -->\n",
       "<g id=\"node1\" class=\"node\">\n",
       "<title>N2</title>\n",
       "<ellipse fill=\"#8cd499\" stroke=\"red\" stroke-width=\"6\" cx=\"320.24\" cy=\"-743.09\" rx=\"96.75\" ry=\"26.74\"/>\n",
       "<text text-anchor=\"middle\" x=\"320.24\" y=\"-746.89\" font-family=\"Times-Roman\" font-size=\"14.00\">StructureData (2)</text>\n",
       "<text text-anchor=\"middle\" x=\"320.24\" y=\"-731.89\" font-family=\"Times-Roman\" font-size=\"14.00\">C2</text>\n",
       "</g>\n",
       "<!-- N3 -->\n",
       "<g id=\"node3\" class=\"node\">\n",
       "<title>N3</title>\n",
       "<polygon fill=\"#de707f\" fill-opacity=\"0.466667\" stroke=\"black\" stroke-width=\"0\" points=\"456.74,-650.22 339.74,-650.22 339.74,-597.22 456.74,-597.22 456.74,-650.22\"/>\n",
       "<text text-anchor=\"middle\" x=\"398.24\" y=\"-635.02\" font-family=\"Times-Roman\" font-size=\"14.00\">repeat (3)</text>\n",
       "<text text-anchor=\"middle\" x=\"398.24\" y=\"-620.02\" font-family=\"Times-Roman\" font-size=\"14.00\">State: finished</text>\n",
       "<text text-anchor=\"middle\" x=\"398.24\" y=\"-605.02\" font-family=\"Times-Roman\" font-size=\"14.00\">Exit Code: 0</text>\n",
       "</g>\n",
       "<!-- N2&#45;&gt;N3 -->\n",
       "<g id=\"edge15\" class=\"edge\">\n",
       "<title>N2&#45;&gt;N3</title>\n",
       "<path fill=\"none\" stroke=\"#000000\" d=\"M337.23,-716.44C346.65,-702.23 358.59,-684.24 369.24,-668.22 371.27,-665.17 373.38,-662 375.49,-658.82\"/>\n",
       "<polygon fill=\"#000000\" stroke=\"#000000\" points=\"378.42,-660.74 381.05,-650.48 372.6,-656.86 378.42,-660.74\"/>\n",
       "<text text-anchor=\"middle\" x=\"412.24\" y=\"-687.02\" font-family=\"Times-Roman\" font-size=\"14.00\">INPUT_CALC</text>\n",
       "<text text-anchor=\"middle\" x=\"412.24\" y=\"-672.02\" font-family=\"Times-Roman\" font-size=\"14.00\">node</text>\n",
       "</g>\n",
       "<!-- N1 -->\n",
       "<g id=\"node2\" class=\"node\">\n",
       "<title>N1</title>\n",
       "<ellipse fill=\"#8cd499\" stroke=\"black\" stroke-width=\"0\" cx=\"477.24\" cy=\"-743.09\" rx=\"42.49\" ry=\"18\"/>\n",
       "<text text-anchor=\"middle\" x=\"477.24\" y=\"-739.39\" font-family=\"Times-Roman\" font-size=\"14.00\">List (1)</text>\n",
       "</g>\n",
       "<!-- N1&#45;&gt;N3 -->\n",
       "<g id=\"edge9\" class=\"edge\">\n",
       "<title>N1&#45;&gt;N3</title>\n",
       "<path fill=\"none\" stroke=\"#000000\" d=\"M475.22,-724.95C472.67,-709.07 467.1,-685.4 455.24,-668.22 452.62,-664.43 449.57,-660.83 446.27,-657.44\"/>\n",
       "<polygon fill=\"#000000\" stroke=\"#000000\" points=\"448.39,-654.63 438.69,-650.36 443.61,-659.74 448.39,-654.63\"/>\n",
       "<text text-anchor=\"middle\" x=\"511.24\" y=\"-687.02\" font-family=\"Times-Roman\" font-size=\"14.00\">INPUT_CALC</text>\n",
       "<text text-anchor=\"middle\" x=\"511.24\" y=\"-672.02\" font-family=\"Times-Roman\" font-size=\"14.00\">arg_00</text>\n",
       "</g>\n",
       "<!-- N4 -->\n",
       "<g id=\"node4\" class=\"node\">\n",
       "<title>N4</title>\n",
       "<ellipse fill=\"#8cd499\" stroke=\"black\" stroke-width=\"0\" cx=\"398.24\" cy=\"-504.35\" rx=\"96.75\" ry=\"26.74\"/>\n",
       "<text text-anchor=\"middle\" x=\"398.24\" y=\"-508.15\" font-family=\"Times-Roman\" font-size=\"14.00\">StructureData (4)</text>\n",
       "<text text-anchor=\"middle\" x=\"398.24\" y=\"-493.15\" font-family=\"Times-Roman\" font-size=\"14.00\">C54</text>\n",
       "</g>\n",
       "<!-- N3&#45;&gt;N4 -->\n",
       "<g id=\"edge6\" class=\"edge\">\n",
       "<title>N3&#45;&gt;N4</title>\n",
       "<path fill=\"none\" stroke=\"#000000\" d=\"M398.24,-596.96C398.24,-580.72 398.24,-559.49 398.24,-541.57\"/>\n",
       "<polygon fill=\"#000000\" stroke=\"#000000\" points=\"401.74,-541.45 398.24,-531.45 394.74,-541.45 401.74,-541.45\"/>\n",
       "<text text-anchor=\"middle\" x=\"425.74\" y=\"-568.02\" font-family=\"Times-Roman\" font-size=\"14.00\">CREATE</text>\n",
       "<text text-anchor=\"middle\" x=\"425.74\" y=\"-553.02\" font-family=\"Times-Roman\" font-size=\"14.00\">result</text>\n",
       "</g>\n",
       "<!-- N6 -->\n",
       "<g id=\"node6\" class=\"node\">\n",
       "<title>N6</title>\n",
       "<polygon fill=\"#de707f\" fill-opacity=\"0.466667\" stroke=\"black\" stroke-width=\"0\" points=\"648.74,-411.48 531.74,-411.48 531.74,-358.48 648.74,-358.48 648.74,-411.48\"/>\n",
       "<text text-anchor=\"middle\" x=\"590.24\" y=\"-396.28\" font-family=\"Times-Roman\" font-size=\"14.00\">pop (6)</text>\n",
       "<text text-anchor=\"middle\" x=\"590.24\" y=\"-381.28\" font-family=\"Times-Roman\" font-size=\"14.00\">State: finished</text>\n",
       "<text text-anchor=\"middle\" x=\"590.24\" y=\"-366.28\" font-family=\"Times-Roman\" font-size=\"14.00\">Exit Code: 0</text>\n",
       "</g>\n",
       "<!-- N4&#45;&gt;N6 -->\n",
       "<g id=\"edge12\" class=\"edge\">\n",
       "<title>N4&#45;&gt;N6</title>\n",
       "<path fill=\"none\" stroke=\"#000000\" d=\"M429.41,-478.56C449.12,-463.46 475.46,-444.28 500.24,-429.48 507.81,-424.95 515.93,-420.51 524.08,-416.29\"/>\n",
       "<polygon fill=\"#000000\" stroke=\"#000000\" points=\"525.93,-419.28 533.26,-411.63 522.76,-413.04 525.93,-419.28\"/>\n",
       "<text text-anchor=\"middle\" x=\"543.24\" y=\"-448.28\" font-family=\"Times-Roman\" font-size=\"14.00\">INPUT_CALC</text>\n",
       "<text text-anchor=\"middle\" x=\"543.24\" y=\"-433.28\" font-family=\"Times-Roman\" font-size=\"14.00\">node</text>\n",
       "</g>\n",
       "<!-- N13 -->\n",
       "<g id=\"node13\" class=\"node\">\n",
       "<title>N13</title>\n",
       "<polygon fill=\"#de707f\" fill-opacity=\"0.466667\" stroke=\"black\" stroke-width=\"0\" points=\"205.74,-411.48 88.74,-411.48 88.74,-358.48 205.74,-358.48 205.74,-411.48\"/>\n",
       "<text text-anchor=\"middle\" x=\"147.24\" y=\"-396.28\" font-family=\"Times-Roman\" font-size=\"14.00\">pop (13)</text>\n",
       "<text text-anchor=\"middle\" x=\"147.24\" y=\"-381.28\" font-family=\"Times-Roman\" font-size=\"14.00\">State: finished</text>\n",
       "<text text-anchor=\"middle\" x=\"147.24\" y=\"-366.28\" font-family=\"Times-Roman\" font-size=\"14.00\">Exit Code: 0</text>\n",
       "</g>\n",
       "<!-- N4&#45;&gt;N13 -->\n",
       "<g id=\"edge14\" class=\"edge\">\n",
       "<title>N4&#45;&gt;N13</title>\n",
       "<path fill=\"none\" stroke=\"#000000\" d=\"M350.14,-480.86C310.75,-462.44 254.68,-436.22 211.46,-416.01\"/>\n",
       "<polygon fill=\"#000000\" stroke=\"#000000\" points=\"212.7,-412.73 202.16,-411.66 209.74,-419.07 212.7,-412.73\"/>\n",
       "<text text-anchor=\"middle\" x=\"346.24\" y=\"-448.28\" font-family=\"Times-Roman\" font-size=\"14.00\">INPUT_CALC</text>\n",
       "<text text-anchor=\"middle\" x=\"346.24\" y=\"-433.28\" font-family=\"Times-Roman\" font-size=\"14.00\">node</text>\n",
       "</g>\n",
       "<!-- N5 -->\n",
       "<g id=\"node5\" class=\"node\">\n",
       "<title>N5</title>\n",
       "<ellipse fill=\"#8cd499\" stroke=\"black\" stroke-width=\"0\" cx=\"590.24\" cy=\"-504.35\" rx=\"50.82\" ry=\"26.74\"/>\n",
       "<text text-anchor=\"middle\" x=\"590.24\" y=\"-508.15\" font-family=\"Times-Roman\" font-size=\"14.00\">Int (5)</text>\n",
       "<text text-anchor=\"middle\" x=\"590.24\" y=\"-493.15\" font-family=\"Times-Roman\" font-size=\"14.00\">value: 0</text>\n",
       "</g>\n",
       "<!-- N5&#45;&gt;N6 -->\n",
       "<g id=\"edge5\" class=\"edge\">\n",
       "<title>N5&#45;&gt;N6</title>\n",
       "<path fill=\"none\" stroke=\"#000000\" d=\"M590.24,-477.3C590.24,-460.93 590.24,-439.59 590.24,-421.65\"/>\n",
       "<polygon fill=\"#000000\" stroke=\"#000000\" points=\"593.74,-421.55 590.24,-411.55 586.74,-421.55 593.74,-421.55\"/>\n",
       "<text text-anchor=\"middle\" x=\"633.24\" y=\"-448.28\" font-family=\"Times-Roman\" font-size=\"14.00\">INPUT_CALC</text>\n",
       "<text text-anchor=\"middle\" x=\"633.24\" y=\"-433.28\" font-family=\"Times-Roman\" font-size=\"14.00\">arg_00</text>\n",
       "</g>\n",
       "<!-- N7 -->\n",
       "<g id=\"node7\" class=\"node\">\n",
       "<title>N7</title>\n",
       "<ellipse fill=\"#8cd499\" stroke=\"black\" stroke-width=\"0\" cx=\"605.24\" cy=\"-265.61\" rx=\"96.75\" ry=\"26.74\"/>\n",
       "<text text-anchor=\"middle\" x=\"605.24\" y=\"-269.41\" font-family=\"Times-Roman\" font-size=\"14.00\">StructureData (7)</text>\n",
       "<text text-anchor=\"middle\" x=\"605.24\" y=\"-254.41\" font-family=\"Times-Roman\" font-size=\"14.00\">C53</text>\n",
       "</g>\n",
       "<!-- N6&#45;&gt;N7 -->\n",
       "<g id=\"edge8\" class=\"edge\">\n",
       "<title>N6&#45;&gt;N7</title>\n",
       "<path fill=\"none\" stroke=\"#000000\" d=\"M593.53,-358.22C595.61,-341.98 598.32,-320.75 600.61,-302.83\"/>\n",
       "<polygon fill=\"#000000\" stroke=\"#000000\" points=\"604.11,-303.08 601.9,-292.71 597.16,-302.19 604.11,-303.08\"/>\n",
       "<text text-anchor=\"middle\" x=\"626.74\" y=\"-329.28\" font-family=\"Times-Roman\" font-size=\"14.00\">CREATE</text>\n",
       "<text text-anchor=\"middle\" x=\"626.74\" y=\"-314.28\" font-family=\"Times-Roman\" font-size=\"14.00\">result</text>\n",
       "</g>\n",
       "<!-- N10 -->\n",
       "<g id=\"node10\" class=\"node\">\n",
       "<title>N10</title>\n",
       "<polygon fill=\"#de707f\" fill-opacity=\"0.466667\" stroke=\"black\" stroke-width=\"0\" points=\"491.74,-172.74 374.74,-172.74 374.74,-119.74 491.74,-119.74 491.74,-172.74\"/>\n",
       "<text text-anchor=\"middle\" x=\"433.24\" y=\"-157.54\" font-family=\"Times-Roman\" font-size=\"14.00\">rattle (10)</text>\n",
       "<text text-anchor=\"middle\" x=\"433.24\" y=\"-142.54\" font-family=\"Times-Roman\" font-size=\"14.00\">State: finished</text>\n",
       "<text text-anchor=\"middle\" x=\"433.24\" y=\"-127.54\" font-family=\"Times-Roman\" font-size=\"14.00\">Exit Code: 0</text>\n",
       "</g>\n",
       "<!-- N7&#45;&gt;N10 -->\n",
       "<g id=\"edge3\" class=\"edge\">\n",
       "<title>N7&#45;&gt;N10</title>\n",
       "<path fill=\"none\" stroke=\"#000000\" d=\"M580.93,-239.34C565.37,-224.05 544.23,-204.85 523.24,-190.74 516.3,-186.08 508.79,-181.63 501.17,-177.48\"/>\n",
       "<polygon fill=\"#000000\" stroke=\"#000000\" points=\"502.67,-174.32 492.19,-172.76 499.41,-180.51 502.67,-174.32\"/>\n",
       "<text text-anchor=\"middle\" x=\"603.24\" y=\"-209.54\" font-family=\"Times-Roman\" font-size=\"14.00\">INPUT_CALC</text>\n",
       "<text text-anchor=\"middle\" x=\"603.24\" y=\"-194.54\" font-family=\"Times-Roman\" font-size=\"14.00\">node</text>\n",
       "</g>\n",
       "<!-- N8 -->\n",
       "<g id=\"node8\" class=\"node\">\n",
       "<title>N8</title>\n",
       "<ellipse fill=\"#8cd499\" stroke=\"black\" stroke-width=\"0\" cx=\"291.24\" cy=\"-265.61\" rx=\"67.35\" ry=\"26.74\"/>\n",
       "<text text-anchor=\"middle\" x=\"291.24\" y=\"-269.41\" font-family=\"Times-Roman\" font-size=\"14.00\">Float (8)</text>\n",
       "<text text-anchor=\"middle\" x=\"291.24\" y=\"-254.41\" font-family=\"Times-Roman\" font-size=\"14.00\">value: 0.05</text>\n",
       "</g>\n",
       "<!-- N8&#45;&gt;N10 -->\n",
       "<g id=\"edge4\" class=\"edge\">\n",
       "<title>N8&#45;&gt;N10</title>\n",
       "<path fill=\"none\" stroke=\"#000000\" d=\"M304.7,-239.19C313.92,-223.65 327.34,-204.24 343.24,-190.74 349.97,-185.03 357.57,-179.87 365.45,-175.27\"/>\n",
       "<polygon fill=\"#000000\" stroke=\"#000000\" points=\"367.35,-178.21 374.41,-170.31 363.97,-172.09 367.35,-178.21\"/>\n",
       "<text text-anchor=\"middle\" x=\"386.24\" y=\"-209.54\" font-family=\"Times-Roman\" font-size=\"14.00\">INPUT_CALC</text>\n",
       "<text text-anchor=\"middle\" x=\"386.24\" y=\"-194.54\" font-family=\"Times-Roman\" font-size=\"14.00\">stdev</text>\n",
       "</g>\n",
       "<!-- N9 -->\n",
       "<g id=\"node9\" class=\"node\">\n",
       "<title>N9</title>\n",
       "<ellipse fill=\"#8cd499\" stroke=\"black\" stroke-width=\"0\" cx=\"433.24\" cy=\"-265.61\" rx=\"57.05\" ry=\"26.74\"/>\n",
       "<text text-anchor=\"middle\" x=\"433.24\" y=\"-269.41\" font-family=\"Times-Roman\" font-size=\"14.00\">Int (9)</text>\n",
       "<text text-anchor=\"middle\" x=\"433.24\" y=\"-254.41\" font-family=\"Times-Roman\" font-size=\"14.00\">value: 11</text>\n",
       "</g>\n",
       "<!-- N9&#45;&gt;N10 -->\n",
       "<g id=\"edge13\" class=\"edge\">\n",
       "<title>N9&#45;&gt;N10</title>\n",
       "<path fill=\"none\" stroke=\"#000000\" d=\"M433.24,-238.56C433.24,-222.19 433.24,-200.85 433.24,-182.91\"/>\n",
       "<polygon fill=\"#000000\" stroke=\"#000000\" points=\"436.74,-182.81 433.24,-172.81 429.74,-182.81 436.74,-182.81\"/>\n",
       "<text text-anchor=\"middle\" x=\"476.24\" y=\"-209.54\" font-family=\"Times-Roman\" font-size=\"14.00\">INPUT_CALC</text>\n",
       "<text text-anchor=\"middle\" x=\"476.24\" y=\"-194.54\" font-family=\"Times-Roman\" font-size=\"14.00\">seed</text>\n",
       "</g>\n",
       "<!-- N11 -->\n",
       "<g id=\"node11\" class=\"node\">\n",
       "<title>N11</title>\n",
       "<ellipse fill=\"#8cd499\" stroke=\"black\" stroke-width=\"0\" cx=\"433.24\" cy=\"-26.87\" rx=\"103.48\" ry=\"26.74\"/>\n",
       "<text text-anchor=\"middle\" x=\"433.24\" y=\"-30.67\" font-family=\"Times-Roman\" font-size=\"14.00\">StructureData (11)</text>\n",
       "<text text-anchor=\"middle\" x=\"433.24\" y=\"-15.67\" font-family=\"Times-Roman\" font-size=\"14.00\">C53</text>\n",
       "</g>\n",
       "<!-- N10&#45;&gt;N11 -->\n",
       "<g id=\"edge11\" class=\"edge\">\n",
       "<title>N10&#45;&gt;N11</title>\n",
       "<path fill=\"none\" stroke=\"#000000\" d=\"M433.24,-119.48C433.24,-103.24 433.24,-82.01 433.24,-64.09\"/>\n",
       "<polygon fill=\"#000000\" stroke=\"#000000\" points=\"436.74,-63.97 433.24,-53.97 429.74,-63.97 436.74,-63.97\"/>\n",
       "<text text-anchor=\"middle\" x=\"460.74\" y=\"-90.54\" font-family=\"Times-Roman\" font-size=\"14.00\">CREATE</text>\n",
       "<text text-anchor=\"middle\" x=\"460.74\" y=\"-75.54\" font-family=\"Times-Roman\" font-size=\"14.00\">result</text>\n",
       "</g>\n",
       "<!-- N12 -->\n",
       "<g id=\"node12\" class=\"node\">\n",
       "<title>N12</title>\n",
       "<ellipse fill=\"#8cd499\" stroke=\"black\" stroke-width=\"0\" cx=\"147.24\" cy=\"-504.35\" rx=\"50.82\" ry=\"26.74\"/>\n",
       "<text text-anchor=\"middle\" x=\"147.24\" y=\"-508.15\" font-family=\"Times-Roman\" font-size=\"14.00\">Int (12)</text>\n",
       "<text text-anchor=\"middle\" x=\"147.24\" y=\"-493.15\" font-family=\"Times-Roman\" font-size=\"14.00\">value: 1</text>\n",
       "</g>\n",
       "<!-- N12&#45;&gt;N13 -->\n",
       "<g id=\"edge10\" class=\"edge\">\n",
       "<title>N12&#45;&gt;N13</title>\n",
       "<path fill=\"none\" stroke=\"#000000\" d=\"M147.24,-477.3C147.24,-460.93 147.24,-439.59 147.24,-421.65\"/>\n",
       "<polygon fill=\"#000000\" stroke=\"#000000\" points=\"150.74,-421.55 147.24,-411.55 143.74,-421.55 150.74,-421.55\"/>\n",
       "<text text-anchor=\"middle\" x=\"190.24\" y=\"-448.28\" font-family=\"Times-Roman\" font-size=\"14.00\">INPUT_CALC</text>\n",
       "<text text-anchor=\"middle\" x=\"190.24\" y=\"-433.28\" font-family=\"Times-Roman\" font-size=\"14.00\">arg_00</text>\n",
       "</g>\n",
       "<!-- N14 -->\n",
       "<g id=\"node14\" class=\"node\">\n",
       "<title>N14</title>\n",
       "<ellipse fill=\"#8cd499\" stroke=\"black\" stroke-width=\"0\" cx=\"103.24\" cy=\"-265.61\" rx=\"103.48\" ry=\"26.74\"/>\n",
       "<text text-anchor=\"middle\" x=\"103.24\" y=\"-269.41\" font-family=\"Times-Roman\" font-size=\"14.00\">StructureData (14)</text>\n",
       "<text text-anchor=\"middle\" x=\"103.24\" y=\"-254.41\" font-family=\"Times-Roman\" font-size=\"14.00\">C53</text>\n",
       "</g>\n",
       "<!-- N13&#45;&gt;N14 -->\n",
       "<g id=\"edge2\" class=\"edge\">\n",
       "<title>N13&#45;&gt;N14</title>\n",
       "<path fill=\"none\" stroke=\"#000000\" d=\"M137.58,-358.22C131.43,-341.83 123.39,-320.36 116.63,-302.32\"/>\n",
       "<polygon fill=\"#000000\" stroke=\"#000000\" points=\"119.81,-300.85 113.02,-292.71 113.26,-303.31 119.81,-300.85\"/>\n",
       "<text text-anchor=\"middle\" x=\"158.74\" y=\"-329.28\" font-family=\"Times-Roman\" font-size=\"14.00\">CREATE</text>\n",
       "<text text-anchor=\"middle\" x=\"158.74\" y=\"-314.28\" font-family=\"Times-Roman\" font-size=\"14.00\">result</text>\n",
       "</g>\n",
       "<!-- N15 -->\n",
       "<g id=\"node15\" class=\"node\">\n",
       "<title>N15</title>\n",
       "<polygon fill=\"#de707f\" fill-opacity=\"0.466667\" stroke=\"black\" stroke-width=\"0\" points=\"161.74,-172.74 44.74,-172.74 44.74,-119.74 161.74,-119.74 161.74,-172.74\"/>\n",
       "<text text-anchor=\"middle\" x=\"103.24\" y=\"-157.54\" font-family=\"Times-Roman\" font-size=\"14.00\">sort (15)</text>\n",
       "<text text-anchor=\"middle\" x=\"103.24\" y=\"-142.54\" font-family=\"Times-Roman\" font-size=\"14.00\">State: finished</text>\n",
       "<text text-anchor=\"middle\" x=\"103.24\" y=\"-127.54\" font-family=\"Times-Roman\" font-size=\"14.00\">Exit Code: 0</text>\n",
       "</g>\n",
       "<!-- N14&#45;&gt;N15 -->\n",
       "<g id=\"edge1\" class=\"edge\">\n",
       "<title>N14&#45;&gt;N15</title>\n",
       "<path fill=\"none\" stroke=\"#000000\" d=\"M103.24,-238.56C103.24,-222.19 103.24,-200.85 103.24,-182.91\"/>\n",
       "<polygon fill=\"#000000\" stroke=\"#000000\" points=\"106.74,-182.81 103.24,-172.81 99.74,-182.81 106.74,-182.81\"/>\n",
       "<text text-anchor=\"middle\" x=\"146.24\" y=\"-209.54\" font-family=\"Times-Roman\" font-size=\"14.00\">INPUT_CALC</text>\n",
       "<text text-anchor=\"middle\" x=\"146.24\" y=\"-194.54\" font-family=\"Times-Roman\" font-size=\"14.00\">node</text>\n",
       "</g>\n",
       "<!-- N16 -->\n",
       "<g id=\"node16\" class=\"node\">\n",
       "<title>N16</title>\n",
       "<ellipse fill=\"#8cd499\" stroke=\"black\" stroke-width=\"0\" cx=\"103.24\" cy=\"-26.87\" rx=\"103.48\" ry=\"26.74\"/>\n",
       "<text text-anchor=\"middle\" x=\"103.24\" y=\"-30.67\" font-family=\"Times-Roman\" font-size=\"14.00\">StructureData (16)</text>\n",
       "<text text-anchor=\"middle\" x=\"103.24\" y=\"-15.67\" font-family=\"Times-Roman\" font-size=\"14.00\">C53</text>\n",
       "</g>\n",
       "<!-- N15&#45;&gt;N16 -->\n",
       "<g id=\"edge7\" class=\"edge\">\n",
       "<title>N15&#45;&gt;N16</title>\n",
       "<path fill=\"none\" stroke=\"#000000\" d=\"M103.24,-119.48C103.24,-103.24 103.24,-82.01 103.24,-64.09\"/>\n",
       "<polygon fill=\"#000000\" stroke=\"#000000\" points=\"106.74,-63.97 103.24,-53.97 99.74,-63.97 106.74,-63.97\"/>\n",
       "<text text-anchor=\"middle\" x=\"130.74\" y=\"-90.54\" font-family=\"Times-Roman\" font-size=\"14.00\">CREATE</text>\n",
       "<text text-anchor=\"middle\" x=\"130.74\" y=\"-75.54\" font-family=\"Times-Roman\" font-size=\"14.00\">result</text>\n",
       "</g>\n",
       "</g>\n",
       "</svg>\n"
      ],
      "text/plain": [
       "<graphviz.graphs.Digraph at 0x7f72c5fa1a60>"
      ]
     },
     "execution_count": 18,
     "metadata": {},
     "output_type": "execute_result"
    }
   ],
   "source": [
    "view_descendants(tracker.node)"
   ]
  },
  {
   "cell_type": "markdown",
   "id": "b0f359a3",
   "metadata": {},
   "source": [
    "## Shortcuts"
   ]
  },
  {
   "cell_type": "markdown",
   "id": "9756268a",
   "metadata": {},
   "source": [
    "The `AtomsTracker` also provides some shortcuts to the attributes of the underlying `StructureData` object.\n",
    "The `AtomsTracker.base` is equivalent to `AtomsTracker.node.base`, for example"
   ]
  },
  {
   "cell_type": "code",
   "execution_count": 19,
   "id": "aafc03cb",
   "metadata": {
    "execution": {
     "iopub.execute_input": "2023-04-20T20:58:35.207467Z",
     "iopub.status.busy": "2023-04-20T20:58:35.207227Z",
     "iopub.status.idle": "2023-04-20T20:58:35.222553Z",
     "shell.execute_reply": "2023-04-20T20:58:35.221920Z"
    }
   },
   "outputs": [
    {
     "data": {
      "text/plain": [
       "[LinkTriple(node=<CalcFunctionNode: uuid: c6deb1bf-1e93-42e6-bb4f-40ce02ebeefb (pk: 3) (ase.atoms.repeat)>, link_type=<LinkType.INPUT_CALC: 'input_calc'>, link_label='node')]"
      ]
     },
     "execution_count": 19,
     "metadata": {},
     "output_type": "execute_result"
    }
   ],
   "source": [
    "tracker.base.links.get_outgoing().all()"
   ]
  },
  {
   "cell_type": "markdown",
   "id": "7a28729d",
   "metadata": {},
   "source": [
    "is the same as"
   ]
  },
  {
   "cell_type": "code",
   "execution_count": 20,
   "id": "f6c65f12",
   "metadata": {
    "execution": {
     "iopub.execute_input": "2023-04-20T20:58:35.224654Z",
     "iopub.status.busy": "2023-04-20T20:58:35.224438Z",
     "iopub.status.idle": "2023-04-20T20:58:35.233401Z",
     "shell.execute_reply": "2023-04-20T20:58:35.232829Z"
    }
   },
   "outputs": [
    {
     "data": {
      "text/plain": [
       "[LinkTriple(node=<CalcFunctionNode: uuid: c6deb1bf-1e93-42e6-bb4f-40ce02ebeefb (pk: 3) (ase.atoms.repeat)>, link_type=<LinkType.INPUT_CALC: 'input_calc'>, link_label='node')]"
      ]
     },
     "execution_count": 20,
     "metadata": {},
     "output_type": "execute_result"
    }
   ],
   "source": [
    "tracker.node.base.links.get_outgoing().all()"
   ]
  },
  {
   "cell_type": "markdown",
   "id": "5f09e440",
   "metadata": {},
   "source": [
    "The `label` and `descriptions` of the underlying `node` also have shortcut."
   ]
  },
  {
   "cell_type": "code",
   "execution_count": 21,
   "id": "6b6d3be7",
   "metadata": {
    "execution": {
     "iopub.execute_input": "2023-04-20T20:58:35.235540Z",
     "iopub.status.busy": "2023-04-20T20:58:35.235319Z",
     "iopub.status.idle": "2023-04-20T20:58:35.243352Z",
     "shell.execute_reply": "2023-04-20T20:58:35.242761Z"
    }
   },
   "outputs": [
    {
     "name": "stdout",
     "output_type": "stream",
     "text": [
      "My defect node\n",
      "An initial C2 primitive cell\n"
     ]
    }
   ],
   "source": [
    "tracker.label = \"My defect node\"\n",
    "tracker.description = \"An initial C2 primitive cell\"\n",
    "\n",
    "print(tracker.node.label)\n",
    "print(tracker.node.description)"
   ]
  },
  {
   "cell_type": "markdown",
   "id": "7d50a7d9",
   "metadata": {},
   "source": [
    "## Using the data later\n",
    "\n",
    "The `node` attribute of the tracker is stored in AiiDA's database. There are two ways to identify a `node`:\n",
    "\n",
    "id\n",
    ": An integer that is unique within the database, but may change is the data is exported and imported to other database afterwards.\n",
    "\n",
    "uuid\n",
    ": A long string that is unique and will remain constant when imported/exported.\n",
    "\n",
    "The `uuid` is the preferred way of referring to the data as it is always stable.\n",
    "Just like `label` and `description`, there are also shortcuts."
   ]
  },
  {
   "cell_type": "code",
   "execution_count": 22,
   "id": "87fec582",
   "metadata": {
    "execution": {
     "iopub.execute_input": "2023-04-20T20:58:35.245352Z",
     "iopub.status.busy": "2023-04-20T20:58:35.245149Z",
     "iopub.status.idle": "2023-04-20T20:58:35.248610Z",
     "shell.execute_reply": "2023-04-20T20:58:35.248059Z"
    }
   },
   "outputs": [
    {
     "name": "stdout",
     "output_type": "stream",
     "text": [
      "14\n",
      "74de9f06-5480-4394-8b10-91cbba62ab5b\n"
     ]
    }
   ],
   "source": [
    "print(defect2.id)\n",
    "print(defect2.uuid)"
   ]
  },
  {
   "cell_type": "markdown",
   "id": "cbe2f055",
   "metadata": {},
   "source": [
    "We can load the defect from the database again with, this works in a different python session as long as you have the correct `uuid`."
   ]
  },
  {
   "cell_type": "code",
   "execution_count": 23,
   "id": "1264c1b9",
   "metadata": {
    "execution": {
     "iopub.execute_input": "2023-04-20T20:58:35.250713Z",
     "iopub.status.busy": "2023-04-20T20:58:35.250495Z",
     "iopub.status.idle": "2023-04-20T20:58:35.266000Z",
     "shell.execute_reply": "2023-04-20T20:58:35.265407Z"
    }
   },
   "outputs": [
    {
     "data": {
      "text/plain": [
       "AtomsTracker(Atoms(symbols='C53', pbc=True, cell=[[0.0, 5.355, 5.355], [5.355, 0.0, 5.355], [5.355, 5.355, 0.0]], masses=...), <StructureData: uuid: 74de9f06-5480-4394-8b10-91cbba62ab5b (pk: 14)>)"
      ]
     },
     "execution_count": 23,
     "metadata": {},
     "output_type": "execute_result"
    }
   ],
   "source": [
    "defect2_reloaded = AtomsTracker(orm.load_node(defect2.uuid))\n",
    "defect2_reloaded"
   ]
  },
  {
   "cell_type": "markdown",
   "id": "37fb909f",
   "metadata": {},
   "source": [
    ":::{tip}\n",
    "\n",
    "One can also load data with first few characters of the `uuid` or the label of the node, as long as the value is unique in the database.\n",
    "\n",
    "```python3\n",
    "defect2_reloaded = AtomsTracker(orm.load_node(\"My defect node\"))\n",
    "```\n",
    "\n",
    "should also work.\n",
    ":::"
   ]
  }
 ],
 "metadata": {
  "kernelspec": {
   "display_name": "Python [conda env:aiida-2.0-dev]",
   "language": "python",
   "name": "python3"
  },
  "language_info": {
   "codemirror_mode": {
    "name": "ipython",
    "version": 3
   },
   "file_extension": ".py",
   "mimetype": "text/x-python",
   "name": "python",
   "nbconvert_exporter": "python",
   "pygments_lexer": "ipython3",
   "version": "3.8.10"
  }
 },
 "nbformat": 4,
 "nbformat_minor": 5
}
