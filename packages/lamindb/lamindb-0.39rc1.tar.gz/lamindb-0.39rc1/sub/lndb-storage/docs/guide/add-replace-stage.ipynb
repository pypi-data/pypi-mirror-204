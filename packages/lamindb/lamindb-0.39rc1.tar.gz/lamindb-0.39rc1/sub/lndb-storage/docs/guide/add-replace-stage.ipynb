{
 "cells": [
  {
   "cell_type": "markdown",
   "id": "30fd690f",
   "metadata": {},
   "source": [
    "# Add, replace, stage and delete files"
   ]
  },
  {
   "cell_type": "code",
   "execution_count": null,
   "id": "dca2c05d",
   "metadata": {},
   "outputs": [],
   "source": [
    "import lamindb as ln\n",
    "from lndb.dev.upath import UPath"
   ]
  },
  {
   "cell_type": "code",
   "execution_count": null,
   "id": "1c5186af",
   "metadata": {},
   "outputs": [],
   "source": [
    "ln.track()"
   ]
  },
  {
   "cell_type": "code",
   "execution_count": null,
   "id": "21d11d75",
   "metadata": {},
   "outputs": [],
   "source": [
    "file = ln.File(\"iris.csv\")"
   ]
  },
  {
   "cell_type": "code",
   "execution_count": null,
   "id": "b780712e",
   "metadata": {},
   "outputs": [],
   "source": [
    "ln.add(file)"
   ]
  },
  {
   "cell_type": "code",
   "execution_count": null,
   "id": "293eac7f",
   "metadata": {},
   "outputs": [],
   "source": [
    "cache_csv_path = file.stage()"
   ]
  },
  {
   "cell_type": "code",
   "execution_count": null,
   "id": "7372ea62",
   "metadata": {},
   "outputs": [],
   "source": [
    "cache_csv_path"
   ]
  },
  {
   "cell_type": "code",
   "execution_count": null,
   "id": "dfefd884",
   "metadata": {},
   "outputs": [],
   "source": [
    "assert cache_csv_path.suffix == \".csv\""
   ]
  },
  {
   "cell_type": "code",
   "execution_count": null,
   "id": "a8492c68",
   "metadata": {},
   "outputs": [],
   "source": [
    "file.replace(\"iris.data\")"
   ]
  },
  {
   "cell_type": "code",
   "execution_count": null,
   "id": "f36159d9",
   "metadata": {},
   "outputs": [],
   "source": [
    "ln.add(file)"
   ]
  },
  {
   "cell_type": "code",
   "execution_count": null,
   "id": "3b695dde",
   "metadata": {},
   "outputs": [],
   "source": [
    "cache_data_path = file.stage()"
   ]
  },
  {
   "cell_type": "code",
   "execution_count": null,
   "id": "f71f4a3c",
   "metadata": {},
   "outputs": [],
   "source": [
    "cache_data_path"
   ]
  },
  {
   "cell_type": "code",
   "execution_count": null,
   "id": "8edba44a",
   "metadata": {},
   "outputs": [],
   "source": [
    "assert cache_data_path.suffix == \".data\""
   ]
  },
  {
   "cell_type": "code",
   "execution_count": null,
   "id": "c75115b2",
   "metadata": {},
   "outputs": [],
   "source": [
    "assert cache_data_path.stat().st_mtime >= cache_csv_path.stat().st_mtime"
   ]
  },
  {
   "cell_type": "code",
   "execution_count": null,
   "id": "7273324a",
   "metadata": {},
   "outputs": [],
   "source": [
    "ln.delete(file, delete_data_from_storage=True)"
   ]
  },
  {
   "cell_type": "markdown",
   "id": "bff43702",
   "metadata": {},
   "source": [
    "## Add with `key`"
   ]
  },
  {
   "cell_type": "code",
   "execution_count": null,
   "id": "48d77993",
   "metadata": {},
   "outputs": [],
   "source": [
    "file = ln.File(\"iris.csv\", key=\"iris.csv\")"
   ]
  },
  {
   "cell_type": "code",
   "execution_count": null,
   "id": "4249829f",
   "metadata": {},
   "outputs": [],
   "source": [
    "ln.add(file)"
   ]
  },
  {
   "cell_type": "code",
   "execution_count": null,
   "id": "7d7f97fe",
   "metadata": {},
   "outputs": [],
   "source": [
    "key_path = UPath(\"s3://lamindb-ci/iris.csv\")"
   ]
  },
  {
   "cell_type": "code",
   "execution_count": null,
   "id": "fb8790e5",
   "metadata": {},
   "outputs": [],
   "source": [
    "assert key_path.exists()"
   ]
  },
  {
   "cell_type": "code",
   "execution_count": null,
   "id": "ced86160",
   "metadata": {},
   "outputs": [],
   "source": [
    "ln.delete(file, delete_data_from_storage=True)"
   ]
  }
 ],
 "metadata": {
  "kernelspec": {
   "display_name": "Python 3 (ipykernel)",
   "language": "python",
   "name": "python3"
  },
  "language_info": {
   "codemirror_mode": {
    "name": "ipython",
    "version": 3
   },
   "file_extension": ".py",
   "mimetype": "text/x-python",
   "name": "python",
   "nbconvert_exporter": "python",
   "pygments_lexer": "ipython3",
   "version": "3.9.12"
  },
  "nbproject": {
   "id": "uBQMCcdYwEjA",
   "parent": null,
   "pypackage": null,
   "time_init": "2023-04-04T16:26:17.675023+00:00",
   "user_handle": "Koncopd",
   "user_id": "qTQ5q0ar",
   "user_name": "Sergei Rybakov",
   "version": "0"
  }
 },
 "nbformat": 4,
 "nbformat_minor": 5
}
