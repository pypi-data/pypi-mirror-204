{
 "cells": [
  {
   "cell_type": "code",
   "execution_count": 10,
   "metadata": {},
   "outputs": [
    {
     "name": "stdout",
     "output_type": "stream",
     "text": [
      "6.120438712817281\n"
     ]
    }
   ],
   "source": [
    "sum = 0\n",
    "\n",
    "for i in range(255):\n",
    "    sum += 1.0 / (i + 1)\n",
    "\n",
    "print(sum)"
   ]
  },
  {
   "cell_type": "code",
   "execution_count": 10,
   "metadata": {},
   "outputs": [
    {
     "name": "stdout",
     "output_type": "stream",
     "text": [
      "[15.  7.  5.  3.  3.  2.  2.  1.  1.  1.  1.  1.  1.  1.  1.]\n",
      "45.0\n"
     ]
    }
   ],
   "source": [
    "import numpy as np\n",
    "sum = 0\n",
    "\n",
    "x = np.arange(1, 16)\n",
    "f = lambda i: np.floor(15 / i)\n",
    "\n",
    "y = np.array(list(map(f, x)))\n",
    "\n",
    "print(y)\n",
    "print(y.sum())"
   ]
  },
  {
   "cell_type": "code",
   "execution_count": 15,
   "metadata": {},
   "outputs": [
    {
     "name": "stdout",
     "output_type": "stream",
     "text": [
      "3.0\n",
      "4.14\n",
      "5.713725490196079\n"
     ]
    }
   ],
   "source": [
    "def potential_data_points(int_size: int) -> int:\n",
    "    x = np.arange(1, int_size + 1)\n",
    "    f = lambda i: np.floor(int_size / i)\n",
    "\n",
    "    y = np.array(list(map(f, x)))\n",
    "    return int(y.sum())\n",
    "\n",
    "def calc_coeff(int_size: int) -> float:\n",
    "    n = potential_data_points(int_size)\n",
    "    return n / int_size\n",
    "\n",
    "print(calc_coeff(15))\n",
    "print(calc_coeff(50))\n",
    "print(calc_coeff(255))"
   ]
  }
 ],
 "metadata": {
  "kernelspec": {
   "display_name": "Python 3",
   "language": "python",
   "name": "python3"
  },
  "language_info": {
   "codemirror_mode": {
    "name": "ipython",
    "version": 3
   },
   "file_extension": ".py",
   "mimetype": "text/x-python",
   "name": "python",
   "nbconvert_exporter": "python",
   "pygments_lexer": "ipython3",
   "version": "3.10.10"
  },
  "orig_nbformat": 4
 },
 "nbformat": 4,
 "nbformat_minor": 2
}
