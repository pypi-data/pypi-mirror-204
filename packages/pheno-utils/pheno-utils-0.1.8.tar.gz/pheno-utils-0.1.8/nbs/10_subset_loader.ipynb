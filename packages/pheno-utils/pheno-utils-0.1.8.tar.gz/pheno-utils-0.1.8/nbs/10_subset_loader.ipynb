{
 "cells": [
  {
   "cell_type": "raw",
   "metadata": {},
   "source": [
    "---\n",
    "description: Wrapper for DataLoader\n",
    "output-file: subset_loader.html\n",
    "title: Subset loader\n",
    "\n",
    "---\n"
   ]
  },
  {
   "cell_type": "code",
   "execution_count": null,
   "metadata": {},
   "outputs": [],
   "source": [
    "#| default_exp subset_loader"
   ]
  },
  {
   "cell_type": "code",
   "execution_count": null,
   "metadata": {},
   "outputs": [],
   "source": [
    "#| hide\n",
    "from nbdev.showdoc import *"
   ]
  },
  {
   "cell_type": "code",
   "execution_count": null,
   "metadata": {},
   "outputs": [],
   "source": [
    "#| export\n",
    "import os\n",
    "import re\n",
    "from typing import List, Any, Dict, Union\n",
    "import warnings\n",
    "\n",
    "import numpy as np\n",
    "import pandas as pd"
   ]
  },
  {
   "cell_type": "code",
   "execution_count": null,
   "metadata": {},
   "outputs": [],
   "source": [
    "#| export\n",
    "\n",
    "from pheno_utils.config import *\n",
    "from pheno_utils import PhenoLoader\n",
    "\n",
    "subset_path = {'train': '/home/ec2-user/studies/train_datasets',\n",
    "               'test_01': '/efs/.pheno/test_datasets_01',\n",
    "               'test_02': '/efs/.pheno/test_datasets_02',\n",
    "               'test_final': '/efs/.pheno/test_datasets_final',\n",
    "               'test_backup': '/efs/.pheno/test_datasets_backup'}"
   ]
  },
  {
   "cell_type": "code",
   "execution_count": null,
   "metadata": {},
   "outputs": [],
   "source": [
    "#| export\n",
    "\n",
    "def load_subset(dataset: str, subset: str, **kwargs):\n",
    "    \"\"\"\n",
    "    Wrapper for loading a train/test subset of a dataset.\n",
    "    Args:\n",
    "        dataset (str): Name of the dataset to load.\n",
    "        subset (str): Can be one of 'train', 'test_01', 'test_02', 'test_final'.\n",
    "        **kwargs: Additional keyword arguments to be passed to PhenoLoader.\n",
    "    Returns:\n",
    "        DataLoader: A DataLoader object for the specified subset of the dataset.\n",
    "    \"\"\"\n",
    "    return PhenoLoader(dataset, subset_path[subset], **kwargs)"
   ]
  },
  {
   "cell_type": "code",
   "execution_count": null,
   "metadata": {},
   "outputs": [],
   "source": [
    "#| hide\n",
    "import nbdev; nbdev.nbdev_export()"
   ]
  }
 ],
 "metadata": {
  "kernelspec": {
   "display_name": "python3",
   "language": "python",
   "name": "python3"
  }
 },
 "nbformat": 4,
 "nbformat_minor": 4
}
