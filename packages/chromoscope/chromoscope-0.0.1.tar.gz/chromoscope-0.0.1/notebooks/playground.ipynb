{
 "cells": [
  {
   "cell_type": "code",
   "execution_count": 1,
   "id": "efd78655-78fa-46cc-856e-bef3163ceb46",
   "metadata": {
    "tags": []
   },
   "outputs": [],
   "source": [
    "%load_ext autoreload\n",
    "%autoreload 2"
   ]
  },
  {
   "cell_type": "code",
   "execution_count": 2,
   "id": "632a94aa-aecf-491a-9656-45d38d72ceff",
   "metadata": {
    "tags": []
   },
   "outputs": [
    {
     "name": "stdout",
     "output_type": "stream",
     "text": [
      "--2023-04-21 15:37:32--  https://somatic-browser-test.s3.amazonaws.com/SVTYPE_SV_test_tumor_normal_with_panel.bedpe\n",
      "Resolving somatic-browser-test.s3.amazonaws.com (somatic-browser-test.s3.amazonaws.com)... 3.5.11.119, 52.216.106.91, 52.216.250.188, ...\n",
      "Connecting to somatic-browser-test.s3.amazonaws.com (somatic-browser-test.s3.amazonaws.com)|3.5.11.119|:443... connected.\n",
      "HTTP request sent, awaiting response... 200 OK\n",
      "Length: 49252 (48K) [binary/octet-stream]\n",
      "Saving to: ‘SVTYPE_SV_test_tumor_normal_with_panel.bedpe’\n",
      "\n",
      "SVTYPE_SV_test_tumo 100%[===================>]  48.10K  --.-KB/s    in 0.04s   \n",
      "\n",
      "2023-04-21 15:37:33 (1.16 MB/s) - ‘SVTYPE_SV_test_tumor_normal_with_panel.bedpe’ saved [49252/49252]\n",
      "\n"
     ]
    }
   ],
   "source": [
    "!wget https://somatic-browser-test.s3.amazonaws.com/SVTYPE_SV_test_tumor_normal_with_panel.bedpe\n",
    "\n",
    "config = [{\n",
    "    \"id\": \"SRR7890905\",\n",
    "    \"cancer\": \"breast\",\n",
    "    \"assembly\": \"hg38\",\n",
    "    \"sv\": \"./SVTYPE_SV_test_tumor_normal_with_panel.bedpe\",\n",
    "    \"cnv\": \"https://gist.githubusercontent.com/sehilyi/6fbceae35756b13472332d6b81b10803/raw/596428a8b0ebc00e7f8cbc52b050db0fbd6e19a5/SRR7890943.ascat.v3.cnv.tsv\",\n",
    "    \"bam\": \"https://somatic-browser-test.s3.amazonaws.com/SRR7890905_GAPFI2USVS21.bam\",\n",
    "    \"bai\": \"https://somatic-browser-test.s3.amazonaws.com/SRR7890905_GAPFI2USVS21.bam.bai\",\n",
    "    \"note\": \"This is a test note\"\n",
    "},\n",
    "{\n",
    "    \"id\": \"bc0dee07-de20-44d6-be65-05af7e63ac96\",\n",
    "    \"cancer\": \"gastric\",\n",
    "    \"assembly\": \"hg19\",\n",
    "    \"sv\": \"https://somatic-browser-test.s3.amazonaws.com/cdk12cancers/bc0dee07-de20-44d6-be65-05af7e63ac96.pcawg_consensus_1.6.161116.somatic.sv.bedpe\",\n",
    "    \"cnv\": \"https://somatic-browser-test.s3.amazonaws.com/cdk12cancers/bc0dee07-de20-44d6-be65-05af7e63ac96.consensus.20170119.somatic.cna.txt\",\n",
    "    \"vcf\": \"https://somatic-browser-test.s3.amazonaws.com/cdk12cancers/bc0dee07-de20-44d6-be65-05af7e63ac96.consensus.20160830.somatic.snv_mnv.sorted.vcf.gz\",\n",
    "    \"vcfIndex\": \"https://somatic-browser-test.s3.amazonaws.com/cdk12cancers/bc0dee07-de20-44d6-be65-05af7e63ac96.consensus.20160830.somatic.snv_mnv.sorted.vcf.gz.tbi\",\n",
    "    \"vcf2\": \"https://somatic-browser-test.s3.amazonaws.com/cdk12cancers/bc0dee07-de20-44d6-be65-05af7e63ac96.consensus.20161006.somatic.indel.sorted.vcf.gz\",\n",
    "    \"vcf2Index\":\n",
    "        \"https://somatic-browser-test.s3.amazonaws.com/cdk12cancers/bc0dee07-de20-44d6-be65-05af7e63ac96.consensus.20161006.somatic.indel.sorted.vcf.gz.tbi\",\n",
    "   \"note\": \"This is a test note\"\n",
    "}]"
   ]
  },
  {
   "cell_type": "code",
   "execution_count": 3,
   "id": "4487a2eb-83e6-47f8-a665-079a695b7f29",
   "metadata": {
    "tags": []
   },
   "outputs": [
    {
     "data": {
      "text/html": [
       "\n",
       "<iframe src=\"https://hms-dbmi.github.io/chromoscope/?external=http://localhost:56111/resources/d323ff9-content.json\" frameborder=\"0\" allowfullscreen style=\"width:100%;height:700px;\" />"
      ],
      "text/plain": [
       "<chromoscope.Viewer at 0x112c8ae90>"
      ]
     },
     "execution_count": 3,
     "metadata": {},
     "output_type": "execute_result"
    }
   ],
   "source": [
    "from chromoscope import Viewer\n",
    "\n",
    "Viewer.from_config(config)"
   ]
  },
  {
   "cell_type": "code",
   "execution_count": null,
   "id": "28a79bde-3cf5-43ea-92e5-b83f1a8a44ae",
   "metadata": {},
   "outputs": [],
   "source": []
  }
 ],
 "metadata": {
  "kernelspec": {
   "display_name": "Python 3 (ipykernel)",
   "language": "python",
   "name": "python3"
  },
  "language_info": {
   "codemirror_mode": {
    "name": "ipython",
    "version": 3
   },
   "file_extension": ".py",
   "mimetype": "text/x-python",
   "name": "python",
   "nbconvert_exporter": "python",
   "pygments_lexer": "ipython3",
   "version": "3.11.2"
  }
 },
 "nbformat": 4,
 "nbformat_minor": 5
}
