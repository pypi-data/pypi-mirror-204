{
 "cells": [
  {
   "cell_type": "markdown",
   "id": "103d0ff2",
   "metadata": {},
   "source": [
    "# Module biogeme.cnl"
   ]
  },
  {
   "cell_type": "markdown",
   "id": "70f2838b",
   "metadata": {},
   "source": [
    "## Examples of use of each function"
   ]
  },
  {
   "cell_type": "markdown",
   "id": "b629d510",
   "metadata": {},
   "source": [
    "This webpage is for programmers who need examples of use of the functions of the class. The examples are designed to illustrate the syntax. "
   ]
  },
  {
   "cell_type": "code",
   "execution_count": 1,
   "id": "69ad741c",
   "metadata": {},
   "outputs": [],
   "source": [
    "import numpy as np\n",
    "import biogeme.cnl as cnl\n",
    "import biogeme.messaging as msg\n",
    "import biogeme.tools as tools"
   ]
  },
  {
   "cell_type": "code",
   "execution_count": 2,
   "id": "6b45f852",
   "metadata": {},
   "outputs": [],
   "source": [
    "mu_nest_1 = 1.4\n",
    "alphas_1 =  {'i': 1, 'j': 0.5, 'k':0.2}\n",
    "nest_1 = mu_nest_1, alphas_1\n",
    "mu_nest_2 = 1.2\n",
    "alphas_2 = {'j': 0.5, 'k': 0.8, 'ell': 1}\n",
    "nest_2 = mu_nest_2, alphas_2\n",
    "nests = nest_1, nest_2"
   ]
  },
  {
   "cell_type": "markdown",
   "id": "fe75ffd3",
   "metadata": {},
   "source": [
    "We retrieve the G function of the cross-nested logit, and verify numerically the implementation of the derivatives."
   ]
  },
  {
   "cell_type": "code",
   "execution_count": 3,
   "id": "1bd540f8",
   "metadata": {},
   "outputs": [],
   "source": [
    "G = cnl.cnl_G(['i', 'j', 'k', 'ell'], nests)"
   ]
  },
  {
   "cell_type": "code",
   "execution_count": 4,
   "id": "b4e0147f",
   "metadata": {},
   "outputs": [
    {
     "data": {
      "text/plain": [
       "array([0.70205777, 1.19235839, 0.85841198, 1.63156634])"
      ]
     },
     "execution_count": 4,
     "metadata": {},
     "output_type": "execute_result"
    }
   ],
   "source": [
    "y = np.random.uniform(low=0.01, high=2, size=4)\n",
    "y"
   ]
  },
  {
   "cell_type": "code",
   "execution_count": 5,
   "id": "2284341f",
   "metadata": {},
   "outputs": [
    {
     "name": "stderr",
     "output_type": "stream",
     "text": [
      "The use of messaging.bioMessage is now obsolete. Biogeme uses the standard logging system from Python. You can obtain the logger using ``logger = logging.getLogger('biogeme')``\n",
      "The use of messaging.bioMessage is now obsolete. Biogeme uses the standard logging system from Python. You can obtain the logger using ``logger = logging.getLogger('biogeme')``\n"
     ]
    }
   ],
   "source": [
    "logger = msg.bioMessage()\n",
    "logger.setDetailed()\n",
    "\n",
    "f, g, h, gdiff, hdiff = \\\n",
    "    tools.checkDerivatives(G, y, names=None, logg=True)"
   ]
  },
  {
   "cell_type": "markdown",
   "id": "d85f3c22",
   "metadata": {},
   "source": [
    "We do the same for the CDF. "
   ]
  },
  {
   "cell_type": "code",
   "execution_count": 6,
   "id": "8d8bd34a",
   "metadata": {},
   "outputs": [
    {
     "data": {
      "text/plain": [
       "array([-3.57153513,  0.41748277,  8.35135362, -7.64547427])"
      ]
     },
     "execution_count": 6,
     "metadata": {},
     "output_type": "execute_result"
    }
   ],
   "source": [
    "xi = np.random.uniform(low=-10, high=10, size=4)\n",
    "xi"
   ]
  },
  {
   "cell_type": "code",
   "execution_count": 7,
   "id": "4a75e1b4",
   "metadata": {},
   "outputs": [],
   "source": [
    "F = cnl.cnl_CDF(['i', 'j', 'k', 'ell'], nests)"
   ]
  },
  {
   "cell_type": "code",
   "execution_count": 8,
   "id": "96b665c2",
   "metadata": {},
   "outputs": [],
   "source": [
    "f, g, h, gdiff, hdiff = \\\n",
    "    tools.checkDerivatives(F, y, names=None, logg=True)"
   ]
  }
 ],
 "metadata": {
  "kernelspec": {
   "display_name": "Python 3 (ipykernel)",
   "language": "python",
   "name": "python3"
  },
  "language_info": {
   "codemirror_mode": {
    "name": "ipython",
    "version": 3
   },
   "file_extension": ".py",
   "mimetype": "text/x-python",
   "name": "python",
   "nbconvert_exporter": "python",
   "pygments_lexer": "ipython3",
   "version": "3.11.2"
  }
 },
 "nbformat": 4,
 "nbformat_minor": 5
}
