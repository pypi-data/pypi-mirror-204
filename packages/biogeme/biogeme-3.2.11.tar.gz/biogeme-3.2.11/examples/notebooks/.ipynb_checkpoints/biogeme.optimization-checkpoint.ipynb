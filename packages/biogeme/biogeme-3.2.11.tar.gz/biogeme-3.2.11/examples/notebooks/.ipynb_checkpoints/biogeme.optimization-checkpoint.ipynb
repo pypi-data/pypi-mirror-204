{
 "cells": [
  {
   "cell_type": "markdown",
   "metadata": {},
   "source": [
    "# Module biogeme.optimization "
   ]
  },
  {
   "cell_type": "markdown",
   "metadata": {},
   "source": [
    "## Examples of use of each function"
   ]
  },
  {
   "cell_type": "markdown",
   "metadata": {},
   "source": [
    "This webpage is for programmers who need examples of use of the functions of the class. The examples are designed to illustrate the syntax. They do not correspond to any meaningful model. For examples of models, visit  [biogeme.epfl.ch](http://biogeme.epfl.ch)."
   ]
  },
  {
   "cell_type": "code",
   "execution_count": 1,
   "metadata": {},
   "outputs": [
    {
     "name": "stdout",
     "output_type": "stream",
     "text": [
      "2023-04-14 12:01:01.097739\n"
     ]
    }
   ],
   "source": [
    "import datetime\n",
    "print(datetime.datetime.now())"
   ]
  },
  {
   "cell_type": "code",
   "execution_count": 2,
   "metadata": {},
   "outputs": [
    {
     "name": "stdout",
     "output_type": "stream",
     "text": [
      "biogeme 3.2.11 [2023-04-14]\n",
      "Home page: http://biogeme.epfl.ch\n",
      "Submit questions to https://groups.google.com/d/forum/biogeme\n",
      "Michel Bierlaire, Transport and Mobility Laboratory, Ecole Polytechnique Fédérale de Lausanne (EPFL)\n",
      "\n"
     ]
    }
   ],
   "source": [
    "import biogeme.version as ver\n",
    "print(ver.getText())"
   ]
  },
  {
   "cell_type": "code",
   "execution_count": 3,
   "metadata": {},
   "outputs": [],
   "source": [
    "import numpy as np\n",
    "import pandas as pd"
   ]
  },
  {
   "cell_type": "code",
   "execution_count": 4,
   "metadata": {},
   "outputs": [],
   "source": [
    "%matplotlib inline\n",
    "import matplotlib\n",
    "import matplotlib.pyplot as plt"
   ]
  },
  {
   "cell_type": "code",
   "execution_count": 5,
   "metadata": {},
   "outputs": [],
   "source": [
    "import biogeme.optimization as opt\n",
    "import biogeme.biogeme as bio\n",
    "import biogeme.database as db\n",
    "import biogeme.models as models\n",
    "from biogeme.expressions import Beta, Variable\n",
    "import biogeme.logging as blog\n"
   ]
  },
  {
   "cell_type": "code",
   "execution_count": 6,
   "metadata": {},
   "outputs": [],
   "source": [
    "logger = blog.get_screen_logger(blog.INFO)"
   ]
  },
  {
   "cell_type": "markdown",
   "metadata": {},
   "source": [
    "# Biogeme example"
   ]
  },
  {
   "cell_type": "code",
   "execution_count": 7,
   "metadata": {},
   "outputs": [
    {
     "name": "stderr",
     "output_type": "stream",
     "text": [
      "Parameters read from biogeme.toml \n"
     ]
    },
    {
     "name": "stdout",
     "output_type": "stream",
     "text": [
      "simpleExample: database [test]{'loglike': _bioLogLogitFullChoiceSet[choice=Choice]U=(1:(beta1(init=0) * Variable1), 2:(beta2(init=0) * Variable2), 3:`0.0`)av=(1:`1.0`, 2:`1.0`, 3:`1.0`)}\n"
     ]
    }
   ],
   "source": [
    "df = pd.DataFrame({'Person': [1, 1, 1, 2, 2],\n",
    "                   'Exclude': [0, 0, 1, 0, 1],\n",
    "                   'Variable1': [1, 2, 3, 4, 5],\n",
    "                   'Variable2': [10, 20, 30,40, 50],\n",
    "                   'Choice': [1, 2, 3, 1, 2],\n",
    "                   'Av1': [0, 1, 1, 1, 1],\n",
    "                   'Av2': [1, 1, 1, 1, 1],\n",
    "                   'Av3': [0, 1, 1, 1, 1]})\n",
    "myData = db.Database('test', df)\n",
    "\n",
    "Choice = Variable('Choice')\n",
    "Variable1 = Variable('Variable1')\n",
    "Variable2 = Variable('Variable2')\n",
    "beta1 = Beta('beta1', 0, None, None, 0)\n",
    "beta2 = Beta('beta2', 0, None, None, 0)\n",
    "V1 = beta1 * Variable1\n",
    "V2 = beta2 * Variable2\n",
    "V3 = 0\n",
    "V ={1: V1,2: V2,3: V3}\n",
    "\n",
    "likelihood = models.loglogit(V, av=None, i=Choice)\n",
    "myBiogeme = bio.BIOGEME(myData, likelihood)\n",
    "myBiogeme.modelName = 'simpleExample'\n",
    "myBiogeme.saveIterations = False\n",
    "myBiogeme.generate_html = False\n",
    "myBiogeme.generate_pickle = False\n",
    "print(myBiogeme)"
   ]
  },
  {
   "cell_type": "code",
   "execution_count": 8,
   "metadata": {},
   "outputs": [],
   "source": [
    "f, g, h, gdiff, hdiff = myBiogeme.checkDerivatives(beta=myBiogeme.beta_values_dict_to_list(), verbose=True)"
   ]
  },
  {
   "cell_type": "code",
   "execution_count": 9,
   "metadata": {},
   "outputs": [
    {
     "data": {
      "text/plain": [
       "array([6.03961326e-07, 6.11038797e-05])"
      ]
     },
     "execution_count": 9,
     "metadata": {},
     "output_type": "execute_result"
    }
   ],
   "source": [
    "gdiff"
   ]
  },
  {
   "cell_type": "code",
   "execution_count": 10,
   "metadata": {},
   "outputs": [
    {
     "data": {
      "text/plain": [
       "array([[ 8.31415072e-07, -4.16670705e-05],\n",
       "       [-4.27475899e-06,  8.33270355e-04]])"
      ]
     },
     "execution_count": 10,
     "metadata": {},
     "output_type": "execute_result"
    }
   ],
   "source": [
    "hdiff"
   ]
  },
  {
   "cell_type": "markdown",
   "metadata": {},
   "source": [
    "## scipy"
   ]
  },
  {
   "cell_type": "markdown",
   "metadata": {},
   "source": [
    "This is the optimization algorithm from scipy. "
   ]
  },
  {
   "cell_type": "code",
   "execution_count": 11,
   "metadata": {},
   "outputs": [
    {
     "name": "stderr",
     "output_type": "stream",
     "text": [
      "Optimization algorithm: scipy \n",
      "Minimize with tol 1e-07 \n"
     ]
    },
    {
     "data": {
      "text/html": [
       "<div>\n",
       "<style scoped>\n",
       "    .dataframe tbody tr th:only-of-type {\n",
       "        vertical-align: middle;\n",
       "    }\n",
       "\n",
       "    .dataframe tbody tr th {\n",
       "        vertical-align: top;\n",
       "    }\n",
       "\n",
       "    .dataframe thead th {\n",
       "        text-align: right;\n",
       "    }\n",
       "</style>\n",
       "<table border=\"1\" class=\"dataframe\">\n",
       "  <thead>\n",
       "    <tr style=\"text-align: right;\">\n",
       "      <th></th>\n",
       "      <th>Value</th>\n",
       "      <th>Rob. Std err</th>\n",
       "      <th>Rob. t-test</th>\n",
       "      <th>Rob. p-value</th>\n",
       "    </tr>\n",
       "  </thead>\n",
       "  <tbody>\n",
       "    <tr>\n",
       "      <th>beta1</th>\n",
       "      <td>0.144546</td>\n",
       "      <td>0.366198</td>\n",
       "      <td>0.394720</td>\n",
       "      <td>0.693049</td>\n",
       "    </tr>\n",
       "    <tr>\n",
       "      <th>beta2</th>\n",
       "      <td>0.023502</td>\n",
       "      <td>0.034280</td>\n",
       "      <td>0.685574</td>\n",
       "      <td>0.492982</td>\n",
       "    </tr>\n",
       "  </tbody>\n",
       "</table>\n",
       "</div>"
      ],
      "text/plain": [
       "          Value  Rob. Std err  Rob. t-test  Rob. p-value\n",
       "beta1  0.144546      0.366198     0.394720      0.693049\n",
       "beta2  0.023502      0.034280     0.685574      0.492982"
      ]
     },
     "execution_count": 11,
     "metadata": {},
     "output_type": "execute_result"
    }
   ],
   "source": [
    "myBiogeme.algorithm_name = 'scipy'\n",
    "results = myBiogeme.estimate()\n",
    "results.getEstimatedParameters()"
   ]
  },
  {
   "cell_type": "code",
   "execution_count": 12,
   "metadata": {},
   "outputs": [
    {
     "name": "stdout",
     "output_type": "stream",
     "text": [
      "Algorithm:\tscipy.optimize\n",
      "Cause of termination:\tCONVERGENCE: NORM_OF_PROJECTED_GRADIENT_<=_PGTOL\n",
      "Number of iterations:\t13\n",
      "Number of function evaluations:\t16\n",
      "Optimization time:\t0:00:00.003088\n"
     ]
    }
   ],
   "source": [
    "for k, v in results.data.optimizationMessages.items():\n",
    "    print(f'{k}:\\t{v}')"
   ]
  },
  {
   "cell_type": "markdown",
   "metadata": {},
   "source": [
    "## Newton with linesearch"
   ]
  },
  {
   "cell_type": "code",
   "execution_count": 13,
   "metadata": {},
   "outputs": [
    {
     "name": "stderr",
     "output_type": "stream",
     "text": [
      "Optimization algorithm: Newton with line search [LS-newton] \n",
      "** Optimization: Newton with linesearch \n"
     ]
    },
    {
     "data": {
      "text/html": [
       "<div>\n",
       "<style scoped>\n",
       "    .dataframe tbody tr th:only-of-type {\n",
       "        vertical-align: middle;\n",
       "    }\n",
       "\n",
       "    .dataframe tbody tr th {\n",
       "        vertical-align: top;\n",
       "    }\n",
       "\n",
       "    .dataframe thead th {\n",
       "        text-align: right;\n",
       "    }\n",
       "</style>\n",
       "<table border=\"1\" class=\"dataframe\">\n",
       "  <thead>\n",
       "    <tr style=\"text-align: right;\">\n",
       "      <th></th>\n",
       "      <th>Value</th>\n",
       "      <th>Rob. Std err</th>\n",
       "      <th>Rob. t-test</th>\n",
       "      <th>Rob. p-value</th>\n",
       "    </tr>\n",
       "  </thead>\n",
       "  <tbody>\n",
       "    <tr>\n",
       "      <th>beta1</th>\n",
       "      <td>0.144545</td>\n",
       "      <td>0.366198</td>\n",
       "      <td>0.394720</td>\n",
       "      <td>0.693050</td>\n",
       "    </tr>\n",
       "    <tr>\n",
       "      <th>beta2</th>\n",
       "      <td>0.023502</td>\n",
       "      <td>0.034280</td>\n",
       "      <td>0.685573</td>\n",
       "      <td>0.492982</td>\n",
       "    </tr>\n",
       "  </tbody>\n",
       "</table>\n",
       "</div>"
      ],
      "text/plain": [
       "          Value  Rob. Std err  Rob. t-test  Rob. p-value\n",
       "beta1  0.144545      0.366198     0.394720      0.693050\n",
       "beta2  0.023502      0.034280     0.685573      0.492982"
      ]
     },
     "execution_count": 13,
     "metadata": {},
     "output_type": "execute_result"
    }
   ],
   "source": [
    "myBiogeme.algorithm_name = 'LS-newton'\n",
    "results = myBiogeme.estimate()\n",
    "results.getEstimatedParameters()"
   ]
  },
  {
   "cell_type": "code",
   "execution_count": 14,
   "metadata": {},
   "outputs": [
    {
     "name": "stdout",
     "output_type": "stream",
     "text": [
      "Algorithm:\tUnconstrained Newton with line search\n",
      "Relative gradient:\t3.43067908440321e-07\n",
      "Number of iterations:\t3\n",
      "Number of function evaluations:\t10\n",
      "Number of gradient evaluations:\t10\n",
      "Number of hessian evaluations:\t4\n",
      "Cause of termination:\tRelative gradient = 3.4e-07 <= 6.1e-06\n",
      "Optimization time:\t0:00:00.001855\n"
     ]
    }
   ],
   "source": [
    "for k, v in results.data.optimizationMessages.items():\n",
    "    print(f'{k}:\\t{v}')"
   ]
  },
  {
   "cell_type": "markdown",
   "metadata": {},
   "source": [
    "Changing the requested precision\n"
   ]
  },
  {
   "cell_type": "code",
   "execution_count": 15,
   "metadata": {},
   "outputs": [
    {
     "name": "stderr",
     "output_type": "stream",
     "text": [
      "Optimization algorithm: Newton with line search [LS-newton] \n",
      "** Optimization: Newton with linesearch \n"
     ]
    },
    {
     "data": {
      "text/html": [
       "<div>\n",
       "<style scoped>\n",
       "    .dataframe tbody tr th:only-of-type {\n",
       "        vertical-align: middle;\n",
       "    }\n",
       "\n",
       "    .dataframe tbody tr th {\n",
       "        vertical-align: top;\n",
       "    }\n",
       "\n",
       "    .dataframe thead th {\n",
       "        text-align: right;\n",
       "    }\n",
       "</style>\n",
       "<table border=\"1\" class=\"dataframe\">\n",
       "  <thead>\n",
       "    <tr style=\"text-align: right;\">\n",
       "      <th></th>\n",
       "      <th>Value</th>\n",
       "      <th>Rob. Std err</th>\n",
       "      <th>Rob. t-test</th>\n",
       "      <th>Rob. p-value</th>\n",
       "    </tr>\n",
       "  </thead>\n",
       "  <tbody>\n",
       "    <tr>\n",
       "      <th>beta1</th>\n",
       "      <td>0.144317</td>\n",
       "      <td>0.365691</td>\n",
       "      <td>0.394641</td>\n",
       "      <td>0.693108</td>\n",
       "    </tr>\n",
       "    <tr>\n",
       "      <th>beta2</th>\n",
       "      <td>0.023428</td>\n",
       "      <td>0.034256</td>\n",
       "      <td>0.683887</td>\n",
       "      <td>0.494047</td>\n",
       "    </tr>\n",
       "  </tbody>\n",
       "</table>\n",
       "</div>"
      ],
      "text/plain": [
       "          Value  Rob. Std err  Rob. t-test  Rob. p-value\n",
       "beta1  0.144317      0.365691     0.394641      0.693108\n",
       "beta2  0.023428      0.034256     0.683887      0.494047"
      ]
     },
     "execution_count": 15,
     "metadata": {},
     "output_type": "execute_result"
    }
   ],
   "source": [
    "myBiogeme.tolerance = 0.1\n",
    "results = myBiogeme.estimate()\n",
    "results.getEstimatedParameters()"
   ]
  },
  {
   "cell_type": "code",
   "execution_count": 16,
   "metadata": {},
   "outputs": [
    {
     "name": "stdout",
     "output_type": "stream",
     "text": [
      "Algorithm:\tUnconstrained Newton with line search\n",
      "Relative gradient:\t0.015380029144206175\n",
      "Number of iterations:\t2\n",
      "Number of function evaluations:\t7\n",
      "Number of gradient evaluations:\t7\n",
      "Number of hessian evaluations:\t3\n",
      "Cause of termination:\tRelative gradient = 0.015 <= 0.1\n",
      "Optimization time:\t0:00:00.001757\n"
     ]
    }
   ],
   "source": [
    "for k, v in results.data.optimizationMessages.items():\n",
    "    print(f'{k}:\\t{v}')"
   ]
  },
  {
   "cell_type": "markdown",
   "metadata": {},
   "source": [
    "## Newton with trust region"
   ]
  },
  {
   "cell_type": "code",
   "execution_count": 17,
   "metadata": {},
   "outputs": [
    {
     "name": "stderr",
     "output_type": "stream",
     "text": [
      "Optimization algorithm: Newton with trust region [TR-newton] \n",
      "** Optimization: Newton with trust region \n"
     ]
    },
    {
     "data": {
      "text/html": [
       "<div>\n",
       "<style scoped>\n",
       "    .dataframe tbody tr th:only-of-type {\n",
       "        vertical-align: middle;\n",
       "    }\n",
       "\n",
       "    .dataframe tbody tr th {\n",
       "        vertical-align: top;\n",
       "    }\n",
       "\n",
       "    .dataframe thead th {\n",
       "        text-align: right;\n",
       "    }\n",
       "</style>\n",
       "<table border=\"1\" class=\"dataframe\">\n",
       "  <thead>\n",
       "    <tr style=\"text-align: right;\">\n",
       "      <th></th>\n",
       "      <th>Value</th>\n",
       "      <th>Rob. Std err</th>\n",
       "      <th>Rob. t-test</th>\n",
       "      <th>Rob. p-value</th>\n",
       "    </tr>\n",
       "  </thead>\n",
       "  <tbody>\n",
       "    <tr>\n",
       "      <th>beta1</th>\n",
       "      <td>0.144317</td>\n",
       "      <td>0.365691</td>\n",
       "      <td>0.394641</td>\n",
       "      <td>0.693108</td>\n",
       "    </tr>\n",
       "    <tr>\n",
       "      <th>beta2</th>\n",
       "      <td>0.023428</td>\n",
       "      <td>0.034256</td>\n",
       "      <td>0.683887</td>\n",
       "      <td>0.494047</td>\n",
       "    </tr>\n",
       "  </tbody>\n",
       "</table>\n",
       "</div>"
      ],
      "text/plain": [
       "          Value  Rob. Std err  Rob. t-test  Rob. p-value\n",
       "beta1  0.144317      0.365691     0.394641      0.693108\n",
       "beta2  0.023428      0.034256     0.683887      0.494047"
      ]
     },
     "execution_count": 17,
     "metadata": {},
     "output_type": "execute_result"
    }
   ],
   "source": [
    "myBiogeme.algorithm_name = 'TR-newton'\n",
    "results = myBiogeme.estimate()\n",
    "results.getEstimatedParameters()"
   ]
  },
  {
   "cell_type": "code",
   "execution_count": 18,
   "metadata": {},
   "outputs": [
    {
     "name": "stdout",
     "output_type": "stream",
     "text": [
      "Algorithm:\tUnconstrained Newton with trust region\n",
      "Relative gradient:\t0.014746524905601738\n",
      "Cause of termination:\tRelative gradient = 0.015 <= 0.1\n",
      "Number of iterations:\t2\n",
      "Number of function evaluations:\t4\n",
      "Number of gradient evaluations:\t3\n",
      "Number of hessian evaluations:\t3\n",
      "Optimization time:\t0:00:00.001527\n"
     ]
    }
   ],
   "source": [
    "for k, v in results.data.optimizationMessages.items():\n",
    "    print(f'{k}:\\t{v}')"
   ]
  },
  {
   "cell_type": "markdown",
   "metadata": {},
   "source": [
    "We illustrate the parameters. We use the truncated conjugate gradient instead of dogleg for the trust region subproblem, starting with a small trust region of radius 0.001, and a maximum of 3 iterations."
   ]
  },
  {
   "cell_type": "code",
   "execution_count": 19,
   "metadata": {},
   "outputs": [
    {
     "name": "stderr",
     "output_type": "stream",
     "text": [
      "Optimization algorithm: Newton with trust region [TR-newton] \n",
      "** Optimization: Newton with trust region \n"
     ]
    },
    {
     "data": {
      "text/html": [
       "<div>\n",
       "<style scoped>\n",
       "    .dataframe tbody tr th:only-of-type {\n",
       "        vertical-align: middle;\n",
       "    }\n",
       "\n",
       "    .dataframe tbody tr th {\n",
       "        vertical-align: top;\n",
       "    }\n",
       "\n",
       "    .dataframe thead th {\n",
       "        text-align: right;\n",
       "    }\n",
       "</style>\n",
       "<table border=\"1\" class=\"dataframe\">\n",
       "  <thead>\n",
       "    <tr style=\"text-align: right;\">\n",
       "      <th></th>\n",
       "      <th>Value</th>\n",
       "      <th>Rob. Std err</th>\n",
       "      <th>Rob. t-test</th>\n",
       "      <th>Rob. p-value</th>\n",
       "    </tr>\n",
       "  </thead>\n",
       "  <tbody>\n",
       "    <tr>\n",
       "      <th>beta1</th>\n",
       "      <td>0.000053</td>\n",
       "      <td>0.308910</td>\n",
       "      <td>0.000170</td>\n",
       "      <td>0.999864</td>\n",
       "    </tr>\n",
       "    <tr>\n",
       "      <th>beta2</th>\n",
       "      <td>0.007000</td>\n",
       "      <td>0.030019</td>\n",
       "      <td>0.233173</td>\n",
       "      <td>0.815627</td>\n",
       "    </tr>\n",
       "  </tbody>\n",
       "</table>\n",
       "</div>"
      ],
      "text/plain": [
       "          Value  Rob. Std err  Rob. t-test  Rob. p-value\n",
       "beta1  0.000053      0.308910     0.000170      0.999864\n",
       "beta2  0.007000      0.030019     0.233173      0.815627"
      ]
     },
     "execution_count": 19,
     "metadata": {},
     "output_type": "execute_result"
    }
   ],
   "source": [
    "myBiogeme.dogleg = False\n",
    "myBiogeme.initial_radius=0.001\n",
    "myBiogeme.maxiter = 3\n",
    "results = myBiogeme.estimate()\n",
    "results.getEstimatedParameters()"
   ]
  },
  {
   "cell_type": "code",
   "execution_count": 20,
   "metadata": {},
   "outputs": [
    {
     "name": "stdout",
     "output_type": "stream",
     "text": [
      "Algorithm:\tUnconstrained Newton with trust region\n",
      "Relative gradient:\t2.0182963630997235\n",
      "Cause of termination:\tMaximum number of iterations reached: 3\n",
      "Number of iterations:\t3\n",
      "Number of function evaluations:\t6\n",
      "Number of gradient evaluations:\t4\n",
      "Number of hessian evaluations:\t4\n",
      "Optimization time:\t0:00:00.001437\n"
     ]
    }
   ],
   "source": [
    "for k, v in results.data.optimizationMessages.items():\n",
    "    print(f'{k}:\\t{v}')"
   ]
  },
  {
   "cell_type": "markdown",
   "metadata": {},
   "source": [
    "Changing the requested precision\n"
   ]
  },
  {
   "cell_type": "code",
   "execution_count": 21,
   "metadata": {},
   "outputs": [
    {
     "name": "stderr",
     "output_type": "stream",
     "text": [
      "Optimization algorithm: Newton with trust region [TR-newton] \n",
      "** Optimization: Newton with trust region \n"
     ]
    },
    {
     "data": {
      "text/html": [
       "<div>\n",
       "<style scoped>\n",
       "    .dataframe tbody tr th:only-of-type {\n",
       "        vertical-align: middle;\n",
       "    }\n",
       "\n",
       "    .dataframe tbody tr th {\n",
       "        vertical-align: top;\n",
       "    }\n",
       "\n",
       "    .dataframe thead th {\n",
       "        text-align: right;\n",
       "    }\n",
       "</style>\n",
       "<table border=\"1\" class=\"dataframe\">\n",
       "  <thead>\n",
       "    <tr style=\"text-align: right;\">\n",
       "      <th></th>\n",
       "      <th>Value</th>\n",
       "      <th>Rob. Std err</th>\n",
       "      <th>Rob. t-test</th>\n",
       "      <th>Rob. p-value</th>\n",
       "    </tr>\n",
       "  </thead>\n",
       "  <tbody>\n",
       "    <tr>\n",
       "      <th>beta1</th>\n",
       "      <td>0.111901</td>\n",
       "      <td>0.357903</td>\n",
       "      <td>0.312658</td>\n",
       "      <td>0.754541</td>\n",
       "    </tr>\n",
       "    <tr>\n",
       "      <th>beta2</th>\n",
       "      <td>0.021615</td>\n",
       "      <td>0.032531</td>\n",
       "      <td>0.664435</td>\n",
       "      <td>0.506412</td>\n",
       "    </tr>\n",
       "  </tbody>\n",
       "</table>\n",
       "</div>"
      ],
      "text/plain": [
       "          Value  Rob. Std err  Rob. t-test  Rob. p-value\n",
       "beta1  0.111901      0.357903     0.312658      0.754541\n",
       "beta2  0.021615      0.032531     0.664435      0.506412"
      ]
     },
     "execution_count": 21,
     "metadata": {},
     "output_type": "execute_result"
    }
   ],
   "source": [
    "myBiogeme.tolerance=0.1\n",
    "myBiogeme.maxiter = 1000\n",
    "results = myBiogeme.estimate()\n",
    "results.getEstimatedParameters()"
   ]
  },
  {
   "cell_type": "code",
   "execution_count": 22,
   "metadata": {},
   "outputs": [
    {
     "name": "stdout",
     "output_type": "stream",
     "text": [
      "Algorithm:\tUnconstrained Newton with trust region\n",
      "Relative gradient:\t0.04203221663984582\n",
      "Cause of termination:\tRelative gradient = 0.042 <= 0.1\n",
      "Number of iterations:\t7\n",
      "Number of function evaluations:\t14\n",
      "Number of gradient evaluations:\t8\n",
      "Number of hessian evaluations:\t8\n",
      "Optimization time:\t0:00:00.002670\n"
     ]
    }
   ],
   "source": [
    "for k, v in results.data.optimizationMessages.items():\n",
    "    print(f'{k}:\\t{v}')"
   ]
  },
  {
   "cell_type": "markdown",
   "metadata": {},
   "source": [
    "## BFGS with line search"
   ]
  },
  {
   "cell_type": "code",
   "execution_count": 23,
   "metadata": {},
   "outputs": [
    {
     "name": "stderr",
     "output_type": "stream",
     "text": [
      "Optimization algorithm: BFGS with line search [LS-BFGS] \n",
      "** Optimization: BFGS with line search \n"
     ]
    },
    {
     "data": {
      "text/html": [
       "<div>\n",
       "<style scoped>\n",
       "    .dataframe tbody tr th:only-of-type {\n",
       "        vertical-align: middle;\n",
       "    }\n",
       "\n",
       "    .dataframe tbody tr th {\n",
       "        vertical-align: top;\n",
       "    }\n",
       "\n",
       "    .dataframe thead th {\n",
       "        text-align: right;\n",
       "    }\n",
       "</style>\n",
       "<table border=\"1\" class=\"dataframe\">\n",
       "  <thead>\n",
       "    <tr style=\"text-align: right;\">\n",
       "      <th></th>\n",
       "      <th>Value</th>\n",
       "      <th>Rob. Std err</th>\n",
       "      <th>Rob. t-test</th>\n",
       "      <th>Rob. p-value</th>\n",
       "    </tr>\n",
       "  </thead>\n",
       "  <tbody>\n",
       "    <tr>\n",
       "      <th>beta1</th>\n",
       "      <td>0.144545</td>\n",
       "      <td>0.366198</td>\n",
       "      <td>0.394720</td>\n",
       "      <td>0.693050</td>\n",
       "    </tr>\n",
       "    <tr>\n",
       "      <th>beta2</th>\n",
       "      <td>0.023502</td>\n",
       "      <td>0.034280</td>\n",
       "      <td>0.685573</td>\n",
       "      <td>0.492982</td>\n",
       "    </tr>\n",
       "  </tbody>\n",
       "</table>\n",
       "</div>"
      ],
      "text/plain": [
       "          Value  Rob. Std err  Rob. t-test  Rob. p-value\n",
       "beta1  0.144545      0.366198     0.394720      0.693050\n",
       "beta2  0.023502      0.034280     0.685573      0.492982"
      ]
     },
     "execution_count": 23,
     "metadata": {},
     "output_type": "execute_result"
    }
   ],
   "source": [
    "myBiogeme.algorithm_name = 'LS-BFGS'\n",
    "myBiogeme.tolerance=1.0e-6\n",
    "myBiogeme.maxiter = 1000\n",
    "results = myBiogeme.estimate()\n",
    "results.getEstimatedParameters()"
   ]
  },
  {
   "cell_type": "code",
   "execution_count": 24,
   "metadata": {},
   "outputs": [
    {
     "name": "stdout",
     "output_type": "stream",
     "text": [
      "Algorithm:\tInverse BFGS with line search\n",
      "Relative gradient:\t5.933646980468922e-07\n",
      "Cause of termination:\tRelative gradient = 5.9e-07 <= 1e-06\n",
      "Number of iterations:\t5\n",
      "Number of function evaluations:\t28\n",
      "Number of gradient evaluations:\t6\n",
      "Optimization time:\t0:00:00.002667\n"
     ]
    }
   ],
   "source": [
    "for k, v in results.data.optimizationMessages.items():\n",
    "    print(f'{k}:\\t{v}')"
   ]
  },
  {
   "cell_type": "markdown",
   "metadata": {},
   "source": [
    "## BFGS with trust region"
   ]
  },
  {
   "cell_type": "code",
   "execution_count": 25,
   "metadata": {},
   "outputs": [
    {
     "name": "stderr",
     "output_type": "stream",
     "text": [
      "Optimization algorithm: BFGS with trust region [TR-BFGS] \n",
      "** Optimization: BFGS with trust region \n"
     ]
    },
    {
     "data": {
      "text/html": [
       "<div>\n",
       "<style scoped>\n",
       "    .dataframe tbody tr th:only-of-type {\n",
       "        vertical-align: middle;\n",
       "    }\n",
       "\n",
       "    .dataframe tbody tr th {\n",
       "        vertical-align: top;\n",
       "    }\n",
       "\n",
       "    .dataframe thead th {\n",
       "        text-align: right;\n",
       "    }\n",
       "</style>\n",
       "<table border=\"1\" class=\"dataframe\">\n",
       "  <thead>\n",
       "    <tr style=\"text-align: right;\">\n",
       "      <th></th>\n",
       "      <th>Value</th>\n",
       "      <th>Rob. Std err</th>\n",
       "      <th>Rob. t-test</th>\n",
       "      <th>Rob. p-value</th>\n",
       "    </tr>\n",
       "  </thead>\n",
       "  <tbody>\n",
       "    <tr>\n",
       "      <th>beta1</th>\n",
       "      <td>0.144546</td>\n",
       "      <td>0.366198</td>\n",
       "      <td>0.394720</td>\n",
       "      <td>0.693049</td>\n",
       "    </tr>\n",
       "    <tr>\n",
       "      <th>beta2</th>\n",
       "      <td>0.023502</td>\n",
       "      <td>0.034280</td>\n",
       "      <td>0.685574</td>\n",
       "      <td>0.492982</td>\n",
       "    </tr>\n",
       "  </tbody>\n",
       "</table>\n",
       "</div>"
      ],
      "text/plain": [
       "          Value  Rob. Std err  Rob. t-test  Rob. p-value\n",
       "beta1  0.144546      0.366198     0.394720      0.693049\n",
       "beta2  0.023502      0.034280     0.685574      0.492982"
      ]
     },
     "execution_count": 25,
     "metadata": {},
     "output_type": "execute_result"
    }
   ],
   "source": [
    "myBiogeme.algorithm_name = 'TR-BFGS'\n",
    "results = myBiogeme.estimate()\n",
    "results.getEstimatedParameters()"
   ]
  },
  {
   "cell_type": "code",
   "execution_count": 26,
   "metadata": {},
   "outputs": [
    {
     "name": "stdout",
     "output_type": "stream",
     "text": [
      "Algorithm:\tBFGS with trust region\n",
      "Relative gradient:\t2.1726273024450062e-09\n",
      "Cause of termination:\tRelative gradient = 2.2e-09 <= 1e-06\n",
      "Number of iterations:\t11\n",
      "Number of function evaluations:\t23\n",
      "Number of gradient evaluations:\t12\n",
      "Optimization time:\t0:00:00.003441\n"
     ]
    }
   ],
   "source": [
    "for k, v in results.data.optimizationMessages.items():\n",
    "    print(f'{k}:\\t{v}')"
   ]
  },
  {
   "cell_type": "markdown",
   "metadata": {},
   "source": [
    "## Newton/BFGS with trust region for simple bounds"
   ]
  },
  {
   "cell_type": "markdown",
   "metadata": {},
   "source": [
    "This is the default algorithm used by Biogeme. It is the implementation of the algorithm proposed by [Conn et al. (1988)](https://www.ams.org/journals/mcom/1988-50-182/S0025-5718-1988-0929544-3/S0025-5718-1988-0929544-3.pdf)."
   ]
  },
  {
   "cell_type": "code",
   "execution_count": 27,
   "metadata": {},
   "outputs": [
    {
     "name": "stderr",
     "output_type": "stream",
     "text": [
      "Optimization algorithm: hybrid Newton/BFGS with simple bounds [simple_bounds] \n",
      "** Optimization: Newton with trust region for simple bounds \n",
      "Proportion of Hessian calculation: 100.0% \n"
     ]
    },
    {
     "data": {
      "text/html": [
       "<div>\n",
       "<style scoped>\n",
       "    .dataframe tbody tr th:only-of-type {\n",
       "        vertical-align: middle;\n",
       "    }\n",
       "\n",
       "    .dataframe tbody tr th {\n",
       "        vertical-align: top;\n",
       "    }\n",
       "\n",
       "    .dataframe thead th {\n",
       "        text-align: right;\n",
       "    }\n",
       "</style>\n",
       "<table border=\"1\" class=\"dataframe\">\n",
       "  <thead>\n",
       "    <tr style=\"text-align: right;\">\n",
       "      <th></th>\n",
       "      <th>Value</th>\n",
       "      <th>Rob. Std err</th>\n",
       "      <th>Rob. t-test</th>\n",
       "      <th>Rob. p-value</th>\n",
       "    </tr>\n",
       "  </thead>\n",
       "  <tbody>\n",
       "    <tr>\n",
       "      <th>beta1</th>\n",
       "      <td>0.144544</td>\n",
       "      <td>0.366197</td>\n",
       "      <td>0.394715</td>\n",
       "      <td>0.693053</td>\n",
       "    </tr>\n",
       "    <tr>\n",
       "      <th>beta2</th>\n",
       "      <td>0.023501</td>\n",
       "      <td>0.034280</td>\n",
       "      <td>0.685572</td>\n",
       "      <td>0.492983</td>\n",
       "    </tr>\n",
       "  </tbody>\n",
       "</table>\n",
       "</div>"
      ],
      "text/plain": [
       "          Value  Rob. Std err  Rob. t-test  Rob. p-value\n",
       "beta1  0.144544      0.366197     0.394715      0.693053\n",
       "beta2  0.023501      0.034280     0.685572      0.492983"
      ]
     },
     "execution_count": 27,
     "metadata": {},
     "output_type": "execute_result"
    }
   ],
   "source": [
    "myBiogeme.algorithm_name = 'simple_bounds'\n",
    "results = myBiogeme.estimate()\n",
    "results.getEstimatedParameters()"
   ]
  },
  {
   "cell_type": "code",
   "execution_count": 28,
   "metadata": {},
   "outputs": [
    {
     "name": "stdout",
     "output_type": "stream",
     "text": [
      "Algorithm:\tNewton with trust region for simple bound constraints\n",
      "Proportion analytical hessian:\t100.0%\n",
      "Relative projected gradient:\t2.6098345611870616e-06\n",
      "Relative change:\t7.891033303175643e-08\n",
      "Number of iterations:\t6\n",
      "Number of function evaluations:\t19\n",
      "Number of gradient evaluations:\t7\n",
      "Number of hessian evaluations:\t7\n",
      "Cause of termination:\tRelative change = 7.89e-08 <= 1e-05\n",
      "Optimization time:\t0:00:00.003293\n"
     ]
    }
   ],
   "source": [
    "for k, v in results.data.optimizationMessages.items():\n",
    "    print(f'{k}:\\t{v}')"
   ]
  },
  {
   "cell_type": "markdown",
   "metadata": {},
   "source": [
    "When the second derivatives are too computationally expensive to calculate, it is possible to avoid calculating them at each successful iteration. The parameter `second_derivatives` allows to control that."
   ]
  },
  {
   "cell_type": "code",
   "execution_count": 29,
   "metadata": {},
   "outputs": [
    {
     "name": "stderr",
     "output_type": "stream",
     "text": [
      "Optimization algorithm: hybrid Newton/BFGS with simple bounds [simple_bounds] \n",
      "** Optimization: Hybrid Newton 50.0%/BFGS with trust region for simple bounds \n",
      "Proportion of Hessian calculation: 50.0% \n"
     ]
    },
    {
     "data": {
      "text/html": [
       "<div>\n",
       "<style scoped>\n",
       "    .dataframe tbody tr th:only-of-type {\n",
       "        vertical-align: middle;\n",
       "    }\n",
       "\n",
       "    .dataframe tbody tr th {\n",
       "        vertical-align: top;\n",
       "    }\n",
       "\n",
       "    .dataframe thead th {\n",
       "        text-align: right;\n",
       "    }\n",
       "</style>\n",
       "<table border=\"1\" class=\"dataframe\">\n",
       "  <thead>\n",
       "    <tr style=\"text-align: right;\">\n",
       "      <th></th>\n",
       "      <th>Value</th>\n",
       "      <th>Rob. Std err</th>\n",
       "      <th>Rob. t-test</th>\n",
       "      <th>Rob. p-value</th>\n",
       "    </tr>\n",
       "  </thead>\n",
       "  <tbody>\n",
       "    <tr>\n",
       "      <th>beta1</th>\n",
       "      <td>0.144546</td>\n",
       "      <td>0.366198</td>\n",
       "      <td>0.394720</td>\n",
       "      <td>0.693049</td>\n",
       "    </tr>\n",
       "    <tr>\n",
       "      <th>beta2</th>\n",
       "      <td>0.023502</td>\n",
       "      <td>0.034280</td>\n",
       "      <td>0.685574</td>\n",
       "      <td>0.492982</td>\n",
       "    </tr>\n",
       "  </tbody>\n",
       "</table>\n",
       "</div>"
      ],
      "text/plain": [
       "          Value  Rob. Std err  Rob. t-test  Rob. p-value\n",
       "beta1  0.144546      0.366198     0.394720      0.693049\n",
       "beta2  0.023502      0.034280     0.685574      0.492982"
      ]
     },
     "execution_count": 29,
     "metadata": {},
     "output_type": "execute_result"
    }
   ],
   "source": [
    "myBiogeme.second_derivatives = 0.5\n",
    "results = myBiogeme.estimate()\n",
    "results.getEstimatedParameters()"
   ]
  },
  {
   "cell_type": "code",
   "execution_count": 30,
   "metadata": {},
   "outputs": [
    {
     "name": "stdout",
     "output_type": "stream",
     "text": [
      "Algorithm:\tHybrid Newton [50.0%] with trust region for simple bound constraints\n",
      "Proportion analytical hessian:\t50.0%\n",
      "Relative projected gradient:\t1.7714802103915912e-07\n",
      "Relative change:\t5.4841813972028586e-09\n",
      "Number of iterations:\t7\n",
      "Number of function evaluations:\t22\n",
      "Number of gradient evaluations:\t8\n",
      "Number of hessian evaluations:\t4\n",
      "Cause of termination:\tRelative change = 5.48e-09 <= 1e-05\n",
      "Optimization time:\t0:00:00.003406\n"
     ]
    }
   ],
   "source": [
    "for k, v in results.data.optimizationMessages.items():\n",
    "    print(f'{k}:\\t{v}')"
   ]
  },
  {
   "cell_type": "markdown",
   "metadata": {},
   "source": [
    "If the parameter is set to zero, the second derivatives are not used at all, and the algorithm relies only on the BFGS update."
   ]
  },
  {
   "cell_type": "code",
   "execution_count": 31,
   "metadata": {},
   "outputs": [
    {
     "name": "stderr",
     "output_type": "stream",
     "text": [
      "Optimization algorithm: hybrid Newton/BFGS with simple bounds [simple_bounds] \n",
      "** Optimization: BFGS with trust region for simple bounds \n",
      "Proportion of Hessian calculation: 0.0% \n"
     ]
    },
    {
     "data": {
      "text/html": [
       "<div>\n",
       "<style scoped>\n",
       "    .dataframe tbody tr th:only-of-type {\n",
       "        vertical-align: middle;\n",
       "    }\n",
       "\n",
       "    .dataframe tbody tr th {\n",
       "        vertical-align: top;\n",
       "    }\n",
       "\n",
       "    .dataframe thead th {\n",
       "        text-align: right;\n",
       "    }\n",
       "</style>\n",
       "<table border=\"1\" class=\"dataframe\">\n",
       "  <thead>\n",
       "    <tr style=\"text-align: right;\">\n",
       "      <th></th>\n",
       "      <th>Value</th>\n",
       "      <th>Rob. Std err</th>\n",
       "      <th>Rob. t-test</th>\n",
       "      <th>Rob. p-value</th>\n",
       "    </tr>\n",
       "  </thead>\n",
       "  <tbody>\n",
       "    <tr>\n",
       "      <th>beta1</th>\n",
       "      <td>0.144546</td>\n",
       "      <td>0.366198</td>\n",
       "      <td>0.394720</td>\n",
       "      <td>0.693049</td>\n",
       "    </tr>\n",
       "    <tr>\n",
       "      <th>beta2</th>\n",
       "      <td>0.023502</td>\n",
       "      <td>0.034280</td>\n",
       "      <td>0.685573</td>\n",
       "      <td>0.492982</td>\n",
       "    </tr>\n",
       "  </tbody>\n",
       "</table>\n",
       "</div>"
      ],
      "text/plain": [
       "          Value  Rob. Std err  Rob. t-test  Rob. p-value\n",
       "beta1  0.144546      0.366198     0.394720      0.693049\n",
       "beta2  0.023502      0.034280     0.685573      0.492982"
      ]
     },
     "execution_count": 31,
     "metadata": {},
     "output_type": "execute_result"
    }
   ],
   "source": [
    "myBiogeme.second_derivatives = 0.0\n",
    "results = myBiogeme.estimate()\n",
    "results.getEstimatedParameters()"
   ]
  },
  {
   "cell_type": "code",
   "execution_count": 32,
   "metadata": {},
   "outputs": [
    {
     "name": "stdout",
     "output_type": "stream",
     "text": [
      "Algorithm:\tBFGS with trust region for simple bound constraints\n",
      "Proportion analytical hessian:\t0.0%\n",
      "Relative projected gradient:\t1.6091903729961065e-06\n",
      "Relative change:\t5.793383296454069e-06\n",
      "Number of iterations:\t7\n",
      "Number of function evaluations:\t22\n",
      "Number of gradient evaluations:\t8\n",
      "Number of hessian evaluations:\t0\n",
      "Cause of termination:\tRelative change = 5.79e-06 <= 1e-05\n",
      "Optimization time:\t0:00:00.003161\n"
     ]
    }
   ],
   "source": [
    "for k, v in results.data.optimizationMessages.items():\n",
    "    print(f'{k}:\\t{v}')"
   ]
  },
  {
   "cell_type": "markdown",
   "metadata": {},
   "source": [
    "There are shortcuts to call the BFGS and the Newton versions"
   ]
  },
  {
   "cell_type": "code",
   "execution_count": 33,
   "metadata": {},
   "outputs": [
    {
     "name": "stderr",
     "output_type": "stream",
     "text": [
      "Optimization algorithm: Newton with simple bounds [simple_bounds_newton]. \n",
      "Optimization algorithm: hybrid Newton/BFGS with simple bounds [simple_bounds] \n",
      "** Optimization: Newton with trust region for simple bounds \n",
      "Proportion of Hessian calculation: 100.0% \n"
     ]
    },
    {
     "data": {
      "text/html": [
       "<div>\n",
       "<style scoped>\n",
       "    .dataframe tbody tr th:only-of-type {\n",
       "        vertical-align: middle;\n",
       "    }\n",
       "\n",
       "    .dataframe tbody tr th {\n",
       "        vertical-align: top;\n",
       "    }\n",
       "\n",
       "    .dataframe thead th {\n",
       "        text-align: right;\n",
       "    }\n",
       "</style>\n",
       "<table border=\"1\" class=\"dataframe\">\n",
       "  <thead>\n",
       "    <tr style=\"text-align: right;\">\n",
       "      <th></th>\n",
       "      <th>Value</th>\n",
       "      <th>Rob. Std err</th>\n",
       "      <th>Rob. t-test</th>\n",
       "      <th>Rob. p-value</th>\n",
       "    </tr>\n",
       "  </thead>\n",
       "  <tbody>\n",
       "    <tr>\n",
       "      <th>beta1</th>\n",
       "      <td>0.144544</td>\n",
       "      <td>0.366197</td>\n",
       "      <td>0.394715</td>\n",
       "      <td>0.693053</td>\n",
       "    </tr>\n",
       "    <tr>\n",
       "      <th>beta2</th>\n",
       "      <td>0.023501</td>\n",
       "      <td>0.034280</td>\n",
       "      <td>0.685572</td>\n",
       "      <td>0.492983</td>\n",
       "    </tr>\n",
       "  </tbody>\n",
       "</table>\n",
       "</div>"
      ],
      "text/plain": [
       "          Value  Rob. Std err  Rob. t-test  Rob. p-value\n",
       "beta1  0.144544      0.366197     0.394715      0.693053\n",
       "beta2  0.023501      0.034280     0.685572      0.492983"
      ]
     },
     "execution_count": 33,
     "metadata": {},
     "output_type": "execute_result"
    }
   ],
   "source": [
    "myBiogeme.algorithm_name = 'simple_bounds_newton'\n",
    "results = myBiogeme.estimate()\n",
    "results.getEstimatedParameters()"
   ]
  },
  {
   "cell_type": "code",
   "execution_count": 34,
   "metadata": {},
   "outputs": [
    {
     "name": "stdout",
     "output_type": "stream",
     "text": [
      "Algorithm:\tNewton with trust region for simple bound constraints\n",
      "Proportion analytical hessian:\t100.0%\n",
      "Relative projected gradient:\t2.6098345611870616e-06\n",
      "Relative change:\t7.891033303175643e-08\n",
      "Number of iterations:\t6\n",
      "Number of function evaluations:\t19\n",
      "Number of gradient evaluations:\t7\n",
      "Number of hessian evaluations:\t7\n",
      "Cause of termination:\tRelative change = 7.89e-08 <= 1e-05\n",
      "Optimization time:\t0:00:00.003111\n"
     ]
    }
   ],
   "source": [
    "for k, v in results.data.optimizationMessages.items():\n",
    "    print(f'{k}:\\t{v}')"
   ]
  },
  {
   "cell_type": "code",
   "execution_count": 35,
   "metadata": {},
   "outputs": [
    {
     "name": "stderr",
     "output_type": "stream",
     "text": [
      "Optimization algorithm: BFGS with simple bounds [simple_bounds_BFGS]. \n",
      "Optimization algorithm: hybrid Newton/BFGS with simple bounds [simple_bounds] \n",
      "** Optimization: BFGS with trust region for simple bounds \n",
      "Proportion of Hessian calculation: 0.0% \n"
     ]
    },
    {
     "data": {
      "text/html": [
       "<div>\n",
       "<style scoped>\n",
       "    .dataframe tbody tr th:only-of-type {\n",
       "        vertical-align: middle;\n",
       "    }\n",
       "\n",
       "    .dataframe tbody tr th {\n",
       "        vertical-align: top;\n",
       "    }\n",
       "\n",
       "    .dataframe thead th {\n",
       "        text-align: right;\n",
       "    }\n",
       "</style>\n",
       "<table border=\"1\" class=\"dataframe\">\n",
       "  <thead>\n",
       "    <tr style=\"text-align: right;\">\n",
       "      <th></th>\n",
       "      <th>Value</th>\n",
       "      <th>Rob. Std err</th>\n",
       "      <th>Rob. t-test</th>\n",
       "      <th>Rob. p-value</th>\n",
       "    </tr>\n",
       "  </thead>\n",
       "  <tbody>\n",
       "    <tr>\n",
       "      <th>beta1</th>\n",
       "      <td>0.144546</td>\n",
       "      <td>0.366198</td>\n",
       "      <td>0.394720</td>\n",
       "      <td>0.693049</td>\n",
       "    </tr>\n",
       "    <tr>\n",
       "      <th>beta2</th>\n",
       "      <td>0.023502</td>\n",
       "      <td>0.034280</td>\n",
       "      <td>0.685573</td>\n",
       "      <td>0.492982</td>\n",
       "    </tr>\n",
       "  </tbody>\n",
       "</table>\n",
       "</div>"
      ],
      "text/plain": [
       "          Value  Rob. Std err  Rob. t-test  Rob. p-value\n",
       "beta1  0.144546      0.366198     0.394720      0.693049\n",
       "beta2  0.023502      0.034280     0.685573      0.492982"
      ]
     },
     "execution_count": 35,
     "metadata": {},
     "output_type": "execute_result"
    }
   ],
   "source": [
    "myBiogeme.algorithm_name = 'simple_bounds_BFGS'\n",
    "results = myBiogeme.estimate()\n",
    "results.getEstimatedParameters()"
   ]
  },
  {
   "cell_type": "code",
   "execution_count": 36,
   "metadata": {},
   "outputs": [
    {
     "name": "stdout",
     "output_type": "stream",
     "text": [
      "Algorithm:\tBFGS with trust region for simple bound constraints\n",
      "Proportion analytical hessian:\t0.0%\n",
      "Relative projected gradient:\t1.6091903729961065e-06\n",
      "Relative change:\t5.793383296454069e-06\n",
      "Number of iterations:\t7\n",
      "Number of function evaluations:\t22\n",
      "Number of gradient evaluations:\t8\n",
      "Number of hessian evaluations:\t0\n",
      "Cause of termination:\tRelative change = 5.79e-06 <= 1e-05\n",
      "Optimization time:\t0:00:00.003046\n"
     ]
    }
   ],
   "source": [
    "for k, v in results.data.optimizationMessages.items():\n",
    "    print(f'{k}:\\t{v}')"
   ]
  },
  {
   "cell_type": "code",
   "execution_count": null,
   "metadata": {},
   "outputs": [],
   "source": []
  }
 ],
 "metadata": {
  "kernelspec": {
   "display_name": "Python 3 (ipykernel)",
   "language": "python",
   "name": "python3"
  },
  "language_info": {
   "codemirror_mode": {
    "name": "ipython",
    "version": 3
   },
   "file_extension": ".py",
   "mimetype": "text/x-python",
   "name": "python",
   "nbconvert_exporter": "python",
   "pygments_lexer": "ipython3",
   "version": "3.11.2"
  }
 },
 "nbformat": 4,
 "nbformat_minor": 2
}
