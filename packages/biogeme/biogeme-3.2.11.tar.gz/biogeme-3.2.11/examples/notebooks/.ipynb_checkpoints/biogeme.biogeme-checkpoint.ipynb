{
 "cells": [
  {
   "cell_type": "markdown",
   "metadata": {},
   "source": [
    "# Module biogeme.biogeme "
   ]
  },
  {
   "cell_type": "markdown",
   "metadata": {},
   "source": [
    "## Examples of use of each function"
   ]
  },
  {
   "cell_type": "markdown",
   "metadata": {},
   "source": [
    "This webpage is for programmers who need examples of use of the functions of the module. The examples are designed to illustrate the syntax. They do not correspond to any meaningful model. For examples of models, visit  [biogeme.epfl.ch](http://biogeme.epfl.ch)."
   ]
  },
  {
   "cell_type": "code",
   "execution_count": 1,
   "metadata": {},
   "outputs": [],
   "source": [
    "import datetime\n",
    "print(datetime.datetime.now())"
   ]
  },
  {
   "cell_type": "code",
   "execution_count": 2,
   "metadata": {},
   "outputs": [],
   "source": [
    "import biogeme.version as ver\n",
    "print(ver.getText())"
   ]
  },
  {
   "cell_type": "code",
   "execution_count": 3,
   "metadata": {},
   "outputs": [],
   "source": [
    "import biogeme.biogeme as bio\n",
    "import biogeme.database as db\n",
    "import pandas as pd\n",
    "import numpy as np\n",
    "from biogeme.expressions import Beta, Variable, exp"
   ]
  },
  {
   "cell_type": "markdown",
   "metadata": {},
   "source": [
    "Define the verbosity of Biogeme"
   ]
  },
  {
   "cell_type": "code",
   "execution_count": 4,
   "metadata": {},
   "outputs": [
    {
     "name": "stderr",
     "output_type": "stream",
     "text": [
      "[INFO] 2023-04-14 10:26:15,558 Logger initalized <2747012181.py:3>\n"
     ]
    }
   ],
   "source": [
    "import biogeme.logging as blog\n",
    "logger = blog.get_screen_logger(level=blog.DEBUG)\n",
    "logger.info('Logger initalized')\n"
   ]
  },
  {
   "cell_type": "markdown",
   "metadata": {},
   "source": [
    "##  Definition of a database"
   ]
  },
  {
   "cell_type": "code",
   "execution_count": 5,
   "metadata": {},
   "outputs": [],
   "source": [
    "df = pd.DataFrame({'Person':[1,1,1,2,2],\n",
    "                   'Exclude':[0,0,1,0,1],\n",
    "                   'Variable1':[1,2,3,4,5],\n",
    "                   'Variable2':[10,20,30,40,50],\n",
    "                   'Choice':[1,2,3,1,2],\n",
    "                   'Av1':[0,1,1,1,1],\n",
    "                   'Av2':[1,1,1,1,1],\n",
    "                   'Av3':[0,1,1,1,1]})\n",
    "myData = db.Database('test', df)"
   ]
  },
  {
   "cell_type": "markdown",
   "metadata": {},
   "source": [
    "## Definition of various expressions"
   ]
  },
  {
   "cell_type": "code",
   "execution_count": 6,
   "metadata": {},
   "outputs": [],
   "source": [
    "Variable1=Variable('Variable1')\n",
    "Variable2=Variable('Variable2')\n",
    "beta1 = Beta('beta1', -1.0, -3, 3, 0)\n",
    "beta2 = Beta('beta2', 2.0, -3, 10, 0)\n",
    "likelihood = -beta1**2 * Variable1 - exp(beta2 * beta1) \\\n",
    "    * Variable2 - beta2**4\n",
    "simul = beta1 / Variable1 + beta2 / Variable2\n",
    "dictOfExpressions = {'loglike': likelihood, \n",
    "                     'beta1': beta1,\n",
    "                     'simul': simul}"
   ]
  },
  {
   "cell_type": "markdown",
   "metadata": {},
   "source": [
    "## Creation of the BIOGEME object"
   ]
  },
  {
   "cell_type": "code",
   "execution_count": 7,
   "metadata": {},
   "outputs": [
    {
     "name": "stderr",
     "output_type": "stream",
     "text": [
      "[INFO] 2023-04-14 10:26:15,566 Parameters read from biogeme.toml <toml.py:58>\n"
     ]
    },
    {
     "name": "stdout",
     "output_type": "stream",
     "text": [
      "simpleExample: database [test]{'loglike': ((((-(beta1(init=-1.0) ** `2.0`)) * Variable1) - (exp((beta2(init=2.0) * beta1(init=-1.0))) * Variable2)) - (beta2(init=2.0) ** `4.0`)), 'beta1': beta1(init=-1.0), 'simul': ((beta1(init=-1.0) / Variable1) + (beta2(init=2.0) / Variable2))}\n",
      "simpleExample: database [test]{'loglike': ((((-(beta1(init=-1.0) ** `2.0`)) * Variable1) - (exp((beta2(init=2.0) * beta1(init=-1.0))) * Variable2)) - (beta2(init=2.0) ** `4.0`)), 'beta1': beta1(init=-1.0), 'simul': ((beta1(init=-1.0) / Variable1) + (beta2(init=2.0) / Variable2))}\n"
     ]
    }
   ],
   "source": [
    "myBiogeme = bio.BIOGEME(myData, dictOfExpressions)\n",
    "myBiogeme.modelName = 'simpleExample'\n",
    "print(myBiogeme)"
   ]
  },
  {
   "cell_type": "markdown",
   "metadata": {},
   "source": [
    "Note that, by default, Biogeme removes the unused variables from the database to optimize space."
   ]
  },
  {
   "cell_type": "code",
   "execution_count": 8,
   "metadata": {},
   "outputs": [
    {
     "data": {
      "text/plain": [
       "Index(['Person', 'Exclude', 'Variable1', 'Variable2', 'Choice', 'Av1', 'Av2',\n",
       "       'Av3'],\n",
       "      dtype='object')"
      ]
     },
     "execution_count": 8,
     "metadata": {},
     "output_type": "execute_result"
    }
   ],
   "source": [
    "myBiogeme.database.data.columns"
   ]
  },
  {
   "cell_type": "markdown",
   "metadata": {},
   "source": [
    "## calculateInitLikelihood"
   ]
  },
  {
   "cell_type": "code",
   "execution_count": 9,
   "metadata": {},
   "outputs": [
    {
     "name": "stderr",
     "output_type": "stream",
     "text": [
      "[DEBUG] 2023-04-14 10:26:15,579 Log likelihood (N = 5):  -115.3003 <biogeme.py:837>\n"
     ]
    },
    {
     "data": {
      "text/plain": [
       "-115.30029248549191"
      ]
     },
     "execution_count": 9,
     "metadata": {},
     "output_type": "execute_result"
    }
   ],
   "source": [
    "myBiogeme.calculateInitLikelihood()"
   ]
  },
  {
   "cell_type": "markdown",
   "metadata": {},
   "source": [
    "## calculateLikelihood"
   ]
  },
  {
   "cell_type": "code",
   "execution_count": 10,
   "metadata": {},
   "outputs": [
    {
     "name": "stdout",
     "output_type": "stream",
     "text": [
      "[0.0, 3.0]\n"
     ]
    }
   ],
   "source": [
    "x = myBiogeme.id_manager.free_betas_values\n",
    "xplus = [v + 1 for v in x]\n",
    "print(xplus)"
   ]
  },
  {
   "cell_type": "code",
   "execution_count": 11,
   "metadata": {},
   "outputs": [
    {
     "name": "stderr",
     "output_type": "stream",
     "text": [
      "[DEBUG] 2023-04-14 10:26:15,583 Log likelihood (N = 5):       -555 <biogeme.py:837>\n"
     ]
    },
    {
     "data": {
      "text/plain": [
       "-111.0"
      ]
     },
     "execution_count": 11,
     "metadata": {},
     "output_type": "execute_result"
    }
   ],
   "source": [
    "myBiogeme.calculateLikelihood(xplus, scaled=True)"
   ]
  },
  {
   "cell_type": "code",
   "execution_count": 12,
   "metadata": {},
   "outputs": [
    {
     "data": {
      "text/html": [
       "<div>\n",
       "<style scoped>\n",
       "    .dataframe tbody tr th:only-of-type {\n",
       "        vertical-align: middle;\n",
       "    }\n",
       "\n",
       "    .dataframe tbody tr th {\n",
       "        vertical-align: top;\n",
       "    }\n",
       "\n",
       "    .dataframe thead th {\n",
       "        text-align: right;\n",
       "    }\n",
       "</style>\n",
       "<table border=\"1\" class=\"dataframe\">\n",
       "  <thead>\n",
       "    <tr style=\"text-align: right;\">\n",
       "      <th></th>\n",
       "      <th>Person</th>\n",
       "      <th>Exclude</th>\n",
       "      <th>Variable1</th>\n",
       "      <th>Variable2</th>\n",
       "      <th>Choice</th>\n",
       "      <th>Av1</th>\n",
       "      <th>Av2</th>\n",
       "      <th>Av3</th>\n",
       "    </tr>\n",
       "  </thead>\n",
       "  <tbody>\n",
       "    <tr>\n",
       "      <th>0</th>\n",
       "      <td>1</td>\n",
       "      <td>0</td>\n",
       "      <td>1</td>\n",
       "      <td>10</td>\n",
       "      <td>1</td>\n",
       "      <td>0</td>\n",
       "      <td>1</td>\n",
       "      <td>0</td>\n",
       "    </tr>\n",
       "    <tr>\n",
       "      <th>1</th>\n",
       "      <td>1</td>\n",
       "      <td>0</td>\n",
       "      <td>2</td>\n",
       "      <td>20</td>\n",
       "      <td>2</td>\n",
       "      <td>1</td>\n",
       "      <td>1</td>\n",
       "      <td>1</td>\n",
       "    </tr>\n",
       "    <tr>\n",
       "      <th>2</th>\n",
       "      <td>1</td>\n",
       "      <td>1</td>\n",
       "      <td>3</td>\n",
       "      <td>30</td>\n",
       "      <td>3</td>\n",
       "      <td>1</td>\n",
       "      <td>1</td>\n",
       "      <td>1</td>\n",
       "    </tr>\n",
       "    <tr>\n",
       "      <th>3</th>\n",
       "      <td>2</td>\n",
       "      <td>0</td>\n",
       "      <td>4</td>\n",
       "      <td>40</td>\n",
       "      <td>1</td>\n",
       "      <td>1</td>\n",
       "      <td>1</td>\n",
       "      <td>1</td>\n",
       "    </tr>\n",
       "    <tr>\n",
       "      <th>4</th>\n",
       "      <td>2</td>\n",
       "      <td>1</td>\n",
       "      <td>5</td>\n",
       "      <td>50</td>\n",
       "      <td>2</td>\n",
       "      <td>1</td>\n",
       "      <td>1</td>\n",
       "      <td>1</td>\n",
       "    </tr>\n",
       "  </tbody>\n",
       "</table>\n",
       "</div>"
      ],
      "text/plain": [
       "   Person  Exclude  Variable1  Variable2  Choice  Av1  Av2  Av3\n",
       "0       1        0          1         10       1    0    1    0\n",
       "1       1        0          2         20       2    1    1    1\n",
       "2       1        1          3         30       3    1    1    1\n",
       "3       2        0          4         40       1    1    1    1\n",
       "4       2        1          5         50       2    1    1    1"
      ]
     },
     "execution_count": 12,
     "metadata": {},
     "output_type": "execute_result"
    }
   ],
   "source": [
    "myBiogeme.database.data"
   ]
  },
  {
   "cell_type": "code",
   "execution_count": 13,
   "metadata": {},
   "outputs": [
    {
     "data": {
      "text/html": [
       "<div>\n",
       "<style scoped>\n",
       "    .dataframe tbody tr th:only-of-type {\n",
       "        vertical-align: middle;\n",
       "    }\n",
       "\n",
       "    .dataframe tbody tr th {\n",
       "        vertical-align: top;\n",
       "    }\n",
       "\n",
       "    .dataframe thead th {\n",
       "        text-align: right;\n",
       "    }\n",
       "</style>\n",
       "<table border=\"1\" class=\"dataframe\">\n",
       "  <thead>\n",
       "    <tr style=\"text-align: right;\">\n",
       "      <th></th>\n",
       "      <th>Person</th>\n",
       "      <th>Exclude</th>\n",
       "      <th>Variable1</th>\n",
       "      <th>Variable2</th>\n",
       "      <th>Choice</th>\n",
       "      <th>Av1</th>\n",
       "      <th>Av2</th>\n",
       "      <th>Av3</th>\n",
       "    </tr>\n",
       "  </thead>\n",
       "  <tbody>\n",
       "    <tr>\n",
       "      <th>0</th>\n",
       "      <td>1</td>\n",
       "      <td>0</td>\n",
       "      <td>1</td>\n",
       "      <td>10</td>\n",
       "      <td>1</td>\n",
       "      <td>0</td>\n",
       "      <td>1</td>\n",
       "      <td>0</td>\n",
       "    </tr>\n",
       "    <tr>\n",
       "      <th>1</th>\n",
       "      <td>1</td>\n",
       "      <td>0</td>\n",
       "      <td>2</td>\n",
       "      <td>20</td>\n",
       "      <td>2</td>\n",
       "      <td>1</td>\n",
       "      <td>1</td>\n",
       "      <td>1</td>\n",
       "    </tr>\n",
       "    <tr>\n",
       "      <th>2</th>\n",
       "      <td>1</td>\n",
       "      <td>1</td>\n",
       "      <td>3</td>\n",
       "      <td>30</td>\n",
       "      <td>3</td>\n",
       "      <td>1</td>\n",
       "      <td>1</td>\n",
       "      <td>1</td>\n",
       "    </tr>\n",
       "    <tr>\n",
       "      <th>3</th>\n",
       "      <td>2</td>\n",
       "      <td>0</td>\n",
       "      <td>4</td>\n",
       "      <td>40</td>\n",
       "      <td>1</td>\n",
       "      <td>1</td>\n",
       "      <td>1</td>\n",
       "      <td>1</td>\n",
       "    </tr>\n",
       "    <tr>\n",
       "      <th>4</th>\n",
       "      <td>2</td>\n",
       "      <td>1</td>\n",
       "      <td>5</td>\n",
       "      <td>50</td>\n",
       "      <td>2</td>\n",
       "      <td>1</td>\n",
       "      <td>1</td>\n",
       "      <td>1</td>\n",
       "    </tr>\n",
       "  </tbody>\n",
       "</table>\n",
       "</div>"
      ],
      "text/plain": [
       "   Person  Exclude  Variable1  Variable2  Choice  Av1  Av2  Av3\n",
       "0       1        0          1         10       1    0    1    0\n",
       "1       1        0          2         20       2    1    1    1\n",
       "2       1        1          3         30       3    1    1    1\n",
       "3       2        0          4         40       1    1    1    1\n",
       "4       2        1          5         50       2    1    1    1"
      ]
     },
     "execution_count": 13,
     "metadata": {},
     "output_type": "execute_result"
    }
   ],
   "source": [
    "myBiogeme.database.data"
   ]
  },
  {
   "cell_type": "markdown",
   "metadata": {},
   "source": [
    "By default, each observation has the same probability to be selected in the sample. It is possible to define the selection probability to be proportional to the values of a column of the database, using the parameter 'weights'. "
   ]
  },
  {
   "cell_type": "code",
   "execution_count": 14,
   "metadata": {},
   "outputs": [
    {
     "name": "stderr",
     "output_type": "stream",
     "text": [
      "[DEBUG] 2023-04-14 10:26:15,595 Log likelihood (N = 5):       -555 <biogeme.py:837>\n"
     ]
    },
    {
     "data": {
      "text/plain": [
       "-111.0"
      ]
     },
     "execution_count": 14,
     "metadata": {},
     "output_type": "execute_result"
    }
   ],
   "source": [
    "myBiogeme.columnForBatchSamplingWeights = 'Variable2'\n",
    "myBiogeme.calculateLikelihood(xplus, scaled=True)"
   ]
  },
  {
   "cell_type": "code",
   "execution_count": 15,
   "metadata": {},
   "outputs": [
    {
     "data": {
      "text/html": [
       "<div>\n",
       "<style scoped>\n",
       "    .dataframe tbody tr th:only-of-type {\n",
       "        vertical-align: middle;\n",
       "    }\n",
       "\n",
       "    .dataframe tbody tr th {\n",
       "        vertical-align: top;\n",
       "    }\n",
       "\n",
       "    .dataframe thead th {\n",
       "        text-align: right;\n",
       "    }\n",
       "</style>\n",
       "<table border=\"1\" class=\"dataframe\">\n",
       "  <thead>\n",
       "    <tr style=\"text-align: right;\">\n",
       "      <th></th>\n",
       "      <th>Person</th>\n",
       "      <th>Exclude</th>\n",
       "      <th>Variable1</th>\n",
       "      <th>Variable2</th>\n",
       "      <th>Choice</th>\n",
       "      <th>Av1</th>\n",
       "      <th>Av2</th>\n",
       "      <th>Av3</th>\n",
       "    </tr>\n",
       "  </thead>\n",
       "  <tbody>\n",
       "    <tr>\n",
       "      <th>0</th>\n",
       "      <td>1</td>\n",
       "      <td>0</td>\n",
       "      <td>1</td>\n",
       "      <td>10</td>\n",
       "      <td>1</td>\n",
       "      <td>0</td>\n",
       "      <td>1</td>\n",
       "      <td>0</td>\n",
       "    </tr>\n",
       "    <tr>\n",
       "      <th>1</th>\n",
       "      <td>1</td>\n",
       "      <td>0</td>\n",
       "      <td>2</td>\n",
       "      <td>20</td>\n",
       "      <td>2</td>\n",
       "      <td>1</td>\n",
       "      <td>1</td>\n",
       "      <td>1</td>\n",
       "    </tr>\n",
       "    <tr>\n",
       "      <th>2</th>\n",
       "      <td>1</td>\n",
       "      <td>1</td>\n",
       "      <td>3</td>\n",
       "      <td>30</td>\n",
       "      <td>3</td>\n",
       "      <td>1</td>\n",
       "      <td>1</td>\n",
       "      <td>1</td>\n",
       "    </tr>\n",
       "    <tr>\n",
       "      <th>3</th>\n",
       "      <td>2</td>\n",
       "      <td>0</td>\n",
       "      <td>4</td>\n",
       "      <td>40</td>\n",
       "      <td>1</td>\n",
       "      <td>1</td>\n",
       "      <td>1</td>\n",
       "      <td>1</td>\n",
       "    </tr>\n",
       "    <tr>\n",
       "      <th>4</th>\n",
       "      <td>2</td>\n",
       "      <td>1</td>\n",
       "      <td>5</td>\n",
       "      <td>50</td>\n",
       "      <td>2</td>\n",
       "      <td>1</td>\n",
       "      <td>1</td>\n",
       "      <td>1</td>\n",
       "    </tr>\n",
       "  </tbody>\n",
       "</table>\n",
       "</div>"
      ],
      "text/plain": [
       "   Person  Exclude  Variable1  Variable2  Choice  Av1  Av2  Av3\n",
       "0       1        0          1         10       1    0    1    0\n",
       "1       1        0          2         20       2    1    1    1\n",
       "2       1        1          3         30       3    1    1    1\n",
       "3       2        0          4         40       1    1    1    1\n",
       "4       2        1          5         50       2    1    1    1"
      ]
     },
     "execution_count": 15,
     "metadata": {},
     "output_type": "execute_result"
    }
   ],
   "source": [
    "myBiogeme.database.data"
   ]
  },
  {
   "cell_type": "markdown",
   "metadata": {},
   "source": [
    "## calculateLikelihoodAndDerivatives"
   ]
  },
  {
   "cell_type": "code",
   "execution_count": 16,
   "metadata": {},
   "outputs": [
    {
     "name": "stderr",
     "output_type": "stream",
     "text": [
      "[DEBUG] 2023-04-14 10:26:15,601 Log likelihood (N = 5):       -555 Gradient norm:      7e+02 Hessian norm:       1e+03 BHHH norm:       1e+05 <biogeme.py:919>\n"
     ]
    },
    {
     "name": "stdout",
     "output_type": "stream",
     "text": [
      "f = -111.0\n",
      "g = [ -90. -108.]\n",
      "h = [[-270.  -30.]\n",
      " [ -30. -108.]]\n",
      "bhhh = [[ 9900.  9720.]\n",
      " [ 9720. 11664.]]\n"
     ]
    }
   ],
   "source": [
    "f, g, h, bhhh = myBiogeme.\\\n",
    "    calculateLikelihoodAndDerivatives(xplus,\n",
    "                                      scaled=True,\n",
    "                                      hessian=True,\n",
    "                                      bhhh=True)\n",
    "print(f'f = {f}')\n",
    "print(f'g = {g}')\n",
    "print(f'h = {h}')\n",
    "print(f'bhhh = {bhhh}')"
   ]
  },
  {
   "cell_type": "markdown",
   "metadata": {},
   "source": [
    "Now the unscaled version"
   ]
  },
  {
   "cell_type": "code",
   "execution_count": 17,
   "metadata": {},
   "outputs": [
    {
     "name": "stderr",
     "output_type": "stream",
     "text": [
      "[DEBUG] 2023-04-14 10:26:15,605 Log likelihood (N = 5):       -555 Gradient norm:      7e+02 Hessian norm:       1e+03 BHHH norm:       1e+05 <biogeme.py:919>\n"
     ]
    },
    {
     "name": "stdout",
     "output_type": "stream",
     "text": [
      "f = -555.0\n",
      "g = [-450. -540.]\n",
      "h = [[-1350.  -150.]\n",
      " [ -150.  -540.]]\n",
      "bhhh = [[49500. 48600.]\n",
      " [48600. 58320.]]\n"
     ]
    }
   ],
   "source": [
    "f, g, h, bhhh = myBiogeme.\\\n",
    "    calculateLikelihoodAndDerivatives(xplus,\n",
    "                                      scaled=False,\n",
    "                                      hessian=True,\n",
    "                                      bhhh=True)\n",
    "print(f'f = {f}')\n",
    "print(f'g = {g}')\n",
    "print(f'h = {h}')\n",
    "print(f'bhhh = {bhhh}')"
   ]
  },
  {
   "cell_type": "markdown",
   "metadata": {},
   "source": [
    "Using only a sample of the data"
   ]
  },
  {
   "cell_type": "code",
   "execution_count": 18,
   "metadata": {},
   "outputs": [
    {
     "name": "stderr",
     "output_type": "stream",
     "text": [
      "[DEBUG] 2023-04-14 10:26:15,608 Log likelihood (N = 5):       -555 Gradient norm:      7e+02 Hessian norm:       1e+03 BHHH norm:       1e+05 <biogeme.py:919>\n"
     ]
    },
    {
     "name": "stdout",
     "output_type": "stream",
     "text": [
      "f = -111.0\n",
      "g = [ -90. -108.]\n",
      "h = [[-270.  -30.]\n",
      " [ -30. -108.]]\n",
      "bhhh = [[ 9900.  9720.]\n",
      " [ 9720. 11664.]]\n"
     ]
    }
   ],
   "source": [
    "f, g, h, bhhh = myBiogeme.\\\n",
    "    calculateLikelihoodAndDerivatives(xplus,\n",
    "                                      scaled=True,\n",
    "                                      hessian=True,\n",
    "                                      bhhh=True)\n",
    "print(f'f = {f}')\n",
    "print(f'g = {g}')\n",
    "print(f'h = {h}')\n",
    "print(f'bhhh = {bhhh}')"
   ]
  },
  {
   "cell_type": "markdown",
   "metadata": {},
   "source": [
    "## likelihoodFiniteDifferenceHessian"
   ]
  },
  {
   "cell_type": "code",
   "execution_count": 19,
   "metadata": {},
   "outputs": [
    {
     "name": "stderr",
     "output_type": "stream",
     "text": [
      "[DEBUG] 2023-04-14 10:26:15,611 Log likelihood (N = 5):       -555 Gradient norm:      7e+02   <biogeme.py:919>\n",
      "[DEBUG] 2023-04-14 10:26:15,612 Log likelihood (N = 5):       -555 Gradient norm:      7e+02   <biogeme.py:919>\n",
      "[DEBUG] 2023-04-14 10:26:15,613 Log likelihood (N = 5):  -555.0002 Gradient norm:      7e+02   <biogeme.py:919>\n"
     ]
    },
    {
     "data": {
      "text/plain": [
       "array([[-1380.00020229,  -150.        ],\n",
       "       [ -150.0000451 ,  -540.00005396]])"
      ]
     },
     "execution_count": 19,
     "metadata": {},
     "output_type": "execute_result"
    }
   ],
   "source": [
    "myBiogeme.likelihoodFiniteDifferenceHessian(xplus)"
   ]
  },
  {
   "cell_type": "markdown",
   "metadata": {},
   "source": [
    "## checkDerivatives"
   ]
  },
  {
   "cell_type": "code",
   "execution_count": 20,
   "metadata": {},
   "outputs": [
    {
     "name": "stderr",
     "output_type": "stream",
     "text": [
      "[DEBUG] 2023-04-14 10:26:15,616 Log likelihood (N = 5):       -555 Gradient norm:      7e+02 Hessian norm:       1e+03  <biogeme.py:919>\n",
      "[DEBUG] 2023-04-14 10:26:15,616 Log likelihood (N = 5):       -555 Gradient norm:      7e+02 Hessian norm:       1e+03  <biogeme.py:919>\n",
      "[DEBUG] 2023-04-14 10:26:15,617 Log likelihood (N = 5):       -555 Gradient norm:      7e+02 Hessian norm:       1e+03  <biogeme.py:919>\n",
      "[DEBUG] 2023-04-14 10:26:15,617 Log likelihood (N = 5):  -555.0002 Gradient norm:      7e+02 Hessian norm:       1e+03  <biogeme.py:919>\n",
      "[DEBUG] 2023-04-14 10:26:15,617 Log likelihood (N = 5):       -555 Gradient norm:      7e+02 Hessian norm:       1e+03  <biogeme.py:919>\n",
      "[DEBUG] 2023-04-14 10:26:15,618 Log likelihood (N = 5):       -555 Gradient norm:      7e+02 Hessian norm:       1e+03  <biogeme.py:919>\n",
      "[DEBUG] 2023-04-14 10:26:15,618 Log likelihood (N = 5):  -555.0002 Gradient norm:      7e+02 Hessian norm:       1e+03  <biogeme.py:919>\n"
     ]
    }
   ],
   "source": [
    "f, g, h, gdiff, hdiff = myBiogeme.checkDerivatives(xplus, verbose=True)"
   ]
  },
  {
   "cell_type": "code",
   "execution_count": 21,
   "metadata": {},
   "outputs": [
    {
     "name": "stdout",
     "output_type": "stream",
     "text": [
      "f = -555.0\n",
      "g = [-450. -540.]\n",
      "h = [[-1350.  -150.]\n",
      " [ -150.  -540.]]\n",
      "gdiff = [6.93496986e-05 8.08701104e-05]\n",
      "hdiff = [[3.00002023e+01 2.42550868e-10]\n",
      " [4.50960215e-05 5.39642255e-05]]\n"
     ]
    },
    {
     "data": {
      "text/plain": [
       "array([[3.00002023e+01, 2.42550868e-10],\n",
       "       [4.50960215e-05, 5.39642255e-05]])"
      ]
     },
     "execution_count": 21,
     "metadata": {},
     "output_type": "execute_result"
    }
   ],
   "source": [
    "print(f'f = {f}')\n",
    "print(f'g = {g}')\n",
    "print(f'h = {h}')\n",
    "print(f'gdiff = {gdiff}')\n",
    "print(f'hdiff = {hdiff}')\n",
    "hdiff"
   ]
  },
  {
   "cell_type": "markdown",
   "metadata": {},
   "source": [
    "## estimate"
   ]
  },
  {
   "cell_type": "markdown",
   "metadata": {},
   "source": [
    "During estimation, it is possible to save intermediate results, in case the estimation must be interrupted. "
   ]
  },
  {
   "cell_type": "code",
   "execution_count": 22,
   "metadata": {},
   "outputs": [
    {
     "name": "stderr",
     "output_type": "stream",
     "text": [
      "[INFO] 2023-04-14 10:26:15,623 *** Initial values of the parameters are obtained from the file __simpleExample.iter <biogeme.py:1252>\n",
      "[INFO] 2023-04-14 10:26:15,624 Parameter values restored from __simpleExample.iter <biogeme.py:1035>\n",
      "[DEBUG] 2023-04-14 10:26:15,624 Log likelihood (N = 5):       -555 <biogeme.py:837>\n",
      "[DEBUG] 2023-04-14 10:26:15,624 Run simple_bounds <biogeme.py:1494>\n",
      "[INFO] 2023-04-14 10:26:15,624 ** Optimization: Newton with trust region for simple bounds <optimization.py:464>\n",
      "[DEBUG] 2023-04-14 10:26:15,625 Log likelihood (N = 5):       -555 Gradient norm:      7e+02 Hessian norm:       1e+03  <biogeme.py:919>\n",
      "[DEBUG] 2023-04-14 10:26:15,625 Log likelihood (N = 5):  -184.9275 <biogeme.py:837>\n",
      "[DEBUG] 2023-04-14 10:26:15,626 Log likelihood (N = 5):  -184.9275 Gradient norm:      2e+02 Hessian norm:       5e+02  <biogeme.py:919>\n",
      "[DEBUG] 2023-04-14 10:26:15,626 1 f=  36.98549 projected rel. grad.= 0.094 rel. change=  0.45 delta= 1e+03 rho=   1.2 ++ <algorithms.py:2013>\n",
      "[DEBUG] 2023-04-14 10:26:15,626 Log likelihood (N = 5):  -92.85155 <biogeme.py:837>\n",
      "[DEBUG] 2023-04-14 10:26:15,627 Log likelihood (N = 5):  -92.85155 Gradient norm:      8e+01 Hessian norm:       2e+02  <biogeme.py:919>\n",
      "[DEBUG] 2023-04-14 10:26:15,627 2 f=  18.57031 projected rel. grad.= 0.063 rel. change=  0.37 delta= 1e+04 rho=   1.2 ++ <algorithms.py:2013>\n",
      "[DEBUG] 2023-04-14 10:26:15,627 Log likelihood (N = 5):  -69.69244 <biogeme.py:837>\n",
      "[DEBUG] 2023-04-14 10:26:15,628 Log likelihood (N = 5):  -69.69244 Gradient norm:      2e+01 Hessian norm:       2e+02  <biogeme.py:919>\n",
      "[DEBUG] 2023-04-14 10:26:15,628 3 f=  13.93849 projected rel. grad.= 0.018 rel. change=  0.41 delta= 1e+05 rho=   1.2 ++ <algorithms.py:2013>\n",
      "[DEBUG] 2023-04-14 10:26:15,629 Log likelihood (N = 5):  -67.10013 <biogeme.py:837>\n",
      "[DEBUG] 2023-04-14 10:26:15,629 Log likelihood (N = 5):  -67.10013 Gradient norm:          2 Hessian norm:       2e+02  <biogeme.py:919>\n",
      "[DEBUG] 2023-04-14 10:26:15,629 4 f=  13.42003 projected rel. grad.=0.0049 rel. change=  0.17 delta= 1e+06 rho=   1.1 ++ <algorithms.py:2013>\n",
      "[DEBUG] 2023-04-14 10:26:15,630 Log likelihood (N = 5):   -67.0655 <biogeme.py:837>\n",
      "[DEBUG] 2023-04-14 10:26:15,630 Log likelihood (N = 5):   -67.0655 Gradient norm:       0.03 Hessian norm:       2e+02  <biogeme.py:919>\n",
      "[DEBUG] 2023-04-14 10:26:15,631 5 f=   13.4131 projected rel. grad.=6.8e-05 rel. change= 0.023 delta= 1e+07 rho=     1 ++ <algorithms.py:2013>\n",
      "[DEBUG] 2023-04-14 10:26:15,631 Log likelihood (N = 5):  -67.06549 <biogeme.py:837>\n",
      "[DEBUG] 2023-04-14 10:26:15,631 Log likelihood (N = 5):  -67.06549 Gradient norm:      5e-06 Hessian norm:       2e+02  <biogeme.py:919>\n",
      "[DEBUG] 2023-04-14 10:26:15,632 6 f=   13.4131 projected rel. grad.=1.2e-08 rel. change=0.00032 delta= 1e+08 rho=     1 ++ <algorithms.py:2013>\n",
      "[INFO] 2023-04-14 10:26:15,632 Proportion of Hessian calculation: 100.0% <algorithms.py:2024>\n",
      "[DEBUG] 2023-04-14 10:26:15,632 Log likelihood (N = 5):  -67.06549 Gradient norm:      5e-06 Hessian norm:       2e+02 BHHH norm:       7e+01 <biogeme.py:919>\n",
      "[INFO] 2023-04-14 10:26:15,633 Re-estimate the model 10 times for bootstrapping <biogeme.py:1299>\n",
      "  0%|                                                                                                                                                                                                                                                                                                                                                | 0/10 [00:00<?, ?it/s][INFO] 2023-04-14 10:26:15,643 ** Optimization: Newton with trust region for simple bounds <optimization.py:464>\n",
      "[DEBUG] 2023-04-14 10:26:15,645 1 f=  9.612833 projected rel. grad.= 0.012 rel. change= 0.092 delta= 1e+03 rho=     1 ++ <algorithms.py:2013>\n",
      "[DEBUG] 2023-04-14 10:26:15,646 2 f=  9.612592 projected rel. grad.=2.1e-05 rel. change= 0.004 delta= 1e+04 rho=     1 ++ <algorithms.py:2013>\n",
      "[DEBUG] 2023-04-14 10:26:15,646 3 f=  9.612592 projected rel. grad.=2.4e-07 rel. change=6.6e-06 delta= 1e+05 rho=     1 ++ <algorithms.py:2013>\n",
      "[INFO] 2023-04-14 10:26:15,646 Proportion of Hessian calculation: 100.0% <algorithms.py:2024>\n",
      "[INFO] 2023-04-14 10:26:15,647 ** Optimization: Newton with trust region for simple bounds <optimization.py:464>\n",
      "[DEBUG] 2023-04-14 10:26:15,648 1 f=  11.92846 projected rel. grad.=0.0013 rel. change= 0.032 delta= 1e+03 rho=     1 ++ <algorithms.py:2013>\n",
      "[DEBUG] 2023-04-14 10:26:15,649 2 f=  11.92846 projected rel. grad.=2.1e-07 rel. change=0.00042 delta= 1e+04 rho=     1 ++ <algorithms.py:2013>\n",
      "[INFO] 2023-04-14 10:26:15,649 Proportion of Hessian calculation: 100.0% <algorithms.py:2024>\n",
      "[INFO] 2023-04-14 10:26:15,649 ** Optimization: Newton with trust region for simple bounds <optimization.py:464>\n",
      "[INFO] 2023-04-14 10:26:15,650 ** Optimization: Newton with trust region for simple bounds <optimization.py:464>\n",
      "[DEBUG] 2023-04-14 10:26:15,651 1 f=  18.33408 projected rel. grad.=0.0055 rel. change= 0.083 delta= 1e+03 rho=  0.99 ++ <algorithms.py:2013>\n",
      "[DEBUG] 2023-04-14 10:26:15,652 2 f=    18.334 projected rel. grad.=2.9e-06 rel. change=0.0016 delta= 1e+04 rho=     1 ++ <algorithms.py:2013>\n",
      "[INFO] 2023-04-14 10:26:15,652 Proportion of Hessian calculation: 100.0% <algorithms.py:2024>\n",
      "[INFO] 2023-04-14 10:26:15,652 ** Optimization: Newton with trust region for simple bounds <optimization.py:464>\n",
      "[DEBUG] 2023-04-14 10:26:15,654 1 f=  12.67603 projected rel. grad.=0.00029 rel. change= 0.016 delta= 1e+03 rho=     1 ++ <algorithms.py:2013>\n",
      "[DEBUG] 2023-04-14 10:26:15,654 2 f=  12.67603 projected rel. grad.= 1e-08 rel. change=9.1e-05 delta= 1e+04 rho=     1 ++ <algorithms.py:2013>\n",
      "[INFO] 2023-04-14 10:26:15,655 Proportion of Hessian calculation: 100.0% <algorithms.py:2024>\n",
      "[INFO] 2023-04-14 10:26:15,655 ** Optimization: Newton with trust region for simple bounds <optimization.py:464>\n",
      "[DEBUG] 2023-04-14 10:26:15,656 1 f=  11.92846 projected rel. grad.=0.0013 rel. change= 0.032 delta= 1e+03 rho=     1 ++ <algorithms.py:2013>\n",
      "[DEBUG] 2023-04-14 10:26:15,657 2 f=  11.92846 projected rel. grad.=2.1e-07 rel. change=0.00042 delta= 1e+04 rho=     1 ++ <algorithms.py:2013>\n",
      "[INFO] 2023-04-14 10:26:15,657 Proportion of Hessian calculation: 100.0% <algorithms.py:2024>\n",
      "[INFO] 2023-04-14 10:26:15,657 ** Optimization: Newton with trust region for simple bounds <optimization.py:464>\n",
      "[DEBUG] 2023-04-14 10:26:15,658 1 f=  10.39802 projected rel. grad.=0.0069 rel. change=  0.07 delta= 1e+03 rho=     1 ++ <algorithms.py:2013>\n",
      "[DEBUG] 2023-04-14 10:26:15,659 2 f=  10.39794 projected rel. grad.=6.2e-06 rel. change=0.0022 delta= 1e+04 rho=     1 ++ <algorithms.py:2013>\n",
      "[DEBUG] 2023-04-14 10:26:15,660 3 f=  10.39794 projected rel. grad.=1.3e-07 rel. change=1.9e-06 delta= 1e+05 rho=     1 ++ <algorithms.py:2013>\n",
      "[INFO] 2023-04-14 10:26:15,660 Proportion of Hessian calculation: 100.0% <algorithms.py:2024>\n",
      "[INFO] 2023-04-14 10:26:15,660 ** Optimization: Newton with trust region for simple bounds <optimization.py:464>\n",
      "[DEBUG] 2023-04-14 10:26:15,661 1 f=  11.92846 projected rel. grad.=0.0013 rel. change= 0.032 delta= 1e+03 rho=     1 ++ <algorithms.py:2013>\n",
      "[DEBUG] 2023-04-14 10:26:15,662 2 f=  11.92846 projected rel. grad.=2.1e-07 rel. change=0.00042 delta= 1e+04 rho=     1 ++ <algorithms.py:2013>\n",
      "[INFO] 2023-04-14 10:26:15,662 Proportion of Hessian calculation: 100.0% <algorithms.py:2024>\n",
      "[INFO] 2023-04-14 10:26:15,662 ** Optimization: Newton with trust region for simple bounds <optimization.py:464>\n",
      "[DEBUG] 2023-04-14 10:26:15,663 1 f=  11.92846 projected rel. grad.=0.0013 rel. change= 0.032 delta= 1e+03 rho=     1 ++ <algorithms.py:2013>\n",
      "[DEBUG] 2023-04-14 10:26:15,664 2 f=  11.92846 projected rel. grad.=2.1e-07 rel. change=0.00042 delta= 1e+04 rho=     1 ++ <algorithms.py:2013>\n",
      "[INFO] 2023-04-14 10:26:15,664 Proportion of Hessian calculation: 100.0% <algorithms.py:2024>\n",
      "[INFO] 2023-04-14 10:26:15,664 ** Optimization: Newton with trust region for simple bounds <optimization.py:464>\n",
      "[DEBUG] 2023-04-14 10:26:15,665 1 f=  16.27074 projected rel. grad.=0.0026 rel. change= 0.052 delta= 1e+03 rho=  0.99 ++ <algorithms.py:2013>\n",
      "[DEBUG] 2023-04-14 10:26:15,666 2 f=  16.27073 projected rel. grad.=6.8e-07 rel. change=0.00076 delta= 1e+04 rho=     1 ++ <algorithms.py:2013>\n"
     ]
    },
    {
     "name": "stderr",
     "output_type": "stream",
     "text": [
      "[INFO] 2023-04-14 10:26:15,666 Proportion of Hessian calculation: 100.0% <algorithms.py:2024>\n",
      "100%|██████████████████████████████████████████████████████████████████████████████████████████████████████████████████████████████████████████████████████████████████████████████████████████████████████████████████████████████████████████████████████████████████████████████████████████████████████████████████████████████████████| 10/10 [00:00<00:00, 418.44it/s]\n",
      "[INFO] 2023-04-14 10:26:15,671 Results saved in file simpleExample.html <results.py:1252>\n",
      "[INFO] 2023-04-14 10:26:15,672 Results saved in file simpleExample.pickle <results.py:379>\n"
     ]
    }
   ],
   "source": [
    "results = myBiogeme.estimate(bootstrap=10)"
   ]
  },
  {
   "cell_type": "code",
   "execution_count": 23,
   "metadata": {},
   "outputs": [
    {
     "data": {
      "text/html": [
       "<div>\n",
       "<style scoped>\n",
       "    .dataframe tbody tr th:only-of-type {\n",
       "        vertical-align: middle;\n",
       "    }\n",
       "\n",
       "    .dataframe tbody tr th {\n",
       "        vertical-align: top;\n",
       "    }\n",
       "\n",
       "    .dataframe thead th {\n",
       "        text-align: right;\n",
       "    }\n",
       "</style>\n",
       "<table border=\"1\" class=\"dataframe\">\n",
       "  <thead>\n",
       "    <tr style=\"text-align: right;\">\n",
       "      <th></th>\n",
       "      <th>Value</th>\n",
       "      <th>Rob. Std err</th>\n",
       "      <th>Rob. t-test</th>\n",
       "      <th>Rob. p-value</th>\n",
       "    </tr>\n",
       "  </thead>\n",
       "  <tbody>\n",
       "    <tr>\n",
       "      <th>beta1</th>\n",
       "      <td>-1.273264</td>\n",
       "      <td>0.013724</td>\n",
       "      <td>-92.776769</td>\n",
       "      <td>0.0</td>\n",
       "    </tr>\n",
       "    <tr>\n",
       "      <th>beta2</th>\n",
       "      <td>1.248769</td>\n",
       "      <td>0.059086</td>\n",
       "      <td>21.134795</td>\n",
       "      <td>0.0</td>\n",
       "    </tr>\n",
       "  </tbody>\n",
       "</table>\n",
       "</div>"
      ],
      "text/plain": [
       "          Value  Rob. Std err  Rob. t-test  Rob. p-value\n",
       "beta1 -1.273264      0.013724   -92.776769           0.0\n",
       "beta2  1.248769      0.059086    21.134795           0.0"
      ]
     },
     "execution_count": 23,
     "metadata": {},
     "output_type": "execute_result"
    }
   ],
   "source": [
    "results.getEstimatedParameters()"
   ]
  },
  {
   "cell_type": "markdown",
   "metadata": {},
   "source": [
    "If the model has already been estimated, it is possible to recycle the estimation results. In that case, the other arguments are ignored, and the results are whatever is in the file."
   ]
  },
  {
   "cell_type": "code",
   "execution_count": 24,
   "metadata": {},
   "outputs": [
    {
     "name": "stderr",
     "output_type": "stream",
     "text": [
      "[WARNING] 2023-04-14 10:26:15,685 Estimation results read from simpleExample.pickle. There is no guarantee that they correspond to the specified model. <biogeme.py:1236>\n"
     ]
    }
   ],
   "source": [
    "recycled_results = myBiogeme.estimate(recycle=True, bootstrap=10)"
   ]
  },
  {
   "cell_type": "code",
   "execution_count": 25,
   "metadata": {},
   "outputs": [
    {
     "name": "stdout",
     "output_type": "stream",
     "text": [
      "Results for model simpleExample\n",
      "Nbr of parameters:\t\t2\n",
      "Sample size:\t\t\t5\n",
      "Excluded data:\t\t\t0\n",
      "Final log likelihood:\t\t-67.06549\n",
      "Akaike Information Criterion:\t138.131\n",
      "Bayesian Information Criterion:\t137.3499\n",
      "\n"
     ]
    }
   ],
   "source": [
    "print(recycled_results.shortSummary())"
   ]
  },
  {
   "cell_type": "code",
   "execution_count": 26,
   "metadata": {},
   "outputs": [
    {
     "data": {
      "text/html": [
       "<div>\n",
       "<style scoped>\n",
       "    .dataframe tbody tr th:only-of-type {\n",
       "        vertical-align: middle;\n",
       "    }\n",
       "\n",
       "    .dataframe tbody tr th {\n",
       "        vertical-align: top;\n",
       "    }\n",
       "\n",
       "    .dataframe thead th {\n",
       "        text-align: right;\n",
       "    }\n",
       "</style>\n",
       "<table border=\"1\" class=\"dataframe\">\n",
       "  <thead>\n",
       "    <tr style=\"text-align: right;\">\n",
       "      <th></th>\n",
       "      <th>Value</th>\n",
       "      <th>Rob. Std err</th>\n",
       "      <th>Rob. t-test</th>\n",
       "      <th>Rob. p-value</th>\n",
       "    </tr>\n",
       "  </thead>\n",
       "  <tbody>\n",
       "    <tr>\n",
       "      <th>beta1</th>\n",
       "      <td>-1.273264</td>\n",
       "      <td>0.013724</td>\n",
       "      <td>-92.776769</td>\n",
       "      <td>0.0</td>\n",
       "    </tr>\n",
       "    <tr>\n",
       "      <th>beta2</th>\n",
       "      <td>1.248769</td>\n",
       "      <td>0.059086</td>\n",
       "      <td>21.134795</td>\n",
       "      <td>0.0</td>\n",
       "    </tr>\n",
       "  </tbody>\n",
       "</table>\n",
       "</div>"
      ],
      "text/plain": [
       "          Value  Rob. Std err  Rob. t-test  Rob. p-value\n",
       "beta1 -1.273264      0.013724   -92.776769           0.0\n",
       "beta2  1.248769      0.059086    21.134795           0.0"
      ]
     },
     "execution_count": 26,
     "metadata": {},
     "output_type": "execute_result"
    }
   ],
   "source": [
    "recycled_results.getEstimatedParameters()"
   ]
  },
  {
   "cell_type": "markdown",
   "metadata": {},
   "source": [
    "## simulate"
   ]
  },
  {
   "cell_type": "markdown",
   "metadata": {},
   "source": [
    "Simulate with the default values for the parameters"
   ]
  },
  {
   "cell_type": "code",
   "execution_count": 27,
   "metadata": {},
   "outputs": [
    {
     "data": {
      "text/html": [
       "<div>\n",
       "<style scoped>\n",
       "    .dataframe tbody tr th:only-of-type {\n",
       "        vertical-align: middle;\n",
       "    }\n",
       "\n",
       "    .dataframe tbody tr th {\n",
       "        vertical-align: top;\n",
       "    }\n",
       "\n",
       "    .dataframe thead th {\n",
       "        text-align: right;\n",
       "    }\n",
       "</style>\n",
       "<table border=\"1\" class=\"dataframe\">\n",
       "  <thead>\n",
       "    <tr style=\"text-align: right;\">\n",
       "      <th></th>\n",
       "      <th>loglike</th>\n",
       "      <th>beta1</th>\n",
       "      <th>simul</th>\n",
       "    </tr>\n",
       "  </thead>\n",
       "  <tbody>\n",
       "    <tr>\n",
       "      <th>0</th>\n",
       "      <td>-111.0</td>\n",
       "      <td>0.0</td>\n",
       "      <td>0.100</td>\n",
       "    </tr>\n",
       "    <tr>\n",
       "      <th>1</th>\n",
       "      <td>-111.0</td>\n",
       "      <td>0.0</td>\n",
       "      <td>0.100</td>\n",
       "    </tr>\n",
       "    <tr>\n",
       "      <th>2</th>\n",
       "      <td>-121.0</td>\n",
       "      <td>0.0</td>\n",
       "      <td>0.075</td>\n",
       "    </tr>\n",
       "    <tr>\n",
       "      <th>3</th>\n",
       "      <td>-131.0</td>\n",
       "      <td>0.0</td>\n",
       "      <td>0.060</td>\n",
       "    </tr>\n",
       "    <tr>\n",
       "      <th>4</th>\n",
       "      <td>-121.0</td>\n",
       "      <td>0.0</td>\n",
       "      <td>0.075</td>\n",
       "    </tr>\n",
       "  </tbody>\n",
       "</table>\n",
       "</div>"
      ],
      "text/plain": [
       "   loglike  beta1  simul\n",
       "0   -111.0    0.0  0.100\n",
       "1   -111.0    0.0  0.100\n",
       "2   -121.0    0.0  0.075\n",
       "3   -131.0    0.0  0.060\n",
       "4   -121.0    0.0  0.075"
      ]
     },
     "execution_count": 27,
     "metadata": {},
     "output_type": "execute_result"
    }
   ],
   "source": [
    "simulationWithDefaultBetas = myBiogeme.simulate(myBiogeme.loglike.get_beta_values())\n",
    "simulationWithDefaultBetas"
   ]
  },
  {
   "cell_type": "markdown",
   "metadata": {},
   "source": [
    "Simulate with the estimated values for the parameters"
   ]
  },
  {
   "cell_type": "code",
   "execution_count": 28,
   "metadata": {},
   "outputs": [
    {
     "name": "stdout",
     "output_type": "stream",
     "text": [
      "{'beta1': -1.273263915009374, 'beta2': 1.248768825523196}\n"
     ]
    },
    {
     "data": {
      "text/html": [
       "<div>\n",
       "<style scoped>\n",
       "    .dataframe tbody tr th:only-of-type {\n",
       "        vertical-align: middle;\n",
       "    }\n",
       "\n",
       "    .dataframe tbody tr th {\n",
       "        vertical-align: top;\n",
       "    }\n",
       "\n",
       "    .dataframe thead th {\n",
       "        text-align: right;\n",
       "    }\n",
       "</style>\n",
       "<table border=\"1\" class=\"dataframe\">\n",
       "  <thead>\n",
       "    <tr style=\"text-align: right;\">\n",
       "      <th></th>\n",
       "      <th>loglike</th>\n",
       "      <th>beta1</th>\n",
       "      <th>simul</th>\n",
       "    </tr>\n",
       "  </thead>\n",
       "  <tbody>\n",
       "    <tr>\n",
       "      <th>0</th>\n",
       "      <td>-13.413098</td>\n",
       "      <td>-1.273264</td>\n",
       "      <td>-0.382796</td>\n",
       "    </tr>\n",
       "    <tr>\n",
       "      <th>1</th>\n",
       "      <td>-13.413098</td>\n",
       "      <td>-1.273264</td>\n",
       "      <td>-0.382796</td>\n",
       "    </tr>\n",
       "    <tr>\n",
       "      <th>2</th>\n",
       "      <td>-17.073530</td>\n",
       "      <td>-1.273264</td>\n",
       "      <td>-0.287097</td>\n",
       "    </tr>\n",
       "    <tr>\n",
       "      <th>3</th>\n",
       "      <td>-20.733962</td>\n",
       "      <td>-1.273264</td>\n",
       "      <td>-0.229677</td>\n",
       "    </tr>\n",
       "    <tr>\n",
       "      <th>4</th>\n",
       "      <td>-17.073530</td>\n",
       "      <td>-1.273264</td>\n",
       "      <td>-0.287097</td>\n",
       "    </tr>\n",
       "  </tbody>\n",
       "</table>\n",
       "</div>"
      ],
      "text/plain": [
       "     loglike     beta1     simul\n",
       "0 -13.413098 -1.273264 -0.382796\n",
       "1 -13.413098 -1.273264 -0.382796\n",
       "2 -17.073530 -1.273264 -0.287097\n",
       "3 -20.733962 -1.273264 -0.229677\n",
       "4 -17.073530 -1.273264 -0.287097"
      ]
     },
     "execution_count": 28,
     "metadata": {},
     "output_type": "execute_result"
    }
   ],
   "source": [
    "print(results.getBetaValues())\n",
    "simulationWithEstimatedBetas =\\\n",
    "    myBiogeme.simulate(results.getBetaValues())\n",
    "simulationWithEstimatedBetas"
   ]
  },
  {
   "cell_type": "markdown",
   "metadata": {},
   "source": [
    "## confidenceIntervals"
   ]
  },
  {
   "cell_type": "code",
   "execution_count": 29,
   "metadata": {},
   "outputs": [
    {
     "data": {
      "text/html": [
       "<div>\n",
       "<style scoped>\n",
       "    .dataframe tbody tr th:only-of-type {\n",
       "        vertical-align: middle;\n",
       "    }\n",
       "\n",
       "    .dataframe tbody tr th {\n",
       "        vertical-align: top;\n",
       "    }\n",
       "\n",
       "    .dataframe thead th {\n",
       "        text-align: right;\n",
       "    }\n",
       "</style>\n",
       "<table border=\"1\" class=\"dataframe\">\n",
       "  <thead>\n",
       "    <tr style=\"text-align: right;\">\n",
       "      <th></th>\n",
       "      <th>loglike</th>\n",
       "      <th>beta1</th>\n",
       "      <th>simul</th>\n",
       "    </tr>\n",
       "  </thead>\n",
       "  <tbody>\n",
       "    <tr>\n",
       "      <th>0</th>\n",
       "      <td>-13.583391</td>\n",
       "      <td>-1.295608</td>\n",
       "      <td>-0.393516</td>\n",
       "    </tr>\n",
       "    <tr>\n",
       "      <th>1</th>\n",
       "      <td>-13.583391</td>\n",
       "      <td>-1.295608</td>\n",
       "      <td>-0.393516</td>\n",
       "    </tr>\n",
       "    <tr>\n",
       "      <th>2</th>\n",
       "      <td>-17.477827</td>\n",
       "      <td>-1.295608</td>\n",
       "      <td>-0.295137</td>\n",
       "    </tr>\n",
       "    <tr>\n",
       "      <th>3</th>\n",
       "      <td>-21.408836</td>\n",
       "      <td>-1.295608</td>\n",
       "      <td>-0.236110</td>\n",
       "    </tr>\n",
       "    <tr>\n",
       "      <th>4</th>\n",
       "      <td>-17.477827</td>\n",
       "      <td>-1.295608</td>\n",
       "      <td>-0.295137</td>\n",
       "    </tr>\n",
       "  </tbody>\n",
       "</table>\n",
       "</div>"
      ],
      "text/plain": [
       "     loglike     beta1     simul\n",
       "0 -13.583391 -1.295608 -0.393516\n",
       "1 -13.583391 -1.295608 -0.393516\n",
       "2 -17.477827 -1.295608 -0.295137\n",
       "3 -21.408836 -1.295608 -0.236110\n",
       "4 -17.477827 -1.295608 -0.295137"
      ]
     },
     "execution_count": 29,
     "metadata": {},
     "output_type": "execute_result"
    }
   ],
   "source": [
    "drawsFromBetas =\\\n",
    "    results.getBetasForSensitivityAnalysis(myBiogeme.id_manager.free_betas.names)\n",
    "left, right = myBiogeme.confidenceIntervals(drawsFromBetas)\n",
    "left"
   ]
  },
  {
   "cell_type": "code",
   "execution_count": 30,
   "metadata": {},
   "outputs": [
    {
     "data": {
      "text/html": [
       "<div>\n",
       "<style scoped>\n",
       "    .dataframe tbody tr th:only-of-type {\n",
       "        vertical-align: middle;\n",
       "    }\n",
       "\n",
       "    .dataframe tbody tr th {\n",
       "        vertical-align: top;\n",
       "    }\n",
       "\n",
       "    .dataframe thead th {\n",
       "        text-align: right;\n",
       "    }\n",
       "</style>\n",
       "<table border=\"1\" class=\"dataframe\">\n",
       "  <thead>\n",
       "    <tr style=\"text-align: right;\">\n",
       "      <th></th>\n",
       "      <th>loglike</th>\n",
       "      <th>beta1</th>\n",
       "      <th>simul</th>\n",
       "    </tr>\n",
       "  </thead>\n",
       "  <tbody>\n",
       "    <tr>\n",
       "      <th>0</th>\n",
       "      <td>-13.415398</td>\n",
       "      <td>-1.251738</td>\n",
       "      <td>-0.372564</td>\n",
       "    </tr>\n",
       "    <tr>\n",
       "      <th>1</th>\n",
       "      <td>-13.415398</td>\n",
       "      <td>-1.251738</td>\n",
       "      <td>-0.372564</td>\n",
       "    </tr>\n",
       "    <tr>\n",
       "      <th>2</th>\n",
       "      <td>-16.973184</td>\n",
       "      <td>-1.251738</td>\n",
       "      <td>-0.279423</td>\n",
       "    </tr>\n",
       "    <tr>\n",
       "      <th>3</th>\n",
       "      <td>-20.409226</td>\n",
       "      <td>-1.251738</td>\n",
       "      <td>-0.223538</td>\n",
       "    </tr>\n",
       "    <tr>\n",
       "      <th>4</th>\n",
       "      <td>-16.973184</td>\n",
       "      <td>-1.251738</td>\n",
       "      <td>-0.279423</td>\n",
       "    </tr>\n",
       "  </tbody>\n",
       "</table>\n",
       "</div>"
      ],
      "text/plain": [
       "     loglike     beta1     simul\n",
       "0 -13.415398 -1.251738 -0.372564\n",
       "1 -13.415398 -1.251738 -0.372564\n",
       "2 -16.973184 -1.251738 -0.279423\n",
       "3 -20.409226 -1.251738 -0.223538\n",
       "4 -16.973184 -1.251738 -0.279423"
      ]
     },
     "execution_count": 30,
     "metadata": {},
     "output_type": "execute_result"
    }
   ],
   "source": [
    "right"
   ]
  },
  {
   "cell_type": "markdown",
   "metadata": {},
   "source": [
    "## validate"
   ]
  },
  {
   "cell_type": "markdown",
   "metadata": {},
   "source": [
    "The validation consists in organizing the data into several slices of about the same size, randomly defined. \n",
    "Each slide is considered as a validation dataset. The model is then re-estimated using all the data except the slice, and the estimated model is applied on the validation set (i.e. the slice). The value of the log likelihood for each observation in the validation set is reported in a dataframe. As this is done for each slice, the output is a list of dataframes, each corresponding to one of these exercises.   "
   ]
  },
  {
   "cell_type": "code",
   "execution_count": 31,
   "metadata": {},
   "outputs": [
    {
     "name": "stderr",
     "output_type": "stream",
     "text": [
      "[INFO] 2023-04-14 10:26:15,721 Parameters read from biogeme.toml <toml.py:58>\n",
      "[INFO] 2023-04-14 10:26:15,760 *** Initial values of the parameters are obtained from the file __simpleExample_val_est_1.iter <biogeme.py:1252>\n",
      "[INFO] 2023-04-14 10:26:15,760 Cannot read file __simpleExample_val_est_1.iter. Statement is ignored. <biogeme.py:1037>\n",
      "[DEBUG] 2023-04-14 10:26:15,761 Log likelihood (N = 4):  -49.99196 <biogeme.py:837>\n",
      "[DEBUG] 2023-04-14 10:26:15,761 Run simple_bounds <biogeme.py:1494>\n",
      "[INFO] 2023-04-14 10:26:15,761 ** Optimization: Newton with trust region for simple bounds <optimization.py:464>\n",
      "[DEBUG] 2023-04-14 10:26:15,761 Log likelihood (N = 4):  -49.99196 Gradient norm:          3 Hessian norm:       1e+02  <biogeme.py:919>\n",
      "[DEBUG] 2023-04-14 10:26:15,762 Log likelihood (N = 4):  -49.96064 <biogeme.py:837>\n",
      "[DEBUG] 2023-04-14 10:26:15,763 Log likelihood (N = 4):  -49.96064 Gradient norm:       0.02 Hessian norm:       1e+02  <biogeme.py:919>\n",
      "[DEBUG] 2023-04-14 10:26:15,763 1 f=  12.49016 projected rel. grad.=0.00048 rel. change=  0.02 delta= 1e+03 rho=     1 ++ <algorithms.py:2013>\n",
      "[DEBUG] 2023-04-14 10:26:15,764 Log likelihood (N = 4):  -49.96063 <biogeme.py:837>\n",
      "[DEBUG] 2023-04-14 10:26:15,764 Log likelihood (N = 4):  -49.96063 Gradient norm:      1e-06 Hessian norm:       1e+02  <biogeme.py:919>\n",
      "[DEBUG] 2023-04-14 10:26:15,764 2 f=  12.49016 projected rel. grad.=2.6e-08 rel. change=0.00015 delta= 1e+04 rho=     1 ++ <algorithms.py:2013>\n",
      "[INFO] 2023-04-14 10:26:15,765 Proportion of Hessian calculation: 100.0% <algorithms.py:2024>\n",
      "[DEBUG] 2023-04-14 10:26:15,765 Log likelihood (N = 4):  -49.96063 Gradient norm:      1e-06 Hessian norm:       1e+02 BHHH norm:       6e+01 <biogeme.py:919>\n",
      "[INFO] 2023-04-14 10:26:15,769 Results saved in file simpleExample_val_est_1.html <results.py:1252>\n",
      "[INFO] 2023-04-14 10:26:15,769 Results saved in file simpleExample_val_est_1.pickle <results.py:379>\n",
      "[INFO] 2023-04-14 10:26:15,770 Parameters read from biogeme.toml <toml.py:58>\n",
      "[INFO] 2023-04-14 10:26:15,775 Parameters read from biogeme.toml <toml.py:58>\n",
      "[INFO] 2023-04-14 10:26:15,779 *** Initial values of the parameters are obtained from the file __simpleExample_val_est_2.iter <biogeme.py:1252>\n",
      "[INFO] 2023-04-14 10:26:15,780 Cannot read file __simpleExample_val_est_2.iter. Statement is ignored. <biogeme.py:1037>\n",
      "[DEBUG] 2023-04-14 10:26:15,780 Log likelihood (N = 4):  -60.97326 <biogeme.py:837>\n",
      "[DEBUG] 2023-04-14 10:26:15,780 Run simple_bounds <biogeme.py:1494>\n",
      "[INFO] 2023-04-14 10:26:15,780 ** Optimization: Newton with trust region for simple bounds <optimization.py:464>\n",
      "[DEBUG] 2023-04-14 10:26:15,781 Log likelihood (N = 4):  -60.97326 Gradient norm:          5 Hessian norm:       1e+02  <biogeme.py:919>\n",
      "[DEBUG] 2023-04-14 10:26:15,781 Log likelihood (N = 4):  -60.85905 <biogeme.py:837>\n",
      "[DEBUG] 2023-04-14 10:26:15,782 Log likelihood (N = 4):  -60.85905 Gradient norm:       0.06 Hessian norm:       1e+02  <biogeme.py:919>\n",
      "[DEBUG] 2023-04-14 10:26:15,782 1 f=  15.21476 projected rel. grad.=0.0012 rel. change= 0.034 delta= 1e+03 rho=  0.99 ++ <algorithms.py:2013>\n",
      "[DEBUG] 2023-04-14 10:26:15,783 Log likelihood (N = 4):  -60.85903 <biogeme.py:837>\n",
      "[DEBUG] 2023-04-14 10:26:15,783 Log likelihood (N = 4):  -60.85903 Gradient norm:      7e-06 Hessian norm:       1e+02  <biogeme.py:919>\n",
      "[DEBUG] 2023-04-14 10:26:15,783 2 f=  15.21476 projected rel. grad.=1.5e-07 rel. change=0.00036 delta= 1e+04 rho=     1 ++ <algorithms.py:2013>\n",
      "[INFO] 2023-04-14 10:26:15,784 Proportion of Hessian calculation: 100.0% <algorithms.py:2024>\n",
      "[DEBUG] 2023-04-14 10:26:15,784 Log likelihood (N = 4):  -60.85903 Gradient norm:      7e-06 Hessian norm:       1e+02 BHHH norm:       3e+01 <biogeme.py:919>\n",
      "[INFO] 2023-04-14 10:26:15,787 Results saved in file simpleExample_val_est_2.html <results.py:1252>\n",
      "[INFO] 2023-04-14 10:26:15,788 Results saved in file simpleExample_val_est_2.pickle <results.py:379>\n",
      "[INFO] 2023-04-14 10:26:15,788 Parameters read from biogeme.toml <toml.py:58>\n",
      "[INFO] 2023-04-14 10:26:15,794 Parameters read from biogeme.toml <toml.py:58>\n",
      "[INFO] 2023-04-14 10:26:15,798 *** Initial values of the parameters are obtained from the file __simpleExample_val_est_3.iter <biogeme.py:1252>\n",
      "[INFO] 2023-04-14 10:26:15,799 Cannot read file __simpleExample_val_est_3.iter. Statement is ignored. <biogeme.py:1037>\n",
      "[DEBUG] 2023-04-14 10:26:15,799 Log likelihood (N = 4):  -53.65239 <biogeme.py:837>\n",
      "[DEBUG] 2023-04-14 10:26:15,799 Run simple_bounds <biogeme.py:1494>\n",
      "[INFO] 2023-04-14 10:26:15,799 ** Optimization: Newton with trust region for simple bounds <optimization.py:464>\n",
      "[DEBUG] 2023-04-14 10:26:15,800 Log likelihood (N = 4):  -53.65239 Gradient norm:      4e-06 Hessian norm:       1e+02  <biogeme.py:919>\n",
      "[DEBUG] 2023-04-14 10:26:15,801 Log likelihood (N = 4):  -53.65239 Gradient norm:      4e-06 Hessian norm:       1e+02 BHHH norm:       7e+01 <biogeme.py:919>\n",
      "[INFO] 2023-04-14 10:26:15,804 Results saved in file simpleExample_val_est_3.html <results.py:1252>\n",
      "[INFO] 2023-04-14 10:26:15,805 Results saved in file simpleExample_val_est_3.pickle <results.py:379>\n",
      "[INFO] 2023-04-14 10:26:15,805 Parameters read from biogeme.toml <toml.py:58>\n",
      "[INFO] 2023-04-14 10:26:15,810 Parameters read from biogeme.toml <toml.py:58>\n",
      "[INFO] 2023-04-14 10:26:15,814 *** Initial values of the parameters are obtained from the file __simpleExample_val_est_4.iter <biogeme.py:1252>\n",
      "[INFO] 2023-04-14 10:26:15,815 Cannot read file __simpleExample_val_est_4.iter. Statement is ignored. <biogeme.py:1037>\n",
      "[DEBUG] 2023-04-14 10:26:15,815 Log likelihood (N = 4):  -57.31282 <biogeme.py:837>\n",
      "[DEBUG] 2023-04-14 10:26:15,815 Run simple_bounds <biogeme.py:1494>\n",
      "[INFO] 2023-04-14 10:26:15,815 ** Optimization: Newton with trust region for simple bounds <optimization.py:464>\n",
      "[DEBUG] 2023-04-14 10:26:15,816 Log likelihood (N = 4):  -57.31282 Gradient norm:          3 Hessian norm:       1e+02  <biogeme.py:919>\n",
      "[DEBUG] 2023-04-14 10:26:15,816 Log likelihood (N = 4):  -57.28342 <biogeme.py:837>\n",
      "[DEBUG] 2023-04-14 10:26:15,817 Log likelihood (N = 4):  -57.28342 Gradient norm:       0.02 Hessian norm:       1e+02  <biogeme.py:919>\n",
      "[DEBUG] 2023-04-14 10:26:15,817 1 f=  14.32086 projected rel. grad.=0.00035 rel. change= 0.018 delta= 1e+03 rho=     1 ++ <algorithms.py:2013>\n",
      "[DEBUG] 2023-04-14 10:26:15,817 Log likelihood (N = 4):  -57.28342 <biogeme.py:837>\n",
      "[DEBUG] 2023-04-14 10:26:15,818 Log likelihood (N = 4):  -57.28342 Gradient norm:      6e-07 Hessian norm:       1e+02  <biogeme.py:919>\n",
      "[DEBUG] 2023-04-14 10:26:15,818 2 f=  14.32086 projected rel. grad.=1.3e-08 rel. change=0.00011 delta= 1e+04 rho=     1 ++ <algorithms.py:2013>\n",
      "[INFO] 2023-04-14 10:26:15,818 Proportion of Hessian calculation: 100.0% <algorithms.py:2024>\n",
      "[DEBUG] 2023-04-14 10:26:15,819 Log likelihood (N = 4):  -57.28342 Gradient norm:      6e-07 Hessian norm:       1e+02 BHHH norm:       6e+01 <biogeme.py:919>\n",
      "[INFO] 2023-04-14 10:26:15,822 Results saved in file simpleExample_val_est_4.html <results.py:1252>\n",
      "[INFO] 2023-04-14 10:26:15,822 Results saved in file simpleExample_val_est_4.pickle <results.py:379>\n",
      "[INFO] 2023-04-14 10:26:15,823 Parameters read from biogeme.toml <toml.py:58>\n",
      "[INFO] 2023-04-14 10:26:15,827 Parameters read from biogeme.toml <toml.py:58>\n",
      "[INFO] 2023-04-14 10:26:15,832 *** Initial values of the parameters are obtained from the file __simpleExample_val_est_5.iter <biogeme.py:1252>\n",
      "[INFO] 2023-04-14 10:26:15,833 Cannot read file __simpleExample_val_est_5.iter. Statement is ignored. <biogeme.py:1037>\n",
      "[DEBUG] 2023-04-14 10:26:15,833 Log likelihood (N = 4):  -46.33153 <biogeme.py:837>\n",
      "[DEBUG] 2023-04-14 10:26:15,833 Run simple_bounds <biogeme.py:1494>\n",
      "[INFO] 2023-04-14 10:26:15,833 ** Optimization: Newton with trust region for simple bounds <optimization.py:464>\n",
      "[DEBUG] 2023-04-14 10:26:15,833 Log likelihood (N = 4):  -46.33153 Gradient norm:          5 Hessian norm:       1e+02  <biogeme.py:919>\n",
      "[DEBUG] 2023-04-14 10:26:15,834 Log likelihood (N = 4):  -46.20185 <biogeme.py:837>\n",
      "[DEBUG] 2023-04-14 10:26:15,835 Log likelihood (N = 4):  -46.20185 Gradient norm:       0.09 Hessian norm:       1e+02  <biogeme.py:919>\n",
      "[DEBUG] 2023-04-14 10:26:15,835 1 f=  11.55046 projected rel. grad.=0.0022 rel. change= 0.041 delta= 1e+03 rho=     1 ++ <algorithms.py:2013>\n"
     ]
    },
    {
     "name": "stderr",
     "output_type": "stream",
     "text": [
      "[DEBUG] 2023-04-14 10:26:15,836 Log likelihood (N = 4):  -46.20181 <biogeme.py:837>\n",
      "[DEBUG] 2023-04-14 10:26:15,836 Log likelihood (N = 4):  -46.20181 Gradient norm:      2e-05 Hessian norm:       1e+02  <biogeme.py:919>\n",
      "[DEBUG] 2023-04-14 10:26:15,837 2 f=  11.55045 projected rel. grad.= 6e-07 rel. change=0.0007 delta= 1e+04 rho=     1 ++ <algorithms.py:2013>\n",
      "[INFO] 2023-04-14 10:26:15,837 Proportion of Hessian calculation: 100.0% <algorithms.py:2024>\n",
      "[DEBUG] 2023-04-14 10:26:15,838 Log likelihood (N = 4):  -46.20181 Gradient norm:      2e-05 Hessian norm:       1e+02 BHHH norm:       4e+01 <biogeme.py:919>\n",
      "[INFO] 2023-04-14 10:26:15,841 Results saved in file simpleExample_val_est_5.html <results.py:1252>\n",
      "[INFO] 2023-04-14 10:26:15,842 Results saved in file simpleExample_val_est_5.pickle <results.py:379>\n",
      "[INFO] 2023-04-14 10:26:15,842 Parameters read from biogeme.toml <toml.py:58>\n",
      "[INFO] 2023-04-14 10:26:15,847 Simulation results saved in file simpleExample_validation.pickle <biogeme.py:1456>\n"
     ]
    }
   ],
   "source": [
    "validationData = myData.split(slices=5)\n",
    "validation_results = myBiogeme.validate(results, validationData)"
   ]
  },
  {
   "cell_type": "code",
   "execution_count": 32,
   "metadata": {},
   "outputs": [
    {
     "data": {
      "text/plain": [
       "[   Loglikelihood\n",
       " 3     -17.145326,\n",
       "    Loglikelihood\n",
       " 0      -6.341109,\n",
       "    Loglikelihood\n",
       " 2     -13.413098,\n",
       "    Loglikelihood\n",
       " 1       -9.81772,\n",
       "    Loglikelihood\n",
       " 4     -21.037421]"
      ]
     },
     "execution_count": 32,
     "metadata": {},
     "output_type": "execute_result"
    }
   ],
   "source": [
    "validation_results"
   ]
  },
  {
   "cell_type": "code",
   "execution_count": 33,
   "metadata": {},
   "outputs": [
    {
     "name": "stdout",
     "output_type": "stream",
     "text": [
      "Log likelihood for 1 validation data: -17.145326446024075\n",
      "Log likelihood for 1 validation data: -6.341108765392212\n",
      "Log likelihood for 1 validation data: -13.413098095892746\n",
      "Log likelihood for 1 validation data: -9.81771976465043\n",
      "Log likelihood for 1 validation data: -21.03742136293277\n"
     ]
    }
   ],
   "source": [
    "for slide in validation_results:\n",
    "    print(f'Log likelihood for {slide.shape[0]} '\n",
    "          f'validation data: {slide[\"Loglikelihood\"].sum()}')\n"
   ]
  },
  {
   "cell_type": "markdown",
   "metadata": {},
   "source": [
    "## files_of_type"
   ]
  },
  {
   "cell_type": "code",
   "execution_count": 34,
   "metadata": {},
   "outputs": [
    {
     "data": {
      "text/plain": [
       "['simpleExample.pickle']"
      ]
     },
     "execution_count": 34,
     "metadata": {},
     "output_type": "execute_result"
    }
   ],
   "source": [
    "myBiogeme.files_of_type('pickle')"
   ]
  },
  {
   "cell_type": "code",
   "execution_count": null,
   "metadata": {},
   "outputs": [],
   "source": []
  }
 ],
 "metadata": {
  "kernelspec": {
   "display_name": "Python 3 (ipykernel)",
   "language": "python",
   "name": "python3"
  },
  "language_info": {
   "codemirror_mode": {
    "name": "ipython",
    "version": 3
   },
   "file_extension": ".py",
   "mimetype": "text/x-python",
   "name": "python",
   "nbconvert_exporter": "python",
   "pygments_lexer": "ipython3",
   "version": "3.11.2"
  }
 },
 "nbformat": 4,
 "nbformat_minor": 2
}
