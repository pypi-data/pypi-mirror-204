{
 "cells": [
  {
   "cell_type": "code",
   "execution_count": 1,
   "metadata": {
    "collapsed": true
   },
   "outputs": [],
   "source": [
    "import matplotlib.pyplot as plt\n",
    "import seaborn as sns\n",
    "import joblib\n",
    "import numpy as np\n",
    "from sklearn.metrics import f1_score\n",
    "from tqdm import notebook"
   ]
  },
  {
   "cell_type": "code",
   "execution_count": 2,
   "outputs": [],
   "source": [
    "[predictions_list, labels_all_deg_seed, labels_all_simba_seed, labels_all_simba_seed2] = \\\n",
    "    np.load('/Users/alexanderhsu/Google Drive/My Drive/2023Data/asoid_manuscript/predictions_20seeds.npy', allow_pickle=True)\n",
    "with open('/Users/alexanderhsu/Google Drive/My Drive/2023Data/asoid_manuscript/ALL_test_data.sav', 'rb') as fr:\n",
    "    [data_test, targets_test] = joblib.load(fr)"
   ],
   "metadata": {
    "collapsed": false
   }
  },
  {
   "cell_type": "code",
   "execution_count": 3,
   "outputs": [
    {
     "data": {
      "text/plain": "  0%|          | 0/20 [00:00<?, ?it/s]",
      "application/vnd.jupyter.widget-view+json": {
       "version_major": 2,
       "version_minor": 0,
       "model_id": "30194007f36b47cdab17e246ee8fd856"
      }
     },
     "metadata": {},
     "output_type": "display_data"
    }
   ],
   "source": [
    "micro_deg_other = []\n",
    "micro_simba_other = []\n",
    "micro_asoid_other = []\n",
    "\n",
    "micro_deg = []\n",
    "micro_simba = []\n",
    "micro_asoid = []\n",
    "\n",
    "macro_deg_other = []\n",
    "macro_simba_other = []\n",
    "macro_asoid_other = []\n",
    "\n",
    "macro_deg = []\n",
    "macro_simba = []\n",
    "macro_asoid = []\n",
    "\n",
    "weighted_deg_other = []\n",
    "weighted_simba_other = []\n",
    "weighted_asoid_other = []\n",
    "\n",
    "\n",
    "f1_deg_other = []\n",
    "f1_simba_other = []\n",
    "f1_asoid_other = []\n",
    "\n",
    "f1_deg = []\n",
    "f1_simba = []\n",
    "f1_asoid = []\n",
    "\n",
    "\n",
    "for s in notebook.tqdm(range(len(labels_all_deg_seed))):\n",
    "\n",
    "    micro_deg_other.append(f1_score(targets_test,\n",
    "                              labels_all_deg_seed[s], average='micro'))\n",
    "    micro_simba_other.append(f1_score(targets_test,\n",
    "                                labels_all_simba_seed2[s], average='micro'))\n",
    "    micro_asoid_other.append(f1_score(targets_test,\n",
    "                                predictions_list[-1][s], average='micro'))\n",
    "\n",
    "    micro_deg.append(f1_score(targets_test[(targets_test<3) & (labels_all_deg_seed[s]<3)],\n",
    "                              labels_all_deg_seed[s][(targets_test<3) & (labels_all_deg_seed[s]<3)],\n",
    "                              average='micro'))\n",
    "    micro_simba.append(f1_score(targets_test[(targets_test<3) & (labels_all_simba_seed2[s]<3)],\n",
    "                                labels_all_simba_seed2[s][(targets_test<3) & (labels_all_simba_seed2[s]<3)],\n",
    "                                average='micro'))\n",
    "    micro_asoid.append(f1_score(targets_test[(targets_test<3) & (predictions_list[-1][s]<3)],\n",
    "                                predictions_list[-1][s][(targets_test<3) & (predictions_list[-1][s]<3)],\n",
    "                                average='micro'))\n",
    "\n",
    "    macro_deg_other.append(f1_score(targets_test,\n",
    "                              labels_all_deg_seed[s], average='macro'))\n",
    "    macro_simba_other.append(f1_score(targets_test,\n",
    "                                labels_all_simba_seed2[s], average='macro'))\n",
    "    macro_asoid_other.append(f1_score(targets_test,\n",
    "                                predictions_list[-1][s], average='macro'))\n",
    "\n",
    "    macro_deg.append(f1_score(targets_test[(targets_test<3) & (labels_all_deg_seed[s]<3)],\n",
    "                              labels_all_deg_seed[s][(targets_test<3) & (labels_all_deg_seed[s]<3)],\n",
    "                              average='macro'))\n",
    "    macro_simba.append(f1_score(targets_test[(targets_test<3) & (labels_all_simba_seed2[s]<3)],\n",
    "                                labels_all_simba_seed2[s][(targets_test<3) & (labels_all_simba_seed2[s]<3)],\n",
    "                                average='macro'))\n",
    "    macro_asoid.append(f1_score(targets_test[(targets_test<3) & (predictions_list[-1][s]<3)],\n",
    "                                predictions_list[-1][s][(targets_test<3) & (predictions_list[-1][s]<3)],\n",
    "                                average='macro'))\n",
    "\n",
    "\n",
    "    weighted_deg_other.append(f1_score(targets_test,\n",
    "                              labels_all_deg_seed[s], average='weighted'))\n",
    "    weighted_simba_other.append(f1_score(targets_test,\n",
    "                                labels_all_simba_seed2[s], average='weighted'))\n",
    "    weighted_asoid_other.append(f1_score(targets_test,\n",
    "                                predictions_list[-1][s], average='weighted'))\n",
    "\n",
    "\n",
    "    f1_deg_other.append(f1_score(targets_test,\n",
    "                              labels_all_deg_seed[s], average=None))\n",
    "    f1_simba_other.append(f1_score(targets_test,\n",
    "                                labels_all_simba_seed2[s], average=None))\n",
    "    f1_asoid_other.append(f1_score(targets_test,\n",
    "                                predictions_list[-1][s], average=None))\n",
    "\n",
    "    f1_deg.append(f1_score(targets_test[(targets_test<3) & (labels_all_deg_seed[s]<3)],\n",
    "                              labels_all_deg_seed[s][(targets_test<3) & (labels_all_deg_seed[s]<3)], average=None))\n",
    "    f1_simba.append(f1_score(targets_test[(targets_test<3) & (labels_all_simba_seed2[s]<3)],\n",
    "                                labels_all_simba_seed2[s][(targets_test<3) & (labels_all_simba_seed2[s]<3)], average=None))\n",
    "    f1_asoid.append(f1_score(targets_test[(targets_test<3) & (predictions_list[-1][s]<3)],\n",
    "                                predictions_list[-1][s][(targets_test<3) & (predictions_list[-1][s]<3)], average=None))"
   ],
   "metadata": {
    "collapsed": false
   }
  },
  {
   "cell_type": "code",
   "execution_count": 4,
   "outputs": [
    {
     "data": {
      "text/plain": "<Figure size 200x300 with 1 Axes>",
      "image/png": "[encoded data removed]"
     },
     "metadata": {},
     "output_type": "display_data"
    }
   ],
   "source": [
    "fig, ax = plt.subplots(1, 1, figsize=(2, 3))\n",
    "ax.set_title('F1 macro, unweighted')\n",
    "ax.hlines(0.793, -.5, 2.5, ls=':', lw=2, color='darkolivegreen', alpha=0.7)\n",
    "ax.hlines(0.864, -.5, 2.5, ls=':', lw=2, color='darkolivegreen', alpha=0.7)\n",
    "sns.barplot([macro_simba, macro_deg, macro_asoid],\n",
    "            estimator='median',\n",
    "            capsize=.25,\n",
    "            errorbar=('sd', 3),\n",
    "            alpha=1,\n",
    "            errcolor='k',\n",
    "            errwidth=1,\n",
    "            palette=['dodgerblue', 'mediumpurple', 'deeppink'],\n",
    "            edgecolor='k',\n",
    "            label=['SimBA', 'DEG', 'A-SOiD'],\n",
    "            ax=ax)\n",
    "\n",
    "ax.set_yticks(np.arange(0.6, 0.81, 0.1))\n",
    "ax.set_xticklabels(['SimBA', 'DEG', 'A-SOiD'])\n",
    "ax.set_ylim([0.6, 0.9])\n",
    "plt.show()"
   ],
   "metadata": {
    "collapsed": false
   }
  },
  {
   "cell_type": "code",
   "execution_count": 4,
   "outputs": [],
   "source": [],
   "metadata": {
    "collapsed": false
   }
  }
 ],
 "metadata": {
  "kernelspec": {
   "display_name": "Python 3",
   "language": "python",
   "name": "python3"
  },
  "language_info": {
   "codemirror_mode": {
    "name": "ipython",
    "version": 2
   },
   "file_extension": ".py",
   "mimetype": "text/x-python",
   "name": "python",
   "nbconvert_exporter": "python",
   "pygments_lexer": "ipython2",
   "version": "2.7.6"
  }
 },
 "nbformat": 4,
 "nbformat_minor": 0
}
