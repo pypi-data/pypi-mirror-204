{
 "cells": [
  {
   "cell_type": "code",
   "execution_count": 1,
   "metadata": {
    "collapsed": true
   },
   "outputs": [],
   "source": [
    "import matplotlib.pyplot as plt\n",
    "import joblib\n",
    "import numpy as np\n",
    "import pandas as pd"
   ]
  },
  {
   "cell_type": "code",
   "execution_count": 2,
   "outputs": [
    {
     "name": "stderr",
     "output_type": "stream",
     "text": [
      "/opt/anaconda3/envs/asoid/lib/python3.9/site-packages/sklearn/base.py:299: UserWarning: Trying to unpickle estimator StandardScaler from version 1.0.2 when using version 1.2.1. This might lead to breaking code or invalid results. Use at your own risk. For more info please refer to:\n",
      "https://scikit-learn.org/stable/model_persistence.html#security-maintainability-limitations\n",
      "  warnings.warn(\n"
     ]
    }
   ],
   "source": [
    "with open('/Users/alexanderhsu/Google Drive/My Drive/MABe_Competition/data/ALL_train_data.sav', 'rb') as fr:\n",
    "    data_train = joblib.load(fr)\n",
    "with open('/Users/alexanderhsu/Google Drive/My Drive/MABe_Competition/data/active_learning_fixed_wpredictions.sav', 'rb') as fr:\n",
    "    [X_train_list, Y_train_list, predictions_list,\n",
    "     iterX_f1_scores_list, iterX_macro_scores_list, iterX_predict_prob_list,\n",
    "     sampled_idx_list] = joblib.load(fr)"
   ],
   "metadata": {
    "collapsed": false
   }
  },
  {
   "cell_type": "code",
   "execution_count": 3,
   "outputs": [
    {
     "data": {
      "text/plain": "<Figure size 200x200 with 1 Axes>",
      "image/png": "[encoded data removed]"
     },
     "metadata": {},
     "output_type": "display_data"
    }
   ],
   "source": [
    "behavioral_types = ['Attack', 'Investigation', 'Mount', 'Other']\n",
    "fig, ax = plt.subplots(1, 1, figsize=(2, 2))\n",
    "ax.set_title('Train counts')\n",
    "train_cnts_df = pd.DataFrame({'SimBA':\n",
    "                                  [int(len(np.where(data_train[4]==j)[0])*0.99) for j in np.unique(data_train[4])],\n",
    "                              'DEG':\n",
    "                                  [len(np.where(data_train[4]==j)[0]) for j in np.unique(data_train[4])],\n",
    "                              'A-SOiD':\n",
    "                                  np.mean([np.hstack([len(np.where(Y_train_list[-1][j]==k)[0])\n",
    "                                                      for k in np.unique(Y_train_list[-1][j])])\n",
    "                                           for j in range(len(Y_train_list[-1]))], axis=0)},\n",
    "                             index=['attack', 'investigation', 'mount', 'other'])\n",
    "train_cnts_df.T.plot(kind='bar',\n",
    "                     stacked=True,\n",
    "                     edgecolor='k',\n",
    "                     width=0.4,\n",
    "                     color=['crimson', 'darkorange', 'steelblue', 'grey'],\n",
    "                     legend=False,\n",
    "                     ax=ax)\n",
    "ax.set_yticks(np.arange(4227.5, 42275.1, 12682.5))\n",
    "ax.set_yticklabels(np.round(np.arange(0.1, 1.01, 0.3), 2))\n",
    "ax.set_ylim([0, 43000])\n",
    "ax.legend(behavioral_types)\n",
    "plt.show()\n"
   ],
   "metadata": {
    "collapsed": false
   }
  },
  {
   "cell_type": "code",
   "execution_count": 3,
   "outputs": [],
   "source": [],
   "metadata": {
    "collapsed": false
   }
  }
 ],
 "metadata": {
  "kernelspec": {
   "display_name": "Python 3",
   "language": "python",
   "name": "python3"
  },
  "language_info": {
   "codemirror_mode": {
    "name": "ipython",
    "version": 2
   },
   "file_extension": ".py",
   "mimetype": "text/x-python",
   "name": "python",
   "nbconvert_exporter": "python",
   "pygments_lexer": "ipython2",
   "version": "2.7.6"
  }
 },
 "nbformat": 4,
 "nbformat_minor": 0
}
