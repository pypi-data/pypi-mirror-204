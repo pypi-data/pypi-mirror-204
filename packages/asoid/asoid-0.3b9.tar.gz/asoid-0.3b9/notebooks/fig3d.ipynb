{
 "cells": [
  {
   "cell_type": "code",
   "execution_count": 1,
   "metadata": {
    "collapsed": true
   },
   "outputs": [],
   "source": [
    "import matplotlib.pyplot as plt\n",
    "import joblib\n",
    "import numpy as np\n",
    "from sklearn.metrics import f1_score\n",
    "from tqdm import notebook"
   ]
  },
  {
   "cell_type": "code",
   "execution_count": 2,
   "outputs": [],
   "source": [
    "[predictions_list, labels_all_deg_seed, labels_all_simba_seed, labels_all_simba_seed2] = \\\n",
    "    np.load('/Users/alexanderhsu/Google Drive/My Drive/2023Data/asoid_manuscript/predictions_20seeds.npy', allow_pickle=True)\n",
    "with open('/Users/alexanderhsu/Google Drive/My Drive/2023Data/asoid_manuscript/ALL_test_data.sav', 'rb') as fr:\n",
    "    [data_test, targets_test] = joblib.load(fr)"
   ],
   "metadata": {
    "collapsed": false
   }
  },
  {
   "cell_type": "code",
   "execution_count": 3,
   "outputs": [
    {
     "data": {
      "text/plain": "  0%|          | 0/20 [00:00<?, ?it/s]",
      "application/vnd.jupyter.widget-view+json": {
       "version_major": 2,
       "version_minor": 0,
       "model_id": "0ad284747e324f34a10c5ef2576c0b55"
      }
     },
     "metadata": {},
     "output_type": "display_data"
    }
   ],
   "source": [
    "micro_deg_other = []\n",
    "micro_simba_other = []\n",
    "micro_asoid_other = []\n",
    "\n",
    "micro_deg = []\n",
    "micro_simba = []\n",
    "micro_asoid = []\n",
    "\n",
    "macro_deg_other = []\n",
    "macro_simba_other = []\n",
    "macro_asoid_other = []\n",
    "\n",
    "macro_deg = []\n",
    "macro_simba = []\n",
    "macro_asoid = []\n",
    "\n",
    "weighted_deg_other = []\n",
    "weighted_simba_other = []\n",
    "weighted_asoid_other = []\n",
    "\n",
    "\n",
    "f1_deg_other = []\n",
    "f1_simba_other = []\n",
    "f1_asoid_other = []\n",
    "\n",
    "f1_deg = []\n",
    "f1_simba = []\n",
    "f1_asoid = []\n",
    "\n",
    "\n",
    "for s in notebook.tqdm(range(len(labels_all_deg_seed))):\n",
    "\n",
    "    micro_deg_other.append(f1_score(targets_test,\n",
    "                              labels_all_deg_seed[s], average='micro'))\n",
    "    micro_simba_other.append(f1_score(targets_test,\n",
    "                                labels_all_simba_seed2[s], average='micro'))\n",
    "    micro_asoid_other.append(f1_score(targets_test,\n",
    "                                predictions_list[-1][s], average='micro'))\n",
    "\n",
    "    micro_deg.append(f1_score(targets_test[(targets_test<3) & (labels_all_deg_seed[s]<3)],\n",
    "                              labels_all_deg_seed[s][(targets_test<3) & (labels_all_deg_seed[s]<3)],\n",
    "                              average='micro'))\n",
    "    micro_simba.append(f1_score(targets_test[(targets_test<3) & (labels_all_simba_seed2[s]<3)],\n",
    "                                labels_all_simba_seed2[s][(targets_test<3) & (labels_all_simba_seed2[s]<3)],\n",
    "                                average='micro'))\n",
    "    micro_asoid.append(f1_score(targets_test[(targets_test<3) & (predictions_list[-1][s]<3)],\n",
    "                                predictions_list[-1][s][(targets_test<3) & (predictions_list[-1][s]<3)],\n",
    "                                average='micro'))\n",
    "\n",
    "    macro_deg_other.append(f1_score(targets_test,\n",
    "                              labels_all_deg_seed[s], average='macro'))\n",
    "    macro_simba_other.append(f1_score(targets_test,\n",
    "                                labels_all_simba_seed2[s], average='macro'))\n",
    "    macro_asoid_other.append(f1_score(targets_test,\n",
    "                                predictions_list[-1][s], average='macro'))\n",
    "\n",
    "    macro_deg.append(f1_score(targets_test[(targets_test<3) & (labels_all_deg_seed[s]<3)],\n",
    "                              labels_all_deg_seed[s][(targets_test<3) & (labels_all_deg_seed[s]<3)],\n",
    "                              average='macro'))\n",
    "    macro_simba.append(f1_score(targets_test[(targets_test<3) & (labels_all_simba_seed2[s]<3)],\n",
    "                                labels_all_simba_seed2[s][(targets_test<3) & (labels_all_simba_seed2[s]<3)],\n",
    "                                average='macro'))\n",
    "    macro_asoid.append(f1_score(targets_test[(targets_test<3) & (predictions_list[-1][s]<3)],\n",
    "                                predictions_list[-1][s][(targets_test<3) & (predictions_list[-1][s]<3)],\n",
    "                                average='macro'))\n",
    "\n",
    "\n",
    "    weighted_deg_other.append(f1_score(targets_test,\n",
    "                              labels_all_deg_seed[s], average='weighted'))\n",
    "    weighted_simba_other.append(f1_score(targets_test,\n",
    "                                labels_all_simba_seed2[s], average='weighted'))\n",
    "    weighted_asoid_other.append(f1_score(targets_test,\n",
    "                                predictions_list[-1][s], average='weighted'))\n",
    "\n",
    "\n",
    "    f1_deg_other.append(f1_score(targets_test,\n",
    "                              labels_all_deg_seed[s], average=None))\n",
    "    f1_simba_other.append(f1_score(targets_test,\n",
    "                                labels_all_simba_seed2[s], average=None))\n",
    "    f1_asoid_other.append(f1_score(targets_test,\n",
    "                                predictions_list[-1][s], average=None))\n",
    "\n",
    "    f1_deg.append(f1_score(targets_test[(targets_test<3) & (labels_all_deg_seed[s]<3)],\n",
    "                              labels_all_deg_seed[s][(targets_test<3) & (labels_all_deg_seed[s]<3)], average=None))\n",
    "    f1_simba.append(f1_score(targets_test[(targets_test<3) & (labels_all_simba_seed2[s]<3)],\n",
    "                                labels_all_simba_seed2[s][(targets_test<3) & (labels_all_simba_seed2[s]<3)], average=None))\n",
    "    f1_asoid.append(f1_score(targets_test[(targets_test<3) & (predictions_list[-1][s]<3)],\n",
    "                                predictions_list[-1][s][(targets_test<3) & (predictions_list[-1][s]<3)], average=None))\n",
    "# stacking different metric types\n",
    "micro_other = [np.mean(micro_simba_other), np.mean(micro_deg_other), np.mean(micro_asoid_other)]\n",
    "micro = [np.mean(micro_simba), np.mean(micro_deg), np.mean(micro_asoid)]\n",
    "macro_other = [np.mean(macro_simba_other), np.mean(macro_deg_other), np.mean(macro_asoid_other)]\n",
    "macro = [np.mean(macro_simba), np.mean(macro_deg), np.mean(macro_asoid)]\n",
    "f1_other = [np.mean(f1_simba_other, axis=0), np.mean(f1_deg_other, axis=0), np.mean(f1_asoid_other, axis=0)]\n",
    "f1 = [np.mean(f1_simba, axis=0), np.mean(f1_deg, axis=0), np.mean(f1_asoid, axis=0)]\n",
    "\n",
    "# put all in one list for figure\n",
    "perf_metrics = [\n",
    "    micro_other, micro,\n",
    "    macro_other, macro,\n",
    "    f1_other, f1,\n",
    "               ]\n",
    "\n",
    "# stacking different metric types (stdev)\n",
    "micro_other_std = [np.std(micro_simba_other), np.std(micro_deg_other), np.std(micro_asoid_other)]\n",
    "micro_std = [np.std(micro_simba), np.std(micro_deg), np.std(micro_asoid)]\n",
    "macro_other_std = [np.std(macro_simba_other), np.std(macro_deg_other), np.std(macro_asoid_other)]\n",
    "macro_std = [np.std(macro_simba), np.std(macro_deg), np.std(macro_asoid)]\n",
    "f1_other_std = [np.std(f1_simba_other, axis=0), np.std(f1_deg_other, axis=0), np.std(f1_asoid_other, axis=0)]\n",
    "f1_std = [np.std(f1_simba, axis=0), np.std(f1_deg, axis=0), np.std(f1_asoid, axis=0)]\n",
    "\n",
    "# put all in one list for figure (stdev)\n",
    "perf_metrics_std = [\n",
    "    micro_other_std, micro_std,\n",
    "    macro_other_std, macro_std,\n",
    "    f1_other_std, f1_std,\n",
    "               ]"
   ],
   "metadata": {
    "collapsed": false
   }
  },
  {
   "cell_type": "code",
   "execution_count": 4,
   "outputs": [
    {
     "data": {
      "text/plain": "<Figure size 300x300 with 1 Axes>",
      "image/png": "[encoded data removed]"
     },
     "metadata": {},
     "output_type": "display_data"
    }
   ],
   "source": [
    "fig, ax = plt.subplots(1, 1, figsize=(3, 3))\n",
    "width=0.25\n",
    "count = 5\n",
    "# baseline\n",
    "ax.hlines(0.664, -.5, .5, ls=':', lw=2, color='darkolivegreen', alpha=0.7)\n",
    "ax.hlines(0.814, .5, 1.5, ls=':', lw=2, color='darkolivegreen', alpha=0.7)\n",
    "ax.hlines(0.900, 1.5, 2.5, ls=':', lw=2, color='darkolivegreen', alpha=0.7)\n",
    "# winner\n",
    "ax.hlines(0.827, -.5, .5, ls=':', lw=2, color='darkolivegreen', alpha=0.7)\n",
    "ax.hlines(0.852, .5, 1.5, ls=':', lw=2, color='darkolivegreen', alpha=0.7)\n",
    "ax.hlines(0.913, 1.5, 2.5, ls=':', lw=2, color='darkolivegreen', alpha=0.7)\n",
    "# opensource algos\n",
    "ax.bar(np.arange(len(perf_metrics[count][0])) - width ,\n",
    "       perf_metrics[count][0],\n",
    "       width, color='dodgerblue', edgecolor='k')\n",
    "ax.bar(np.arange(len(perf_metrics[count][1])),\n",
    "       perf_metrics[count][1],\n",
    "       width, color='mediumpurple', edgecolor='k')\n",
    "ax.bar(np.arange(len(perf_metrics[count][2])) + width,\n",
    "       perf_metrics[count][2],\n",
    "       width, color='deeppink', edgecolor='k')\n",
    "\n",
    "ax.errorbar(np.arange(len(perf_metrics[count][0])) - width,\n",
    "            y=perf_metrics[count][0],\n",
    "            yerr=3*perf_metrics_std[count][0],\n",
    "            capsize=2, elinewidth=1,\n",
    "            ls='none', color='k')\n",
    "ax.errorbar(np.arange(len(perf_metrics[count][1])),\n",
    "            y=perf_metrics[count][1],\n",
    "            yerr=3*perf_metrics_std[count][1],\n",
    "            capsize=2, elinewidth=1,\n",
    "            ls='none', color='k')\n",
    "ax.errorbar(np.arange(len(perf_metrics[count][2])) + width,\n",
    "            y=perf_metrics[count][2],\n",
    "            yerr=3*perf_metrics_std[count][2],\n",
    "            capsize=2, elinewidth=1,\n",
    "            ls='none', color='k')\n",
    "\n",
    "ax.set_xticks(np.arange(0, 3))\n",
    "ax.set_xticklabels(['attack', 'investig.', 'mount'])\n",
    "ax.set_yticks(np.arange(0.5, 0.95, 0.1))\n",
    "ax.set_ylim([0.5, 0.95])\n",
    "\n",
    "plt.show()\n"
   ],
   "metadata": {
    "collapsed": false
   }
  },
  {
   "cell_type": "code",
   "execution_count": 4,
   "outputs": [],
   "source": [],
   "metadata": {
    "collapsed": false
   }
  }
 ],
 "metadata": {
  "kernelspec": {
   "display_name": "Python 3",
   "language": "python",
   "name": "python3"
  },
  "language_info": {
   "codemirror_mode": {
    "name": "ipython",
    "version": 2
   },
   "file_extension": ".py",
   "mimetype": "text/x-python",
   "name": "python",
   "nbconvert_exporter": "python",
   "pygments_lexer": "ipython2",
   "version": "2.7.6"
  }
 },
 "nbformat": 4,
 "nbformat_minor": 0
}
