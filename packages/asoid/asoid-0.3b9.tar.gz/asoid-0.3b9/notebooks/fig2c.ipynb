{
 "cells": [
  {
   "cell_type": "code",
   "execution_count": null,
   "metadata": {
    "collapsed": true,
    "pycharm": {
     "is_executing": true
    }
   },
   "outputs": [],
   "source": [
    "import shap\n",
    "import joblib\n",
    "from sklearn.ensemble import RandomForestClassifier\n",
    "import matplotlib.pyplot as plt\n",
    "import numpy as np"
   ]
  },
  {
   "cell_type": "code",
   "execution_count": null,
   "outputs": [],
   "source": [
    "with open(r'/Users/alexanderhsu/Google Drive/My Drive/2023Data/asoid_manuscript/active_learning_fixed_originalgroups.sav', 'rb') as fr:\n",
    "    [X_train_list, Y_train_list,\n",
    "     iterX_f1_scores_list, iterX_macro_scores_list, iterX_predict_prob_list,\n",
    "     sampled_idx_list] = joblib.load(fr)\n",
    "with open(r'/Users/alexanderhsu/Google Drive/My Drive/2023Data/asoid_manuscript/using_all_train_originalgroups.sav', 'rb') as fr:\n",
    "    [features_runlist, targets_runlist,\n",
    "     peak_f1_scores, peak_macro_scores, peak_predict_prob] = joblib.load(fr)"
   ],
   "metadata": {
    "collapsed": false,
    "pycharm": {
     "is_executing": true
    }
   }
  },
  {
   "cell_type": "markdown",
   "source": [
    "## initialize and model fit 4 checkpoints"
   ],
   "metadata": {
    "collapsed": false
   }
  },
  {
   "cell_type": "code",
   "execution_count": null,
   "outputs": [],
   "source": [
    "iter1_model = RandomForestClassifier(n_estimators=200, random_state=42, n_jobs=-1,\n",
    "                               criterion='gini',\n",
    "                               class_weight='balanced_subsample'\n",
    "                              )\n",
    "iter1_model.fit(X_train_list[0][-1], Y_train_list[0][-1])\n",
    "iter4_model = RandomForestClassifier(n_estimators=200, random_state=42, n_jobs=-1,\n",
    "                               criterion='gini',\n",
    "                               class_weight='balanced_subsample'\n",
    "                              )\n",
    "iter4_model.fit(X_train_list[3][-1], Y_train_list[3][-1])\n",
    "iter8_model = RandomForestClassifier(n_estimators=200, random_state=42, n_jobs=-1,\n",
    "                               criterion='gini',\n",
    "                               class_weight='balanced_subsample'\n",
    "                              )\n",
    "iter8_model.fit(X_train_list[7][-1], Y_train_list[7][-1])\n",
    "iter20_model = RandomForestClassifier(n_estimators=200, random_state=42, n_jobs=-1,\n",
    "                               criterion='gini',\n",
    "                               class_weight='balanced_subsample'\n",
    "                              )\n",
    "iter20_model.fit(X_train_list[-1][-1], Y_train_list[-1][-1])"
   ],
   "metadata": {
    "collapsed": false,
    "pycharm": {
     "is_executing": true
    }
   }
  },
  {
   "cell_type": "markdown",
   "source": [
    "## get SHAP values for each model"
   ],
   "metadata": {
    "collapsed": false
   }
  },
  {
   "cell_type": "code",
   "execution_count": null,
   "outputs": [],
   "source": [
    "# Create object that can calculate shap values\n",
    "iter1_explainer = shap.TreeExplainer(iter1_model)\n",
    "# Calculate Shap values\n",
    "iter1_shap_values = iter1_explainer.shap_values(X_train_list[0][-1])\n",
    "# Create object that can calculate shap values\n",
    "iter4_explainer = shap.TreeExplainer(iter4_model)\n",
    "# Calculate Shap values\n",
    "iter4_shap_values = iter4_explainer.shap_values(X_train_list[3][-1])\n",
    "# Create object that can calculate shap values\n",
    "iter8_explainer = shap.TreeExplainer(iter8_model)\n",
    "# Calculate Shap values\n",
    "iter8_shap_values = iter8_explainer.shap_values(X_train_list[7][-1])\n",
    "# Create object that can calculate shap values\n",
    "iter20_explainer = shap.TreeExplainer(iter20_model)\n",
    "# Calculate Shap values\n",
    "iter20_shap_values = iter20_explainer.shap_values(X_train_list[-1][-1])"
   ],
   "metadata": {
    "collapsed": false,
    "pycharm": {
     "is_executing": true
    }
   }
  },
  {
   "cell_type": "markdown",
   "source": [
    "## Iteration #1"
   ],
   "metadata": {
    "collapsed": false
   }
  },
  {
   "cell_type": "code",
   "execution_count": null,
   "outputs": [],
   "source": [
    "disp_n = 5\n",
    "p = 0 # attack\n",
    "shap.summary_plot(iter1_shap_values[p],  X_train_list[0][-1], max_display=disp_n,\n",
    "                  alpha=0.5, show=False, plot_size=[4, 3], cmap=\"RdBu_r\")\n",
    "plt.xlim(xmin=-0.15, xmax=0.15)\n",
    "plt.xticks(np.arange(-0.15, 0.151, 0.15))\n",
    "fig = plt.gcf()"
   ],
   "metadata": {
    "collapsed": false,
    "pycharm": {
     "is_executing": true
    }
   }
  },
  {
   "cell_type": "markdown",
   "source": [
    "## Iteration #4"
   ],
   "metadata": {
    "collapsed": false
   }
  },
  {
   "cell_type": "code",
   "execution_count": null,
   "outputs": [],
   "source": [
    "disp_n = 5\n",
    "p = 0 # attack\n",
    "shap.summary_plot(iter4_shap_values[p],  X_train_list[3][-1], max_display=disp_n,\n",
    "                  alpha=0.5, show=False, plot_size=[4, 3], cmap=\"RdBu_r\")\n",
    "plt.xlim(xmin=-0.15, xmax=0.15)\n",
    "plt.xticks(np.arange(-0.15, 0.151, 0.15))\n",
    "fig = plt.gcf()"
   ],
   "metadata": {
    "collapsed": false,
    "pycharm": {
     "is_executing": true
    }
   }
  },
  {
   "cell_type": "markdown",
   "source": [
    "## Iteration #8"
   ],
   "metadata": {
    "collapsed": false
   }
  },
  {
   "cell_type": "code",
   "execution_count": null,
   "outputs": [],
   "source": [
    "disp_n = 5\n",
    "p = 0 # attack\n",
    "shap.summary_plot(iter8_shap_values[p],  X_train_list[7][-1], max_display=disp_n,\n",
    "                  alpha=0.5, show=False, plot_size=[4, 3], cmap=\"RdBu_r\")\n",
    "plt.xlim(xmin=-0.15, xmax=0.15)\n",
    "plt.xticks(np.arange(-0.15, 0.151, 0.15))\n",
    "fig = plt.gcf()"
   ],
   "metadata": {
    "collapsed": false,
    "pycharm": {
     "is_executing": true
    }
   }
  },
  {
   "cell_type": "markdown",
   "source": [
    "## Iteration #20"
   ],
   "metadata": {
    "collapsed": false
   }
  },
  {
   "cell_type": "code",
   "execution_count": null,
   "outputs": [],
   "source": [
    "disp_n = 5\n",
    "p = 0 # attack\n",
    "shap.summary_plot(iter20_shap_values[p],  X_train_list[-1][-1], max_display=disp_n,\n",
    "                  alpha=0.5, show=False, plot_size=[4, 3], cmap=\"RdBu_r\")\n",
    "plt.xlim(xmin=-0.15, xmax=0.15)\n",
    "plt.xticks(np.arange(-0.15, 0.151, 0.15))\n",
    "fig = plt.gcf()"
   ],
   "metadata": {
    "collapsed": false,
    "pycharm": {
     "is_executing": true
    }
   }
  },
  {
   "cell_type": "code",
   "execution_count": null,
   "outputs": [],
   "source": [],
   "metadata": {
    "collapsed": false,
    "pycharm": {
     "is_executing": true
    }
   }
  }
 ],
 "metadata": {
  "kernelspec": {
   "display_name": "Python 3",
   "language": "python",
   "name": "python3"
  },
  "language_info": {
   "codemirror_mode": {
    "name": "ipython",
    "version": 2
   },
   "file_extension": ".py",
   "mimetype": "text/x-python",
   "name": "python",
   "nbconvert_exporter": "python",
   "pygments_lexer": "ipython2",
   "version": "2.7.6"
  }
 },
 "nbformat": 4,
 "nbformat_minor": 0
}
