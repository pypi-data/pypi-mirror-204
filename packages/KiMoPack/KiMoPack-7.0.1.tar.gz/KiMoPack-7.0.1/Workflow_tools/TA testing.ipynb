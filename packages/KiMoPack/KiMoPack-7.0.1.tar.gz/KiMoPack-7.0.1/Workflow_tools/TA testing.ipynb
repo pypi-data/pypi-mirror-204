{
 "cells": [
  {
   "cell_type": "markdown",
   "metadata": {},
   "source": [
    "### Set standard imports"
   ]
  },
  {
   "cell_type": "code",
   "execution_count": 26,
   "metadata": {},
   "outputs": [
    {
     "name": "stdout",
     "output_type": "stream",
     "text": [
      "Plot_func version 6.11.3\n",
      "was imported from path:\n",
      " H:\\Programs\\Anaconda\\Lib\\site-packages\\KiMoPack\n",
      "The current working folder is:\n",
      " H:\\Dropbox\\coding\\github\\KiMoPack\\Workflow_tools\n"
     ]
    },
    {
     "data": {
      "text/plain": [
       "<module 'KiMoPack.plot_func' from 'H:\\\\Programs\\\\Anaconda\\\\lib\\\\site-packages\\\\KiMoPack\\\\plot_func.py'>"
      ]
     },
     "execution_count": 26,
     "metadata": {},
     "output_type": "execute_result"
    }
   ],
   "source": [
    "import sys,os\n",
    "import matplotlib\n",
    "import matplotlib.pyplot as plt\n",
    "import lmfit\n",
    "import numpy as np\n",
    "import pandas\n",
    "#if this fails change qt to tk\n",
    "%matplotlib qt \n",
    "import KiMoPack.plot_func as pf\n",
    "from importlib import reload\n",
    "reload(pf)"
   ]
  },
  {
   "cell_type": "code",
   "execution_count": 58,
   "metadata": {},
   "outputs": [
    {
     "name": "stdout",
     "output_type": "stream",
     "text": [
      "H:\\Dropbox\\coding\\github\\KiMoPack\\Workflow_tools\\additional_formats\\Ivan\\PLQY2DMAP.txt\n"
     ]
    }
   ],
   "source": [
    "\n",
    "import import_library\n",
    "reload(import_library)\n",
    "from import_library import Ivan_horse\n",
    "ta=pf.TA('recent',conversion_function=Ivan_horse)"
   ]
  },
  {
   "cell_type": "code",
   "execution_count": 68,
   "metadata": {},
   "outputs": [
    {
     "name": "stdout",
     "output_type": "stream",
     "text": [
      "0.02 pswas not smoothed\n",
      "0.05 pswas not smoothed\n",
      "0.1 pswas not smoothed\n",
      "0.25 pswas not smoothed\n",
      "0.5 pswas not smoothed\n",
      "1 pswas not smoothed\n",
      "2.5 pswas not smoothed\n",
      "5 pswas not smoothed\n",
      "10 pswas not smoothed\n",
      "25 pswas not smoothed\n",
      "50 pswas not smoothed\n",
      "100 pswas not smoothed\n",
      "150 pswas not smoothed\n",
      "200 pswas not smoothed\n",
      "250 pswas not smoothed\n",
      "350 pswas not smoothed\n",
      "500 pswas not smoothed\n",
      "600 pswas not smoothed\n"
     ]
    },
    {
     "name": "stderr",
     "output_type": "stream",
     "text": [
      "H:\\Programs\\Anaconda\\lib\\site-packages\\ipykernel\\eventloops.py:107: UserWarning: Attempted to set non-positive bottom ylim on a log-scaled axis.\n",
      "Invalid limit will be ignored.\n",
      "  app.exec_()\n"
     ]
    }
   ],
   "source": [
    "plt.close('all')\n",
    "ta.rel_wave=ta.ds.columns.values\n",
    "ta.rel_time=ta.ds.index.values\n",
    "ta.intensity_range=[0,np.max(ta.ds.values)]\n",
    "ta.bordercut=[30,7e4]\n",
    "ta.timelimits=[1e-2,900]\n",
    "ta.Plot_RAW(1,plot_second_as_energy = False, scale_type='log')\n",
    "ta.Plot_RAW(2,plot_second_as_energy = False)\n",
    "ax=plt.gca();ax.set_xscale('log')\n",
    "ta.Plot_RAW(0,plot_second_as_energy = False, scale_type='log')\n",
    "ax1=plt.gca();ax1.set_xscale('log')"
   ]
  },
  {
   "cell_type": "code",
   "execution_count": null,
   "metadata": {},
   "outputs": [],
   "source": [
    "ta=pf.TA('sample_1.SIA',path='Data')"
   ]
  },
  {
   "cell_type": "code",
   "execution_count": null,
   "metadata": {},
   "outputs": [],
   "source": []
  },
  {
   "cell_type": "code",
   "execution_count": null,
   "metadata": {},
   "outputs": [],
   "source": []
  },
  {
   "cell_type": "code",
   "execution_count": null,
   "metadata": {},
   "outputs": [],
   "source": [
    "ds=pandas.read_csv(os.getcwd() + '\\Data\\sample_1.SIA')"
   ]
  },
  {
   "cell_type": "code",
   "execution_count": null,
   "metadata": {},
   "outputs": [],
   "source": [
    "ds=pandas.read_csv(os.getcwd() + '\\Data\\sample_1.SIA',sep='\\t',index_col=0)"
   ]
  },
  {
   "cell_type": "code",
   "execution_count": null,
   "metadata": {},
   "outputs": [],
   "source": [
    "ta=pf.TA('external',ds=ds,units='')"
   ]
  },
  {
   "cell_type": "code",
   "execution_count": null,
   "metadata": {},
   "outputs": [],
   "source": [
    "ta.ds"
   ]
  },
  {
   "cell_type": "code",
   "execution_count": null,
   "metadata": {},
   "outputs": [],
   "source": [
    "from import_library import streak_Lund\n",
    "ta=pf.TA('gui',conversion_function=streak_Lund,shift_times_by=-552)"
   ]
  },
  {
   "cell_type": "code",
   "execution_count": null,
   "metadata": {},
   "outputs": [],
   "source": []
  },
  {
   "cell_type": "code",
   "execution_count": null,
   "metadata": {},
   "outputs": [],
   "source": [
    "paths='d:\\\\Dropbox\\\\coding\\\\github\\\\KiMoPack\\\\Workflow_tools\\\\Data\\\\scans\\\\'\n",
    "dataset=pf.Summarize_scans(path_to_scans=paths)"
   ]
  },
  {
   "cell_type": "code",
   "execution_count": null,
   "metadata": {},
   "outputs": [],
   "source": [
    "dataset=pf.Summarize_scans('gui')"
   ]
  },
  {
   "cell_type": "code",
   "execution_count": null,
   "metadata": {},
   "outputs": [],
   "source": [
    "dataset=pf.Summarize_scans(path_to_scans=paths,fileending='SIA',filename_part='Scan')"
   ]
  },
  {
   "cell_type": "code",
   "execution_count": null,
   "metadata": {},
   "outputs": [],
   "source": []
  },
  {
   "cell_type": "code",
   "execution_count": null,
   "metadata": {},
   "outputs": [],
   "source": [
    "pf.download_notebooks()"
   ]
  },
  {
   "cell_type": "code",
   "execution_count": null,
   "metadata": {},
   "outputs": [],
   "source": [
    "pf.download_all()"
   ]
  },
  {
   "cell_type": "code",
   "execution_count": null,
   "metadata": {},
   "outputs": [],
   "source": []
  },
  {
   "cell_type": "code",
   "execution_count": null,
   "metadata": {},
   "outputs": [],
   "source": [
    "dataset.intensity_range=1e-3\n",
    "dataset.bordercut=[440,1250]\n",
    "plt.close('all')\n",
    "dataset.Plot_RAW(0)"
   ]
  },
  {
   "cell_type": "code",
   "execution_count": null,
   "metadata": {},
   "outputs": [],
   "source": [
    "ta=pf.Summarize_scans(path_to_scans=paths,\n",
    "                      value_filter = 20,\n",
    "                      zscore_filter_level =3,\n",
    "                      zscore_in_window=False,\n",
    "                      window1=[1,3,700,800],\n",
    "                      drop_scans=True,\n",
    "                      dump_times=True,\n",
    "                      base_TA_object=dataset)\n",
    "\n",
    "#ta.Plot_RAW(0)"
   ]
  },
  {
   "cell_type": "markdown",
   "metadata": {},
   "source": [
    "### Load and inspect Data "
   ]
  },
  {
   "cell_type": "code",
   "execution_count": null,
   "metadata": {},
   "outputs": [],
   "source": [
    "%matplotlib qt\n",
    "#ta=pf.TA('sample_1.SIA',path='Data')   #type filename and path (leave path empty if in the same folder)\n",
    "#ta=pf.TA(\"sample_1.hdf5\",path=\"Data\")  #reload saved projects using the same syntax\n",
    "ta=pf.TA('recent')                       #use a GUI to select data"
   ]
  },
  {
   "cell_type": "markdown",
   "metadata": {},
   "source": [
    "### perform standard corrections"
   ]
  },
  {
   "cell_type": "code",
   "execution_count": null,
   "metadata": {},
   "outputs": [],
   "source": [
    "ta.Filter_data(value=20)               #remove bad data\n",
    "ta.Man_Chirp()                         #correct for arrival time difference ta.Cor_Chirp('gui') allows to choose file \n",
    "ta.Background(uplimit=-0.5)           #substract Background before time_zero\n",
    "#ta.Plot_Interactive()"
   ]
  },
  {
   "cell_type": "markdown",
   "metadata": {},
   "source": [
    "### Shape data and plot Raw images"
   ]
  },
  {
   "cell_type": "code",
   "execution_count": null,
   "metadata": {},
   "outputs": [],
   "source": [
    "plt.close('all')\n",
    "#ta.rel_wave=[390,420,440,530,580,700,800,950,930,1050]      # use to manually select interesting wavelength for the kinetics\n",
    "ta.wavelength_bin=20                                         # width of wavelength bin in kinetics\n",
    "ta.equal_energy_bin=None\n",
    "ta.wave_nm_bin=5;                                            # rebinning wavelength\n",
    "ta.rel_time=[0.3,0.4,1,3,5,10,20,30,100,300,2000,3000]          # use to manually set interesting times for the spectra\n",
    "ta.time_width_percent=0                                      # rebinning of time_points in percent\n",
    "ta.timelimits=[-1,5000]                                      # use to manually limit the range to plot (and fit)     \n",
    "ta.log_scale=False                                           # use to plot the 2d plots with logarithmic intensity scale\n",
    "ta.bordercut=[400,1100]                                      # use to set the outer wavelength limits\n",
    "ta.scattercut=[525,605]                                      # this region is blanked out to block scatter, this can be a list of regions\n",
    "ta.intensity_range=[0,3e-3]                                  # set a value 5e-3 or a range [-1e-3,5e-3] for 2d plotting\n",
    "ta.Plot_RAW(0,title=None)                                      # Plot Raw Spectra"
   ]
  },
  {
   "cell_type": "code",
   "execution_count": null,
   "metadata": {},
   "outputs": [],
   "source": [
    "#ta.Plot_Interactive()"
   ]
  },
  {
   "cell_type": "markdown",
   "metadata": {},
   "source": [
    "### Perform fast fitting using independent exponential decay (first order)"
   ]
  },
  {
   "cell_type": "code",
   "execution_count": null,
   "metadata": {},
   "outputs": [],
   "source": [
    "plt.close('all')                                             # Close old spectra\n",
    "ta.mod='exponential'                                         # Choose the model 'exponential', 'consecutive' and 'fast_consecutive'are build in\n",
    "par=lmfit.Parameters()                                       # create empty parameter object\n",
    "\n",
    "par.add('k0',value=1/0.1,vary=True)                                # Add second rate component\n",
    "par.add('k1',value=1/2.5,vary=True)                                # Add one rate component\n",
    "par.add('k2',value=1/40,vary=True)                                 # Add second rate component\n",
    "par.add('t0',value=0,min=-2,max=2,vary=False)                       # Allow the arrival time to adjust (for all)\n",
    "par.add('resolution',value=0.086,min=0.04,max=0.5,vary=False)       # Allow the instrument response to adjust (for all)\n",
    "#par.add('infinite')                                                # Keyword for an non decaying component\n",
    "#par.add('background')                                             # Keyword to fit the Background Disable the background substraction in the loading cell for best effect\n",
    "#ta.timelimits=[0.2,5000]                                      # select time window in which to fit\n",
    "ta.ignore_time_region=[-0.1,0.5]                              # ignore the region over t0 for the fit\n",
    "ta.log_fit=False                                               # fit in linear or log scale\n",
    "if 0:\n",
    "    for key in par.keys():\n",
    "        par[key].vary=False\n",
    "ta.par=par                                                     # write parameter object into file for fitting\n",
    "ta.Fit_Global(fit_chirp=False)                                 # trigger fitting\n",
    "\n",
    "ta.error_matrix_amplification=10;                              # Choose how much stronger should error be plotted       \n",
    "ta.log_scale=False                                             # 2D plots in linear or log scale\n",
    "ta.Plot_fit_output(4)                                 # plot the fit output"
   ]
  },
  {
   "cell_type": "code",
   "execution_count": null,
   "metadata": {},
   "outputs": [],
   "source": [
    "ta.re.keys()"
   ]
  },
  {
   "cell_type": "code",
   "execution_count": null,
   "metadata": {},
   "outputs": [],
   "source": [
    "x=ta.ds.index.values\n",
    "len(np.unique(x[1:]-x[:-1]))"
   ]
  },
  {
   "cell_type": "code",
   "execution_count": null,
   "metadata": {},
   "outputs": [],
   "source": [
    "par=lmfit.Parameters() \n",
    "par.add('k0',value=1/0.1,vary=True)                                \n",
    "par.add('k1',value=1/2.5,vary=True)\n",
    "par.add('k2',value=1/100,vary=True)\n",
    "par.add('infinite')                               \n",
    "par.add('t0',value=0,min=-2,max=2,vary=False)                 \n",
    "par.add('resolution',value=0.086,min=0.04,max=0.5,vary=False)\n",
    "ta.par=par # write parameter object into file for fitting\n",
    "ta.Fit_Global(fit_chirp=False,confidence_level=0.95) "
   ]
  },
  {
   "cell_type": "code",
   "execution_count": null,
   "metadata": {},
   "outputs": [],
   "source": [
    "plt.close('all')\n",
    "ta.cmap=pf.cm.gist_ncar\n",
    "ta.intensity_range=3e-3\n",
    "ta.Plot_fit_output()"
   ]
  },
  {
   "cell_type": "markdown",
   "metadata": {},
   "source": [
    "### export the results as images and save the project"
   ]
  },
  {
   "cell_type": "code",
   "execution_count": null,
   "metadata": {},
   "outputs": [],
   "source": []
  },
  {
   "cell_type": "code",
   "execution_count": null,
   "metadata": {},
   "outputs": [],
   "source": [
    "#ta.filename='new'+ta.filename\n",
    "ta.Save_project()                     # This saves the whole project including raw data, fits and chirp correction into a single file"
   ]
  },
  {
   "cell_type": "code",
   "execution_count": null,
   "metadata": {},
   "outputs": [],
   "source": [
    "ta.Save_Plots(savetype='png')         # This saves all the figures and a overview powerpoint savetype=['png','svg']"
   ]
  },
  {
   "cell_type": "markdown",
   "metadata": {},
   "source": [
    "### Perform Error analysis and calculate confidence interval"
   ]
  },
  {
   "cell_type": "code",
   "execution_count": null,
   "metadata": {},
   "outputs": [],
   "source": [
    "ta.par=ta.par_fit #write the best results back as starting parameter\n",
    "ta.Fit_Global(confidence_level=0.65)"
   ]
  },
  {
   "cell_type": "markdown",
   "metadata": {},
   "source": [
    "### Perform fast iterative fitting using independent exponential decay and optimise the chirp"
   ]
  },
  {
   "cell_type": "code",
   "execution_count": null,
   "metadata": {},
   "outputs": [],
   "source": [
    "ta1=ta.Copy()                          # Make a copy of the fitting ptoject to test less stable things\n",
    "ta1.timelimits=None                    # To optimise the chirp the region around time-zero must be included\n",
    "ta1.ignore_time_region=None            # To optimise the chirp the region around time-zero must be included\n",
    "ta1.par=ta.par_fit                     # copy fitted parameter into a new fit (e.g. different model)\n",
    "ta1.Fit_Global(fit_chirp=True)         # trigger fitting with Chirp optimization best using 'exponential' for speed\n",
    "ta1.Plot_fit_output(title=None)        # plot the fit output"
   ]
  },
  {
   "cell_type": "code",
   "execution_count": null,
   "metadata": {},
   "outputs": [],
   "source": [
    "ta=ta1.Copy() # if successful they can always be written back"
   ]
  },
  {
   "cell_type": "markdown",
   "metadata": {},
   "source": [
    "### Perform fast fitting using consecutative exponential decay to obtain species associated spectrum assuming a simple model"
   ]
  },
  {
   "cell_type": "code",
   "execution_count": null,
   "metadata": {},
   "outputs": [],
   "source": [
    "ta.mod='consecutive'             # very quick fit using independent exponential followed by one round of sequential\n",
    "ta.par=ta.par_fit                # copy fitted parameter into a new fit (e.g. different model)\n",
    "ta.Fit_Global(fit_chirp=False)   # The iterative chrip is best optimised using 'exponential'\n",
    "ta.Plot_fit_output(title=None)   # plot the fit output"
   ]
  },
  {
   "cell_type": "code",
   "execution_count": null,
   "metadata": {},
   "outputs": [],
   "source": [
    "ta.par=ta.par_fit\n",
    "ta.mod='full_consecutive'        # Truely consecutative fitting, usually much slower\n",
    "ta.Fit_Global(fit_chirp=False)   \n",
    "ta.Plot_fit_output(title=None)"
   ]
  },
  {
   "cell_type": "markdown",
   "metadata": {},
   "source": [
    "### Sometimes required options applicable also to fit plotting"
   ]
  },
  {
   "cell_type": "code",
   "execution_count": null,
   "metadata": {},
   "outputs": [],
   "source": [
    "#ta.Man_Chirp()                   # used to redo the chirp-correction\n",
    "#ta.Save_data()                   # used to dump the Data and fits to disk\n",
    "\n",
    "#ta.cmap=pf.cm.viridis            # use different colour scheme (can also be a list of colours)\n",
    "#pf.changefonts(weight='bold',font='standard',SMALL_SIZE=18,MEDIUM_SIZE=18,LARGE_SIZE=18)  "
   ]
  },
  {
   "cell_type": "code",
   "execution_count": null,
   "metadata": {},
   "outputs": [],
   "source": [
    "ta.Save_Powerpoint()"
   ]
  }
 ],
 "metadata": {
  "ipub": {
   "titlepage": {
    "author": "Jens Uhlig",
    "email": "jens.uhlig@chemphys.lu.se",
    "logo": "http://www.jensuhlig.de//hot_warm_cold.png",
    "subtitle": "Main Worksheet",
    "title": "Transient Absorption Worksheet"
   }
  },
  "kernelspec": {
   "display_name": "Python 3 (ipykernel)",
   "language": "python",
   "name": "python3"
  },
  "language_info": {
   "codemirror_mode": {
    "name": "ipython",
    "version": 3
   },
   "file_extension": ".py",
   "mimetype": "text/x-python",
   "name": "python",
   "nbconvert_exporter": "python",
   "pygments_lexer": "ipython3",
   "version": "3.9.12"
  }
 },
 "nbformat": 4,
 "nbformat_minor": 2
}
