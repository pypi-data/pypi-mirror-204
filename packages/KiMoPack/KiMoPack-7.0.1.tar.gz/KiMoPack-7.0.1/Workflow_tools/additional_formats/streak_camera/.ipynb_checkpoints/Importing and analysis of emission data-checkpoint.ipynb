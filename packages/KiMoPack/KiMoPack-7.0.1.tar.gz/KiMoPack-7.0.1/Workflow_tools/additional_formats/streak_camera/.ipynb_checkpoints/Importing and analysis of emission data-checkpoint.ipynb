{
 "cells": [
  {
   "cell_type": "markdown",
   "metadata": {},
   "source": [
    "### Set standard imports"
   ]
  },
  {
   "cell_type": "code",
   "execution_count": 5,
   "metadata": {},
   "outputs": [
    {
     "name": "stdout",
     "output_type": "stream",
     "text": [
      "Plot_func version 6.8.0\n",
      "was imported from path:\n",
      " C:\\Users\\Jens\\anaconda3\\Lib\\site-packages\\KiMoPack\n",
      "The current working folder is:\n",
      " D:\\Dropbox\\coding\\github\\KiMoPack\\Workflow_tools\\additional_formats\\streak_camera\n"
     ]
    },
    {
     "data": {
      "text/plain": [
       "<module 'KiMoPack.plot_func' from 'C:\\\\Users\\\\Jens\\\\anaconda3\\\\lib\\\\site-packages\\\\KiMoPack\\\\plot_func.py'>"
      ]
     },
     "execution_count": 5,
     "metadata": {},
     "output_type": "execute_result"
    }
   ],
   "source": [
    "import matplotlib,lmfit\n",
    "import matplotlib.pyplot as plt\n",
    "import numpy as np\n",
    "import pandas as pd\n",
    "%matplotlib qt\n",
    "import KiMoPack.plot_func as pf\n",
    "from importlib import reload\n",
    "reload(pf)\n",
    "#from KiMoPack.plotfunc import pf"
   ]
  },
  {
   "cell_type": "code",
   "execution_count": null,
   "metadata": {},
   "outputs": [],
   "source": [
    "def streak_Lund(filename):\n",
    "    code=filename.split('-')\n",
    "    ds=pd.read_csv(filename,sep='\\t',header=None)\n",
    "    n_waves=len(ds.index.values)\n",
    "    n_times=len(ds.columns)\n",
    "    times={'t6':np.linspace(0,2000,n_times),\n",
    "           't5':np.linspace(0,1000,n_times),\n",
    "           't4':np.linspace(0,500,n_times),\n",
    "           't3':np.linspace(0,200,n_times),\n",
    "           't2':np.linspace(0,100,n_times),\n",
    "           't1':np.linspace(0,50,n_times)}\n",
    "    for i in [4,3,2,5]:\n",
    "        try:\n",
    "            times=times[code[i]]\n",
    "            break\n",
    "        except:\n",
    "            pass\n",
    "    for i in [6,5,7,8]:\n",
    "        if code[i][0]==w:\n",
    "            center=code[i][1:]\n",
    "            waves=np.linspace(float(center)-60,float(center)+75,n_waves)\n",
    "            break\n",
    "        else:\n",
    "            continue\n",
    "    ds.index=times\n",
    "    ds.index=ds.index.astype(float)\n",
    "    ds.columns=waves\n",
    "    ds.columns=ds.columns.astype(float)\n",
    "    ds.index.name='Time in ps'\n",
    "    ds.columns.name='Wavelength in nm'\n",
    "    return ds,'emission intensity'"
   ]
  },
  {
   "cell_type": "markdown",
   "metadata": {},
   "source": [
    "## Import the data and two slices that define the axis"
   ]
  },
  {
   "cell_type": "code",
   "execution_count": 6,
   "metadata": {},
   "outputs": [],
   "source": [
    "ds=pd.read_csv('FeCM02-266nm-4mw-QB390-t6-G63-w450-s150-556ms-E100.dat',sep='\\t',header=None)\n",
    "time=pd.read_csv('FeCM02-266nm-4mw-QB390-t6-G63-w450-s150-556ms-E100 vt.prf',sep=',',skiprows=5,index_col=0,header=None)\n",
    "wave=pd.read_csv('FeCM02-266nm-4mw-QB390-t6-G63-w450-s150-556ms-E100 hw.prf',sep=',',skiprows=5,index_col=0,header=None)\n",
    "ds.index=time.index\n",
    "ds.columns=wave.index\n",
    "ds.columns=ds.columns.astype(float)\n",
    "ta=pf.TA('external',ds=ds)\n",
    "ta.intensity_range=[0,20000]"
   ]
  },
  {
   "cell_type": "code",
   "execution_count": 7,
   "metadata": {},
   "outputs": [
    {
     "data": {
      "text/html": [
       "<div>\n",
       "<style scoped>\n",
       "    .dataframe tbody tr th:only-of-type {\n",
       "        vertical-align: middle;\n",
       "    }\n",
       "\n",
       "    .dataframe tbody tr th {\n",
       "        vertical-align: top;\n",
       "    }\n",
       "\n",
       "    .dataframe thead th {\n",
       "        text-align: right;\n",
       "    }\n",
       "</style>\n",
       "<table border=\"1\" class=\"dataframe\">\n",
       "  <thead>\n",
       "    <tr style=\"text-align: right;\">\n",
       "      <th></th>\n",
       "      <th>1</th>\n",
       "    </tr>\n",
       "    <tr>\n",
       "      <th>0</th>\n",
       "      <th></th>\n",
       "    </tr>\n",
       "  </thead>\n",
       "  <tbody>\n",
       "    <tr>\n",
       "      <th>390.8657</th>\n",
       "      <td>4116.824</td>\n",
       "    </tr>\n",
       "    <tr>\n",
       "      <th>391.0746</th>\n",
       "      <td>13565.440</td>\n",
       "    </tr>\n",
       "    <tr>\n",
       "      <th>391.2836</th>\n",
       "      <td>31525.010</td>\n",
       "    </tr>\n",
       "    <tr>\n",
       "      <th>391.4926</th>\n",
       "      <td>7284.055</td>\n",
       "    </tr>\n",
       "    <tr>\n",
       "      <th>391.7015</th>\n",
       "      <td>69088.490</td>\n",
       "    </tr>\n",
       "    <tr>\n",
       "      <th>...</th>\n",
       "      <td>...</td>\n",
       "    </tr>\n",
       "    <tr>\n",
       "      <th>523.5522</th>\n",
       "      <td>8867.901</td>\n",
       "    </tr>\n",
       "    <tr>\n",
       "      <th>523.7612</th>\n",
       "      <td>9204.638</td>\n",
       "    </tr>\n",
       "    <tr>\n",
       "      <th>523.9702</th>\n",
       "      <td>9038.945</td>\n",
       "    </tr>\n",
       "    <tr>\n",
       "      <th>524.1791</th>\n",
       "      <td>8895.330</td>\n",
       "    </tr>\n",
       "    <tr>\n",
       "      <th>524.3881</th>\n",
       "      <td>9082.066</td>\n",
       "    </tr>\n",
       "  </tbody>\n",
       "</table>\n",
       "<p>640 rows × 1 columns</p>\n",
       "</div>"
      ],
      "text/plain": [
       "                  1\n",
       "0                  \n",
       "390.8657   4116.824\n",
       "391.0746  13565.440\n",
       "391.2836  31525.010\n",
       "391.4926   7284.055\n",
       "391.7015  69088.490\n",
       "...             ...\n",
       "523.5522   8867.901\n",
       "523.7612   9204.638\n",
       "523.9702   9038.945\n",
       "524.1791   8895.330\n",
       "524.3881   9082.066\n",
       "\n",
       "[640 rows x 1 columns]"
      ]
     },
     "execution_count": 7,
     "metadata": {},
     "output_type": "execute_result"
    }
   ],
   "source": [
    "wave"
   ]
  },
  {
   "cell_type": "markdown",
   "metadata": {},
   "source": [
    "### Shape data and plot Raw images"
   ]
  },
  {
   "cell_type": "code",
   "execution_count": 70,
   "metadata": {},
   "outputs": [],
   "source": [
    "plt.close('all')\n",
    "ta.intensity_range=[0,20000]\n",
    "ta.rel_wave=[400,410,420,460,480,500]\n",
    "ta.rel_time=np.array([250,600,750,1000,1750])\n",
    "ta.bordercut=[390,514]\n",
    "ta.wave_nm_bin=None\n",
    "ta.wavelength_bin=50  \n",
    "ta.Plot_RAW(range(3),scale_type='linear')   "
   ]
  },
  {
   "cell_type": "markdown",
   "metadata": {},
   "source": [
    "### shift t0 run only once!!!"
   ]
  },
  {
   "cell_type": "code",
   "execution_count": 71,
   "metadata": {},
   "outputs": [],
   "source": [
    "t0=586.\n",
    "ta.ds.index=ta.ds.index.values-t0\n",
    "ta.rel_time=ta.rel_time-t0\n",
    "ta.timelimits=[1,1500]"
   ]
  },
  {
   "cell_type": "markdown",
   "metadata": {},
   "source": [
    "### plot_cleaned"
   ]
  },
  {
   "cell_type": "code",
   "execution_count": 72,
   "metadata": {},
   "outputs": [],
   "source": [
    "plt.close('all')                                           # use to plot the 2d plots with logarithmic intensity scale\n",
    "ta.rel_wave=np.arange(400,480,10)\n",
    "ta.bordercut=[390,480]                                    # use to set the outer wavelength limits\n",
    "ta.intensity_range=[0,30000]                                  # set a value 5e-3 or a range [-1e-3,5e-3] for 2d plotting\n",
    "ta.Plot_RAW(range(3),scale_type='log')                                      # Plot Raw Spectra"
   ]
  },
  {
   "cell_type": "markdown",
   "metadata": {},
   "source": [
    "### with background substraction"
   ]
  },
  {
   "cell_type": "code",
   "execution_count": 73,
   "metadata": {},
   "outputs": [],
   "source": [
    "ta.Background(uplimit=-20)\n",
    "plt.close('all')                                           # use to plot the 2d plots with logarithmic intensity scale\n",
    "ta.rel_wave=np.arange(400,480,10)\n",
    "ta.bordercut=[390,510]                                    # use to set the outer wavelength limits\n",
    "ta.intensity_range=[0,30000]                                  # set a value 5e-3 or a range [-1e-3,5e-3] for 2d plotting\n",
    "ta.Plot_RAW(range(3),scale_type='log')                                      # Plot Raw Spectra"
   ]
  },
  {
   "cell_type": "markdown",
   "metadata": {},
   "source": [
    "### Perform fast fitting using independent exponential decay (first order)"
   ]
  },
  {
   "cell_type": "raw",
   "metadata": {},
   "source": [
    "ta.wave_nm_bin=2; \n",
    "plt.close('all')                                             # Close old spectra\n",
    "ta.mod='exponential'                                         # Choose the model 'exponential', 'consecutive' and 'fast_consecutive'are build in\n",
    "par=lmfit.Parameters()                                       # create empty parameter object\n",
    "\n",
    "par.add('k0',value=1/0.1,vary=True)                                # Add second rate component\n",
    "par.add('k1',value=1/2.5,vary=True)                                # Add one rate component\n",
    "par.add('k2',value=1/40,vary=True)                                 # Add second rate component\n",
    "par.add('t0',value=0,vary=False)                       # Allow the arrival time to adjust (for all)\n",
    "par.add('resolution',value=0.086,min=0.04,max=0.5,vary=False)       # Allow the instrument response to adjust (for all)\n",
    "#par.add('infinite')                                                # Keyword for an non decaying component\n",
    "#par.add('background')                                             # Keyword to fit the Background Disable the background substraction in the loading cell for best effect\n",
    "#ta.timelimits=[0.2,5000]                                      # select time window in which to fit\n",
    "ta.ignore_time_region=[-0.1,0.5]                              # ignore the region over t0 for the fit\n",
    "ta.log_fit=False                                               # fit in linear or log scale\n",
    "if 0:\n",
    "    for key in par.keys():\n",
    "        par[key].vary=False\n",
    "ta.par=par                                                     # write parameter object into file for fitting\n",
    "ta.Fit_Global(fit_chirp=False)                                 # trigger fitting\n",
    "\n",
    "ta.error_matrix_amplification=10;                              # Choose how much stronger should error be plotted       \n",
    "ta.log_scale=False                                             # 2D plots in linear or log scale\n",
    "ta.Plot_fit_output()                                 # plot the fit output"
   ]
  },
  {
   "cell_type": "code",
   "execution_count": null,
   "metadata": {},
   "outputs": [],
   "source": [
    "par=lmfit.Parameters() \n",
    "par.add('k0',value=1/0.1,vary=True)                                \n",
    "par.add('k1',value=1/2.5,vary=True)\n",
    "par.add('k2',value=1/100,vary=True)\n",
    "par.add('infinite')                               \n",
    "par.add('t0',value=0,min=-2,max=2,vary=False)                 \n",
    "par.add('resolution',value=0.086,min=0.04,max=0.5,vary=False)\n",
    "ta.par=par # write parameter object into file for fitting\n",
    "ta.Fit_Global(fit_chirp=False,confidence_level=0.95) "
   ]
  },
  {
   "cell_type": "code",
   "execution_count": null,
   "metadata": {},
   "outputs": [],
   "source": [
    "plt.close('all')\n",
    "ta.cmap=pf.cm.gist_ncar\n",
    "ta.intensity_range=3e-3\n",
    "ta.Plot_fit_output()"
   ]
  },
  {
   "cell_type": "markdown",
   "metadata": {},
   "source": [
    "### export the results as images and save the project"
   ]
  },
  {
   "cell_type": "code",
   "execution_count": null,
   "metadata": {},
   "outputs": [],
   "source": []
  },
  {
   "cell_type": "code",
   "execution_count": null,
   "metadata": {},
   "outputs": [],
   "source": [
    "#ta.filename='new'+ta.filename\n",
    "ta.Save_project()                     # This saves the whole project including raw data, fits and chirp correction into a single file"
   ]
  },
  {
   "cell_type": "code",
   "execution_count": null,
   "metadata": {},
   "outputs": [],
   "source": [
    "ta.Save_Plots(savetype='png')         # This saves all the figures and a overview powerpoint savetype=['png','svg']"
   ]
  },
  {
   "cell_type": "markdown",
   "metadata": {},
   "source": [
    "### Perform Error analysis and calculate confidence interval"
   ]
  },
  {
   "cell_type": "code",
   "execution_count": null,
   "metadata": {},
   "outputs": [],
   "source": [
    "ta.par=ta.par_fit #write the best results back as starting parameter\n",
    "ta.Fit_Global(confidence_level=0.65)"
   ]
  },
  {
   "cell_type": "markdown",
   "metadata": {},
   "source": [
    "### Perform fast iterative fitting using independent exponential decay and optimise the chirp"
   ]
  },
  {
   "cell_type": "code",
   "execution_count": null,
   "metadata": {},
   "outputs": [],
   "source": [
    "ta1=ta.Copy()                          # Make a copy of the fitting ptoject to test less stable things\n",
    "ta1.timelimits=None                    # To optimise the chirp the region around time-zero must be included\n",
    "ta1.ignore_time_region=None            # To optimise the chirp the region around time-zero must be included\n",
    "ta1.par=ta.par_fit                     # copy fitted parameter into a new fit (e.g. different model)\n",
    "ta1.Fit_Global(fit_chirp=True)         # trigger fitting with Chirp optimization best using 'exponential' for speed\n",
    "ta1.Plot_fit_output(title=None)        # plot the fit output"
   ]
  },
  {
   "cell_type": "code",
   "execution_count": null,
   "metadata": {},
   "outputs": [],
   "source": [
    "ta=ta1.Copy() # if successful they can always be written back"
   ]
  },
  {
   "cell_type": "markdown",
   "metadata": {},
   "source": [
    "### Perform fast fitting using consecutative exponential decay to obtain species associated spectrum assuming a simple model"
   ]
  },
  {
   "cell_type": "code",
   "execution_count": null,
   "metadata": {},
   "outputs": [],
   "source": [
    "ta.mod='consecutive'             # very quick fit using independent exponential followed by one round of sequential\n",
    "ta.par=ta.par_fit                # copy fitted parameter into a new fit (e.g. different model)\n",
    "ta.Fit_Global(fit_chirp=False)   # The iterative chrip is best optimised using 'exponential'\n",
    "ta.Plot_fit_output(title=None)   # plot the fit output"
   ]
  },
  {
   "cell_type": "code",
   "execution_count": null,
   "metadata": {},
   "outputs": [],
   "source": [
    "ta.par=ta.par_fit\n",
    "ta.mod='full_consecutive'        # Truely consecutative fitting, usually much slower\n",
    "ta.Fit_Global(fit_chirp=False)   \n",
    "ta.Plot_fit_output(title=None)"
   ]
  },
  {
   "cell_type": "markdown",
   "metadata": {},
   "source": [
    "### Sometimes required options applicable also to fit plotting"
   ]
  },
  {
   "cell_type": "code",
   "execution_count": null,
   "metadata": {},
   "outputs": [],
   "source": [
    "#ta.Man_Chirp()                   # used to redo the chirp-correction\n",
    "#ta.Save_data()                   # used to dump the Data and fits to disk\n",
    "\n",
    "#ta.cmap=pf.cm.viridis            # use different colour scheme (can also be a list of colours)\n",
    "#pf.changefonts(weight='bold',font='standard',SMALL_SIZE=18,MEDIUM_SIZE=18,LARGE_SIZE=18)  "
   ]
  },
  {
   "cell_type": "code",
   "execution_count": null,
   "metadata": {},
   "outputs": [],
   "source": [
    "ta.Save_Powerpoint()"
   ]
  }
 ],
 "metadata": {
  "ipub": {
   "titlepage": {
    "author": "Jens Uhlig",
    "email": "jens.uhlig@chemphys.lu.se",
    "logo": "http://www.jensuhlig.de//hot_warm_cold.png",
    "subtitle": "Main Worksheet",
    "title": "Transient Absorption Worksheet"
   }
  },
  "kernelspec": {
   "display_name": "Python 3 (ipykernel)",
   "language": "python",
   "name": "python3"
  },
  "language_info": {
   "codemirror_mode": {
    "name": "ipython",
    "version": 3
   },
   "file_extension": ".py",
   "mimetype": "text/x-python",
   "name": "python",
   "nbconvert_exporter": "python",
   "pygments_lexer": "ipython3",
   "version": "3.9.12"
  }
 },
 "nbformat": 4,
 "nbformat_minor": 2
}
