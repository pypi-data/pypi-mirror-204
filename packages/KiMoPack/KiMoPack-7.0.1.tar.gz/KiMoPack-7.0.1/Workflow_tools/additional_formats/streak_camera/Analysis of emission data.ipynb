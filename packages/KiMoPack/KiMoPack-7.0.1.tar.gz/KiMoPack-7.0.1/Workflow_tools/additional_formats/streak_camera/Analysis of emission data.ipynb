{
 "cells": [
  {
   "cell_type": "markdown",
   "metadata": {},
   "source": [
    "### Set standard imports"
   ]
  },
  {
   "cell_type": "code",
   "execution_count": 72,
   "metadata": {},
   "outputs": [
    {
     "name": "stdout",
     "output_type": "stream",
     "text": [
      "Plot_func version 6.8.0\n",
      "was imported from path:\n",
      " C:\\Users\\Jens\\anaconda3\\Lib\\site-packages\\KiMoPack\n",
      "The current working folder is:\n",
      " D:\\Dropbox\\coding\\github\\KiMoPack\\Workflow_tools\\additional_formats\\streak_camera\n"
     ]
    },
    {
     "data": {
      "text/plain": [
       "<module 'KiMoPack.plot_func' from 'C:\\\\Users\\\\Jens\\\\anaconda3\\\\lib\\\\site-packages\\\\KiMoPack\\\\plot_func.py'>"
      ]
     },
     "execution_count": 72,
     "metadata": {},
     "output_type": "execute_result"
    }
   ],
   "source": [
    "import matplotlib,lmfit\n",
    "import matplotlib.pyplot as plt\n",
    "import numpy as np\n",
    "import pandas as pd\n",
    "%matplotlib qt\n",
    "import KiMoPack.plot_func as pf\n",
    "from importlib import reload\n",
    "reload(pf)\n",
    "#from KiMoPack.plotfunc import pf"
   ]
  },
  {
   "cell_type": "code",
   "execution_count": 73,
   "metadata": {},
   "outputs": [
    {
     "data": {
      "image/png": "[encoded data removed]",
      "text/html": [
       "<div style=\"vertical-align: middle;\"><strong>inferno</strong> </div><div class=\"cmap\"><img alt=\"inferno colormap\" title=\"inferno\" style=\"border: 1px solid #555;\" src=\"data:image/png;base64,iVBORw0KGgoAAAANSUhEUgAAAgAAAABACAYAAABsv8+/AAAAFnRFWHRUaXRsZQBpbmZlcm5vIGNvbG9ybWFwTalGwAAAABx0RVh0RGVzY3JpcHRpb24AaW5mZXJubyBjb2xvcm1hcOqH97kAAAAwdEVYdEF1dGhvcgBNYXRwbG90bGliIHYzLjUuMSwgaHR0cHM6Ly9tYXRwbG90bGliLm9yZ/e3zs8AAAAydEVYdFNvZnR3YXJlAE1hdHBsb3RsaWIgdjMuNS4xLCBodHRwczovL21hdHBsb3RsaWIub3Jn2RFR6AAAAj5JREFUeJzt1kty2zAQBUAAVO5/YzGLCHRhaFhytq97o5oPQMouu15v7Thba621/u+jjVf1qvso/WPp99mve33dv+rNubk3bvNjqUep5/nRyl6t6z3l+4xz7X/NS/98N+9lPuv6uZu3td/X+fVb6mW/1HP+tV/vbeX8/+79XH+8186P7v96j3PzXudn92/uuZ57u7/u1eecvzu33as/h9o/yz31+5V52+zf3mOt7895U2/fr/THrJ8fPe+35/vYnB/P7++/7T9fP6A3e+P547zN+eZcq+fG/De8nmv1+9b+5r76/NY35679Vt5/7V/zUt//AGd/1uPDunz2Tb98nuPYzI/X/F3/KP31vnM7L3V/lPmj7G3q/ij7tf9n6fe+znvp901/XPNjqeevCwAIIgAAQCABAAACCQAAEEgAAIBAAgAABBIAACCQAAAAgQQAAAgkAABAIAEAAAIJAAAQSAAAgEACAAAEEgAAIJAAAACBBAAACCQAAEAgAQAAAgkAABBIAACAQAIAAAQSAAAgkAAAAIEEAAAIJAAAQCABAAACCQAAEEgAAIBAAgAABBIAACCQAAAAgQQAAAgkAABAIAEAAAIJAAAQSAAAgEACAAAEEgAAIJAAAACBBAAACCQAAEAgAQAAAgkAABBIAACAQAIAAAQSAAAgkAAAAIEEAAAIJAAAQCABAAACCQAAEEgAAIBAAgAABBIAACCQAAAAgQQAAAgkAABAIAEAAAIJAAAQSAAAgEACAAAEEgAAINBfNHptHZCXMAEAAAAASUVORK5CYII=\"></div><div style=\"vertical-align: middle; max-width: 514px; display: flex; justify-content: space-between;\"><div style=\"float: left;\"><div title=\"#000004ff\" style=\"display: inline-block; width: 1em; height: 1em; margin: 0; vertical-align: middle; border: 1px solid #555; background-color: #000004ff;\"></div> under</div><div style=\"margin: 0 auto; display: inline-block;\">bad <div title=\"#00000000\" style=\"display: inline-block; width: 1em; height: 1em; margin: 0; vertical-align: middle; border: 1px solid #555; background-color: #00000000;\"></div></div><div style=\"float: right;\">over <div title=\"#fcffa4ff\" style=\"display: inline-block; width: 1em; height: 1em; margin: 0; vertical-align: middle; border: 1px solid #555; background-color: #fcffa4ff;\"></div></div>"
      ],
      "text/plain": [
       "<matplotlib.colors.ListedColormap at 0x22032bcd160>"
      ]
     },
     "execution_count": 73,
     "metadata": {},
     "output_type": "execute_result"
    }
   ],
   "source": [
    "pf.cm.inferno"
   ]
  },
  {
   "cell_type": "code",
   "execution_count": 74,
   "metadata": {},
   "outputs": [],
   "source": [
    "from import_library import streak_Lund\n",
    "ta=pf.TA('recent',conversion_function=streak_Lund,shift_times_by=-552)\n",
    "#ta=pf.TA('FeCM02-266nm-4mw-QB390-t6-G63-w450-s150-556ms-E100.dat',conversion_function=streak_Lund,shift_times_by=-552)"
   ]
  },
  {
   "cell_type": "code",
   "execution_count": 75,
   "metadata": {},
   "outputs": [
    {
     "name": "stderr",
     "output_type": "stream",
     "text": [
      "Traceback (most recent call last):\n",
      "  File \"C:\\Users\\Jens\\anaconda3\\lib\\site-packages\\matplotlib\\cbook\\__init__.py\", line 287, in process\n",
      "    func(*args, **kwargs)\n",
      "  File \"C:\\Users\\Jens\\anaconda3\\lib\\site-packages\\matplotlib\\backend_bases.py\", line 3061, in mouse_move\n",
      "    s = self._mouse_event_to_message(event)\n",
      "  File \"C:\\Users\\Jens\\anaconda3\\lib\\site-packages\\matplotlib\\backend_bases.py\", line 3053, in _mouse_event_to_message\n",
      "    data_str = a.format_cursor_data(data).rstrip()\n",
      "  File \"C:\\Users\\Jens\\anaconda3\\lib\\site-packages\\matplotlib\\artist.py\", line 1282, in format_cursor_data\n",
      "    neighbors = self.norm.inverse(\n",
      "  File \"C:\\Users\\Jens\\anaconda3\\lib\\site-packages\\matplotlib\\colors.py\", line 1832, in inverse\n",
      "    raise ValueError(\"BoundaryNorm is not invertible\")\n",
      "ValueError: BoundaryNorm is not invertible\n"
     ]
    }
   ],
   "source": [
    "plt.close('all')\n",
    "#set intensity to the intensity of the 10 times the median\n",
    "so=ta.ds.copy().values.flatten()\n",
    "ta.intensity_range=[0,np.median(so)*10]\n",
    "ta.cmap=pf.cm.inferno\n",
    "\n",
    "#plot raw\n",
    "ta.Plot_RAW()"
   ]
  },
  {
   "cell_type": "code",
   "execution_count": 71,
   "metadata": {},
   "outputs": [
    {
     "ename": "IndexError",
     "evalue": "list index out of range",
     "output_type": "error",
     "traceback": [
      "\u001b[1;31m---------------------------------------------------------------------------\u001b[0m",
      "\u001b[1;31mIndexError\u001b[0m                                Traceback (most recent call last)",
      "Input \u001b[1;32mIn [71]\u001b[0m, in \u001b[0;36m<cell line: 1>\u001b[1;34m()\u001b[0m\n\u001b[1;32m----> 1\u001b[0m \u001b[43mta\u001b[49m\u001b[38;5;241;43m.\u001b[39;49m\u001b[43mMan_Chirp\u001b[49m\u001b[43m(\u001b[49m\u001b[43mshown_window\u001b[49m\u001b[38;5;241;43m=\u001b[39;49m\u001b[43m[\u001b[49m\u001b[38;5;241;43m-\u001b[39;49m\u001b[38;5;241;43m30\u001b[39;49m\u001b[43m,\u001b[49m\u001b[38;5;241;43m30\u001b[39;49m\u001b[43m]\u001b[49m\u001b[43m,\u001b[49m\u001b[43mcmap\u001b[49m\u001b[38;5;241;43m=\u001b[39;49m\u001b[43mpf\u001b[49m\u001b[38;5;241;43m.\u001b[39;49m\u001b[43mcm\u001b[49m\u001b[38;5;241;43m.\u001b[39;49m\u001b[43minferno\u001b[49m\u001b[43m)\u001b[49m\n",
      "File \u001b[1;32m~\\anaconda3\\lib\\site-packages\\KiMoPack\\plot_func.py:5092\u001b[0m, in \u001b[0;36mTA.Man_Chirp\u001b[1;34m(self, shown_window, path, max_points, cmap)\u001b[0m\n\u001b[0;32m   5061\u001b[0m \u001b[38;5;28;01mdef\u001b[39;00m \u001b[38;5;21mMan_Chirp\u001b[39m(\u001b[38;5;28mself\u001b[39m,shown_window\u001b[38;5;241m=\u001b[39m[\u001b[38;5;241m-\u001b[39m\u001b[38;5;241m1\u001b[39m,\u001b[38;5;241m1\u001b[39m],path\u001b[38;5;241m=\u001b[39m\u001b[38;5;28;01mNone\u001b[39;00m,max_points\u001b[38;5;241m=\u001b[39m\u001b[38;5;241m40\u001b[39m,cmap\u001b[38;5;241m=\u001b[39mcm\u001b[38;5;241m.\u001b[39mprism):\n\u001b[0;32m   5062\u001b[0m \t\u001b[38;5;124;03m'''Triggering of Manuel Fix_Chirp. usually used when Cor_Chirp has run already. \u001b[39;00m\n\u001b[0;32m   5063\u001b[0m \u001b[38;5;124;03m\tAlternatively delete the chirp file. This Function opens a plot in which the user manually selects a number of points\u001b[39;00m\n\u001b[0;32m   5064\u001b[0m \u001b[38;5;124;03m\tThese points will then be interpolated with a 4th order polynomial\u001b[39;00m\n\u001b[1;32m   (...)\u001b[0m\n\u001b[0;32m   5089\u001b[0m \u001b[38;5;124;03m\t\u001b[39;00m\n\u001b[0;32m   5090\u001b[0m \u001b[38;5;124;03m\t'''\u001b[39;00m\n\u001b[1;32m-> 5092\u001b[0m \ttemp_ds \u001b[38;5;241m=\u001b[39m \u001b[43mFix_Chirp\u001b[49m\u001b[43m(\u001b[49m\u001b[38;5;28;43mself\u001b[39;49m\u001b[38;5;241;43m.\u001b[39;49m\u001b[43mds_ori\u001b[49m\u001b[43m,\u001b[49m\u001b[43m \u001b[49m\u001b[43mcmap\u001b[49m\u001b[43m \u001b[49m\u001b[38;5;241;43m=\u001b[39;49m\u001b[43m \u001b[49m\u001b[43mcmap\u001b[49m\u001b[43m,\u001b[49m\u001b[43m \u001b[49m\u001b[43msave_file\u001b[49m\u001b[43m \u001b[49m\u001b[38;5;241;43m=\u001b[39;49m\u001b[43m \u001b[49m\u001b[38;5;28;43;01mNone\u001b[39;49;00m\u001b[43m,\u001b[49m\u001b[43m \u001b[49m\u001b[43mintensity_range\u001b[49m\u001b[43m \u001b[49m\u001b[38;5;241;43m=\u001b[39;49m\u001b[43m \u001b[49m\u001b[38;5;28;43mself\u001b[39;49m\u001b[38;5;241;43m.\u001b[39;49m\u001b[43mintensity_range\u001b[49m\u001b[43m,\u001b[49m\u001b[43m \u001b[49m\n\u001b[0;32m   5093\u001b[0m \u001b[43m\t\t\t\t\t\t\u001b[49m\u001b[43mwave_nm_bin\u001b[49m\u001b[43m \u001b[49m\u001b[38;5;241;43m=\u001b[39;49m\u001b[43m \u001b[49m\u001b[38;5;241;43m10\u001b[39;49m\u001b[43m,\u001b[49m\u001b[43m \u001b[49m\u001b[43mshown_window\u001b[49m\u001b[43m \u001b[49m\u001b[38;5;241;43m=\u001b[39;49m\u001b[43m \u001b[49m\u001b[43mshown_window\u001b[49m\u001b[43m,\u001b[49m\u001b[43m \u001b[49m\u001b[43mfilename\u001b[49m\u001b[43m \u001b[49m\u001b[38;5;241;43m=\u001b[39;49m\u001b[43m \u001b[49m\u001b[38;5;28;43mself\u001b[39;49m\u001b[38;5;241;43m.\u001b[39;49m\u001b[43mfilename\u001b[49m\u001b[43m,\u001b[49m\u001b[43m \u001b[49m\n\u001b[0;32m   5094\u001b[0m \u001b[43m\t\t\t\t\t\t\u001b[49m\u001b[43mscattercut\u001b[49m\u001b[43m \u001b[49m\u001b[38;5;241;43m=\u001b[39;49m\u001b[43m \u001b[49m\u001b[38;5;28;43mself\u001b[39;49m\u001b[38;5;241;43m.\u001b[39;49m\u001b[43mscattercut\u001b[49m\u001b[43m,\u001b[49m\u001b[43m \u001b[49m\u001b[43mbordercut\u001b[49m\u001b[43m \u001b[49m\u001b[38;5;241;43m=\u001b[39;49m\u001b[43m \u001b[49m\u001b[38;5;28;43mself\u001b[39;49m\u001b[38;5;241;43m.\u001b[39;49m\u001b[43mbordercut\u001b[49m\u001b[43m,\u001b[49m\u001b[43m \u001b[49m\n\u001b[0;32m   5095\u001b[0m \u001b[43m\t\t\t\t\t\t\u001b[49m\u001b[43mpath\u001b[49m\u001b[43m \u001b[49m\u001b[38;5;241;43m=\u001b[39;49m\u001b[43m \u001b[49m\u001b[43mcheck_folder\u001b[49m\u001b[43m(\u001b[49m\u001b[43mpath\u001b[49m\u001b[43m \u001b[49m\u001b[38;5;241;43m=\u001b[39;49m\u001b[43m \u001b[49m\u001b[43mpath\u001b[49m\u001b[43m,\u001b[49m\u001b[43m \u001b[49m\u001b[43mcurrent_path\u001b[49m\u001b[43m \u001b[49m\u001b[38;5;241;43m=\u001b[39;49m\u001b[43m \u001b[49m\u001b[38;5;28;43mself\u001b[39;49m\u001b[38;5;241;43m.\u001b[39;49m\u001b[43mpath\u001b[49m\u001b[43m)\u001b[49m\u001b[43m,\u001b[49m\u001b[43m \u001b[49m\u001b[43mmax_points\u001b[49m\u001b[43m \u001b[49m\u001b[38;5;241;43m=\u001b[39;49m\u001b[43m \u001b[49m\u001b[43mmax_points\u001b[49m\u001b[43m)\u001b[49m \n\u001b[0;32m   5096\u001b[0m \t\u001b[38;5;28;01mif\u001b[39;00m \u001b[38;5;28misinstance\u001b[39m(temp_ds,pandas\u001b[38;5;241m.\u001b[39mDataFrame):\n\u001b[0;32m   5097\u001b[0m \t\t\u001b[38;5;28mself\u001b[39m\u001b[38;5;241m.\u001b[39mds\u001b[38;5;241m=\u001b[39mtemp_ds\n",
      "File \u001b[1;32m~\\anaconda3\\lib\\site-packages\\KiMoPack\\plot_func.py:3423\u001b[0m, in \u001b[0;36mFix_Chirp\u001b[1;34m(ds, save_file, scattercut, intensity_range, wave_nm_bin, bordercut, shown_window, filename, path, fitcoeff, max_points, cmap)\u001b[0m\n\u001b[0;32m   3421\u001b[0m ax\u001b[38;5;241m.\u001b[39mtext(ax\u001b[38;5;241m.\u001b[39mget_xlim()[\u001b[38;5;241m0\u001b[39m]\u001b[38;5;241m+\u001b[39mw\u001b[38;5;241m*\u001b[39m\u001b[38;5;241m3.\u001b[39m\u001b[38;5;241m/\u001b[39m\u001b[38;5;241m4.\u001b[39m,timelimits[\u001b[38;5;241m0\u001b[39m],\u001b[38;5;124m'\u001b[39m\u001b[38;5;124mCancel all\u001b[39m\u001b[38;5;124m'\u001b[39m,fontsize\u001b[38;5;241m=\u001b[39m\u001b[38;5;241m15\u001b[39m)\n\u001b[0;32m   3422\u001b[0m choice \u001b[38;5;241m=\u001b[39mplt\u001b[38;5;241m.\u001b[39mginput(\u001b[38;5;241m1\u001b[39m,timeout\u001b[38;5;241m=\u001b[39m\u001b[38;5;241m15\u001b[39m)\n\u001b[1;32m-> 3423\u001b[0m factor\u001b[38;5;241m=\u001b[39m\u001b[38;5;28mint\u001b[39m((\u001b[43mchoice\u001b[49m\u001b[43m[\u001b[49m\u001b[38;5;241;43m0\u001b[39;49m\u001b[43m]\u001b[49m[\u001b[38;5;241m0\u001b[39m]\u001b[38;5;241m-\u001b[39max\u001b[38;5;241m.\u001b[39mget_xlim()[\u001b[38;5;241m0\u001b[39m])\u001b[38;5;241m/\u001b[39m(w\u001b[38;5;241m/\u001b[39m\u001b[38;5;241m10.\u001b[39m))\n\u001b[0;32m   3424\u001b[0m \u001b[38;5;28;01mif\u001b[39;00m choice[\u001b[38;5;241m0\u001b[39m][\u001b[38;5;241m1\u001b[39m] \u001b[38;5;241m>\u001b[39m shown_window[\u001b[38;5;241m1\u001b[39m]\u001b[38;5;241m/\u001b[39m\u001b[38;5;241m2\u001b[39m:\n\u001b[0;32m   3425\u001b[0m \tintensity_range\u001b[38;5;241m=\u001b[39mintensities[factor]\n",
      "\u001b[1;31mIndexError\u001b[0m: list index out of range"
     ]
    }
   ],
   "source": [
    "ta._Chirp(shown_window=[-30,30],cmap=pf.cm.inferno)"
   ]
  },
  {
   "cell_type": "markdown",
   "metadata": {},
   "source": [
    "## Import the data and two slices that define the axis"
   ]
  },
  {
   "cell_type": "markdown",
   "metadata": {},
   "source": [
    "### Shape data and plot Raw images"
   ]
  },
  {
   "cell_type": "code",
   "execution_count": null,
   "metadata": {},
   "outputs": [],
   "source": [
    "plt.close('all')\n",
    "ta.intensity_range=[0,20000]\n",
    "ta.rel_wave=[400,410,420,460,480,500]\n",
    "ta.rel_time=np.array([250,600,750,1000,1750])\n",
    "ta.bordercut=[390,514]\n",
    "ta.wave_nm_bin=None\n",
    "ta.wavelength_bin=20\n",
    "ta.Plot_RAW(range(3),scale_type='linear')   "
   ]
  },
  {
   "cell_type": "markdown",
   "metadata": {},
   "source": [
    "### plot_cleaned"
   ]
  },
  {
   "cell_type": "code",
   "execution_count": null,
   "metadata": {},
   "outputs": [],
   "source": [
    "plt.close('all')                                           # use to plot the 2d plots with logarithmic intensity scale\n",
    "ta.rel_wave=np.arange(400,480,10)\n",
    "ta.bordercut=[390,480]                                    # use to set the outer wavelength limits\n",
    "ta.intensity_range=[0,30000]                                  # set a value 5e-3 or a range [-1e-3,5e-3] for 2d plotting\n",
    "ta.Plot_RAW(range(3),scale_type='log')                                      # Plot Raw Spectra"
   ]
  },
  {
   "cell_type": "markdown",
   "metadata": {},
   "source": [
    "### with background substraction"
   ]
  },
  {
   "cell_type": "code",
   "execution_count": null,
   "metadata": {},
   "outputs": [],
   "source": [
    "ta.Background(uplimit=-20)\n",
    "plt.close('all')                                           # use to plot the 2d plots with logarithmic intensity scale\n",
    "ta.rel_wave=np.arange(400,480,10)\n",
    "ta.bordercut=[390,510]                                    # use to set the outer wavelength limits\n",
    "ta.intensity_range=[0,30000]                                  # set a value 5e-3 or a range [-1e-3,5e-3] for 2d plotting\n",
    "ta.Plot_RAW(range(3),scale_type='log')                                      # Plot Raw Spectra"
   ]
  },
  {
   "cell_type": "markdown",
   "metadata": {},
   "source": [
    "### Perform fast fitting using independent exponential decay (first order)"
   ]
  },
  {
   "cell_type": "raw",
   "metadata": {},
   "source": [
    "ta.wave_nm_bin=2; \n",
    "plt.close('all')                                             # Close old spectra\n",
    "ta.mod='exponential'                                         # Choose the model 'exponential', 'consecutive' and 'fast_consecutive'are build in\n",
    "par=lmfit.Parameters()                                       # create empty parameter object\n",
    "\n",
    "par.add('k0',value=1/0.1,vary=True)                                # Add second rate component\n",
    "par.add('k1',value=1/2.5,vary=True)                                # Add one rate component\n",
    "par.add('k2',value=1/40,vary=True)                                 # Add second rate component\n",
    "par.add('t0',value=0,vary=False)                       # Allow the arrival time to adjust (for all)\n",
    "par.add('resolution',value=0.086,min=0.04,max=0.5,vary=False)       # Allow the instrument response to adjust (for all)\n",
    "#par.add('infinite')                                                # Keyword for an non decaying component\n",
    "#par.add('background')                                             # Keyword to fit the Background Disable the background substraction in the loading cell for best effect\n",
    "#ta.timelimits=[0.2,5000]                                      # select time window in which to fit\n",
    "ta.ignore_time_region=[-0.1,0.5]                              # ignore the region over t0 for the fit\n",
    "ta.log_fit=False                                               # fit in linear or log scale\n",
    "if 0:\n",
    "    for key in par.keys():\n",
    "        par[key].vary=False\n",
    "ta.par=par                                                     # write parameter object into file for fitting\n",
    "ta.Fit_Global(fit_chirp=False)                                 # trigger fitting\n",
    "\n",
    "ta.error_matrix_amplification=10;                              # Choose how much stronger should error be plotted       \n",
    "ta.log_scale=False                                             # 2D plots in linear or log scale\n",
    "ta.Plot_fit_output()                                 # plot the fit output"
   ]
  },
  {
   "cell_type": "code",
   "execution_count": null,
   "metadata": {},
   "outputs": [],
   "source": [
    "par=lmfit.Parameters() \n",
    "par.add('k0',value=1/0.1,vary=True)                                \n",
    "par.add('k1',value=1/2.5,vary=True)\n",
    "par.add('k2',value=1/100,vary=True)\n",
    "par.add('infinite')                               \n",
    "par.add('t0',value=0,min=-2,max=2,vary=False)                 \n",
    "par.add('resolution',value=0.086,min=0.04,max=0.5,vary=False)\n",
    "ta.par=par # write parameter object into file for fitting\n",
    "ta.Fit_Global(fit_chirp=False,confidence_level=0.95) "
   ]
  },
  {
   "cell_type": "code",
   "execution_count": null,
   "metadata": {},
   "outputs": [],
   "source": [
    "plt.close('all')\n",
    "ta.cmap=pf.cm.gist_ncar\n",
    "ta.intensity_range=3e-3\n",
    "ta.Plot_fit_output()"
   ]
  },
  {
   "cell_type": "markdown",
   "metadata": {},
   "source": [
    "### export the results as images and save the project"
   ]
  },
  {
   "cell_type": "code",
   "execution_count": null,
   "metadata": {},
   "outputs": [],
   "source": []
  },
  {
   "cell_type": "code",
   "execution_count": null,
   "metadata": {},
   "outputs": [],
   "source": [
    "#ta.filename='new'+ta.filename\n",
    "ta.Save_project()                     # This saves the whole project including raw data, fits and chirp correction into a single file"
   ]
  },
  {
   "cell_type": "code",
   "execution_count": null,
   "metadata": {},
   "outputs": [],
   "source": [
    "ta.Save_Plots(savetype='png')         # This saves all the figures and a overview powerpoint savetype=['png','svg']"
   ]
  },
  {
   "cell_type": "markdown",
   "metadata": {},
   "source": [
    "### Perform Error analysis and calculate confidence interval"
   ]
  },
  {
   "cell_type": "code",
   "execution_count": null,
   "metadata": {},
   "outputs": [],
   "source": [
    "ta.par=ta.par_fit #write the best results back as starting parameter\n",
    "ta.Fit_Global(confidence_level=0.65)"
   ]
  },
  {
   "cell_type": "markdown",
   "metadata": {},
   "source": [
    "### Perform fast iterative fitting using independent exponential decay and optimise the chirp"
   ]
  },
  {
   "cell_type": "code",
   "execution_count": null,
   "metadata": {},
   "outputs": [],
   "source": [
    "ta1=ta.Copy()                          # Make a copy of the fitting ptoject to test less stable things\n",
    "ta1.timelimits=None                    # To optimise the chirp the region around time-zero must be included\n",
    "ta1.ignore_time_region=None            # To optimise the chirp the region around time-zero must be included\n",
    "ta1.par=ta.par_fit                     # copy fitted parameter into a new fit (e.g. different model)\n",
    "ta1.Fit_Global(fit_chirp=True)         # trigger fitting with Chirp optimization best using 'exponential' for speed\n",
    "ta1.Plot_fit_output(title=None)        # plot the fit output"
   ]
  },
  {
   "cell_type": "code",
   "execution_count": null,
   "metadata": {},
   "outputs": [],
   "source": [
    "ta=ta1.Copy() # if successful they can always be written back"
   ]
  },
  {
   "cell_type": "markdown",
   "metadata": {},
   "source": [
    "### Perform fast fitting using consecutative exponential decay to obtain species associated spectrum assuming a simple model"
   ]
  },
  {
   "cell_type": "code",
   "execution_count": null,
   "metadata": {},
   "outputs": [],
   "source": [
    "ta.mod='consecutive'             # very quick fit using independent exponential followed by one round of sequential\n",
    "ta.par=ta.par_fit                # copy fitted parameter into a new fit (e.g. different model)\n",
    "ta.Fit_Global(fit_chirp=False)   # The iterative chrip is best optimised using 'exponential'\n",
    "ta.Plot_fit_output(title=None)   # plot the fit output"
   ]
  },
  {
   "cell_type": "code",
   "execution_count": null,
   "metadata": {},
   "outputs": [],
   "source": [
    "ta.par=ta.par_fit\n",
    "ta.mod='full_consecutive'        # Truely consecutative fitting, usually much slower\n",
    "ta.Fit_Global(fit_chirp=False)   \n",
    "ta.Plot_fit_output(title=None)"
   ]
  },
  {
   "cell_type": "markdown",
   "metadata": {},
   "source": [
    "### Sometimes required options applicable also to fit plotting"
   ]
  },
  {
   "cell_type": "code",
   "execution_count": null,
   "metadata": {},
   "outputs": [],
   "source": [
    "#ta.Man_Chirp()                   # used to redo the chirp-correction\n",
    "#ta.Save_data()                   # used to dump the Data and fits to disk\n",
    "\n",
    "#ta.cmap=pf.cm.viridis            # use different colour scheme (can also be a list of colours)\n",
    "#pf.changefonts(weight='bold',font='standard',SMALL_SIZE=18,MEDIUM_SIZE=18,LARGE_SIZE=18)  "
   ]
  },
  {
   "cell_type": "code",
   "execution_count": null,
   "metadata": {},
   "outputs": [],
   "source": [
    "ta.Save_Powerpoint()"
   ]
  }
 ],
 "metadata": {
  "ipub": {
   "titlepage": {
    "author": "Jens Uhlig",
    "email": "jens.uhlig@chemphys.lu.se",
    "logo": "http://www.jensuhlig.de//hot_warm_cold.png",
    "subtitle": "Main Worksheet",
    "title": "Transient Absorption Worksheet"
   }
  },
  "kernelspec": {
   "display_name": "Python 3 (ipykernel)",
   "language": "python",
   "name": "python3"
  },
  "language_info": {
   "codemirror_mode": {
    "name": "ipython",
    "version": 3
   },
   "file_extension": ".py",
   "mimetype": "text/x-python",
   "name": "python",
   "nbconvert_exporter": "python",
   "pygments_lexer": "ipython3",
   "version": "3.9.12"
  }
 },
 "nbformat": 4,
 "nbformat_minor": 2
}
