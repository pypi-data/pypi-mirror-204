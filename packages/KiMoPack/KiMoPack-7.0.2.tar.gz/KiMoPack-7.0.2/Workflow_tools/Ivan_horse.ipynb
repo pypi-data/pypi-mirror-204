{
 "cells": [
  {
   "cell_type": "markdown",
   "metadata": {},
   "source": [
    "### Set standard imports"
   ]
  },
  {
   "cell_type": "code",
   "execution_count": 88,
   "metadata": {},
   "outputs": [
    {
     "name": "stdout",
     "output_type": "stream",
     "text": [
      "Plot_func version 6.11.3\n",
      "was imported from path:\n",
      " H:\\Programs\\Anaconda\\Lib\\site-packages\\KiMoPack\n",
      "The current working folder is:\n",
      " H:\\Dropbox\\coding\\github\\KiMoPack\\Workflow_tools\n"
     ]
    },
    {
     "data": {
      "text/plain": [
       "<module 'KiMoPack.plot_func' from 'H:\\\\Programs\\\\Anaconda\\\\lib\\\\site-packages\\\\KiMoPack\\\\plot_func.py'>"
      ]
     },
     "execution_count": 88,
     "metadata": {},
     "output_type": "execute_result"
    }
   ],
   "source": [
    "import sys,os\n",
    "import matplotlib\n",
    "import matplotlib.pyplot as plt\n",
    "import lmfit\n",
    "import numpy as np\n",
    "import pandas\n",
    "#if this fails change qt to tk\n",
    "%matplotlib qt \n",
    "import KiMoPack.plot_func as pf\n",
    "from importlib import reload\n",
    "reload(pf)"
   ]
  },
  {
   "cell_type": "code",
   "execution_count": 118,
   "metadata": {},
   "outputs": [],
   "source": [
    "import scipy.constants as const\n",
    "import import_library\n",
    "reload(import_library)\n",
    "from import_library import Ivan_horse\n",
    "ta=pf.TA('recent',conversion_function=Ivan_horse)"
   ]
  },
  {
   "cell_type": "code",
   "execution_count": 137,
   "metadata": {},
   "outputs": [],
   "source": [
    "def horse(ds,wavelength=485e-9,fit=False,cmap=None,ax=None):\n",
    "    if cmap is None:\n",
    "        colors=pf.colm(range(len(ta.ds.columns)))\n",
    "    else:\n",
    "        colors=pf.colm(range(len(ta.ds.columns)),cmap=cmap)\n",
    "    plot_dicten={}\n",
    "    for col in ta.ds.columns:\n",
    "        per_photon=const.h*const.c/(485e-9)\n",
    "        index=col*ta.ds.index.values*per_photon\n",
    "        plot_dicten['%.2g'%col]=pandas.Series(ta.ds.loc[:,col].values,index=index)\n",
    "    if ax is None:\n",
    "        fig,ax=plt.subplots()\n",
    "    for i,key in enumerate(plot_dicten.keys()):\n",
    "        if fit:\n",
    "            plot_dicten[key].plot(ax=ax,style='-',color=colors[i])\n",
    "        else:\n",
    "            plot_dicten[key].plot(ax=ax,style='o',label='Fluence in %s ph/$cm^2 s$'%key,color=colors[i])\n",
    "    ax.set_yscale('log')\n",
    "    ax.set_xscale('log')\n",
    "    ax.set_xlabel('Power density in $cm^2$')\n",
    "    ax.set_ylabel('PLQY')\n",
    "    if not fit:\n",
    "        ax.legend()\n",
    "    return ax\n",
    "plt.close('all')\n",
    "fig,ax=plt.subplots()\n",
    "ax=horse(ta.ds,ax=ax)\n",
    "horse(ta.ds,ax=ax,fit=True)\n",
    "fig.tight_layout()"
   ]
  },
  {
   "cell_type": "code",
   "execution_count": null,
   "metadata": {},
   "outputs": [],
   "source": [
    "def manual_consecutive(times,pardf):\t\t\t\t\t\t\t\t\n",
    "\t'''we have 1MLCT,3MLCT,3MC state with \n",
    "\tconsecutive decays, hint this function could have been created with the linear exp model\n",
    "\t'''\n",
    "\tc=np.zeros((len(times),3),dtype='float') \t\t\t\t\t\t#creation of matrix that will hold the concentrations\n",
    "\tg=gauss(times,sigma=pardf['resolution']/FWHM,mu=pardf['t0']) \t#creating the gaussian pulse that will \"excite\" our sample\n",
    "\tsub_steps=10 \t\t\t\t\t\t\t\t\t\t\t\t\t#defining how many extra steps will be taken between the main time_points\n",
    "\tfor i in range(1,len(times)):\t\t\t\t\t\t\t\t\t#iterate over all timepoints\n",
    "\t\tdc=np.zeros((3,1),dtype='float')\t\t\t\t\t\t\t#the initial change for each concentration, the \"3\" is representative of how many changes there will be\n",
    "\t\tdt=(times[i]-times[i-1])/(sub_steps)\t\t\t\t\t\t# as we are taking smaller steps the time intervals need to be adapted\n",
    "\t\tc_temp=c[i-1,:]\t\t\t\t\t\t\t\t\t\t\t\t#temporary matrix holding the changes (needed as we have sub steps and need to check for zero in the end)\n",
    "\t\tfor j in range(int(sub_steps)):\n",
    "\t\t\tdc[0]=-pardf['k0']*dt*c_temp[0]+g[i]*dt\t\t\t\t\t#excite a small fraction with g[i] and decay with 'k0'\n",
    "\t\t\tdc[1]=pardf['k0']*dt*c_temp[0]-pardf['k1']*dt*c_temp[1]\t#form with \"k0\" and decay with \"k1\"\n",
    "\t\t\tdc[2]=pardf['k1']*dt*c_temp[1]-pardf['k2']*dt*c_temp[2]\t#form with \"k1\" and decay with \"k2\"\n",
    "\t\t\tfor b in range(c.shape[1]):\n",
    "\t\t\t\tc_temp[b] =np.nanmax([(c_temp[b]+float(dc[b])),0.])\t\t#check that nothing will be below 0 (concentrations)\n",
    "\t\tc[i,:] =c_temp\t\t\t\t\t\t\t\t\t\t\t\t#store the temporary concentrations into the main matrix\n",
    "\tc=pandas.DataFrame(c,index=times)\t\t\t\t\t\t\t\t#write back the right indexes\n",
    "\tc.index.name='time'\t\t\t\t\t\t\t\t\t\t\t\t#and give it a name\n",
    "\tc.columns=['1MLCT','3MLCT','3MC']\t\t\t\t\t\t\t\t#this is optional but very useful. The species get names that represent some particular states\n",
    "\tif 'background' in list(pardf.index.values):\t\t\t\t\t#optional but usefull, allow the keyword \"background\" to be used to fit the background in the global analysis\n",
    "\t\tc['background']=1\t\t\t\t\t\t\t\t\t\t\t#background always there (flat)\n",
    "\treturn c\t\t\t\t\t"
   ]
  },
  {
   "cell_type": "markdown",
   "metadata": {},
   "source": [
    "### Perform fast fitting using independent exponential decay (first order)"
   ]
  },
  {
   "cell_type": "code",
   "execution_count": null,
   "metadata": {},
   "outputs": [],
   "source": [
    "plt.close('all')                                             # Close old spectra\n",
    "ta.mod='exponential'                                         # Choose the model 'exponential', 'consecutive' and 'fast_consecutive'are build in\n",
    "par=lmfit.Parameters()                                       # create empty parameter object\n",
    "\n",
    "par.add('k0',value=1/0.1,vary=True)                                # Add second rate component\n",
    "par.add('k1',value=1/2.5,vary=True)                                # Add one rate component\n",
    "par.add('k2',value=1/40,vary=True)                                 # Add second rate component\n",
    "par.add('t0',value=0,min=-2,max=2,vary=False)                       # Allow the arrival time to adjust (for all)\n",
    "par.add('resolution',value=0.086,min=0.04,max=0.5,vary=False)       # Allow the instrument response to adjust (for all)\n",
    "#par.add('infinite')                                                # Keyword for an non decaying component\n",
    "#par.add('background')                                             # Keyword to fit the Background Disable the background substraction in the loading cell for best effect\n",
    "#ta.timelimits=[0.2,5000]                                      # select time window in which to fit\n",
    "ta.ignore_time_region=[-0.1,0.5]                              # ignore the region over t0 for the fit\n",
    "ta.log_fit=False                                               # fit in linear or log scale\n",
    "if 0:\n",
    "    for key in par.keys():\n",
    "        par[key].vary=False\n",
    "ta.par=par                                                     # write parameter object into file for fitting\n",
    "ta.Fit_Global(fit_chirp=False)                                 # trigger fitting\n",
    "\n",
    "ta.error_matrix_amplification=10;                              # Choose how much stronger should error be plotted       \n",
    "ta.log_scale=False                                             # 2D plots in linear or log scale\n",
    "ta.Plot_fit_output(4)                                 # plot the fit output"
   ]
  }
 ],
 "metadata": {
  "ipub": {
   "titlepage": {
    "author": "Jens Uhlig",
    "email": "jens.uhlig@chemphys.lu.se",
    "logo": "http://www.jensuhlig.de//hot_warm_cold.png",
    "subtitle": "Main Worksheet",
    "title": "Transient Absorption Worksheet"
   }
  },
  "kernelspec": {
   "display_name": "Python 3 (ipykernel)",
   "language": "python",
   "name": "python3"
  },
  "language_info": {
   "codemirror_mode": {
    "name": "ipython",
    "version": 3
   },
   "file_extension": ".py",
   "mimetype": "text/x-python",
   "name": "python",
   "nbconvert_exporter": "python",
   "pygments_lexer": "ipython3",
   "version": "3.9.12"
  }
 },
 "nbformat": 4,
 "nbformat_minor": 2
}
