{
 "cells": [
  {
   "cell_type": "markdown",
   "metadata": {},
   "source": [
    "### Set standard imports"
   ]
  },
  {
   "cell_type": "code",
   "execution_count": null,
   "metadata": {
    "scrolled": true
   },
   "outputs": [],
   "source": [
    "import sys,os\n",
    "import matplotlib\n",
    "import matplotlib.pyplot as plt\n",
    "import lmfit\n",
    "import numpy as np\n",
    "import pandas as pd\n",
    "%matplotlib qt\n",
    "import KiMoPack.plot_func as pf\n",
    "from importlib import reload\n",
    "import function_library as func\n",
    "reload(pf)\n",
    "reload(func)\n"
   ]
  },
  {
   "cell_type": "code",
   "execution_count": null,
   "metadata": {},
   "outputs": [],
   "source": [
    "ta=pf.TA('gui')  "
   ]
  },
  {
   "cell_type": "code",
   "execution_count": null,
   "metadata": {},
   "outputs": [],
   "source": [
    "ta.equal_energy_bin=None\n",
    "ta.intensity_range=None"
   ]
  },
  {
   "cell_type": "code",
   "execution_count": null,
   "metadata": {},
   "outputs": [],
   "source": [
    "plt.close('all')                                             # Close old spectra\n",
    "ta.mod=func.P34                                       # Choose the model 'exponential', 'consecutive' and 'fast_consecutive'are build in\n",
    "#ta.mod='exponential'\n",
    "par=lmfit.Parameters()                                       # create empty parameter object\n",
    "par.add('k0',value=1/1,vary=True)                                # Add second rate component\n",
    "par.add('k1',value=1/6,vary=True)                                # Add one rate component\n",
    "par.add('k2',value=1/500,vary=True)                                 # Add second rate component\n",
    "par.add('t0',value=0,min=-2,max=2,vary=False)                       # Allow the arrival time to adjust (for all)\n",
    "par.add('resolution',value=0.086,min=0.04,max=0.5,vary=False)       # Allow the instrument response to adjust (for all)\n",
    "par.add('infinite')                                                # Keyword for an non decaying component\n",
    "#par.add('background')                                             # Keyword to fit the Background Disable the background substraction in the loading cell for best effect\n",
    "#ta.timelimits=None#[0.2,5000]                                      # select time window in which to fit\n",
    "ta.ignore_time_region=[-0.5,0.5]                              # ignore the region over t0 for the fit\n",
    "ta.par=par                                                     # write parameter object into file for fitting\n",
    "ta.Fit_Global()                                 # trigger fitting\n",
    "ta.Plot_fit_output(4)                                 # plot the fit output"
   ]
  }
 ],
 "metadata": {
  "ipub": {
   "titlepage": {
    "author": "Jens Uhlig",
    "email": "jens.uhlig@chemphys.lu.se",
    "logo": "http://www.jensuhlig.de//hot_warm_cold.png",
    "subtitle": "Main Worksheet",
    "title": "Transient Absorption Worksheet"
   }
  },
  "kernelspec": {
   "display_name": "Python 3 (ipykernel)",
   "language": "python",
   "name": "python3"
  },
  "language_info": {
   "codemirror_mode": {
    "name": "ipython",
    "version": 3
   },
   "file_extension": ".py",
   "mimetype": "text/x-python",
   "name": "python",
   "nbconvert_exporter": "python",
   "pygments_lexer": "ipython3",
   "version": "3.9.12"
  }
 },
 "nbformat": 4,
 "nbformat_minor": 2
}
