{
 "cells": [
  {
   "cell_type": "code",
   "execution_count": 24,
   "metadata": {},
   "outputs": [],
   "source": [
    "from context import bfrac"
   ]
  },
  {
   "cell_type": "code",
   "execution_count": 30,
   "metadata": {},
   "outputs": [],
   "source": [
    "import importlib"
   ]
  },
  {
   "cell_type": "code",
   "execution_count": 29,
   "metadata": {},
   "outputs": [
    {
     "data": {
      "text/plain": [
       "<module 'bfrac' from 'd:\\\\PROJECTS\\\\BFRAC\\\\bfrac\\\\bfrac\\\\__init__.py'>"
      ]
     },
     "execution_count": 29,
     "metadata": {},
     "output_type": "execute_result"
    }
   ],
   "source": [
    "importlib.reload(bfrac)"
   ]
  },
  {
   "cell_type": "code",
   "execution_count": 25,
   "metadata": {},
   "outputs": [
    {
     "name": "stdout",
     "output_type": "stream",
     "text": [
      "Config : D:\\PROJECTS\\BFRAC\\cj_config.ini\n"
     ]
    },
    {
     "data": {
      "text/plain": [
       "<bfrac.app_config.AppConfig at 0x2c701386b80>"
      ]
     },
     "execution_count": 25,
     "metadata": {},
     "output_type": "execute_result"
    }
   ],
   "source": [
    "appconfig = bfrac.AppConfig('D:\\\\PROJECTS\\BFRAC\\\\cj_config.ini')\n",
    "appconfig"
   ]
  },
  {
   "cell_type": "code",
   "execution_count": 26,
   "metadata": {},
   "outputs": [
    {
     "data": {
      "text/plain": [
       "<bfrac.riot_api_caller.RiotAPICaller at 0x2c701386220>"
      ]
     },
     "execution_count": 26,
     "metadata": {},
     "output_type": "execute_result"
    }
   ],
   "source": [
    "rac = bfrac.RiotAPICaller(appconfig,120)\n",
    "rac"
   ]
  },
  {
   "cell_type": "code",
   "execution_count": 27,
   "metadata": {},
   "outputs": [
    {
     "name": "stdout",
     "output_type": "stream",
     "text": [
      "200\n"
     ]
    },
    {
     "data": {
      "text/plain": [
       "{'id': 'l3jRci0nExmp-Lomp6lHu0WAAHOHS9RBllMrsG3KpCBv-Uw',\n",
       " 'accountId': 'zo5mVUDx72XDH-4gpoVON22Pf3aNuc-t08d2lUf4JyHF8cw',\n",
       " 'puuid': '9bqvDVWRRtJuKZ1yC7chrKonRW_qJ81veHBkoDOJnZYBmBrpPx1PXeSwTRET-_Egy9we_M22H2ZinA',\n",
       " 'name': 'deamonpog',\n",
       " 'profileIconId': 5528,\n",
       " 'revisionDate': 1681025535000,\n",
       " 'summonerLevel': 110}"
      ]
     },
     "execution_count": 27,
     "metadata": {},
     "output_type": "execute_result"
    }
   ],
   "source": [
    "r = bfrac.RiotAPIHelper.get_summoner_by_name(rac, \"na1\", \"deamonpog\")\n",
    "r"
   ]
  },
  {
   "cell_type": "code",
   "execution_count": 28,
   "metadata": {},
   "outputs": [
    {
     "name": "stdout",
     "output_type": "stream",
     "text": [
      "{'count': 10, 'start': 0, 'type': 'ranked', 'queue': 420}\n",
      "200\n"
     ]
    },
    {
     "data": {
      "text/plain": [
       "['NA1_4625151018',\n",
       " 'NA1_4625115415',\n",
       " 'NA1_4625113078',\n",
       " 'NA1_4625074906',\n",
       " 'NA1_4625026567',\n",
       " 'NA1_4624211228',\n",
       " 'NA1_4624175232',\n",
       " 'NA1_4624139249',\n",
       " 'NA1_4624105049',\n",
       " 'NA1_4624051769']"
      ]
     },
     "execution_count": 28,
     "metadata": {},
     "output_type": "execute_result"
    }
   ],
   "source": [
    "bfrac.RiotAPIHelper.get_matches_list(rac, \"americas\", r['puuid'], 10, in_type=\"ranked\", in_queue=420)"
   ]
  },
  {
   "cell_type": "code",
   "execution_count": null,
   "metadata": {},
   "outputs": [],
   "source": []
  }
 ],
 "metadata": {
  "kernelspec": {
   "display_name": "main",
   "language": "python",
   "name": "python3"
  },
  "language_info": {
   "codemirror_mode": {
    "name": "ipython",
    "version": 3
   },
   "file_extension": ".py",
   "mimetype": "text/x-python",
   "name": "python",
   "nbconvert_exporter": "python",
   "pygments_lexer": "ipython3",
   "version": "3.8.16"
  },
  "orig_nbformat": 4
 },
 "nbformat": 4,
 "nbformat_minor": 2
}
