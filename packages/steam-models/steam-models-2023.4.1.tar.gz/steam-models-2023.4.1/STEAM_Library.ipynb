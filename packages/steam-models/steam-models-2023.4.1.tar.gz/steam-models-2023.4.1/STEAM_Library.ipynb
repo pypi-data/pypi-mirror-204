{
 "cells": [
  {
   "cell_type": "code",
   "execution_count": 1,
   "id": "97fc8495",
   "metadata": {
    "ExecuteTime": {
     "end_time": "2022-06-08T07:46:41.111984Z",
     "start_time": "2022-06-08T07:46:33.586970Z"
    }
   },
   "outputs": [],
   "source": [
    "# Install required package\n",
    "import sys\n",
    "# !{sys.executable} -m pip install --user --upgrade steam-sdk\n",
    "\n",
    "import os\n",
    "import numpy as np\n",
    "from matplotlib import pyplot as plt \n",
    "import ipywidgets as widgets\n",
    "\n",
    "# Import local GUI settings/functions\n",
    "from GUI_settings import *\n",
    "\n",
    "# Set matplotlib mode\n",
    "%matplotlib widget"
   ]
  },
  {
   "cell_type": "code",
   "execution_count": 2,
   "id": "80fd0307",
   "metadata": {
    "ExecuteTime": {
     "end_time": "2022-06-08T08:25:50.096959Z",
     "start_time": "2022-06-08T08:25:49.784397Z"
    },
    "scrolled": false
   },
   "outputs": [
    {
     "data": {
      "application/vnd.jupyter.widget-view+json": {
       "model_id": "2193bd5f94a34073bd0018dfc7fc92de",
       "version_major": 2,
       "version_minor": 0
      },
      "text/plain": [
       "interactive(children=(Dropdown(description='case_model', options=('magnet', 'circuit'), value='magnet'), Dropd…"
      ]
     },
     "metadata": {},
     "output_type": "display_data"
    }
   ],
   "source": [
    "# STEAM Library GUI\n",
    "cases = ['magnet', 'circuit']\n",
    "list_subfolders_magnets = next(os.walk('magnets'))[1]  # List all subfolders\n",
    "list_subfolders_magnets = [x for x in list_subfolders_magnets if not \".sys\" in x]  # Remove entries with \".sys\"\n",
    "list_subfolders_magnets = [x for x in list_subfolders_magnets if not \"__pycache__\" in x]  # Remove entries with \"__pycache__\"\n",
    "\n",
    "list_subfolders_circuits = next(os.walk('circuits'))[1]  # List all subfolders\n",
    "list_subfolders_circuits = [x for x in list_subfolders_circuits if not \".sys\" in x]  # Remove entries with \".sys\"\n",
    "list_subfolders_circuits = [x for x in list_subfolders_circuits if not \"__pycache__\" in x]  # Remove entries with \"__pycache__\"\n",
    "\n",
    "magnet_names = list_subfolders_magnets + list_subfolders_circuits\n",
    "programs = ['LEDET', 'SIGMA', 'FiQuS', 'ProteCCT', 'PSPICE']\n",
    "\n",
    "x = widgets.interact_manual(STEAM_Library, case_model=cases, model_name=magnet_names, software=programs, flagBuild=True, verbose=True, flag_plot_all=False)\n",
    "x.widget.children[0].description = 'Case'\n",
    "x.widget.children[1].description = 'Magnet'\n",
    "x.widget.children[2].description = 'Software'\n",
    "x.widget.children[6].description = 'Build model'"
   ]
  },
  {
   "cell_type": "code",
   "execution_count": null,
   "id": "dc9b52cd",
   "metadata": {},
   "outputs": [],
   "source": []
  }
 ],
 "metadata": {
  "kernelspec": {
   "display_name": "Python 3",
   "language": "python",
   "name": "python3"
  },
  "language_info": {
   "codemirror_mode": {
    "name": "ipython",
    "version": 3
   },
   "file_extension": ".py",
   "mimetype": "text/x-python",
   "name": "python",
   "nbconvert_exporter": "python",
   "pygments_lexer": "ipython3",
   "version": "3.9.12"
  }
 },
 "nbformat": 4,
 "nbformat_minor": 5
}
