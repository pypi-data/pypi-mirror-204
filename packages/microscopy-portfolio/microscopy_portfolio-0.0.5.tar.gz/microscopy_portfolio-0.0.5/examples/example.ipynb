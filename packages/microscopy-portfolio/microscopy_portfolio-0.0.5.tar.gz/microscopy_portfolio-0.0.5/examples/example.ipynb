{
 "cells": [
  {
   "cell_type": "code",
   "execution_count": 1,
   "metadata": {},
   "outputs": [],
   "source": [
    "from pathlib import Path\n",
    "from microscopy_portfolio import Portfolio"
   ]
  },
  {
   "attachments": {},
   "cell_type": "markdown",
   "metadata": {},
   "source": [
    "## Instantiate the portfolio\n",
    "\n",
    "The `portfolio` can simply be printed to explore the datasets available."
   ]
  },
  {
   "cell_type": "code",
   "execution_count": 2,
   "metadata": {},
   "outputs": [
    {
     "name": "stdout",
     "output_type": "stream",
     "text": [
      "Portfolio:\n",
      "Denoising datasets: ['N2V_BSD68', 'N2V_SEM', 'N2V_RGB', 'Flywing']\n",
      "DenoiSeg datasets: ['DSB2018_n0', 'DSB2018_n10', 'DSB2018_n20', 'Flywing_n0', 'Flywing_n10', 'Flywing_n20', 'MouseNuclei_n0', 'MouseNuclei_n10', 'MouseNuclei_n20']\n"
     ]
    }
   ],
   "source": [
    "portofolio = Portfolio()\n",
    "print(portofolio)"
   ]
  },
  {
   "attachments": {},
   "cell_type": "markdown",
   "metadata": {},
   "source": [
    "## Exploring a dataset\n",
    "\n",
    "For each dataset, you can check the description:"
   ]
  },
  {
   "cell_type": "code",
   "execution_count": 3,
   "metadata": {},
   "outputs": [
    {
     "name": "stdout",
     "output_type": "stream",
     "text": [
      "Cropped images from a SEM dataset from T.-O. Buchholz et al (Methods Cell Biol, 2020).\n"
     ]
    }
   ],
   "source": [
    "print(portofolio.denoising.N2V_SEM.description)"
   ]
  },
  {
   "attachments": {},
   "cell_type": "markdown",
   "metadata": {},
   "source": [
    "Or print all information:"
   ]
  },
  {
   "cell_type": "code",
   "execution_count": 4,
   "metadata": {},
   "outputs": [
    {
     "name": "stdout",
     "output_type": "stream",
     "text": [
      "{'name': 'N2V_SEM', 'url': 'https://download.fht.org/jug/n2v/SEM.zip', 'description': 'Cropped images from a SEM dataset from T.-O. Buchholz et al (Methods Cell Biol, 2020).', 'license': 'CC-BY', 'citation': 'T.-O. Buchholz, A. Krull, R. Shahidi, G. Pigino, G. Jékely, F. Jug, \"Content-aware image restoration for electron microscopy\", Methods Cell Biol 152, 277-289', 'file_name': 'SEM.zip', 'md5_hash': '953a815333805a423b7019bd16cc3341', 'files': {'.': ['train.tif', 'validation.tif']}, 'size': 13.0}\n"
     ]
    }
   ],
   "source": [
    "print(portofolio.denoising.N2V_SEM)"
   ]
  },
  {
   "attachments": {},
   "cell_type": "markdown",
   "metadata": {},
   "source": [
    "## Download a dataset\n",
    "\n",
    "Downloading a dataset is simple and requires only a path, and returns a dict with the\n",
    "list of files.\n"
   ]
  },
  {
   "cell_type": "code",
   "execution_count": 6,
   "metadata": {},
   "outputs": [
    {
     "name": "stdout",
     "output_type": "stream",
     "text": [
      "Checking MD5 hash of data/SEM.zip.\n",
      "MD5 hash is correct.\n",
      "Unzipping data/SEM.zip to data/SEM.\n",
      "Unzipping finished.\n"
     ]
    },
    {
     "data": {
      "text/plain": [
       "{'.': ['train.tif', 'validation.tif']}"
      ]
     },
     "execution_count": 6,
     "metadata": {},
     "output_type": "execute_result"
    }
   ],
   "source": [
    "path = Path(\"data\")\n",
    "portofolio.denoising.N2V_SEM.download(path)"
   ]
  }
 ],
 "metadata": {
  "kernelspec": {
   "display_name": "portfolio",
   "language": "python",
   "name": "python3"
  },
  "language_info": {
   "codemirror_mode": {
    "name": "ipython",
    "version": 3
   },
   "file_extension": ".py",
   "mimetype": "text/x-python",
   "name": "python",
   "nbconvert_exporter": "python",
   "pygments_lexer": "ipython3",
   "version": "3.10.10"
  },
  "orig_nbformat": 4
 },
 "nbformat": 4,
 "nbformat_minor": 2
}
