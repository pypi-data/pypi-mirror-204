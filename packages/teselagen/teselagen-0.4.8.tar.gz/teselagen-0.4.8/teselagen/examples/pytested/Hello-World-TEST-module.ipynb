{
 "cells": [
  {
   "cell_type": "markdown",
   "metadata": {},
   "source": [
    "<div align=left style=\"width: 200; height: 80px; overflow: hidden\">\n",
    "    <img src=http://static1.squarespace.com/static/571446ff60b5e92c3a2b4249/57d8a40b9de4bb459f731cf3/58cb2f229de4bb4a049d38c2/1505340359463/teselaGenlogo.jpg align=right width=200>\n",
    "</div>"
   ]
  },
  {
   "cell_type": "markdown",
   "metadata": {},
   "source": [
    "# Hello World! (TEST module)"
   ]
  },
  {
   "cell_type": "markdown",
   "metadata": {},
   "source": [
    "This notebook is intended to show how to use the Teselagen Python's client to access the TEST module. "
   ]
  },
  {
   "cell_type": "code",
   "execution_count": 1,
   "metadata": {},
   "outputs": [
    {
     "name": "stdout",
     "output_type": "stream",
     "text": [
      "python version     : 3.9.6\n",
      "json version       : 2.0.9\n",
      "pandas version     : 1.3.0\n",
      "matplotlib version : 3.4.2\n"
     ]
    }
   ],
   "source": [
    "import json\n",
    "from pathlib import Path\n",
    "import platform\n",
    "\n",
    "import matplotlib\n",
    "import matplotlib.pyplot as plt\n",
    "import pandas as pd\n",
    "\n",
    "from teselagen.api import TeselaGenClient\n",
    "from teselagen.utils.utils import get_project_root\n",
    "\n",
    "plt.style.use('seaborn-colorblind')\n",
    "\n",
    "print(f\"python version     : {platform.python_version()}\")\n",
    "print(f\"json version       : {json.__version__}\")\n",
    "print(f\"pandas version     : {pd.__version__}\")\n",
    "print(f\"matplotlib version : {matplotlib.__version__}\")"
   ]
  },
  {
   "cell_type": "markdown",
   "metadata": {},
   "source": [
    "## Connect and Login"
   ]
  },
  {
   "cell_type": "code",
   "execution_count": 2,
   "metadata": {},
   "outputs": [
    {
     "name": "stdout",
     "output_type": "stream",
     "text": [
      "Connection Accepted\n"
     ]
    }
   ],
   "source": [
    "# Connect to your teselagen instance by passing it as the 'host_url' argument of TESTCLient(host_url=host_url)\n",
    "#host_url = \"https://your.teselagen.instance.com\"\n",
    "#client = TESTClient(host_url = host_url)\n",
    "client = TeselaGenClient()\n",
    "# The following command will prompt you to type username (email) and password\n",
    "client.login()\n",
    "# Alternatively you can add credential information in the arguments\n",
    "#client.login(username=\"your@email\", password=\"ZZZ\")"
   ]
  },
  {
   "cell_type": "markdown",
   "metadata": {},
   "source": [
    "## Laboratories\n",
    "\n",
    "Laboratories are used to separate data access into groups of users. When you add an experiment into a lab it will only be seen by users that have access to that Lab. "
   ]
  },
  {
   "cell_type": "markdown",
   "metadata": {},
   "source": [
    "Now we list all available laboratories"
   ]
  },
  {
   "cell_type": "code",
   "execution_count": 3,
   "metadata": {},
   "outputs": [
    {
     "data": {
      "text/plain": [
       "[{'id': '70', 'name': 'Example Lab'},\n",
       " {'id': '55', 'name': 'Data Science Team'},\n",
       " {'id': '72', 'name': 'The Test Lab'}]"
      ]
     },
     "metadata": {},
     "output_type": "display_data"
    }
   ],
   "source": [
    "labs = client.get_laboratories()\n",
    "display(labs)"
   ]
  },
  {
   "cell_type": "markdown",
   "metadata": {},
   "source": [
    "At the next cell a lab is selected. The remaining actions of this notebook will be done inside that lab."
   ]
  },
  {
   "cell_type": "code",
   "execution_count": 4,
   "metadata": {},
   "outputs": [
    {
     "name": "stdout",
     "output_type": "stream",
     "text": [
      "Selected Lab: Example Lab\n"
     ]
    }
   ],
   "source": [
    "# Select a Laboratory\n",
    "client.select_laboratory(lab_name=\"Example Lab\")"
   ]
  },
  {
   "cell_type": "markdown",
   "metadata": {},
   "source": [
    "## Experiments\n",
    "\n",
    "Experiments represents all the studies inside a laboratory. Each experiment can contain several Assays. The **get_experiments** function returns a list of dictionaries that contain experiments information."
   ]
  },
  {
   "cell_type": "code",
   "execution_count": 5,
   "metadata": {},
   "outputs": [
    {
     "name": "stdout",
     "output_type": "stream",
     "text": [
      "{'id': '37', 'name': 'TD Experiment'}\n",
      "{'id': '38', 'name': 'TD Glucose Production Experiment'}\n",
      "{'id': '269', 'name': 'Test Experiment'}\n",
      "{'id': '322', 'name': 'Python Test Client Experiment'}\n"
     ]
    }
   ],
   "source": [
    "# Get My Experiments from the selected Laboratory.\n",
    "experiments = client.test.get_experiments()\n",
    "# Print some of them\n",
    "for exp in experiments:\n",
    "    print(exp)"
   ]
  },
  {
   "cell_type": "code",
   "execution_count": 6,
   "metadata": {},
   "outputs": [
    {
     "name": "stdout",
     "output_type": "stream",
     "text": [
      "{'id': '377', 'name': 'Jupyter Experiment'}\n"
     ]
    }
   ],
   "source": [
    "# Create a new Experiment in the selected Laboratory.\n",
    "new_experiment = client.test.create_experiment(experiment_name=\"Jupyter Experiment\")\n",
    "print(new_experiment)"
   ]
  },
  {
   "cell_type": "markdown",
   "metadata": {},
   "source": [
    "## Assays\n",
    "\n",
    "The assay object allows you to group data obtained from the same *protocol*.\n",
    "\n",
    "Likewise other getters, the get_assays output can be easily parsed into a pandas dataframe. Here we show you how:"
   ]
  },
  {
   "cell_type": "code",
   "execution_count": 7,
   "metadata": {},
   "outputs": [
    {
     "data": {
      "text/html": [
       "<div>\n",
       "<style scoped>\n",
       "    .dataframe tbody tr th:only-of-type {\n",
       "        vertical-align: middle;\n",
       "    }\n",
       "\n",
       "    .dataframe tbody tr th {\n",
       "        vertical-align: top;\n",
       "    }\n",
       "\n",
       "    .dataframe thead th {\n",
       "        text-align: right;\n",
       "    }\n",
       "</style>\n",
       "<table border=\"1\" class=\"dataframe\">\n",
       "  <thead>\n",
       "    <tr style=\"text-align: right;\">\n",
       "      <th></th>\n",
       "      <th>id</th>\n",
       "      <th>name</th>\n",
       "      <th>experiment</th>\n",
       "    </tr>\n",
       "  </thead>\n",
       "  <tbody>\n",
       "    <tr>\n",
       "      <th>0</th>\n",
       "      <td>6</td>\n",
       "      <td>TD Assay 2</td>\n",
       "      <td>{'id': '37', 'name': 'TD Experiment'}</td>\n",
       "    </tr>\n",
       "    <tr>\n",
       "      <th>1</th>\n",
       "      <td>7</td>\n",
       "      <td>TD Glucose Production Assay</td>\n",
       "      <td>{'id': '38', 'name': 'TD Glucose Production Ex...</td>\n",
       "    </tr>\n",
       "    <tr>\n",
       "      <th>2</th>\n",
       "      <td>8</td>\n",
       "      <td>TD Glucose Production Assay 2</td>\n",
       "      <td>{'id': '38', 'name': 'TD Glucose Production Ex...</td>\n",
       "    </tr>\n",
       "    <tr>\n",
       "      <th>3</th>\n",
       "      <td>255</td>\n",
       "      <td>Test Assay</td>\n",
       "      <td>{'id': '269', 'name': 'Test Experiment'}</td>\n",
       "    </tr>\n",
       "    <tr>\n",
       "      <th>4</th>\n",
       "      <td>256</td>\n",
       "      <td>Test Assay</td>\n",
       "      <td>{'id': '269', 'name': 'Test Experiment'}</td>\n",
       "    </tr>\n",
       "    <tr>\n",
       "      <th>5</th>\n",
       "      <td>257</td>\n",
       "      <td>Test Assay</td>\n",
       "      <td>{'id': '269', 'name': 'Test Experiment'}</td>\n",
       "    </tr>\n",
       "    <tr>\n",
       "      <th>6</th>\n",
       "      <td>341</td>\n",
       "      <td>Test Assay</td>\n",
       "      <td>{'id': '269', 'name': 'Test Experiment'}</td>\n",
       "    </tr>\n",
       "    <tr>\n",
       "      <th>7</th>\n",
       "      <td>342</td>\n",
       "      <td>test Assay</td>\n",
       "      <td>{'id': '269', 'name': 'Test Experiment'}</td>\n",
       "    </tr>\n",
       "    <tr>\n",
       "      <th>8</th>\n",
       "      <td>361</td>\n",
       "      <td>Python Test Client Assay</td>\n",
       "      <td>{'id': '322', 'name': 'Python Test Client Expe...</td>\n",
       "    </tr>\n",
       "    <tr>\n",
       "      <th>9</th>\n",
       "      <td>363</td>\n",
       "      <td>Python Test Client Assay</td>\n",
       "      <td>{'id': '322', 'name': 'Python Test Client Expe...</td>\n",
       "    </tr>\n",
       "  </tbody>\n",
       "</table>\n",
       "</div>"
      ],
      "text/plain": [
       "    id                           name  \\\n",
       "0    6                     TD Assay 2   \n",
       "1    7    TD Glucose Production Assay   \n",
       "2    8  TD Glucose Production Assay 2   \n",
       "3  255                     Test Assay   \n",
       "4  256                     Test Assay   \n",
       "5  257                     Test Assay   \n",
       "6  341                     Test Assay   \n",
       "7  342                     test Assay   \n",
       "8  361       Python Test Client Assay   \n",
       "9  363       Python Test Client Assay   \n",
       "\n",
       "                                          experiment  \n",
       "0              {'id': '37', 'name': 'TD Experiment'}  \n",
       "1  {'id': '38', 'name': 'TD Glucose Production Ex...  \n",
       "2  {'id': '38', 'name': 'TD Glucose Production Ex...  \n",
       "3           {'id': '269', 'name': 'Test Experiment'}  \n",
       "4           {'id': '269', 'name': 'Test Experiment'}  \n",
       "5           {'id': '269', 'name': 'Test Experiment'}  \n",
       "6           {'id': '269', 'name': 'Test Experiment'}  \n",
       "7           {'id': '269', 'name': 'Test Experiment'}  \n",
       "8  {'id': '322', 'name': 'Python Test Client Expe...  \n",
       "9  {'id': '322', 'name': 'Python Test Client Expe...  "
      ]
     },
     "metadata": {},
     "output_type": "display_data"
    }
   ],
   "source": [
    "# Get All Assays From all experiments in the selected Laboratory\n",
    "assays_dataframe = pd.DataFrame(client.test.get_assays())\n",
    "# Or, alternatively, if you want to use id as index in the dataframe\n",
    "#assays_dataframe = pd.DataFrame.from_records(client.get_assays(), index='id')\n",
    "display(assays_dataframe)"
   ]
  },
  {
   "cell_type": "markdown",
   "metadata": {},
   "source": [
    "You can also create assays using the client"
   ]
  },
  {
   "cell_type": "code",
   "execution_count": 8,
   "metadata": {},
   "outputs": [
    {
     "name": "stdout",
     "output_type": "stream",
     "text": [
      "{'id': '442', 'name': 'Jupyter Assay', 'experiment': {'id': '377', 'name': 'Jupyter Experiment'}}\n"
     ]
    }
   ],
   "source": [
    "# Create a new Assay within a new experiment\n",
    "new_assay = client.test.create_assay(experiment_id=new_experiment['id'], assay_name='Jupyter Assay')\n",
    "print(new_assay)"
   ]
  },
  {
   "cell_type": "markdown",
   "metadata": {},
   "source": [
    "And you can list all assays from an experiment"
   ]
  },
  {
   "cell_type": "code",
   "execution_count": 9,
   "metadata": {},
   "outputs": [
    {
     "data": {
      "text/html": [
       "<div>\n",
       "<style scoped>\n",
       "    .dataframe tbody tr th:only-of-type {\n",
       "        vertical-align: middle;\n",
       "    }\n",
       "\n",
       "    .dataframe tbody tr th {\n",
       "        vertical-align: top;\n",
       "    }\n",
       "\n",
       "    .dataframe thead th {\n",
       "        text-align: right;\n",
       "    }\n",
       "</style>\n",
       "<table border=\"1\" class=\"dataframe\">\n",
       "  <thead>\n",
       "    <tr style=\"text-align: right;\">\n",
       "      <th></th>\n",
       "      <th>id</th>\n",
       "      <th>name</th>\n",
       "      <th>experiment</th>\n",
       "    </tr>\n",
       "  </thead>\n",
       "  <tbody>\n",
       "    <tr>\n",
       "      <th>0</th>\n",
       "      <td>442</td>\n",
       "      <td>Jupyter Assay</td>\n",
       "      <td>{'id': '377', 'name': 'Jupyter Experiment'}</td>\n",
       "    </tr>\n",
       "  </tbody>\n",
       "</table>\n",
       "</div>"
      ],
      "text/plain": [
       "    id           name                                   experiment\n",
       "0  442  Jupyter Assay  {'id': '377', 'name': 'Jupyter Experiment'}"
      ]
     },
     "metadata": {},
     "output_type": "display_data"
    }
   ],
   "source": [
    "# Get All Assays From Experiment with ID=\"experiment_id\"\n",
    "assays = pd.DataFrame(client.test.get_assays(experiment_id=new_experiment['id']))\n",
    "display(assays)"
   ]
  },
  {
   "cell_type": "markdown",
   "metadata": {},
   "source": [
    "## Files\n",
    "\n",
    "The TEST module can also store files. Files are shared between users of the same lab and can be associated to specific assays."
   ]
  },
  {
   "cell_type": "code",
   "execution_count": 10,
   "metadata": {},
   "outputs": [
    {
     "data": {
      "text/html": [
       "<div>\n",
       "<style scoped>\n",
       "    .dataframe tbody tr th:only-of-type {\n",
       "        vertical-align: middle;\n",
       "    }\n",
       "\n",
       "    .dataframe tbody tr th {\n",
       "        vertical-align: top;\n",
       "    }\n",
       "\n",
       "    .dataframe thead th {\n",
       "        text-align: right;\n",
       "    }\n",
       "</style>\n",
       "<table border=\"1\" class=\"dataframe\">\n",
       "  <thead>\n",
       "    <tr style=\"text-align: right;\">\n",
       "      <th></th>\n",
       "      <th>id</th>\n",
       "      <th>name</th>\n",
       "      <th>experiment</th>\n",
       "      <th>assay</th>\n",
       "    </tr>\n",
       "  </thead>\n",
       "  <tbody>\n",
       "    <tr>\n",
       "      <th>0</th>\n",
       "      <td>69</td>\n",
       "      <td>Assay A.csv</td>\n",
       "      <td>{'id': '269', 'name': 'Test Experiment'}</td>\n",
       "      <td>{'id': '341', 'name': 'Test Assay'}</td>\n",
       "    </tr>\n",
       "    <tr>\n",
       "      <th>1</th>\n",
       "      <td>70</td>\n",
       "      <td>Assay A.csv</td>\n",
       "      <td>{'id': '269', 'name': 'Test Experiment'}</td>\n",
       "      <td>{'id': '342', 'name': 'test Assay'}</td>\n",
       "    </tr>\n",
       "    <tr>\n",
       "      <th>2</th>\n",
       "      <td>76</td>\n",
       "      <td>example_file.csv</td>\n",
       "      <td>None</td>\n",
       "      <td>None</td>\n",
       "    </tr>\n",
       "    <tr>\n",
       "      <th>3</th>\n",
       "      <td>77</td>\n",
       "      <td>example_file.csv</td>\n",
       "      <td>None</td>\n",
       "      <td>None</td>\n",
       "    </tr>\n",
       "    <tr>\n",
       "      <th>4</th>\n",
       "      <td>78</td>\n",
       "      <td>example_file.csv</td>\n",
       "      <td>None</td>\n",
       "      <td>None</td>\n",
       "    </tr>\n",
       "  </tbody>\n",
       "</table>\n",
       "</div>"
      ],
      "text/plain": [
       "   id              name                                experiment  \\\n",
       "0  69       Assay A.csv  {'id': '269', 'name': 'Test Experiment'}   \n",
       "1  70       Assay A.csv  {'id': '269', 'name': 'Test Experiment'}   \n",
       "2  76  example_file.csv                                      None   \n",
       "3  77  example_file.csv                                      None   \n",
       "4  78  example_file.csv                                      None   \n",
       "\n",
       "                                 assay  \n",
       "0  {'id': '341', 'name': 'Test Assay'}  \n",
       "1  {'id': '342', 'name': 'test Assay'}  \n",
       "2                                 None  \n",
       "3                                 None  \n",
       "4                                 None  "
      ]
     },
     "execution_count": 10,
     "metadata": {},
     "output_type": "execute_result"
    }
   ],
   "source": [
    "# Get All Files info from the selected Laboratory\n",
    "pd.DataFrame(client.test.get_files_info()).head()\n",
    "# You can fetch info from a specific assay using the assay_id argument\n",
    "# display(pd.DataFrame(client.get_files(assay_id=new_assay['id'])))"
   ]
  },
  {
   "cell_type": "code",
   "execution_count": 11,
   "metadata": {},
   "outputs": [
    {
     "name": "stdout",
     "output_type": "stream",
     "text": [
      "{'id': '204', 'name': 'test_module_example.csv', 'experiment': {'id': '377', 'name': 'Jupyter Experiment'}, 'assay': {'id': '442', 'name': 'Jupyter Assay'}}\n"
     ]
    }
   ],
   "source": [
    "# Upload a File with an Assay.\n",
    "filepath = str(get_project_root() / \"teselagen/api/tests/example_file.csv\")\n",
    "new_file_info = client.test.upload_file(filepath=filepath, assay_id=new_assay['id'])\n",
    "# Upload a File without an Assay.\n",
    "#new_file_info = client.upload_file(filepath=\"./test_module_example.csv\")\n",
    "print(new_file_info)"
   ]
  },
  {
   "cell_type": "code",
   "execution_count": 12,
   "metadata": {},
   "outputs": [
    {
     "data": {
      "text/html": [
       "<div>\n",
       "<style scoped>\n",
       "    .dataframe tbody tr th:only-of-type {\n",
       "        vertical-align: middle;\n",
       "    }\n",
       "\n",
       "    .dataframe tbody tr th {\n",
       "        vertical-align: top;\n",
       "    }\n",
       "\n",
       "    .dataframe thead th {\n",
       "        text-align: right;\n",
       "    }\n",
       "</style>\n",
       "<table border=\"1\" class=\"dataframe\">\n",
       "  <thead>\n",
       "    <tr style=\"text-align: right;\">\n",
       "      <th></th>\n",
       "      <th>Line</th>\n",
       "      <th>Teselagen Example Descriptor 1</th>\n",
       "      <th>Teselagen Example Descriptor 2</th>\n",
       "      <th>Teselagen Example Target</th>\n",
       "      <th>Teselagen Example Target Metric</th>\n",
       "    </tr>\n",
       "  </thead>\n",
       "  <tbody>\n",
       "    <tr>\n",
       "      <th>0</th>\n",
       "      <td>1</td>\n",
       "      <td>A0</td>\n",
       "      <td>B1</td>\n",
       "      <td>1</td>\n",
       "      <td>ug/mL</td>\n",
       "    </tr>\n",
       "    <tr>\n",
       "      <th>1</th>\n",
       "      <td>2</td>\n",
       "      <td>A0</td>\n",
       "      <td>B2</td>\n",
       "      <td>2</td>\n",
       "      <td>ug/mL</td>\n",
       "    </tr>\n",
       "    <tr>\n",
       "      <th>2</th>\n",
       "      <td>3</td>\n",
       "      <td>A0</td>\n",
       "      <td>B3</td>\n",
       "      <td>3</td>\n",
       "      <td>ug/mL</td>\n",
       "    </tr>\n",
       "    <tr>\n",
       "      <th>3</th>\n",
       "      <td>4</td>\n",
       "      <td>A0</td>\n",
       "      <td>B5</td>\n",
       "      <td>5</td>\n",
       "      <td>ug/mL</td>\n",
       "    </tr>\n",
       "    <tr>\n",
       "      <th>4</th>\n",
       "      <td>5</td>\n",
       "      <td>A0</td>\n",
       "      <td>B6</td>\n",
       "      <td>6</td>\n",
       "      <td>ug/mL</td>\n",
       "    </tr>\n",
       "  </tbody>\n",
       "</table>\n",
       "</div>"
      ],
      "text/plain": [
       "   Line Teselagen Example Descriptor 1 Teselagen Example Descriptor 2  \\\n",
       "0     1                             A0                             B1   \n",
       "1     2                             A0                             B2   \n",
       "2     3                             A0                             B3   \n",
       "3     4                             A0                             B5   \n",
       "4     5                             A0                             B6   \n",
       "\n",
       "   Teselagen Example Target Teselagen Example Target Metric  \n",
       "0                         1                           ug/mL  \n",
       "1                         2                           ug/mL  \n",
       "2                         3                           ug/mL  \n",
       "3                         5                           ug/mL  \n",
       "4                         6                           ug/mL  "
      ]
     },
     "execution_count": 12,
     "metadata": {},
     "output_type": "execute_result"
    }
   ],
   "source": [
    "# Gets File data contens\n",
    "binarydata = client.test.download_file(file_id=new_file_info['id'])\n",
    "df_file = pd.read_csv(binarydata, sep=\",\")\n",
    "df_file.head()"
   ]
  },
  {
   "cell_type": "markdown",
   "metadata": {},
   "source": [
    "## Delete elements\n",
    "\n",
    "You can delete an experiment to remove all its assays. Files work differently and you need to explicitly delete them. In the next cells we will download each object specifically:"
   ]
  },
  {
   "cell_type": "code",
   "execution_count": 13,
   "metadata": {},
   "outputs": [
    {
     "data": {
      "text/plain": [
       "{'id': '204'}"
      ]
     },
     "execution_count": 13,
     "metadata": {},
     "output_type": "execute_result"
    }
   ],
   "source": [
    "# Deletes a File\n",
    "client.test.delete_file(file_id=new_file_info['id'])"
   ]
  },
  {
   "cell_type": "code",
   "execution_count": 14,
   "metadata": {},
   "outputs": [
    {
     "data": {
      "text/plain": [
       "{'id': '442'}"
      ]
     },
     "execution_count": 14,
     "metadata": {},
     "output_type": "execute_result"
    }
   ],
   "source": [
    "# Delete an Assay\n",
    "client.test.delete_assay(assay_id=new_assay['id'])"
   ]
  },
  {
   "cell_type": "code",
   "execution_count": 15,
   "metadata": {},
   "outputs": [],
   "source": [
    "# Delete an Experiment from the selected laboratory.\n",
    "client.test.delete_experiment(experiment_id=new_experiment['id'])"
   ]
  },
  {
   "cell_type": "code",
   "execution_count": 16,
   "metadata": {},
   "outputs": [],
   "source": [
    "# Delete all experiments with the name Jupyter Experiment\n",
    "# (if any remains due to uncompleted executions of the notebook)\n",
    "# experiments = client.get_experiments()\n",
    "# for exp in experiments:\n",
    "#     if exp['name'] == \"Jupyter Experiment\":\n",
    "#         client.delete_experiment(experiment_id=exp['id'])"
   ]
  },
  {
   "cell_type": "code",
   "execution_count": null,
   "metadata": {},
   "outputs": [],
   "source": []
  }
 ],
 "metadata": {
  "kernelspec": {
   "display_name": "Python 3 (ipykernel)",
   "language": "python",
   "name": "python3"
  },
  "language_info": {
   "codemirror_mode": {
    "name": "ipython",
    "version": 3
   },
   "file_extension": ".py",
   "mimetype": "text/x-python",
   "name": "python",
   "nbconvert_exporter": "python",
   "pygments_lexer": "ipython3",
   "version": "3.9.9"
  }
 },
 "nbformat": 4,
 "nbformat_minor": 4
}
