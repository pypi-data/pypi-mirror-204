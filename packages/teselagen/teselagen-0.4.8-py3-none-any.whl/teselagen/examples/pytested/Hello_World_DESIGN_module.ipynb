{
 "cells": [
  {
   "cell_type": "markdown",
   "id": "north-universe",
   "metadata": {},
   "source": [
    "<div align=left style=\"width: 200; height: 80px; overflow: hidden\">\n",
    "    <img src=http://static1.squarespace.com/static/571446ff60b5e92c3a2b4249/57d8a40b9de4bb459f731cf3/58cb2f229de4bb4a049d38c2/1505340359463/teselaGenlogo.jpg align=right width=200>\n",
    "</div>"
   ]
  },
  {
   "cell_type": "markdown",
   "id": "major-armor",
   "metadata": {},
   "source": [
    "# Hello World! DESIGN Module\n",
    "\n",
    "This notebook shows how to use the TeselaGen's Python API Client to interact with the DESIGN module."
   ]
  },
  {
   "cell_type": "markdown",
   "id": "colored-booth",
   "metadata": {},
   "source": [
    "We start by making some imports"
   ]
  },
  {
   "cell_type": "code",
   "execution_count": 1,
   "id": "working-major",
   "metadata": {},
   "outputs": [
    {
     "data": {
      "application/vnd.jupyter.widget-view+json": {
       "model_id": "77769a7f32024a708deb47ad1f274e63",
       "version_major": 2,
       "version_minor": 0
      },
      "text/plain": []
     },
     "metadata": {},
     "output_type": "display_data"
    },
    {
     "name": "stdout",
     "output_type": "stream",
     "text": [
      "python version     : 3.9.9\n",
      "pandas version     : 1.3.5\n"
     ]
    }
   ],
   "source": [
    "from pathlib import Path\n",
    "import platform\n",
    "\n",
    "from IPython.core.display import display\n",
    "from IPython.core.display import HTML\n",
    "import nglview\n",
    "import pandas as pd\n",
    "\n",
    "from teselagen.api import TeselaGenClient\n",
    "from teselagen.utils.plot_tools import plot_plasmid_features\n",
    "from teselagen.utils.plot_tools import RenderJSON\n",
    "\n",
    "print(f\"python version     : {platform.python_version()}\")\n",
    "print(f\"pandas version     : {pd.__version__}\")"
   ]
  },
  {
   "cell_type": "markdown",
   "id": "marked-consequence",
   "metadata": {},
   "source": [
    "And then login into the platform. You should get \"*Connection Accepted*\" printed below. "
   ]
  },
  {
   "cell_type": "code",
   "execution_count": 2,
   "id": "peripheral-brake",
   "metadata": {},
   "outputs": [
    {
     "name": "stdout",
     "output_type": "stream",
     "text": [
      "Connection Accepted at https://platform.teselagen.com\n",
      "Selected Lab: The Test Lab\n"
     ]
    }
   ],
   "source": [
    "# Connect to your teselagen instance by passing it as the 'host_url' argument of TeselaGenClient(host_url=host_url)\n",
    "# client = TeselaGenClient(host_url=\"https://your-instance-name.teselagen.com\")\n",
    "client = TeselaGenClient()\n",
    "client.login()\n",
    "client.select_laboratory(lab_name=\"The Test Lab\")"
   ]
  },
  {
   "cell_type": "code",
   "execution_count": 3,
   "id": "packed-cause",
   "metadata": {},
   "outputs": [
    {
     "name": "stdout",
     "output_type": "stream",
     "text": [
      "https://platform.teselagen.com\n"
     ]
    }
   ],
   "source": [
    "print(client.host_url)"
   ]
  },
  {
   "cell_type": "markdown",
   "id": "capital-invention",
   "metadata": {},
   "source": [
    "## Downloading DNA sequences"
   ]
  },
  {
   "cell_type": "markdown",
   "id": "graphic-search",
   "metadata": {},
   "source": [
    "In this section we are going to download and explore a sample sequence from the DESIGN module. This sequences is named `GFP_UV`. In the next cell we are going to download this sequence. You can use the cell's output to explore the contents of this object:"
   ]
  },
  {
   "cell_type": "code",
   "execution_count": 4,
   "id": "acute-welding",
   "metadata": {},
   "outputs": [
    {
     "data": {
      "text/html": [
       "\n",
       "            <div id=\"d324356f-eacc-4fa5-a49e-dd5dadb5ad4e\" style=\"height: max-content; width:100%;background-color: #f2f3ff\";></div>\n",
       "            "
      ]
     },
     "metadata": {},
     "output_type": "display_data"
    },
    {
     "data": {
      "application/javascript": [
       "\n",
       "            require([\"https://rawgit.com/caldwell/renderjson/master/renderjson.js\"], function() {\n",
       "            document.getElementById('d324356f-eacc-4fa5-a49e-dd5dadb5ad4e').appendChild(renderjson({\"id\": \"fa2d6c15-786b-40d8-b112-4415401389cc\", \"name\": \"GFP_UV\", \"circular\": true, \"description\": null, \"size\": 5299, \"hash\": \"1e0ac0ee7c31b5855172c24b72fc8b92e63e520012c4221f1d7466014fa5022b\", \"isJ5Sequence\": false, \"parts\": [{\"id\": \"fbe784ca-e3ac-427e-88ce-31de44545248\", \"name\": \"pS8c-vector_backbone\", \"start\": 2015, \"end\": 1237, \"strand\": 1, \"notes\": {\"tag\": []}, \"annotationTypePlural\": \"parts\", \"forward\": true, \"type\": \"misc_feature\", \"color\": \"#006FEF\"}, {\"id\": \"609687b1-a3a4-4e96-9a6f-1f8bf78f77fe\", \"name\": \"GFPuv\", \"start\": 1241, \"end\": 1951, \"strand\": 1, \"notes\": {\"tag\": []}, \"annotationTypePlural\": \"parts\", \"forward\": true, \"type\": \"misc_feature\", \"color\": \"#006FEF\"}], \"sequenceFeatures\": [{\"id\": \"3b5d0d01-dd12-48ee-8d70-9676f0b7b5c6\", \"start\": 2163, \"end\": 4391, \"type\": \"rep_origin\", \"name\": \"pSC101**\", \"strand\": -1, \"locations\": null, \"__typename\": \"sequenceFeature\"}, {\"id\": \"b9649513-28c0-4fb9-b891-e92fcfe7100b\", \"start\": 6, \"end\": 884, \"type\": \"CDS\", \"name\": \"araC\", \"strand\": -1, \"locations\": null, \"__typename\": \"sequenceFeature\"}, {\"id\": \"0ffd28be-a176-4018-852e-5fa4bf251015\", \"start\": 1235, \"end\": 2017, \"type\": \"CDS\", \"name\": \"GFPuv\", \"strand\": 1, \"locations\": null, \"__typename\": \"sequenceFeature\"}, {\"id\": \"2dbf33bf-a47f-458c-a56a-1bc07c02cc2e\", \"start\": 1215, \"end\": 1234, \"type\": \"RBS\", \"name\": \"RBS\", \"strand\": 1, \"locations\": null, \"__typename\": \"sequenceFeature\"}, {\"id\": \"543066c9-bab5-4a6d-9da5-0030c00ea7a5\", \"start\": 4513, \"end\": 5172, \"type\": \"misc_marker\", \"name\": \"CmR\", \"strand\": -1, \"locations\": null, \"__typename\": \"sequenceFeature\"}, {\"id\": \"24b30faf-a8f4-4422-8b04-b447aa08898a\", \"start\": 1952, \"end\": 2014, \"type\": \"CDS\", \"name\": \"signal_peptide\", \"strand\": 1, \"locations\": null, \"__typename\": \"sequenceFeature\"}, {\"id\": \"6f9b4f5a-a8d2-419f-b47a-e8a4d5430065\", \"start\": 1660, \"end\": 1660, \"type\": \"misc_feature\", \"name\": \"XhoI_silent_mutation\", \"strand\": 1, \"locations\": null, \"__typename\": \"sequenceFeature\"}, {\"id\": \"34fc78c4-c16e-431d-ab26-f3f111a39007\", \"start\": 1160, \"end\": 1187, \"type\": \"promoter\", \"name\": \"pBAD promoter\", \"strand\": 1, \"locations\": null, \"__typename\": \"sequenceFeature\"}, {\"id\": \"388f5115-c038-411c-8740-557cf09e4e42\", \"start\": 1123, \"end\": 1161, \"type\": \"protein_bind\", \"name\": \"Operator I2 and I1\", \"strand\": 1, \"locations\": null, \"__typename\": \"sequenceFeature\"}, {\"id\": \"95e38381-5217-4a89-b467-aae69936c858\", \"start\": 1071, \"end\": 1092, \"type\": \"protein_bind\", \"name\": \"operator O1\", \"strand\": 1, \"locations\": null, \"__typename\": \"sequenceFeature\"}, {\"id\": \"96614b74-74f6-47a3-aa30-7541ac2b555d\", \"start\": 4392, \"end\": 4497, \"type\": \"terminator\", \"name\": \"T0\", \"strand\": 1, \"locations\": null, \"__typename\": \"sequenceFeature\"}, {\"id\": \"226e3498-c8ec-4406-a59e-3f2db7a9bda4\", \"start\": 1114, \"end\": 1127, \"type\": \"misc_binding\", \"name\": \"CAP site\", \"strand\": 1, \"locations\": null, \"__typename\": \"sequenceFeature\"}, {\"id\": \"078c01fa-a374-4125-9595-fe5e7f9d4c4c\", \"start\": 1035, \"end\": 1063, \"type\": \"promoter\", \"name\": \"araC promoter\", \"strand\": -1, \"locations\": null, \"__typename\": \"sequenceFeature\"}, {\"id\": \"70e31315-eaf4-4c55-84d9-55ccc364e558\", \"start\": 2033, \"end\": 2161, \"type\": \"terminator\", \"name\": \"dbl term\", \"strand\": 1, \"locations\": null, \"__typename\": \"sequenceFeature\"}, {\"id\": \"c47eeec6-a5d0-46ee-8f9d-44dc7f080bc5\", \"start\": 1759, \"end\": 1759, \"type\": \"misc_feature\", \"name\": \"BamHI_silent_mutation\", \"strand\": 1, \"locations\": null, \"__typename\": \"sequenceFeature\"}, {\"id\": \"6ac03e4f-a5e0-4201-bcf6-1f94ece1f242\", \"start\": 913, \"end\": 930, \"type\": \"protein_bind\", \"name\": \"operator O2\", \"strand\": 1, \"locations\": null, \"__typename\": \"sequenceFeature\"}], \"__typename\": \"sequence\", \"sequenceFragments\": [{\"id\": \"2df3388e-65d3-4bd5-8a6e-b9e834cbebd1\", \"cid\": null, \"index\": 1, \"fragment\": \"tagcaccctcgcaagctcgggcaaatcgctgaatattccttttgtctccgaccatcaggcacctgagtcgctgtctttttcgtgacattcagttcgctgcgctcacggctctggcagtgaatgggggtaaatggcactacaggcgccttttatggattcatgcaaggaaactacccataatacaagaaaagcccgtcacgggcttctcagggcgttttatggcgggtctgctatgtggtgctatctgactttttgctgttcagcagttcctgccctctgattttccagtctgaccacttcggattatcccgtgacaggtcattcagactggctaatgcacccagtaaggcagcggtatcatcaacaggcttacccgtcttactgtccctagtgcttggattctcaccaataaaaaacgcccggcggcaaccgagcgttctgaacaaatccagatggagttctgaggtcattactggatctatcaacaggagtccaagcgagctcgatatcaaattacgccccgccctgccactcatcgcagtactgttgtaattcattaagcattctgccgacatggaagccatcacaaacggcatgatgaacctgaatcgccagcggcatcagcaccttgtcgccttgcgtataatatttgcccatggtgaaaacgggggcgaagaagttgtccatattggccacgtttaaatcaaaactggtgaaactcacccagggattggctgagacgaaaaacatattctcaataaaccctttagggaaataggccaggttttcaccgtaacacgccacatcttgcgaatatatgtgtagaaactgccggaaatcgtcgtggtattcactccagagcgatgaaaacgtttcagtttgctcatggaaaacggtgtaacaagggtgaacactatcccatatcaccagctcaccgtctttcattgccatacgaaattccggatgagcattcatcaggcgggcaagaatgtgaataaaggccggataaaacttgtgcttatttttctttacggtctttaaaaaggccgtaatatccagctgaacggtctggttataggtacattgagcaactgactgaaatgcctcaaaatgttctttacgatgccattgggatatatcaacggtggtatatccagtgatttttttctccattttagcttccttagctcctgaaaatctcgataactcaaaaaatacgcccggtagtgatcttatttcattatggtgaaagttggaacctcttacgtgccgatcaacgtctcattttcgccagatatc\", \"__typename\": \"sequenceFragment\"}, {\"id\": \"e4c438db-f7be-4763-bed8-1301ef67f565\", \"cid\": null, \"index\": 0, \"fragment\": \"gacgtcttatgacaacttgacggctacatcattcactttttcttcacaaccggcacggaactcgctcgggctggccccggtgcattttttaaatacccgcgagaaatagagttgatcgtcaaaaccaacattgcgaccgacggtggcgataggcatccgggtggtgctcaaaagcagcttcgcctggctgatacgttggtcctcgcgccagcttaagacgctaatccctaactgctggcggaaaagatgtgacagacgcgacggcgacaagcaaacatgctgtgcgacgctggcgatatcaaaattgctgtctgccaggtgatcgctgatgtactgacaagcctcgcgtacccgattatccatcggtggatggagcgactcgttaatcgcttccatgcgccgcagtaacaattgctcaagcagatttatcgccagcagctccgaatagcgcccttccccttgcccggcgttaatgatttgcccaaacaggtcgctgaaatgcggctggtgcgcttcatccgggcgaaagaaccccgtattggcaaatattgacggccagttaagccattcatgccagtaggcgcgcggacgaaagtaaacccactggtgataccattcgcgagcctccggatgacgaccgtagtgatgaatctctcctggcgggaacagcaaaatatcacccggtcggcaaacaaattctcgtccctgatttttcaccaccccctgaccgcgaatggtgagattgagaatataacctttcattcccagcggtcggtcgataaaaaaatcgagataaccgttggcctcaatcggcgttaaacccgccaccagatgggcattaaacgagtatcccggcagcaggggatcattttgcgcttcagccatacttttcatactcccgccattcagagaagaaaccaattgtccatattgcatcagacattgccgtcactgcgtcttttactggctcttctcgctaaccaaaccggtaaccccgcttattaaaagcattctgtaacaaagcgggaccaaagccatgacaaaaacgcgtaacaaaagtgtctataatcacggcagaaaagtccacattgattatttgcacggcgtcacactttgctatgccatagcatttttatccataagattagcggattctacctgacgctttttatcgcaactctctactgtttctccatacccgtttttttgggaatttttaagaaggagatatacatatgagtaaaggagaagaacttttcactggagttgtcccaattcttgttgaattagatggtgatgttaatgggcacaaattttctgtcagtggagagggtgaaggtgatgcaacatacggaaaacttacccttaaatttatttgcactactggaaaactacctgttccatggccaacacttgtcactactttctcttatggtgttcaatgcttttcccgttatccggatcatatgaaacggcatgactttttcaagagtgccatgcccgaaggttatgtacaggaacgcactatatctttcaaagatgacgggaactacaagacgcgtgctgaagtcaagtttgaaggtgatacccttgttaatcgtatcgagttaaaaggtattgattttaaagaagatggaaacattctcggacacaaactcgaatacaactataactcacacaatgtatacatcacggcagacaaacaaaagaatggaatcaaagctaacttcaaaattcgccacaacattgaagatggatctgttcaactagcagaccattatcaacaaaatactccaattggcgatggccctgtccttttaccagacaaccattacctgtcgacacaatctgccctttcgaaagatcccaacgaaaagcgtgaccacatggtccttcttgagtttgtaactgctgctgggattacacatggcatggatgagctcggcggcggcggcagcaaggtctacggcaaggaacagtttttgcggatgcgccagagcatgttccccgatcgctaaatcgagtaaggatctccaggcatcaaataaaacgaaaggctcagtcgaaagactgggcctttcgttttatctgttgtttgtcggtgaacgctctctactagagtcacactggctcaccttcgggtgggcctttctgcgtttatacctagggtacgggttttgctgcccgcaaacgggctgttctggtgttgctagtttgttatcagaatcgcagatccggcttcagccggtttgccggctgaaagcgctatttcttccagaattgccatgattttttccccacgggaggcgtcactggctcccgtgttgtcggcagctttgattcgataagcagcatcgcctgtttcaggctgtctatgtgtgactgttgagctgtaacaagttgtctcaggtgttcaatttcatgttctagttgctttgttttactggtttcacctgttctattaggtgttacatgctgttcatctgttacattgtcgatctgttcatggtgaacagctttgaatgcaccaaaaactcgtaaaagctctgatgtatctatcttttttacaccgttttcatctgtgcatatggacagttttccctttgatatgtaacggtgaacagttgttctacttttgtttgttagtcttgatgcttcactgatagatacaagagccataagaacctcagatccttccgtatttagccagtatgttctctagtgtggttcgttgtttttgcgtgagccatgagaacgaaccattgagatcatacttactttgcatgtcactcaaaaattttgcctcaaaactggtgagctgaatttttgcagttaaagcatcgtgtagtgtttttcttagtccgttatgtaggtaggaatctgatgtaatggttgttggtattttgtcaccattcatttttatctggttgttctcaagttcggttacgagatccatttgtctatctagttcaacttggaaaatcaacgtatcagtcgggcggcctcgcttatcaaccaccaatttcatattgctgtaagtgtttaaatctttacttattggtttcaaaacccattggttaagccttttaaactcatggtagttattttcaagcattaacatgaacttaaattcatcaaggctaatctctatatttgccttgtgagttttcttttgtgttagttcttttaataaccactcataaatcctcatagagtatttgttttcaaaagacttaacatgttccagattatattttatgaatttttttaactggaaaagataaggcaatatctcttcactaaaaactaattctaatttttcgcttgagaacttggcatagtttgtccactggaaaatctcaaagcctttaaccaaaggattcctgatttccacagttctcgtcatcagctctctggttgctttagctaatacaccataagcattttccctactgatgttcatcatctgagcgtattggttataagtgaacgataccgtccgttctttccttgtagggttttcaatcgtggggttgagtagtgccacacagcataaaattagcttggtttcatgctccgttaagtcatagcgactaatcgctagttcatttgctttgaaaacaactaattcagacatacatctcaattggtctaggtgattttaatcactataccaattgagatgggctagtcaatgataattactagtccttttcccgggtgatctgggtatctgtaaattctgctagacctttgctggaaaacttgtaaattctgctagaccctctgtaaattccgctagacctttgtgtgttttttttgtttatattcaagtggttataatttatagaataaagaaagaataaaaaaagataaaaagaatagatcccagccctgtgtataactcactactttagtcagttccgcagtattacaaaaggatgtcgcaaacgctgtttgctcctctacaaaacagaccttaaaaccctaaaggcttaag\", \"__typename\": \"sequenceFragment\"}], \"type\": \"DNA\", \"isOligo\": false, \"isRna\": false, \"proteinSequence\": \"\", \"sequence\": \"gacgtcttatgacaacttgacggctacatcattcactttttcttcacaaccggcacggaactcgctcgggctggccccggtgcattttttaaatacccgcgagaaatagagttgatcgtcaaaaccaacattgcgaccgacggtggcgataggcatccgggtggtgctcaaaagcagcttcgcctggctgatacgttggtcctcgcgccagcttaagacgctaatccctaactgctggcggaaaagatgtgacagacgcgacggcgacaagcaaacatgctgtgcgacgctggcgatatcaaaattgctgtctgccaggtgatcgctgatgtactgacaagcctcgcgtacccgattatccatcggtggatggagcgactcgttaatcgcttccatgcgccgcagtaacaattgctcaagcagatttatcgccagcagctccgaatagcgcccttccccttgcccggcgttaatgatttgcccaaacaggtcgctgaaatgcggctggtgcgcttcatccgggcgaaagaaccccgtattggcaaatattgacggccagttaagccattcatgccagtaggcgcgcggacgaaagtaaacccactggtgataccattcgcgagcctccggatgacgaccgtagtgatgaatctctcctggcgggaacagcaaaatatcacccggtcggcaaacaaattctcgtccctgatttttcaccaccccctgaccgcgaatggtgagattgagaatataacctttcattcccagcggtcggtcgataaaaaaatcgagataaccgttggcctcaatcggcgttaaacccgccaccagatgggcattaaacgagtatcccggcagcaggggatcattttgcgcttcagccatacttttcatactcccgccattcagagaagaaaccaattgtccatattgcatcagacattgccgtcactgcgtcttttactggctcttctcgctaaccaaaccggtaaccccgcttattaaaagcattctgtaacaaagcgggaccaaagccatgacaaaaacgcgtaacaaaagtgtctataatcacggcagaaaagtccacattgattatttgcacggcgtcacactttgctatgccatagcatttttatccataagattagcggattctacctgacgctttttatcgcaactctctactgtttctccatacccgtttttttgggaatttttaagaaggagatatacatatgagtaaaggagaagaacttttcactggagttgtcccaattcttgttgaattagatggtgatgttaatgggcacaaattttctgtcagtggagagggtgaaggtgatgcaacatacggaaaacttacccttaaatttatttgcactactggaaaactacctgttccatggccaacacttgtcactactttctcttatggtgttcaatgcttttcccgttatccggatcatatgaaacggcatgactttttcaagagtgccatgcccgaaggttatgtacaggaacgcactatatctttcaaagatgacgggaactacaagacgcgtgctgaagtcaagtttgaaggtgatacccttgttaatcgtatcgagttaaaaggtattgattttaaagaagatggaaacattctcggacacaaactcgaatacaactataactcacacaatgtatacatcacggcagacaaacaaaagaatggaatcaaagctaacttcaaaattcgccacaacattgaagatggatctgttcaactagcagaccattatcaacaaaatactccaattggcgatggccctgtccttttaccagacaaccattacctgtcgacacaatctgccctttcgaaagatcccaacgaaaagcgtgaccacatggtccttcttgagtttgtaactgctgctgggattacacatggcatggatgagctcggcggcggcggcagcaaggtctacggcaaggaacagtttttgcggatgcgccagagcatgttccccgatcgctaaatcgagtaaggatctccaggcatcaaataaaacgaaaggctcagtcgaaagactgggcctttcgttttatctgttgtttgtcggtgaacgctctctactagagtcacactggctcaccttcgggtgggcctttctgcgtttatacctagggtacgggttttgctgcccgcaaacgggctgttctggtgttgctagtttgttatcagaatcgcagatccggcttcagccggtttgccggctgaaagcgctatttcttccagaattgccatgattttttccccacgggaggcgtcactggctcccgtgttgtcggcagctttgattcgataagcagcatcgcctgtttcaggctgtctatgtgtgactgttgagctgtaacaagttgtctcaggtgttcaatttcatgttctagttgctttgttttactggtttcacctgttctattaggtgttacatgctgttcatctgttacattgtcgatctgttcatggtgaacagctttgaatgcaccaaaaactcgtaaaagctctgatgtatctatcttttttacaccgttttcatctgtgcatatggacagttttccctttgatatgtaacggtgaacagttgttctacttttgtttgttagtcttgatgcttcactgatagatacaagagccataagaacctcagatccttccgtatttagccagtatgttctctagtgtggttcgttgtttttgcgtgagccatgagaacgaaccattgagatcatacttactttgcatgtcactcaaaaattttgcctcaaaactggtgagctgaatttttgcagttaaagcatcgtgtagtgtttttcttagtccgttatgtaggtaggaatctgatgtaatggttgttggtattttgtcaccattcatttttatctggttgttctcaagttcggttacgagatccatttgtctatctagttcaacttggaaaatcaacgtatcagtcgggcggcctcgcttatcaaccaccaatttcatattgctgtaagtgtttaaatctttacttattggtttcaaaacccattggttaagccttttaaactcatggtagttattttcaagcattaacatgaacttaaattcatcaaggctaatctctatatttgccttgtgagttttcttttgtgttagttcttttaataaccactcataaatcctcatagagtatttgttttcaaaagacttaacatgttccagattatattttatgaatttttttaactggaaaagataaggcaatatctcttcactaaaaactaattctaatttttcgcttgagaacttggcatagtttgtccactggaaaatctcaaagcctttaaccaaaggattcctgatttccacagttctcgtcatcagctctctggttgctttagctaatacaccataagcattttccctactgatgttcatcatctgagcgtattggttataagtgaacgataccgtccgttctttccttgtagggttttcaatcgtggggttgagtagtgccacacagcataaaattagcttggtttcatgctccgttaagtcatagcgactaatcgctagttcatttgctttgaaaacaactaattcagacatacatctcaattggtctaggtgattttaatcactataccaattgagatgggctagtcaatgataattactagtccttttcccgggtgatctgggtatctgtaaattctgctagacctttgctggaaaacttgtaaattctgctagaccctctgtaaattccgctagacctttgtgtgttttttttgtttatattcaagtggttataatttatagaataaagaaagaataaaaaaagataaaaagaatagatcccagccctgtgtataactcactactttagtcagttccgcagtattacaaaaggatgtcgcaaacgctgtttgctcctctacaaaacagaccttaaaaccctaaaggcttaagtagcaccctcgcaagctcgggcaaatcgctgaatattccttttgtctccgaccatcaggcacctgagtcgctgtctttttcgtgacattcagttcgctgcgctcacggctctggcagtgaatgggggtaaatggcactacaggcgccttttatggattcatgcaaggaaactacccataatacaagaaaagcccgtcacgggcttctcagggcgttttatggcgggtctgctatgtggtgctatctgactttttgctgttcagcagttcctgccctctgattttccagtctgaccacttcggattatcccgtgacaggtcattcagactggctaatgcacccagtaaggcagcggtatcatcaacaggcttacccgtcttactgtccctagtgcttggattctcaccaataaaaaacgcccggcggcaaccgagcgttctgaacaaatccagatggagttctgaggtcattactggatctatcaacaggagtccaagcgagctcgatatcaaattacgccccgccctgccactcatcgcagtactgttgtaattcattaagcattctgccgacatggaagccatcacaaacggcatgatgaacctgaatcgccagcggcatcagcaccttgtcgccttgcgtataatatttgcccatggtgaaaacgggggcgaagaagttgtccatattggccacgtttaaatcaaaactggtgaaactcacccagggattggctgagacgaaaaacatattctcaataaaccctttagggaaataggccaggttttcaccgtaacacgccacatcttgcgaatatatgtgtagaaactgccggaaatcgtcgtggtattcactccagagcgatgaaaacgtttcagtttgctcatggaaaacggtgtaacaagggtgaacactatcccatatcaccagctcaccgtctttcattgccatacgaaattccggatgagcattcatcaggcgggcaagaatgtgaataaaggccggataaaacttgtgcttatttttctttacggtctttaaaaaggccgtaatatccagctgaacggtctggttataggtacattgagcaactgactgaaatgcctcaaaatgttctttacgatgccattgggatatatcaacggtggtatatccagtgatttttttctccattttagcttccttagctcctgaaaatctcgataactcaaaaaatacgcccggtagtgatcttatttcattatggtgaaagttggaacctcttacgtgccgatcaacgtctcattttcgccagatatc\", \"proteinSize\": 0, \"primers\": [], \"features\": [{\"notes\": {}, \"id\": \"3b5d0d01-dd12-48ee-8d70-9676f0b7b5c6\", \"start\": 2163, \"end\": 4391, \"type\": \"rep_origin\", \"name\": \"pSC101**\", \"strand\": -1, \"locations\": null, \"__typename\": \"sequenceFeature\", \"annotationTypePlural\": \"features\", \"forward\": false, \"color\": \"#878787\"}, {\"notes\": {}, \"id\": \"b9649513-28c0-4fb9-b891-e92fcfe7100b\", \"start\": 6, \"end\": 884, \"type\": \"CDS\", \"name\": \"araC\", \"strand\": -1, \"locations\": null, \"__typename\": \"sequenceFeature\", \"annotationTypePlural\": \"features\", \"forward\": false, \"color\": \"#EF6500\"}, {\"notes\": {}, \"id\": \"0ffd28be-a176-4018-852e-5fa4bf251015\", \"start\": 1235, \"end\": 2017, \"type\": \"CDS\", \"name\": \"GFPuv\", \"strand\": 1, \"locations\": null, \"__typename\": \"sequenceFeature\", \"annotationTypePlural\": \"features\", \"forward\": true, \"color\": \"#EF6500\"}, {\"notes\": {}, \"id\": \"2dbf33bf-a47f-458c-a56a-1bc07c02cc2e\", \"start\": 1215, \"end\": 1234, \"type\": \"RBS\", \"name\": \"RBS\", \"strand\": 1, \"locations\": null, \"__typename\": \"sequenceFeature\", \"annotationTypePlural\": \"features\", \"forward\": true, \"color\": \"#BDFFCB\"}, {\"notes\": {}, \"id\": \"543066c9-bab5-4a6d-9da5-0030c00ea7a5\", \"start\": 4513, \"end\": 5172, \"type\": \"misc_marker\", \"name\": \"CmR\", \"strand\": -1, \"locations\": null, \"__typename\": \"sequenceFeature\", \"annotationTypePlural\": \"features\", \"forward\": false, \"color\": \"#8DCEB1\"}, {\"notes\": {}, \"id\": \"24b30faf-a8f4-4422-8b04-b447aa08898a\", \"start\": 1952, \"end\": 2014, \"type\": \"CDS\", \"name\": \"signal_peptide\", \"strand\": 1, \"locations\": null, \"__typename\": \"sequenceFeature\", \"annotationTypePlural\": \"features\", \"forward\": true, \"color\": \"#EF6500\"}, {\"notes\": {}, \"id\": \"6f9b4f5a-a8d2-419f-b47a-e8a4d5430065\", \"start\": 1660, \"end\": 1660, \"type\": \"misc_feature\", \"name\": \"XhoI_silent_mutation\", \"strand\": 1, \"locations\": null, \"__typename\": \"sequenceFeature\", \"annotationTypePlural\": \"features\", \"forward\": true, \"color\": \"#006FEF\"}, {\"notes\": {}, \"id\": \"34fc78c4-c16e-431d-ab26-f3f111a39007\", \"start\": 1160, \"end\": 1187, \"type\": \"promoter\", \"name\": \"pBAD promoter\", \"strand\": 1, \"locations\": null, \"__typename\": \"sequenceFeature\", \"annotationTypePlural\": \"features\", \"forward\": true, \"color\": \"#31B440\"}, {\"notes\": {}, \"id\": \"388f5115-c038-411c-8740-557cf09e4e42\", \"start\": 1123, \"end\": 1161, \"type\": \"protein_bind\", \"name\": \"Operator I2 and I1\", \"strand\": 1, \"locations\": null, \"__typename\": \"sequenceFeature\", \"annotationTypePlural\": \"features\", \"forward\": true, \"color\": \"#2E2E2E\"}, {\"notes\": {}, \"id\": \"95e38381-5217-4a89-b467-aae69936c858\", \"start\": 1071, \"end\": 1092, \"type\": \"protein_bind\", \"name\": \"operator O1\", \"strand\": 1, \"locations\": null, \"__typename\": \"sequenceFeature\", \"annotationTypePlural\": \"features\", \"forward\": true, \"color\": \"#2E2E2E\"}, {\"notes\": {}, \"id\": \"96614b74-74f6-47a3-aa30-7541ac2b555d\", \"start\": 4392, \"end\": 4497, \"type\": \"terminator\", \"name\": \"T0\", \"strand\": 1, \"locations\": null, \"__typename\": \"sequenceFeature\", \"annotationTypePlural\": \"features\", \"forward\": true, \"color\": \"#F51600\"}, {\"notes\": {}, \"id\": \"226e3498-c8ec-4406-a59e-3f2db7a9bda4\", \"start\": 1114, \"end\": 1127, \"type\": \"misc_binding\", \"name\": \"CAP site\", \"strand\": 1, \"locations\": null, \"__typename\": \"sequenceFeature\", \"annotationTypePlural\": \"features\", \"forward\": true, \"color\": \"#006FEF\"}, {\"notes\": {}, \"id\": \"078c01fa-a374-4125-9595-fe5e7f9d4c4c\", \"start\": 1035, \"end\": 1063, \"type\": \"promoter\", \"name\": \"araC promoter\", \"strand\": -1, \"locations\": null, \"__typename\": \"sequenceFeature\", \"annotationTypePlural\": \"features\", \"forward\": false, \"color\": \"#31B440\"}, {\"notes\": {}, \"id\": \"70e31315-eaf4-4c55-84d9-55ccc364e558\", \"start\": 2033, \"end\": 2161, \"type\": \"terminator\", \"name\": \"dbl term\", \"strand\": 1, \"locations\": null, \"__typename\": \"sequenceFeature\", \"annotationTypePlural\": \"features\", \"forward\": true, \"color\": \"#F51600\"}, {\"notes\": {}, \"id\": \"c47eeec6-a5d0-46ee-8f9d-44dc7f080bc5\", \"start\": 1759, \"end\": 1759, \"type\": \"misc_feature\", \"name\": \"BamHI_silent_mutation\", \"strand\": 1, \"locations\": null, \"__typename\": \"sequenceFeature\", \"annotationTypePlural\": \"features\", \"forward\": true, \"color\": \"#006FEF\"}, {\"notes\": {}, \"id\": \"6ac03e4f-a5e0-4201-bcf6-1f94ece1f242\", \"start\": 913, \"end\": 930, \"type\": \"protein_bind\", \"name\": \"operator O2\", \"strand\": 1, \"locations\": null, \"__typename\": \"sequenceFeature\", \"annotationTypePlural\": \"features\", \"forward\": true, \"color\": \"#2E2E2E\"}], \"lineageAnnotations\": [], \"assemblyPieces\": [], \"warnings\": [], \"cutsites\": [], \"orfs\": [], \"translations\": [], \"guides\": []}))\n",
       "            });\n",
       "            "
      ]
     },
     "metadata": {},
     "output_type": "display_data"
    }
   ],
   "source": [
    "sequence = client.design.get_dna_sequences(name='GFP_UV')[0]\n",
    "RenderJSON(sequence)"
   ]
  },
  {
   "cell_type": "markdown",
   "id": "impossible-coverage",
   "metadata": {},
   "source": [
    "The output contained  a list of all sequences named `'GFP_UV'`. We just got the first one and now we check the   features it contains"
   ]
  },
  {
   "cell_type": "code",
   "execution_count": 5,
   "id": "narrative-liver",
   "metadata": {},
   "outputs": [
    {
     "name": "stdout",
     "output_type": "stream",
     "text": [
      "pSC101**\n",
      "araC\n",
      "GFPuv\n",
      "RBS\n",
      "CmR\n",
      "signal_peptide\n",
      "XhoI_silent_mutation\n",
      "pBAD promoter\n",
      "Operator I2 and I1\n",
      "operator O1\n",
      "T0\n",
      "CAP site\n",
      "araC promoter\n",
      "dbl term\n",
      "BamHI_silent_mutation\n",
      "operator O2\n"
     ]
    }
   ],
   "source": [
    "features = sequence['features']\n",
    "for feat in features:\n",
    "    print(feat['name'])"
   ]
  },
  {
   "cell_type": "markdown",
   "id": "thick-parker",
   "metadata": {},
   "source": [
    "Each element contains all the information about that particular feature. In the following cell we show the contents of the `GFPuv` feature:"
   ]
  },
  {
   "cell_type": "code",
   "execution_count": 6,
   "id": "nuclear-cliff",
   "metadata": {},
   "outputs": [
    {
     "data": {
      "text/plain": [
       "{'notes': {},\n",
       " 'id': '0ffd28be-a176-4018-852e-5fa4bf251015',\n",
       " 'start': 1235,\n",
       " 'end': 2017,\n",
       " 'type': 'CDS',\n",
       " 'name': 'GFPuv',\n",
       " 'strand': 1,\n",
       " 'locations': None,\n",
       " '__typename': 'sequenceFeature',\n",
       " 'annotationTypePlural': 'features',\n",
       " 'forward': True,\n",
       " 'color': '#EF6500'}"
      ]
     },
     "metadata": {},
     "output_type": "display_data"
    }
   ],
   "source": [
    "gfp_uv_feature = [feat for feat in features if feat['name'] == \"GFPuv\"][0]\n",
    "display(gfp_uv_feature)"
   ]
  },
  {
   "cell_type": "markdown",
   "id": "alien-horizon",
   "metadata": {},
   "source": [
    "We can use the above object to get the precise nucleotide sequence for that feature:"
   ]
  },
  {
   "cell_type": "code",
   "execution_count": 7,
   "id": "regular-filename",
   "metadata": {},
   "outputs": [
    {
     "data": {
      "text/plain": [
       "'atgagtaaaggagaagaacttttcactggagttgtcccaattcttgttgaattagatggtgatgttaatgggcacaaattttctgtcagtggagagggtgaaggtgatgcaacatacggaaaacttacccttaaatttatttgcactactggaaaactacctgttccatggccaacacttgtcactactttctcttatggtgttcaatgcttttcccgttatccggatcatatgaaacggcatgactttttcaagagtgccatgcccgaaggttatgtacaggaacgcactatatctttcaaagatgacgggaactacaagacgcgtgctgaagtcaagtttgaaggtgatacccttgttaatcgtatcgagttaaaaggtattgattttaaagaagatggaaacattctcggacacaaactcgaatacaactataactcacacaatgtatacatcacggcagacaaacaaaagaatggaatcaaagctaacttcaaaattcgccacaacattgaagatggatctgttcaactagcagaccattatcaacaaaatactccaattggcgatggccctgtccttttaccagacaaccattacctgtcgacacaatctgccctttcgaaagatcccaacgaaaagcgtgaccacatggtccttcttgagtttgtaactgctgctgggattacacatggcatggatgagctcggcggcggcggcagcaaggtctacggcaaggaacagtttttgcggatgcgccagagcatgttccccgatcgctaa'"
      ]
     },
     "execution_count": 7,
     "metadata": {},
     "output_type": "execute_result"
    }
   ],
   "source": [
    "sequence['sequence'][int(gfp_uv_feature['start']):int(gfp_uv_feature['end']) + 1]"
   ]
  },
  {
   "cell_type": "markdown",
   "id": "olympic-variance",
   "metadata": {},
   "source": [
    "We can also make a plot of all features by using [dna_features_viewer library](https://github.com/Edinburgh-Genome-Foundry/DnaFeaturesViewer) (see plot_plasmid_features implementation for details). As there are many features we will just focus on the biggest ones (> 100 base pairs)"
   ]
  },
  {
   "cell_type": "code",
   "execution_count": 8,
   "id": "artistic-liverpool",
   "metadata": {
    "scrolled": false
   },
   "outputs": [
    {
     "data": {
      "text/html": [
       "<style> .output_png {display: table-cell;text-align: center;vertical-align: middle;}</style>"
      ],
      "text/plain": [
       "<IPython.core.display.HTML object>"
      ]
     },
     "execution_count": 8,
     "metadata": {},
     "output_type": "execute_result"
    },
    {
     "data": {
      "image/png": "[encoded data removed]",
      "text/plain": [
       "<Figure size 360x488.571 with 1 Axes>"
      ]
     },
     "metadata": {
      "needs_background": "light"
     },
     "output_type": "display_data"
    }
   ],
   "source": [
    "_ = plot_plasmid_features(plasmid_length=len(sequence['sequence']),\n",
    "                          features=[feat for feat in features if feat['end'] - feat['start'] > 100])\n",
    "# This line just centers the image\n",
    "HTML(\"\"\"<style> .output_png {display: table-cell;text-align: center;vertical-align: middle;}</style>\"\"\")"
   ]
  },
  {
   "cell_type": "markdown",
   "id": "plastic-hierarchy",
   "metadata": {},
   "source": [
    "## Downloading designs\n",
    "\n",
    "Now we'll download a design from the platform"
   ]
  },
  {
   "cell_type": "code",
   "execution_count": 9,
   "id": "special-landscape",
   "metadata": {},
   "outputs": [],
   "source": [
    "# We first obtain designs id by its name\n",
    "design_name = \"CGG Design demo notebook\"\n",
    "design_info = client.design.get_designs(name=design_name)[0]"
   ]
  },
  {
   "cell_type": "markdown",
   "id": "compatible-script",
   "metadata": {},
   "source": [
    "Click the following link to see the design in the platform"
   ]
  },
  {
   "cell_type": "code",
   "execution_count": 10,
   "id": "serial-promise",
   "metadata": {},
   "outputs": [
    {
     "data": {
      "text/html": [
       "<a href=\"https://platform.teselagen.com/design/client/designs/48291730-77d4-488c-9b1a-6286f5df26fa\" target=\"_blank\" rel=\"noopener noreferrer\">https://platform.teselagen.com/design/client/designs/48291730-77d4-488c-9b1a-6286f5df26fa</a>"
      ],
      "text/plain": [
       "<IPython.core.display.HTML object>"
      ]
     },
     "metadata": {},
     "output_type": "display_data"
    }
   ],
   "source": [
    "design_url = f\"{client.host_url}/design/client/designs/{design_info['id']}\"\n",
    "display(HTML(f\"\"\"<a href=\"{design_url}\" target=\"_blank\" rel=\"noopener noreferrer\">{design_url}</a>\"\"\"))"
   ]
  },
  {
   "cell_type": "code",
   "execution_count": 11,
   "id": "loving-africa",
   "metadata": {},
   "outputs": [],
   "source": [
    "# Then download design:\n",
    "design = client.design.get_design(design_info['id'])"
   ]
  },
  {
   "cell_type": "markdown",
   "id": "least-fisher",
   "metadata": {},
   "source": [
    "You can use the output of the next cell to explore the design object"
   ]
  },
  {
   "cell_type": "code",
   "execution_count": 12,
   "id": "worth-marketplace",
   "metadata": {},
   "outputs": [
    {
     "data": {
      "text/html": [
       "\n",
       "            <div id=\"10d07371-4668-4059-849b-c50514749025\" style=\"height: max-content; width:100%;background-color: #f2f3ff\";></div>\n",
       "            "
      ]
     },
     "metadata": {},
     "output_type": "display_data"
    },
    {
     "data": {
      "application/javascript": [
       "\n",
       "            require([\"https://rawgit.com/caldwell/renderjson/master/renderjson.js\"], function() {\n",
       "            document.getElementById('10d07371-4668-4059-849b-c50514749025').appendChild(renderjson({\"design\": {\"aminoAcidPart\": {}, \"aminoAcidSequence\": {}, \"assemblyMethod\": {\"ce567696-710c-4032-ad68-a6e34c03bb35\": {\"id\": \"ce567696-710c-4032-ad68-a6e34c03bb35\", \"name\": \"Golden Gate\"}}, \"bin\": {\"f649dae2-653b-4af0-b360-607b57febc37\": {\"id\": \"f649dae2-653b-4af0-b360-607b57febc37\", \"direction\": true, \"extra3PrimeBps\": null, \"extra5PrimeBps\": null, \"fro\": null, \"invalidityMessage\": \"\", \"isLocked\": null, \"isPlaceholder\": null, \"name\": \"vector_backbone\", \"iconId\": \"bb199a20-d643-4589-8128-e28fa56c6ba6\"}, \"f2ea59a2-9d95-49ca-a5b1-3881e8c042c6\": {\"id\": \"f2ea59a2-9d95-49ca-a5b1-3881e8c042c6\", \"direction\": true, \"extra3PrimeBps\": null, \"extra5PrimeBps\": null, \"fro\": null, \"invalidityMessage\": \"\", \"isLocked\": null, \"isPlaceholder\": null, \"name\": \"nterm_sig_pep\", \"iconId\": \"0b271915-9a74-4cdd-aef0-7673a287dce5\"}, \"efdd0cb6-b43a-41b9-9f73-24db4e20c018\": {\"id\": \"efdd0cb6-b43a-41b9-9f73-24db4e20c018\", \"direction\": true, \"extra3PrimeBps\": null, \"extra5PrimeBps\": null, \"fro\": null, \"invalidityMessage\": \"\", \"isLocked\": null, \"isPlaceholder\": null, \"name\": \"gly_ser_linker\", \"iconId\": \"0b271915-9a74-4cdd-aef0-7673a287dce5\"}, \"b04f9a74-e75e-422f-b2b9-ea2269169367\": {\"id\": \"b04f9a74-e75e-422f-b2b9-ea2269169367\", \"direction\": true, \"extra3PrimeBps\": null, \"extra5PrimeBps\": null, \"fro\": null, \"invalidityMessage\": \"\", \"isLocked\": null, \"isPlaceholder\": null, \"name\": \"GFPuv\", \"iconId\": \"0b271915-9a74-4cdd-aef0-7673a287dce5\"}, \"02dbd81b-7cb2-4029-abb6-69c39f737baa\": {\"id\": \"02dbd81b-7cb2-4029-abb6-69c39f737baa\", \"direction\": true, \"extra3PrimeBps\": null, \"extra5PrimeBps\": null, \"fro\": null, \"invalidityMessage\": \"\", \"isLocked\": null, \"isPlaceholder\": null, \"name\": \"ssrA_tag_5prime\", \"iconId\": \"362c1d67-45b6-482e-9859-6ab07e2b5a61\"}, \"b009a328-d618-425c-ab4c-626869329c84\": {\"id\": \"b009a328-d618-425c-ab4c-626869329c84\", \"direction\": true, \"extra3PrimeBps\": null, \"extra5PrimeBps\": null, \"fro\": null, \"invalidityMessage\": \"\", \"isLocked\": null, \"isPlaceholder\": null, \"name\": \"ssrA_tag_3prime\", \"iconId\": \"362c1d67-45b6-482e-9859-6ab07e2b5a61\"}}, \"binCard\": {\"9251f23c-a72e-4ec3-b463-a3b55db96910\": {\"id\": \"9251f23c-a72e-4ec3-b463-a3b55db96910\", \"index\": 0, \"rightJunctionBps\": null, \"hasSpecifiedJunction\": null, \"cardId\": \"9df9ea63-bdee-443f-a44d-712ff746d724\", \"binId\": \"f649dae2-653b-4af0-b360-607b57febc37\"}, \"9cc642ad-11e1-43fa-bb55-73857b361478\": {\"id\": \"9cc642ad-11e1-43fa-bb55-73857b361478\", \"index\": 0, \"rightJunctionBps\": null, \"hasSpecifiedJunction\": null, \"cardId\": \"2abeec37-5dd8-4f63-b9b7-47d2e8681989\", \"binId\": \"f2ea59a2-9d95-49ca-a5b1-3881e8c042c6\"}, \"e42ee3de-e52d-4b69-ab40-49b487fce4c3\": {\"id\": \"e42ee3de-e52d-4b69-ab40-49b487fce4c3\", \"index\": 0, \"rightJunctionBps\": null, \"hasSpecifiedJunction\": null, \"cardId\": \"1da74662-3a21-425d-81c5-d3475a1af70f\", \"binId\": \"efdd0cb6-b43a-41b9-9f73-24db4e20c018\"}, \"84762141-6f7b-47cd-a1aa-c84a1b74ecac\": {\"id\": \"84762141-6f7b-47cd-a1aa-c84a1b74ecac\", \"index\": 0, \"rightJunctionBps\": null, \"hasSpecifiedJunction\": null, \"cardId\": \"bd11bb1d-9445-4bca-b7b3-35cad1059905\", \"binId\": \"b04f9a74-e75e-422f-b2b9-ea2269169367\"}, \"ce6549d2-76cd-4a51-96c7-6ce3e62b1284\": {\"id\": \"ce6549d2-76cd-4a51-96c7-6ce3e62b1284\", \"index\": 0, \"rightJunctionBps\": null, \"hasSpecifiedJunction\": null, \"cardId\": \"89d34825-8212-4d73-ada1-4ccd7b547102\", \"binId\": \"02dbd81b-7cb2-4029-abb6-69c39f737baa\"}, \"6069a3f1-f9c1-478e-baaf-1c00db2ed027\": {\"id\": \"6069a3f1-f9c1-478e-baaf-1c00db2ed027\", \"index\": 0, \"rightJunctionBps\": null, \"hasSpecifiedJunction\": null, \"cardId\": \"992a1882-4a0c-4b06-a429-ae0d3a404962\", \"binId\": \"b009a328-d618-425c-ab4c-626869329c84\"}, \"9f3ed791-e2f4-432f-af83-55c235e95a40\": {\"id\": \"9f3ed791-e2f4-432f-af83-55c235e95a40\", \"index\": 0, \"rightJunctionBps\": null, \"hasSpecifiedJunction\": null, \"cardId\": \"8c99de98-484f-41c9-9a74-1230de520066\", \"binId\": \"f649dae2-653b-4af0-b360-607b57febc37\"}, \"bc3a1140-de55-42c9-b2d5-afcb6927b798\": {\"id\": \"bc3a1140-de55-42c9-b2d5-afcb6927b798\", \"index\": 1, \"rightJunctionBps\": null, \"hasSpecifiedJunction\": null, \"cardId\": \"8c99de98-484f-41c9-9a74-1230de520066\", \"binId\": \"f2ea59a2-9d95-49ca-a5b1-3881e8c042c6\"}, \"5cebfe6c-798b-4780-8aee-2d23b5861ab7\": {\"id\": \"5cebfe6c-798b-4780-8aee-2d23b5861ab7\", \"index\": 2, \"rightJunctionBps\": null, \"hasSpecifiedJunction\": null, \"cardId\": \"8c99de98-484f-41c9-9a74-1230de520066\", \"binId\": \"efdd0cb6-b43a-41b9-9f73-24db4e20c018\"}, \"6745b6aa-2b16-4862-90ff-f322b7b9ca56\": {\"id\": \"6745b6aa-2b16-4862-90ff-f322b7b9ca56\", \"index\": 3, \"rightJunctionBps\": null, \"hasSpecifiedJunction\": null, \"cardId\": \"8c99de98-484f-41c9-9a74-1230de520066\", \"binId\": \"b04f9a74-e75e-422f-b2b9-ea2269169367\"}, \"346b28e3-a98f-4986-b85d-5cd6cd3a90f1\": {\"id\": \"346b28e3-a98f-4986-b85d-5cd6cd3a90f1\", \"index\": 4, \"rightJunctionBps\": null, \"hasSpecifiedJunction\": null, \"cardId\": \"8c99de98-484f-41c9-9a74-1230de520066\", \"binId\": \"02dbd81b-7cb2-4029-abb6-69c39f737baa\"}, \"fe1d97c1-a96c-4a2d-810e-dd3256207dfd\": {\"id\": \"fe1d97c1-a96c-4a2d-810e-dd3256207dfd\", \"index\": 5, \"rightJunctionBps\": null, \"hasSpecifiedJunction\": null, \"cardId\": \"8c99de98-484f-41c9-9a74-1230de520066\", \"binId\": \"b009a328-d618-425c-ab4c-626869329c84\"}}, \"binRuleSet\": {}, \"card\": {\"8c99de98-484f-41c9-9a74-1230de520066\": {\"id\": \"8c99de98-484f-41c9-9a74-1230de520066\", \"isRoot\": true, \"circular\": true, \"name\": \"\", \"inputIndex\": null, \"dsf\": null, \"hasAvailabilityInfo\": null, \"allConstructsAvailable\": null, \"lastCheckedAvailability\": null, \"inputReactionId\": null, \"outputReactionId\": \"8ef39380-d69e-466a-90b2-21508310a029\"}, \"9df9ea63-bdee-443f-a44d-712ff746d724\": {\"id\": \"9df9ea63-bdee-443f-a44d-712ff746d724\", \"isRoot\": null, \"circular\": false, \"name\": null, \"inputIndex\": 0, \"dsf\": null, \"hasAvailabilityInfo\": null, \"allConstructsAvailable\": null, \"lastCheckedAvailability\": null, \"inputReactionId\": \"8ef39380-d69e-466a-90b2-21508310a029\", \"outputReactionId\": null}, \"2abeec37-5dd8-4f63-b9b7-47d2e8681989\": {\"id\": \"2abeec37-5dd8-4f63-b9b7-47d2e8681989\", \"isRoot\": null, \"circular\": false, \"name\": null, \"inputIndex\": 1, \"dsf\": true, \"hasAvailabilityInfo\": null, \"allConstructsAvailable\": null, \"lastCheckedAvailability\": null, \"inputReactionId\": \"8ef39380-d69e-466a-90b2-21508310a029\", \"outputReactionId\": null}, \"1da74662-3a21-425d-81c5-d3475a1af70f\": {\"id\": \"1da74662-3a21-425d-81c5-d3475a1af70f\", \"isRoot\": null, \"circular\": false, \"name\": null, \"inputIndex\": 2, \"dsf\": null, \"hasAvailabilityInfo\": null, \"allConstructsAvailable\": null, \"lastCheckedAvailability\": null, \"inputReactionId\": \"8ef39380-d69e-466a-90b2-21508310a029\", \"outputReactionId\": null}, \"bd11bb1d-9445-4bca-b7b3-35cad1059905\": {\"id\": \"bd11bb1d-9445-4bca-b7b3-35cad1059905\", \"isRoot\": null, \"circular\": false, \"name\": null, \"inputIndex\": 3, \"dsf\": null, \"hasAvailabilityInfo\": null, \"allConstructsAvailable\": null, \"lastCheckedAvailability\": null, \"inputReactionId\": \"8ef39380-d69e-466a-90b2-21508310a029\", \"outputReactionId\": null}, \"89d34825-8212-4d73-ada1-4ccd7b547102\": {\"id\": \"89d34825-8212-4d73-ada1-4ccd7b547102\", \"isRoot\": null, \"circular\": false, \"name\": null, \"inputIndex\": 4, \"dsf\": true, \"hasAvailabilityInfo\": null, \"allConstructsAvailable\": null, \"lastCheckedAvailability\": null, \"inputReactionId\": \"8ef39380-d69e-466a-90b2-21508310a029\", \"outputReactionId\": null}, \"992a1882-4a0c-4b06-a429-ae0d3a404962\": {\"id\": \"992a1882-4a0c-4b06-a429-ae0d3a404962\", \"isRoot\": null, \"circular\": false, \"name\": null, \"inputIndex\": 5, \"dsf\": null, \"hasAvailabilityInfo\": null, \"allConstructsAvailable\": null, \"lastCheckedAvailability\": null, \"inputReactionId\": \"8ef39380-d69e-466a-90b2-21508310a029\", \"outputReactionId\": null}}, \"constructAnnotation\": {}, \"customJ5Parameter\": {\"59164668-b582-4710-bb0d-78e0a7fd1f87\": {\"id\": \"59164668-b582-4710-bb0d-78e0a7fd1f87\", \"cid\": \"default\", \"name\": \"Default\", \"isLocalToThisDesignId\": null, \"dirSynthCostPerBp\": 0.39, \"dirSynthMinCostPerPiece\": 159, \"ggateOverhangBps\": 4, \"ggateRecognitionSeq\": \"GGTCTC\", \"ggateTerminiExtraSeq\": \"CACACCAGGTCTCA\", \"ggateTerminiExtraSeqAlt\": null, \"gibsonOverlapBps\": 26, \"gibsonOverlapMaxTm\": 70, \"gibsonOverlapMinTm\": 60, \"hmlgyMaxFractionMismatches\": 0.05, \"hmlgyMinLengthBps\": 26, \"includeLineageFeatures\": null, \"masterOligoNumOfDigits\": 5, \"masterPlasmidNumOfDigits\": 5, \"maxIdsGgateOverhangsCmptbl\": 2, \"maxOligoLengthBps\": 110, \"minDnaSynthLengthBps\": null, \"maxDnaSynthLengthBps\": null, \"minFragmentSizeGibsonBps\": 250, \"minPcrProductBps\": 100, \"mispriming3PBpToWarnIfHit\": 4, \"misprimingMinTm\": 45, \"misprimingOligoConc\": 2.5e-07, \"misprimingSaltConc\": 0.05, \"oligoMaxLenNoPagePurBps\": 60, \"oligoPagePurCostPerPiece\": 40, \"oligoSynthesisCostPerBp\": 0.1, \"outputSeqFormat\": \"Genbank\", \"primerDnaConc\": 250, \"primerGcClamp\": 2, \"primerMaxDiffTm\": 5, \"primerMaxSelfAnyTh\": 47, \"primerMaxSelfEndTh\": 47, \"primerMaxSize\": 36, \"primerMaxTm\": 70, \"primerMinSize\": 18, \"primerMinTm\": 60, \"primerPairMaxComplAnyTh\": 47, \"primerPairMaxComplEndTh\": 47, \"primerSaltCorrections\": 1, \"primerTmSantaLucia\": 1, \"suppressPrimerAnnotations\": false, \"suppressPurePrimers\": true, \"gatewayAttSites\": \"[{\\\"L\\\":{\\\"name\\\":\\\"L1\\\",\\\"sequence\\\":\\\"AAATAATGATTTTATTTTGMCTGATAGTGACCTGTTCGTTGCAACAMATTGATRAGCAATKMTTTYTTATAATGCCAASTTTGTACAAAAAAGYWG\\\",\\\"overhangStart\\\":82,\\\"overhangLength\\\":7,\\\"isBSide5Prime\\\":0},\\\"R\\\":{\\\"name\\\":\\\"R1\\\",\\\"sequence\\\":\\\"CAASTTTGTACAAAAAAGYWGAACGAGAAACGTAAAATGATATAAATATCAATATATTAAATTAGATTTTGCATAAAAAACAGACTACATAATRCTGTAAAACACAACATATSCAGTCMYWWKG\\\",\\\"overhangStart\\\":7,\\\"overhangLength\\\":7,\\\"isBSide5Prime\\\":1}},{\\\"L\\\":{\\\"name\\\":\\\"L2\\\",\\\"sequence\\\":\\\"CARCTTTCTTGTACAAAGTKGGCATTATAARAAAKMATTGCTYATCAATKTGTTGCAACGAACAGGTCACTATCAGKCAAAATAAAATCATTATTT\\\",\\\"overhangStart\\\":7,\\\"overhangLength\\\":7,\\\"isBSide5Prime\\\":1},\\\"R\\\":{\\\"name\\\":\\\"R2\\\",\\\"sequence\\\":\\\"CMWWRKGACTGSATATGTTGTGTTTTACAGYATTATGTAGTCTGTTTTTTATGCAAAATCTAATTTAATATATTGATATTTATATCATTTTACGTTTCTCGTTCARCTTTCTTGTACAAAGTKG\\\",\\\"overhangStart\\\":110,\\\"overhangLength\\\":7,\\\"isBSide5Prime\\\":0}},{\\\"L\\\":{\\\"name\\\":\\\"L3\\\",\\\"sequence\\\":\\\"AAATAATGATTTTATTTTGMCTGATAGTGACCTGTTCGTTGCAACAMATTGATRAGCAATKMTTTTTTATAATGCCAACTWTGTATAATAAAGTTG\\\",\\\"overhangStart\\\":82,\\\"overhangLength\\\":7,\\\"isBSide5Prime\\\":0},\\\"R\\\":{\\\"name\\\":\\\"R3\\\",\\\"sequence\\\":\\\"CAACTWTGTATAATAAAGTTGAACGAGAAACGTAAAATGATATAAATATCAATATATTAAATTAGATTTTGCATAAAAAACAGACTACATAATRCTGTAAAACACAACATATSCAGTCMYWWKG\\\",\\\"overhangStart\\\":7,\\\"overhangLength\\\":7,\\\"isBSide5Prime\\\":1}},{\\\"L\\\":{\\\"name\\\":\\\"L4\\\",\\\"sequence\\\":\\\"CAACTTTTCTATACAAAGTTGGCATTATAARAAAKMATTGCTYATCAATKTGTTGCAACGAACAGGTCACTATCAGKCAAAATAAAATCATTATTT\\\",\\\"overhangStart\\\":7,\\\"overhangLength\\\":7,\\\"isBSide5Prime\\\":1},\\\"R\\\":{\\\"name\\\":\\\"R4\\\",\\\"sequence\\\":\\\"CMWWRKGACTGSATATGTTGTGTTTTACAGYATTATGTAGTCTGTTTTTTATGCAAAATCTAATTTAATATATTGATATTTATATCATTTTACGTTTCTCGTTCAACTTTTCTATACAAAGTTG\\\",\\\"overhangStart\\\":110,\\\"overhangLength\\\":7,\\\"isBSide5Prime\\\":0}},{\\\"L\\\":{\\\"name\\\":\\\"L5\\\",\\\"sequence\\\":\\\"AAATAATGATTTTATTTTGMCTGATAGTGACCTGTTCGTTGCAACAMATTGATRAGCAATKMTTTYTTATAATGCCAACTTTGTATACAAAAGTTG\\\",\\\"overhangStart\\\":82,\\\"overhangLength\\\":7,\\\"isBSide5Prime\\\":0},\\\"R\\\":{\\\"name\\\":\\\"R5\\\",\\\"sequence\\\":\\\"CAACTTTGTATACAAAAGTTGAACGAGAAACGTAAAATGATATAAATATCAATATATTAAATTAGATTTTGCATAAAAAACAGACTACATAATRCTGTAAAACACAACATATSCAGTCMYWWKG\\\",\\\"overhangStart\\\":7,\\\"overhangLength\\\":7,\\\"isBSide5Prime\\\":1}},{\\\"L\\\":{\\\"name\\\":\\\"L6\\\",\\\"sequence\\\":\\\"CAACTTTTTAATACAAAGTTGGCATTATAARAAAKMATTGCTYATCAATKTGTTGCAACGAACAGGTCACTATCAGKCAAAATAAAATCATTATTT\\\",\\\"overhangStart\\\":7,\\\"overhangLength\\\":7,\\\"isBSide5Prime\\\":1},\\\"R\\\":{\\\"name\\\":\\\"R6\\\",\\\"sequence\\\":\\\"CMWWRKGACTGSATATGTTGTGTTTTACAGYATTATGTAGTCTGTTTTTTATGCAAAATCTAATTTAATATATTGATATTTATATCATTTTACGTTTCTCGTTCAACTTTTTAATACAAAGTTG\\\",\\\"overhangStart\\\":110,\\\"overhangLength\\\":7,\\\"isBSide5Prime\\\":0}}]\"}}, \"design\": {\"48291730-77d4-488c-9b1a-6286f5df26fa\": {\"id\": \"48291730-77d4-488c-9b1a-6286f5df26fa\", \"userId\": \"e6a6ab48-b0b8-4aa0-981c-212a4445d02b\", \"labId\": \"bdf4be18-e899-446a-b424-fb0ed94eb06d\", \"name\": \"CGG Design demo notebook\", \"description\": \"\", \"type\": \"grand-design\", \"originalDesignId\": null, \"boundaryAnalysisType\": \"j5\", \"numPlaceholders\": null, \"layoutType\": \"combinatorial\", \"numRows\": 2, \"reuseOligos\": null}}, \"element\": {\"1a3521a4-d8a5-48a3-bf5b-4893f3a40482\": {\"id\": \"1a3521a4-d8a5-48a3-bf5b-4893f3a40482\", \"cid\": \"ubpPSiCSHq\", \"name\": \"pS8c-vector_backbone\", \"index\": 0, \"isLiteral\": null, \"isEmpty\": null, \"isAssemblyPiece\": null, \"apLeftDominant\": null, \"apRightDominant\": null, \"bps\": null, \"preferred3PrimeOverhangs\": \"\", \"preferred5PrimeOverhangs\": \"\", \"invalidityMessage\": null, \"warningMessage\": null, \"extraStartSequence\": null, \"extraEndSequence\": null, \"notes\": null, \"partId\": \"dfd2e736-5059-4c62-9cdf-3e7073948d3e\", \"aminoAcidPartId\": null, \"binId\": \"f649dae2-653b-4af0-b360-607b57febc37\", \"partsetId\": null}, \"ac0a5a31-38f5-4cff-92d0-8d386ceea8ae\": {\"id\": \"ac0a5a31-38f5-4cff-92d0-8d386ceea8ae\", \"cid\": \"Ow5sNlupJW\", \"name\": \"BMC_nterm_sig_pep\", \"index\": 0, \"isLiteral\": null, \"isEmpty\": null, \"isAssemblyPiece\": null, \"apLeftDominant\": null, \"apRightDominant\": null, \"bps\": null, \"preferred3PrimeOverhangs\": \"\", \"preferred5PrimeOverhangs\": \"\", \"invalidityMessage\": null, \"warningMessage\": null, \"extraStartSequence\": null, \"extraEndSequence\": null, \"notes\": null, \"partId\": \"c9a2f087-8b20-4524-98a3-bf9acdc6e706\", \"aminoAcidPartId\": null, \"binId\": \"f2ea59a2-9d95-49ca-a5b1-3881e8c042c6\", \"partsetId\": null}, \"96ddf07f-a077-41fb-b727-72d73e515528\": {\"id\": \"96ddf07f-a077-41fb-b727-72d73e515528\", \"cid\": \"99z7df3Tk9\", \"name\": \"ccmN_nterm_sig_pep\", \"index\": 1, \"isLiteral\": null, \"isEmpty\": null, \"isAssemblyPiece\": null, \"apLeftDominant\": null, \"apRightDominant\": null, \"bps\": null, \"preferred3PrimeOverhangs\": \"\", \"preferred5PrimeOverhangs\": \"\", \"invalidityMessage\": null, \"warningMessage\": null, \"extraStartSequence\": null, \"extraEndSequence\": null, \"notes\": null, \"partId\": \"60b5dc22-3b8c-41fe-a308-e15056285f56\", \"aminoAcidPartId\": null, \"binId\": \"f2ea59a2-9d95-49ca-a5b1-3881e8c042c6\", \"partsetId\": null}, \"14086e76-2aae-4c19-9dbc-8fe259ce3c90\": {\"id\": \"14086e76-2aae-4c19-9dbc-8fe259ce3c90\", \"cid\": \"4LBRUOvOXs\", \"name\": \"long_gly_ser_linker\", \"index\": 0, \"isLiteral\": null, \"isEmpty\": null, \"isAssemblyPiece\": null, \"apLeftDominant\": null, \"apRightDominant\": null, \"bps\": null, \"preferred3PrimeOverhangs\": \"\", \"preferred5PrimeOverhangs\": \"\", \"invalidityMessage\": null, \"warningMessage\": null, \"extraStartSequence\": null, \"extraEndSequence\": null, \"notes\": null, \"partId\": \"bf506f37-746b-4658-86b0-e9499c301704\", \"aminoAcidPartId\": null, \"binId\": \"efdd0cb6-b43a-41b9-9f73-24db4e20c018\", \"partsetId\": null}, \"7ffa0d02-0a5a-4261-b27a-0553a7661a41\": {\"id\": \"7ffa0d02-0a5a-4261-b27a-0553a7661a41\", \"cid\": \"UJOrDzylgj\", \"name\": \"short_gly_ser_linker\", \"index\": 1, \"isLiteral\": null, \"isEmpty\": null, \"isAssemblyPiece\": null, \"apLeftDominant\": null, \"apRightDominant\": null, \"bps\": null, \"preferred3PrimeOverhangs\": \"\", \"preferred5PrimeOverhangs\": \"\", \"invalidityMessage\": null, \"warningMessage\": null, \"extraStartSequence\": null, \"extraEndSequence\": null, \"notes\": null, \"partId\": \"c02a2cb3-a713-4f45-b20a-b1870f0a7eb4\", \"aminoAcidPartId\": null, \"binId\": \"efdd0cb6-b43a-41b9-9f73-24db4e20c018\", \"partsetId\": null}, \"63b37466-eff3-4d21-8f34-e8780a2dc779\": {\"id\": \"63b37466-eff3-4d21-8f34-e8780a2dc779\", \"cid\": \"hLQpuTFal8\", \"name\": \"GFPuv\", \"index\": 0, \"isLiteral\": null, \"isEmpty\": null, \"isAssemblyPiece\": null, \"apLeftDominant\": null, \"apRightDominant\": null, \"bps\": null, \"preferred3PrimeOverhangs\": \"\", \"preferred5PrimeOverhangs\": \"\", \"invalidityMessage\": null, \"warningMessage\": null, \"extraStartSequence\": null, \"extraEndSequence\": null, \"notes\": null, \"partId\": \"c7022bfd-5200-4d35-a65c-5d41f3a07078\", \"aminoAcidPartId\": null, \"binId\": \"b04f9a74-e75e-422f-b2b9-ea2269169367\", \"partsetId\": null}, \"b39df4c3-e584-4937-aa6e-257cde71dfd4\": {\"id\": \"b39df4c3-e584-4937-aa6e-257cde71dfd4\", \"cid\": \"x2dH_nA9RR\", \"name\": \"ssrA_tag_enhanced_5prime\", \"index\": 1, \"isLiteral\": null, \"isEmpty\": null, \"isAssemblyPiece\": null, \"apLeftDominant\": null, \"apRightDominant\": null, \"bps\": null, \"preferred3PrimeOverhangs\": \"\", \"preferred5PrimeOverhangs\": \"\", \"invalidityMessage\": \"\", \"warningMessage\": null, \"extraStartSequence\": null, \"extraEndSequence\": null, \"notes\": null, \"partId\": \"9496eb78-38b6-4fa9-9e9f-8fb6e6373be7\", \"aminoAcidPartId\": null, \"binId\": \"02dbd81b-7cb2-4029-abb6-69c39f737baa\", \"partsetId\": null}, \"2214aaa7-049a-487a-a617-02ce11411599\": {\"id\": \"2214aaa7-049a-487a-a617-02ce11411599\", \"cid\": \"vPbiKAvdEo\", \"name\": \"ssrA_tag_5prime\", \"index\": 0, \"isLiteral\": null, \"isEmpty\": null, \"isAssemblyPiece\": null, \"apLeftDominant\": null, \"apRightDominant\": null, \"bps\": null, \"preferred3PrimeOverhangs\": \"\", \"preferred5PrimeOverhangs\": \"\", \"invalidityMessage\": \"\", \"warningMessage\": null, \"extraStartSequence\": null, \"extraEndSequence\": null, \"notes\": null, \"partId\": \"90882663-eb6c-45d1-adc7-9631aa216c7b\", \"aminoAcidPartId\": null, \"binId\": \"02dbd81b-7cb2-4029-abb6-69c39f737baa\", \"partsetId\": null}, \"c10fefea-9708-463b-b235-4bc26decd7ff\": {\"id\": \"c10fefea-9708-463b-b235-4bc26decd7ff\", \"cid\": \"VrzDsYzixi\", \"name\": \"ssrA_tag_3prime\", \"index\": 0, \"isLiteral\": null, \"isEmpty\": null, \"isAssemblyPiece\": null, \"apLeftDominant\": null, \"apRightDominant\": null, \"bps\": null, \"preferred3PrimeOverhangs\": \"\", \"preferred5PrimeOverhangs\": \"\", \"invalidityMessage\": \"\", \"warningMessage\": null, \"extraStartSequence\": null, \"extraEndSequence\": null, \"notes\": null, \"partId\": \"26dd26fc-9669-42f5-ac77-c87cfc71c87d\", \"aminoAcidPartId\": null, \"binId\": \"b009a328-d618-425c-ab4c-626869329c84\", \"partsetId\": null}}, \"elementCombo\": {}, \"elementElementCombo\": {}, \"elementGroupCombo\": {}, \"elementGroupElementGroupCombo\": {}, \"eugeneRule\": {}, \"eugeneRuleElement\": {}, \"fas\": {\"bae29cff-5dee-4a82-956c-796103108d67\": {\"id\": \"bae29cff-5dee-4a82-956c-796103108d67\", \"name\": \"Embed_in_primer_reverse\", \"elementId\": \"b39df4c3-e584-4937-aa6e-257cde71dfd4\", \"reactionId\": \"8ef39380-d69e-466a-90b2-21508310a029\"}, \"184ced3a-fd4a-4b5b-921d-69ac8ca480f9\": {\"id\": \"184ced3a-fd4a-4b5b-921d-69ac8ca480f9\", \"name\": \"Embed_in_primer_reverse\", \"elementId\": \"2214aaa7-049a-487a-a617-02ce11411599\", \"reactionId\": \"8ef39380-d69e-466a-90b2-21508310a029\"}, \"1d144853-c630-4575-9dd5-6e8c9dbcb428\": {\"id\": \"1d144853-c630-4575-9dd5-6e8c9dbcb428\", \"name\": \"Embed_in_primer_forward\", \"elementId\": \"c10fefea-9708-463b-b235-4bc26decd7ff\", \"reactionId\": \"8ef39380-d69e-466a-90b2-21508310a029\"}}, \"icon\": {\"bb199a20-d643-4589-8128-e28fa56c6ba6\": {\"id\": \"bb199a20-d643-4589-8128-e28fa56c6ba6\", \"isSbol\": true, \"name\": \"ORIGIN_OF_REPLICATION\", \"path\": \"M 25, 50  m -12, 0  a 12,12 0 1,0 24,0  a 12,12 0 1,0 -24,0\", \"cid\": \"ORIGIN_OF_REPLICATION\"}, \"0b271915-9a74-4cdd-aef0-7673a287dce5\": {\"id\": \"0b271915-9a74-4cdd-aef0-7673a287dce5\", \"isSbol\": true, \"name\": \"CDS\", \"path\": \"M 9 65 L 27 65 L 42 50 L 27 35 L 9 35 L 9 65 Z\", \"cid\": \"CDS\"}, \"362c1d67-45b6-482e-9859-6ab07e2b5a61\": {\"id\": \"362c1d67-45b6-482e-9859-6ab07e2b5a61\", \"isSbol\": true, \"name\": \"PROTEIN_STABILITY_ELEMENT\", \"path\": \"M 25 65 L 25 52 M 25, 40  m -7, 0  a 7,7 0 1,0 14,0  a 7,7 0 1,0 -14,0\", \"cid\": \"PROTEIN_STABILITY_ELEMENT\"}}, \"j5OutputNamingTemplate\": {}, \"junction\": {\"9e9026b8-8ac0-4b21-8f05-7f2b7c14dd24\": {\"id\": \"9e9026b8-8ac0-4b21-8f05-7f2b7c14dd24\", \"bps\": null, \"relativePosition\": null, \"isPhantom\": false, \"junctionTypeCode\": \"SCARLESS\", \"threePrimeCardOverhangTypeCode\": null, \"fivePrimeCardOverhangTypeCode\": null, \"fivePrimeCardFormsOverhang\": null, \"restrictionEnzymeId\": null, \"reactionId\": \"8ef39380-d69e-466a-90b2-21508310a029\", \"fivePrimeCardId\": \"9df9ea63-bdee-443f-a44d-712ff746d724\", \"threePrimeCardId\": \"2abeec37-5dd8-4f63-b9b7-47d2e8681989\", \"fivePrimeCardEndBinId\": \"f649dae2-653b-4af0-b360-607b57febc37\", \"threePrimeCardStartBinId\": \"f2ea59a2-9d95-49ca-a5b1-3881e8c042c6\", \"fivePrimeCardInteriorBinId\": \"f649dae2-653b-4af0-b360-607b57febc37\", \"threePrimeCardInteriorBinId\": \"f2ea59a2-9d95-49ca-a5b1-3881e8c042c6\"}, \"37d48e8f-7db6-493f-9e25-e71d3c5d6ecb\": {\"id\": \"37d48e8f-7db6-493f-9e25-e71d3c5d6ecb\", \"bps\": null, \"relativePosition\": null, \"isPhantom\": false, \"junctionTypeCode\": \"SCARLESS\", \"threePrimeCardOverhangTypeCode\": null, \"fivePrimeCardOverhangTypeCode\": null, \"fivePrimeCardFormsOverhang\": null, \"restrictionEnzymeId\": null, \"reactionId\": \"8ef39380-d69e-466a-90b2-21508310a029\", \"fivePrimeCardId\": \"2abeec37-5dd8-4f63-b9b7-47d2e8681989\", \"threePrimeCardId\": \"1da74662-3a21-425d-81c5-d3475a1af70f\", \"fivePrimeCardEndBinId\": \"f2ea59a2-9d95-49ca-a5b1-3881e8c042c6\", \"threePrimeCardStartBinId\": \"efdd0cb6-b43a-41b9-9f73-24db4e20c018\", \"fivePrimeCardInteriorBinId\": \"f2ea59a2-9d95-49ca-a5b1-3881e8c042c6\", \"threePrimeCardInteriorBinId\": \"efdd0cb6-b43a-41b9-9f73-24db4e20c018\"}, \"27467482-e09a-424d-9c4f-c877d57f28e8\": {\"id\": \"27467482-e09a-424d-9c4f-c877d57f28e8\", \"bps\": null, \"relativePosition\": null, \"isPhantom\": false, \"junctionTypeCode\": \"SCARLESS\", \"threePrimeCardOverhangTypeCode\": null, \"fivePrimeCardOverhangTypeCode\": null, \"fivePrimeCardFormsOverhang\": null, \"restrictionEnzymeId\": null, \"reactionId\": \"8ef39380-d69e-466a-90b2-21508310a029\", \"fivePrimeCardId\": \"1da74662-3a21-425d-81c5-d3475a1af70f\", \"threePrimeCardId\": \"bd11bb1d-9445-4bca-b7b3-35cad1059905\", \"fivePrimeCardEndBinId\": \"efdd0cb6-b43a-41b9-9f73-24db4e20c018\", \"threePrimeCardStartBinId\": \"b04f9a74-e75e-422f-b2b9-ea2269169367\", \"fivePrimeCardInteriorBinId\": \"efdd0cb6-b43a-41b9-9f73-24db4e20c018\", \"threePrimeCardInteriorBinId\": \"b04f9a74-e75e-422f-b2b9-ea2269169367\"}, \"637ba499-26ac-4c9a-9af2-5cb15072904f\": {\"id\": \"637ba499-26ac-4c9a-9af2-5cb15072904f\", \"bps\": null, \"relativePosition\": null, \"isPhantom\": false, \"junctionTypeCode\": \"SCARLESS\", \"threePrimeCardOverhangTypeCode\": null, \"fivePrimeCardOverhangTypeCode\": null, \"fivePrimeCardFormsOverhang\": null, \"restrictionEnzymeId\": null, \"reactionId\": \"8ef39380-d69e-466a-90b2-21508310a029\", \"fivePrimeCardId\": \"bd11bb1d-9445-4bca-b7b3-35cad1059905\", \"threePrimeCardId\": \"89d34825-8212-4d73-ada1-4ccd7b547102\", \"fivePrimeCardEndBinId\": \"b04f9a74-e75e-422f-b2b9-ea2269169367\", \"threePrimeCardStartBinId\": \"02dbd81b-7cb2-4029-abb6-69c39f737baa\", \"fivePrimeCardInteriorBinId\": \"b04f9a74-e75e-422f-b2b9-ea2269169367\", \"threePrimeCardInteriorBinId\": \"02dbd81b-7cb2-4029-abb6-69c39f737baa\"}, \"029ff0f9-615e-480b-9f6f-d6d919bc0182\": {\"id\": \"029ff0f9-615e-480b-9f6f-d6d919bc0182\", \"bps\": null, \"relativePosition\": null, \"isPhantom\": false, \"junctionTypeCode\": \"SCARLESS\", \"threePrimeCardOverhangTypeCode\": null, \"fivePrimeCardOverhangTypeCode\": null, \"fivePrimeCardFormsOverhang\": null, \"restrictionEnzymeId\": null, \"reactionId\": \"8ef39380-d69e-466a-90b2-21508310a029\", \"fivePrimeCardId\": \"89d34825-8212-4d73-ada1-4ccd7b547102\", \"threePrimeCardId\": \"992a1882-4a0c-4b06-a429-ae0d3a404962\", \"fivePrimeCardEndBinId\": \"02dbd81b-7cb2-4029-abb6-69c39f737baa\", \"threePrimeCardStartBinId\": \"b009a328-d618-425c-ab4c-626869329c84\", \"fivePrimeCardInteriorBinId\": \"02dbd81b-7cb2-4029-abb6-69c39f737baa\", \"threePrimeCardInteriorBinId\": \"b009a328-d618-425c-ab4c-626869329c84\"}, \"0e1402cc-01d5-4e26-a5f5-2bccc1d60cd4\": {\"id\": \"0e1402cc-01d5-4e26-a5f5-2bccc1d60cd4\", \"bps\": null, \"relativePosition\": null, \"isPhantom\": false, \"junctionTypeCode\": \"SCARLESS\", \"threePrimeCardOverhangTypeCode\": null, \"fivePrimeCardOverhangTypeCode\": null, \"fivePrimeCardFormsOverhang\": null, \"restrictionEnzymeId\": null, \"reactionId\": \"8ef39380-d69e-466a-90b2-21508310a029\", \"fivePrimeCardId\": \"992a1882-4a0c-4b06-a429-ae0d3a404962\", \"threePrimeCardId\": \"9df9ea63-bdee-443f-a44d-712ff746d724\", \"fivePrimeCardEndBinId\": \"b009a328-d618-425c-ab4c-626869329c84\", \"threePrimeCardStartBinId\": \"f649dae2-653b-4af0-b360-607b57febc37\", \"fivePrimeCardInteriorBinId\": \"b009a328-d618-425c-ab4c-626869329c84\", \"threePrimeCardInteriorBinId\": \"f649dae2-653b-4af0-b360-607b57febc37\"}}, \"part\": {\"dfd2e736-5059-4c62-9cdf-3e7073948d3e\": {\"id\": \"dfd2e736-5059-4c62-9cdf-3e7073948d3e\", \"name\": \"pS8c-vector_backbone\", \"start\": 2015, \"strand\": 1, \"preferred3PrimeOverhangs\": \"\", \"preferred5PrimeOverhangs\": \"\", \"end\": 1237, \"sequenceId\": \"bc377e90-bba8-4d6c-b15d-c2a124fbcc76\"}, \"c9a2f087-8b20-4524-98a3-bf9acdc6e706\": {\"id\": \"c9a2f087-8b20-4524-98a3-bf9acdc6e706\", \"name\": \"BMC_nterm_sig_pep\", \"start\": 3, \"strand\": 1, \"preferred3PrimeOverhangs\": \"\", \"preferred5PrimeOverhangs\": \"\", \"end\": 53, \"sequenceId\": \"f83612aa-6379-40e0-80ba-4485d3c7d11f\"}, \"60b5dc22-3b8c-41fe-a308-e15056285f56\": {\"id\": \"60b5dc22-3b8c-41fe-a308-e15056285f56\", \"name\": \"ccmN_nterm_sig_pep\", \"start\": 3, \"strand\": 1, \"preferred3PrimeOverhangs\": \"\", \"preferred5PrimeOverhangs\": \"\", \"end\": 59, \"sequenceId\": \"500f8cd9-f56e-48a2-bac7-d73756034fdc\"}, \"bf506f37-746b-4658-86b0-e9499c301704\": {\"id\": \"bf506f37-746b-4658-86b0-e9499c301704\", \"name\": \"long_gly_ser_linker\", \"start\": 54, \"strand\": 1, \"preferred3PrimeOverhangs\": \"\", \"preferred5PrimeOverhangs\": \"\", \"end\": 101, \"sequenceId\": \"f83612aa-6379-40e0-80ba-4485d3c7d11f\"}, \"c02a2cb3-a713-4f45-b20a-b1870f0a7eb4\": {\"id\": \"c02a2cb3-a713-4f45-b20a-b1870f0a7eb4\", \"name\": \"short_gly_ser_linker\", \"start\": 54, \"strand\": 1, \"preferred3PrimeOverhangs\": \"\", \"preferred5PrimeOverhangs\": \"\", \"end\": 77, \"sequenceId\": \"f83612aa-6379-40e0-80ba-4485d3c7d11f\"}, \"c7022bfd-5200-4d35-a65c-5d41f3a07078\": {\"id\": \"c7022bfd-5200-4d35-a65c-5d41f3a07078\", \"name\": \"GFPuv\", \"start\": 1241, \"strand\": 1, \"preferred3PrimeOverhangs\": \"\", \"preferred5PrimeOverhangs\": \"\", \"end\": 1951, \"sequenceId\": \"bc377e90-bba8-4d6c-b15d-c2a124fbcc76\"}, \"9496eb78-38b6-4fa9-9e9f-8fb6e6373be7\": {\"id\": \"9496eb78-38b6-4fa9-9e9f-8fb6e6373be7\", \"name\": \"ssrA_tag_enhanced_5prime\", \"start\": 0, \"strand\": 1, \"preferred3PrimeOverhangs\": \"\", \"preferred5PrimeOverhangs\": \"\", \"end\": 20, \"sequenceId\": \"47bef17a-5932-4055-b7b3-bedf52d90dee\"}, \"90882663-eb6c-45d1-adc7-9631aa216c7b\": {\"id\": \"90882663-eb6c-45d1-adc7-9631aa216c7b\", \"name\": \"ssrA_tag_5prime\", \"start\": 0, \"strand\": 1, \"preferred3PrimeOverhangs\": \"\", \"preferred5PrimeOverhangs\": \"\", \"end\": 14, \"sequenceId\": \"b1153e95-d4e6-43be-9c6d-afdb665e0392\"}, \"26dd26fc-9669-42f5-ac77-c87cfc71c87d\": {\"id\": \"26dd26fc-9669-42f5-ac77-c87cfc71c87d\", \"name\": \"ssrA_tag_3prime\", \"start\": 15, \"strand\": 1, \"preferred3PrimeOverhangs\": \"\", \"preferred5PrimeOverhangs\": \"\", \"end\": 32, \"sequenceId\": \"b1153e95-d4e6-43be-9c6d-afdb665e0392\"}}, \"taggedItem\": {\"af58dcc0-156c-4b4e-8671-dce85769d197\": {\"partId\": \"dfd2e736-5059-4c62-9cdf-3e7073948d3e\", \"id\": \"af58dcc0-156c-4b4e-8671-dce85769d197\", \"tagId\": \"fdcd0a58-e614-49e5-a688-9ec0ec4ec088\"}, \"1e036a0f-8dcd-48c1-8428-7445c50ab5d2\": {\"partId\": \"dfd2e736-5059-4c62-9cdf-3e7073948d3e\", \"id\": \"1e036a0f-8dcd-48c1-8428-7445c50ab5d2\", \"tagId\": \"383daad8-4f9a-4f36-bdb2-0f7516aa8ae0\"}, \"99d5a38b-7dc0-436a-8fbb-4e38fc5c09e2\": {\"partId\": \"dfd2e736-5059-4c62-9cdf-3e7073948d3e\", \"id\": \"99d5a38b-7dc0-436a-8fbb-4e38fc5c09e2\", \"tagId\": \"c62db911-27f6-432d-ad97-99cfb5b90ca3\"}, \"814dd917-58e1-4a0f-bfcb-8a514245b63a\": {\"partId\": \"dfd2e736-5059-4c62-9cdf-3e7073948d3e\", \"id\": \"814dd917-58e1-4a0f-bfcb-8a514245b63a\", \"tagId\": \"795bf4ea-1747-4a8b-8e8e-2996a6aac556\"}, \"28e6f414-7dc2-4d09-8a52-49afcfad3f7a\": {\"partId\": \"dfd2e736-5059-4c62-9cdf-3e7073948d3e\", \"id\": \"28e6f414-7dc2-4d09-8a52-49afcfad3f7a\", \"tagId\": \"b243e60c-3a7c-4dcd-a2f8-d9d775271858\"}, \"ad265e59-690c-4b39-aae2-0c5297c4785f\": {\"partId\": \"dfd2e736-5059-4c62-9cdf-3e7073948d3e\", \"id\": \"ad265e59-690c-4b39-aae2-0c5297c4785f\", \"tagId\": \"e71eb441-c96e-4c0a-a55d-47e92b017b8b\"}}, \"partset\": {}, \"partsetPart\": {}, \"reaction\": {\"8ef39380-d69e-466a-90b2-21508310a029\": {\"id\": \"8ef39380-d69e-466a-90b2-21508310a029\", \"name\": \"Golden Gate\", \"assemblyMethodId\": \"ce567696-710c-4032-ad68-a6e34c03bb35\", \"customJ5ParameterId\": \"59164668-b582-4710-bb0d-78e0a7fd1f87\", \"restrictionEnzymeId\": null}}, \"reactionJ5OutputNamingTemplate\": {}, \"restrictionEnzyme\": {}, \"rule\": {}, \"ruleSet\": {}, \"sequence\": {\"bc377e90-bba8-4d6c-b15d-c2a124fbcc76\": {\"id\": \"bc377e90-bba8-4d6c-b15d-c2a124fbcc76\", \"name\": \"pj5_00001\", \"description\": \"\", \"circular\": true, \"sequence\": null, \"size\": 5299}, \"f83612aa-6379-40e0-80ba-4485d3c7d11f\": {\"id\": \"f83612aa-6379-40e0-80ba-4485d3c7d11f\", \"name\": \"BMC_nterm_sig_pe\", \"description\": \"\", \"circular\": false, \"sequence\": null, \"size\": 102}, \"500f8cd9-f56e-48a2-bac7-d73756034fdc\": {\"id\": \"500f8cd9-f56e-48a2-bac7-d73756034fdc\", \"name\": \"ccmN_nterm_sig_p\", \"description\": \"\", \"circular\": false, \"sequence\": null, \"size\": 108}, \"47bef17a-5932-4055-b7b3-bedf52d90dee\": {\"id\": \"47bef17a-5932-4055-b7b3-bedf52d90dee\", \"name\": \"ssrA_tag_enhance\", \"description\": \"\", \"circular\": false, \"sequence\": null, \"size\": 39}, \"b1153e95-d4e6-43be-9c6d-afdb665e0392\": {\"id\": \"b1153e95-d4e6-43be-9c6d-afdb665e0392\", \"name\": \"ssrA_tag_GFPuv\", \"description\": \"\", \"circular\": false, \"sequence\": null, \"size\": 33}}, \"designMaterialAvailabilityView\": {}, \"sequenceFeature\": {\"24c99c60-9cd3-474b-830b-1b2712cc9ef9\": {\"sequenceId\": \"bc377e90-bba8-4d6c-b15d-c2a124fbcc76\", \"id\": \"24c99c60-9cd3-474b-830b-1b2712cc9ef9\", \"name\": \"pSC101**\", \"start\": 2163, \"end\": 4391, \"strand\": -1, \"type\": \"rep_origin\"}, \"87242b95-fa68-4d7e-b8ee-62235943a43f\": {\"sequenceId\": \"bc377e90-bba8-4d6c-b15d-c2a124fbcc76\", \"id\": \"87242b95-fa68-4d7e-b8ee-62235943a43f\", \"name\": \"araC\", \"start\": 6, \"end\": 884, \"strand\": -1, \"type\": \"CDS\"}, \"ab4e6d28-6a76-463f-9b7d-80bcf049eafd\": {\"sequenceId\": \"bc377e90-bba8-4d6c-b15d-c2a124fbcc76\", \"id\": \"ab4e6d28-6a76-463f-9b7d-80bcf049eafd\", \"name\": \"GFPuv\", \"start\": 1235, \"end\": 2017, \"strand\": 1, \"type\": \"CDS\"}, \"04123db8-0613-44ab-a9f5-e6bac99b049a\": {\"sequenceId\": \"bc377e90-bba8-4d6c-b15d-c2a124fbcc76\", \"id\": \"04123db8-0613-44ab-a9f5-e6bac99b049a\", \"name\": \"RBS\", \"start\": 1215, \"end\": 1234, \"strand\": 1, \"type\": \"RBS\"}, \"a4536e09-e65e-4cb7-a968-f9deb47665a4\": {\"sequenceId\": \"bc377e90-bba8-4d6c-b15d-c2a124fbcc76\", \"id\": \"a4536e09-e65e-4cb7-a968-f9deb47665a4\", \"name\": \"CmR\", \"start\": 4513, \"end\": 5172, \"strand\": -1, \"type\": \"misc_marker\"}, \"fff3a9c8-15bd-443c-9a6f-641ecda2fad7\": {\"sequenceId\": \"bc377e90-bba8-4d6c-b15d-c2a124fbcc76\", \"id\": \"fff3a9c8-15bd-443c-9a6f-641ecda2fad7\", \"name\": \"signal_peptide\", \"start\": 1952, \"end\": 2014, \"strand\": 1, \"type\": \"CDS\"}, \"5150c252-e9c6-4ff7-a0ae-ff6c5eb66f64\": {\"sequenceId\": \"bc377e90-bba8-4d6c-b15d-c2a124fbcc76\", \"id\": \"5150c252-e9c6-4ff7-a0ae-ff6c5eb66f64\", \"name\": \"XhoI_silent_mutation\", \"start\": 1660, \"end\": 1660, \"strand\": 1, \"type\": \"misc_feature\"}, \"4c801542-5b2e-4eb3-b205-cabfb12036bf\": {\"sequenceId\": \"bc377e90-bba8-4d6c-b15d-c2a124fbcc76\", \"id\": \"4c801542-5b2e-4eb3-b205-cabfb12036bf\", \"name\": \"pBAD promoter\", \"start\": 1160, \"end\": 1187, \"strand\": 1, \"type\": \"promoter\"}, \"15273c69-fb59-4e62-9979-649ecd0872e0\": {\"sequenceId\": \"bc377e90-bba8-4d6c-b15d-c2a124fbcc76\", \"id\": \"15273c69-fb59-4e62-9979-649ecd0872e0\", \"name\": \"Operator I2 and I1\", \"start\": 1123, \"end\": 1161, \"strand\": 1, \"type\": \"protein_bind\"}, \"5d65f0dc-a62b-44fd-bb4e-7cfe93810bb4\": {\"sequenceId\": \"bc377e90-bba8-4d6c-b15d-c2a124fbcc76\", \"id\": \"5d65f0dc-a62b-44fd-bb4e-7cfe93810bb4\", \"name\": \"operator O1\", \"start\": 1071, \"end\": 1092, \"strand\": 1, \"type\": \"protein_bind\"}, \"325c9f5c-4bc0-4eb3-9524-e548e5aeb8db\": {\"sequenceId\": \"bc377e90-bba8-4d6c-b15d-c2a124fbcc76\", \"id\": \"325c9f5c-4bc0-4eb3-9524-e548e5aeb8db\", \"name\": \"T0\", \"start\": 4392, \"end\": 4497, \"strand\": 1, \"type\": \"terminator\"}, \"786b9314-cb01-48a5-82e1-18c38295bda7\": {\"sequenceId\": \"bc377e90-bba8-4d6c-b15d-c2a124fbcc76\", \"id\": \"786b9314-cb01-48a5-82e1-18c38295bda7\", \"name\": \"CAP site\", \"start\": 1114, \"end\": 1127, \"strand\": 1, \"type\": \"misc_binding\"}, \"c3f4e7d6-2a75-4a1b-a8c0-124ada534fe4\": {\"sequenceId\": \"bc377e90-bba8-4d6c-b15d-c2a124fbcc76\", \"id\": \"c3f4e7d6-2a75-4a1b-a8c0-124ada534fe4\", \"name\": \"araC promoter\", \"start\": 1035, \"end\": 1063, \"strand\": -1, \"type\": \"promoter\"}, \"cd745a65-bf3d-4b90-9c02-8fab68286423\": {\"sequenceId\": \"bc377e90-bba8-4d6c-b15d-c2a124fbcc76\", \"id\": \"cd745a65-bf3d-4b90-9c02-8fab68286423\", \"name\": \"dbl term\", \"start\": 2033, \"end\": 2161, \"strand\": 1, \"type\": \"terminator\"}, \"7c7c811a-e7e3-4a69-ab5c-9a877e1fe663\": {\"sequenceId\": \"bc377e90-bba8-4d6c-b15d-c2a124fbcc76\", \"id\": \"7c7c811a-e7e3-4a69-ab5c-9a877e1fe663\", \"name\": \"BamHI_silent_mutation\", \"start\": 1759, \"end\": 1759, \"strand\": 1, \"type\": \"misc_feature\"}, \"4cbb64bd-385a-4e57-af78-ece360a99c90\": {\"sequenceId\": \"bc377e90-bba8-4d6c-b15d-c2a124fbcc76\", \"id\": \"4cbb64bd-385a-4e57-af78-ece360a99c90\", \"name\": \"operator O2\", \"start\": 913, \"end\": 930, \"strand\": 1, \"type\": \"protein_bind\"}, \"ca070129-4481-4b1a-8ae2-8da12bb50622\": {\"sequenceId\": \"f83612aa-6379-40e0-80ba-4485d3c7d11f\", \"id\": \"ca070129-4481-4b1a-8ae2-8da12bb50622\", \"name\": \"gly_ser_linker\", \"start\": 54, \"end\": 101, \"strand\": 1, \"type\": \"misc_feature\"}, \"5415c3c6-398e-48e8-a0d3-56f7807ae89d\": {\"sequenceId\": \"f83612aa-6379-40e0-80ba-4485d3c7d11f\", \"id\": \"5415c3c6-398e-48e8-a0d3-56f7807ae89d\", \"name\": \"GFPuv\", \"start\": 0, \"end\": 101, \"strand\": 1, \"type\": \"CDS\"}, \"3bc52d5c-afae-44b6-8a1d-e39d233675d1\": {\"sequenceId\": \"f83612aa-6379-40e0-80ba-4485d3c7d11f\", \"id\": \"3bc52d5c-afae-44b6-8a1d-e39d233675d1\", \"name\": \"Clostridium_BMC_sig_pep\", \"start\": 3, \"end\": 53, \"strand\": 1, \"type\": \"misc_feature\"}, \"7471da78-506a-4898-8a02-0ac2794d3f62\": {\"sequenceId\": \"500f8cd9-f56e-48a2-bac7-d73756034fdc\", \"id\": \"7471da78-506a-4898-8a02-0ac2794d3f62\", \"name\": \"gly_ser_linker\", \"start\": 60, \"end\": 107, \"strand\": 1, \"type\": \"misc_feature\"}, \"28805e10-ef04-4fb3-9009-c3895c6236a1\": {\"sequenceId\": \"500f8cd9-f56e-48a2-bac7-d73756034fdc\", \"id\": \"28805e10-ef04-4fb3-9009-c3895c6236a1\", \"name\": \"ccmN_sig_pep\", \"start\": 3, \"end\": 59, \"strand\": 1, \"type\": \"misc_feature\"}, \"f543a09b-d714-4eeb-b421-112b0ee125c8\": {\"sequenceId\": \"500f8cd9-f56e-48a2-bac7-d73756034fdc\", \"id\": \"f543a09b-d714-4eeb-b421-112b0ee125c8\", \"name\": \"GFPuv\", \"start\": 0, \"end\": 107, \"strand\": 1, \"type\": \"CDS\"}, \"aeae561e-7604-4955-a11c-3efa373a67ff\": {\"sequenceId\": \"47bef17a-5932-4055-b7b3-bedf52d90dee\", \"id\": \"aeae561e-7604-4955-a11c-3efa373a67ff\", \"name\": \"ssrA tag enhanced\", \"start\": 0, \"end\": 38, \"strand\": 1, \"type\": \"misc_feature\"}, \"54805c55-7e6a-4484-955b-31d729f9b63e\": {\"sequenceId\": \"47bef17a-5932-4055-b7b3-bedf52d90dee\", \"id\": \"54805c55-7e6a-4484-955b-31d729f9b63e\", \"name\": \"GFPuv\", \"start\": 0, \"end\": 38, \"strand\": 1, \"type\": \"CDS\"}, \"b9bb3fa5-0cb0-4bc4-b6a7-da4efc950e88\": {\"sequenceId\": \"b1153e95-d4e6-43be-9c6d-afdb665e0392\", \"id\": \"b9bb3fa5-0cb0-4bc4-b6a7-da4efc950e88\", \"name\": \"ssrA tag\", \"start\": 0, \"end\": 32, \"strand\": -1, \"type\": \"misc_feature\"}, \"789b45ac-2851-4e9d-baef-0bfe49dc302d\": {\"sequenceId\": \"b1153e95-d4e6-43be-9c6d-afdb665e0392\", \"id\": \"789b45ac-2851-4e9d-baef-0bfe49dc302d\", \"name\": \"GFPuv\", \"start\": 0, \"end\": 32, \"strand\": -1, \"type\": \"CDS\"}}, \"sequenceFragment\": {\"d033ab22-5cb9-4c5d-a967-ee80c661a4f1\": {\"sequenceId\": \"bc377e90-bba8-4d6c-b15d-c2a124fbcc76\", \"id\": \"d033ab22-5cb9-4c5d-a967-ee80c661a4f1\", \"index\": 1, \"fragment\": \"tagcaccctcgcaagctcgggcaaatcgctgaatattccttttgtctccgaccatcaggcacctgagtcgctgtctttttcgtgacattcagttcgctgcgctcacggctctggcagtgaatgggggtaaatggcactacaggcgccttttatggattcatgcaaggaaactacccataatacaagaaaagcccgtcacgggcttctcagggcgttttatggcgggtctgctatgtggtgctatctgactttttgctgttcagcagttcctgccctctgattttccagtctgaccacttcggattatcccgtgacaggtcattcagactggctaatgcacccagtaaggcagcggtatcatcaacaggcttacccgtcttactgtccctagtgcttggattctcaccaataaaaaacgcccggcggcaaccgagcgttctgaacaaatccagatggagttctgaggtcattactggatctatcaacaggagtccaagcgagctcgatatcaaattacgccccgccctgccactcatcgcagtactgttgtaattcattaagcattctgccgacatggaagccatcacaaacggcatgatgaacctgaatcgccagcggcatcagcaccttgtcgccttgcgtataatatttgcccatggtgaaaacgggggcgaagaagttgtccatattggccacgtttaaatcaaaactggtgaaactcacccagggattggctgagacgaaaaacatattctcaataaaccctttagggaaataggccaggttttcaccgtaacacgccacatcttgcgaatatatgtgtagaaactgccggaaatcgtcgtggtattcactccagagcgatgaaaacgtttcagtttgctcatggaaaacggtgtaacaagggtgaacactatcccatatcaccagctcaccgtctttcattgccatacgaaattccggatgagcattcatcaggcgggcaagaatgtgaataaaggccggataaaacttgtgcttatttttctttacggtctttaaaaaggccgtaatatccagctgaacggtctggttataggtacattgagcaactgactgaaatgcctcaaaatgttctttacgatgccattgggatatatcaacggtggtatatccagtgatttttttctccattttagcttccttagctcctgaaaatctcgataactcaaaaaatacgcccggtagtgatcttatttcattatggtgaaagttggaacctcttacgtgccgatcaacgtctcattttcgccagatatc\"}, \"a7c895d7-06da-402f-8399-7127bf02eceb\": {\"sequenceId\": \"bc377e90-bba8-4d6c-b15d-c2a124fbcc76\", \"id\": \"a7c895d7-06da-402f-8399-7127bf02eceb\", \"index\": 0, \"fragment\": \"gacgtcttatgacaacttgacggctacatcattcactttttcttcacaaccggcacggaactcgctcgggctggccccggtgcattttttaaatacccgcgagaaatagagttgatcgtcaaaaccaacattgcgaccgacggtggcgataggcatccgggtggtgctcaaaagcagcttcgcctggctgatacgttggtcctcgcgccagcttaagacgctaatccctaactgctggcggaaaagatgtgacagacgcgacggcgacaagcaaacatgctgtgcgacgctggcgatatcaaaattgctgtctgccaggtgatcgctgatgtactgacaagcctcgcgtacccgattatccatcggtggatggagcgactcgttaatcgcttccatgcgccgcagtaacaattgctcaagcagatttatcgccagcagctccgaatagcgcccttccccttgcccggcgttaatgatttgcccaaacaggtcgctgaaatgcggctggtgcgcttcatccgggcgaaagaaccccgtattggcaaatattgacggccagttaagccattcatgccagtaggcgcgcggacgaaagtaaacccactggtgataccattcgcgagcctccggatgacgaccgtagtgatgaatctctcctggcgggaacagcaaaatatcacccggtcggcaaacaaattctcgtccctgatttttcaccaccccctgaccgcgaatggtgagattgagaatataacctttcattcccagcggtcggtcgataaaaaaatcgagataaccgttggcctcaatcggcgttaaacccgccaccagatgggcattaaacgagtatcccggcagcaggggatcattttgcgcttcagccatacttttcatactcccgccattcagagaagaaaccaattgtccatattgcatcagacattgccgtcactgcgtcttttactggctcttctcgctaaccaaaccggtaaccccgcttattaaaagcattctgtaacaaagcgggaccaaagccatgacaaaaacgcgtaacaaaagtgtctataatcacggcagaaaagtccacattgattatttgcacggcgtcacactttgctatgccatagcatttttatccataagattagcggattctacctgacgctttttatcgcaactctctactgtttctccatacccgtttttttgggaatttttaagaaggagatatacatatgagtaaaggagaagaacttttcactggagttgtcccaattcttgttgaattagatggtgatgttaatgggcacaaattttctgtcagtggagagggtgaaggtgatgcaacatacggaaaacttacccttaaatttatttgcactactggaaaactacctgttccatggccaacacttgtcactactttctcttatggtgttcaatgcttttcccgttatccggatcatatgaaacggcatgactttttcaagagtgccatgcccgaaggttatgtacaggaacgcactatatctttcaaagatgacgggaactacaagacgcgtgctgaagtcaagtttgaaggtgatacccttgttaatcgtatcgagttaaaaggtattgattttaaagaagatggaaacattctcggacacaaactcgaatacaactataactcacacaatgtatacatcacggcagacaaacaaaagaatggaatcaaagctaacttcaaaattcgccacaacattgaagatggatctgttcaactagcagaccattatcaacaaaatactccaattggcgatggccctgtccttttaccagacaaccattacctgtcgacacaatctgccctttcgaaagatcccaacgaaaagcgtgaccacatggtccttcttgagtttgtaactgctgctgggattacacatggcatggatgagctcggcggcggcggcagcaaggtctacggcaaggaacagtttttgcggatgcgccagagcatgttccccgatcgctaaatcgagtaaggatctccaggcatcaaataaaacgaaaggctcagtcgaaagactgggcctttcgttttatctgttgtttgtcggtgaacgctctctactagagtcacactggctcaccttcgggtgggcctttctgcgtttatacctagggtacgggttttgctgcccgcaaacgggctgttctggtgttgctagtttgttatcagaatcgcagatccggcttcagccggtttgccggctgaaagcgctatttcttccagaattgccatgattttttccccacgggaggcgtcactggctcccgtgttgtcggcagctttgattcgataagcagcatcgcctgtttcaggctgtctatgtgtgactgttgagctgtaacaagttgtctcaggtgttcaatttcatgttctagttgctttgttttactggtttcacctgttctattaggtgttacatgctgttcatctgttacattgtcgatctgttcatggtgaacagctttgaatgcaccaaaaactcgtaaaagctctgatgtatctatcttttttacaccgttttcatctgtgcatatggacagttttccctttgatatgtaacggtgaacagttgttctacttttgtttgttagtcttgatgcttcactgatagatacaagagccataagaacctcagatccttccgtatttagccagtatgttctctagtgtggttcgttgtttttgcgtgagccatgagaacgaaccattgagatcatacttactttgcatgtcactcaaaaattttgcctcaaaactggtgagctgaatttttgcagttaaagcatcgtgtagtgtttttcttagtccgttatgtaggtaggaatctgatgtaatggttgttggtattttgtcaccattcatttttatctggttgttctcaagttcggttacgagatccatttgtctatctagttcaacttggaaaatcaacgtatcagtcgggcggcctcgcttatcaaccaccaatttcatattgctgtaagtgtttaaatctttacttattggtttcaaaacccattggttaagccttttaaactcatggtagttattttcaagcattaacatgaacttaaattcatcaaggctaatctctatatttgccttgtgagttttcttttgtgttagttcttttaataaccactcataaatcctcatagagtatttgttttcaaaagacttaacatgttccagattatattttatgaatttttttaactggaaaagataaggcaatatctcttcactaaaaactaattctaatttttcgcttgagaacttggcatagtttgtccactggaaaatctcaaagcctttaaccaaaggattcctgatttccacagttctcgtcatcagctctctggttgctttagctaatacaccataagcattttccctactgatgttcatcatctgagcgtattggttataagtgaacgataccgtccgttctttccttgtagggttttcaatcgtggggttgagtagtgccacacagcataaaattagcttggtttcatgctccgttaagtcatagcgactaatcgctagttcatttgctttgaaaacaactaattcagacatacatctcaattggtctaggtgattttaatcactataccaattgagatgggctagtcaatgataattactagtccttttcccgggtgatctgggtatctgtaaattctgctagacctttgctggaaaacttgtaaattctgctagaccctctgtaaattccgctagacctttgtgtgttttttttgtttatattcaagtggttataatttatagaataaagaaagaataaaaaaagataaaaagaatagatcccagccctgtgtataactcactactttagtcagttccgcagtattacaaaaggatgtcgcaaacgctgtttgctcctctacaaaacagaccttaaaaccctaaaggcttaag\"}, \"be82504d-95b2-49fc-af20-83a5755fcb78\": {\"sequenceId\": \"f83612aa-6379-40e0-80ba-4485d3c7d11f\", \"id\": \"be82504d-95b2-49fc-af20-83a5755fcb78\", \"index\": 0, \"fragment\": \"atggaaaataacgctttattagaacaaataatcaatgaagttttaaaaaatatgggtggcagtggtagcgggagctcgggtggctcaggctctggttccagt\"}, \"ad48ef52-1649-4998-96ba-b65a4c43c632\": {\"sequenceId\": \"500f8cd9-f56e-48a2-bac7-d73756034fdc\", \"id\": \"ad48ef52-1649-4998-96ba-b65a4c43c632\", \"index\": 0, \"fragment\": \"atgaaggtctacggcaaggaacagtttttgcggatgcgccagagcatgttccccgatcgcggtggcagtggtagcgggagctcgggtggctcaggctctggttccagt\"}, \"46c1e46b-6770-4c7a-9e1e-e4d572ce9334\": {\"sequenceId\": \"47bef17a-5932-4055-b7b3-bedf52d90dee\", \"id\": \"46c1e46b-6770-4c7a-9e1e-e4d572ce9334\", \"index\": 0, \"fragment\": \"gcggcgaacgatgaaaactataactatgcgctggcggcg\"}, \"9c1061e5-84ec-47cc-8870-74c4a649d3e2\": {\"sequenceId\": \"b1153e95-d4e6-43be-9c6d-afdb665e0392\", \"id\": \"9c1061e5-84ec-47cc-8870-74c4a649d3e2\", \"index\": 0, \"fragment\": \"gcggcgaacgatgaaaactatgcgctggcggcg\"}}, \"tag\": {\"fdcd0a58-e614-49e5-a688-9ec0ec4ec088\": {\"id\": \"fdcd0a58-e614-49e5-a688-9ec0ec4ec088\", \"name\": \"rna stability element\", \"color\": \"#C0C0C0\"}, \"383daad8-4f9a-4f36-bdb2-0f7516aa8ae0\": {\"id\": \"383daad8-4f9a-4f36-bdb2-0f7516aa8ae0\", \"name\": \"protease site\", \"color\": \"#C0C0C0\"}, \"c62db911-27f6-432d-ad97-99cfb5b90ca3\": {\"id\": \"c62db911-27f6-432d-ad97-99cfb5b90ca3\", \"name\": \"operator\", \"color\": \"#C0C0C0\"}, \"795bf4ea-1747-4a8b-8e8e-2996a6aac556\": {\"id\": \"795bf4ea-1747-4a8b-8e8e-2996a6aac556\", \"name\": \"ribonuclease site\", \"color\": \"#C0C0C0\"}, \"b243e60c-3a7c-4dcd-a2f8-d9d775271858\": {\"id\": \"b243e60c-3a7c-4dcd-a2f8-d9d775271858\", \"name\": \"user defined\", \"color\": \"#3366FF\"}, \"e71eb441-c96e-4c0a-a55d-47e92b017b8b\": {\"id\": \"e71eb441-c96e-4c0a-a55d-47e92b017b8b\", \"name\": \"3' overhang\", \"color\": \"#C0C0C0\"}}, \"tagOption\": {}, \"tagRule\": {}, \"set\": {}}, \"hdeDesignExportVersion\": 3}))\n",
       "            });\n",
       "            "
      ]
     },
     "metadata": {},
     "output_type": "display_data"
    }
   ],
   "source": [
    "RenderJSON(design)"
   ]
  },
  {
   "cell_type": "markdown",
   "id": "valuable-exhibition",
   "metadata": {},
   "source": [
    "For design upload, please refer to the *Closing-the-DBTL-Cycle.ipynb* jupyter notebook."
   ]
  },
  {
   "cell_type": "markdown",
   "id": "vanilla-sector",
   "metadata": {},
   "source": [
    "## Working with amino acid sequences\n",
    "\n",
    "Below we will explore how to upload and download amino acid secuences with an Antimicrobial Peptide (AMP). \n",
    " "
   ]
  },
  {
   "cell_type": "markdown",
   "id": "plastic-blair",
   "metadata": {},
   "source": [
    "The [2KNJ](https://www.rcsb.org/structure/2KNJ) peptide has AMP properties. Its sequence is: ```HHQELCTKGDDALVTELECIRLRISPETNAAFDNAVQQLNCLNRACAYRKMCATNNLEQAMSVYFTNEQIKEIHDAATACDPEAHHEHDH```\n",
    "\n",
    "The next cell shows its 3D structure:\n",
    "\n",
    "(Note: For displaying the molecule, the [nglview](https://github.com/nglviewer/nglview) library is being used. If the figure is not showing, try running the following command from your environment terminal and reload: `jupyter-nbextension enable nglview --py --sys-prefix`. If still doesn't work you may want to explore their [FAQ](https://github.com/nglviewer/nglview/blob/master/docs/FAQ.md#widget-not-shown))"
   ]
  },
  {
   "cell_type": "code",
   "execution_count": 13,
   "id": "excellent-broad",
   "metadata": {
    "scrolled": true
   },
   "outputs": [
    {
     "data": {
      "application/vnd.jupyter.widget-view+json": {
       "model_id": "94188026c6ea451dae13a537117496c2",
       "version_major": 2,
       "version_minor": 0
      },
      "text/plain": [
       "NGLWidget()"
      ]
     },
     "metadata": {},
     "output_type": "display_data"
    }
   ],
   "source": [
    "# Uncomment the following lines to show the 3D structure\n",
    "view = nglview.show_pdbid(\"2KNJ\")  # load \"2KNJ\" from RCSB PDB and display viewer widget\n",
    "view"
   ]
  },
  {
   "cell_type": "markdown",
   "id": "verified-jason",
   "metadata": {},
   "source": [
    "In the next cell we are going to upload this amino acid sequence into the DESIGN module.\n",
    "\n",
    "If upload works ok, the endpoint will return something like:\n",
    "\n",
    "```\n",
    "{'createdAminoAcidSequences': [{'id': '17', 'name': '2KNJ2'}]}\n",
    "```\n",
    "\n",
    "However, the current example is already loaded in the default server so, in this case, the endpoint will return a non-empty `existingAminoAcidSequences` field, as occurs when some of the uploaded sequences matches a sequence from the the dataset. "
   ]
  },
  {
   "cell_type": "code",
   "execution_count": 14,
   "id": "invisible-commerce",
   "metadata": {},
   "outputs": [
    {
     "data": {
      "text/plain": [
       "{'existingAminoAcidSequences': [{'id': '7b241b27-ddaf-4c8b-b19c-33c5f264a813'}]}"
      ]
     },
     "execution_count": 14,
     "metadata": {},
     "output_type": "execute_result"
    }
   ],
   "source": [
    "result = client.design.import_aa_sequences([{\n",
    "    'AA_NAME': \"2KNJ2\",\n",
    "    'AA_SEQUENCE': 'HHQELCTKGDDALVTELECIRLRISPETNAAFDNAVQQLNCLNRACAYRKMCATNNLEQAMSVYFTNEQIKEIHDAATACDPEAHHEHDH'\n",
    "}])\n",
    "result"
   ]
  },
  {
   "cell_type": "markdown",
   "id": "mental-placement",
   "metadata": {},
   "source": [
    "Now we'll download the sequence. Amino acid sequence `id` is needed for this:"
   ]
  },
  {
   "cell_type": "code",
   "execution_count": 15,
   "id": "pretty-console",
   "metadata": {},
   "outputs": [],
   "source": [
    "# The following list contains a list with the uploaded sequence id\n",
    "ids_list = [result['existingAminoAcidSequences'][0]['id']]\n",
    "result = client.design.export_aa_sequences(ids_list)"
   ]
  },
  {
   "cell_type": "markdown",
   "id": "disciplinary-sewing",
   "metadata": {},
   "source": [
    "## Finally, the downloaded object can be seen below"
   ]
  },
  {
   "cell_type": "code",
   "execution_count": 16,
   "id": "strong-person",
   "metadata": {},
   "outputs": [
    {
     "data": {
      "text/html": [
       "\n",
       "            <div id=\"cfa2acf6-c33f-4e08-9333-6d434f6b4c04\" style=\"height: max-content; width:100%;background-color: #f2f3ff\";></div>\n",
       "            "
      ]
     },
     "metadata": {},
     "output_type": "display_data"
    },
    {
     "data": {
      "application/javascript": [
       "\n",
       "            require([\"https://rawgit.com/caldwell/renderjson/master/renderjson.js\"], function() {\n",
       "            document.getElementById('cfa2acf6-c33f-4e08-9333-6d434f6b4c04').appendChild(renderjson([{\"id\": \"7b241b27-ddaf-4c8b-b19c-33c5f264a813\", \"name\": \"2KNJ2\", \"isoPoint\": null, \"uniprotId\": null, \"size\": 90, \"molecularWeight\": 10208.4559, \"extinctionCoefficient\": 2980, \"proteinSequence\": \"hhqelctkgddalvtelecirlrispetnaafdnavqqlnclnracayrkmcatnnleqamsvyftneqikeihdaatacdpeahhehdh\", \"regionAnnotations\": [], \"tags\": [], \"createdAt\": \"2021-07-12T19:06:13.093Z\", \"updatedAt\": \"2022-04-21T01:39:13.301Z\"}]))\n",
       "            });\n",
       "            "
      ]
     },
     "metadata": {},
     "output_type": "display_data"
    }
   ],
   "source": [
    "RenderJSON(result)"
   ]
  },
  {
   "cell_type": "code",
   "execution_count": null,
   "id": "continuing-cause",
   "metadata": {},
   "outputs": [],
   "source": []
  }
 ],
 "metadata": {
  "kernelspec": {
   "display_name": "Python 3 (ipykernel)",
   "language": "python",
   "name": "python3"
  },
  "language_info": {
   "codemirror_mode": {
    "name": "ipython",
    "version": 3
   },
   "file_extension": ".py",
   "mimetype": "text/x-python",
   "name": "python",
   "nbconvert_exporter": "python",
   "pygments_lexer": "ipython3",
   "version": "3.9.9"
  }
 },
 "nbformat": 4,
 "nbformat_minor": 5
}
