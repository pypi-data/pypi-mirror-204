{
 "cells": [
  {
   "cell_type": "markdown",
   "metadata": {},
   "source": [
    "<div align=left style=\"width: 200; height: 80px; overflow: hidden\">\n",
    "    <img src=http://static1.squarespace.com/static/571446ff60b5e92c3a2b4249/57d8a40b9de4bb459f731cf3/58cb2f229de4bb4a049d38c2/1505340359463/teselaGenlogo.jpg align=right width=200>\n",
    "</div>"
   ]
  },
  {
   "cell_type": "markdown",
   "metadata": {},
   "source": [
    "# Closing the DBTL loop with TeselaGen\n",
    "\n",
    "With TeselaGen's platform you can close the Design-Build-Test-Learn (DBTL) cycle  using machine learning algorithms that automatically learn from your data. The DISCOVER  module is capable of suggesting new candidates that can optimize your results given your previous experimental rounds. This document shows how to enable those candidates as new designs at the DESIGN module to perform the next DBTL cycle.\n",
    "\n",
    "**Inputs**: Evolutions algorithm's result at an DISCOVER module instance\n",
    "\n",
    "**Outputs**: New designs created at DESIGN module\n",
    "\n",
    "#### Requirements: \n",
    "\n",
    "* Access permissions to the lab where the evolutions results are stored\n",
    "* Have Python3 installed in your local computer with Pandas and TG's *api-client*"
   ]
  },
  {
   "cell_type": "markdown",
   "metadata": {},
   "source": [
    "First, we start making all required imports"
   ]
  },
  {
   "cell_type": "code",
   "execution_count": 1,
   "metadata": {},
   "outputs": [
    {
     "name": "stdout",
     "output_type": "stream",
     "text": [
      "python version     : 3.9.9\n",
      "pandas version     : 1.3.5\n"
     ]
    }
   ],
   "source": [
    "import platform\n",
    "\n",
    "from IPython.core.display import display\n",
    "from IPython.core.display import HTML\n",
    "import pandas as pd\n",
    "\n",
    "from teselagen.api import TeselaGenClient\n",
    "from teselagen.utils.candidates_to_design import build_design_from_candidates\n",
    "\n",
    "print(f\"python version     : {platform.python_version()}\")\n",
    "print(f\"pandas version     : {pd.__version__}\")"
   ]
  },
  {
   "cell_type": "markdown",
   "metadata": {},
   "source": [
    "## Look for your Evolution results\n",
    "\n",
    "Here, the concept of *closing the DBTL loop* refers to the ability to generate designs out of what was learned from previous experiments. Those designs can be used to conduct new experimental rounds. This notebook assumes you've already trained an *Evolution* model.\n",
    "\n",
    "The results of an *Evolution* model contain a set of ranked candidates that may outperform your current measurements. Each of the proposed candidates is a combination of the parts (and possibly other variables) you have already tested within the designs in your experiments. These new combinations were evaluated and ranked by a machine learning algorithm and we will generate proper designs with them. \n",
    "\n",
    "This guide starts at the output of the Evolutions tool at DISCOVER. The next cell connects the notebook with DISCOVER and selects the empty lab (`Common`) which holds our sample experiment:"
   ]
  },
  {
   "cell_type": "code",
   "execution_count": 2,
   "metadata": {},
   "outputs": [
    {
     "name": "stdout",
     "output_type": "stream",
     "text": [
      "Connection Accepted at https://platform.teselagen.com\n",
      "Selected Lab: The Test Lab\n"
     ]
    }
   ],
   "source": [
    "# Connect to your teselagen instance by passing it as the 'host_url' argument of EVOLVECLient(host_url=host_url)\n",
    "# client = EVOLVEClient(host_url=\"https://your-instance-name.teselagen.com\")\n",
    "client = TeselaGenClient()\n",
    "client.login()\n",
    "client.select_laboratory(lab_name=\"The Test Lab\")"
   ]
  },
  {
   "cell_type": "markdown",
   "metadata": {},
   "source": [
    "Next, we find the `evolutive` model with name `Teselagen Example Evolutive Model`:"
   ]
  },
  {
   "cell_type": "code",
   "execution_count": 3,
   "metadata": {},
   "outputs": [
    {
     "name": "stdout",
     "output_type": "stream",
     "text": [
      "Model id adb0902f-1d6a-440e-bcdf-469b235c92fc, name: Teselagen Example Evolutive Model\n",
      "Model id 266a012a-fce5-45a3-a449-d370901b683d, name: Teselagen Example Evolutive Model\n"
     ]
    }
   ],
   "source": [
    "search_for_name = \"Teselagen Example Evolutive Model\"\n",
    "evolution_models_info = client.discover.get_models_by_type('evolutive')\n",
    "model_id = -1\n",
    "\n",
    "for info in evolution_models_info:\n",
    "    if info['name'] == search_for_name:\n",
    "        model_id = info['id']\n",
    "        print(f\"Model id {info['id']}, name: {info['name']}\")\n",
    "\n",
    "if model_id == -1:\n",
    "    raise OSError(\"Didn't found model\")"
   ]
  },
  {
   "cell_type": "markdown",
   "metadata": {},
   "source": [
    "And get the models' results. The results objects contain predictions for several untested combinations. We will focus on the rows with valid priority values, which are the better candidates suggested by the algorithm:"
   ]
  },
  {
   "cell_type": "code",
   "execution_count": 4,
   "metadata": {},
   "outputs": [
    {
     "data": {
      "text/html": [
       "<div>\n",
       "<style scoped>\n",
       "    .dataframe tbody tr th:only-of-type {\n",
       "        vertical-align: middle;\n",
       "    }\n",
       "\n",
       "    .dataframe tbody tr th {\n",
       "        vertical-align: top;\n",
       "    }\n",
       "\n",
       "    .dataframe thead th {\n",
       "        text-align: right;\n",
       "    }\n",
       "</style>\n",
       "<table border=\"1\" class=\"dataframe\">\n",
       "  <thead>\n",
       "    <tr style=\"text-align: right;\">\n",
       "      <th></th>\n",
       "      <th>Enzyme A</th>\n",
       "      <th>Enzyme B</th>\n",
       "      <th>Production</th>\n",
       "      <th>prediction</th>\n",
       "      <th>sigma</th>\n",
       "      <th>acq</th>\n",
       "      <th>in_batch</th>\n",
       "      <th>priority</th>\n",
       "    </tr>\n",
       "  </thead>\n",
       "  <tbody>\n",
       "    <tr>\n",
       "      <th>0</th>\n",
       "      <td>Variant A1</td>\n",
       "      <td>Variant B5</td>\n",
       "      <td>NaN</td>\n",
       "      <td>6.682141</td>\n",
       "      <td>2.754897</td>\n",
       "      <td>2.900957e-01</td>\n",
       "      <td>True</td>\n",
       "      <td>0.0</td>\n",
       "    </tr>\n",
       "    <tr>\n",
       "      <th>1</th>\n",
       "      <td>Variant A4</td>\n",
       "      <td>Variant B3</td>\n",
       "      <td>NaN</td>\n",
       "      <td>6.407769</td>\n",
       "      <td>2.478116</td>\n",
       "      <td>1.760597e-01</td>\n",
       "      <td>True</td>\n",
       "      <td>1.0</td>\n",
       "    </tr>\n",
       "    <tr>\n",
       "      <th>2</th>\n",
       "      <td>Variant A5</td>\n",
       "      <td>Variant B4</td>\n",
       "      <td>NaN</td>\n",
       "      <td>6.335949</td>\n",
       "      <td>2.290782</td>\n",
       "      <td>1.279313e-01</td>\n",
       "      <td>True</td>\n",
       "      <td>2.0</td>\n",
       "    </tr>\n",
       "    <tr>\n",
       "      <th>3</th>\n",
       "      <td>Variant A1</td>\n",
       "      <td>Variant B3</td>\n",
       "      <td>NaN</td>\n",
       "      <td>5.084792</td>\n",
       "      <td>3.126974</td>\n",
       "      <td>1.482581e-01</td>\n",
       "      <td>True</td>\n",
       "      <td>3.0</td>\n",
       "    </tr>\n",
       "    <tr>\n",
       "      <th>4</th>\n",
       "      <td>Variant A0</td>\n",
       "      <td>Variant B5</td>\n",
       "      <td>NaN</td>\n",
       "      <td>5.209926</td>\n",
       "      <td>3.389332</td>\n",
       "      <td>2.127074e-01</td>\n",
       "      <td>True</td>\n",
       "      <td>4.0</td>\n",
       "    </tr>\n",
       "    <tr>\n",
       "      <th>5</th>\n",
       "      <td>Variant A3</td>\n",
       "      <td>Variant B5</td>\n",
       "      <td>NaN</td>\n",
       "      <td>7.127092</td>\n",
       "      <td>1.977456</td>\n",
       "      <td>1.670737e-01</td>\n",
       "      <td>True</td>\n",
       "      <td>5.0</td>\n",
       "    </tr>\n",
       "    <tr>\n",
       "      <th>6</th>\n",
       "      <td>Variant A4</td>\n",
       "      <td>Variant B4</td>\n",
       "      <td>NaN</td>\n",
       "      <td>6.469300</td>\n",
       "      <td>2.173315</td>\n",
       "      <td>1.204716e-01</td>\n",
       "      <td>True</td>\n",
       "      <td>6.0</td>\n",
       "    </tr>\n",
       "    <tr>\n",
       "      <th>7</th>\n",
       "      <td>Variant A4</td>\n",
       "      <td>Variant B2</td>\n",
       "      <td>NaN</td>\n",
       "      <td>4.775772</td>\n",
       "      <td>2.247447</td>\n",
       "      <td>2.360628e-02</td>\n",
       "      <td>True</td>\n",
       "      <td>7.0</td>\n",
       "    </tr>\n",
       "    <tr>\n",
       "      <th>8</th>\n",
       "      <td>Variant A5</td>\n",
       "      <td>Variant B1</td>\n",
       "      <td>NaN</td>\n",
       "      <td>4.801702</td>\n",
       "      <td>2.592720</td>\n",
       "      <td>5.299806e-02</td>\n",
       "      <td>True</td>\n",
       "      <td>8.0</td>\n",
       "    </tr>\n",
       "    <tr>\n",
       "      <th>9</th>\n",
       "      <td>Variant A5</td>\n",
       "      <td>Variant B5</td>\n",
       "      <td>NaN</td>\n",
       "      <td>7.461191</td>\n",
       "      <td>1.974906</td>\n",
       "      <td>2.272159e-01</td>\n",
       "      <td>True</td>\n",
       "      <td>9.0</td>\n",
       "    </tr>\n",
       "    <tr>\n",
       "      <th>10</th>\n",
       "      <td>Variant A2</td>\n",
       "      <td>Variant B3</td>\n",
       "      <td>NaN</td>\n",
       "      <td>5.892654</td>\n",
       "      <td>2.300619</td>\n",
       "      <td>8.627693e-02</td>\n",
       "      <td>True</td>\n",
       "      <td>10.0</td>\n",
       "    </tr>\n",
       "    <tr>\n",
       "      <th>11</th>\n",
       "      <td>Variant A1</td>\n",
       "      <td>Variant B4</td>\n",
       "      <td>NaN</td>\n",
       "      <td>5.206839</td>\n",
       "      <td>2.751472</td>\n",
       "      <td>9.840597e-02</td>\n",
       "      <td>True</td>\n",
       "      <td>11.0</td>\n",
       "    </tr>\n",
       "    <tr>\n",
       "      <th>12</th>\n",
       "      <td>Variant A5</td>\n",
       "      <td>Variant B0</td>\n",
       "      <td>NaN</td>\n",
       "      <td>3.647190</td>\n",
       "      <td>2.773837</td>\n",
       "      <td>2.604726e-02</td>\n",
       "      <td>True</td>\n",
       "      <td>12.0</td>\n",
       "    </tr>\n",
       "    <tr>\n",
       "      <th>13</th>\n",
       "      <td>Variant A5</td>\n",
       "      <td>Variant B2</td>\n",
       "      <td>NaN</td>\n",
       "      <td>4.653610</td>\n",
       "      <td>2.465950</td>\n",
       "      <td>3.528631e-02</td>\n",
       "      <td>True</td>\n",
       "      <td>13.0</td>\n",
       "    </tr>\n",
       "    <tr>\n",
       "      <th>14</th>\n",
       "      <td>Variant A0</td>\n",
       "      <td>Variant B4</td>\n",
       "      <td>NaN</td>\n",
       "      <td>3.708031</td>\n",
       "      <td>2.827389</td>\n",
       "      <td>3.097097e-02</td>\n",
       "      <td>True</td>\n",
       "      <td>14.0</td>\n",
       "    </tr>\n",
       "    <tr>\n",
       "      <th>15</th>\n",
       "      <td>Variant A3</td>\n",
       "      <td>Variant B3</td>\n",
       "      <td>NaN</td>\n",
       "      <td>5.858906</td>\n",
       "      <td>2.411685</td>\n",
       "      <td>1.008368e-01</td>\n",
       "      <td>True</td>\n",
       "      <td>15.0</td>\n",
       "    </tr>\n",
       "    <tr>\n",
       "      <th>16</th>\n",
       "      <td>Variant A2</td>\n",
       "      <td>Variant B4</td>\n",
       "      <td>NaN</td>\n",
       "      <td>5.895841</td>\n",
       "      <td>1.888292</td>\n",
       "      <td>3.524929e-02</td>\n",
       "      <td>True</td>\n",
       "      <td>16.0</td>\n",
       "    </tr>\n",
       "    <tr>\n",
       "      <th>17</th>\n",
       "      <td>Variant A0</td>\n",
       "      <td>Variant B3</td>\n",
       "      <td>NaN</td>\n",
       "      <td>3.547895</td>\n",
       "      <td>3.044400</td>\n",
       "      <td>4.127574e-02</td>\n",
       "      <td>True</td>\n",
       "      <td>17.0</td>\n",
       "    </tr>\n",
       "    <tr>\n",
       "      <th>18</th>\n",
       "      <td>Variant A4</td>\n",
       "      <td>Variant B0</td>\n",
       "      <td>NaN</td>\n",
       "      <td>3.815978</td>\n",
       "      <td>2.541329</td>\n",
       "      <td>1.759413e-02</td>\n",
       "      <td>True</td>\n",
       "      <td>18.0</td>\n",
       "    </tr>\n",
       "    <tr>\n",
       "      <th>19</th>\n",
       "      <td>Variant A3</td>\n",
       "      <td>Variant B1</td>\n",
       "      <td>NaN</td>\n",
       "      <td>4.413431</td>\n",
       "      <td>2.005143</td>\n",
       "      <td>6.676605e-03</td>\n",
       "      <td>True</td>\n",
       "      <td>19.0</td>\n",
       "    </tr>\n",
       "    <tr>\n",
       "      <th>20</th>\n",
       "      <td>Variant A3</td>\n",
       "      <td>Variant B2</td>\n",
       "      <td>NaN</td>\n",
       "      <td>4.161247</td>\n",
       "      <td>1.945584</td>\n",
       "      <td>3.515277e-03</td>\n",
       "      <td>True</td>\n",
       "      <td>20.0</td>\n",
       "    </tr>\n",
       "    <tr>\n",
       "      <th>21</th>\n",
       "      <td>Variant A2</td>\n",
       "      <td>Variant B1</td>\n",
       "      <td>NaN</td>\n",
       "      <td>4.494814</td>\n",
       "      <td>1.927641</td>\n",
       "      <td>5.505124e-03</td>\n",
       "      <td>True</td>\n",
       "      <td>21.0</td>\n",
       "    </tr>\n",
       "    <tr>\n",
       "      <th>22</th>\n",
       "      <td>Variant A2</td>\n",
       "      <td>Variant B0</td>\n",
       "      <td>NaN</td>\n",
       "      <td>3.371724</td>\n",
       "      <td>2.044264</td>\n",
       "      <td>1.570392e-03</td>\n",
       "      <td>True</td>\n",
       "      <td>22.0</td>\n",
       "    </tr>\n",
       "    <tr>\n",
       "      <th>23</th>\n",
       "      <td>Variant A1</td>\n",
       "      <td>Variant B2</td>\n",
       "      <td>NaN</td>\n",
       "      <td>3.515296</td>\n",
       "      <td>2.284909</td>\n",
       "      <td>5.509883e-03</td>\n",
       "      <td>True</td>\n",
       "      <td>23.0</td>\n",
       "    </tr>\n",
       "    <tr>\n",
       "      <th>24</th>\n",
       "      <td>Variant A0</td>\n",
       "      <td>Variant B0</td>\n",
       "      <td>NaN</td>\n",
       "      <td>1.871215</td>\n",
       "      <td>1.538773</td>\n",
       "      <td>4.118000e-07</td>\n",
       "      <td>True</td>\n",
       "      <td>24.0</td>\n",
       "    </tr>\n",
       "    <tr>\n",
       "      <th>25</th>\n",
       "      <td>Variant A1</td>\n",
       "      <td>Variant B1</td>\n",
       "      <td>NaN</td>\n",
       "      <td>3.592428</td>\n",
       "      <td>2.484912</td>\n",
       "      <td>1.172274e-02</td>\n",
       "      <td>True</td>\n",
       "      <td>25.0</td>\n",
       "    </tr>\n",
       "  </tbody>\n",
       "</table>\n",
       "</div>"
      ],
      "text/plain": [
       "      Enzyme A    Enzyme B  Production  prediction     sigma           acq  \\\n",
       "0   Variant A1  Variant B5         NaN    6.682141  2.754897  2.900957e-01   \n",
       "1   Variant A4  Variant B3         NaN    6.407769  2.478116  1.760597e-01   \n",
       "2   Variant A5  Variant B4         NaN    6.335949  2.290782  1.279313e-01   \n",
       "3   Variant A1  Variant B3         NaN    5.084792  3.126974  1.482581e-01   \n",
       "4   Variant A0  Variant B5         NaN    5.209926  3.389332  2.127074e-01   \n",
       "5   Variant A3  Variant B5         NaN    7.127092  1.977456  1.670737e-01   \n",
       "6   Variant A4  Variant B4         NaN    6.469300  2.173315  1.204716e-01   \n",
       "7   Variant A4  Variant B2         NaN    4.775772  2.247447  2.360628e-02   \n",
       "8   Variant A5  Variant B1         NaN    4.801702  2.592720  5.299806e-02   \n",
       "9   Variant A5  Variant B5         NaN    7.461191  1.974906  2.272159e-01   \n",
       "10  Variant A2  Variant B3         NaN    5.892654  2.300619  8.627693e-02   \n",
       "11  Variant A1  Variant B4         NaN    5.206839  2.751472  9.840597e-02   \n",
       "12  Variant A5  Variant B0         NaN    3.647190  2.773837  2.604726e-02   \n",
       "13  Variant A5  Variant B2         NaN    4.653610  2.465950  3.528631e-02   \n",
       "14  Variant A0  Variant B4         NaN    3.708031  2.827389  3.097097e-02   \n",
       "15  Variant A3  Variant B3         NaN    5.858906  2.411685  1.008368e-01   \n",
       "16  Variant A2  Variant B4         NaN    5.895841  1.888292  3.524929e-02   \n",
       "17  Variant A0  Variant B3         NaN    3.547895  3.044400  4.127574e-02   \n",
       "18  Variant A4  Variant B0         NaN    3.815978  2.541329  1.759413e-02   \n",
       "19  Variant A3  Variant B1         NaN    4.413431  2.005143  6.676605e-03   \n",
       "20  Variant A3  Variant B2         NaN    4.161247  1.945584  3.515277e-03   \n",
       "21  Variant A2  Variant B1         NaN    4.494814  1.927641  5.505124e-03   \n",
       "22  Variant A2  Variant B0         NaN    3.371724  2.044264  1.570392e-03   \n",
       "23  Variant A1  Variant B2         NaN    3.515296  2.284909  5.509883e-03   \n",
       "24  Variant A0  Variant B0         NaN    1.871215  1.538773  4.118000e-07   \n",
       "25  Variant A1  Variant B1         NaN    3.592428  2.484912  1.172274e-02   \n",
       "\n",
       "   in_batch  priority  \n",
       "0      True       0.0  \n",
       "1      True       1.0  \n",
       "2      True       2.0  \n",
       "3      True       3.0  \n",
       "4      True       4.0  \n",
       "5      True       5.0  \n",
       "6      True       6.0  \n",
       "7      True       7.0  \n",
       "8      True       8.0  \n",
       "9      True       9.0  \n",
       "10     True      10.0  \n",
       "11     True      11.0  \n",
       "12     True      12.0  \n",
       "13     True      13.0  \n",
       "14     True      14.0  \n",
       "15     True      15.0  \n",
       "16     True      16.0  \n",
       "17     True      17.0  \n",
       "18     True      18.0  \n",
       "19     True      19.0  \n",
       "20     True      20.0  \n",
       "21     True      21.0  \n",
       "22     True      22.0  \n",
       "23     True      23.0  \n",
       "24     True      24.0  \n",
       "25     True      25.0  "
      ]
     },
     "metadata": {},
     "output_type": "display_data"
    }
   ],
   "source": [
    "results = client.discover.get_model_datapoints(\n",
    "    model_id=model_id,\n",
    "    datapoint_type=\"output\",\n",
    "    batch_size=400,\n",
    "    batch_number=1,\n",
    ")\n",
    "\n",
    "data = pd.DataFrame([el for el in results['data']])\n",
    "data = data.dropna(subset=['priority']).reset_index(drop=True)\n",
    "display(data)"
   ]
  },
  {
   "cell_type": "markdown",
   "metadata": {},
   "source": [
    "Note the algorithm doesn't suggest candidates you've already tested. That's why the `Production` column, the *unknown* variable for untested combinations in this example, contains only `NaN` values."
   ]
  },
  {
   "cell_type": "markdown",
   "metadata": {},
   "source": [
    "## Build the designs json\n",
    "\n",
    "Now we need to generate a json file with the candidates in order to be imported from DESIGN. We've added an utility for this at the api-client library that is called `build_design_from_candidates`. This utility receives a list of dictionaries as input and it requires to explicitly declare the columns that should be interpreted as bins. Following with the example:"
   ]
  },
  {
   "cell_type": "code",
   "execution_count": 5,
   "metadata": {},
   "outputs": [
    {
     "name": "stdout",
     "output_type": "stream",
     "text": [
      "Generating design using 26 candidates\n"
     ]
    }
   ],
   "source": [
    "design = build_design_from_candidates(\n",
    "    candidates_data=data.to_dict(orient=\"records\"),\n",
    "    bin_cols=['Enzyme A', 'Enzyme B'],\n",
    "    name=\"Closing DBTL Example\",\n",
    "    priority_col='priority',\n",
    ")"
   ]
  },
  {
   "cell_type": "markdown",
   "metadata": {},
   "source": [
    "The `design` variable contains a dictionary representation of the design. This representation can be easily stored as a json file and then uploaded into DESIGN. To do this, we need to create a `DESIGNClient` instance:"
   ]
  },
  {
   "cell_type": "markdown",
   "metadata": {},
   "source": [
    "And upload the design. The method `post_design` returns the id of the generated DESIGN in case of success:"
   ]
  },
  {
   "cell_type": "code",
   "execution_count": 6,
   "metadata": {},
   "outputs": [
    {
     "data": {
      "text/plain": [
       "{'id': '215ea550-ce16-4cfa-b432-05f04bc0a1b8'}"
      ]
     },
     "metadata": {},
     "output_type": "display_data"
    }
   ],
   "source": [
    "response = client.design.post_design(design=design)\n",
    "display(response)"
   ]
  },
  {
   "cell_type": "markdown",
   "metadata": {},
   "source": [
    "The new design should be created and look like this:"
   ]
  },
  {
   "cell_type": "markdown",
   "metadata": {},
   "source": [
    "<div align=left style=\"\">\n",
    "    <img src=https://downloads.intercomcdn.com/i/o/236560355/5b4d66d19c53bc8b31dc202e/image.png>\n",
    "</div>\n"
   ]
  },
  {
   "cell_type": "markdown",
   "metadata": {},
   "source": [
    "Uncomment and run the following cell to get the design link:"
   ]
  },
  {
   "cell_type": "code",
   "execution_count": 7,
   "metadata": {},
   "outputs": [],
   "source": [
    "# design_url = f\"{design_client.host_url}/design/client/designs/{response['id']}\"\n",
    "# display(HTML(f\"\"\"<a href=\"{design_url}\">{design_url}</a>\"\"\"))"
   ]
  },
  {
   "cell_type": "code",
   "execution_count": null,
   "metadata": {},
   "outputs": [],
   "source": []
  }
 ],
 "metadata": {
  "kernelspec": {
   "display_name": "Python 3 (ipykernel)",
   "language": "python",
   "name": "python3"
  },
  "language_info": {
   "codemirror_mode": {
    "name": "ipython",
    "version": 3
   },
   "file_extension": ".py",
   "mimetype": "text/x-python",
   "name": "python",
   "nbconvert_exporter": "python",
   "pygments_lexer": "ipython3",
   "version": "3.9.9"
  }
 },
 "nbformat": 4,
 "nbformat_minor": 4
}
