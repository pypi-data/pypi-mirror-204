{
 "cells": [
  {
   "cell_type": "markdown",
   "metadata": {
    "pycharm": {
     "name": "#%% md\n"
    }
   },
   "source": [
    "# SNEWS Firedrill Test ~May 25th~ Feb 2023\n",
    "\n",
    "\n",
    "## Installing Stuff\n",
    "\n",
    "- [**SNEWS_PT Repo**](https://github.com/SNEWS2/SNEWS_Publishing_Tools) <br>\n",
    "- [**hop repo**](https://github.com/scimma/hop-client) <br>\n",
    "- [**hop auth**](https://my.hop.scimma.org/hopauth/)\n",
    "\n",
    "\n",
    "Start by making sure your hop credentials are updated for firedrills:\n",
    "\n",
    "snews.alert-firedrill\n",
    "snews.experiments-firedrill\n",
    "snews.mma-firedrill\n",
    "\n",
    "- Make sure you are using hop 0.5.0\n",
    "\n",
    "```pip install hop-client=0.5.0``` <br>\n",
    "You can check your version with `hop --version`\n",
    "\n",
    "Install SNEWS_PT\n",
    "\n",
    "```pip install -U snews-pt```\n",
    "\n",
    "\n",
    "\n"
   ]
  },
  {
   "cell_type": "markdown",
   "metadata": {},
   "source": [
    "# What is in this firedrill tutorial"
   ]
  },
  {
   "cell_type": "markdown",
   "metadata": {},
   "source": [
    "This notebook has the following;<br>\n",
    "- Subscribe methods for alerts, interactive notebooks and command line\n",
    "- Publish observation messages, interactive notebooks and command line, different features\n",
    "- Publish Heartbeat messages\n",
    "- Test connection and Request feedback\n",
    "- FIRE DRILL\n"
   ]
  },
  {
   "cell_type": "markdown",
   "metadata": {
    "pycharm": {
     "name": "#%% md\n"
    }
   },
   "source": [
    "## Using the API"
   ]
  },
  {
   "cell_type": "code",
   "execution_count": null,
   "metadata": {},
   "outputs": [],
   "source": [
    "from snews_pt.snews_pt_utils import set_name                       # to set experiment name\n",
    "from snews_pt.snews_pub import SNEWSTiersPublisher                 # to publish observations & heartbeats\n",
    "from snews_pt.snews_sub import Subscriber                          # to listen alerts\n",
    "from snews_pt.remote_commands import test_connection, get_feedback # to test connection and get feedback\n",
    "from datetime import  datetime\n",
    "from time import sleep"
   ]
  },
  {
   "cell_type": "markdown",
   "metadata": {},
   "source": [
    "The experiment can set their detector name. Once this is set, the software no longer raises warnings. "
   ]
  },
  {
   "cell_type": "code",
   "execution_count": null,
   "metadata": {},
   "outputs": [],
   "source": [
    "set_name()"
   ]
  },
  {
   "cell_type": "markdown",
   "metadata": {},
   "source": [
    "You can subscribe for the alerts in a jupyter notebook, however, since this opens a stream and continuosly listen, you can not use the other cells without killing it. Therefore, we recommend to subscribe using a bash terminal via the following command\n",
    "```bash\n",
    "user:~$ snews_pt subscribe\n",
    "```"
   ]
  },
  {
   "cell_type": "code",
   "execution_count": null,
   "metadata": {},
   "outputs": [],
   "source": [
    "# this runs persistently\n",
    "Subscriber(firedrill_mode=True).subscribe(outputfolder='./')"
   ]
  },
  {
   "cell_type": "markdown",
   "metadata": {},
   "source": [
    "## Create and Publish Observation messages"
   ]
  },
  {
   "cell_type": "code",
   "execution_count": null,
   "metadata": {},
   "outputs": [],
   "source": [
    "observation_time = \"2023-06-14T12:45:45.100000\"\n",
    "msg = SNEWSTiersPublisher(neutrino_time=observation_time, is_test=True, firedrill_mode=True)"
   ]
  },
  {
   "cell_type": "markdown",
   "metadata": {},
   "source": [
    "#### SNEWSTierPublisher\n",
    "The `SNEWSTierPublisher` creates a message for you from your given keys and decides what to do with this message.\n",
    "\n",
    "The `neutrino_time` is the most important argument. The Publisher decides that this message is intended for the `CoincidenceTier` based on this input. <br>\n",
    "\n",
    "Try calling the function with no argument -> `SNEWSTiersPublisher()` <br>\n",
    "This returns `\"No valid message is created! Check your input and try again!\"` <br>\n",
    "\n",
    "Another example would be the heartbeat messages <br>\n",
    "If you call it with a detector status i.e. `SNEWSTiersPublisher(detector_status='ON')` this should create a message for the heartbeats. What happens if you pass both neutrino times and detector status? Try it out!\n",
    "\n",
    "----\n",
    "\n",
    "Few more tips;<br>\n",
    "if you pass `neutrino_time` the Publisher labels it as **\"Coincidence Tier\"** <br>\n",
    "if you pass `p_values` and `t_bin_width` it is labeled as **\"Significance Tier Message\"** <br>\n",
    "if you pass `timing_series` it is labeled as **\"Time Tier\"**<br>\n",
    "if you pass `retract_latest` (e.g. retract_latest=1 retracts the last 1 message) it labels as **\"Retraction Message\"**<br>\n",
    "if you pass `detector_status` it labels as **\"Heartbeat Message\"** (Notice HB doesn't require time as it stamps itself)\n",
    "\n",
    "---\n",
    "\n",
    "The `is_test` argument is needed so that coincidence algorithm knows we are testing and ignores even if the times that are passed illogical (e.g. from past or from far future). If this is not passed, Publisher will tell you that this message is not valid."
   ]
  },
  {
   "cell_type": "code",
   "execution_count": null,
   "metadata": {},
   "outputs": [],
   "source": [
    "## Here try and play with different arguments\n",
    "# SNEWSTiersPublisher()"
   ]
  },
  {
   "cell_type": "markdown",
   "metadata": {},
   "source": [
    "Notice that you only **create** the message and not send it anywhere yet! <br>\n",
    "Once created, you can still display and modify the messages. See the example below."
   ]
  },
  {
   "cell_type": "code",
   "execution_count": null,
   "metadata": {},
   "outputs": [],
   "source": [
    "msg = SNEWSTiersPublisher(neutrino_time=observation_time, is_test=True, firedrill_mode=True, detector_status='ON')"
   ]
  },
  {
   "cell_type": "code",
   "execution_count": null,
   "metadata": {},
   "outputs": [],
   "source": [
    "# see the selected tiers\n",
    "print(msg.tiernames)\n",
    "# see the message data\n",
    "msg.message_data"
   ]
  },
  {
   "cell_type": "code",
   "execution_count": null,
   "metadata": {},
   "outputs": [],
   "source": [
    "# the first message that is created\n",
    "msg.messages[0]"
   ]
  },
  {
   "cell_type": "code",
   "execution_count": null,
   "metadata": {},
   "outputs": [],
   "source": [
    "# the second message that is created\n",
    "msg.messages[1]"
   ]
  },
  {
   "cell_type": "markdown",
   "metadata": {},
   "source": [
    "One can see that there are some more information added automatically. Now let's **send these messages to snews**"
   ]
  },
  {
   "cell_type": "code",
   "execution_count": null,
   "metadata": {},
   "outputs": [],
   "source": [
    "msg.send_to_snews()"
   ]
  },
  {
   "cell_type": "markdown",
   "metadata": {},
   "source": [
    "**Another trick** <br>\n",
    "If you think that you have some other information that you think is relevant, you can still pass any other meta data by passing them as key-word arguments."
   ]
  },
  {
   "cell_type": "code",
   "execution_count": null,
   "metadata": {},
   "outputs": [],
   "source": [
    "msg2 = SNEWSTiersPublisher(neutrino_time=observation_time, is_test=True, comment='We were taking calibration data')\n",
    "msg2.messages[0]"
   ]
  },
  {
   "cell_type": "markdown",
   "metadata": {},
   "source": [
    "### JSON messages and Observation Publication via CLI"
   ]
  },
  {
   "cell_type": "markdown",
   "metadata": {},
   "source": [
    "Similarly, these observation messages can also be sent with the Command Line Interface (CLI). <br>\n",
    "This requires file(s) that are properly constructed and formatted as a json file then these file(s) can be passed from the terminal <br>\n",
    "\n",
    "For this assume we have the `\"observation_file.json\"` which contains\n",
    "```JSON\n",
    "{\n",
    "    \"machine_time\": \n",
    "        \"2023-02-06T10:18:44.948273\",\n",
    "    \"neutrino_time\": \n",
    "        \"2023-02-06T10:18:44.948273\",\n",
    "    \"p_val\":\n",
    "        0.07,\n",
    "    \"something extra\":\n",
    "        \"Our neutrino time is defined as the first event above bg\"\n",
    "}\n",
    "```\n",
    "\n",
    "```bash \n",
    "user:~$ snews_pt observation_file.json\n",
    "```"
   ]
  },
  {
   "cell_type": "code",
   "execution_count": null,
   "metadata": {},
   "outputs": [],
   "source": [
    "# json_message = SNEWSTiersPublisher.from_json(\"observation_file.json\")\n",
    "# json_message.send_to_snews()"
   ]
  },
  {
   "cell_type": "markdown",
   "metadata": {},
   "source": [
    "## Heartbeats"
   ]
  },
  {
   "cell_type": "markdown",
   "metadata": {},
   "source": [
    "SNEWS tracks several time informations with different meanings and purposes; <br>\n",
    "- `neutrino_time` : this is used for searching coincidences and refers to exact time of the first neutrino detection <br>\n",
    "- `machine_time` : this is an optional argument to indicate the time labeled by the machine, ideally for the observation message this would be the same as the neutrino time. Howeever, for the heartbeat messages it should be the time that detector heartbeat was checked. \n",
    "- `sent_time` : this is added by the `SNEWSTierPublisher().send_to_snews()` upon execution. We use this information for latency measurements. <br>\n",
    "\n",
    "On the server side, we also label messages by their `received_time` which allows us (for example for the heartbeats) to calculate the latency between the time detector checks their status, the time they actually send it, and the time we receive it at the server.  "
   ]
  },
  {
   "cell_type": "code",
   "execution_count": null,
   "metadata": {},
   "outputs": [],
   "source": [
    "# simply create a message for the heartbeat\n",
    "msg_hb = SNEWSTiersPublisher(detector_status=\"ON\")"
   ]
  },
  {
   "cell_type": "markdown",
   "metadata": {},
   "source": [
    "Initially, the `sent_time` is set to current time i.e. same as `machine_time` however, when the message is sent, it is overwritten with the exact time at the time of execution."
   ]
  },
  {
   "cell_type": "code",
   "execution_count": null,
   "metadata": {},
   "outputs": [],
   "source": [
    "msg_hb.messages[0]"
   ]
  },
  {
   "cell_type": "code",
   "execution_count": null,
   "metadata": {},
   "outputs": [],
   "source": [
    "msg_hb.send_to_snews()"
   ]
  },
  {
   "cell_type": "markdown",
   "metadata": {},
   "source": [
    "### Heartbeat CLI \n",
    "\n",
    "```bash \n",
    "user:~$ snews_pt heartbeat --status ON --time \"2023-02-06T10:40:59.675226\"\n",
    "```\n",
    "where the `--time` refers to `machine_time` and is optional. (By default it is set equal to `sent_time` which is stamped upon execution)."
   ]
  },
  {
   "cell_type": "markdown",
   "metadata": {},
   "source": [
    "## Other features"
   ]
  },
  {
   "cell_type": "markdown",
   "metadata": {},
   "source": [
    "We try to provide some more tools that are convenient for the user such as testing the connection and requesting feedback on their last 24 hour heartbeat status. <br>\n",
    "The `test_connection` function injects a message into the stream with your detector name and current time, also labels itself as `\"status\":\"sending\"`. If you have a connection to the server (and the server is actually running), it should be received, understood, and new message should be created with the same properties except this time `\"status\":\"confirmed\"` as its label. This time server injects this into the stream, and on the user's end this message is searched for. If the `test_connection` finds this message in the stream within pre-set time, it informs the user that the connection was established."
   ]
  },
  {
   "cell_type": "code",
   "execution_count": null,
   "metadata": {
    "scrolled": true
   },
   "outputs": [],
   "source": [
    "test_connection()"
   ]
  },
  {
   "cell_type": "code",
   "execution_count": null,
   "metadata": {},
   "outputs": [],
   "source": [
    "# now I start the server and test again\n",
    "test_connection()"
   ]
  },
  {
   "cell_type": "markdown",
   "metadata": {},
   "source": [
    "### Request Feedback"
   ]
  },
  {
   "cell_type": "markdown",
   "metadata": {},
   "source": [
    "At the server we keep the heartbeats in several different files. At any given time, the records of the last 24 hours is kept. Every day, the heartbeats of a given day is also stored separately and deleted after 7 days. <br>\n",
    "Authorized users can request feedback on their heartbeats within the last 24hours. This selects the data belonging to your experiment and computes some statistics regarding the status, arrival times and latencies and sends an email to your requested address(es) **only if** those emails are already registered by us under that experiment.   <br>\n",
    "This way, we prevent non-member and non-authorized people from accessing the heartbeat information of another experiment."
   ]
  },
  {
   "cell_type": "code",
   "execution_count": null,
   "metadata": {},
   "outputs": [],
   "source": [
    "get_feedback(detector_name=\"XENONnT\", email_address=\"kara@kit.edu\")"
   ]
  },
  {
   "cell_type": "markdown",
   "metadata": {
    "pycharm": {
     "name": "#%% md\n"
    }
   },
   "source": [
    "## Bonus, integrating your custom scripts"
   ]
  },
  {
   "cell_type": "markdown",
   "metadata": {
    "pycharm": {
     "name": "#%% md\n"
    }
   },
   "source": [
    "If you have a follow-up script which uses the alert content and does more calculations, you can plug this script to subscribe function\n",
    "```bash\n",
    "snews_pt subscribe -p mycustomscript.py\n",
    "```\n",
    "\n",
    "> The `mycustomscript.py` should contain \n",
    "> ```python\n",
    "> import sys, json\n",
    "> data = json.load(open(sys.argv[1]))\n",
    "> ``` \n",
    "> then the `data` contains the alert content as a dictionary object."
   ]
  },
  {
   "cell_type": "markdown",
   "metadata": {},
   "source": [
    "---\n",
    "# Fire Drill"
   ]
  },
  {
   "cell_type": "markdown",
   "metadata": {},
   "source": [
    "Now let's run a fire drill together. \n",
    "- 1. Test your connection\n",
    "- 2. Open a separate notebook and start sending heartbeats"
   ]
  },
  {
   "cell_type": "code",
   "execution_count": null,
   "metadata": {},
   "outputs": [],
   "source": [
    "from snews_pt.remote_commands import test_connection\n",
    "from snews_pt.snews_pub import SNEWSTiersPublisher"
   ]
  },
  {
   "cell_type": "code",
   "execution_count": null,
   "metadata": {},
   "outputs": [],
   "source": [
    "test_connection()"
   ]
  },
  {
   "cell_type": "code",
   "execution_count": null,
   "metadata": {},
   "outputs": [],
   "source": [
    "import time\n",
    "for i in range(7):\n",
    "    time.sleep(2)\n",
    "    msg = SNEWSTiersPublisher(detector_status='ON', firedrill_mode=True) \n",
    "    msg.send_to_snews()"
   ]
  },
  {
   "cell_type": "markdown",
   "metadata": {},
   "source": [
    "- 3. Create an observation message for your detector based on the times given below"
   ]
  },
  {
   "cell_type": "markdown",
   "metadata": {},
   "source": [
    "```json\n",
    "{\"JUNO\": {\"neutrino_time\": \"2023-02-07T12:00:00.000000\"}}, \n",
    "{\"HK\": {\"neutrino_time\": \"2023-02-07T12:00:00.001076\"}}, \n",
    "{\"KL\": {\"neutrino_time\": \"2023-02-07T12:00:00.001090\"}}, \n",
    "{\"SK\": {\"neutrino_time\": \"2023-02-07T12:00:00.001090\"}}, \n",
    "{\"PandaX-4T\": {\"neutrino_time\": \"2023-02-07T12:00:00.002390\"}}, \n",
    "{\"Baksan\": {\"neutrino_time\": \"2023-02-07T12:00:00.018629\"}}, \n",
    "{\"IC\": {\"neutrino_time\": \"2023-02-07T12:00:00.023424\"}}, \n",
    "{\"LVD\": {\"neutrino_time\": \"2023-02-07T12:00:00.026127\"}}, \n",
    "{\"DS-20K\": {\"neutrino_time\": \"2023-02-07T12:00:00.026127\"},\n",
    "{\"Borexino\":{\"neutrino_time\": \"2023-02-07T12:00:00.026127\"}}, \n",
    "{\"XENONnT\": {\"neutrino_time\": \"2023-02-07T12:00:00.026127\"}}\n",
    "{\"KM3\": {\"neutrino_time\": \"2023-02-07T12:00:00.026338\"}},\n",
    "{\"NOvA\": {\"neutrino_time\": \"2023-02-07T12:00:00.028417\"}}, \n",
    "{\"HALO-1kT\": {\"neutrino_time\": \"2023-02-07T12:00:00.030543\"}}, \n",
    "{\"SNOP\": {\"neutrino_time\": \"2023-02-07T12:00:00.030543\"}}, \n",
    "{\"SBND\": {\"neutrino_time\": \"2023-02-07T12:00:00.030548\"}}, \n",
    "{\"DUNE\": {\"neutrino_time\": \"2023-02-07T12:00:00.030548\"}}, \n",
    "{\"LZ\": {\"neutrino_time\": \"2023-02-07T12:00:00.030548\"}}, \n",
    "{\"MicroBooNe\": {\"neutrino_time\": \"2023-02-07T12:00:00.030548\"}}\n",
    "```"
   ]
  },
  {
   "cell_type": "markdown",
   "metadata": {},
   "source": [
    "These times should point to the candidate star Alf Ori at <br>RA: 88.79292 deg<br>\n",
    "DEC: 7.40706 deg"
   ]
  },
  {
   "cell_type": "code",
   "execution_count": null,
   "metadata": {},
   "outputs": [],
   "source": [
    "msg = SNEWSTiersPublisher(neutrino_time=\"\", is_test=True, firedrill_mode=True)"
   ]
  },
  {
   "cell_type": "markdown",
   "metadata": {},
   "source": [
    "- 4. On a separate notebook or a terminal subscribe to the alerts\n",
    "```bash\n",
    " user:~$ snews_pt subscribe\n",
    "```\n",
    "or \n",
    "\n",
    "```python\n",
    "from snews_pt.snews_sub import Subscriber\n",
    "Subscriber().subscribe()\n",
    "```"
   ]
  },
  {
   "cell_type": "markdown",
   "metadata": {},
   "source": [
    "- 5. send your observation to snews"
   ]
  },
  {
   "cell_type": "code",
   "execution_count": null,
   "metadata": {},
   "outputs": [],
   "source": [
    "msg.send_to_snews()"
   ]
  },
  {
   "cell_type": "code",
   "execution_count": null,
   "metadata": {},
   "outputs": [],
   "source": []
  }
 ],
 "metadata": {
  "kernelspec": {
   "display_name": "snews",
   "language": "python",
   "name": "snews"
  },
  "language_info": {
   "codemirror_mode": {
    "name": "ipython",
    "version": 3
   },
   "file_extension": ".py",
   "mimetype": "text/x-python",
   "name": "python",
   "nbconvert_exporter": "python",
   "pygments_lexer": "ipython3",
   "version": "3.9.7"
  },
  "vscode": {
   "interpreter": {
    "hash": "f581a8651b7bc0666f0167af942e3b60152ddbb51a5d7dbac8fd8281a3c56e84"
   }
  }
 },
 "nbformat": 4,
 "nbformat_minor": 1
}
