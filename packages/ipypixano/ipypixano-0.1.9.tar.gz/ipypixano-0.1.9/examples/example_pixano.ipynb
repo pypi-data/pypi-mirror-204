{
 "cells": [
  {
   "cell_type": "markdown",
   "id": "52ce0e4f",
   "metadata": {},
   "source": [
    "# Ipypixano Jupyter widget\n",
    "\n",
    "\n",
    "\n",
    "ipypixano Jupyter widget exposes the 2D elements of Pixano Elements in a jupyter notebook. \n",
    "\n",
    "Pixano Elements itself is a library of web components dedicated to data annotation task. \n",
    "\n",
    "https://github.com/pixano/pixano-elements\n",
    "\n",
    "Currently the following items are available:\n",
    "\n",
    "* pxn-rectangle\n",
    "* pxn-polygon\n",
    "* pxn-graph\n",
    "* pxn-segmentation\n",
    "* pxn-smart-rectangle\n",
    "* pxn-smart-segmentation\n",
    "* pxn-smart-segmentation-python\n",
    "\n",
    "\n",
    "\n",
    "To use ipypixano , just install it with pip\n",
    "\n",
    "\n",
    "\n",
    "```\n",
    "pip install ipypixano\n",
    "```\n",
    "\n",
    "This notebook presents how to create elements, configure them and how to retrieve annotations data on the python side.\n"
   ]
  },
  {
   "cell_type": "code",
   "execution_count": 1,
   "id": "1bfc25e5",
   "metadata": {},
   "outputs": [],
   "source": [
    "from  ipypixano import Pixano\n",
    "\n",
    "\n",
    "import json\n",
    "from ipywidgets import VBox,Text,Layout,Box\n",
    "from PIL import Image as pImage\n"
   ]
  },
  {
   "cell_type": "markdown",
   "id": "54487060",
   "metadata": {},
   "source": [
    "For now the package has some limitations and undesirable behaviors:\n",
    "\n",
    "Keyboard shortcuts used in pixano elements are always active even outside the cell displaying the element. For example,  the 'm', 'p' and 'h' keys will respectively darken, lighten and hide/show the annotations in the element. \n",
    "\n",
    "Similarly ctr-C and ctr-V will copy the annotations or the segmentation mask when they are used (in this case use the copy/paste from the context menu displayed by the right mouse button).\n",
    "\n",
    "Moreover, if the same element is displayed twice, the annotations are lost when the second element is displayed.\n"
   ]
  },
  {
   "cell_type": "markdown",
   "id": "e9bae04f",
   "metadata": {},
   "source": [
    "## Element creation : \n",
    "```\n",
    "pixano_widget=Pixano(element,image,label_schema)\n",
    "```\n",
    "* 'element' : the type of element to create (see list above)\n",
    "* 'image' : the image to display, image can be a filename (regardless of its location on your disk), a url, a numpy array or an Image loaded by PIL\n",
    "* label_schema : the descriptions of the annotations categories : name, color, and optionaly properties (see below).For segmentation task you must set the category index (idx) and if it uses instance mode."
   ]
  },
  {
   "cell_type": "code",
   "execution_count": 2,
   "id": "a902f519",
   "metadata": {},
   "outputs": [],
   "source": [
    "\n",
    "my_schema_seg={\n",
    "  'category': \n",
    "     [ \n",
    "      {'name': 'person', 'color': '#405b4e',  'idx': 1, 'instance': True,'properties': []},\n",
    "      {'name': 'bicycle', 'color': '#045e79', 'idx': 2, 'instance': True,'properties': []},\n",
    "      {'name': 'car', 'color': '#b4ca52', 'idx': 3, 'instance': True,'properties': []},\n",
    "      {'name': 'motorcycle', 'color': '#2a2072', 'idx': 4, 'instance': True,'properties': []},\n",
    "      {'name': 'airplane', 'color': '#f0e229', 'idx': 5, 'instance': True,'properties': []},\n",
    "      {'name': 'bus', 'color': '#0b5c13', 'idx': 6, 'instance': True,'properties': []},\n",
    "      {'name': 'train', 'color': '#a593bb', 'idx': 7, 'instance': True,'properties': []},\n",
    "      {'name': 'truck', 'color': '#0da178', 'idx': 8, 'instance': True,'properties': []},\n",
    "      {'name': 'boat', 'color': '#63ab56', 'idx': 9, 'instance': False,'properties': []},\n",
    "      {'name': 'traffic light', 'color': '#db6e77', 'idx': 10, 'instance': False,'properties': []},  \n",
    "     ]\n",
    "}\n",
    "\n",
    "my_schema_graph={'vertex_names':['1','2','3'],\n",
    "                 'edges':[[0, 1], [1, 2]]\n",
    "                                 }\n",
    "my_schema_shape={\n",
    "    'category':\n",
    "            [ {'name': 'car', 'color': '#3c6127', 'properties': [{\"name\": 'occluded',    \"type\": 'checkbox' , \"default\": False }] },\n",
    "              {'name': 'bicycle', 'color': '#89c2bc', 'properties': [{ \"name\": 'model type', \"type\": 'dropdown' , \"enum\": ['toyota', 'chery', 'ford'], \"default\": 'toyota' }]},\n",
    "              {'name': 'person', 'color': '#971ad2', 'properties': [{ \"name\": 'color',      \"type\": 'textfield', \"default\": 'gray' }]},\n",
    "              {'name': 'motorcycle', 'color': '#e7e8d1', 'properties': []},\n",
    "              {'name': 'airplane', 'color': '#df753a', 'properties': []},\n",
    "              {'name': 'bus', 'color': '#075c52', 'properties': []},\n",
    "              {'name': 'train', 'color': '#a0da30', 'properties': []},\n",
    "              {'name': 'truck', 'color': '#7b0915', 'properties': []},\n",
    "              {'name': 'boat', 'color': '#2567cd', 'properties': []},\n",
    "              {'name': 'traffic sign', 'color': '#928520', 'properties': []},\n",
    "              {'name': 'fire hydrant', 'color': '#459511', 'properties': []},\n",
    "              {'name': 'stop sign', 'color': '#80e278', 'properties': []}]}"
   ]
  },
  {
   "cell_type": "code",
   "execution_count": 3,
   "id": "54f96f40",
   "metadata": {
    "scrolled": false
   },
   "outputs": [
    {
     "data": {
      "application/vnd.jupyter.widget-view+json": {
       "model_id": "9578e918feaf4ed58044f9d021e9662b",
       "version_major": 2,
       "version_minor": 0
      },
      "text/plain": [
       "Pixano(annotations_input=[0], element='pxn-rectangle', image='/9j/4AAQSkZJRgABAQAAAQABAAD/2wCEAAoHBwgHBgoICAgL…"
      ]
     },
     "execution_count": 3,
     "metadata": {},
     "output_type": "execute_result"
    }
   ],
   "source": [
    "w_rect = Pixano(element='rectangle',image='image.jpg',label_schema=my_schema_shape)\n",
    "\n",
    "w_rect"
   ]
  },
  {
   "cell_type": "code",
   "execution_count": 4,
   "id": "6899372a",
   "metadata": {},
   "outputs": [
    {
     "data": {
      "text/plain": [
       "[]"
      ]
     },
     "execution_count": 4,
     "metadata": {},
     "output_type": "execute_result"
    }
   ],
   "source": [
    "annotations=w_rect.annotations\n",
    "annotations"
   ]
  },
  {
   "cell_type": "code",
   "execution_count": 5,
   "id": "3573afed",
   "metadata": {},
   "outputs": [],
   "source": [
    "w_rect.setAnnotations(annotations)"
   ]
  },
  {
   "cell_type": "markdown",
   "id": "24537c45",
   "metadata": {},
   "source": [
    "### Loading Annotations"
   ]
  },
  {
   "cell_type": "code",
   "execution_count": 4,
   "id": "a78644b9",
   "metadata": {},
   "outputs": [],
   "source": [
    "w_rect.load(\"annotations_shape_cars.json\")"
   ]
  },
  {
   "cell_type": "markdown",
   "id": "d5ca2284",
   "metadata": {},
   "source": [
    "### Getting Annotations\n",
    "\n",
    "Annotations are accesible via the annotations widget's attribute "
   ]
  },
  {
   "cell_type": "code",
   "execution_count": 5,
   "id": "47d8caf4",
   "metadata": {},
   "outputs": [
    {
     "data": {
      "text/plain": [
       "[{'id': '0.oe3gp9ab1tj',\n",
       "  'geometry': {'vertices': [0.36796875,\n",
       "    0.21666666666666667,\n",
       "    0.509375,\n",
       "    0.4013888888888889],\n",
       "   'type': 'rectangle'},\n",
       "  'category': 'traffic sign',\n",
       "  'options': {},\n",
       "  'color': '#928520'},\n",
       " {'id': '0.p78qnvymhch',\n",
       "  'geometry': {'vertices': [0.553125,\n",
       "    0.22916666666666666,\n",
       "    0.69453125,\n",
       "    0.40694444444444444],\n",
       "   'type': 'rectangle'},\n",
       "  'category': 'traffic sign',\n",
       "  'options': {},\n",
       "  'color': '#928520'},\n",
       " {'id': '0.4t9erth91t',\n",
       "  'geometry': {'vertices': [0.5140625, 0.4111111111111111, 0.5484375, 0.625],\n",
       "   'type': 'rectangle'},\n",
       "  'category': 'traffic sign',\n",
       "  'options': {},\n",
       "  'color': '#928520'}]"
      ]
     },
     "execution_count": 5,
     "metadata": {},
     "output_type": "execute_result"
    }
   ],
   "source": [
    "w_rect.annotations"
   ]
  },
  {
   "cell_type": "markdown",
   "id": "b5ef58ac",
   "metadata": {},
   "source": [
    "### Setting annotations\n",
    "\n",
    "Annotations can be set from python by using the setAnnotations method.\n",
    "\n",
    "Modify the objects caterogies to see changes in the pixano widget.\n",
    "\n",
    "Be careful, no validation checking is made when the list is passed to the widget. Annotations that do not respect the label schema may leads to aberrant results"
   ]
  },
  {
   "cell_type": "code",
   "execution_count": 6,
   "id": "88341d1b",
   "metadata": {},
   "outputs": [],
   "source": [
    "w_rect.setAnnotations([{'id': '0.oe3gp9ab1tj',\n",
    "  'geometry': {'vertices': [0.36796875,\n",
    "    0.21666666666666667,\n",
    "    0.509375,\n",
    "    0.4013888888888889],\n",
    "   'type': 'rectangle'},\n",
    "  'category': 'traffic sign',\n",
    "  'options': {}},\n",
    " {'id': '0.p78qnvymhch',\n",
    "  'geometry': {'vertices': [0.553125,\n",
    "    0.22916666666666666,\n",
    "    0.69453125,\n",
    "    0.40694444444444444],\n",
    "   'type': 'rectangle'},\n",
    "  'category': 'airplane',\n",
    "  'options': {}},\n",
    " {'id': '0.4t9erth91t',\n",
    "  'geometry': {'vertices': [0.5140625, 0.4111111111111111, 0.5484375, 0.625],\n",
    "   'type': 'rectangle'},\n",
    "  'category': 'traffic sign',\n",
    "  'options': {}}])"
   ]
  },
  {
   "cell_type": "markdown",
   "id": "bc5a834c",
   "metadata": {},
   "source": [
    "### Saving Annotations\n",
    "\n",
    "The annotations can be directly saved to disk in json format"
   ]
  },
  {
   "cell_type": "code",
   "execution_count": 7,
   "id": "ad0ba788",
   "metadata": {},
   "outputs": [],
   "source": [
    "w_rect.save(\"annotations_shape_cars_modified.json\")"
   ]
  },
  {
   "cell_type": "markdown",
   "id": "e85cefa3",
   "metadata": {},
   "source": [
    "Then the annotations can be loaded directly from files and set in pixano\n",
    "\n"
   ]
  },
  {
   "cell_type": "code",
   "execution_count": 12,
   "id": "5eb79431",
   "metadata": {
    "scrolled": false
   },
   "outputs": [
    {
     "data": {
      "application/vnd.jupyter.widget-view+json": {
       "model_id": "1e1cb76dab61457cbb52a101201a35fc",
       "version_major": 2,
       "version_minor": 0
      },
      "text/plain": [
       "Pixano(annotations_input=[0], element='pxn-rectangle', image='iVBORw0KGgoAAAANSUhEUgAABQAAAALQCAIAAABAH0oBAAEA…"
      ]
     },
     "metadata": {},
     "output_type": "display_data"
    }
   ],
   "source": [
    "import cv2\n",
    "im=cv2.imread(\"image.jpg\")[:,:,::-1]\n",
    "w_rect2 = Pixano(element='pxn-rectangle',image=im,label_schema=my_schema_shape)\n",
    "    \n",
    "display(w_rect2)\n",
    "\n",
    "with open(\"annotations_shape_cars.json\",\"r\") as f:\n",
    "    annotations=json.load(f)\n",
    "    \n",
    "w_rect2.setAnnotations(annotations)\n",
    "\n",
    "\n"
   ]
  },
  {
   "cell_type": "markdown",
   "id": "224ebdb5",
   "metadata": {},
   "source": [
    "-------\n",
    "\n",
    "## Segmentation task \n",
    "\n",
    "\n",
    "---"
   ]
  },
  {
   "cell_type": "code",
   "execution_count": 13,
   "id": "0496b0e8",
   "metadata": {
    "scrolled": true
   },
   "outputs": [
    {
     "data": {
      "application/vnd.jupyter.widget-view+json": {
       "model_id": "d128b3f6e4f34a3f95887f7508d2074d",
       "version_major": 2,
       "version_minor": 0
      },
      "text/plain": [
       "Pixano(annotations_input=[0], element='pxn-segmentation', image='iVBORw0KGgoAAAANSUhEUgAABkAAAAH0CAIAAADqknYdA…"
      ]
     },
     "execution_count": 13,
     "metadata": {},
     "output_type": "execute_result"
    }
   ],
   "source": [
    "import cv2\n",
    "img=cv2.imread(\"traffic.jpg\")[:,:,::-1]\n",
    "w_seg = Pixano(element='pxn-segmentation',image=img,label_schema=my_schema_seg)\n",
    "w_seg"
   ]
  },
  {
   "cell_type": "markdown",
   "id": "f848dfa4",
   "metadata": {},
   "source": [
    "### Get segmentation mask as numpy array"
   ]
  },
  {
   "cell_type": "code",
   "execution_count": 15,
   "id": "da19adc4",
   "metadata": {},
   "outputs": [],
   "source": [
    "w_seg.getMask()"
   ]
  },
  {
   "cell_type": "markdown",
   "id": "c0e5bfe0",
   "metadata": {},
   "source": [
    "### Saving annotations"
   ]
  },
  {
   "cell_type": "code",
   "execution_count": 58,
   "id": "972c4ecb",
   "metadata": {},
   "outputs": [],
   "source": [
    "w_seg.save(\"annotations_segmentation.json\")"
   ]
  },
  {
   "cell_type": "markdown",
   "id": "38391721",
   "metadata": {},
   "source": [
    "### loading annotations"
   ]
  },
  {
   "cell_type": "code",
   "execution_count": 16,
   "id": "60e738dc",
   "metadata": {},
   "outputs": [
    {
     "name": "stdout",
     "output_type": "stream",
     "text": [
      "isinstance(new_annotations,dict) False\n"
     ]
    }
   ],
   "source": [
    "with open(\"annotations_segmentation.json\",\"r\") as f:\n",
    "    annotations=json.load(f)\n",
    "w_seg.setAnnotations(annotations)\n"
   ]
  },
  {
   "cell_type": "markdown",
   "id": "13d59edb",
   "metadata": {},
   "source": [
    "### Getting segmentations mask\n",
    "\n",
    "\n",
    "\n",
    "Segmentation annotations are returned as a mask in ndarray format using the getMask() method."
   ]
  },
  {
   "cell_type": "code",
   "execution_count": 61,
   "id": "94de5778",
   "metadata": {},
   "outputs": [
    {
     "name": "stdout",
     "output_type": "stream",
     "text": [
      "Mask shape (500, 1600, 4)\n",
      "Mask unique values : [0 2]\n"
     ]
    },
    {
     "data": {
      "image/png": "[encoded data removed]",
      "text/plain": [
       "<PIL.Image.Image image mode=L size=1600x500 at 0x7F4666D47880>"
      ]
     },
     "execution_count": 61,
     "metadata": {},
     "output_type": "execute_result"
    }
   ],
   "source": [
    "\n",
    "mask=w_seg.getMask()\n",
    "\n",
    "# for each pixel we got 4 values : [idx, indice_instance_1, indice_instance_2, 255]\n",
    "print(\"Mask shape\",mask.shape)\n",
    "print(\"Mask unique values :\",np.unique(mask[:,:,0]))\n",
    "\n",
    "pImage.fromarray(mask[:,:,0]*20)"
   ]
  },
  {
   "cell_type": "markdown",
   "id": "980cd977",
   "metadata": {},
   "source": [
    "### Segmentation mask modification \n",
    "\n",
    "Here we change the wrong category (bicycle:2) of an object to the correct one (car:3) "
   ]
  },
  {
   "cell_type": "code",
   "execution_count": 62,
   "id": "97fae716",
   "metadata": {},
   "outputs": [
    {
     "name": "stdout",
     "output_type": "stream",
     "text": [
      "Mask unique values : [0 3]\n"
     ]
    },
    {
     "data": {
      "image/png": "[encoded data removed]",
      "text/plain": [
       "<PIL.Image.Image image mode=L size=1600x500 at 0x7F4666D44970>"
      ]
     },
     "execution_count": 62,
     "metadata": {},
     "output_type": "execute_result"
    }
   ],
   "source": [
    "mask_2=np.copy(mask)\n",
    "mask_idx=mask_2[:,:,0]\n",
    "mask_idx[mask_idx==2]=3\n",
    "w_seg.setMask(mask_2)\n",
    "\n",
    "print(\"Mask unique values :\",np.unique(mask_2[:,:,0]))\n",
    "\n",
    "pImage.fromarray(mask_2[:,:,0]*20)\n"
   ]
  },
  {
   "cell_type": "markdown",
   "id": "3fbb8783",
   "metadata": {},
   "source": [
    "### Modification verification"
   ]
  },
  {
   "cell_type": "code",
   "execution_count": 63,
   "id": "1c45c01d",
   "metadata": {},
   "outputs": [
    {
     "name": "stdout",
     "output_type": "stream",
     "text": [
      "Mask shape: (500, 1600, 4)\n",
      "Mask unique values : [0 3]\n"
     ]
    },
    {
     "data": {
      "image/png": "[encoded data removed]",
      "text/plain": [
       "<PIL.Image.Image image mode=L size=1600x500 at 0x7F4665F5A830>"
      ]
     },
     "execution_count": 63,
     "metadata": {},
     "output_type": "execute_result"
    }
   ],
   "source": [
    "\n",
    "mask_verif=w_seg.getMask()\n",
    "\n",
    "# for each pixel we got 4 values : [idx, indice_instance_1, indice_instance_2, 255]\n",
    "print(\"Mask shape:\",mask_verif.shape)\n",
    "print(\"Mask unique values :\",np.unique(mask_verif[:,:,0]))\n",
    "\n",
    "pImage.fromarray(im_verif[:,:,0]*20)"
   ]
  },
  {
   "cell_type": "markdown",
   "id": "544dc421",
   "metadata": {},
   "source": [
    "# Observe changes\n",
    "\n",
    "The following example shows how to observe changes on ```annotations``` and ```selectedIds```  and call functions displaying the list of annotations and selected items.\n",
    "\n",
    "Create somes annotations and  select them to see changes displayed below the element."
   ]
  },
  {
   "cell_type": "code",
   "execution_count": 42,
   "id": "640a40f6",
   "metadata": {
    "scrolled": false
   },
   "outputs": [
    {
     "data": {
      "application/vnd.jupyter.widget-view+json": {
       "model_id": "c6540f774ee1478d99dd1157ebc5163a",
       "version_major": 2,
       "version_minor": 0
      },
      "text/plain": [
       "VBox(children=(Pixano(annotations_input=[0], element='pxn-smart-rectangle', image='/9j/4AAQSkZJRgABAQAAAQABAAD…"
      ]
     },
     "execution_count": 42,
     "metadata": {},
     "output_type": "execute_result"
    }
   ],
   "source": [
    "from ipywidgets import Label,VBox,Output\n",
    "from IPython.display import clear_output\n",
    "\n",
    "mode=\"shape\"\n",
    "\n",
    "if mode==\"segmentation\":\n",
    "    w_pixano = Pixano(element='smart-segmentation',image='image.jpg',label_schema=my_schema_seg)\n",
    "else:\n",
    "    w_pixano = Pixano(element='pxn-smart-rectangle',image='image.jpg',label_schema=my_schema_shape)\n",
    "\n",
    "    \n",
    "out=Output()\n",
    "out2=Output()\n",
    "    \n",
    "def on_shapes_change(change):\n",
    "    with out:\n",
    "        clear_output(wait=True)\n",
    "        if  \"new\" in change:\n",
    "            print(\"Elements list :\")\n",
    "            annotations=change['new']\n",
    "            for s in annotations:\n",
    "                category=s['category']\n",
    "                vertices=s[\"geometry\"][\"vertices\"] \n",
    "                vertices_str=\",\".join(list(map(lambda x:\"{:.2f}\".format(x),vertices)))\n",
    "                print(\"ID: \"+s['id']+ \", Category : \"+category+\", Vertices :\"+vertices_str )    \n",
    "        else:\n",
    "            selected.value=\"Shape selected : None\"\n",
    "            \n",
    "def on_select_change(change):\n",
    "    with out2:\n",
    "        clear_output(wait=True)\n",
    "        if \"new\" in change:\n",
    "            print(\"Element selected :\",change['new'])\n",
    "            \n",
    "if mode==\"shape\":      \n",
    "    w_pixano.observe(on_shapes_change, names='annotations')\n",
    "    \n",
    "w_pixano.observe(on_select_change, names='selectedIds')\n",
    "\n",
    "VBox([w_pixano,out,out2])"
   ]
  },
  {
   "cell_type": "markdown",
   "id": "90469e59",
   "metadata": {},
   "source": [
    "# Custom smart segmentation\n",
    "\n",
    "With ```smart-segmentation-python``` element is it possible to set a custom smart segmentation funcntio in python by using ```prediction_function``` of Pixano\n",
    "\n",
    "This function has 2 arguments :\n",
    "- crop, an array containing the image crop selected in pixano,\n",
    "- roi an array containing the coordinates of the selected roi.\n",
    "\n",
    "This function must return a 2 dim uint8 array of the binary computed mask"
   ]
  },
  {
   "cell_type": "code",
   "execution_count": 7,
   "id": "02e577a5",
   "metadata": {},
   "outputs": [
    {
     "data": {
      "application/vnd.jupyter.widget-view+json": {
       "model_id": "0959bbdecf504abd8b8753444700d8a6",
       "version_major": 2,
       "version_minor": 0
      },
      "text/plain": [
       "Output()"
      ]
     },
     "metadata": {},
     "output_type": "display_data"
    },
    {
     "data": {
      "application/vnd.jupyter.widget-view+json": {
       "model_id": "9fbf5e224744449c94df232346667df0",
       "version_major": 2,
       "version_minor": 0
      },
      "text/plain": [
       "Pixano(annotations_input=[0], element='pxn-smart-segmentation-python', image='/9j/4AAQSkZJRgABAQAAAQABAAD/2wCE…"
      ]
     },
     "execution_count": 7,
     "metadata": {},
     "output_type": "execute_result"
    }
   ],
   "source": [
    "from u2net import *\n",
    "import torch\n",
    "from torchvision import transforms\n",
    "import numpy as np\n",
    "from ipywidgets import Output\n",
    "net = U2NETP(3,1)\n",
    "\n",
    "state_dict=torch.load(\"u2netp.pth\",map_location='cpu')\n",
    "net.load_state_dict(state_dict)\n",
    "if torch.cuda.is_available():    net.cuda()\n",
    "net=net.eval();\n",
    "img_size=256\n",
    "norm=transforms.Normalize(mean = (0.485, 0.456, 0.406), std = (0.229, 0.224, 0.225))\n",
    "toTensor=transforms.ToTensor()\n",
    "\n",
    "out=Output()\n",
    "@out.capture()\n",
    "def predict(crop,roi):\n",
    "    h,w=crop.shape[:2]\n",
    "    image_in=cv2.resize(crop,(img_size,img_size),cv2.INTER_LINEAR)\n",
    "    image_torch=toTensor(image_in)\n",
    "    image_torch=norm(image_torch).unsqueeze(0)\n",
    "    with torch.no_grad():\n",
    "        output,*_ =net(image_torch)\n",
    "        output=output.numpy()\n",
    "        output=cv2.resize(output[0],(w,h),cv2.INTER_LINEAR)\n",
    "        output=(output>0.5).astype(np.uint8)\n",
    "        return output\n",
    "        \n",
    "w_pixano = Pixano(element='smart-segmentation-python',image='image.jpg',label_schema=my_schema_seg)\n",
    "w_pixano.predict_function=predict\n",
    "display(out)\n",
    "w_pixano"
   ]
  },
  {
   "cell_type": "code",
   "execution_count": null,
   "id": "2211e86e",
   "metadata": {},
   "outputs": [],
   "source": []
  }
 ],
 "metadata": {
  "hide_input": false,
  "kernelspec": {
   "display_name": "ipyemail",
   "language": "python",
   "name": "ipyemail"
  },
  "language_info": {
   "codemirror_mode": {
    "name": "ipython",
    "version": 3
   },
   "file_extension": ".py",
   "mimetype": "text/x-python",
   "name": "python",
   "nbconvert_exporter": "python",
   "pygments_lexer": "ipython3",
   "version": "3.10.2"
  },
  "toc": {
   "base_numbering": 1,
   "nav_menu": {},
   "number_sections": false,
   "sideBar": true,
   "skip_h1_title": false,
   "title_cell": "Table of Contents",
   "title_sidebar": "Contents",
   "toc_cell": false,
   "toc_position": {},
   "toc_section_display": true,
   "toc_window_display": false
  },
  "varInspector": {
   "cols": {
    "lenName": 16,
    "lenType": 16,
    "lenVar": 40
   },
   "kernels_config": {
    "python": {
     "delete_cmd_postfix": "",
     "delete_cmd_prefix": "del ",
     "library": "var_list.py",
     "varRefreshCmd": "print(var_dic_list())"
    },
    "r": {
     "delete_cmd_postfix": ") ",
     "delete_cmd_prefix": "rm(",
     "library": "var_list.r",
     "varRefreshCmd": "cat(var_dic_list()) "
    }
   },
   "types_to_exclude": [
    "module",
    "function",
    "builtin_function_or_method",
    "instance",
    "_Feature"
   ],
   "window_display": false
  }
 },
 "nbformat": 4,
 "nbformat_minor": 5
}
