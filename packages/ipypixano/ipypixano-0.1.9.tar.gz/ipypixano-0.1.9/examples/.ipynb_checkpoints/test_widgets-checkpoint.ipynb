{
 "cells": [
  {
   "cell_type": "code",
   "execution_count": null,
   "id": "fc53ba44",
   "metadata": {},
   "outputs": [],
   "source": [
    "import ipyemail\n",
    "import os"
   ]
  },
  {
   "cell_type": "code",
   "execution_count": null,
   "id": "ed3a7e0e",
   "metadata": {},
   "outputs": [],
   "source": [
    "img_list=os.listdir(\"/home/nallezard/dev/sofia/swav/dataset/Images\")\n",
    "img_list=[\"/home/nallezard/dev/sofia/swav/dataset/Images/\"+f for f in img_list]"
   ]
  },
  {
   "cell_type": "code",
   "execution_count": null,
   "id": "cc8f8338",
   "metadata": {},
   "outputs": [],
   "source": [
    "#ipyemail.Caroussel(images_list=img_list)"
   ]
  },
  {
   "cell_type": "code",
   "execution_count": null,
   "id": "86a2306d",
   "metadata": {
    "scrolled": false
   },
   "outputs": [],
   "source": [
    "from ipywidgets import Layout, Button, VBox, Label,Box,Output,HBox\n",
    "from ipywidgets import Image as ipyImage\n",
    "from ipyevents import Event\n",
    "from IPython.display import clear_output\n",
    "first_image=0\n",
    "big_image=ipyImage(layout=Layout( object_fit='contain',height='500px'))\n",
    "out=Output(layout=Layout( width='auto')   )\n",
    "\n",
    "items=[]\n",
    "\n",
    "def on_click_image(event):\n",
    "    class_name=event['target']['className']\n",
    "    indice=class_name.split(\" \")[-1]\n",
    "    with out:\n",
    "        clear_output(wait=True)\n",
    "        print(first_image,indice,img_list[int(indice)+first_image])\n",
    "        file = open(img_list[int(indice)+first_image], \"rb\")\n",
    "        image_data = file.read()\n",
    "        big_image.value=image_data\n",
    "        \n",
    "for i,f in enumerate(img_list[:20]):\n",
    "    file = open(f, \"rb\")\n",
    "    image_data = file.read()\n",
    "    item_layout = Layout(object_fit='contain')\n",
    "\n",
    "    im_widget=ipyImage(value=image_data, format='jpg',width=100,layout=item_layout,)\n",
    "    im_widget.add_class(str(i))\n",
    "\n",
    "    items +=[im_widget]\n",
    "    d = Event(source=items[i], watched_events=['click'])\n",
    "   \n",
    "    d.on_dom_event(on_click_image)\n",
    "\n",
    "    \n",
    "    \n",
    "carousel_layout = Layout(\n",
    "                    overflow='scroll hidden',\n",
    "#                     border='3px solid red',\n",
    "                    width='100%',\n",
    "                   \n",
    "                    #flex_flow='row',\n",
    "                    #display='flex'\n",
    "                        )\n",
    "\n",
    "carousel = Box(children=items, layout=carousel_layout)\n",
    "\n",
    "col_layout=Layout(#display='flex',\n",
    "                    flex_flow='column',\n",
    "                    align_items='center',\n",
    "                    border='solid',\n",
    "                    width='100%')\n",
    "\n",
    "\n",
    "button_prev=Button(description=\"Previous images\")\n",
    "def get_prev(a):\n",
    "    global first_image\n",
    "    first_image-=20\n",
    "    if first_image<0: first_image=0\n",
    "    for i in range(first_image,first_image+20):\n",
    "        file = open(img_list[i], \"rb\")\n",
    "        image_data = file.read()\n",
    "        items[i-first_image].value=image_data\n",
    "        \n",
    "button_prev.on_click(get_prev)\n",
    "\n",
    "button_next=Button(description=\"Next images\")\n",
    "def get_next(a):\n",
    "    global first_image\n",
    "    first_image+=20\n",
    "    if first_image>len(img_list)-20: first_image=len(img_list)-20\n",
    "    for i in range(first_image,first_image+20):\n",
    "        file = open(img_list[i], \"rb\")\n",
    "        image_data = file.read()\n",
    "        items[i-first_image].value=image_data\n",
    "        \n",
    "\n",
    "button_next.on_click(get_next)\n",
    "\n",
    "Box(children=[carousel,HBox(children=[button_prev,button_next]),out,big_image],layout=col_layout)"
   ]
  },
  {
   "cell_type": "code",
   "execution_count": null,
   "id": "93022207",
   "metadata": {},
   "outputs": [],
   "source": [
    "from ipywidgets import HTML\n",
    "\n",
    "l2 = HTML('''\n",
    "    <button id=eeny class=\"success special\">eeny</button>\n",
    "    <button id=meeny class=\"caution\">meeny</button>\n",
    "    <button id=miny>miny</button>\n",
    "    <button id=moe>moe</button>\n",
    "''')\n",
    "\n",
    "h2 = HTML('Event info')\n",
    "d2 = Event(source=l2, watched_events=['click'])\n",
    "\n",
    "def handle_event(event):\n",
    "    h2.value = (f\"You clicked a {event['target']['tagName']} with \"\n",
    "                f\"ID {event['target']['id']} \"\n",
    "                f\"and classes: {event['target']['className']}\")\n",
    "\n",
    "d2.on_dom_event(handle_event)\n",
    "\n",
    "display(l2, h2)"
   ]
  },
  {
   "cell_type": "code",
   "execution_count": null,
   "id": "987e859c",
   "metadata": {},
   "outputs": [],
   "source": [
    "items_layout = Layout( width='100px')     # override the default width of the button to 'auto' to let the button grow\n",
    "\n",
    "box_layout = Layout(display='flex',\n",
    "                    flex_flow='column',\n",
    "                    align_items='center',\n",
    "                    border='solid',\n",
    "                    width='50%')\n",
    "\n",
    "words = ['correct', 'horse', 'battery', 'staple']\n",
    "items=[Button(description=word,layout=items_layout, button_style='danger') for word in words]\n",
    "box = Box(children=items, layout=box_layout)\n",
    "box"
   ]
  },
  {
   "cell_type": "code",
   "execution_count": null,
   "id": "3618d51a",
   "metadata": {},
   "outputs": [],
   "source": [
    "l = Label('Click or type on me!')\n",
    "l.description='titi'\n",
    "l.id='toto'\n",
    "\n",
    "l.layout.border = '2px solid red'\n",
    "\n",
    "h = HTML('Event info')\n",
    "d = Event(source=l, watched_events=['click'])\n",
    "def handle_event(event):\n",
    "    #print(event)\n",
    "    lines = ['{}: {}'.format(k, v) for k, v in event.items()]\n",
    "    content = '<br>'.join(lines)\n",
    "    h.value = content\n",
    "\n",
    "d.on_dom_event(handle_event)\n",
    "\n",
    "display(l, h)"
   ]
  },
  {
   "cell_type": "code",
   "execution_count": null,
   "id": "86fe48b9",
   "metadata": {},
   "outputs": [],
   "source": [
    "from ipywidgets import Image\n",
    "from IPython.display import display, Javascript\n",
    "im = Image(value=open(filename, 'rb').read())\n",
    "im.add_class('the_image_class')\n",
    "\n",
    "def on_image_click():\n",
    "    #do something....\n",
    "    return \n",
    "\n",
    "#Now, I wrote some javascript(jQuery) code like this...\n",
    "js = ''' $(\".the_image_class\").on(\"click\", function(e){\n",
    "             var kernel = IPython.notebook.kernel;\n",
    "             kernel.execute(\"on_image_click()\");\n",
    "          });'''\n",
    "\n",
    "#then, run the javascript...\n",
    "display(Javascript(js))"
   ]
  },
  {
   "cell_type": "code",
   "execution_count": 1,
   "id": "95a8f400",
   "metadata": {
    "scrolled": false
   },
   "outputs": [
    {
     "data": {
      "application/vnd.jupyter.widget-view+json": {
       "model_id": "a6372f6998994a9e829244ae0c74aaf8",
       "version_major": 2,
       "version_minor": 0
      },
      "text/plain": [
       "Image(value=b'\\xff\\xd8\\xff\\xe0\\x00\\x10JFIF\\x00\\x01\\x01\\x01\\x00H\\x00H\\x00\\x00\\xff\\xdb\\x00C\\x00\\x06\\x04\\x04\\x05\\…"
      ]
     },
     "metadata": {},
     "output_type": "display_data"
    },
    {
     "data": {
      "application/javascript": [
       "\n",
       "console.log(\"hello\",document.querySelector(\".the_image_class\"))\n",
       "var kernel = IPython.notebook.kernel;\n",
       "$(\".the_image_class\").on(\"click\", function(e){\n",
       "             var kernel = IPython.notebook.kernel;\n",
       "             kernel.execute(\"on_image_click()\");\n",
       "          });"
      ],
      "text/plain": [
       "<IPython.core.display.Javascript object>"
      ]
     },
     "metadata": {},
     "output_type": "display_data"
    },
    {
     "data": {
      "application/vnd.jupyter.widget-view+json": {
       "model_id": "5ada36ecef2d4cb3844e04ae94300666",
       "version_major": 2,
       "version_minor": 0
      },
      "text/plain": [
       "Output()"
      ]
     },
     "metadata": {},
     "output_type": "display_data"
    }
   ],
   "source": [
    "from ipywidgets import Image,Output\n",
    "from IPython.display import display, Javascript\n",
    "import threading\n",
    "import time\n",
    "\n",
    "im = Image(value=open('traffic.jpg', 'rb').read())\n",
    "im.add_class('the_image_class')\n",
    "\n",
    "out=Output()\n",
    "with out:\n",
    "    print(\"wait\")\n",
    "    \n",
    "def on_image_click():\n",
    "    with out:\n",
    "        print(\"click\")\n",
    "\n",
    "def job():\n",
    "    display(im)\n",
    "    time.sleep(0.2)\n",
    "    \n",
    "t = threading.Thread(target=job)\n",
    "t.start()\n",
    "t.join()\n",
    "#Now, I wrote some javascript(jQuery) code like this...\n",
    "js = '''\n",
    "console.log(\"hello\",document.querySelector(\".the_image_class\"))\n",
    "var kernel = IPython.notebook.kernel;\n",
    "$(\".the_image_class\").on(\"click\", function(e){\n",
    "             var kernel = IPython.notebook.kernel;\n",
    "             kernel.execute(\"on_image_click()\");\n",
    "          });'''\n",
    "\n",
    "#then, run the javascript...\n",
    "display(Javascript(js))\n",
    "display(out)"
   ]
  },
  {
   "cell_type": "code",
   "execution_count": 1,
   "id": "8857cb79",
   "metadata": {},
   "outputs": [
    {
     "data": {
      "text/plain": [
       "'9.0.0.post1'"
      ]
     },
     "execution_count": 1,
     "metadata": {},
     "output_type": "execute_result"
    }
   ],
   "source": [
    "import cv2\n",
    "from PIL import Image as pImage\n",
    "import PIL\n",
    "PIL.__version__\n",
    "im_p=pImage.open(\"image.jpg\")\n",
    "im_c=cv2.imread('image.jpg')\n"
   ]
  },
  {
   "cell_type": "code",
   "execution_count": 9,
   "id": "47971403",
   "metadata": {},
   "outputs": [
    {
     "name": "stdout",
     "output_type": "stream",
     "text": [
      "CPU times: user 492 ms, sys: 62 ms, total: 554 ms\n",
      "Wall time: 201 ms\n"
     ]
    }
   ],
   "source": [
    "%%time \n",
    "for i in range(10):\n",
    "    im2=cv2.resize(im_c,(4000,4000),interpolation=cv2.INTER_CUBIC)"
   ]
  },
  {
   "cell_type": "code",
   "execution_count": 8,
   "id": "754e1689",
   "metadata": {},
   "outputs": [
    {
     "name": "stdout",
     "output_type": "stream",
     "text": [
      "CPU times: user 292 ms, sys: 83 ms, total: 375 ms\n",
      "Wall time: 381 ms\n"
     ]
    }
   ],
   "source": [
    "%%time \n",
    "for i in range(10):\n",
    "    im3=im_p.resize((4000,4000),PIL.Image.BICUBIC)"
   ]
  },
  {
   "cell_type": "code",
   "execution_count": 4,
   "id": "deca627e",
   "metadata": {},
   "outputs": [
    {
     "data": {
      "application/vnd.jupyter.widget-view+json": {
       "model_id": "c89cdd8b402e4e808cd93af22570da7c",
       "version_major": 2,
       "version_minor": 0
      },
      "text/plain": [
       "GridBox(children=(Button(description='Header', layout=Layout(grid_area='header', width='auto'), style=ButtonSt…"
      ]
     },
     "metadata": {},
     "output_type": "display_data"
    }
   ],
   "source": [
    "from ipywidgets import GridBox,ButtonStyle,Button,Layout\n",
    "\n",
    "header  = Button(description='Header',\n",
    "                 layout=Layout(width='auto', grid_area='header'),\n",
    "                 style=ButtonStyle(button_color='lightblue'))\n",
    "main    = Button(description='Main',\n",
    "                 layout=Layout(width='auto', grid_area='main',height='500px'),\n",
    "                 style=ButtonStyle(button_color='moccasin'))\n",
    "sidebar = Button(description='Sidebar',\n",
    "                 layout=Layout(width='auto', grid_area='sidebar'),\n",
    "                 style=ButtonStyle(button_color='salmon'))\n",
    "footer  = Button(description='Footer',\n",
    "                 layout=Layout(width='auto', grid_area='footer'),\n",
    "                 style=ButtonStyle(button_color='olive'))\n",
    "\n",
    "GridBox(children=[header, main, sidebar, footer],\n",
    "        layout=Layout(\n",
    "            width='50%',\n",
    "            heigth='600px',\n",
    "            grid_template_rows='auto auto auto',\n",
    "            grid_template_columns='25% 25% 25% 25%',\n",
    "            grid_template_areas='''\n",
    "            \"header header header header\"\n",
    "            \"main main main sidebar\"\n",
    "            \"main main main sidebar\"\n",
    "            \"footer footer footer footer\"\n",
    "            ''')\n",
    "       )"
   ]
  },
  {
   "cell_type": "code",
   "execution_count": null,
   "id": "8df1306d",
   "metadata": {},
   "outputs": [],
   "source": []
  }
 ],
 "metadata": {
  "hide_input": false,
  "kernelspec": {
   "display_name": "ipyemail",
   "language": "python",
   "name": "ipyemail"
  },
  "language_info": {
   "codemirror_mode": {
    "name": "ipython",
    "version": 3
   },
   "file_extension": ".py",
   "mimetype": "text/x-python",
   "name": "python",
   "nbconvert_exporter": "python",
   "pygments_lexer": "ipython3",
   "version": "3.10.2"
  },
  "toc": {
   "base_numbering": 1,
   "nav_menu": {},
   "number_sections": true,
   "sideBar": true,
   "skip_h1_title": false,
   "title_cell": "Table of Contents",
   "title_sidebar": "Contents",
   "toc_cell": false,
   "toc_position": {},
   "toc_section_display": true,
   "toc_window_display": false
  },
  "varInspector": {
   "cols": {
    "lenName": 16,
    "lenType": 16,
    "lenVar": 40
   },
   "kernels_config": {
    "python": {
     "delete_cmd_postfix": "",
     "delete_cmd_prefix": "del ",
     "library": "var_list.py",
     "varRefreshCmd": "print(var_dic_list())"
    },
    "r": {
     "delete_cmd_postfix": ") ",
     "delete_cmd_prefix": "rm(",
     "library": "var_list.r",
     "varRefreshCmd": "cat(var_dic_list()) "
    }
   },
   "types_to_exclude": [
    "module",
    "function",
    "builtin_function_or_method",
    "instance",
    "_Feature"
   ],
   "window_display": false
  }
 },
 "nbformat": 4,
 "nbformat_minor": 5
}
