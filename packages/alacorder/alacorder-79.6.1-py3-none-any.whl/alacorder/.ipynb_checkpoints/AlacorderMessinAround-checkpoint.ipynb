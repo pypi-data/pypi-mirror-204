{
 "cells": [
  {
   "cell_type": "code",
   "execution_count": 11,
   "id": "59cd07f0-f27c-47e9-8c8c-a00455679fc2",
   "metadata": {
    "collapsed": true,
    "jupyter": {
     "outputs_hidden": true
    },
    "tags": []
   },
   "outputs": [
    {
     "name": "stdout",
     "output_type": "stream",
     "text": [
      "Requirement already satisfied: alacorder in /opt/homebrew/Cellar/jupyterlab/3.6.2/libexec/lib/python3.11/site-packages (79.5.8)\n",
      "Collecting itables\n",
      "  Using cached itables-1.5.2-py3-none-any.whl (198 kB)\n",
      "Requirement already satisfied: PyMuPDF<2.0.0,>=1.21.1 in /opt/homebrew/Cellar/jupyterlab/3.6.2/libexec/lib/python3.11/site-packages (from alacorder) (1.22.1)\n",
      "Requirement already satisfied: PySimpleGUI<5.0.0,>=4.60.4 in /opt/homebrew/Cellar/jupyterlab/3.6.2/libexec/lib/python3.11/site-packages (from alacorder) (4.60.4)\n",
      "Requirement already satisfied: XlsxWriter<4.0.0,>=3.0.9 in /opt/homebrew/Cellar/jupyterlab/3.6.2/libexec/lib/python3.11/site-packages (from alacorder) (3.1.0)\n",
      "Requirement already satisfied: click<9.0.0,>=8.1.3 in /opt/homebrew/lib/python3.11/site-packages (from alacorder) (8.1.3)\n",
      "Requirement already satisfied: polars<0.17.0,>=0.16.16 in /opt/homebrew/Cellar/jupyterlab/3.6.2/libexec/lib/python3.11/site-packages (from alacorder) (0.16.18)\n",
      "Requirement already satisfied: selenium<5.0.0,>=4.8.3 in /opt/homebrew/Cellar/jupyterlab/3.6.2/libexec/lib/python3.11/site-packages (from alacorder) (4.9.0)\n",
      "Requirement already satisfied: tqdm<5.0.0,>=4.65.0 in /opt/homebrew/Cellar/jupyterlab/3.6.2/libexec/lib/python3.11/site-packages (from alacorder) (4.65.0)\n",
      "Requirement already satisfied: xlsx2csv<0.9.0,>=0.8.1 in /opt/homebrew/Cellar/jupyterlab/3.6.2/libexec/lib/python3.11/site-packages (from alacorder) (0.8.1)\n",
      "Requirement already satisfied: IPython in /opt/homebrew/opt/ipython/libexec/lib/python3.11/site-packages (from itables) (8.11.0)\n",
      "Requirement already satisfied: pandas in /opt/homebrew/lib/python3.11/site-packages (from itables) (1.5.3)\n",
      "Requirement already satisfied: numpy in /opt/homebrew/lib/python3.11/site-packages (from itables) (1.24.2)\n",
      "Requirement already satisfied: urllib3[socks]~=1.26 in /opt/homebrew/Cellar/jupyterlab/3.6.2/libexec/lib/python3.11/site-packages (from selenium<5.0.0,>=4.8.3->alacorder) (1.26.15)\n",
      "Requirement already satisfied: trio~=0.17 in /opt/homebrew/lib/python3.11/site-packages (from selenium<5.0.0,>=4.8.3->alacorder) (0.22.0)\n",
      "Requirement already satisfied: trio-websocket~=0.9 in /opt/homebrew/lib/python3.11/site-packages (from selenium<5.0.0,>=4.8.3->alacorder) (0.9.2)\n",
      "Requirement already satisfied: certifi>=2021.10.8 in /opt/homebrew/Cellar/jupyterlab/3.6.2/libexec/lib/python3.11/site-packages (from selenium<5.0.0,>=4.8.3->alacorder) (2022.12.7)\n",
      "Requirement already satisfied: backcall in /opt/homebrew/opt/ipython/libexec/lib/python3.11/site-packages (from IPython->itables) (0.2.0)\n",
      "Requirement already satisfied: decorator in /opt/homebrew/opt/ipython/libexec/lib/python3.11/site-packages (from IPython->itables) (5.1.1)\n",
      "Requirement already satisfied: jedi>=0.16 in /opt/homebrew/opt/ipython/libexec/lib/python3.11/site-packages (from IPython->itables) (0.18.2)\n",
      "Requirement already satisfied: matplotlib-inline in /opt/homebrew/opt/ipython/libexec/lib/python3.11/site-packages (from IPython->itables) (0.1.6)\n",
      "Requirement already satisfied: pickleshare in /opt/homebrew/opt/ipython/libexec/lib/python3.11/site-packages (from IPython->itables) (0.7.5)\n",
      "Requirement already satisfied: prompt-toolkit!=3.0.37,<3.1.0,>=3.0.30 in /opt/homebrew/opt/ipython/libexec/lib/python3.11/site-packages (from IPython->itables) (3.0.38)\n",
      "Requirement already satisfied: pygments>=2.4.0 in /opt/homebrew/Cellar/pygments/2.14.0/libexec/lib/python3.11/site-packages (from IPython->itables) (2.14.0)\n",
      "Requirement already satisfied: stack-data in /opt/homebrew/opt/ipython/libexec/lib/python3.11/site-packages (from IPython->itables) (0.6.2)\n",
      "Requirement already satisfied: traitlets>=5 in /opt/homebrew/opt/ipython/libexec/lib/python3.11/site-packages (from IPython->itables) (5.9.0)\n",
      "Requirement already satisfied: pexpect>4.3 in /opt/homebrew/opt/ipython/libexec/lib/python3.11/site-packages (from IPython->itables) (4.8.0)\n",
      "Requirement already satisfied: appnope in /opt/homebrew/opt/ipython/libexec/lib/python3.11/site-packages (from IPython->itables) (0.1.3)\n",
      "Requirement already satisfied: python-dateutil>=2.8.1 in /opt/homebrew/Cellar/jupyterlab/3.6.2/libexec/lib/python3.11/site-packages (from pandas->itables) (2.8.2)\n",
      "Requirement already satisfied: pytz>=2020.1 in /opt/homebrew/lib/python3.11/site-packages (from pandas->itables) (2022.7.1)\n",
      "Requirement already satisfied: parso<0.9.0,>=0.8.0 in /opt/homebrew/opt/ipython/libexec/lib/python3.11/site-packages (from jedi>=0.16->IPython->itables) (0.8.3)\n",
      "Requirement already satisfied: ptyprocess>=0.5 in /opt/homebrew/opt/ipython/libexec/lib/python3.11/site-packages (from pexpect>4.3->IPython->itables) (0.7.0)\n",
      "Requirement already satisfied: wcwidth in /opt/homebrew/opt/ipython/libexec/lib/python3.11/site-packages (from prompt-toolkit!=3.0.37,<3.1.0,>=3.0.30->IPython->itables) (0.2.6)\n",
      "Requirement already satisfied: six>=1.5 in /opt/homebrew/opt/six/lib/python3.11/site-packages (from python-dateutil>=2.8.1->pandas->itables) (1.16.0)\n",
      "Requirement already satisfied: attrs>=19.2.0 in /opt/homebrew/Cellar/jupyterlab/3.6.2/libexec/lib/python3.11/site-packages (from trio~=0.17->selenium<5.0.0,>=4.8.3->alacorder) (22.2.0)\n",
      "Requirement already satisfied: sortedcontainers in /opt/homebrew/lib/python3.11/site-packages (from trio~=0.17->selenium<5.0.0,>=4.8.3->alacorder) (2.4.0)\n",
      "Requirement already satisfied: async-generator>=1.9 in /opt/homebrew/lib/python3.11/site-packages (from trio~=0.17->selenium<5.0.0,>=4.8.3->alacorder) (1.10)\n",
      "Requirement already satisfied: idna in /opt/homebrew/Cellar/jupyterlab/3.6.2/libexec/lib/python3.11/site-packages (from trio~=0.17->selenium<5.0.0,>=4.8.3->alacorder) (3.4)\n",
      "Requirement already satisfied: outcome in /opt/homebrew/lib/python3.11/site-packages (from trio~=0.17->selenium<5.0.0,>=4.8.3->alacorder) (1.2.0)\n",
      "Requirement already satisfied: sniffio in /opt/homebrew/Cellar/jupyterlab/3.6.2/libexec/lib/python3.11/site-packages (from trio~=0.17->selenium<5.0.0,>=4.8.3->alacorder) (1.3.0)\n",
      "Requirement already satisfied: wsproto>=0.14 in /opt/homebrew/lib/python3.11/site-packages (from trio-websocket~=0.9->selenium<5.0.0,>=4.8.3->alacorder) (1.2.0)\n",
      "Requirement already satisfied: PySocks!=1.5.7,<2.0,>=1.5.6 in /opt/homebrew/lib/python3.11/site-packages (from urllib3[socks]~=1.26->selenium<5.0.0,>=4.8.3->alacorder) (1.7.1)\n",
      "Requirement already satisfied: executing>=1.2.0 in /opt/homebrew/opt/ipython/libexec/lib/python3.11/site-packages (from stack-data->IPython->itables) (1.2.0)\n",
      "Requirement already satisfied: asttokens>=2.1.0 in /opt/homebrew/opt/ipython/libexec/lib/python3.11/site-packages (from stack-data->IPython->itables) (2.2.1)\n",
      "Requirement already satisfied: pure-eval in /opt/homebrew/opt/ipython/libexec/lib/python3.11/site-packages (from stack-data->IPython->itables) (0.2.2)\n",
      "Requirement already satisfied: h11<1,>=0.9.0 in /opt/homebrew/lib/python3.11/site-packages (from wsproto>=0.14->trio-websocket~=0.9->selenium<5.0.0,>=4.8.3->alacorder) (0.14.0)\n",
      "Installing collected packages: itables\n",
      "Successfully installed itables-1.5.2\n",
      "Note: you may need to restart the kernel to use updated packages.\n"
     ]
    }
   ],
   "source": [
    "pip install --upgrade alacorder itables"
   ]
  },
  {
   "cell_type": "code",
   "execution_count": 10,
   "id": "ef35d975-6aae-44e8-9139-4bfc9689b14f",
   "metadata": {
    "tags": []
   },
   "outputs": [],
   "source": [
    "import alac\n",
    "import polars as pl"
   ]
  },
  {
   "cell_type": "code",
   "execution_count": 12,
   "id": "f256c888-5167-4561-aa31-634a8250607f",
   "metadata": {
    "tags": []
   },
   "outputs": [],
   "source": [
    "a = alac.read(\"/Users/samuelrobson/Desktop/PyArrowArchive.parquet\")"
   ]
  },
  {
   "cell_type": "markdown",
   "id": "89c8f573-98ee-41c1-8ee7-b7e5aca561d8",
   "metadata": {},
   "source": [
    "a"
   ]
  },
  {
   "cell_type": "markdown",
   "id": "4b27ec78-d8fe-48ed-a1fe-61161fc688f4",
   "metadata": {},
   "source": []
  }
 ],
 "metadata": {
  "kernelspec": {
   "display_name": "Python 3 (ipykernel)",
   "language": "python",
   "name": "python3"
  },
  "language_info": {
   "codemirror_mode": {
    "name": "ipython",
    "version": 3
   },
   "file_extension": ".py",
   "mimetype": "text/x-python",
   "name": "python",
   "nbconvert_exporter": "python",
   "pygments_lexer": "ipython3",
   "version": "3.11.2"
  }
 },
 "nbformat": 4,
 "nbformat_minor": 5
}
