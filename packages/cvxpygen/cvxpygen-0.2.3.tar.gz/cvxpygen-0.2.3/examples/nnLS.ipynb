{
 "cells": [
  {
   "cell_type": "code",
   "execution_count": 13,
   "id": "36eba19a",
   "metadata": {},
   "outputs": [],
   "source": [
    "import cvxpy as cp\n",
    "import numpy as np\n",
    "import time"
   ]
  },
  {
   "cell_type": "code",
   "execution_count": 65,
   "id": "8e7dc5a8",
   "metadata": {},
   "outputs": [],
   "source": [
    "m, n = 30, 20\n",
    "y = cp.Variable(n)\n",
    "G = cp.Parameter((m, n))\n",
    "h = cp.Parameter(m)\n",
    "\n",
    "problem = cp.Problem(cp.Minimize(cp.sum_squares(G@y-h)), [y>=0])"
   ]
  },
  {
   "cell_type": "code",
   "execution_count": 66,
   "id": "8425ea1d",
   "metadata": {},
   "outputs": [
    {
     "data": {
      "text/plain": [
       "True"
      ]
     },
     "execution_count": 66,
     "metadata": {},
     "output_type": "execute_result"
    }
   ],
   "source": [
    "problem.is_dcp(dpp=True)"
   ]
  },
  {
   "cell_type": "code",
   "execution_count": 67,
   "id": "41ae2ee5",
   "metadata": {},
   "outputs": [],
   "source": [
    "N_rand = 100\n",
    "np.random.seed(0)\n",
    "\n",
    "time_chain = np.zeros(N_rand)\n",
    "time_ASA = np.zeros(N_rand)\n",
    "\n",
    "for i in range(N_rand):\n",
    "    \n",
    "    problem = cp.Problem(cp.Minimize(cp.sum_squares(G@y-h)), [y>=0])\n",
    "    \n",
    "    G.value = np.random.randn(m, n)\n",
    "    h.value = np.random.randn(m)\n",
    "    \n",
    "    t_0 = time.time()\n",
    "    problem.solve(warm_start=False)\n",
    "    t_1 = time.time()\n",
    "    problem.solve(warm_start=False)\n",
    "    t_2 = time.time()\n",
    "    \n",
    "    time_chain[i] = t_1-t_0\n",
    "    time_ASA[i] = t_2-t_1"
   ]
  },
  {
   "cell_type": "code",
   "execution_count": 68,
   "id": "30656775",
   "metadata": {},
   "outputs": [
    {
     "name": "stdout",
     "output_type": "stream",
     "text": [
      "Mean time with reduction chain = 22.424 ms\n",
      "Mean time with ASA-form = 2.768 ms\n"
     ]
    }
   ],
   "source": [
    "print('Mean time with reduction chain = %.3f ms' % (1000*np.mean(time_chain)))\n",
    "print('Mean time with ASA-form = %.3f ms' % (1000*np.mean(time_ASA)))"
   ]
  },
  {
   "cell_type": "code",
   "execution_count": 69,
   "id": "ce0e3463",
   "metadata": {},
   "outputs": [
    {
     "name": "stdout",
     "output_type": "stream",
     "text": [
      "Std time with reduction chain = 2.515 ms\n",
      "Std time with ASA-form = 0.433 ms\n"
     ]
    }
   ],
   "source": [
    "print('Std time with reduction chain = %.3f ms' % (1000*np.std(time_chain)))\n",
    "print('Std time with ASA-form = %.3f ms' % (1000*np.std(time_ASA)))"
   ]
  },
  {
   "cell_type": "code",
   "execution_count": null,
   "id": "60f83704",
   "metadata": {},
   "outputs": [],
   "source": []
  }
 ],
 "metadata": {
  "kernelspec": {
   "display_name": "test",
   "language": "python",
   "name": "test"
  },
  "language_info": {
   "codemirror_mode": {
    "name": "ipython",
    "version": 3
   },
   "file_extension": ".py",
   "mimetype": "text/x-python",
   "name": "python",
   "nbconvert_exporter": "python",
   "pygments_lexer": "ipython3",
   "version": "3.9.7"
  }
 },
 "nbformat": 4,
 "nbformat_minor": 5
}
