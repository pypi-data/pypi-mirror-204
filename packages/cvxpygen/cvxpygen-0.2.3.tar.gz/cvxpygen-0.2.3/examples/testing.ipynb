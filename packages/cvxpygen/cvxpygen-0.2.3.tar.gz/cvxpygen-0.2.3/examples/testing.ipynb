{
 "cells": [
  {
   "cell_type": "code",
   "execution_count": 63,
   "id": "ef8785b1",
   "metadata": {},
   "outputs": [],
   "source": [
    "import numpy as np\n",
    "import math"
   ]
  },
  {
   "cell_type": "code",
   "execution_count": 90,
   "id": "9bff7daa",
   "metadata": {},
   "outputs": [],
   "source": [
    "def maxTickets(tickets):\n",
    "    diff = np.diff(np.sort(np.array(tickets)))\n",
    "    m = 0\n",
    "    best_m = 0\n",
    "    for d in diff:\n",
    "        if d > 1:\n",
    "            m = 0\n",
    "        else:\n",
    "            m += 1\n",
    "            best_m = max(best_m, m)\n",
    "    return best_m+1"
   ]
  },
  {
   "cell_type": "code",
   "execution_count": 5,
   "id": "c01b117d",
   "metadata": {},
   "outputs": [
    {
     "data": {
      "text/plain": [
       "False"
      ]
     },
     "execution_count": 5,
     "metadata": {},
     "output_type": "execute_result"
    }
   ],
   "source": [
    "'('.isupper()"
   ]
  },
  {
   "cell_type": "code",
   "execution_count": 143,
   "id": "471d8123",
   "metadata": {},
   "outputs": [],
   "source": [
    "def P(n, k):\n",
    "    if k > n:\n",
    "        return 0\n",
    "    elif k == 1 or n == k:\n",
    "        return 1\n",
    "    else:\n",
    "        return P(n-k, k) + P(n-1, k-1)"
   ]
  },
  {
   "cell_type": "code",
   "execution_count": 139,
   "id": "1829ef95",
   "metadata": {},
   "outputs": [],
   "source": [
    "def ways(total, k):\n",
    "    n = 0\n",
    "    for i in range(total, int(np.ceil(total/k))-1, -1):\n",
    "        for r in range(1, i+1):\n",
    "            n += P(total-i, r)\n",
    "    return n"
   ]
  },
  {
   "cell_type": "code",
   "execution_count": 144,
   "id": "88664ef0",
   "metadata": {},
   "outputs": [],
   "source": [
    "def ways(total, k):\n",
    "    n = 0\n",
    "    for r in range(1, total+1):\n",
    "        n += P(total, r)\n",
    "    return n"
   ]
  },
  {
   "cell_type": "code",
   "execution_count": 145,
   "id": "3dbb0428",
   "metadata": {},
   "outputs": [
    {
     "data": {
      "text/plain": [
       "22"
      ]
     },
     "execution_count": 145,
     "metadata": {},
     "output_type": "execute_result"
    }
   ],
   "source": [
    "ways(8, 2)"
   ]
  },
  {
   "cell_type": "code",
   "execution_count": 135,
   "id": "e0bbf121",
   "metadata": {},
   "outputs": [],
   "source": [
    "def recursion(total, k):\n",
    "    if k < 2:\n",
    "        return k\n",
    "    n = total // k\n",
    "    base = n*[k]\n",
    "    if n*k != total:\n",
    "        base.append(total-n*k)\n",
    "    result = 1\n",
    "    for s in base:\n",
    "        result += recursion(s, s-1)\n",
    "    return result"
   ]
  },
  {
   "cell_type": "code",
   "execution_count": 136,
   "id": "02d4f65d",
   "metadata": {},
   "outputs": [
    {
     "data": {
      "text/plain": [
       "4"
      ]
     },
     "execution_count": 136,
     "metadata": {},
     "output_type": "execute_result"
    }
   ],
   "source": [
    "recursion(5, 4)"
   ]
  },
  {
   "cell_type": "code",
   "execution_count": 118,
   "id": "0434ff82",
   "metadata": {},
   "outputs": [],
   "source": [
    "def rec(n_bins, bin_size, to_distribute):\n",
    "    if n_bins == 1:\n",
    "        return to_distribute\n",
    "    else:\n",
    "        r_bar = min(bin_size, to_distribute)\n",
    "        num = 0\n",
    "        for r in range(r_bar+1):\n",
    "            num += rec(n_bins-1, bin_size, to_distribute-r)\n",
    "        return num"
   ]
  },
  {
   "cell_type": "code",
   "execution_count": 12,
   "id": "458290cf",
   "metadata": {},
   "outputs": [],
   "source": [
    "import cvxpy as cp\n",
    "\n",
    "n = 7\n",
    "x = cp.Variable(n)\n",
    "Psqrt = cp.Parameter((n, n))\n",
    "prob = cp.Problem(cp.Minimize(cp.sum_squares(Psqrt@x)), [x>= 0, x>=17])"
   ]
  },
  {
   "cell_type": "code",
   "execution_count": 19,
   "id": "e7c8efee",
   "metadata": {},
   "outputs": [],
   "source": [
    "test = [prob.constraints[i].dual_value for i in range(len(prob.constraints))]"
   ]
  },
  {
   "cell_type": "code",
   "execution_count": 14,
   "id": "8c18d3f4",
   "metadata": {},
   "outputs": [
    {
     "data": {
      "text/plain": [
       "array([0., 0., 0., 0., 0., 0., 0.])"
      ]
     },
     "execution_count": 14,
     "metadata": {},
     "output_type": "execute_result"
    }
   ],
   "source": [
    "prob.constraints[0].dual_value"
   ]
  },
  {
   "cell_type": "code",
   "execution_count": 24,
   "id": "34efb03d",
   "metadata": {},
   "outputs": [
    {
     "data": {
      "text/plain": [
       "array([  0.        ,   0.        ,   0.        ,   0.        ,\n",
       "         0.        ,   0.        ,   0.        ,   0.        ,\n",
       "       376.22598445, 376.97375667, 258.8139057 , 216.90998061,\n",
       "       222.90654101,   0.        ])"
      ]
     },
     "execution_count": 24,
     "metadata": {},
     "output_type": "execute_result"
    }
   ],
   "source": [
    "np.concatenate(test)"
   ]
  },
  {
   "cell_type": "code",
   "execution_count": 31,
   "id": "556a74ec",
   "metadata": {},
   "outputs": [
    {
     "data": {
      "text/plain": [
       "(1,)"
      ]
     },
     "execution_count": 31,
     "metadata": {},
     "output_type": "execute_result"
    }
   ],
   "source": [
    "np.atleast_1d(4).shape"
   ]
  },
  {
   "cell_type": "code",
   "execution_count": 13,
   "id": "e2a7696f",
   "metadata": {},
   "outputs": [
    {
     "data": {
      "text/plain": [
       "12340.556431793639"
      ]
     },
     "execution_count": 13,
     "metadata": {},
     "output_type": "execute_result"
    }
   ],
   "source": [
    "import numpy as np\n",
    "\n",
    "Psqrt.value = np.random.randn(n, n)\n",
    "prob.solve()"
   ]
  },
  {
   "cell_type": "code",
   "execution_count": 2,
   "id": "324b5e97",
   "metadata": {},
   "outputs": [
    {
     "ename": "ValueError",
     "evalue": "Cannot set more than one special attribute in Parameter.",
     "output_type": "error",
     "traceback": [
      "\u001b[0;31m---------------------------------------------------------------------------\u001b[0m",
      "\u001b[0;31mValueError\u001b[0m                                Traceback (most recent call last)",
      "\u001b[0;32m/var/folders/5j/ll5d2w110b34wlplmm4xdrh40000gn/T/ipykernel_49042/642664376.py\u001b[0m in \u001b[0;36m<module>\u001b[0;34m\u001b[0m\n\u001b[1;32m      2\u001b[0m \u001b[0;34m\u001b[0m\u001b[0m\n\u001b[1;32m      3\u001b[0m \u001b[0mx\u001b[0m \u001b[0;34m=\u001b[0m \u001b[0mcp\u001b[0m\u001b[0;34m.\u001b[0m\u001b[0mVariable\u001b[0m\u001b[0;34m(\u001b[0m\u001b[0;36m7\u001b[0m\u001b[0;34m)\u001b[0m\u001b[0;34m\u001b[0m\u001b[0;34m\u001b[0m\u001b[0m\n\u001b[0;32m----> 4\u001b[0;31m \u001b[0mA\u001b[0m \u001b[0;34m=\u001b[0m \u001b[0mcp\u001b[0m\u001b[0;34m.\u001b[0m\u001b[0mParameter\u001b[0m\u001b[0;34m(\u001b[0m\u001b[0;34m(\u001b[0m\u001b[0;36m7\u001b[0m\u001b[0;34m,\u001b[0m \u001b[0;36m7\u001b[0m\u001b[0;34m)\u001b[0m\u001b[0;34m,\u001b[0m \u001b[0msparsity\u001b[0m\u001b[0;34m=\u001b[0m\u001b[0;34m[\u001b[0m\u001b[0;34m(\u001b[0m\u001b[0;36m0\u001b[0m\u001b[0;34m,\u001b[0m \u001b[0;36m0\u001b[0m\u001b[0;34m)\u001b[0m\u001b[0;34m,\u001b[0m \u001b[0;34m(\u001b[0m\u001b[0;36m1\u001b[0m\u001b[0;34m,\u001b[0m \u001b[0;36m0\u001b[0m\u001b[0;34m)\u001b[0m\u001b[0;34m]\u001b[0m\u001b[0;34m,\u001b[0m \u001b[0mdiag\u001b[0m\u001b[0;34m=\u001b[0m\u001b[0;32mTrue\u001b[0m\u001b[0;34m)\u001b[0m\u001b[0;34m\u001b[0m\u001b[0;34m\u001b[0m\u001b[0m\n\u001b[0m\u001b[1;32m      5\u001b[0m \u001b[0;34m\u001b[0m\u001b[0m\n\u001b[1;32m      6\u001b[0m \u001b[0mproblem\u001b[0m \u001b[0;34m=\u001b[0m \u001b[0mcp\u001b[0m\u001b[0;34m.\u001b[0m\u001b[0mProblem\u001b[0m\u001b[0;34m(\u001b[0m\u001b[0mcp\u001b[0m\u001b[0;34m.\u001b[0m\u001b[0mMinimize\u001b[0m\u001b[0;34m(\u001b[0m\u001b[0mcp\u001b[0m\u001b[0;34m.\u001b[0m\u001b[0msum_squares\u001b[0m\u001b[0;34m(\u001b[0m\u001b[0mA\u001b[0m\u001b[0;34m@\u001b[0m\u001b[0mx\u001b[0m\u001b[0;34m)\u001b[0m\u001b[0;34m)\u001b[0m\u001b[0;34m,\u001b[0m \u001b[0;34m[\u001b[0m\u001b[0;34m]\u001b[0m\u001b[0;34m)\u001b[0m\u001b[0;34m\u001b[0m\u001b[0;34m\u001b[0m\u001b[0m\n",
      "\u001b[0;32m~/opt/anaconda3/envs/test/lib/python3.9/site-packages/cvxpy/expressions/constants/parameter.py\u001b[0m in \u001b[0;36m__init__\u001b[0;34m(self, shape, name, value, id, **kwargs)\u001b[0m\n\u001b[1;32m     55\u001b[0m         \u001b[0mself\u001b[0m\u001b[0;34m.\u001b[0m\u001b[0mdelta\u001b[0m \u001b[0;34m=\u001b[0m \u001b[0;32mNone\u001b[0m\u001b[0;34m\u001b[0m\u001b[0;34m\u001b[0m\u001b[0m\n\u001b[1;32m     56\u001b[0m         \u001b[0mself\u001b[0m\u001b[0;34m.\u001b[0m\u001b[0mgradient\u001b[0m \u001b[0;34m=\u001b[0m \u001b[0;32mNone\u001b[0m\u001b[0;34m\u001b[0m\u001b[0;34m\u001b[0m\u001b[0m\n\u001b[0;32m---> 57\u001b[0;31m         \u001b[0msuper\u001b[0m\u001b[0;34m(\u001b[0m\u001b[0mParameter\u001b[0m\u001b[0;34m,\u001b[0m \u001b[0mself\u001b[0m\u001b[0;34m)\u001b[0m\u001b[0;34m.\u001b[0m\u001b[0m__init__\u001b[0m\u001b[0;34m(\u001b[0m\u001b[0mshape\u001b[0m\u001b[0;34m,\u001b[0m \u001b[0mvalue\u001b[0m\u001b[0;34m,\u001b[0m \u001b[0;34m**\u001b[0m\u001b[0mkwargs\u001b[0m\u001b[0;34m)\u001b[0m\u001b[0;34m\u001b[0m\u001b[0;34m\u001b[0m\u001b[0m\n\u001b[0m\u001b[1;32m     58\u001b[0m         \u001b[0mself\u001b[0m\u001b[0;34m.\u001b[0m\u001b[0m_is_constant\u001b[0m \u001b[0;34m=\u001b[0m \u001b[0;32mTrue\u001b[0m\u001b[0;34m\u001b[0m\u001b[0;34m\u001b[0m\u001b[0m\n\u001b[1;32m     59\u001b[0m \u001b[0;34m\u001b[0m\u001b[0m\n",
      "\u001b[0;32m~/opt/anaconda3/envs/test/lib/python3.9/site-packages/cvxpy/expressions/leaf.py\u001b[0m in \u001b[0;36m__init__\u001b[0;34m(self, shape, value, nonneg, nonpos, complex, imag, symmetric, diag, PSD, NSD, hermitian, boolean, integer, sparsity, pos, neg)\u001b[0m\n\u001b[1;32m    132\u001b[0m             \u001b[0mtrue_attr\u001b[0m \u001b[0;34m-=\u001b[0m \u001b[0;36m1\u001b[0m\u001b[0;34m\u001b[0m\u001b[0;34m\u001b[0m\u001b[0m\n\u001b[1;32m    133\u001b[0m         \u001b[0;32mif\u001b[0m \u001b[0mtrue_attr\u001b[0m \u001b[0;34m>\u001b[0m \u001b[0;36m1\u001b[0m\u001b[0;34m:\u001b[0m\u001b[0;34m\u001b[0m\u001b[0;34m\u001b[0m\u001b[0m\n\u001b[0;32m--> 134\u001b[0;31m             raise ValueError(\"Cannot set more than one special attribute in %s.\"\n\u001b[0m\u001b[1;32m    135\u001b[0m                              % self.__class__.__name__)\n\u001b[1;32m    136\u001b[0m \u001b[0;34m\u001b[0m\u001b[0m\n",
      "\u001b[0;31mValueError\u001b[0m: Cannot set more than one special attribute in Parameter."
     ]
    }
   ],
   "source": [
    "import cvxpy as cp\n",
    "\n",
    "x = cp.Variable(7)\n",
    "A = cp.Parameter((7, 7), sparsity=[(0, 0), (1, 0)], diag=True)\n",
    "\n",
    "problem = cp.Problem(cp.Minimize(cp.sum_squares(A@x)), [])"
   ]
  },
  {
   "cell_type": "code",
   "execution_count": null,
   "id": "e8daa1cd",
   "metadata": {},
   "outputs": [],
   "source": []
  }
 ],
 "metadata": {
  "kernelspec": {
   "display_name": "test",
   "language": "python",
   "name": "test"
  },
  "language_info": {
   "codemirror_mode": {
    "name": "ipython",
    "version": 3
   },
   "file_extension": ".py",
   "mimetype": "text/x-python",
   "name": "python",
   "nbconvert_exporter": "python",
   "pygments_lexer": "ipython3",
   "version": "3.9.7"
  }
 },
 "nbformat": 4,
 "nbformat_minor": 5
}
