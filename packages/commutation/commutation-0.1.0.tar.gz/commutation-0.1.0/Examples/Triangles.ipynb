{
 "cells": [
  {
   "cell_type": "code",
   "execution_count": 1,
   "id": "d28a802a-d3ac-4a40-a98b-388788a9b49a",
   "metadata": {},
   "outputs": [],
   "source": [
    "from SpinTrain import *\n",
    "\n",
    "Nz = Operator('N','S^z_{N}')\n",
    "az = [Operator('a%d'%i, 'S^z_{a%d}'%i) for i in range(3)]\n",
    "bz = [Operator('b%d'%i, 'S^z_{b%d}'%i) for i in range(3)]\n",
    "cz = [Operator('c%d'%i, 'S^z_{c%d}'%i) for i in range(3)]\n",
    "nz = [Operator('n%d'%i, 'S^z_{n%d}'%i) for i in range(3)]\n",
    "\n",
    "a_up = [Operator('a⁺%d'%i, 'S^+_{a%d}'%i) for i in range(3)]\n",
    "a_dn = [Operator('a⁻%d'%i, 'S^-_{a%d}'%i) for i in range(3)]\n",
    "\n",
    "ca = CommutatorAlgebra()\n",
    "\n",
    "def define_spinalg(plus, minus, z):\n",
    "    ca.set_commutator(plus, minus)(2*z)\n",
    "    ca.set_commutator(z, plus)( plus )\n",
    "    ca.set_commutator(z, minus)( -1*minus )\n",
    "\n",
    "for i in range(3):\n",
    "    define_spinalg(a_up[i],a_dn[i], az[i])\n",
    "    ca.add_operator(bz[i])\n",
    "    ca.add_operator(nz[i])\n",
    "    ca.add_operator(cz[i])\n",
    "    \n",
    "    \n",
    "ca.add_operator(Nz)"
   ]
  },
  {
   "cell_type": "code",
   "execution_count": 2,
   "id": "da36a0a0-9729-4a1a-9254-a957df5c26b5",
   "metadata": {},
   "outputs": [],
   "source": [
    "# define the Z objects\n",
    "\n",
    "bond_zetas = [Operator('ζ%d'%i,r'\\zeta_%d'%i,scalar=True) for i in range(3)]\n",
    "bond_zetas_bar = [Operator('ζb%d'%i,r'\\zeta_%d^*'%i,scalar=True) for i in range(3)]\n",
    "\n",
    "KA = Operator('KA','K_A',scalar=True)\n",
    "KB = Operator('KB','K_B',scalar=True)\n",
    "\n",
    "def conjugate_zetas(x):\n",
    "    repl = []\n",
    "    for i in range(3):\n",
    "        repl.append((bond_zetas[i], bond_zetas_bar[i]))\n",
    "        repl.append((bond_zetas_bar[i], bond_zetas[i]))\n",
    "    return x.replaceall(*repl)\n",
    "\n",
    "\n",
    "Z = [0,0,0]\n",
    "\n",
    "for i in range(3):\n",
    "    ip = (i+1)%3\n",
    "    ipp = (i+2)%3\n",
    "    Z[i] = KA*(bond_zetas[i]*Nz + bond_zetas[ip]* az[ipp] + bond_zetas[ipp]*az[ip]) + KB*(bond_zetas[i]*nz[i] + bond_zetas[ip]*cz[i] + bond_zetas[ipp]*bz[i])"
   ]
  },
  {
   "cell_type": "code",
   "execution_count": 3,
   "id": "ecc4c887-0cde-4aa1-83c4-c2384a17c593",
   "metadata": {},
   "outputs": [],
   "source": [
    "\n",
    "\n",
    "def shift_ops_right(x):\n",
    "    x.move_scalars()\n",
    "    for i in range(3):\n",
    "        ca.move_right(x,az[i])\n",
    "        ca.move_right(x,bz[i])\n",
    "        ca.move_right(x,cz[i])\n",
    "        ca.move_right(x,nz[i])\n",
    "    \n",
    "    ca.move_right(x,Nz)\n",
    "    \n",
    "    for i in range(3):\n",
    "        ca.move_right(x,a_up[i])\n",
    "        ca.move_right(x,a_dn[i])\n",
    "    x.collect()\n",
    "    \n",
    "    \n",
    "def shift_zs_left(x):\n",
    "    for i in range(3):\n",
    "        ca.move_left(x,az[i])\n",
    "        ca.move_left(x,bz[i])\n",
    "        ca.move_left(x,cz[i])\n",
    "        ca.move_left(x,nz[i])\n",
    "        \n",
    "    for i in range(3):\n",
    "        ca.move_left(x,Zs[i])\n",
    "        ca.move_left(x,Zs_bar[i])\n",
    "\n",
    "    \n",
    "    ca.move_left(x,Nz)\n",
    "    order_scalars(x)\n",
    "    x.collect()\n",
    "        \n",
    "def order_scalars(x):\n",
    "    canon_order = [KA,KB] + bond_zetas + bond_zetas_bar\n",
    "    for s in reversed(canon_order):\n",
    "        ca.move_left(x, s)\n",
    "\n",
    "        \n",
    "        \n",
    "        \n",
    "# build a new commutator database for only the ladders and the Z's\n",
    "\n",
    "def calc_commutator(x1, x2):\n",
    "    x = x1*x2 + x2 * x1 * -1\n",
    "    order_scalars(x)\n",
    "    shift_ops_right(x)\n",
    "    x.collect()\n",
    "    return x\n",
    "\n",
    "    \n",
    "    \n",
    "# define the **symbolic** z's and zbars\n",
    "Zs = [Operator('Z%d'%i,'Z_{a%d}'%i) for i in range(3)]\n",
    "Zs_bar = [Operator('Z_bar%d'%i,'Z^*_{a%d}'%i) for i in range(3)]\n",
    "\n",
    "for i in range(3):\n",
    "    for j in range(3):\n",
    "        # re-express the knowledge in terms of symbol Zs\n",
    "        ca.set_commutator(Zs[j], a_up[i])(calc_commutator(Z[j],a_up[i]))\n",
    "        ca.set_commutator(Zs[j], a_dn[i])(calc_commutator(Z[j],a_dn[i]))\n",
    "        \n",
    "        ca.set_commutator(Zs_bar[j], a_up[i])(calc_commutator(conjugate_zetas(Z[j]),a_up[i]))\n",
    "        ca.set_commutator(Zs_bar[j], a_dn[i])(calc_commutator(conjugate_zetas(Z[j]),a_dn[i]))\n",
    "        \n",
    "        \n",
    "        assert calc_commutator(Z[i],az[i]) == 0\n",
    "        assert calc_commutator(conjugate_zetas(Z[i]),az[i]) == 0"
   ]
  },
  {
   "cell_type": "code",
   "execution_count": 4,
   "id": "2b2d9c5a-4e75-4823-b69a-e0be48f304e1",
   "metadata": {},
   "outputs": [],
   "source": [
    "sides = []\n",
    "\n",
    "for i in range(3):\n",
    "    ip = (i+1)%3\n",
    "    ipp = (i+2)%3\n",
    "    \n",
    "    h12 = a_up[ip]*a_dn[i]\n",
    "    kp = Zs[i]*a_up[i]\n",
    "    km = Zs_bar[ip]*a_dn[ip]\n",
    "    part = h12*kp*km + km*h12*kp + kp*km*h12 + h12*km*kp + km*kp*h12 + kp*h12*km\n",
    "    \n",
    "    h12 = a_dn[ip]*a_up[i]\n",
    "    kp = Zs_bar[i]*a_dn[i]\n",
    "    km = Zs[ip]*a_up[ip]\n",
    "    part += h12*kp*km + km*h12*kp + kp*km*h12 + h12*km*kp + km*kp*h12 + kp*h12*km\n",
    "    \n",
    "    sides.append(part)\n",
    "#     order_scalars(sides[i])\n",
    "    shift_zs_left(sides[i])\n",
    "\n",
    "    "
   ]
  },
  {
   "cell_type": "code",
   "execution_count": 5,
   "id": "cda3e843-eeb5-4afd-9e9b-e39ae42ff2bd",
   "metadata": {},
   "outputs": [
    {
     "data": {
      "text/latex": [
       "$+1 Z^*_{a1} Z_{a0} S^+_{a1} S^-_{a0} S^+_{a0} S^-_{a1} +1 Z^*_{a1} Z_{a0} S^-_{a1} S^+_{a1} S^-_{a0} S^+_{a0} +1 Z^*_{a1} Z_{a0} S^+_{a0} S^-_{a1} S^+_{a1} S^-_{a0} +1 Z^*_{a1} Z_{a0} S^+_{a1} S^-_{a0} S^-_{a1} S^+_{a0} +1 Z^*_{a1} Z_{a0} S^-_{a1} S^+_{a0} S^+_{a1} S^-_{a0} +1 Z^*_{a1} Z_{a0} S^+_{a0} S^+_{a1} S^-_{a0} S^-_{a1} +1 Z_{a1} Z^*_{a0} S^-_{a1} S^+_{a0} S^-_{a0} S^+_{a1} +1 Z_{a1} Z^*_{a0} S^+_{a1} S^-_{a1} S^+_{a0} S^-_{a0} +1 Z_{a1} Z^*_{a0} S^-_{a0} S^+_{a1} S^-_{a1} S^+_{a0} +1 Z_{a1} Z^*_{a0} S^-_{a1} S^+_{a0} S^+_{a1} S^-_{a0} +1 Z_{a1} Z^*_{a0} S^+_{a1} S^-_{a0} S^-_{a1} S^+_{a0} +1 Z_{a1} Z^*_{a0} S^-_{a0} S^-_{a1} S^+_{a0} S^+_{a1} -1 K_A \\zeta_2 Z^*_{a1} S^+_{a1} S^-_{a0} S^+_{a0} S^-_{a1} +1 K_A \\zeta_2 Z^*_{a1} S^-_{a1} S^+_{a0} S^+_{a1} S^-_{a0} +1 K_A \\zeta_2^* Z_{a1} S^-_{a1} S^+_{a0} S^-_{a0} S^+_{a1} -1 K_A \\zeta_2^* Z_{a1} S^+_{a1} S^-_{a0} S^-_{a1} S^+_{a0} +1 K_A \\zeta_2 Z^*_{a0} S^-_{a0} S^+_{a1} S^-_{a1} S^+_{a0} -1 K_A \\zeta_2 Z^*_{a0} S^-_{a1} S^+_{a0} S^+_{a1} S^-_{a0} -1 K_A \\zeta_2^* Z_{a0} S^+_{a0} S^-_{a1} S^+_{a1} S^-_{a0} +1 K_A \\zeta_2^* Z_{a0} S^+_{a1} S^-_{a0} S^-_{a1} S^+_{a0} +1 Z^*_{a2} Z_{a1} S^+_{a2} S^-_{a1} S^+_{a1} S^-_{a2} +1 Z^*_{a2} Z_{a1} S^-_{a2} S^+_{a2} S^-_{a1} S^+_{a1} +1 Z^*_{a2} Z_{a1} S^+_{a1} S^-_{a2} S^+_{a2} S^-_{a1} +1 Z^*_{a2} Z_{a1} S^+_{a2} S^-_{a1} S^-_{a2} S^+_{a1} +1 Z^*_{a2} Z_{a1} S^-_{a2} S^+_{a1} S^+_{a2} S^-_{a1} +1 Z^*_{a2} Z_{a1} S^+_{a1} S^+_{a2} S^-_{a1} S^-_{a2} +1 Z_{a2} Z^*_{a1} S^-_{a2} S^+_{a1} S^-_{a1} S^+_{a2} +1 Z_{a2} Z^*_{a1} S^+_{a2} S^-_{a2} S^+_{a1} S^-_{a1} +1 Z_{a2} Z^*_{a1} S^-_{a1} S^+_{a2} S^-_{a2} S^+_{a1} +1 Z_{a2} Z^*_{a1} S^-_{a2} S^+_{a1} S^+_{a2} S^-_{a1} +1 Z_{a2} Z^*_{a1} S^+_{a2} S^-_{a1} S^-_{a2} S^+_{a1} +1 Z_{a2} Z^*_{a1} S^-_{a1} S^-_{a2} S^+_{a1} S^+_{a2} -1 K_A \\zeta_0 Z^*_{a2} S^+_{a2} S^-_{a1} S^+_{a1} S^-_{a2} +1 K_A \\zeta_0 Z^*_{a2} S^-_{a2} S^+_{a1} S^+_{a2} S^-_{a1} +1 K_A \\zeta_0^* Z_{a2} S^-_{a2} S^+_{a1} S^-_{a1} S^+_{a2} -1 K_A \\zeta_0^* Z_{a2} S^+_{a2} S^-_{a1} S^-_{a2} S^+_{a1} +1 K_A \\zeta_0 Z^*_{a1} S^-_{a1} S^+_{a2} S^-_{a2} S^+_{a1} -1 K_A \\zeta_0 Z^*_{a1} S^-_{a2} S^+_{a1} S^+_{a2} S^-_{a1} -1 K_A \\zeta_0^* Z_{a1} S^+_{a1} S^-_{a2} S^+_{a2} S^-_{a1} +1 K_A \\zeta_0^* Z_{a1} S^+_{a2} S^-_{a1} S^-_{a2} S^+_{a1} +1 Z_{a2} Z^*_{a0} S^+_{a0} S^-_{a2} S^+_{a2} S^-_{a0} +1 Z_{a2} Z^*_{a0} S^-_{a0} S^+_{a0} S^-_{a2} S^+_{a2} +1 Z_{a2} Z^*_{a0} S^+_{a2} S^-_{a0} S^+_{a0} S^-_{a2} +1 Z_{a2} Z^*_{a0} S^+_{a0} S^-_{a2} S^-_{a0} S^+_{a2} +1 Z_{a2} Z^*_{a0} S^-_{a0} S^+_{a2} S^+_{a0} S^-_{a2} +1 Z_{a2} Z^*_{a0} S^+_{a2} S^+_{a0} S^-_{a2} S^-_{a0} +1 Z^*_{a2} Z_{a0} S^-_{a0} S^+_{a2} S^-_{a2} S^+_{a0} +1 Z^*_{a2} Z_{a0} S^+_{a0} S^-_{a0} S^+_{a2} S^-_{a2} +1 Z^*_{a2} Z_{a0} S^-_{a2} S^+_{a0} S^-_{a0} S^+_{a2} +1 Z^*_{a2} Z_{a0} S^-_{a0} S^+_{a2} S^+_{a0} S^-_{a2} +1 Z^*_{a2} Z_{a0} S^+_{a0} S^-_{a2} S^-_{a0} S^+_{a2} +1 Z^*_{a2} Z_{a0} S^-_{a2} S^-_{a0} S^+_{a2} S^+_{a0} +1 K_A \\zeta_1 Z^*_{a2} S^-_{a2} S^+_{a0} S^-_{a0} S^+_{a2} -1 K_A \\zeta_1 Z^*_{a2} S^-_{a0} S^+_{a2} S^+_{a0} S^-_{a2} -1 K_A \\zeta_1^* Z_{a2} S^+_{a2} S^-_{a0} S^+_{a0} S^-_{a2} +1 K_A \\zeta_1^* Z_{a2} S^+_{a0} S^-_{a2} S^-_{a0} S^+_{a2} -1 K_A \\zeta_1 Z^*_{a0} S^+_{a0} S^-_{a2} S^+_{a2} S^-_{a0} +1 K_A \\zeta_1 Z^*_{a0} S^-_{a0} S^+_{a2} S^+_{a0} S^-_{a2} +1 K_A \\zeta_1^* Z_{a0} S^-_{a0} S^+_{a2} S^-_{a2} S^+_{a0} -1 K_A \\zeta_1^* Z_{a0} S^+_{a0} S^-_{a2} S^-_{a0} S^+_{a2} $"
      ],
      "text/plain": [
       "<IPython.core.display.Latex object>"
      ]
     },
     "metadata": {},
     "output_type": "display_data"
    }
   ],
   "source": [
    "expr = sides[0] + sides[1] + sides[2]\n",
    "\n",
    "expr.collect()\n",
    "expr.show()\n",
    "\n"
   ]
  },
  {
   "cell_type": "code",
   "execution_count": 60,
   "id": "5c2f92cf-58c8-49e0-850d-e6aefad88de3",
   "metadata": {},
   "outputs": [],
   "source": [
    "# simplify using the anticommutators\n",
    "ca.move_right(expr,a_up[0])\n",
    "ca.move_right(expr,a_dn[0])\n",
    "ca.move_right(expr,a_up[1])\n",
    "ca.move_right(expr,a_dn[1])\n",
    "ca.move_right(expr,a_up[2])\n",
    "ca.move_right(expr,a_dn[2])\n",
    "expr.collect()\n",
    "\n",
    "\n",
    "\n",
    "s = expr.replaceall(*[(a_up[i]*a_dn[i], az[i]+Fraction(1,2)) for i in range(3)])\n",
    "shift_zs_left(s)\n",
    "s2 = s.replaceall(*[(Zs[i], Z[i]) for i in range(3)]).replaceall(*[(Zs_bar[i], conjugate_zetas(Z[i])) for i in range(3)])\n",
    "shift_ops_right(s2)\n",
    "s2.collect()"
   ]
  },
  {
   "cell_type": "code",
   "execution_count": 61,
   "id": "4366c53c-4808-42e1-9e6c-3d81a3e25cac",
   "metadata": {},
   "outputs": [],
   "source": [
    "w = Operator('w','w',scalar=True)\n",
    "w_bar = Operator('wb',r'w^*',scalar=True)\n",
    "\n",
    "def simplify_zetas(expr):\n",
    "    # only works if scalars are in canonical order\n",
    "    simpl = []\n",
    "    for i, z in enumerate(bond_zetas):\n",
    "        for j, zb in enumerate(bond_zetas_bar):\n",
    "            if i == j:\n",
    "                simpl.append((z*zb, 1))\n",
    "            elif i == (j+1) %3:\n",
    "                simpl.append((z*zb, w))\n",
    "            else:\n",
    "                simpl.append((z*zb, w_bar))\n",
    "    return expr.replaceall(*simpl).replaceall((w*w_bar, 1), (w_bar*w, 1))\n",
    "\n",
    "for i in range(3):\n",
    "    ca.move_left(s2, bond_zetas_bar[i])\n",
    "for i in range(3):\n",
    "    ca.move_left(s2, bond_zetas[i])\n",
    "    \n",
    "s3 = simplify_zetas(s2)\n",
    "ca.move_right(s3,w)\n",
    "ca.move_right(s3,w_bar)\n",
    "\n",
    "shift_ops_right(s3)\n",
    "\n",
    "s4 = s3.replaceall( *[(az[i]*az[i], Fraction(1,4)) for i in range(3)]\n",
    "    ).replaceall(   *[(bz[i]*bz[i], Fraction(1,4)) for i in range(3)]\n",
    "    ).replaceall(   *[(cz[i]*cz[i], Fraction(1,4)) for i in range(3)]\n",
    "    ).replaceall(   *[(nz[i]*nz[i], Fraction(1,4)) for i in range(3)]\n",
    "    ).replaceall((Nz*Nz, Fraction(1,4)))\n",
    "\n",
    "order_scalars(s4)\n",
    "\n",
    "s4.collect()"
   ]
  },
  {
   "cell_type": "code",
   "execution_count": 62,
   "id": "78c36985-1196-49ac-a82b-6745812c9b3f",
   "metadata": {},
   "outputs": [],
   "source": [
    "ca.move_right(s4,Nz)\n",
    "coeff = s4.coefficient(Nz)"
   ]
  },
  {
   "cell_type": "code",
   "execution_count": 63,
   "id": "4a2a957e-be2b-42a5-abc0-108cd92f15db",
   "metadata": {},
   "outputs": [
    {
     "data": {
      "text/latex": [
       "$$"
      ],
      "text/plain": [
       "<IPython.core.display.Latex object>"
      ]
     },
     "metadata": {},
     "output_type": "display_data"
    },
    {
     "data": {
      "text/latex": [
       "$-24 K_A K_A S^z_{a0} S^z_{a1} S^z_{a2} -4 K_A K_B S^z_{a0} S^z_{a1} S^z_{b1} -4 K_A K_B S^z_{a0} S^z_{c0} S^z_{a1} +4 K_A K_A S^z_{a2} +\\frac{3}{2} K_A K_B S^z_{b1} +\\frac{3}{2} K_A K_B S^z_{c0} -4 K_A K_B S^z_{a1} S^z_{a2} S^z_{b2} -4 K_A K_B S^z_{a1} S^z_{c1} S^z_{a2} +4 K_A K_A S^z_{a0} +\\frac{3}{2} K_A K_B S^z_{b2} +\\frac{3}{2} K_A K_B S^z_{c1} -4 K_A K_B S^z_{a0} S^z_{b0} S^z_{a2} -4 K_A K_B S^z_{a0} S^z_{a2} S^z_{c2} +4 K_A K_A S^z_{a1} +\\frac{3}{2} K_A K_B S^z_{b0} +\\frac{3}{2} K_A K_B S^z_{c2} +2 K_A K_B S^z_{a0} S^z_{a1} S^z_{c1} +2 K_A K_B S^z_{a0} S^z_{b0} S^z_{a1} +2 K_A K_B S^z_{a0} S^z_{n0} S^z_{a1} +2 K_A K_B S^z_{a0} S^z_{a1} S^z_{n1} -3 K_A K_B S^z_{n0} -3 K_A K_B S^z_{n1} +2 K_A K_B S^z_{a1} S^z_{a2} S^z_{c2} +2 K_A K_B S^z_{a1} S^z_{b1} S^z_{a2} -3 K_A K_B S^z_{n2} +2 K_A K_B S^z_{a0} S^z_{c0} S^z_{a2} +2 K_A K_B S^z_{a0} S^z_{a2} S^z_{b2} +2 K_A K_B S^z_{a0} S^z_{a2} S^z_{n2} +2 K_A K_B S^z_{a0} S^z_{n0} S^z_{a2} +2 K_A K_B S^z_{a1} S^z_{n1} S^z_{a2} +2 K_A K_B S^z_{a1} S^z_{a2} S^z_{n2} $"
      ],
      "text/plain": [
       "<IPython.core.display.Latex object>"
      ]
     },
     "metadata": {},
     "output_type": "display_data"
    }
   ],
   "source": [
    "root3 = Operator('√3',r'\\sqrt{3}',scalar=True)\n",
    "\n",
    "def convert_to_rectangular(expr):\n",
    "    ca.move_right(expr, w)\n",
    "    ca.move_right(expr, w_bar)\n",
    "    coeff_w=expr.coefficient(w)\n",
    "    coeff_wb=expr.coefficient(w_bar)\n",
    "    \n",
    "    remainder = expr + -1*(coeff_w*w +coeff_wb*w_bar)\n",
    "    remainder.collect()\n",
    "    real = remainder + Fraction(-1,2)*(coeff_w + coeff_wb)\n",
    "    imag = Fraction(1,2)*(coeff_w + -1*coeff_wb)*root3\n",
    "    return real, imag\n",
    "\n",
    "\n",
    "re, im = convert_to_rectangular(coeff)\n",
    "\n",
    "im.collect()\n",
    "im.show()\n",
    "re.collect()\n",
    "re.show()\n",
    "\n",
    "# Even with anisotropies, no complex components!"
   ]
  },
  {
   "cell_type": "code",
   "execution_count": 64,
   "id": "5736b31e-583b-4dce-a763-e17f170a0cb4",
   "metadata": {},
   "outputs": [
    {
     "data": {
      "text/latex": [
       "$-24 S^z_{a0} S^z_{a1} S^z_{a2} +4 S^z_{a2} +4 S^z_{a0} +4 S^z_{a1} $"
      ],
      "text/plain": [
       "<IPython.core.display.Latex object>"
      ]
     },
     "metadata": {},
     "output_type": "display_data"
    }
   ],
   "source": [
    "front = re.coefficient(KA*KA,'right')\n",
    "front.show()\n",
    "\n",
    "# this is a constant on the ice manifold!"
   ]
  },
  {
   "cell_type": "code",
   "execution_count": 65,
   "id": "8dc87774-4539-46f7-a276-c67c25ab72de",
   "metadata": {},
   "outputs": [
    {
     "data": {
      "text/latex": [
       "$$"
      ],
      "text/plain": [
       "<IPython.core.display.Latex object>"
      ]
     },
     "metadata": {},
     "output_type": "display_data"
    }
   ],
   "source": [
    "back = re.coefficient(KB*KB,'right')\n",
    "back.show()\n",
    "# sweet bro"
   ]
  },
  {
   "cell_type": "code",
   "execution_count": 57,
   "id": "4329ac53-1cd1-4a0b-a6dd-fde328a9d64b",
   "metadata": {},
   "outputs": [
    {
     "data": {
      "text/latex": [
       "$-4 S^z_{a0} S^z_{a1} S^z_{b1} -4 S^z_{a0} S^z_{c0} S^z_{a1} -4 S^z_{a1} S^z_{a2} S^z_{b2} -4 S^z_{a1} S^z_{c1} S^z_{a2} -4 S^z_{a0} S^z_{b0} S^z_{a2} -4 S^z_{a0} S^z_{a2} S^z_{c2} -3 S^z_{n0} -3 S^z_{n1} -3 S^z_{n2} +\\frac{3}{2} S^z_{b1} +\\frac{3}{2} S^z_{c0} +\\frac{3}{2} S^z_{b2} +\\frac{3}{2} S^z_{c1} +\\frac{3}{2} S^z_{b0} +\\frac{3}{2} S^z_{c2} +2 S^z_{a0} S^z_{a1} S^z_{c1} +2 S^z_{a0} S^z_{b0} S^z_{a1} +2 S^z_{a0} S^z_{n0} S^z_{a1} +2 S^z_{a0} S^z_{a1} S^z_{n1} +2 S^z_{a1} S^z_{a2} S^z_{c2} +2 S^z_{a1} S^z_{b1} S^z_{a2} +2 S^z_{a0} S^z_{c0} S^z_{a2} +2 S^z_{a0} S^z_{a2} S^z_{b2} +2 S^z_{a0} S^z_{a2} S^z_{n2} +2 S^z_{a0} S^z_{n0} S^z_{a2} +2 S^z_{a1} S^z_{n1} S^z_{a2} +2 S^z_{a1} S^z_{a2} S^z_{n2} $"
      ],
      "text/plain": [
       "<IPython.core.display.Latex object>"
      ]
     },
     "metadata": {},
     "output_type": "display_data"
    }
   ],
   "source": [
    "middle = re.coefficient(KA*KB,'right')\n",
    "middle.sort('multiplier')\n",
    "middle.show()"
   ]
  },
  {
   "cell_type": "code",
   "execution_count": null,
   "id": "42a090c6-81ec-4970-86d0-133a1d7c69ed",
   "metadata": {},
   "outputs": [],
   "source": [
    "coeff_N_simpl = Fraction(-3,2)*(nz[0]+nz[1]+nz[2])\n",
    "for i in range(3):\n",
    "    ip = (i+1)%3\n",
    "    ipp = (i+2)%3\n",
    "    coeff_N_simpl += 6*az[i]*az[ip]*(n[i]+n[ip])\n",
    "    \n",
    "    \n"
   ]
  }
 ],
 "metadata": {
  "kernelspec": {
   "display_name": "Python 3.9.10 64-bit",
   "language": "python",
   "name": "python3910jvsc74a57bd050292dbb1f747f7151d445135d392af3138fb3c65386d17d9510cb605222b10b"
  },
  "language_info": {
   "codemirror_mode": {
    "name": "ipython",
    "version": 3
   },
   "file_extension": ".py",
   "mimetype": "text/x-python",
   "name": "python",
   "nbconvert_exporter": "python",
   "pygments_lexer": "ipython3",
   "version": "3.9.10"
  }
 },
 "nbformat": 4,
 "nbformat_minor": 5
}
