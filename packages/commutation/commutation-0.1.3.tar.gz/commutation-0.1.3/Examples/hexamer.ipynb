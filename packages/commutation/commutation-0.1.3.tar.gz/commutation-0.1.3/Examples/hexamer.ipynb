{
 "cells": [
  {
   "cell_type": "code",
   "execution_count": 91,
   "id": "376eb701-390d-4478-8c0b-3e7c3a302539",
   "metadata": {},
   "outputs": [],
   "source": [
    "from SpinTrain import *\n",
    "import numpy as nup\n",
    "import matplotlib.pyplot as plt\n"
   ]
  },
  {
   "cell_type": "code",
   "execution_count": 87,
   "id": "707c9899-9d0b-48d0-a094-85499edbe5aa",
   "metadata": {},
   "outputs": [],
   "source": [
    "ca = CommutatorAlgebra()\n",
    "\n",
    "ca['S+_a', 'S-_a'] = Term([2, 'Sz_a'])\n",
    "ca['Sz_a', 'S+_a'] = Term(['S+_a'])\n",
    "ca['Sz_a', 'S-_a'] = Term([-1,'S-_a'])\n",
    "# by default assumes all objects are scalars"
   ]
  },
  {
   "cell_type": "code",
   "execution_count": 145,
   "id": "516f3bdf-3ae4-412d-9817-ef658914a1e8",
   "metadata": {},
   "outputs": [],
   "source": [
    "ca = CommutatorAlgebra()\n",
    "\n",
    "def define_comms(site):\n",
    "    plus  = 'S^+_{%s}' % site\n",
    "    minus = 'S^-_{%s}' % site\n",
    "    z     = 'S^z_{%s}' % site\n",
    "\n",
    "    ca[plus, minus] = Term([2, z])\n",
    "    ca[z, plus]  = Term([+1, plus])\n",
    "    ca[z, minus] = Term([-1, minus])\n",
    "    \n",
    "bond_zetas = [r'\\zeta_1', r'\\zeta_2', r'\\zeta_3']\n",
    "bond_zetabs = [r'\\zeta^*_1', r'\\zeta^*_2', r'\\zeta^*_3']\n",
    "\n",
    "WA = [1,2,3,4,5,6]\n",
    "WB = [1,2,3,4,5,6]\n",
    "\n",
    "WAb = [1,2,3,4,5,6]\n",
    "WBb = [1,2,3,4,5,6]\n",
    "\n",
    "# assigns A bonds to (h0h1), (h2h3), (h4h5)\n",
    "\n",
    "for i in range(6):\n",
    "    h = 'h%d' % i\n",
    "    v = 'v%d' % i\n",
    "    n = 'n%d' % i\n",
    "    \n",
    "    hpp = 'h%d' % ((i+1)%6)\n",
    "    \n",
    "    hp = 'h%d' % ((i-1)%6)\n",
    "    vp = 'v%d' % ((i-1)%6)\n",
    "    np = 'n%d' % ((i-1)%6)\n",
    "    \n",
    "    define_comms(h)\n",
    "    define_comms(v)\n",
    "    define_comms(n)\n",
    "    \n",
    "\n",
    "    \n",
    "    \n",
    "    w1 = Expression([bond_zetas[i%3], 'S^z_{%s}' % hpp],\n",
    "                    [bond_zetas[(i+1)%3], 'S^z_{%s}' % n],\n",
    "                    [bond_zetas[(i-1)%3], 'S^z_{%s}' % v])\n",
    "    w2 = Expression([bond_zetas[(i-1)%3], 'S^z_{%s}' % hp],\n",
    "                    [bond_zetas[(i+1)%3], 'S^z_{%s}' % np],\n",
    "                    [bond_zetas[i%3], 'S^z_{%s}' % vp])\n",
    "    w1b = Expression([bond_zetabs[i%3], 'S^z_{%s}' % hpp],\n",
    "                    [bond_zetabs[(i+1)%3], 'S^z_{%s}' % n],\n",
    "                    [bond_zetabs[(i-1)%3], 'S^z_{%s}' % v])\n",
    "    w2b = Expression([bond_zetabs[(i-1)%3], 'S^z_{%s}' % hp],\n",
    "                    [bond_zetabs[(i+1)%3], 'S^z_{%s}' % np],\n",
    "                    [bond_zetabs[i%3], 'S^z_{%s}' % vp])\n",
    "    \n",
    "    if i %2 == 0:\n",
    "        WA[i], WB[i] = w1, w2\n",
    "    else:\n",
    "        WA[i], WB[i] = w2, w1\n",
    "\n",
    "def tostar(x):\n",
    "    res = x.copy()\n",
    "    for i in range(1,4):\n",
    "        s = r'\\zeta_%d' % i\n",
    "        sb = r'\\zeta^*_%d' % i\n",
    "        res = res.substitute(s, Expression(sb))\n",
    "    return res\n",
    "        \n",
    "# calculate the complex conjugate\n",
    "for i in range(6):\n",
    "    WAb[i] = tostar(WA[i])\n",
    "    WBb[i] = tostar(WB[i])\n",
    "\n",
    "    "
   ]
  },
  {
   "cell_type": "code",
   "execution_count": 277,
   "id": "4be23232-01d5-4d6f-babf-15b92d6e9e3d",
   "metadata": {},
   "outputs": [
    {
     "data": {
      "image/png": "[encoded data removed]",
      "text/plain": [
       "<Figure size 360x360 with 1 Axes>"
      ]
     },
     "metadata": {
      "needs_background": "light"
     },
     "output_type": "display_data"
    }
   ],
   "source": [
    "\n",
    "\n",
    "# make sure it didn't get cooked\n",
    "rB = 1.4\n",
    "rA = 1\n",
    "\n",
    "b1 = rB*nup.array([1,0])\n",
    "b2 = rB*nup.array([1/2,nup.sqrt(3)/2])\n",
    "\n",
    "a1 = rA*nup.array([1,0])\n",
    "a2 = rA*nup.array([1/2,nup.sqrt(3)/2])\n",
    "\n",
    "c1 = (2/3)*(a2-0.5*a1)\n",
    "c2 = (2/3)*(a1-0.5*a2)\n",
    "\n",
    "h=nup.array([nup.array([0,0]), a2-a1, a2-a1-b1, -a1-b1, -a1-b2, -b2])\n",
    "n=nup.array([c1*rA, a2-a1-c2*rB,c1*rA-a1-b1,-c1*rB-a1-b1,-b2-a1+c2*rA,-c1*rB])\n",
    "v=nup.array([a2, -a1+a2+b2-b1, a2-2*a1-b1, -b2-a1-b1, -b2-a2,b1-b2])\n",
    "\n",
    "fig, ax = plt.subplots(figsize=(5,5))\n",
    "\n",
    "ax.plot(*(h.T),'ko')\n",
    "ax.plot(*(n.T),'ko')\n",
    "ax.plot(*(v.T),'ko')\n",
    "ax.set_aspect('equal','box')\n",
    "\n",
    "colors = {r'\\zeta_1': 'r', r'\\zeta_2': 'g', r'\\zeta_3': 'b'}\n",
    "points = {'h': h, 'v': v, 'n': n}\n",
    "\n",
    "def arrow(f, i, **kwargs):\n",
    "    dx = f-i\n",
    "    ax.arrow(i[0],i[1],dx[0],dx[1],length_includes_head=True,head_width=0,**kwargs)\n",
    "\n",
    "    \n",
    "def plot_Z(i):\n",
    "    for t in WA[i].terms:\n",
    "        idx = t.ops[1][-3]\n",
    "        num = int(t.ops[1][-2])\n",
    "        arrow(h[i],points[idx][num],lw=2,color=colors[t.ops[0]])\n",
    "        \n",
    "    for t in WB[i].terms:\n",
    "        idx = t.ops[1][-3]\n",
    "        num = int(t.ops[1][-2])\n",
    "        arrow(h[i],points[idx][num],ls=':',lw=2,color=colors[t.ops[0]])\n",
    "    \n",
    "# for i in [0,2,4]:\n",
    "#     plot_Z(i)\n",
    "    \n",
    "for i in range(6):\n",
    "    plot_Z(i)\n",
    "\n",
    "\n",
    "dxy = nup.array([-0.09,-0.07])   \n",
    "\n",
    "boxdict = {'boxstyle':'Circle','facecolor':'white','edgecolor':'black'}\n",
    "\n",
    "for i in range(6):\n",
    "    ax.text(*(h[i]+dxy),'h'+str(i), bbox={'boxstyle':'Circle','facecolor':'white','edgecolor':'black'})\n",
    "    ax.text(*(n[i]+dxy),'n'+str(i), bbox={'boxstyle':'Circle','facecolor':'#dddddd','edgecolor':'black'})\n",
    "    ax.text(*(v[i]+dxy),'v'+str(i), bbox={'boxstyle':'Circle','facecolor':'#9d9d9d','edgecolor':'black'})\n",
    "\n",
    "# ax.set_xticks([])\n",
    "# ax.set_yticks([])\n",
    "# for s in ax.spines:\n",
    "#     ax.spines[s].set_visible('False')\n",
    "plt.axis('off')\n",
    "    \n",
    "fig.savefig('./hexagon.pdf')\n",
    "\n",
    "# Conclusion: No double counting, and conectivity is correct\n",
    "    "
   ]
  },
  {
   "cell_type": "code",
   "execution_count": 216,
   "id": "ae253ff7-45a8-4988-8e98-37e90719b642",
   "metadata": {},
   "outputs": [
    {
     "name": "stdout",
     "output_type": "stream",
     "text": [
      "0\n"
     ]
    },
    {
     "data": {
      "text/latex": [
       "$  +1 K_A \\zeta_1 S^z_{h1}  +1 K_A \\zeta_2 S^z_{n0}  +1 K_A \\zeta_3 S^z_{v0}  +1 K_B \\zeta_3 S^z_{h5}  +1 K_B \\zeta_2 S^z_{n5}  +1 K_B \\zeta_1 S^z_{v5}$"
      ],
      "text/plain": [
       "<IPython.core.display.Latex object>"
      ]
     },
     "metadata": {},
     "output_type": "display_data"
    },
    {
     "data": {
      "text/latex": [
       "$  +1 K_A \\zeta^*_1 S^z_{h1}  +1 K_A \\zeta^*_2 S^z_{n0}  +1 K_A \\zeta^*_3 S^z_{v0}  +1 K_B \\zeta^*_3 S^z_{h5}  +1 K_B \\zeta^*_2 S^z_{n5}  +1 K_B \\zeta^*_1 S^z_{v5}$"
      ],
      "text/plain": [
       "<IPython.core.display.Latex object>"
      ]
     },
     "metadata": {},
     "output_type": "display_data"
    },
    {
     "name": "stdout",
     "output_type": "stream",
     "text": [
      "1\n"
     ]
    },
    {
     "data": {
      "text/latex": [
       "$  +1 K_A \\zeta_1 S^z_{h0}  +1 K_A \\zeta_3 S^z_{n0}  +1 K_A \\zeta_2 S^z_{v0}  +1 K_B \\zeta_2 S^z_{h2}  +1 K_B \\zeta_3 S^z_{n1}  +1 K_B \\zeta_1 S^z_{v1}$"
      ],
      "text/plain": [
       "<IPython.core.display.Latex object>"
      ]
     },
     "metadata": {},
     "output_type": "display_data"
    },
    {
     "data": {
      "text/latex": [
       "$  +1 K_A \\zeta^*_1 S^z_{h0}  +1 K_A \\zeta^*_3 S^z_{n0}  +1 K_A \\zeta^*_2 S^z_{v0}  +1 K_B \\zeta^*_2 S^z_{h2}  +1 K_B \\zeta^*_3 S^z_{n1}  +1 K_B \\zeta^*_1 S^z_{v1}$"
      ],
      "text/plain": [
       "<IPython.core.display.Latex object>"
      ]
     },
     "metadata": {},
     "output_type": "display_data"
    },
    {
     "name": "stdout",
     "output_type": "stream",
     "text": [
      "2\n"
     ]
    },
    {
     "data": {
      "text/latex": [
       "$  +1 K_A \\zeta_3 S^z_{h3}  +1 K_A \\zeta_1 S^z_{n2}  +1 K_A \\zeta_2 S^z_{v2}  +1 K_B \\zeta_2 S^z_{h1}  +1 K_B \\zeta_1 S^z_{n1}  +1 K_B \\zeta_3 S^z_{v1}$"
      ],
      "text/plain": [
       "<IPython.core.display.Latex object>"
      ]
     },
     "metadata": {},
     "output_type": "display_data"
    },
    {
     "data": {
      "text/latex": [
       "$  +1 K_A \\zeta^*_3 S^z_{h3}  +1 K_A \\zeta^*_1 S^z_{n2}  +1 K_A \\zeta^*_2 S^z_{v2}  +1 K_B \\zeta^*_2 S^z_{h1}  +1 K_B \\zeta^*_1 S^z_{n1}  +1 K_B \\zeta^*_3 S^z_{v1}$"
      ],
      "text/plain": [
       "<IPython.core.display.Latex object>"
      ]
     },
     "metadata": {},
     "output_type": "display_data"
    },
    {
     "name": "stdout",
     "output_type": "stream",
     "text": [
      "3\n"
     ]
    },
    {
     "data": {
      "text/latex": [
       "$  +1 K_A \\zeta_3 S^z_{h2}  +1 K_A \\zeta_2 S^z_{n2}  +1 K_A \\zeta_1 S^z_{v2}  +1 K_B \\zeta_1 S^z_{h4}  +1 K_B \\zeta_2 S^z_{n3}  +1 K_B \\zeta_3 S^z_{v3}$"
      ],
      "text/plain": [
       "<IPython.core.display.Latex object>"
      ]
     },
     "metadata": {},
     "output_type": "display_data"
    },
    {
     "data": {
      "text/latex": [
       "$  +1 K_A \\zeta^*_3 S^z_{h2}  +1 K_A \\zeta^*_2 S^z_{n2}  +1 K_A \\zeta^*_1 S^z_{v2}  +1 K_B \\zeta^*_1 S^z_{h4}  +1 K_B \\zeta^*_2 S^z_{n3}  +1 K_B \\zeta^*_3 S^z_{v3}$"
      ],
      "text/plain": [
       "<IPython.core.display.Latex object>"
      ]
     },
     "metadata": {},
     "output_type": "display_data"
    },
    {
     "name": "stdout",
     "output_type": "stream",
     "text": [
      "4\n"
     ]
    },
    {
     "data": {
      "text/latex": [
       "$  +1 K_A \\zeta_2 S^z_{h5}  +1 K_A \\zeta_3 S^z_{n4}  +1 K_A \\zeta_1 S^z_{v4}  +1 K_B \\zeta_1 S^z_{h3}  +1 K_B \\zeta_3 S^z_{n3}  +1 K_B \\zeta_2 S^z_{v3}$"
      ],
      "text/plain": [
       "<IPython.core.display.Latex object>"
      ]
     },
     "metadata": {},
     "output_type": "display_data"
    },
    {
     "data": {
      "text/latex": [
       "$  +1 K_A \\zeta^*_2 S^z_{h5}  +1 K_A \\zeta^*_3 S^z_{n4}  +1 K_A \\zeta^*_1 S^z_{v4}  +1 K_B \\zeta^*_1 S^z_{h3}  +1 K_B \\zeta^*_3 S^z_{n3}  +1 K_B \\zeta^*_2 S^z_{v3}$"
      ],
      "text/plain": [
       "<IPython.core.display.Latex object>"
      ]
     },
     "metadata": {},
     "output_type": "display_data"
    },
    {
     "name": "stdout",
     "output_type": "stream",
     "text": [
      "5\n"
     ]
    },
    {
     "data": {
      "text/latex": [
       "$  +1 K_A \\zeta_2 S^z_{h4}  +1 K_A \\zeta_1 S^z_{n4}  +1 K_A \\zeta_3 S^z_{v4}  +1 K_B \\zeta_3 S^z_{h0}  +1 K_B \\zeta_1 S^z_{n5}  +1 K_B \\zeta_2 S^z_{v5}$"
      ],
      "text/plain": [
       "<IPython.core.display.Latex object>"
      ]
     },
     "metadata": {},
     "output_type": "display_data"
    },
    {
     "data": {
      "text/latex": [
       "$  +1 K_A \\zeta^*_2 S^z_{h4}  +1 K_A \\zeta^*_1 S^z_{n4}  +1 K_A \\zeta^*_3 S^z_{v4}  +1 K_B \\zeta^*_3 S^z_{h0}  +1 K_B \\zeta^*_1 S^z_{n5}  +1 K_B \\zeta^*_2 S^z_{v5}$"
      ],
      "text/plain": [
       "<IPython.core.display.Latex object>"
      ]
     },
     "metadata": {},
     "output_type": "display_data"
    }
   ],
   "source": [
    "Z    = [0,0,0,0,0,0]\n",
    "Zbar = [0,0,0,0,0,0]\n",
    "\n",
    "# construct a \"real\" Z\n",
    "\n",
    "for i in range(6):\n",
    "    Z[i] =  Term(['K_A'])*WA[i]+Term(['K_B'])*WB[i]\n",
    "    Zbar[i] =  Term(['K_A'])*WAb[i]+Term(['K_B'])*WBb[i]\n",
    "    \n",
    "for k in range(6):\n",
    "    print(k)\n",
    "    Z[k].show()\n",
    "    Zbar[k].show()"
   ]
  },
  {
   "cell_type": "code",
   "execution_count": 274,
   "id": "309008f7-fada-4212-bd10-3ddbf4eb0187",
   "metadata": {},
   "outputs": [],
   "source": [
    "# Construct the new commutator algebra\n",
    "# [Za, S_*^\\pm] = ...\n",
    "# allows us to later work with the Z_a only\n",
    "cb = CommutatorAlgebra()\n",
    "\n",
    "# enfoce canonical order\n",
    "def simplifyHere(x):\n",
    "    for i in range(6):\n",
    "        ca.move_left(x, 'S^z_{n%s}' % i)\n",
    "        ca.move_left(x, 'S^z_{v%s}' % i)\n",
    "        ca.move_left(x, 'S^z_{h%s}' % i)\n",
    "\n",
    "    ca.move_left(x, 'K_A')\n",
    "    ca.move_left(x, 'K_B')\n",
    "    ca.move_left(x, '\\\\zeta_1')\n",
    "    ca.move_left(x, '\\\\zeta_2')\n",
    "    ca.move_left(x, '\\\\zeta_3')\n",
    "\n",
    "    x.collect()\n",
    "\n",
    "for j in range(6):\n",
    "    for spinstr in ['S^+_{h%d}' % ((j-1)%6), 'S^-_{h%d}' % ((j-1)%6),\n",
    "                    'S^+_{h%d}' % ((j+1)%6), 'S^-_{h%d}' % ((j+1)%6)]:\n",
    "#     for spinstr in ['S^+_{h%d}' % ((j)%6), 'S^-_{h%d}' % ((j)%6)]:\n",
    "    \n",
    "        S = Term([spinstr])\n",
    "\n",
    "        x1 = S*Z[j] + (-Z[j]*S)\n",
    "        x2 = S*Zbar[j] + (-Zbar[j]*S)\n",
    "\n",
    "        ca.move_right(x1, spinstr)\n",
    "        simplifyHere(x1)\n",
    "        ca.move_right(x2, spinstr)\n",
    "        simplifyHere(x2)\n",
    "\n",
    "        cb[spinstr, 'Z_{h%d}' % j] = x1\n",
    "        cb[spinstr, 'Z^*_{h%d}' % j] = x2\n"
   ]
  },
  {
   "cell_type": "code",
   "execution_count": 276,
   "id": "6d36fff7-3a4d-4b31-bd9f-f05d28759f18",
   "metadata": {},
   "outputs": [],
   "source": [
    "# simplifiers\n",
    "\n",
    "def separateScalars(x):\n",
    "    ca.move_left(x, '\\\\zeta_1')\n",
    "    ca.move_left(x, '\\\\zeta_2')\n",
    "    ca.move_left(x, '\\\\zeta_3')\n",
    "    ca.move_left(x, '\\\\zeta^*_1')\n",
    "    ca.move_left(x, '\\\\zeta^*_2')\n",
    "    ca.move_left(x, '\\\\zeta^*_3')\n",
    "    ca.move_left(x, 'K_A')\n",
    "    ca.move_left(x, 'K_B')\n",
    "    ca.move_left(x, 'J^2_{\\perp A}')\n",
    "    ca.move_left(x, 'J^2_{\\perp B}')\n",
    "    ca.move_left(x, 'U_{1A}')\n",
    "    ca.move_left(x, 'U_{2A}')\n",
    "    ca.move_left(x, 'U_{3A}')\n",
    "    ca.move_left(x, 'U_{1B}')\n",
    "    ca.move_left(x, 'U_{2B}')\n",
    "    ca.move_left(x, 'U_{3B}')\n",
    "\n",
    "def rightyHops(x):\n",
    "    for l in range(6):\n",
    "        cb.move_right(x, 'S^+_{h%d}'%l)\n",
    "        cb.move_right(x, 'S^-_{h%d}'%l)\n",
    "    \n",
    "def leftyZ(x):\n",
    "    for l in range(6):\n",
    "        cb.move_left(Hring, 'Z_{h%d}'%l)\n",
    "        cb.move_left(Hring, 'Z^*_{h%d}'%l)\n",
    "    "
   ]
  },
  {
   "cell_type": "code",
   "execution_count": 219,
   "id": "f880c545-5600-4106-8ce2-ea754ab8a291",
   "metadata": {},
   "outputs": [
    {
     "name": "stderr",
     "output_type": "stream",
     "text": [
      "/Users/alaricsanders/Box Sync/PhD/SpinTrain/SpinTrain.py:474: UserWarning: Symbol \"J^2_{\\perp A}\" is not in the commutator database, assuming scalar...\n",
      "  warn(s)\n",
      "/Users/alaricsanders/Box Sync/PhD/SpinTrain/SpinTrain.py:474: UserWarning: Symbol \"U_{1A}\" is not in the commutator database, assuming scalar...\n",
      "  warn(s)\n",
      "/Users/alaricsanders/Box Sync/PhD/SpinTrain/SpinTrain.py:474: UserWarning: Symbol \"U_{2A}\" is not in the commutator database, assuming scalar...\n",
      "  warn(s)\n",
      "/Users/alaricsanders/Box Sync/PhD/SpinTrain/SpinTrain.py:474: UserWarning: Symbol \"U_{3A}\" is not in the commutator database, assuming scalar...\n",
      "  warn(s)\n",
      "/Users/alaricsanders/Box Sync/PhD/SpinTrain/SpinTrain.py:474: UserWarning: Symbol \"\\zeta^*_1\" is not in the commutator database, assuming scalar...\n",
      "  warn(s)\n",
      "/Users/alaricsanders/Box Sync/PhD/SpinTrain/SpinTrain.py:474: UserWarning: Symbol \"\\zeta^*_2\" is not in the commutator database, assuming scalar...\n",
      "  warn(s)\n",
      "/Users/alaricsanders/Box Sync/PhD/SpinTrain/SpinTrain.py:474: UserWarning: Symbol \"\\zeta^*_3\" is not in the commutator database, assuming scalar...\n",
      "  warn(s)\n",
      "/Users/alaricsanders/Box Sync/PhD/SpinTrain/SpinTrain.py:474: UserWarning: Symbol \"J^2_{\\perp B}\" is not in the commutator database, assuming scalar...\n",
      "  warn(s)\n",
      "/Users/alaricsanders/Box Sync/PhD/SpinTrain/SpinTrain.py:474: UserWarning: Symbol \"U_{1B}\" is not in the commutator database, assuming scalar...\n",
      "  warn(s)\n",
      "/Users/alaricsanders/Box Sync/PhD/SpinTrain/SpinTrain.py:474: UserWarning: Symbol \"U_{2B}\" is not in the commutator database, assuming scalar...\n",
      "  warn(s)\n",
      "/Users/alaricsanders/Box Sync/PhD/SpinTrain/SpinTrain.py:474: UserWarning: Symbol \"U_{3B}\" is not in the commutator database, assuming scalar...\n",
      "  warn(s)\n"
     ]
    }
   ],
   "source": [
    "cwring = []\n",
    "ccwring = []\n",
    "opring = []\n",
    "# build all of the rings    \n",
    "for i in range(6):\n",
    "    h0 = 'h%d' % i\n",
    "    h1 = 'h%d' % ((i+1)%6)\n",
    "    h2 = 'h%d' % ((i+2)%6)\n",
    "    h3 = 'h%d' % ((i+3)%6)\n",
    "    h4 = 'h%d' % ((i+4)%6)\n",
    "    h5 = 'h%d' % ((i+5)%6)\n",
    "\n",
    "    # NN K terms, ccw\n",
    "    F = Expression(['S^-_{%s}' % h0, 'S^+_{%s}' % h1])\n",
    "    E = Expression(['S^-_{%s}' % h2, 'S^+_{%s}' % h3])\n",
    "    f = Term('Z^*_{%s}'% h4)*Expression(['S^-_{%s}' % h4])\n",
    "    e = Term('Z_{%s}'% h5)*Expression(['S^+_{%s}' % h5])\n",
    "\n",
    "\n",
    "    Hring = Expression()\n",
    "    \n",
    "    JA2 = Term(['J^2_{\\perp A}'])\n",
    "    JB2 = Term(['J^2_{\\perp B}'])\n",
    "    \n",
    "    if i%2==0:\n",
    "        # A-hops\n",
    "        Hring += Term('U_{1A}')*(f*F*E*e + e*E*F*f) \n",
    "        Hring += Term('U_{2A}')*(e*f*E*F + f*e*E*F + E*F*e*f + E*F*f*e)\n",
    "        Hring += Term('U_{3A}')*(E*f*e*F + F*e*f*E)\n",
    "        Hring =  JA2*Hring\n",
    "        \n",
    "        \n",
    "    else:\n",
    "        Hring += Term('U_{1B}')*(f*F*E*e + e*E*F*f) \n",
    "        Hring += Term('U_{2B}')*(e*f*E*F + f*e*E*F + E*F*e*f + E*F*f*e)\n",
    "        Hring += Term('U_{3B}')*(E*f*e*F + F*e*f*E)\n",
    "        Hring =  JB2*Hring\n",
    "    \n",
    "    separateScalars(Hring)    \n",
    "    rightyHops(Hring)\n",
    "    leftyZ(Hring)\n",
    "    separateScalars(Hring)    \n",
    "    Hring.collect()\n",
    "    ccwring.append(Hring)\n",
    "    \n",
    "    # NN K terms, cw\n",
    "    F = Expression(['S^+_{%s}' % h0, 'S^-_{%s}' % h1])\n",
    "    E = Expression(['S^+_{%s}' % h2, 'S^-_{%s}' % h3])\n",
    "    f = Term('Z_{%s}'% h4)*Expression(['S^+_{%s}' % h4])\n",
    "    e = Term('Z^*_{%s}'% h5)*Expression(['S^-_{%s}' % h5])\n",
    "\n",
    "    # calculate all the different contributions from the different energy sectors\n",
    "\n",
    "    Hring = Expression()\n",
    "    if i%2==0:\n",
    "        # A-hops\n",
    "        Hring += Term('U_{1A}')*(f*F*E*e + e*E*F*f) \n",
    "        Hring += Term('U_{2A}')*(e*f*E*F + f*e*E*F + E*F*e*f + E*F*f*e)\n",
    "        Hring += Term('U_{3A}')*(E*f*e*F + F*e*f*E)\n",
    "        Hring =  JA2*Hring\n",
    "    else:\n",
    "        Hring += Term('U_{1B}')*(f*F*E*e + e*E*F*f) \n",
    "        Hring += Term('U_{2B}')*(e*f*E*F + f*e*E*F + E*F*e*f + E*F*f*e)\n",
    "        Hring += Term('U_{3B}')*(E*f*e*F + F*e*f*E)\n",
    "        Hring =  JB2*Hring\n",
    "\n",
    "    separateScalars(Hring)    \n",
    "    rightyHops(Hring)\n",
    "    leftyZ(Hring)\n",
    "    separateScalars(Hring)    \n",
    "    Hring.collect()\n",
    "    cwring.append(Hring)\n",
    "    \n",
    "    # NNN K terms\n",
    "    Hring = Expression()\n",
    "    #AAAAH NONE OF THESE COMMUTE!\n",
    "    \n",
    "    opring.append(Hring)\n",
    "    "
   ]
  },
  {
   "cell_type": "code",
   "execution_count": 222,
   "id": "8d36d0a6-119b-4395-b31d-d0dc926c0818",
   "metadata": {},
   "outputs": [
    {
     "data": {
      "text/latex": [
       "$  -2 U_{2A} J^2_{\\perp A} K_B \\zeta^*_3 Z_{h4}  -2 U_{2A} J^2_{\\perp A} K_B K_B \\zeta^*_3 \\zeta_1  -2 U_{2A} J^2_{\\perp A} K_A \\zeta^*_2 Z_{h4}  -2 U_{2A} J^2_{\\perp A} K_B K_A \\zeta^*_2 \\zeta_1  -2 U_{3A} J^2_{\\perp A} K_B K_A \\zeta^*_2 \\zeta_1  -2 U_{2A} J^2_{\\perp A} K_B K_A \\zeta^*_3 \\zeta_2  -2 U_{3A} J^2_{\\perp A} K_B K_A \\zeta^*_3 \\zeta_2  -2 U_{2B} J^2_{\\perp B} K_B \\zeta^*_3 Z_{h0}  -2 U_{2B} J^2_{\\perp B} K_B K_A \\zeta^*_3 \\zeta_1  -2 U_{3B} J^2_{\\perp B} K_B K_A \\zeta^*_3 \\zeta_1  -2 U_{2B} J^2_{\\perp B} K_A \\zeta^*_2 Z_{h0}  -2 U_{2B} J^2_{\\perp B} K_A K_A \\zeta^*_2 \\zeta_1  -2 U_{2B} J^2_{\\perp B} K_B K_A \\zeta^*_2 \\zeta_3  -2 U_{3B} J^2_{\\perp B} K_B K_A \\zeta^*_2 \\zeta_3  -2 U_{2A} J^2_{\\perp A} K_A \\zeta^*_1 Z_{h0}  -2 U_{2A} J^2_{\\perp A} K_B \\zeta^*_2 Z_{h0}  -2 U_{2A} J^2_{\\perp A} K_B K_A \\zeta^*_1 \\zeta_3  -2 U_{3A} J^2_{\\perp A} K_B K_A \\zeta^*_1 \\zeta_3  -2 U_{2A} J^2_{\\perp A} K_B K_B \\zeta^*_2 \\zeta_3  -2 U_{2B} J^2_{\\perp B} K_A \\zeta^*_1 Z_{h2}  -2 U_{2B} J^2_{\\perp B} K_B K_A \\zeta^*_1 \\zeta_2  -2 U_{3B} J^2_{\\perp B} K_B K_A \\zeta^*_1 \\zeta_2  -2 U_{2B} J^2_{\\perp B} K_B \\zeta^*_2 Z_{h2}  -2 U_{2B} J^2_{\\perp B} K_A K_A \\zeta^*_1 \\zeta_3  -2 U_{2A} J^2_{\\perp A} K_A \\zeta^*_3 Z_{h2}  -2 U_{2A} J^2_{\\perp A} K_B \\zeta^*_1 Z_{h2}  -2 U_{2A} J^2_{\\perp A} K_B K_B \\zeta^*_1 \\zeta_2  -2 U_{2B} J^2_{\\perp B} K_A \\zeta^*_3 Z_{h4}  -2 U_{2B} J^2_{\\perp B} K_B \\zeta^*_1 Z_{h4}  -2 U_{2B} J^2_{\\perp B} K_A K_A \\zeta^*_3 \\zeta_2  -1 U_{1A} J^2_{\\perp A} K_B \\zeta^*_3 Z_{h4}  -1 U_{3A} J^2_{\\perp A} K_B \\zeta^*_3 Z_{h4}  -1 U_{1A} J^2_{\\perp A} K_A \\zeta^*_2 Z_{h4}  -1 U_{3A} J^2_{\\perp A} K_A \\zeta^*_2 Z_{h4}  -1 U_{1B} J^2_{\\perp B} K_B \\zeta^*_3 Z_{h0}  -1 U_{3B} J^2_{\\perp B} K_B \\zeta^*_3 Z_{h0}  -1 U_{1B} J^2_{\\perp B} K_A \\zeta^*_2 Z_{h0}  -1 U_{3B} J^2_{\\perp B} K_A \\zeta^*_2 Z_{h0}  -1 U_{1A} J^2_{\\perp A} K_A \\zeta^*_1 Z_{h0}  -1 U_{3A} J^2_{\\perp A} K_A \\zeta^*_1 Z_{h0}  -1 U_{1A} J^2_{\\perp A} K_B \\zeta^*_2 Z_{h0}  -1 U_{3A} J^2_{\\perp A} K_B \\zeta^*_2 Z_{h0}  -1 U_{1B} J^2_{\\perp B} K_A \\zeta^*_1 Z_{h2}  -1 U_{3B} J^2_{\\perp B} K_A \\zeta^*_1 Z_{h2}  -1 U_{1B} J^2_{\\perp B} K_B \\zeta^*_2 Z_{h2}  -1 U_{3B} J^2_{\\perp B} K_B \\zeta^*_2 Z_{h2}  -1 U_{1A} J^2_{\\perp A} K_A \\zeta^*_3 Z_{h2}  -1 U_{3A} J^2_{\\perp A} K_A \\zeta^*_3 Z_{h2}  -1 U_{1A} J^2_{\\perp A} K_B \\zeta^*_1 Z_{h2}  -1 U_{3A} J^2_{\\perp A} K_B \\zeta^*_1 Z_{h2}  -1 U_{1B} J^2_{\\perp B} K_A \\zeta^*_3 Z_{h4}  -1 U_{3B} J^2_{\\perp B} K_A \\zeta^*_3 Z_{h4}  -1 U_{1B} J^2_{\\perp B} K_B \\zeta^*_1 Z_{h4}  -1 U_{3B} J^2_{\\perp B} K_B \\zeta^*_1 Z_{h4}  +1 U_{1A} J^2_{\\perp A} K_B \\zeta_1 Z^*_{h5}  +1 U_{3A} J^2_{\\perp A} K_B \\zeta_1 Z^*_{h5}  +1 U_{1A} J^2_{\\perp A} K_A \\zeta_2 Z^*_{h5}  +1 U_{3A} J^2_{\\perp A} K_A \\zeta_2 Z^*_{h5}  +1 U_{1B} J^2_{\\perp B} K_A \\zeta_1 Z^*_{h5}  +1 U_{3B} J^2_{\\perp B} K_A \\zeta_1 Z^*_{h5}  +1 U_{1B} J^2_{\\perp B} K_B \\zeta_3 Z^*_{h5}  +1 U_{3B} J^2_{\\perp B} K_B \\zeta_3 Z^*_{h5}  +1 U_{1A} J^2_{\\perp A} K_A \\zeta_1 Z^*_{h1}  +1 U_{3A} J^2_{\\perp A} K_A \\zeta_1 Z^*_{h1}  +1 U_{1A} J^2_{\\perp A} K_B \\zeta_3 Z^*_{h1}  +1 U_{3A} J^2_{\\perp A} K_B \\zeta_3 Z^*_{h1}  +1 U_{1B} J^2_{\\perp B} K_B \\zeta_2 Z^*_{h1}  +1 U_{3B} J^2_{\\perp B} K_B \\zeta_2 Z^*_{h1}  +1 U_{1B} J^2_{\\perp B} K_A \\zeta_3 Z^*_{h1}  +1 U_{3B} J^2_{\\perp B} K_A \\zeta_3 Z^*_{h1}  +1 U_{1A} J^2_{\\perp A} K_B \\zeta_2 Z^*_{h3}  +1 U_{3A} J^2_{\\perp A} K_B \\zeta_2 Z^*_{h3}  +1 U_{1A} J^2_{\\perp A} K_A \\zeta_3 Z^*_{h3}  +1 U_{3A} J^2_{\\perp A} K_A \\zeta_3 Z^*_{h3}  +1 U_{1B} J^2_{\\perp B} K_B \\zeta_1 Z^*_{h3}  +1 U_{3B} J^2_{\\perp B} K_B \\zeta_1 Z^*_{h3}  +1 U_{1B} J^2_{\\perp B} K_A \\zeta_2 Z^*_{h3}  +1 U_{3B} J^2_{\\perp B} K_A \\zeta_2 Z^*_{h3}  +2 U_{1A} J^2_{\\perp A} Z^*_{h5} Z_{h4}  +2 U_{3A} J^2_{\\perp A} Z^*_{h5} Z_{h4}  +2 U_{2A} J^2_{\\perp A} K_B \\zeta_1 Z^*_{h5}  +2 U_{2A} J^2_{\\perp A} K_A \\zeta_2 Z^*_{h5}  +2 U_{1B} J^2_{\\perp B} Z^*_{h5} Z_{h0}  +2 U_{3B} J^2_{\\perp B} Z^*_{h5} Z_{h0}  +2 U_{2B} J^2_{\\perp B} K_A \\zeta_1 Z^*_{h5}  +2 U_{2B} J^2_{\\perp B} K_B \\zeta_3 Z^*_{h5}  +2 U_{1A} J^2_{\\perp A} Z^*_{h1} Z_{h0}  +2 U_{3A} J^2_{\\perp A} Z^*_{h1} Z_{h0}  +2 U_{2A} J^2_{\\perp A} K_A \\zeta_1 Z^*_{h1}  +2 U_{2A} J^2_{\\perp A} K_B \\zeta_3 Z^*_{h1}  +2 U_{1B} J^2_{\\perp B} Z_{h2} Z^*_{h1}  +2 U_{3B} J^2_{\\perp B} Z_{h2} Z^*_{h1}  +2 U_{2B} J^2_{\\perp B} K_B \\zeta_2 Z^*_{h1}  +2 U_{2B} J^2_{\\perp B} K_A \\zeta_3 Z^*_{h1}  +2 U_{1A} J^2_{\\perp A} Z^*_{h3} Z_{h2}  +2 U_{3A} J^2_{\\perp A} Z^*_{h3} Z_{h2}  +2 U_{2A} J^2_{\\perp A} K_B \\zeta_2 Z^*_{h3}  +2 U_{2A} J^2_{\\perp A} K_A \\zeta_3 Z^*_{h3}  +2 U_{1B} J^2_{\\perp B} Z_{h4} Z^*_{h3}  +2 U_{3B} J^2_{\\perp B} Z_{h4} Z^*_{h3}  +2 U_{2B} J^2_{\\perp B} K_B \\zeta_1 Z^*_{h3}  +2 U_{2B} J^2_{\\perp B} K_A \\zeta_2 Z^*_{h3}  +4 U_{2A} J^2_{\\perp A} Z^*_{h5} Z_{h4}  +4 U_{2B} J^2_{\\perp B} Z^*_{h5} Z_{h0}  +4 U_{2A} J^2_{\\perp A} Z^*_{h1} Z_{h0}  +4 U_{2B} J^2_{\\perp B} Z_{h2} Z^*_{h1}  +4 U_{2A} J^2_{\\perp A} Z^*_{h3} Z_{h2}  +4 U_{2B} J^2_{\\perp B} Z_{h4} Z^*_{h3}$"
      ],
      "text/plain": [
       "<IPython.core.display.Latex object>"
      ]
     },
     "metadata": {},
     "output_type": "display_data"
    }
   ],
   "source": [
    "grand = Expression()\n",
    "for i in range(6):\n",
    "    grand += cwring[i]+ccwring[i]\n",
    "\n",
    "grand.collect()\n",
    "grand.sort()\n",
    "\n",
    "O = Term(grand.terms[0].ops[-6:])\n",
    "r1 = grand.coefficient(O)\n",
    "r1.show()"
   ]
  },
  {
   "cell_type": "code",
   "execution_count": 224,
   "id": "4d80c335-ca16-4126-a8ad-c0b275e5a174",
   "metadata": {},
   "outputs": [],
   "source": [
    "# pull out exactly half od the full expression\n",
    "# i.e. \n",
    "\n",
    "ring1 = cwring[0]+cwring[2]+cwring[4]+ccwring[1]+ccwring[3]+ccwring[5]\n",
    "ring1 = ring1.copy()\n",
    "separateScalars(ring1)\n",
    "rightyHops(ring1)\n",
    "ring1.collect()\n",
    "ring1.sort()\n",
    "\n",
    "rpre, O = ring1.factor(side='right')\n",
    "\n",
    "# this shows that the coefficient of O has the form claimed above, i.e. the sum of 3 CW hops and 3 CCW hops\n",
    "assert rpre == r1\n"
   ]
  },
  {
   "cell_type": "code",
   "execution_count": 225,
   "id": "812ef86c-54da-471e-9f22-1e054e6adb19",
   "metadata": {},
   "outputs": [
    {
     "data": {
      "text/latex": [
       "$  -2 U_{2A} J^2_{\\perp A} K_A K_A \\zeta^*_2 W_{Ah4}  -2 U_{2A} J^2_{\\perp A} K_A K_A \\zeta^*_1 W_{Ah0}  -2 U_{2A} J^2_{\\perp A} K_A K_A \\zeta^*_3 W_{Ah2}  -2 U_{2B} J^2_{\\perp B} K_A K_A \\zeta^*_2 W_{Ah0}  -2 U_{2B} J^2_{\\perp B} K_A K_A \\zeta^*_2 \\zeta_1  -2 U_{2B} J^2_{\\perp B} K_A K_A \\zeta^*_1 W_{Ah2}  -2 U_{2B} J^2_{\\perp B} K_A K_A \\zeta^*_1 \\zeta_3  -2 U_{2B} J^2_{\\perp B} K_A K_A \\zeta^*_3 W_{Ah4}  -2 U_{2B} J^2_{\\perp B} K_A K_A \\zeta^*_3 \\zeta_2  -1 U_{1A} J^2_{\\perp A} K_A K_A \\zeta^*_2 W_{Ah4}  -1 U_{3A} J^2_{\\perp A} K_A K_A \\zeta^*_2 W_{Ah4}  -1 U_{1A} J^2_{\\perp A} K_A K_A \\zeta^*_1 W_{Ah0}  -1 U_{3A} J^2_{\\perp A} K_A K_A \\zeta^*_1 W_{Ah0}  -1 U_{1A} J^2_{\\perp A} K_A K_A \\zeta^*_3 W_{Ah2}  -1 U_{3A} J^2_{\\perp A} K_A K_A \\zeta^*_3 W_{Ah2}  -1 U_{1B} J^2_{\\perp B} K_A K_A \\zeta^*_2 W_{Ah0}  -1 U_{3B} J^2_{\\perp B} K_A K_A \\zeta^*_2 W_{Ah0}  -1 U_{1B} J^2_{\\perp B} K_A K_A \\zeta^*_1 W_{Ah2}  -1 U_{3B} J^2_{\\perp B} K_A K_A \\zeta^*_1 W_{Ah2}  -1 U_{1B} J^2_{\\perp B} K_A K_A \\zeta^*_3 W_{Ah4}  -1 U_{3B} J^2_{\\perp B} K_A K_A \\zeta^*_3 W_{Ah4}  +1 U_{1A} J^2_{\\perp A} K_A K_A \\zeta_2 W^*_{Ah5}  +1 U_{3A} J^2_{\\perp A} K_A K_A \\zeta_2 W^*_{Ah5}  +1 U_{1A} J^2_{\\perp A} K_A K_A \\zeta_1 W^*_{Ah1}  +1 U_{3A} J^2_{\\perp A} K_A K_A \\zeta_1 W^*_{Ah1}  +1 U_{1A} J^2_{\\perp A} K_A K_A \\zeta_3 W^*_{Ah3}  +1 U_{3A} J^2_{\\perp A} K_A K_A \\zeta_3 W^*_{Ah3}  +1 U_{1B} J^2_{\\perp B} K_A K_A \\zeta_1 W^*_{Ah5}  +1 U_{3B} J^2_{\\perp B} K_A K_A \\zeta_1 W^*_{Ah5}  +1 U_{1B} J^2_{\\perp B} K_A K_A \\zeta_3 W^*_{Ah1}  +1 U_{3B} J^2_{\\perp B} K_A K_A \\zeta_3 W^*_{Ah1}  +1 U_{1B} J^2_{\\perp B} K_A K_A \\zeta_2 W^*_{Ah3}  +1 U_{3B} J^2_{\\perp B} K_A K_A \\zeta_2 W^*_{Ah3}  +2 U_{1A} J^2_{\\perp A} K_A K_A W^*_{Ah5} W_{Ah4}  +2 U_{3A} J^2_{\\perp A} K_A K_A W^*_{Ah5} W_{Ah4}  +2 U_{2A} J^2_{\\perp A} K_A K_A \\zeta_2 W^*_{Ah5}  +2 U_{1A} J^2_{\\perp A} K_A K_A W^*_{Ah1} W_{Ah0}  +2 U_{3A} J^2_{\\perp A} K_A K_A W^*_{Ah1} W_{Ah0}  +2 U_{2A} J^2_{\\perp A} K_A K_A \\zeta_1 W^*_{Ah1}  +2 U_{1A} J^2_{\\perp A} K_A K_A W^*_{Ah3} W_{Ah2}  +2 U_{3A} J^2_{\\perp A} K_A K_A W^*_{Ah3} W_{Ah2}  +2 U_{2A} J^2_{\\perp A} K_A K_A \\zeta_3 W^*_{Ah3}  +2 U_{1B} J^2_{\\perp B} K_A K_A W^*_{Ah5} W_{Ah0}  +2 U_{3B} J^2_{\\perp B} K_A K_A W^*_{Ah5} W_{Ah0}  +2 U_{2B} J^2_{\\perp B} K_A K_A \\zeta_1 W^*_{Ah5}  +2 U_{1B} J^2_{\\perp B} K_A K_A W_{Ah2} W^*_{Ah1}  +2 U_{3B} J^2_{\\perp B} K_A K_A W_{Ah2} W^*_{Ah1}  +2 U_{2B} J^2_{\\perp B} K_A K_A \\zeta_3 W^*_{Ah1}  +2 U_{1B} J^2_{\\perp B} K_A K_A W_{Ah4} W^*_{Ah3}  +2 U_{3B} J^2_{\\perp B} K_A K_A W_{Ah4} W^*_{Ah3}  +2 U_{2B} J^2_{\\perp B} K_A K_A \\zeta_2 W^*_{Ah3}  +4 U_{2A} J^2_{\\perp A} K_A K_A W^*_{Ah5} W_{Ah4}  +4 U_{2A} J^2_{\\perp A} K_A K_A W^*_{Ah1} W_{Ah0}  +4 U_{2A} J^2_{\\perp A} K_A K_A W^*_{Ah3} W_{Ah2}  +4 U_{2B} J^2_{\\perp B} K_A K_A W^*_{Ah5} W_{Ah0}  +4 U_{2B} J^2_{\\perp B} K_A K_A W_{Ah2} W^*_{Ah1}  +4 U_{2B} J^2_{\\perp B} K_A K_A W_{Ah4} W^*_{Ah3}$"
      ],
      "text/plain": [
       "<IPython.core.display.Latex object>"
      ]
     },
     "metadata": {},
     "output_type": "display_data"
    },
    {
     "data": {
      "text/latex": [
       "$  +1 S^+_{h0} S^-_{h1} S^+_{h2} S^-_{h3} S^+_{h4} S^-_{h5}$"
      ],
      "text/plain": [
       "<IPython.core.display.Latex object>"
      ]
     },
     "metadata": {},
     "output_type": "display_data"
    },
    {
     "name": "stdout",
     "output_type": "stream",
     "text": [
      "  +1 S^+_{h0} S^-_{h1} S^+_{h2} S^-_{h3} S^+_{h4} S^-_{h5}\n"
     ]
    }
   ],
   "source": [
    "for i in range(6):\n",
    "    rpre = rpre.substitute('Z_{h%d}'%i, Expression(['K_A','W_{Ah%d}'%i], ['K_B','W_{Bh%d}'%i]))\n",
    "    rpre = rpre.substitute('Z^*_{h%d}'%i, Expression(['K_A','W^*_{Ah%d}'%i], ['K_B','W^*_{Bh%d}'%i]))\n",
    "rpre.drop('K_B')\n",
    "separateScalars(rpre)\n",
    "rpre.collect()\n",
    "rpre.show()\n",
    "O.show()\n",
    "print(O)"
   ]
  },
  {
   "cell_type": "code",
   "execution_count": 226,
   "id": "a74d659f-9531-46c2-a437-52c9c4950eed",
   "metadata": {},
   "outputs": [
    {
     "data": {
      "text/latex": [
       "$  -2 J^2_{\\perp A} K_A K_A U_{2A} \\zeta^*_2 W_{Ah4}  -2 J^2_{\\perp A} K_A K_A U_{2A} \\zeta^*_1 W_{Ah0}  -2 J^2_{\\perp A} K_A K_A U_{2A} \\zeta^*_3 W_{Ah2}  -2 J^2_{\\perp B} K_A K_A U_{2B} \\zeta^*_2 W_{Ah0}  -2 J^2_{\\perp B} K_A K_A U_{2B} \\zeta^*_2 \\zeta_1  -2 J^2_{\\perp B} K_A K_A U_{2B} \\zeta^*_1 W_{Ah2}  -2 J^2_{\\perp B} K_A K_A U_{2B} \\zeta^*_1 \\zeta_3  -2 J^2_{\\perp B} K_A K_A U_{2B} \\zeta^*_3 W_{Ah4}  -2 J^2_{\\perp B} K_A K_A U_{2B} \\zeta^*_3 \\zeta_2  -1 J^2_{\\perp A} K_A K_A U_{1A} \\zeta^*_2 W_{Ah4}  -1 J^2_{\\perp A} K_A K_A U_{3A} \\zeta^*_2 W_{Ah4}  -1 J^2_{\\perp A} K_A K_A U_{1A} \\zeta^*_1 W_{Ah0}  -1 J^2_{\\perp A} K_A K_A U_{3A} \\zeta^*_1 W_{Ah0}  -1 J^2_{\\perp A} K_A K_A U_{1A} \\zeta^*_3 W_{Ah2}  -1 J^2_{\\perp A} K_A K_A U_{3A} \\zeta^*_3 W_{Ah2}  -1 J^2_{\\perp B} K_A K_A U_{1B} \\zeta^*_2 W_{Ah0}  -1 J^2_{\\perp B} K_A K_A U_{3B} \\zeta^*_2 W_{Ah0}  -1 J^2_{\\perp B} K_A K_A U_{1B} \\zeta^*_1 W_{Ah2}  -1 J^2_{\\perp B} K_A K_A U_{3B} \\zeta^*_1 W_{Ah2}  -1 J^2_{\\perp B} K_A K_A U_{1B} \\zeta^*_3 W_{Ah4}  -1 J^2_{\\perp B} K_A K_A U_{3B} \\zeta^*_3 W_{Ah4}  +1 J^2_{\\perp A} K_A K_A U_{1A} \\zeta_2 W^*_{Ah5}  +1 J^2_{\\perp A} K_A K_A U_{3A} \\zeta_2 W^*_{Ah5}  +1 J^2_{\\perp A} K_A K_A U_{1A} \\zeta_1 W^*_{Ah1}  +1 J^2_{\\perp A} K_A K_A U_{3A} \\zeta_1 W^*_{Ah1}  +1 J^2_{\\perp A} K_A K_A U_{1A} \\zeta_3 W^*_{Ah3}  +1 J^2_{\\perp A} K_A K_A U_{3A} \\zeta_3 W^*_{Ah3}  +1 J^2_{\\perp B} K_A K_A U_{1B} \\zeta_1 W^*_{Ah5}  +1 J^2_{\\perp B} K_A K_A U_{3B} \\zeta_1 W^*_{Ah5}  +1 J^2_{\\perp B} K_A K_A U_{1B} \\zeta_3 W^*_{Ah1}  +1 J^2_{\\perp B} K_A K_A U_{3B} \\zeta_3 W^*_{Ah1}  +1 J^2_{\\perp B} K_A K_A U_{1B} \\zeta_2 W^*_{Ah3}  +1 J^2_{\\perp B} K_A K_A U_{3B} \\zeta_2 W^*_{Ah3}  +2 J^2_{\\perp A} K_A K_A U_{1A} W^*_{Ah5} W_{Ah4}  +2 J^2_{\\perp A} K_A K_A U_{3A} W^*_{Ah5} W_{Ah4}  +2 J^2_{\\perp A} K_A K_A U_{2A} \\zeta_2 W^*_{Ah5}  +2 J^2_{\\perp A} K_A K_A U_{1A} W^*_{Ah1} W_{Ah0}  +2 J^2_{\\perp A} K_A K_A U_{3A} W^*_{Ah1} W_{Ah0}  +2 J^2_{\\perp A} K_A K_A U_{2A} \\zeta_1 W^*_{Ah1}  +2 J^2_{\\perp A} K_A K_A U_{1A} W^*_{Ah3} W_{Ah2}  +2 J^2_{\\perp A} K_A K_A U_{3A} W^*_{Ah3} W_{Ah2}  +2 J^2_{\\perp A} K_A K_A U_{2A} \\zeta_3 W^*_{Ah3}  +2 J^2_{\\perp B} K_A K_A U_{1B} W^*_{Ah5} W_{Ah0}  +2 J^2_{\\perp B} K_A K_A U_{3B} W^*_{Ah5} W_{Ah0}  +2 J^2_{\\perp B} K_A K_A U_{2B} \\zeta_1 W^*_{Ah5}  +2 J^2_{\\perp B} K_A K_A U_{1B} W_{Ah2} W^*_{Ah1}  +2 J^2_{\\perp B} K_A K_A U_{3B} W_{Ah2} W^*_{Ah1}  +2 J^2_{\\perp B} K_A K_A U_{2B} \\zeta_3 W^*_{Ah1}  +2 J^2_{\\perp B} K_A K_A U_{1B} W_{Ah4} W^*_{Ah3}  +2 J^2_{\\perp B} K_A K_A U_{3B} W_{Ah4} W^*_{Ah3}  +2 J^2_{\\perp B} K_A K_A U_{2B} \\zeta_2 W^*_{Ah3}  +4 J^2_{\\perp A} K_A K_A U_{2A} W^*_{Ah5} W_{Ah4}  +4 J^2_{\\perp A} K_A K_A U_{2A} W^*_{Ah1} W_{Ah0}  +4 J^2_{\\perp A} K_A K_A U_{2A} W^*_{Ah3} W_{Ah2}  +4 J^2_{\\perp B} K_A K_A U_{2B} W^*_{Ah5} W_{Ah0}  +4 J^2_{\\perp B} K_A K_A U_{2B} W_{Ah2} W^*_{Ah1}  +4 J^2_{\\perp B} K_A K_A U_{2B} W_{Ah4} W^*_{Ah3}$"
      ],
      "text/plain": [
       "<IPython.core.display.Latex object>"
      ]
     },
     "metadata": {},
     "output_type": "display_data"
    }
   ],
   "source": [
    "def left_K(x):\n",
    "    cb.move_left(x, 'K_B')\n",
    "    cb.move_left(x, 'K_A')\n",
    "    cb.move_left(x, 'K_B')\n",
    "    cb.move_left(x, 'K_A')\n",
    "    cb.move_left(x, 'J^2_{\\perp A}')\n",
    "    cb.move_left(x, 'J^2_{\\perp B}')\n",
    "\n",
    "left_K(rpre)\n",
    "    \n",
    "#pull out the scalars\n",
    "rpre.show()"
   ]
  },
  {
   "cell_type": "code",
   "execution_count": 231,
   "id": "d5256c77-80d8-4489-99c0-d8af67e08fb1",
   "metadata": {},
   "outputs": [
    {
     "name": "stdout",
     "output_type": "stream",
     "text": [
      "Coefficient of   +1 J^2_{\\perp A} K_A K_A :\n",
      "U_{1A}*\n"
     ]
    },
    {
     "data": {
      "text/latex": [
       "$  +1 \\zeta_1 W^*_{Ah1}  +1 \\zeta_3 W^*_{Ah3}  +1 \\zeta_2 W^*_{Ah5}  -1 \\zeta^*_1 W_{Ah0}  +2 W^*_{Ah1} W_{Ah0}  -1 \\zeta^*_3 W_{Ah2}  +2 W^*_{Ah3} W_{Ah2}  -1 \\zeta^*_2 W_{Ah4}  +2 W^*_{Ah5} W_{Ah4}$"
      ],
      "text/plain": [
       "<IPython.core.display.Latex object>"
      ]
     },
     "metadata": {},
     "output_type": "display_data"
    },
    {
     "name": "stdout",
     "output_type": "stream",
     "text": [
      "U_{2A}*\n"
     ]
    },
    {
     "data": {
      "text/latex": [
       "$  +2 \\zeta_1 W^*_{Ah1}  +2 \\zeta_3 W^*_{Ah3}  +2 \\zeta_2 W^*_{Ah5}  -2 \\zeta^*_1 W_{Ah0}  +4 W^*_{Ah1} W_{Ah0}  -2 \\zeta^*_3 W_{Ah2}  +4 W^*_{Ah3} W_{Ah2}  -2 \\zeta^*_2 W_{Ah4}  +4 W^*_{Ah5} W_{Ah4}$"
      ],
      "text/plain": [
       "<IPython.core.display.Latex object>"
      ]
     },
     "metadata": {},
     "output_type": "display_data"
    },
    {
     "name": "stdout",
     "output_type": "stream",
     "text": [
      "U_{3A}*\n"
     ]
    },
    {
     "data": {
      "text/latex": [
       "$  +1 \\zeta_1 W^*_{Ah1}  +1 \\zeta_3 W^*_{Ah3}  +1 \\zeta_2 W^*_{Ah5}  -1 \\zeta^*_1 W_{Ah0}  +2 W^*_{Ah1} W_{Ah0}  -1 \\zeta^*_3 W_{Ah2}  +2 W^*_{Ah3} W_{Ah2}  -1 \\zeta^*_2 W_{Ah4}  +2 W^*_{Ah5} W_{Ah4}$"
      ],
      "text/plain": [
       "<IPython.core.display.Latex object>"
      ]
     },
     "metadata": {},
     "output_type": "display_data"
    },
    {
     "name": "stdout",
     "output_type": "stream",
     "text": [
      "\n"
     ]
    }
   ],
   "source": [
    "for i in [1,2,3]:\n",
    "    cb.move_left(ops,'U_{%dA}' % i)\n",
    "    cb.move_left(ops,'U_{%dB}' % i)\n",
    "    \n",
    "# ops.show()\n",
    "    \n",
    "constB, x1 = ops.coefficient(Term('U_{1B}'),'right').factor()\n",
    "constB, x2 = ops.coefficient(Term('U_{2B}'),'right').factor()\n",
    "constB, x3 = ops.coefficient(Term('U_{3B}'),'right').factor()\n",
    "\n",
    "constA, y1 = ops.coefficient(Term('U_{1A}'),'right').factor()\n",
    "constA, y2 = ops.coefficient(Term('U_{2A}'),'right').factor()\n",
    "constA, y3 = ops.coefficient(Term('U_{3A}'),'right').factor()\n",
    "\n",
    "\n",
    "for op in [x1, x2, x3, y1, y2, y3]:\n",
    "    op.sort('last')\n",
    "    left_K(op)\n",
    "\n",
    "print('Coefficient of ' + str(constA) + ' :')\n",
    "print('U_{1A}*')\n",
    "y1.show()\n",
    "print('U_{2A}*')\n",
    "y2.show()\n",
    "print('U_{3A}*')\n",
    "y3.show()    \n",
    "print()"
   ]
  },
  {
   "cell_type": "code",
   "execution_count": 229,
   "id": "55821c1c-2a0d-4311-bb17-d2d19a198166",
   "metadata": {},
   "outputs": [
    {
     "data": {
      "text/latex": [
       "$  -1 \\zeta^*_1 \\zeta_1 S^z_{h1}  -1 \\zeta^*_1 \\zeta_2 S^z_{n0}  -1 \\zeta^*_1 \\zeta_3 S^z_{v0}  +1 \\zeta^*_1 \\zeta_1 S^z_{h0}  +1 \\zeta^*_3 \\zeta_1 S^z_{n0}  +1 \\zeta^*_2 \\zeta_1 S^z_{v0}$"
      ],
      "text/plain": [
       "<IPython.core.display.Latex object>"
      ]
     },
     "metadata": {},
     "output_type": "display_data"
    },
    {
     "name": "stdout",
     "output_type": "stream",
     "text": [
      "  -1 \\zeta^*_1 \\zeta_1 S^z_{h1}  -1 \\zeta^*_1 \\zeta_2 S^z_{n0}  -1 \\zeta^*_1 \\zeta_3 S^z_{v0}  +1 \\zeta^*_1 \\zeta_1 S^z_{h0}  +1 \\zeta^*_3 \\zeta_1 S^z_{n0}  +1 \\zeta^*_2 \\zeta_1 S^z_{v0}\n"
     ]
    },
    {
     "data": {
      "text/latex": [
       "$  +1 \\zeta^*_1 \\zeta_1 S^z_{h0} S^z_{h1}  +1 \\zeta^*_1 \\zeta_2 S^z_{h0} S^z_{n0}  +1 \\zeta^*_1 \\zeta_3 S^z_{h0} S^z_{v0}  +1 \\zeta^*_3 \\zeta_1 S^z_{n0} S^z_{h1}  +1 \\zeta^*_3 \\zeta_2 S^z_{n0} S^z_{n0}  +1 \\zeta^*_3 \\zeta_3 S^z_{n0} S^z_{v0}  +1 \\zeta^*_2 \\zeta_1 S^z_{v0} S^z_{h1}  +1 \\zeta^*_2 \\zeta_2 S^z_{v0} S^z_{n0}  +1 \\zeta^*_2 \\zeta_3 S^z_{v0} S^z_{v0}$"
      ],
      "text/plain": [
       "<IPython.core.display.Latex object>"
      ]
     },
     "metadata": {},
     "output_type": "display_data"
    }
   ],
   "source": [
    "# algebra help for the J_A coefficient\n",
    "\n",
    "z = -Term(r'\\zeta^*_1')*WA[0] + Term(r'\\zeta_1')*WAb[1]\n",
    "separateScalars(z)\n",
    "z.show()\n",
    "print(z)\n",
    "\n",
    "zz = WAb[1]*WA[0]\n",
    "separateScalars(zz)\n",
    "zz.show()"
   ]
  },
  {
   "cell_type": "code",
   "execution_count": 271,
   "id": "e7ffaba0-64ea-44a7-88db-ed79f2a050d1",
   "metadata": {},
   "outputs": [
    {
     "name": "stdout",
     "output_type": "stream",
     "text": [
      "Coefficient of   +1 J^2_{\\perp B} K_A K_A :\n",
      "U_{1B}*\n"
     ]
    },
    {
     "data": {
      "text/latex": [
       "$  +1 \\zeta_3 W^*_{Ah1}  +2 W_{Ah2} W^*_{Ah1}  +1 \\zeta_2 W^*_{Ah3}  +2 W_{Ah4} W^*_{Ah3}  +1 \\zeta_1 W^*_{Ah5}  -1 \\zeta^*_2 W_{Ah0}  +2 W^*_{Ah5} W_{Ah0}  -1 \\zeta^*_1 W_{Ah2}  -1 \\zeta^*_3 W_{Ah4}$"
      ],
      "text/plain": [
       "<IPython.core.display.Latex object>"
      ]
     },
     "metadata": {},
     "output_type": "display_data"
    },
    {
     "name": "stdout",
     "output_type": "stream",
     "text": [
      "U_{2B}*\n"
     ]
    },
    {
     "data": {
      "text/latex": [
       "$  +2 \\zeta_3 W^*_{Ah1}  +4 W_{Ah2} W^*_{Ah1}  +2 \\zeta_2 W^*_{Ah3}  +4 W_{Ah4} W^*_{Ah3}  +2 \\zeta_1 W^*_{Ah5}  -2 \\zeta^*_2 W_{Ah0}  +4 W^*_{Ah5} W_{Ah0}  -2 \\zeta^*_1 W_{Ah2}  -2 \\zeta^*_3 W_{Ah4}  -2 \\zeta^*_2 \\zeta_1  -2 \\zeta^*_3 \\zeta_2  -2 \\zeta^*_1 \\zeta_3$"
      ],
      "text/plain": [
       "<IPython.core.display.Latex object>"
      ]
     },
     "metadata": {},
     "output_type": "display_data"
    },
    {
     "name": "stdout",
     "output_type": "stream",
     "text": [
      "U_{3B}*\n"
     ]
    },
    {
     "data": {
      "text/latex": [
       "$  +1 \\zeta_3 W^*_{Ah1}  +2 W_{Ah2} W^*_{Ah1}  +1 \\zeta_2 W^*_{Ah3}  +2 W_{Ah4} W^*_{Ah3}  +1 \\zeta_1 W^*_{Ah5}  -1 \\zeta^*_2 W_{Ah0}  +2 W^*_{Ah5} W_{Ah0}  -1 \\zeta^*_1 W_{Ah2}  -1 \\zeta^*_3 W_{Ah4}$"
      ],
      "text/plain": [
       "<IPython.core.display.Latex object>"
      ]
     },
     "metadata": {},
     "output_type": "display_data"
    }
   ],
   "source": [
    "print('Coefficient of ' + str(constB) + ' :')\n",
    "print('U_{1B}*')\n",
    "x1.show()\n",
    "print('U_{2B}*')\n",
    "x2.show()\n",
    "print('U_{3B}*')\n",
    "x3.show()"
   ]
  },
  {
   "cell_type": "code",
   "execution_count": 230,
   "id": "ec16e7d9-555d-45dc-b188-ba166e7fb5a0",
   "metadata": {},
   "outputs": [
    {
     "data": {
      "text/latex": [
       "$  -1 \\zeta^*_2 \\zeta_1 S^z_{h1}  -1 \\zeta^*_2 \\zeta_2 S^z_{n0}  +1 \\zeta^*_1 \\zeta_3 S^z_{h0}  +1 \\zeta^*_3 \\zeta_3 S^z_{n0}$"
      ],
      "text/plain": [
       "<IPython.core.display.Latex object>"
      ]
     },
     "metadata": {},
     "output_type": "display_data"
    }
   ],
   "source": [
    "# algebra help for the J_B coefficient\n",
    "\n",
    "z = -Term(r'\\zeta^*_2')*WA[0] + Term(r'\\zeta_3')*WAb[1]\n",
    "separateScalars(z)\n",
    "z.collect()\n",
    "z.show()"
   ]
  },
  {
   "cell_type": "code",
   "execution_count": 85,
   "id": "2c6c79e5-f509-4209-8619-d13a55ed3e5c",
   "metadata": {},
   "outputs": [
    {
     "data": {
      "text/latex": [
       "$  -1/2 \\zeta^*_3 \\zeta_3 S^z_{n0}  +1 \\zeta^*_3 \\zeta_1 S^z_{n2} S^z_{n0}  -1 \\zeta^*_2 \\zeta_1 S^z_{n2} S^z_{n0}  -1 \\zeta^*_3 \\zeta_2 S^z_{n2} S^z_{n0}  +1 \\zeta^*_2 \\zeta_2 S^z_{n2} S^z_{n0}  +1/2 \\zeta^*_2 \\zeta_2 S^z_{n0}  +1/2 \\zeta^*_1 \\zeta_1 S^z_{n2}  -1/2 \\zeta^*_2 \\zeta_2 S^z_{n2}  +1 \\zeta^*_2 \\zeta_3 S^z_{n4} S^z_{n2}  -1 \\zeta^*_1 \\zeta_3 S^z_{n4} S^z_{n2}  -1 \\zeta^*_2 \\zeta_1 S^z_{n4} S^z_{n2}  +1 \\zeta^*_1 \\zeta_1 S^z_{n4} S^z_{n2}  +1/2 \\zeta^*_3 \\zeta_3 S^z_{n4}  -1/2 \\zeta^*_1 \\zeta_1 S^z_{n4}  +1 \\zeta^*_1 \\zeta_2 S^z_{n0} S^z_{n4}  -1 \\zeta^*_3 \\zeta_2 S^z_{n0} S^z_{n4}  -1 \\zeta^*_1 \\zeta_3 S^z_{n0} S^z_{n4}  +1 \\zeta^*_3 \\zeta_3 S^z_{n0} S^z_{n4}  -1/4 \\zeta^*_2 \\zeta_1  -1/4 \\zeta^*_3 \\zeta_2  -1/4 \\zeta^*_1 \\zeta_3$"
      ],
      "text/plain": [
       "<IPython.core.display.Latex object>"
      ]
     },
     "metadata": {},
     "output_type": "display_data"
    }
   ],
   "source": [
    "z = WA[2]*WAb[1] + WA[4]*WAb[3] + WA[0]*WAb[5]\n",
    "separateScalars(z)\n",
    "z = z.substitute(r'S^z_{h1}',Term('-1/2'))\n",
    "z = z.substitute(r'S^z_{h3}',Term('-1/2'))\n",
    "z = z.substitute(r'S^z_{h5}',Term('-1/2'))\n",
    "z = z.substitute(r'S^z_{h0}',Term('1/2'))\n",
    "z = z.substitute(r'S^z_{h2}',Term('1/2'))\n",
    "z = z.substitute(r'S^z_{h4}',Term('1/2'))\n",
    "\n",
    "\n",
    "z = z.substitute(r'S^z_{v0}',-Term(r'S^z_{n0}'))\n",
    "z = z.substitute(r'S^z_{v2}',-Term(r'S^z_{n2}'))\n",
    "z = z.substitute(r'S^z_{v4}',-Term(r'S^z_{n4}'))\n",
    "\n",
    "z.sort('last')\n",
    "z.collect()\n",
    "z.show()\n",
    "# print(z)"
   ]
  },
  {
   "cell_type": "code",
   "execution_count": null,
   "id": "ddaa70f8-4d8c-435a-8529-8b20c7a9b1d4",
   "metadata": {},
   "outputs": [
    {
     "data": {
      "text/latex": [
       "$$"
      ],
      "text/plain": [
       "<IPython.core.display.Latex object>"
      ]
     },
     "metadata": {},
     "output_type": "display_data"
    },
    {
     "data": {
      "text/latex": [
       "$$"
      ],
      "text/plain": [
       "<IPython.core.display.Latex object>"
      ]
     },
     "metadata": {},
     "output_type": "display_data"
    },
    {
     "data": {
      "text/latex": [
       "$$"
      ],
      "text/plain": [
       "<IPython.core.display.Latex object>"
      ]
     },
     "metadata": {},
     "output_type": "display_data"
    }
   ],
   "source": [
    "aa1 = x1.coefficient(Term(['K_A','K_A']),'right')\n",
    "aa1.show()\n",
    "aa2 = x2.coefficient(Term(['K_A','K_A']),'right')\n",
    "aa2.show()\n",
    "aa3 = x3.coefficient(Term(['K_A','K_A']),'right')\n",
    "aa3.show()"
   ]
  },
  {
   "cell_type": "code",
   "execution_count": null,
   "id": "e03870b5-9098-415e-a5be-029a5de1ff38",
   "metadata": {},
   "outputs": [],
   "source": [
    "ab1 = x1.coefficient(Term(['K_A','K_B']),'right')\n",
    "ab1.show()\n",
    "ab2 = x2.coefficient(Term(['K_A','K_B']),'right')\n",
    "ab2.show()\n",
    "ab3 = x3.coefficient(Term(['K_A','K_B']),'right')\n",
    "ab3.show()"
   ]
  },
  {
   "cell_type": "code",
   "execution_count": null,
   "id": "d022dc12-94e9-47ab-993c-6fc403de1c74",
   "metadata": {},
   "outputs": [],
   "source": [
    "bb1 = x1.coefficient(Term(['K_B','K_B']),'right')\n",
    "bb1.show()\n",
    "bb2 = x2.coefficient(Term(['K_B','K_B']),'right')\n",
    "bb2.show()\n",
    "bb3 = x3.coefficient(Term(['K_B','K_B']),'right')\n",
    "bb3.show()\n",
    "\n",
    "# Look here: \n",
    "\n",
    "# constants4 = Term(['J^2_{\\perp A}', 'K_A','K_A'])\n",
    "\n",
    "# y = x.coefficient(constants4,'right')\n",
    "# y.show()\n",
    "\n",
    "# print(Expression('U_{1A}',[2,'U_{2A}'], 'U_{3A}')*Term(['J^2_{\\perp A}', 'K_A','K_A'])*y == rpre)"
   ]
  },
  {
   "cell_type": "code",
   "execution_count": null,
   "id": "e79be53d-88ac-4822-be4b-a34d4b1fd4cf",
   "metadata": {},
   "outputs": [],
   "source": []
  },
  {
   "cell_type": "code",
   "execution_count": null,
   "id": "cc9e6844-0ce6-409a-9084-68aa04dfa328",
   "metadata": {},
   "outputs": [],
   "source": []
  }
 ],
 "metadata": {
  "kernelspec": {
   "display_name": "Python 3",
   "language": "python",
   "name": "python3"
  },
  "language_info": {
   "codemirror_mode": {
    "name": "ipython",
    "version": 3
   },
   "file_extension": ".py",
   "mimetype": "text/x-python",
   "name": "python",
   "nbconvert_exporter": "python",
   "pygments_lexer": "ipython3",
   "version": "3.9.10"
  }
 },
 "nbformat": 4,
 "nbformat_minor": 5
}
