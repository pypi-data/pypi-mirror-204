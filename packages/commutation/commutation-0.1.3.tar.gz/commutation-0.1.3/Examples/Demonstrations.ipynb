{
 "cells": [
  {
   "cell_type": "markdown",
   "id": "1d603737",
   "metadata": {},
   "source": [
    "This is a kind of 'cheat sheet' for using the module."
   ]
  },
  {
   "cell_type": "markdown",
   "id": "fcc3fa1e-3a41-4561-ae20-878d2f7bf187",
   "metadata": {},
   "source": [
    "## Constructing `Operator`\n",
    "Operators are the basic building blocks of `Expression`s. \n",
    "these inherit `__eq__` from object, so they should *not* be recreated!"
   ]
  },
  {
   "cell_type": "code",
   "execution_count": 2,
   "id": "bf301c99-8f00-4ed7-8ff3-e1712f1ab8b5",
   "metadata": {},
   "outputs": [
    {
     "name": "stdout",
     "output_type": "stream",
     "text": [
      "a\n",
      "a\n",
      "b\n",
      "S^z_b\n"
     ]
    }
   ],
   "source": [
    "from commutation import *\n",
    "from fractions import Fraction\n",
    "\n",
    "# Use the constructor\n",
    "a = Operator('a')\n",
    "print(a)\n",
    "print(a.latex_string)\n",
    "\n",
    "b = Operator('b','S^z_b')\n",
    "c = Operator('c','S^z_c')\n",
    "d = Operator('d','S^z_d')\n",
    "print(b)\n",
    "print(b.latex_string)\n",
    "\n",
    "# Operator can also be declared scalar\n",
    "KA = Operator('KA','K_A',scalar=True)"
   ]
  },
  {
   "cell_type": "code",
   "execution_count": 14,
   "id": "7e3b66b8-744a-4af4-8acb-e1ca5fcd836c",
   "metadata": {},
   "outputs": [
    {
     "name": "stdout",
     "output_type": "stream",
     "text": [
      "True True True\n"
     ]
    }
   ],
   "source": [
    "# making new `a`s is fine, but be warned that doing whis might lead to weird latex rendering\n",
    "\n",
    "a2 = Operator('a', 'S^z_a')\n",
    "a3 = Operator('a', 'a')\n",
    "print(a==a2, a==a3, a2==a3)"
   ]
  },
  {
   "cell_type": "markdown",
   "id": "abb15fa7-1ae6-4888-a10c-679433c044fe",
   "metadata": {},
   "source": [
    "## Constructing `Term`\n",
    "\n",
    "A `Term` is a product of Operators and \"true\" scalars, i.e. `int` and `Fraction`.\n"
   ]
  },
  {
   "cell_type": "code",
   "execution_count": 15,
   "id": "1aed89cc",
   "metadata": {},
   "outputs": [
    {
     "name": "stdout",
     "output_type": "stream",
     "text": [
      "+1\n"
     ]
    }
   ],
   "source": [
    "# A default Term is 1:\n",
    "print(Term())"
   ]
  },
  {
   "cell_type": "code",
   "execution_count": 16,
   "id": "8891e8ed-d43d-4730-84c4-2389207e3643",
   "metadata": {},
   "outputs": [
    {
     "name": "stdout",
     "output_type": "stream",
     "text": [
      "-15/2 a b c d\n",
      "-\\frac{15}{2} a S^z_b S^z_c S^z_d\n",
      "-\\frac{15}{2} S^z_a S^z_b S^z_c S^z_d\n"
     ]
    },
    {
     "data": {
      "text/latex": [
       "$-\\frac{15}{2} S^z_a S^z_b S^z_c S^z_d$"
      ],
      "text/plain": [
       "<IPython.core.display.Latex object>"
      ]
     },
     "metadata": {},
     "output_type": "display_data"
    }
   ],
   "source": [
    "# creating them with the constructor:\n",
    "t = Term(-9,a,b,Fraction(5,6),c,d)\n",
    "print(t)\n",
    "print(t.as_latex())\n",
    "\n",
    "# you can change the rendering of `a` on the fly:\n",
    "a.latex_string = 'S^z_a'\n",
    "print(t.as_latex())\n",
    "show(t)"
   ]
  },
  {
   "cell_type": "code",
   "execution_count": 17,
   "id": "9a32b837",
   "metadata": {},
   "outputs": [
    {
     "name": "stdout",
     "output_type": "stream",
     "text": [
      "-9 a b\n"
     ]
    }
   ],
   "source": [
    "# Terms are naturally built when multiplying Operators:\n",
    "t = a*b*-9\n",
    "print(t)\n"
   ]
  },
  {
   "cell_type": "code",
   "execution_count": 18,
   "id": "abf04aaf-a6b6-4d93-9479-285e034a6c90",
   "metadata": {},
   "outputs": [
    {
     "name": "stdout",
     "output_type": "stream",
     "text": [
      "-9 a b\n",
      "-9 a c\n"
     ]
    }
   ],
   "source": [
    "# Copying should be done with the copy constructor\n",
    "t2 = Term(t)\n",
    "t2.ops[1] = c\n",
    "print(t)\n",
    "print(t2)"
   ]
  },
  {
   "cell_type": "code",
   "execution_count": 19,
   "id": "407c3bfc-be3d-4d53-ae33-c157de9f0ebf",
   "metadata": {},
   "outputs": [
    {
     "name": "stdout",
     "output_type": "stream",
     "text": [
      "-9 a b\n",
      "-9 a c -9 a c\n"
     ]
    }
   ],
   "source": [
    "### DON'T do this unless you mean to:\n",
    "# Assignment makes a shallow copy\n",
    "t2 = t\n",
    "print(t2)\n",
    "t2.ops[1] = c\n",
    "print(t, t2)"
   ]
  },
  {
   "cell_type": "code",
   "execution_count": 20,
   "id": "7e04aa1e-157a-4697-80ae-3c948b3b12ca",
   "metadata": {},
   "outputs": [
    {
     "name": "stdout",
     "output_type": "stream",
     "text": [
      "True\n",
      "False\n"
     ]
    }
   ],
   "source": [
    "## Equality of terms is noncommutative:\n",
    "\n",
    "print(a*b == a*b)\n",
    "print(a*b == b*a)\n"
   ]
  },
  {
   "cell_type": "code",
   "execution_count": 21,
   "id": "73df0b0f-e33e-4d8d-99fc-852014935dd9",
   "metadata": {},
   "outputs": [
    {
     "name": "stdout",
     "output_type": "stream",
     "text": [
      "[0, 4, 9]\n"
     ]
    }
   ],
   "source": [
    "# Terms are searchable:\n",
    "tt = a*b*b*b*a*b*a*a*c*a*b\n",
    "print(tt.findall(a*b))"
   ]
  },
  {
   "cell_type": "code",
   "execution_count": 22,
   "id": "939c0019",
   "metadata": {},
   "outputs": [
    {
     "name": "stdout",
     "output_type": "stream",
     "text": [
      "[1, 3]\n"
     ]
    }
   ],
   "source": [
    "# Searching avoids collisions\n",
    "tt = a*b*b*b*b*b*a*a*c*a*b\n",
    "print(tt.findall(b*b))"
   ]
  },
  {
   "cell_type": "code",
   "execution_count": 23,
   "id": "9f3b8ffa-2f9e-4720-b092-14d637518adf",
   "metadata": {},
   "outputs": [
    {
     "data": {
      "text/latex": [
       "$+1 \\zeta_3 \\zeta_1^* S^z_a +1 \\zeta_1 \\zeta_2^* S^z_b S^z_a $"
      ],
      "text/plain": [
       "<IPython.core.display.Latex object>"
      ]
     },
     "metadata": {},
     "output_type": "display_data"
    },
    {
     "data": {
      "text/latex": [
       "$+1 \\zeta_3^* \\zeta_1 S^z_a +1 \\zeta_1^* \\zeta_2 S^z_b S^z_a $"
      ],
      "text/plain": [
       "<IPython.core.display.Latex object>"
      ]
     },
     "metadata": {},
     "output_type": "display_data"
    }
   ],
   "source": [
    "z1 = Operator('z1',r'\\zeta_1',scalar=True)\n",
    "z2 = Operator('z2',r'\\zeta_2', scalar=True)\n",
    "z3 = Operator('z3',r'\\zeta_3', scalar=True)\n",
    "\n",
    "z1_bar = Operator('z1b',r'\\zeta_1^*', scalar=True)\n",
    "z2_bar = Operator('z2b',r'\\zeta_2^*', scalar=True)\n",
    "z3_bar = Operator('z3b',r'\\zeta_3^*', scalar=True)\n",
    "\n",
    "def conjugate(x):\n",
    "     return x.replaceall((z1, z1_bar), (z2, z2_bar), (z3, z3_bar), (z1_bar, z1), (z2_bar, z2), (z3_bar, z3))\n",
    "    \n",
    "xpr = z3*z1_bar*a + z1*z2_bar*b*a\n",
    "show(xpr)\n",
    "xprbar=conjugate(xpr)\n",
    "show(xprbar)\n"
   ]
  },
  {
   "cell_type": "markdown",
   "id": "aa3c4085-5703-4243-a6ec-59ddbd45b458",
   "metadata": {},
   "source": [
    "## Constructing `Expression`\n",
    "An `Expression` is a sum of Terms."
   ]
  },
  {
   "cell_type": "code",
   "execution_count": 24,
   "id": "5dbf589b-7bcc-4115-9b0c-4656a58edf7c",
   "metadata": {},
   "outputs": [
    {
     "name": "stdout",
     "output_type": "stream",
     "text": [
      "  +1\n",
      "\n"
     ]
    }
   ],
   "source": [
    "# A default `Expression` is 0: (renders as empty space)\n",
    "print(Expression() + 1)\n",
    "print(Expression())"
   ]
  },
  {
   "cell_type": "code",
   "execution_count": 25,
   "id": "16c9dc01",
   "metadata": {},
   "outputs": [
    {
     "data": {
      "text/latex": [
       "$+1 S^z_a S^z_b S^z_b S^z_c +1 S^z_b S^z_c +1 S^z_a S^z_b S^z_c $"
      ],
      "text/plain": [
       "<IPython.core.display.Latex object>"
      ]
     },
     "metadata": {},
     "output_type": "display_data"
    }
   ],
   "source": [
    "# Expressions can be constructed from multiple arguments:\n",
    "x = Expression(a*b*b*c,b*c,a*b*c)\n",
    "show(x)"
   ]
  },
  {
   "cell_type": "code",
   "execution_count": 26,
   "id": "ad897c37",
   "metadata": {},
   "outputs": [
    {
     "data": {
      "text/latex": [
       "$+1 S^z_a S^z_b S^z_c +1 S^z_a S^z_b S^z_b S^z_c +1 S^z_b S^z_c $"
      ],
      "text/plain": [
       "<IPython.core.display.Latex object>"
      ]
     },
     "metadata": {},
     "output_type": "display_data"
    }
   ],
   "source": [
    "# or as sums of Terms:\n",
    "x2 = a*b*c + a*b*b*c + b*c \n",
    "show(x2)"
   ]
  },
  {
   "cell_type": "code",
   "execution_count": 27,
   "id": "51b6b123",
   "metadata": {},
   "outputs": [
    {
     "name": "stdout",
     "output_type": "stream",
     "text": [
      "True\n"
     ]
    }
   ],
   "source": [
    "# equality is commutative with respect to rearrangements of the sum:\n",
    "print(x2 == x)"
   ]
  },
  {
   "cell_type": "code",
   "execution_count": 28,
   "id": "f4abd87f-f63d-4359-ac16-8db3bdd7dccd",
   "metadata": {},
   "outputs": [
    {
     "data": {
      "text/latex": [
       "$+\\frac{17}{8} S^z_a S^z_b -10 S^z_b S^z_b $"
      ],
      "text/plain": [
       "<IPython.core.display.Latex object>"
      ]
     },
     "metadata": {},
     "output_type": "display_data"
    },
    {
     "name": "stdout",
     "output_type": "stream",
     "text": [
      "  +1 a b\n"
     ]
    }
   ],
   "source": [
    "# collect() collects like terms:\n",
    "x = a*b + b*b + Fraction(9/8)*a*b + b*-11*b\n",
    "x.collect()\n",
    "show(x)\n",
    "# and even cancels:\n",
    "x = 2*a*b + -1*a*b\n",
    "x.collect()\n",
    "print(x)\n"
   ]
  },
  {
   "cell_type": "code",
   "execution_count": 29,
   "id": "a10421a8-fbf3-4adb-ad07-cec334b68700",
   "metadata": {},
   "outputs": [
    {
     "data": {
      "text/latex": [
       "$+1 S^z_a S^z_b S^z_b S^z_b S^z_a S^z_c S^z_a S^z_a S^z_c S^z_a S^z_b +1 $"
      ],
      "text/plain": [
       "<IPython.core.display.Latex object>"
      ]
     },
     "metadata": {},
     "output_type": "display_data"
    },
    {
     "name": "stdout",
     "output_type": "stream",
     "text": [
      "  +1 a b b b a c a a c a b  +1\n",
      "  +1 c b b a c a a c c  +1 c b b a c a a c d  +1 d b b a c a a c c  +1 d b b a c a a c d  +1\n",
      "  +1 a b b b a c a a c a b  +1\n",
      "  +1 a b b a c a a c c  +1 c b b a c a a c d  +1 d b b a c a a c c  +1 d b b a c a a c d  +1\n"
     ]
    }
   ],
   "source": [
    "# Expressions can be substituted into:\n",
    "\n",
    "tt = a*b*b*b*a*c*a*a*c*a*b\n",
    "\n",
    "xx = tt + 1\n",
    "show(xx)\n",
    "\n",
    "assert xx.terms[0].ops[0] == a\n",
    "\n",
    "y = xx.substitute(a*b,c+d)\n",
    "print(xx)\n",
    "print(y)\n",
    "\n",
    "# substitute returns a deep copy\n",
    "y.terms[0].ops[0] = a\n",
    "print(xx)\n",
    "print(y)"
   ]
  },
  {
   "cell_type": "code",
   "execution_count": 30,
   "id": "98cd9f0a",
   "metadata": {},
   "outputs": [
    {
     "data": {
      "text/latex": [
       "$+\\frac{1}{1024} S^z_a +1 $"
      ],
      "text/plain": [
       "<IPython.core.display.Latex object>"
      ]
     },
     "metadata": {},
     "output_type": "display_data"
    }
   ],
   "source": [
    "# multiple substitutions can be chained:\n",
    "q = Fraction(1,4)\n",
    "\n",
    "z = xx.sub(b*b, q).sub(a*a,q).sub(c*c, q).sub(a*a,q).sub(b*b, q).sub(c*c,q)\n",
    "show(z)"
   ]
  },
  {
   "cell_type": "code",
   "execution_count": 31,
   "id": "62b991da-344a-42b6-b39d-f14e71dfd118",
   "metadata": {},
   "outputs": [
    {
     "name": "stdout",
     "output_type": "stream",
     "text": [
      "  +7 a b b  +4/5 a c b b  +1 a d b b  +1 a c a a b b  +3 a b b\n"
     ]
    },
    {
     "data": {
      "text/latex": [
       "$+\\frac{4}{5} S^z_b S^z_b +1 S^z_a S^z_a S^z_b S^z_b $"
      ],
      "text/plain": [
       "<IPython.core.display.Latex object>"
      ]
     },
     "metadata": {},
     "output_type": "display_data"
    },
    {
     "data": {
      "text/latex": [
       "$$"
      ],
      "text/plain": [
       "<IPython.core.display.Latex object>"
      ]
     },
     "metadata": {},
     "output_type": "display_data"
    },
    {
     "data": {
      "text/latex": [
       "$+10 S^z_a +\\frac{4}{5} S^z_a S^z_c +1 S^z_a S^z_d +1 S^z_a S^z_c S^z_a S^z_a $"
      ],
      "text/plain": [
       "<IPython.core.display.Latex object>"
      ]
     },
     "metadata": {},
     "output_type": "display_data"
    }
   ],
   "source": [
    "# Coefficients of known terms can be pulled out\n",
    "\n",
    "xx = 7*a*b*b + Fraction(4,5)*a*c*b*b + a*d*b*b + a*c*a*a*b*b + 3*a*b*b\n",
    "print(xx)\n",
    "\n",
    "y = xx.coefficient(a*c,'right')\n",
    "show(y)\n",
    "y = xx.coefficient(a*c)\n",
    "show(y)\n",
    "y = xx.coefficient(b*b)\n",
    "show(y)\n"
   ]
  },
  {
   "cell_type": "code",
   "execution_count": 32,
   "id": "58bb68ce",
   "metadata": {},
   "outputs": [
    {
     "name": "stdout",
     "output_type": "stream",
     "text": [
      "+1 a * [  +10 b b  +4/5 c b b  +1 d b b  +1 c a a b b  ] =   +10 a b b  +4/5 a c b b  +1 a d b b  +1 a c a a b b\n",
      "[  +10 a  +4/5 a c  +1 a d  +1 a c a a  ] * +1 b b =   +10 a b b  +4/5 a c b b  +1 a d b b  +1 a c a a b b\n"
     ]
    }
   ],
   "source": [
    "# Factorisation of leading or trailing terms can be done without specifying which term to look for\n",
    "\n",
    "fr, ba = xx.factor('right')\n",
    "print(str(fr) + ' * [' + str(ba) + '  ] = ' +str(fr*ba))\n",
    "\n",
    "fr, ba = xx.factor()\n",
    "print('['+str(fr) + '  ] * ' + str(ba) + ' = ' +str(fr*ba))"
   ]
  },
  {
   "cell_type": "markdown",
   "id": "2b74fd70-48ae-4352-89d4-e090b30cb2e9",
   "metadata": {},
   "source": [
    "## Constructing a CommutatorAlgebra"
   ]
  },
  {
   "cell_type": "code",
   "execution_count": 4,
   "id": "26390ab5-91ae-4681-89e2-1e3c11d96aaf",
   "metadata": {},
   "outputs": [],
   "source": [
    "ca = CommutatorAlgebra()\n",
    "\n",
    "az = Operator('az','S^z_a')\n",
    "ap = Operator('a⁺','S^+_a')\n",
    "am = Operator('a⁻','S^-_a')\n",
    "\n",
    "# note the funky bracket sequence - set_commutator actually returns a function\n",
    "ca.set_commutator(az,ap)(ap)\n",
    "ca.set_commutator(az,am)(-1*am)\n",
    "ca.set_commutator(ap,am)(2*az)\n"
   ]
  },
  {
   "cell_type": "code",
   "execution_count": 5,
   "id": "56b15e04-5ee3-4321-b52f-1f8840ab27c0",
   "metadata": {},
   "outputs": [
    {
     "name": "stdout",
     "output_type": "stream",
     "text": [
      "  +1 a⁺ a⁻ az az az  -2 a⁺ a⁻ az az  +1 a⁺ a⁻ az\n",
      "  +1 a⁻ az a⁺ az az  -2 a⁻ az a⁺ az  +2 az az az az  -1 a⁻ a⁺ az az  +1 a⁻ az a⁺  -4 az az az  +2 a⁻ a⁺ az  +2 az az  -1 a⁻ a⁺\n",
      "  +1 a⁺ a⁻ c a⁻ az  -1 a⁺ a⁻ c a⁻\n",
      "  +1 a⁺ a⁻ KA a⁻ az  -1 a⁺ a⁻ KA a⁻\n"
     ]
    },
    {
     "name": "stderr",
     "output_type": "stream",
     "text": [
      "/opt/homebrew/lib/python3.10/site-packages/commutation/commutatoralgebra.py:72: UserWarning: Non-scalar operator \"c\" is not in the commutator database, assuming it commutes...\n",
      "  warn(s)\n"
     ]
    }
   ],
   "source": [
    "# there are two modes: move_left and move_right\n",
    "# Note that pathological commutators will make these fall into recursion loops...\n",
    "\n",
    "xpr = Expression(az*ap*az*az*am)\n",
    "ca.move_right(xpr, az)\n",
    "xpr.collect()\n",
    "print(xpr) # +1 a⁺ a⁻ az az az  -2 a⁺ a⁻ az az  +1 a⁺ a⁻ az\n",
    "\n",
    "xpr = Expression(az*ap*az*az*am)\n",
    "ca.move_left(xpr, am)\n",
    "xpr.collect()\n",
    "print(xpr) # +1 a⁻ az a⁺ az az  -2 a⁻ az a⁺ az  +2 az az az az  -1 a⁻ a⁺ az az  +1 a⁻ az a⁺  -4 az az az  +2 a⁻ a⁺ az  +2 az az  -1 a⁻ a⁺\n",
    "\n",
    "# these will warn you if you add an unknown operator...\n",
    "xpr2 = Expression(az*ap*am*c*am)\n",
    "ca.move_right(xpr2, az)\n",
    "xpr2.collect()\n",
    "print(xpr2) #   +1 a⁺ a⁻ c a⁻ az  -1 a⁺ a⁻ c a⁻\n",
    "\n",
    "# # ... but scalars are fine.\n",
    "xpr3 = Expression(az*ap*am*KA*am)\n",
    "ca.move_right(xpr3, az)\n",
    "xpr3.collect()\n",
    "print(xpr3) #   +1 a⁺ a⁻ KA a⁻ az  -1 a⁺ a⁻ KA a⁻"
   ]
  },
  {
   "cell_type": "code",
   "execution_count": 35,
   "id": "22287386-63cb-469a-b5d7-dd86585501e0",
   "metadata": {},
   "outputs": [
    {
     "name": "stdout",
     "output_type": "stream",
     "text": [
      "  +2 az a⁻ a⁺  +2 az az  -2 az\n",
      "  +4 a⁺ a⁻  -4 a⁺ a⁻  +1\n",
      "  +1\n"
     ]
    }
   ],
   "source": [
    "x = ap*az*am + am*az*ap\n",
    "\n",
    "ca.move_right(x,am)\n",
    "ca.move_right(x,ap)\n",
    "print(x)\n",
    "#+2 az a⁻ a⁺  +2 az az  -2 az\n",
    "\n",
    "y = 4*ap*am - 4*ap*am + 1\n",
    "print(y)\n",
    "y.collect()\n",
    "print(y)\n"
   ]
  },
  {
   "cell_type": "code",
   "execution_count": 36,
   "id": "1872487e-f075-4398-9d11-c0a3b39b6e3b",
   "metadata": {},
   "outputs": [
    {
     "data": {
      "text/latex": [
       "$+1 K_A K_A S^z_a S^z_b S^z_c +1 K_A K_A S^z_b $"
      ],
      "text/plain": [
       "<IPython.core.display.Latex object>"
      ]
     },
     "metadata": {},
     "output_type": "display_data"
    },
    {
     "name": "stdout",
     "output_type": "stream",
     "text": [
      "+1 a b KA c KA\n",
      "+1 KA KA a b c\n"
     ]
    }
   ],
   "source": [
    "# Scalar quantities can be bubbled to the front more efficiently:\n",
    "x = a*b*KA*c*KA + KA*b*KA\n",
    "x.move_scalars()\n",
    "show(x)\n",
    "\n",
    "\n",
    "# this also works for Term:\n",
    "trm = a*b*KA*c*KA\n",
    "print(trm)\n",
    "trm.move_scalars()\n",
    "print(trm)"
   ]
  },
  {
   "cell_type": "code",
   "execution_count": 37,
   "id": "59921b95-cf5c-4506-899a-71f328d9c930",
   "metadata": {},
   "outputs": [
    {
     "data": {
      "text/latex": [
       "$+1 S^z_a S^z_a S^z_a S^+_a S^-_a -2 S^z_a S^z_a S^+_a S^-_a +1 S^z_a S^+_a S^-_a $"
      ],
      "text/plain": [
       "<IPython.core.display.Latex object>"
      ]
     },
     "metadata": {},
     "output_type": "display_data"
    },
    {
     "data": {
      "text/latex": [
       "$+1 S^z_a S^z_a S^z_a S^+_a S^-_a -2 S^z_a S^z_a S^+_a S^-_a +1 S^z_a S^+_a S^-_a $"
      ],
      "text/plain": [
       "<IPython.core.display.Latex object>"
      ]
     },
     "metadata": {},
     "output_type": "display_data"
    }
   ],
   "source": [
    "# just a check\n",
    "xpr = Expression(az*ap*az*az*am)\n",
    "ca.move_right(xpr, az)\n",
    "ca.move_left(xpr, az)\n",
    "xpr.collect()\n",
    "show(xpr)\n",
    "\n",
    "xpr = Expression(az*ap*az*az*am)\n",
    "# ca.move_right(xpr, az)\n",
    "ca.move_left(xpr, az)\n",
    "ca.move_left(xpr, az)\n",
    "xpr.collect()\n",
    "show(xpr)\n",
    "\n",
    "# answers are the same. Phew!"
   ]
  },
  {
   "cell_type": "code",
   "execution_count": 38,
   "id": "faff4dab-283e-4f17-a9a9-ab76e5c6988f",
   "metadata": {},
   "outputs": [
    {
     "data": {
      "text/latex": [
       "$+1 b c d a +1 -\\frac{7}{2} c d a -\\frac{33}{10} b c d +\\frac{11}{3} b d a +\\frac{11}{3} b b d d -\\frac{77}{6} d a -\\frac{77}{6} b d d -\\frac{7}{10} c d +\\frac{11}{15} b d -\\frac{77}{30} d $"
      ],
      "text/plain": [
       "<IPython.core.display.Latex object>"
      ]
     },
     "metadata": {},
     "output_type": "display_data"
    },
    {
     "data": {
      "text/latex": [
       "$+1 a c d b +1 +\\frac{11}{5} a a d b +\\frac{11}{5} a c a d $"
      ],
      "text/plain": [
       "<IPython.core.display.Latex object>"
      ]
     },
     "metadata": {},
     "output_type": "display_data"
    },
    {
     "data": {
      "text/latex": [
       "$+1 b d c a +1 -\\frac{11}{5} b d a a -\\frac{11}{5} d c a a +\\frac{77}{10} d a a +\\frac{77}{10} b d a $"
      ],
      "text/plain": [
       "<IPython.core.display.Latex object>"
      ]
     },
     "metadata": {},
     "output_type": "display_data"
    }
   ],
   "source": [
    "a = Operator('a')\n",
    "b = Operator('b')\n",
    "c = Operator('c')\n",
    "d = Operator('d')\n",
    "e = Operator('e')\n",
    "f = Operator('f')\n",
    "\n",
    "cb = CommutatorAlgebra()\n",
    "\n",
    "cb.set_commutator(a,b)(Fraction(-7,2)*(a+b))\n",
    "cb.set_commutator(a,c)(Fraction(11,3)*(a+b*d))\n",
    "cb.set_commutator(a,d)(Fraction(1,5)*(d))\n",
    "cb.set_commutator(b,c)(Fraction(11,5)*(a*b + c*a) )\n",
    "\n",
    "x = a*b*c*d + 1\n",
    "cb.move_right(x,a)\n",
    "show(x)\n",
    "\n",
    "x = a*b*c*d + 1\n",
    "cb.move_right(x,b)\n",
    "show(x)\n",
    "\n",
    "x = d*c*b*a + 1\n",
    "cb.move_left(x,b)\n",
    "show(x)\n",
    "\n",
    "\n"
   ]
  },
  {
   "cell_type": "code",
   "execution_count": 39,
   "id": "e61dc1ee-8319-4e89-85ed-775dfd2712ea",
   "metadata": {},
   "outputs": [
    {
     "data": {
      "text/latex": [
       "$+1 c b a a -3 c a a +2 c c a a -1 b a a +1 a a $"
      ],
      "text/plain": [
       "<IPython.core.display.Latex object>"
      ]
     },
     "metadata": {},
     "output_type": "display_data"
    },
    {
     "name": "stdout",
     "output_type": "stream",
     "text": [
      "  +1 c b a a  -3 c a a  +2 c c a a  -1 b a a  +1 a a\n"
     ]
    }
   ],
   "source": [
    "# pathological\n",
    "cb = CommutatorAlgebra()\n",
    "\n",
    "cb.set_commutator(a,b)(a+a*c)\n",
    "cb.set_commutator(c,a)(a)\n",
    "\n",
    "x = a*c*a*b + 0\n",
    "cb.move_right(x,a)\n",
    "show(x)\n",
    "x.collect()\n",
    "print(x)\n"
   ]
  },
  {
   "cell_type": "markdown",
   "id": "7b99482e-94bd-4804-8eb0-1665d5eadab3",
   "metadata": {},
   "source": [
    "## Working with `Expression`"
   ]
  },
  {
   "cell_type": "code",
   "execution_count": 40,
   "id": "53e195f8-ab52-4aa4-8089-003211d707fe",
   "metadata": {},
   "outputs": [
    {
     "name": "stdout",
     "output_type": "stream",
     "text": [
      "x = (  +1 a b c  +1 a b b) * (+1 d f) \n",
      "x = (  +1 a b c  +1 a b b) * (+1 d f) \n",
      "x = (+1 a b) * (  +1 c d f  +1 b d f) \n"
     ]
    }
   ],
   "source": [
    "f = Operator('f','S^z_f')\n",
    "\n",
    "x = a*b*c*d*f + a*b*b*d*f\n",
    "fr, ba = x.factor()\n",
    "print(f\"x = ({fr}) * ({ba}) \")\n",
    "# (   +1 a b c  +1 a b b )*( +1 d f )\n",
    "\n",
    "fr, ba = x.factor('left')\n",
    "print(f\"x = ({fr}) * ({ba}) \")\n",
    "# (   +1 a b c  +1 a b b )*( +1 d f )\n",
    "\n",
    "fr, ba = x.factor('right')\n",
    "print(f\"x = ({fr}) * ({ba}) \")\n",
    "# ( +1 a b )*(   +1 c d f  +1 b d f )"
   ]
  },
  {
   "cell_type": "code",
   "execution_count": 41,
   "id": "f496805b-59a1-490f-bcbe-abbb5fc7463a",
   "metadata": {},
   "outputs": [
    {
     "name": "stdout",
     "output_type": "stream",
     "text": [
      "  +1 b a  +1 a c c\n"
     ]
    }
   ],
   "source": [
    "x = a*b + b*c*c\n",
    "y = x.replaceall((b,a),(a,b))\n",
    "print(y)"
   ]
  },
  {
   "cell_type": "code",
   "execution_count": null,
   "id": "cbbc5ac5-569c-4270-9871-e8616590ab07",
   "metadata": {},
   "outputs": [],
   "source": []
  }
 ],
 "metadata": {
  "kernelspec": {
   "display_name": "Python 3 (ipykernel)",
   "language": "python",
   "name": "python3"
  },
  "language_info": {
   "codemirror_mode": {
    "name": "ipython",
    "version": 3
   },
   "file_extension": ".py",
   "mimetype": "text/x-python",
   "name": "python",
   "nbconvert_exporter": "python",
   "pygments_lexer": "ipython3",
   "version": "3.10.9"
  }
 },
 "nbformat": 4,
 "nbformat_minor": 5
}
