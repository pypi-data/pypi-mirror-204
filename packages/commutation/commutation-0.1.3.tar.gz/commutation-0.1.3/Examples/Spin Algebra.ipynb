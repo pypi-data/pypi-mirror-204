{
 "cells": [
  {
   "cell_type": "code",
   "execution_count": 1,
   "id": "321ca776-398e-45a1-8cea-d75684f7cd14",
   "metadata": {},
   "outputs": [
    {
     "name": "stdout",
     "output_type": "stream",
     "text": [
      "+1 S^+ S^- S^z +1 S^- S^+ S^z +2 S^+ S^- +2 S^- S^+ \n",
      "+2 S^+ S^- S^z +4 S^+ S^- -2 S^z S^z -4 S^z \n"
     ]
    }
   ],
   "source": [
    "from commutation import *\n",
    "\n",
    "Sz  = Operator('Sz','S^z')\n",
    "Sup = Operator('S⁺','S^+')\n",
    "Sdn = Operator('S⁻','S^-')\n",
    "\n",
    "ca = CommutatorAlgebra()\n",
    "ca.set_commutator(Sz, Sup)(Sup)\n",
    "ca.set_commutator(Sz, Sdn)(Sdn)\n",
    "ca.set_commutator(Sup, Sdn)(2*Sz)\n",
    "\n",
    "x = Sz*(Sup*Sdn + Sdn*Sup)\n",
    "ca.move_right(x, Sz)\n",
    "print(x.as_latex())\n",
    "# can further simplify\n",
    "ca.move_left(x, Sup)\n",
    "print(x.as_latex())"
   ]
  },
  {
   "cell_type": "code",
   "execution_count": 2,
   "id": "27d74af8-773d-4112-a0d6-96d9f6e45edd",
   "metadata": {},
   "outputs": [
    {
     "name": "stdout",
     "output_type": "stream",
     "text": [
      "  +2 S⁺ S⁻  -2 Sz  -4\n"
     ]
    }
   ],
   "source": [
    "print(x.coefficient(Sz))"
   ]
  },
  {
   "cell_type": "code",
   "execution_count": null,
   "id": "48d14018-8ccf-4730-8b34-f14d29cc19a9",
   "metadata": {},
   "outputs": [],
   "source": [
    "c = Scalar()"
   ]
  }
 ],
 "metadata": {
  "kernelspec": {
   "display_name": "Python 3",
   "language": "python",
   "name": "python3"
  },
  "language_info": {
   "codemirror_mode": {
    "name": "ipython",
    "version": 3
   },
   "file_extension": ".py",
   "mimetype": "text/x-python",
   "name": "python",
   "nbconvert_exporter": "python",
   "pygments_lexer": "ipython3",
   "version": "3.10.9"
  }
 },
 "nbformat": 4,
 "nbformat_minor": 5
}
