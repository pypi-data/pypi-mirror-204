{
 "cells": [
  {
   "cell_type": "code",
   "execution_count": 1,
   "id": "840c07d2-b690-4549-ae36-4a05d4e7ddb8",
   "metadata": {},
   "outputs": [],
   "source": [
    "from SpinTrain import *\n",
    "\n",
    "\n",
    "Sz = [Operator('S%d'%i, 'S^z_{%d}'%i) for i in [6, 1,2,3,4,5]]\n",
    "\n",
    "a,b,c,d = [Operator('%s'%i, 'S^z_{%s}'%i) for i in 'abcd']\n",
    "\n",
    "\n",
    "\n",
    "a_up = Operator('a⁺', 'S^+_{a}')\n",
    "a_dn = Operator('a⁻', 'S^-_{a}')\n",
    "\n",
    "b_up = Operator('b⁺', 'S^+_{b}')\n",
    "b_dn = Operator('b⁻', 'S^-_{b}')\n",
    "\n",
    "ca = CommutatorAlgebra()\n",
    "\n",
    "def define_spinalg(plus, minus, z):\n",
    "    ca.set_commutator(plus, minus)(2*z)\n",
    "    ca.set_commutator(z, plus)( plus )\n",
    "    ca.set_commutator(z, minus)( -1*minus )"
   ]
  },
  {
   "cell_type": "code",
   "execution_count": 2,
   "id": "88250d59-4f0c-4467-a735-6188ad5d56d7",
   "metadata": {},
   "outputs": [],
   "source": [
    "define_spinalg(a_up, a_dn, a)\n",
    "define_spinalg(b_up, b_dn, b)\n",
    "\n",
    "for o in [a,b,c,d] + Sz:\n",
    "    ca.add_operator(o)\n",
    "# effectively scalars, idk why I bother"
   ]
  },
  {
   "cell_type": "code",
   "execution_count": 3,
   "id": "f3ec3f0d-d59b-426a-87fe-2fa7c9325dd6",
   "metadata": {},
   "outputs": [],
   "source": [
    "# define the Z objects\n",
    "\n",
    "bond_zetas = [Operator('ζ%d'%i,r'\\zeta_%d'%i,scalar=True) for i in range(1,4)]\n",
    "bond_zetas_bar = [Operator('ζb%d'%i,r'\\zeta_%d^*'%i,scalar=True) for i in range(1,4)]\n",
    "\n",
    "def zeta(i):\n",
    "    return bond_zetas[(i-1)%3]\n",
    "def zeta_bar(i):\n",
    "    return bond_zetas_bar[(i-1)%3]\n",
    "\n",
    "KA = Operator('KA','K_A',scalar=True)\n",
    "KB = Operator('KB','K_B',scalar=True)\n",
    "\n",
    "def conjugate_zetas(x):\n",
    "    repl = []\n",
    "    for i in range(3):\n",
    "        repl.append((bond_zetas[i], bond_zetas_bar[i]))\n",
    "        repl.append((bond_zetas_bar[i], bond_zetas[i]))\n",
    "    return x.replaceall(*repl)\n",
    "\n",
    "\n",
    "def order_scalars(x):\n",
    "    desired_order = [KA, KB] + bond_zetas + bond_zetas_bar + Sz + [a,b,c,d]\n",
    "    for o in reversed(desired_order):\n",
    "        ca.move_left(x, o)\n",
    "\n",
    "Za = KB*(zeta(1)*Sz[1] + zeta(2)*Sz[2] + zeta(3)*Sz[3]) + KA*(zeta(1)*b + zeta(2)* c + zeta(3)*d)\n",
    "Zb = KB*(zeta(1)*Sz[4] + zeta(2)*Sz[5] + zeta(3)*Sz[0]) + KA*(zeta(1)*a + zeta(2)* d + zeta(3)*c)\n",
    "\n",
    "Za_bar = conjugate_zetas(Za)\n",
    "Zb_bar = conjugate_zetas(Zb)\n",
    "\n",
    "\n",
    "hh = a_up*b_dn\n",
    "kp = a_dn*Za_bar\n",
    "km = b_up*Zb\n",
    "\n",
    "hh_dag = a_dn*b_up\n",
    "kp_dag = a_up*Za\n",
    "km_dag = b_dn*Zb_bar"
   ]
  },
  {
   "cell_type": "code",
   "execution_count": 4,
   "id": "21589683-48b1-4591-8cd2-0946a6699f4e",
   "metadata": {},
   "outputs": [],
   "source": [
    "S_total =  hh*kp*km + kp*km*hh + km*hh*kp + hh*km*kp + km*kp*hh + kp*hh*km\n",
    "S_total += hh_dag*kp_dag*km_dag + kp_dag*km_dag*hh_dag + km_dag*hh_dag*kp_dag + hh_dag*km_dag*kp_dag + km_dag*kp_dag*hh_dag + kp_dag*hh_dag*km_dag\n",
    "\n",
    "order_scalars(S_total)\n",
    "\n",
    "ca.move_right(S_total,a_up)\n",
    "ca.move_right(S_total,a_dn)\n",
    "\n",
    "ca.move_right(S_total,b_up)\n",
    "ca.move_right(S_total,b_dn)\n",
    "\n",
    "\n",
    "x1 = S_total.replaceall((a_up*a_dn, a+Fraction(1,2)),(b_up*b_dn, b+Fraction(1,2)))\n",
    "x1.collect()\n"
   ]
  },
  {
   "cell_type": "code",
   "execution_count": 5,
   "id": "2961da79-5838-422a-b8b8-1a8e20ff9293",
   "metadata": {},
   "outputs": [
    {
     "data": {
      "text/latex": [
       "$-4 K_B K_B S^z_{1} S^z_{4} S^z_{a} S^z_{b} +3 K_B K_B S^z_{1} S^z_{4} +\\frac{3}{2} K_B K_B S^z_{1} S^z_{5} w +\\frac{3}{2} K_B K_B S^z_{6} S^z_{1} w^* -4 K_A K_B S^z_{1} S^z_{a} S^z_{a} S^z_{b} +1 K_A K_B S^z_{1} S^z_{a} +\\frac{3}{2} K_A K_B S^z_{1} S^z_{d} w +\\frac{3}{2} K_A K_B S^z_{1} S^z_{c} w^* +\\frac{3}{2} K_B K_B S^z_{2} S^z_{4} w^* -4 K_B K_B S^z_{2} S^z_{5} S^z_{a} S^z_{b} +3 K_B K_B S^z_{2} S^z_{5} +\\frac{3}{2} K_B K_B S^z_{6} S^z_{2} w +\\frac{1}{2} K_A K_B S^z_{2} S^z_{a} w^* -4 K_A K_B S^z_{2} S^z_{a} S^z_{b} S^z_{d} +3 K_A K_B S^z_{2} S^z_{d} +\\frac{3}{2} K_A K_B S^z_{2} S^z_{c} w +\\frac{3}{2} K_B K_B S^z_{3} S^z_{4} w +\\frac{3}{2} K_B K_B S^z_{3} S^z_{5} w^* -4 K_B K_B S^z_{6} S^z_{3} S^z_{a} S^z_{b} +3 K_B K_B S^z_{6} S^z_{3} +\\frac{1}{2} K_A K_B S^z_{3} S^z_{a} w +\\frac{3}{2} K_A K_B S^z_{3} S^z_{d} w^* -4 K_A K_B S^z_{3} S^z_{a} S^z_{b} S^z_{c} +3 K_A K_B S^z_{3} S^z_{c} -4 K_A K_B S^z_{4} S^z_{a} S^z_{b} S^z_{b} +1 K_A K_B S^z_{4} S^z_{b} +\\frac{1}{2} K_A K_B S^z_{5} S^z_{b} w +\\frac{1}{2} K_A K_B S^z_{6} S^z_{b} w^* -4 K_A K_A S^z_{a} S^z_{a} S^z_{b} S^z_{b} -1 K_A K_A S^z_{a} S^z_{b} +\\frac{3}{2} K_A K_A S^z_{b} S^z_{d} w +\\frac{3}{2} K_A K_A S^z_{b} S^z_{c} w^* +\\frac{3}{2} K_A K_B S^z_{4} S^z_{c} w^* -4 K_A K_B S^z_{5} S^z_{a} S^z_{b} S^z_{c} +3 K_A K_B S^z_{5} S^z_{c} +\\frac{3}{2} K_A K_B S^z_{6} S^z_{c} w +\\frac{3}{2} K_A K_A S^z_{a} S^z_{c} w^* -8 K_A K_A S^z_{a} S^z_{b} S^z_{c} S^z_{d} +6 K_A K_A S^z_{c} S^z_{d} +\\frac{3}{2} K_A K_A S^z_{c} S^z_{c} w +\\frac{3}{2} K_A K_B S^z_{4} S^z_{d} w +\\frac{3}{2} K_A K_B S^z_{5} S^z_{d} w^* -4 K_A K_B S^z_{6} S^z_{a} S^z_{b} S^z_{d} +3 K_A K_B S^z_{6} S^z_{d} +\\frac{3}{2} K_A K_A S^z_{a} S^z_{d} w +\\frac{3}{2} K_A K_A S^z_{d} S^z_{d} w^* -2 K_B K_B S^z_{1} S^z_{5} S^z_{a} S^z_{b} w^* +\\frac{3}{2} K_B K_B S^z_{1} S^z_{5} w^* -2 K_B K_B S^z_{6} S^z_{1} S^z_{a} S^z_{b} w +\\frac{3}{2} K_B K_B S^z_{6} S^z_{1} w -2 K_A K_B S^z_{1} S^z_{a} S^z_{b} S^z_{d} w^* +\\frac{3}{2} K_A K_B S^z_{1} S^z_{d} w^* -2 K_A K_B S^z_{1} S^z_{a} S^z_{b} S^z_{c} w +\\frac{3}{2} K_A K_B S^z_{1} S^z_{c} w -2 K_B K_B S^z_{2} S^z_{4} S^z_{a} S^z_{b} w +\\frac{3}{2} K_B K_B S^z_{2} S^z_{4} w -2 K_B K_B S^z_{6} S^z_{2} S^z_{a} S^z_{b} w^* +\\frac{3}{2} K_B K_B S^z_{6} S^z_{2} w^* -2 K_A K_B S^z_{2} S^z_{a} S^z_{a} S^z_{b} w +\\frac{1}{2} K_A K_B S^z_{2} S^z_{a} w -2 K_A K_B S^z_{2} S^z_{a} S^z_{b} S^z_{c} w^* +\\frac{3}{2} K_A K_B S^z_{2} S^z_{c} w^* -2 K_B K_B S^z_{3} S^z_{4} S^z_{a} S^z_{b} w^* +\\frac{3}{2} K_B K_B S^z_{3} S^z_{4} w^* -2 K_B K_B S^z_{3} S^z_{5} S^z_{a} S^z_{b} w +\\frac{3}{2} K_B K_B S^z_{3} S^z_{5} w -2 K_A K_B S^z_{3} S^z_{a} S^z_{a} S^z_{b} w^* +\\frac{1}{2} K_A K_B S^z_{3} S^z_{a} w^* -2 K_A K_B S^z_{3} S^z_{a} S^z_{b} S^z_{d} w +\\frac{3}{2} K_A K_B S^z_{3} S^z_{d} w -2 K_A K_B S^z_{5} S^z_{a} S^z_{b} S^z_{b} w^* +\\frac{1}{2} K_A K_B S^z_{5} S^z_{b} w^* -2 K_A K_B S^z_{6} S^z_{a} S^z_{b} S^z_{b} w +\\frac{1}{2} K_A K_B S^z_{6} S^z_{b} w -2 K_A K_A S^z_{a} S^z_{b} S^z_{b} S^z_{d} w^* +\\frac{3}{2} K_A K_A S^z_{b} S^z_{d} w^* -2 K_A K_A S^z_{a} S^z_{b} S^z_{b} S^z_{c} w +\\frac{3}{2} K_A K_A S^z_{b} S^z_{c} w -2 K_A K_B S^z_{4} S^z_{a} S^z_{b} S^z_{c} w +\\frac{3}{2} K_A K_B S^z_{4} S^z_{c} w -2 K_A K_B S^z_{6} S^z_{a} S^z_{b} S^z_{c} w^* +\\frac{3}{2} K_A K_B S^z_{6} S^z_{c} w^* -2 K_A K_A S^z_{a} S^z_{a} S^z_{b} S^z_{c} w +\\frac{3}{2} K_A K_A S^z_{a} S^z_{c} w -2 K_A K_A S^z_{a} S^z_{b} S^z_{c} S^z_{c} w^* +\\frac{3}{2} K_A K_A S^z_{c} S^z_{c} w^* -2 K_A K_B S^z_{4} S^z_{a} S^z_{b} S^z_{d} w^* +\\frac{3}{2} K_A K_B S^z_{4} S^z_{d} w^* -2 K_A K_B S^z_{5} S^z_{a} S^z_{b} S^z_{d} w +\\frac{3}{2} K_A K_B S^z_{5} S^z_{d} w -2 K_A K_A S^z_{a} S^z_{a} S^z_{b} S^z_{d} w^* +\\frac{3}{2} K_A K_A S^z_{a} S^z_{d} w^* -2 K_A K_A S^z_{a} S^z_{b} S^z_{d} S^z_{d} w +\\frac{3}{2} K_A K_A S^z_{d} S^z_{d} w +2 K_A K_B S^z_{4} S^z_{a} +1 K_A K_B S^z_{5} S^z_{a} w +1 K_A K_B S^z_{6} S^z_{a} w^* +2 K_A K_A S^z_{a} S^z_{a} +1 K_A K_B S^z_{5} S^z_{a} w^* +1 K_A K_B S^z_{6} S^z_{a} w -2 K_B K_B S^z_{1} S^z_{5} S^z_{a} S^z_{b} w -2 K_B K_B S^z_{6} S^z_{1} S^z_{a} S^z_{b} w^* -2 K_A K_B S^z_{1} S^z_{a} S^z_{b} S^z_{d} w -2 K_A K_B S^z_{1} S^z_{a} S^z_{b} S^z_{c} w^* -2 K_B K_B S^z_{2} S^z_{4} S^z_{a} S^z_{b} w^* -2 K_B K_B S^z_{6} S^z_{2} S^z_{a} S^z_{b} w -2 K_A K_B S^z_{2} S^z_{a} S^z_{a} S^z_{b} w^* -2 K_A K_B S^z_{2} S^z_{a} S^z_{b} S^z_{c} w -2 K_B K_B S^z_{3} S^z_{4} S^z_{a} S^z_{b} w -2 K_B K_B S^z_{3} S^z_{5} S^z_{a} S^z_{b} w^* -2 K_A K_B S^z_{3} S^z_{a} S^z_{a} S^z_{b} w -2 K_A K_B S^z_{3} S^z_{a} S^z_{b} S^z_{d} w^* -2 K_A K_B S^z_{5} S^z_{a} S^z_{b} S^z_{b} w -2 K_A K_B S^z_{6} S^z_{a} S^z_{b} S^z_{b} w^* -2 K_A K_A S^z_{a} S^z_{b} S^z_{b} S^z_{d} w -2 K_A K_A S^z_{a} S^z_{b} S^z_{b} S^z_{c} w^* -2 K_A K_B S^z_{4} S^z_{a} S^z_{b} S^z_{c} w^* -2 K_A K_B S^z_{6} S^z_{a} S^z_{b} S^z_{c} w -2 K_A K_A S^z_{a} S^z_{a} S^z_{b} S^z_{c} w^* -2 K_A K_A S^z_{a} S^z_{b} S^z_{c} S^z_{c} w -2 K_A K_B S^z_{4} S^z_{a} S^z_{b} S^z_{d} w -2 K_A K_B S^z_{5} S^z_{a} S^z_{b} S^z_{d} w^* -2 K_A K_A S^z_{a} S^z_{a} S^z_{b} S^z_{d} w -2 K_A K_A S^z_{a} S^z_{b} S^z_{d} S^z_{d} w^* +2 K_A K_B S^z_{1} S^z_{b} +1 K_A K_B S^z_{2} S^z_{b} w^* +1 K_A K_B S^z_{3} S^z_{b} w +2 K_A K_A S^z_{b} S^z_{b} +1 K_A K_B S^z_{2} S^z_{b} w +1 K_A K_B S^z_{3} S^z_{b} w^* $"
      ],
      "text/plain": [
       "<IPython.core.display.Latex object>"
      ]
     },
     "metadata": {},
     "output_type": "display_data"
    }
   ],
   "source": [
    "w = Operator('w','w',scalar=True)\n",
    "w_bar = Operator('wb',r'w^*',scalar=True)\n",
    "\n",
    "def simplify_zetas(expr):\n",
    "    # only works if scalars are in canonical order\n",
    "    simpl = []\n",
    "    for i, z in enumerate(bond_zetas):\n",
    "        for j, zb in enumerate(bond_zetas_bar):\n",
    "            if i == j:\n",
    "                simpl.append((z*zb, 1))\n",
    "            elif i == (j+1) %3:\n",
    "                simpl.append((z*zb, w))\n",
    "            else:\n",
    "                simpl.append((z*zb, w_bar))\n",
    "    return expr.replaceall(*simpl).replaceall((w*w_bar, 1), (w_bar*w, 1))\n",
    "\n",
    "\n",
    "x2 = simplify_zetas(x1)\n",
    "order_scalars(x2)\n",
    "x2.collect()\n",
    "x2.show()"
   ]
  },
  {
   "cell_type": "code",
   "execution_count": 6,
   "id": "cd4f8cac-f4f4-4014-bdcb-4739f8b09653",
   "metadata": {},
   "outputs": [
    {
     "data": {
      "text/latex": [
       "$-4 K_B K_B S^z_{1} S^z_{4} S^z_{a} S^z_{b} +3 K_B K_B S^z_{1} S^z_{4} +\\frac{3}{2} K_B K_B S^z_{1} S^z_{5} w +\\frac{3}{2} K_B K_B S^z_{6} S^z_{1} w^* +1 K_A K_B S^z_{1} S^z_{b} +1 K_A K_B S^z_{1} S^z_{a} +\\frac{3}{2} K_A K_B S^z_{1} S^z_{d} w +\\frac{3}{2} K_A K_B S^z_{1} S^z_{c} w^* +\\frac{3}{2} K_B K_B S^z_{2} S^z_{4} w^* -4 K_B K_B S^z_{2} S^z_{5} S^z_{a} S^z_{b} +3 K_B K_B S^z_{2} S^z_{5} +\\frac{3}{2} K_B K_B S^z_{6} S^z_{2} w +\\frac{1}{2} K_A K_B S^z_{2} S^z_{a} w^* -4 K_A K_B S^z_{2} S^z_{a} S^z_{b} S^z_{d} +3 K_A K_B S^z_{2} S^z_{d} +\\frac{3}{2} K_A K_B S^z_{2} S^z_{c} w +\\frac{3}{2} K_B K_B S^z_{3} S^z_{4} w +\\frac{3}{2} K_B K_B S^z_{3} S^z_{5} w^* -4 K_B K_B S^z_{6} S^z_{3} S^z_{a} S^z_{b} +3 K_B K_B S^z_{6} S^z_{3} +\\frac{1}{2} K_A K_B S^z_{3} S^z_{a} w +\\frac{3}{2} K_A K_B S^z_{3} S^z_{d} w^* -4 K_A K_B S^z_{3} S^z_{a} S^z_{b} S^z_{c} +3 K_A K_B S^z_{3} S^z_{c} +1 K_A K_B S^z_{4} S^z_{a} +1 K_A K_B S^z_{4} S^z_{b} +\\frac{1}{2} K_A K_B S^z_{5} S^z_{b} w +\\frac{1}{2} K_A K_B S^z_{6} S^z_{b} w^* +\\frac{3}{4} K_A K_A -1 K_A K_A S^z_{a} S^z_{b} +1 K_A K_A S^z_{b} S^z_{d} w +1 K_A K_A S^z_{b} S^z_{c} w^* +\\frac{3}{2} K_A K_B S^z_{4} S^z_{c} w^* -4 K_A K_B S^z_{5} S^z_{a} S^z_{b} S^z_{c} +3 K_A K_B S^z_{5} S^z_{c} +\\frac{3}{2} K_A K_B S^z_{6} S^z_{c} w +1 K_A K_A S^z_{a} S^z_{c} w^* -8 K_A K_A S^z_{a} S^z_{b} S^z_{c} S^z_{d} +6 K_A K_A S^z_{c} S^z_{d} +\\frac{3}{4} K_A K_A w +\\frac{3}{2} K_A K_B S^z_{4} S^z_{d} w +\\frac{3}{2} K_A K_B S^z_{5} S^z_{d} w^* -4 K_A K_B S^z_{6} S^z_{a} S^z_{b} S^z_{d} +3 K_A K_B S^z_{6} S^z_{d} +1 K_A K_A S^z_{a} S^z_{d} w +\\frac{3}{4} K_A K_A w^* -2 K_B K_B S^z_{1} S^z_{5} S^z_{a} S^z_{b} w^* +\\frac{3}{2} K_B K_B S^z_{1} S^z_{5} w^* -2 K_B K_B S^z_{6} S^z_{1} S^z_{a} S^z_{b} w +\\frac{3}{2} K_B K_B S^z_{6} S^z_{1} w -2 K_A K_B S^z_{1} S^z_{a} S^z_{b} S^z_{d} w^* +\\frac{3}{2} K_A K_B S^z_{1} S^z_{d} w^* -2 K_A K_B S^z_{1} S^z_{a} S^z_{b} S^z_{c} w +\\frac{3}{2} K_A K_B S^z_{1} S^z_{c} w -2 K_B K_B S^z_{2} S^z_{4} S^z_{a} S^z_{b} w +\\frac{3}{2} K_B K_B S^z_{2} S^z_{4} w -2 K_B K_B S^z_{6} S^z_{2} S^z_{a} S^z_{b} w^* +\\frac{3}{2} K_B K_B S^z_{6} S^z_{2} w^* +\\frac{1}{2} K_A K_B S^z_{2} S^z_{b} w +\\frac{1}{2} K_A K_B S^z_{2} S^z_{a} w -2 K_A K_B S^z_{2} S^z_{a} S^z_{b} S^z_{c} w^* +\\frac{3}{2} K_A K_B S^z_{2} S^z_{c} w^* -2 K_B K_B S^z_{3} S^z_{4} S^z_{a} S^z_{b} w^* +\\frac{3}{2} K_B K_B S^z_{3} S^z_{4} w^* -2 K_B K_B S^z_{3} S^z_{5} S^z_{a} S^z_{b} w +\\frac{3}{2} K_B K_B S^z_{3} S^z_{5} w +\\frac{1}{2} K_A K_B S^z_{3} S^z_{b} w^* +\\frac{1}{2} K_A K_B S^z_{3} S^z_{a} w^* -2 K_A K_B S^z_{3} S^z_{a} S^z_{b} S^z_{d} w +\\frac{3}{2} K_A K_B S^z_{3} S^z_{d} w +\\frac{1}{2} K_A K_B S^z_{5} S^z_{a} w^* +\\frac{1}{2} K_A K_B S^z_{5} S^z_{b} w^* +\\frac{1}{2} K_A K_B S^z_{6} S^z_{a} w +\\frac{1}{2} K_A K_B S^z_{6} S^z_{b} w +1 K_A K_A S^z_{a} S^z_{d} w^* +1 K_A K_A S^z_{b} S^z_{d} w^* +1 K_A K_A S^z_{a} S^z_{c} w +1 K_A K_A S^z_{b} S^z_{c} w -2 K_A K_B S^z_{4} S^z_{a} S^z_{b} S^z_{c} w +\\frac{3}{2} K_A K_B S^z_{4} S^z_{c} w -2 K_A K_B S^z_{6} S^z_{a} S^z_{b} S^z_{c} w^* +\\frac{3}{2} K_A K_B S^z_{6} S^z_{c} w^* -1 K_A K_A S^z_{a} S^z_{b} w^* -2 K_A K_B S^z_{4} S^z_{a} S^z_{b} S^z_{d} w^* +\\frac{3}{2} K_A K_B S^z_{4} S^z_{d} w^* -2 K_A K_B S^z_{5} S^z_{a} S^z_{b} S^z_{d} w +\\frac{3}{2} K_A K_B S^z_{5} S^z_{d} w -1 K_A K_A S^z_{a} S^z_{b} w +\\frac{1}{2} K_A K_B S^z_{5} S^z_{a} w +\\frac{1}{2} K_A K_B S^z_{6} S^z_{a} w^* -2 K_B K_B S^z_{1} S^z_{5} S^z_{a} S^z_{b} w -2 K_B K_B S^z_{6} S^z_{1} S^z_{a} S^z_{b} w^* -2 K_A K_B S^z_{1} S^z_{a} S^z_{b} S^z_{d} w -2 K_A K_B S^z_{1} S^z_{a} S^z_{b} S^z_{c} w^* -2 K_B K_B S^z_{2} S^z_{4} S^z_{a} S^z_{b} w^* -2 K_B K_B S^z_{6} S^z_{2} S^z_{a} S^z_{b} w +\\frac{1}{2} K_A K_B S^z_{2} S^z_{b} w^* -2 K_A K_B S^z_{2} S^z_{a} S^z_{b} S^z_{c} w -2 K_B K_B S^z_{3} S^z_{4} S^z_{a} S^z_{b} w -2 K_B K_B S^z_{3} S^z_{5} S^z_{a} S^z_{b} w^* +\\frac{1}{2} K_A K_B S^z_{3} S^z_{b} w -2 K_A K_B S^z_{3} S^z_{a} S^z_{b} S^z_{d} w^* -2 K_A K_B S^z_{4} S^z_{a} S^z_{b} S^z_{c} w^* -2 K_A K_B S^z_{6} S^z_{a} S^z_{b} S^z_{c} w -2 K_A K_B S^z_{4} S^z_{a} S^z_{b} S^z_{d} w -2 K_A K_B S^z_{5} S^z_{a} S^z_{b} S^z_{d} w^* $"
      ],
      "text/plain": [
       "<IPython.core.display.Latex object>"
      ]
     },
     "metadata": {},
     "output_type": "display_data"
    }
   ],
   "source": [
    "Zops = [a,b,c,d] + Sz\n",
    "\n",
    "\n",
    "x3 = x2.replaceall( *[(z*z,Fraction(1,4)) for z in Zops])\n",
    "x3.collect()\n",
    "x3.show()"
   ]
  },
  {
   "cell_type": "code",
   "execution_count": 7,
   "id": "bcdd8ee2-4e70-4fcf-b44c-95cd918ddbe1",
   "metadata": {},
   "outputs": [],
   "source": [
    "root3 = Operator('√3',r'\\sqrt{3}',scalar=True)\n",
    "\n",
    "def convert_to_rectangular(expr):\n",
    "    ca.move_right(expr, w)\n",
    "    ca.move_right(expr, w_bar)\n",
    "    coeff_w=expr.coefficient(w)\n",
    "    coeff_wb=expr.coefficient(w_bar)\n",
    "    \n",
    "    remainder = expr + -1*(coeff_w*w +coeff_wb*w_bar)\n",
    "    remainder.collect()\n",
    "    real = remainder + Fraction(-1,2)*(coeff_w + coeff_wb)\n",
    "    imag = Fraction(1,2)*(coeff_w + -1*coeff_wb)*root3\n",
    "    return real, imag\n",
    "\n",
    "\n",
    "x4, im = convert_to_rectangular(x3)\n",
    "assert im == 0"
   ]
  },
  {
   "cell_type": "code",
   "execution_count": 8,
   "id": "1ed7f49d-fc80-4f09-b48b-65cf02c1ef56",
   "metadata": {},
   "outputs": [
    {
     "data": {
      "text/latex": [
       "$-4 K_B K_B S^z_{1} S^z_{4} S^z_{a} S^z_{b} +3 K_B K_B S^z_{1} S^z_{4} +1 K_A K_B S^z_{1} S^z_{b} +1 K_A K_B S^z_{1} S^z_{a} -4 K_B K_B S^z_{2} S^z_{5} S^z_{a} S^z_{b} +3 K_B K_B S^z_{2} S^z_{5} -4 K_A K_B S^z_{2} S^z_{a} S^z_{b} S^z_{d} +3 K_A K_B S^z_{2} S^z_{d} -4 K_B K_B S^z_{6} S^z_{3} S^z_{a} S^z_{b} +3 K_B K_B S^z_{6} S^z_{3} -4 K_A K_B S^z_{3} S^z_{a} S^z_{b} S^z_{c} +3 K_A K_B S^z_{3} S^z_{c} +1 K_A K_B S^z_{4} S^z_{a} +1 K_A K_B S^z_{4} S^z_{b} -4 K_A K_B S^z_{5} S^z_{a} S^z_{b} S^z_{c} +3 K_A K_B S^z_{5} S^z_{c} -8 K_A K_A S^z_{a} S^z_{b} S^z_{c} S^z_{d} +6 K_A K_A S^z_{c} S^z_{d} -4 K_A K_B S^z_{6} S^z_{a} S^z_{b} S^z_{d} +3 K_A K_B S^z_{6} S^z_{d} -\\frac{3}{2} K_B K_B S^z_{1} S^z_{5} -\\frac{3}{2} K_A K_B S^z_{1} S^z_{d} -\\frac{3}{2} K_B K_B S^z_{6} S^z_{2} -\\frac{3}{2} K_A K_B S^z_{2} S^z_{c} -\\frac{3}{2} K_B K_B S^z_{3} S^z_{4} -\\frac{1}{2} K_A K_B S^z_{3} S^z_{a} -\\frac{1}{2} K_A K_B S^z_{5} S^z_{b} -1 K_A K_A S^z_{b} S^z_{d} -\\frac{3}{2} K_A K_B S^z_{6} S^z_{c} -\\frac{3}{2} K_A K_B S^z_{4} S^z_{d} -1 K_A K_A S^z_{a} S^z_{d} +2 K_B K_B S^z_{6} S^z_{1} S^z_{a} S^z_{b} -\\frac{3}{2} K_B K_B S^z_{6} S^z_{1} +2 K_A K_B S^z_{1} S^z_{a} S^z_{b} S^z_{c} -\\frac{3}{2} K_A K_B S^z_{1} S^z_{c} +2 K_B K_B S^z_{2} S^z_{4} S^z_{a} S^z_{b} -\\frac{3}{2} K_B K_B S^z_{2} S^z_{4} -\\frac{1}{2} K_A K_B S^z_{2} S^z_{b} -\\frac{1}{2} K_A K_B S^z_{2} S^z_{a} +2 K_B K_B S^z_{3} S^z_{5} S^z_{a} S^z_{b} -\\frac{3}{2} K_B K_B S^z_{3} S^z_{5} +2 K_A K_B S^z_{3} S^z_{a} S^z_{b} S^z_{d} -\\frac{3}{2} K_A K_B S^z_{3} S^z_{d} -\\frac{1}{2} K_A K_B S^z_{6} S^z_{a} -\\frac{1}{2} K_A K_B S^z_{6} S^z_{b} -1 K_A K_A S^z_{a} S^z_{c} -1 K_A K_A S^z_{b} S^z_{c} +2 K_A K_B S^z_{4} S^z_{a} S^z_{b} S^z_{c} -\\frac{3}{2} K_A K_B S^z_{4} S^z_{c} +2 K_A K_B S^z_{5} S^z_{a} S^z_{b} S^z_{d} -\\frac{3}{2} K_A K_B S^z_{5} S^z_{d} -\\frac{1}{2} K_A K_B S^z_{5} S^z_{a} +2 K_B K_B S^z_{1} S^z_{5} S^z_{a} S^z_{b} +2 K_A K_B S^z_{1} S^z_{a} S^z_{b} S^z_{d} +2 K_B K_B S^z_{6} S^z_{2} S^z_{a} S^z_{b} +2 K_A K_B S^z_{2} S^z_{a} S^z_{b} S^z_{c} +2 K_B K_B S^z_{3} S^z_{4} S^z_{a} S^z_{b} -\\frac{1}{2} K_A K_B S^z_{3} S^z_{b} +2 K_A K_B S^z_{6} S^z_{a} S^z_{b} S^z_{c} +2 K_A K_B S^z_{4} S^z_{a} S^z_{b} S^z_{d} $"
      ],
      "text/plain": [
       "<IPython.core.display.Latex object>"
      ]
     },
     "metadata": {},
     "output_type": "display_data"
    }
   ],
   "source": [
    "x4.collect()\n",
    "x4.show()"
   ]
  },
  {
   "cell_type": "code",
   "execution_count": 9,
   "id": "18f31014-3836-42e0-97b6-5ce2fe4dca6f",
   "metadata": {},
   "outputs": [
    {
     "data": {
      "text/latex": [
       "$-4 K_B K_B S^z_{1} S^z_{4} S^z_{a} S^z_{b} -4 K_B K_B S^z_{2} S^z_{5} S^z_{a} S^z_{b} -4 K_B K_B S^z_{6} S^z_{3} S^z_{a} S^z_{b} -\\frac{5}{2} K_A K_B S^z_{2} S^z_{c} -\\frac{5}{2} K_A K_B S^z_{3} S^z_{d} -\\frac{5}{2} K_A K_B S^z_{5} S^z_{d} -\\frac{5}{2} K_A K_B S^z_{6} S^z_{c} -\\frac{3}{2} K_B K_B S^z_{1} S^z_{5} -\\frac{3}{2} K_B K_B S^z_{6} S^z_{2} -\\frac{3}{2} K_B K_B S^z_{3} S^z_{4} -\\frac{3}{2} K_B K_B S^z_{6} S^z_{1} -\\frac{3}{2} K_B K_B S^z_{2} S^z_{4} -\\frac{3}{2} K_B K_B S^z_{3} S^z_{5} -1 K_A K_B S^z_{1} S^z_{d} -1 K_A K_A S^z_{b} S^z_{d} -1 K_A K_B S^z_{4} S^z_{d} -1 K_A K_A S^z_{a} S^z_{d} -1 K_A K_B S^z_{1} S^z_{c} -1 K_A K_A S^z_{a} S^z_{c} -1 K_A K_A S^z_{b} S^z_{c} -1 K_A K_B S^z_{4} S^z_{c} -\\frac{1}{2} K_A K_A -\\frac{1}{2} K_A K_B S^z_{3} S^z_{a} -\\frac{1}{2} K_A K_B S^z_{5} S^z_{b} -\\frac{1}{2} K_A K_B S^z_{2} S^z_{b} -\\frac{1}{2} K_A K_B S^z_{2} S^z_{a} -\\frac{1}{2} K_A K_B S^z_{6} S^z_{a} -\\frac{1}{2} K_A K_B S^z_{6} S^z_{b} -\\frac{1}{2} K_A K_B S^z_{5} S^z_{a} -\\frac{1}{2} K_A K_B S^z_{3} S^z_{b} +1 K_A K_B S^z_{1} S^z_{b} +1 K_A K_B S^z_{1} S^z_{a} +1 K_A K_B S^z_{4} S^z_{a} +1 K_A K_B S^z_{4} S^z_{b} +2 K_B K_B S^z_{6} S^z_{1} S^z_{a} S^z_{b} +2 K_B K_B S^z_{2} S^z_{4} S^z_{a} S^z_{b} +2 K_B K_B S^z_{3} S^z_{5} S^z_{a} S^z_{b} +2 K_B K_B S^z_{1} S^z_{5} S^z_{a} S^z_{b} +2 K_B K_B S^z_{6} S^z_{2} S^z_{a} S^z_{b} +2 K_B K_B S^z_{3} S^z_{4} S^z_{a} S^z_{b} +3 K_B K_B S^z_{1} S^z_{4} +3 K_B K_B S^z_{2} S^z_{5} +3 K_B K_B S^z_{6} S^z_{3} +\\frac{7}{2} K_A K_B S^z_{2} S^z_{d} +\\frac{7}{2} K_A K_B S^z_{3} S^z_{c} +\\frac{7}{2} K_A K_B S^z_{5} S^z_{c} +\\frac{7}{2} K_A K_B S^z_{6} S^z_{d} +6 K_A K_A S^z_{c} S^z_{d} $"
      ],
      "text/plain": [
       "<IPython.core.display.Latex object>"
      ]
     },
     "metadata": {},
     "output_type": "display_data"
    }
   ],
   "source": [
    "# enforce an ice rule\n",
    "\n",
    "x5 = x4.replaceall((a*b*c*d, Fraction(1,16)),(a*b*c, Fraction(1,4)*d), (a*b*d, Fraction(1,4)*c),(a*c*d, Fraction(1,4)*b),(b*c*d, Fraction(1,4)*a))\n",
    "x5.collect()\n",
    "x5.sort('multiplier')\n",
    "x5.show()"
   ]
  },
  {
   "cell_type": "code",
   "execution_count": 10,
   "id": "06f47be8-3b86-4674-bbc8-c7e19926b9ac",
   "metadata": {},
   "outputs": [],
   "source": [
    "from itertools import permutations\n",
    "\n",
    "quartic = Expression()\n",
    "quad = Expression()\n",
    "\n",
    "for t in x5.terms:\n",
    "    if len(t) == 6:\n",
    "        quartic += t\n",
    "    else:\n",
    "        quad += t\n",
    "    \n",
    "assert quad + quartic == x5"
   ]
  },
  {
   "cell_type": "code",
   "execution_count": 11,
   "id": "48d168d7-02ac-4183-8ed8-6512eef8a2b0",
   "metadata": {},
   "outputs": [
    {
     "data": {
      "text/latex": [
       "$-\\frac{5}{2} K_A K_B S^z_{2} S^z_{c} -\\frac{5}{2} K_A K_B S^z_{3} S^z_{d} -\\frac{5}{2} K_A K_B S^z_{5} S^z_{d} -\\frac{5}{2} K_A K_B S^z_{6} S^z_{c} -\\frac{3}{2} K_B K_B S^z_{1} S^z_{5} -\\frac{3}{2} K_B K_B S^z_{6} S^z_{2} -\\frac{3}{2} K_B K_B S^z_{3} S^z_{4} -\\frac{3}{2} K_B K_B S^z_{6} S^z_{1} -\\frac{3}{2} K_B K_B S^z_{2} S^z_{4} -\\frac{3}{2} K_B K_B S^z_{3} S^z_{5} -1 K_A K_B S^z_{1} S^z_{d} -1 K_A K_A S^z_{b} S^z_{d} -1 K_A K_B S^z_{4} S^z_{d} -1 K_A K_A S^z_{a} S^z_{d} -1 K_A K_B S^z_{1} S^z_{c} -1 K_A K_A S^z_{a} S^z_{c} -1 K_A K_A S^z_{b} S^z_{c} -1 K_A K_B S^z_{4} S^z_{c} -\\frac{1}{2} K_A K_A -\\frac{1}{2} K_A K_B S^z_{3} S^z_{a} -\\frac{1}{2} K_A K_B S^z_{5} S^z_{b} -\\frac{1}{2} K_A K_B S^z_{2} S^z_{b} -\\frac{1}{2} K_A K_B S^z_{2} S^z_{a} -\\frac{1}{2} K_A K_B S^z_{6} S^z_{a} -\\frac{1}{2} K_A K_B S^z_{6} S^z_{b} -\\frac{1}{2} K_A K_B S^z_{5} S^z_{a} -\\frac{1}{2} K_A K_B S^z_{3} S^z_{b} +1 K_A K_B S^z_{1} S^z_{b} +1 K_A K_B S^z_{1} S^z_{a} +1 K_A K_B S^z_{4} S^z_{a} +1 K_A K_B S^z_{4} S^z_{b} +3 K_B K_B S^z_{1} S^z_{4} +3 K_B K_B S^z_{2} S^z_{5} +3 K_B K_B S^z_{6} S^z_{3} +\\frac{7}{2} K_A K_B S^z_{2} S^z_{d} +\\frac{7}{2} K_A K_B S^z_{3} S^z_{c} +\\frac{7}{2} K_A K_B S^z_{5} S^z_{c} +\\frac{7}{2} K_A K_B S^z_{6} S^z_{d} +6 K_A K_A S^z_{c} S^z_{d} $"
      ],
      "text/plain": [
       "<IPython.core.display.Latex object>"
      ]
     },
     "metadata": {},
     "output_type": "display_data"
    }
   ],
   "source": [
    "quad.show()"
   ]
  },
  {
   "cell_type": "code",
   "execution_count": 12,
   "id": "296ea158-09b6-48a7-88fc-9278c86e9467",
   "metadata": {},
   "outputs": [
    {
     "data": {
      "text/latex": [
       "$-4 K_B K_B S^z_{1} S^z_{4} S^z_{a} S^z_{b} -4 K_B K_B S^z_{2} S^z_{5} S^z_{a} S^z_{b} -4 K_B K_B S^z_{6} S^z_{3} S^z_{a} S^z_{b} +2 K_B K_B S^z_{6} S^z_{1} S^z_{a} S^z_{b} +2 K_B K_B S^z_{2} S^z_{4} S^z_{a} S^z_{b} +2 K_B K_B S^z_{3} S^z_{5} S^z_{a} S^z_{b} +2 K_B K_B S^z_{1} S^z_{5} S^z_{a} S^z_{b} +2 K_B K_B S^z_{6} S^z_{2} S^z_{a} S^z_{b} +2 K_B K_B S^z_{3} S^z_{4} S^z_{a} S^z_{b} $"
      ],
      "text/plain": [
       "<IPython.core.display.Latex object>"
      ]
     },
     "metadata": {},
     "output_type": "display_data"
    }
   ],
   "source": [
    "quartic.show()"
   ]
  },
  {
   "cell_type": "code",
   "execution_count": 13,
   "id": "64f88b48-4167-4854-9519-5eaed3a32fb6",
   "metadata": {},
   "outputs": [
    {
     "data": {
      "text/latex": [
       "$-1 S^z_{b} S^z_{d} -1 S^z_{a} S^z_{d} -1 S^z_{a} S^z_{c} -1 S^z_{b} S^z_{c} -\\frac{1}{2} +6 S^z_{c} S^z_{d} $"
      ],
      "text/plain": [
       "<IPython.core.display.Latex object>"
      ]
     },
     "metadata": {},
     "output_type": "display_data"
    }
   ],
   "source": [
    "coeff_aa = quad.coefficient(KA*KA, 'right')\n",
    "coeff_aa.show()"
   ]
  },
  {
   "cell_type": "code",
   "execution_count": 14,
   "id": "e729b982-062a-4e77-b111-87569530efca",
   "metadata": {},
   "outputs": [
    {
     "name": "stdout",
     "output_type": "stream",
     "text": [
      "  -3/2 KB KB S1 S5  -3/2 KB KB S6 S2  -3/2 KB KB S3 S4  -3/2 KB KB S6 S1  -3/2 KB KB S2 S4  -3/2 KB KB S3 S5  +3 KB KB S1 S4  +3 KB KB S2 S5  +3 KB KB S6 S3\n"
     ]
    },
    {
     "data": {
      "text/latex": [
       "$-\\frac{5}{2} S^z_{2} S^z_{c} -\\frac{5}{2} S^z_{3} S^z_{d} -\\frac{5}{2} S^z_{5} S^z_{d} -\\frac{5}{2} S^z_{6} S^z_{c} -1 S^z_{1} S^z_{d} -1 S^z_{4} S^z_{d} -1 S^z_{1} S^z_{c} -1 S^z_{4} S^z_{c} -\\frac{1}{2} S^z_{3} S^z_{a} -\\frac{1}{2} S^z_{5} S^z_{b} -\\frac{1}{2} S^z_{2} S^z_{b} -\\frac{1}{2} S^z_{2} S^z_{a} -\\frac{1}{2} S^z_{6} S^z_{a} -\\frac{1}{2} S^z_{6} S^z_{b} -\\frac{1}{2} S^z_{5} S^z_{a} -\\frac{1}{2} S^z_{3} S^z_{b} +1 S^z_{1} S^z_{b} +1 S^z_{1} S^z_{a} +1 S^z_{4} S^z_{a} +1 S^z_{4} S^z_{b} +\\frac{7}{2} S^z_{2} S^z_{d} +\\frac{7}{2} S^z_{3} S^z_{c} +\\frac{7}{2} S^z_{5} S^z_{c} +\\frac{7}{2} S^z_{6} S^z_{d} $"
      ],
      "text/plain": [
       "<IPython.core.display.Latex object>"
      ]
     },
     "metadata": {},
     "output_type": "display_data"
    }
   ],
   "source": [
    "coeff_ab = quad.coefficient(KA*KB, 'right')\n",
    "dd = quad +(KA*KA*coeff_aa+KA*KB*coeff_ab)*-1\n",
    "dd.collect()\n",
    "print(dd)\n",
    "coeff_ab.show()"
   ]
  },
  {
   "cell_type": "code",
   "execution_count": null,
   "id": "9e25359c-026f-4374-8db8-65f9ab25e95c",
   "metadata": {},
   "outputs": [],
   "source": []
  }
 ],
 "metadata": {
  "kernelspec": {
   "display_name": "Python 3",
   "language": "python",
   "name": "python3"
  },
  "language_info": {
   "codemirror_mode": {
    "name": "ipython",
    "version": 3
   },
   "file_extension": ".py",
   "mimetype": "text/x-python",
   "name": "python",
   "nbconvert_exporter": "python",
   "pygments_lexer": "ipython3",
   "version": "3.9.10"
  }
 },
 "nbformat": 4,
 "nbformat_minor": 5
}
