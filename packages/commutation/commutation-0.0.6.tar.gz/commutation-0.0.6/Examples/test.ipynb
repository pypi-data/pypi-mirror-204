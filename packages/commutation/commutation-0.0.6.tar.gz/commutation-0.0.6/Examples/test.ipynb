{
 "cells": [
  {
   "cell_type": "code",
   "execution_count": 9,
   "id": "c1fd920e-0153-4873-a071-3005425dba4d",
   "metadata": {},
   "outputs": [
    {
     "data": {
      "text/latex": [
       "$+1 S^x_a -9 S^z_b S^z_c +1 S^x_a S^z_b S^x_a $"
      ],
      "text/plain": [
       "<IPython.core.display.Latex object>"
      ]
     },
     "metadata": {},
     "output_type": "display_data"
    },
    {
     "data": {
      "text/latex": [
       "$+1 S^z_a -9 S^z_b S^z_c +1 S^z_a S^z_b S^z_a $"
      ],
      "text/plain": [
       "<IPython.core.display.Latex object>"
      ]
     },
     "metadata": {},
     "output_type": "display_data"
    }
   ],
   "source": [
    "from SpinTrain import *\n",
    "import numpy as np\n",
    "\n",
    "a = Operator('a','S^x_a')\n",
    "b = Operator('b','S^z_b')\n",
    "c = Operator('c','S^z_c')\n",
    "d = Operator('d','S^z_d')\n",
    "\n",
    "# building everyhting up from elementary operators\n",
    "\n",
    "x = a-9*b*c + a*b*a\n",
    "x.show()\n",
    "a.latex_string = 'S^z_a'\n",
    "x.show()"
   ]
  },
  {
   "cell_type": "code",
   "execution_count": 12,
   "id": "d1fff51f-d768-4f50-b585-bc41cbe0361c",
   "metadata": {},
   "outputs": [
    {
     "name": "stdout",
     "output_type": "stream",
     "text": [
      "True True True\n"
     ]
    },
    {
     "data": {
      "text/plain": [
       "False"
      ]
     },
     "execution_count": 12,
     "metadata": {},
     "output_type": "execute_result"
    }
   ],
   "source": [
    "a2 = Operator('a', 'S^z_a')\n",
    "a3 = Operator('a', 'a')\n",
    "print(a==a2, a==a3, a2==a3)\n",
    "\n",
    "[a,a2] == [a3, b]\n"
   ]
  },
  {
   "cell_type": "code",
   "execution_count": 3,
   "id": "f6033c2c-4762-44e7-8501-9e80264ff73e",
   "metadata": {},
   "outputs": [],
   "source": [
    "# Mutability: Terms and Expressions should only store references to Operators\n",
    "\n",
    "A = a*a\n",
    "B = b*a\n",
    "assert B.ops[1] == a\n",
    "assert B.ops[0] == b"
   ]
  },
  {
   "cell_type": "code",
   "execution_count": 4,
   "id": "e78ef05b-73ef-471e-82f0-9fb272ebe960",
   "metadata": {},
   "outputs": [
    {
     "data": {
      "text/latex": [
       "$+1 S^z_a S^z_b S^z_b S^z_b S^z_a S^z_c S^z_a S^z_a S^z_c S^z_a S^z_b +1 $"
      ],
      "text/plain": [
       "<IPython.core.display.Latex object>"
      ]
     },
     "metadata": {},
     "output_type": "display_data"
    },
    {
     "name": "stdout",
     "output_type": "stream",
     "text": [
      "  +1 a b b b a c a a c a b  +1\n",
      "  +1 c b b a c a a c c  +1 c b b a c a a c d  +1 d b b a c a a c c  +1 d b b a c a a c d  +1\n",
      "  +1 a b b b a c a a c a b  +1\n",
      "  +1 a b b a c a a c c  +1 c b b a c a a c d  +1 d b b a c a a c c  +1 d b b a c a a c d  +1\n"
     ]
    },
    {
     "data": {
      "text/latex": [
       "$+\\frac{1}{1024} S^z_a +1 $"
      ],
      "text/plain": [
       "<IPython.core.display.Latex object>"
      ]
     },
     "metadata": {},
     "output_type": "display_data"
    }
   ],
   "source": [
    "# substitutions!\n",
    "\n",
    "tt = a*b*b*b*a*c*a*a*c*a*b\n",
    "tt2 = a*b*b*b*a*c*a*a*c*a*b\n",
    "assert tt == tt2\n",
    "xx = tt + 1\n",
    "xx.show()\n",
    "\n",
    "assert xx.terms[0].ops[0] == a\n",
    "\n",
    "y = xx.substitute(a*b,c+d)\n",
    "print(xx)\n",
    "print(y)\n",
    "\n",
    "# this is a deep copy\n",
    "y.terms[0].ops[0] = a\n",
    "print(xx)\n",
    "print(y)\n",
    "\n",
    "# multiple substitutions can be chained:\n",
    "q = Fraction(1,4)\n",
    "\n",
    "z = xx.sub(b*b, q).sub(a*a,q).sub(c*c, q).sub(a*a,q).sub(b*b, q).sub(c*c,q)\n",
    "z.show()\n",
    "\n"
   ]
  },
  {
   "cell_type": "code",
   "execution_count": 5,
   "id": "0a016ae4-9d10-419a-8f41-728e194534bc",
   "metadata": {},
   "outputs": [
    {
     "name": "stdout",
     "output_type": "stream",
     "text": [
      "  +7 a b b  +4/5 a c b b  +1 a d b b  +1 a c a a b b  +3 a b b\n"
     ]
    },
    {
     "data": {
      "text/latex": [
       "$+\\frac{4}{5} S^z_b S^z_b +1 S^z_a S^z_a S^z_b S^z_b $"
      ],
      "text/plain": [
       "<IPython.core.display.Latex object>"
      ]
     },
     "metadata": {},
     "output_type": "display_data"
    },
    {
     "data": {
      "text/latex": [
       "$$"
      ],
      "text/plain": [
       "<IPython.core.display.Latex object>"
      ]
     },
     "metadata": {},
     "output_type": "display_data"
    },
    {
     "data": {
      "text/latex": [
       "$+7 S^z_a +\\frac{4}{5} S^z_a S^z_c +1 S^z_a S^z_d +1 S^z_a S^z_c S^z_a S^z_a +3 S^z_a $"
      ],
      "text/plain": [
       "<IPython.core.display.Latex object>"
      ]
     },
     "metadata": {},
     "output_type": "display_data"
    },
    {
     "name": "stdout",
     "output_type": "stream",
     "text": [
      "+1 a * [  +7 b b  +4/5 c b b  +1 d b b  +1 c a a b b  +3 b b  ] =   +7 a b b  +4/5 a c b b  +1 a d b b  +1 a c a a b b  +3 a b b\n",
      "[  +7 a  +4/5 a c  +1 a d  +1 a c a a  +3 a  ] * +1 b b =   +7 a b b  +4/5 a c b b  +1 a d b b  +1 a c a a b b  +3 a b b\n"
     ]
    }
   ],
   "source": [
    "# Factorisation of leading or trailing terms can be done without specifying which term to look for\n",
    "\n",
    "xx = 7*a*b*b + Fraction(4,5)*a*c*b*b + a*d*b*b + a*c*a*a*b*b + 3*a*b*b\n",
    "print(xx)\n",
    "\n",
    "y = xx.coefficient(a*c,'right')\n",
    "y.show()\n",
    "y = xx.coefficient(a*c)\n",
    "y.show()\n",
    "y = xx.coefficient(b*b)\n",
    "y.show()\n",
    "\n",
    "fr, ba = xx.factor('right')\n",
    "print(str(fr) + ' * [' + str(ba) + '  ] = ' +str(fr*ba))\n",
    "\n",
    "fr, ba = xx.factor()\n",
    "print('['+str(fr) + '  ] * ' + str(ba) + ' = ' +str(fr*ba))\n",
    "\n"
   ]
  },
  {
   "cell_type": "code",
   "execution_count": 6,
   "id": "40d1839f-9ee8-47ed-a62b-f4926663509b",
   "metadata": {},
   "outputs": [
    {
     "name": "stdout",
     "output_type": "stream",
     "text": [
      "  +1 a^+ c a^- az  +1 a^+ c a^-  -1 a^+ c a^-\n"
     ]
    },
    {
     "name": "stderr",
     "output_type": "stream",
     "text": [
      "/Users/alaricsanders/Box Sync/PhD/SpinTrain/SpinTrain.py:618: UserWarning: Non-scalar operator \"c\" is not in the commutator database, assuming it commutes...\n",
      "  warn(s)\n"
     ]
    }
   ],
   "source": [
    "ca = CommutatorAlgebra()\n",
    "\n",
    "az = Operator('az','S^+_a')\n",
    "ap = Operator('a^+','S^+_a')\n",
    "am = Operator('a^-','S^-_a')\n",
    "\n",
    "ca.set_commutator(az,ap)(ap)\n",
    "ca.set_commutator(az,am)(-1*am)\n",
    "ca.set_commutator(ap,am)(2*az)\n",
    "\n",
    "xpr = Expression(az*ap*c*am)\n",
    "ca.move_right(xpr, az)\n",
    "print(xpr)\n"
   ]
  },
  {
   "cell_type": "code",
   "execution_count": 7,
   "id": "6ebb9d81-d5de-4485-a9fa-7b9785102b63",
   "metadata": {},
   "outputs": [
    {
     "data": {
      "text/plain": [
       "<SpinTrain.Expression at 0x107ac3910>"
      ]
     },
     "execution_count": 7,
     "metadata": {},
     "output_type": "execute_result"
    }
   ],
   "source": [
    "ca.relations['az']['a^+'][0]"
   ]
  },
  {
   "cell_type": "code",
   "execution_count": 15,
   "id": "22074323-d13b-480f-8e4c-a9a6d5aeb813",
   "metadata": {},
   "outputs": [
    {
     "data": {
      "text/plain": [
       "True"
      ]
     },
     "execution_count": 15,
     "metadata": {},
     "output_type": "execute_result"
    }
   ],
   "source": [
    "isinstance(-1, (int, Fraction, Operator))"
   ]
  },
  {
   "cell_type": "code",
   "execution_count": null,
   "id": "8e348393-e48e-46d1-ac22-b6ba6e61c0f5",
   "metadata": {},
   "outputs": [],
   "source": []
  }
 ],
 "metadata": {
  "kernelspec": {
   "display_name": "Python 3.9.10 64-bit",
   "language": "python",
   "name": "python3910jvsc74a57bd050292dbb1f747f7151d445135d392af3138fb3c65386d17d9510cb605222b10b"
  },
  "language_info": {
   "codemirror_mode": {
    "name": "ipython",
    "version": 3
   },
   "file_extension": ".py",
   "mimetype": "text/x-python",
   "name": "python",
   "nbconvert_exporter": "python",
   "pygments_lexer": "ipython3",
   "version": "3.9.10"
  }
 },
 "nbformat": 4,
 "nbformat_minor": 5
}
